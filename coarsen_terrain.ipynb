{
 "cells": [
  {
   "cell_type": "code",
   "execution_count": 2,
   "id": "0661e1a5",
   "metadata": {},
   "outputs": [
    {
     "name": "stderr",
     "output_type": "stream",
     "text": [
      "/data2/lthapa/miniconda3/envs/ML_py/lib/python3.7/site-packages/geopandas/_compat.py:110: UserWarning: The Shapely GEOS version (3.10.3-CAPI-1.16.1) is incompatible with the GEOS version PyGEOS was compiled with (3.8.1-CAPI-1.13.3). Conversions between both will be slow.\n",
      "  shapely_geos_version, geos_capi_version_string\n"
     ]
    }
   ],
   "source": [
    "import rasterio\n",
    "from rasterio.windows import get_data_window,Window, from_bounds\n",
    "import matplotlib.pyplot as plt\n",
    "from rasterio.plot import show\n",
    "from rasterio.enums import Resampling\n",
    "import pandas as pd\n",
    "import numpy as np\n",
    "from shapely.geometry import Point\n",
    "import geopandas as gpd\n",
    "import datetime\n",
    "from joblib import Parallel, delayed\n",
    "import pyproj\n",
    "import cartopy.crs as ccrs\n",
    "import cartopy.feature as cfeature\n",
    "import xarray as xr\n",
    "from matplotlib import path \n"
   ]
  },
  {
   "cell_type": "code",
   "execution_count": 3,
   "id": "08414edb",
   "metadata": {},
   "outputs": [],
   "source": [
    "#fnction is from here: https://gis.stackexchange.com/questions/71630/subsetting-a-curvilinear-netcdf-file-roms-model-output-using-a-lon-lat-boundin\n",
    "def bbox2ij(lon,lat,bbox):\n",
    "    bbox=np.array(bbox)\n",
    "    mypath=np.array([bbox[[0,1,1,0]],bbox[[2,2,3,3]]]).T\n",
    "    p = path.Path(mypath)\n",
    "    points = np.vstack((lon.flatten(),lat.flatten())).T\n",
    "    n,m = np.shape(lon)\n",
    "    inside = p.contains_points(points).reshape((n,m))\n",
    "    ii,jj = np.meshgrid(range(m),range(n)) #ii is the columns, jj is the rows\n",
    "    return min(ii[inside]),max(ii[inside]),min(jj[inside]),max(jj[inside])"
   ]
  },
  {
   "cell_type": "code",
   "execution_count": 4,
   "id": "b6231658",
   "metadata": {},
   "outputs": [],
   "source": [
    "#LAT and LON are 2d arrays\n",
    "def calculate_grid_cell_corners(LAT, LON):\n",
    "    #we will assume the very edges of the polygons don't touch the boundary of the domain\n",
    "    lat_corners = (LAT[0:(LAT.shape[0]-1),  0:(LAT.shape[1])-1] + LAT[1:(LAT.shape[0]), 1:(LAT.shape[1])])/2\n",
    "    lon_corners = (LON[0:(LAT.shape[0]-1),  0:(LAT.shape[1])-1] + LON[1:(LAT.shape[0]), 1:(LAT.shape[1])])/2\n",
    "    return lat_corners, lon_corners"
   ]
  },
  {
   "cell_type": "code",
   "execution_count": 5,
   "id": "7b6a9e43",
   "metadata": {},
   "outputs": [],
   "source": [
    "#makes and saves a geodataframe of a grid given the center and corner points for that grid as 2D matrices\n",
    "def build_grid_netcdf(LAT_COR, LON_COR, LAT_CTR, LON_CTR, filename):\n",
    "    #loop over the centers\n",
    "    nrows_center = LAT_CTR.shape[0]\n",
    "    ncols_center = LAT_CTR.shape[1]\n",
    "    print(nrows_center, ncols_center)\n",
    "\n",
    "    nrows_corner = LAT_COR.shape[0]\n",
    "    ncols_corner = LAT_COR.shape[1]\n",
    "    print(nrows_corner,ncols_corner)\n",
    "    \n",
    "    rows_ctr = np.arange(nrows_center)\n",
    "    cols_ctr = np.arange(ncols_center)\n",
    "    rows_cor = np.arange(nrows_corner)\n",
    "    cols_cor = np.arange(ncols_corner)\n",
    "\n",
    "    \n",
    "    dat_grid = xr.Dataset(\n",
    "        data_vars = dict(\n",
    "            LAT_CTR=(['rows_ctr','cols_ctr'],LAT_CTR),\n",
    "            LON_CTR=(['rows_ctr','cols_ctr'],LON_CTR),\n",
    "            LAT_COR=(['rows_cor','cols_cor'],LAT_COR),\n",
    "            LON_COR=(['rows_cor','cols_cor'],LON_COR),\n",
    "        ),\n",
    "        \n",
    "        coords = dict(\n",
    "            rows_ctr =(['rows_ctr'],rows_ctr),\n",
    "            cols_ctr =(['cols_ctr'],cols_ctr),\n",
    "            rows_cor =(['rows_cor'],rows_cor),\n",
    "            cols_cor =(['cols_cor'],cols_cor),\n",
    "        \n",
    "        )\n",
    "        \n",
    "    )\n",
    "    print(dat_grid)\n",
    "    dat_grid.to_netcdf(filename+'.nc')"
   ]
  },
  {
   "cell_type": "markdown",
   "id": "85069b5a",
   "metadata": {},
   "source": [
    "# Elevation (from tif file)"
   ]
  },
  {
   "cell_type": "code",
   "execution_count": 32,
   "id": "e55b99e4",
   "metadata": {},
   "outputs": [],
   "source": [
    "def build_one_coarse_elevation_cell(row_select,col_select,ii,jj,numcell):\n",
    "    #print(ii,jj)\n",
    "    win = Window(col_select[jj],row_select[ii],numcell,numcell)\n",
    "    with rasterio.open('/data2/lthapa/static_maps/LF2020_Elev_220_CONUS/Tif/LC20_Elev_220.tif') as src:        \n",
    "        w = src.read(1, window=win)\n",
    "        row_win = np.arange(win.row_off,win.row_off+win.height)\n",
    "        col_win = np.arange(win.col_off,win.col_off+win.width)\n",
    "        COLS_WIN,ROWS_WIN=np.meshgrid(col_win,row_win)\n",
    "        \n",
    "        xs_win, ys_win = rasterio.transform.xy(src.transform, ROWS_WIN, COLS_WIN)\n",
    "    #centers are the middle of the box\n",
    "    y_ctr =(np.amin(ys_win)+np.amax(ys_win))/2\n",
    "    x_ctr =(np.amin(xs_win)+np.amax(xs_win))/2\n",
    "    #print(w_flat)\n",
    "    #print(loadings.loc[w_flat])\n",
    "    \n",
    "\n",
    "    df_cell = pd.DataFrame()\n",
    "    w=w.astype(float)\n",
    "    w[w==-9999] = np.nan\n",
    "    df_cell.loc[0,'mean_elev'] = np.nanmean(w)\n",
    "    df_cell.loc[0,'std_elev'] = np.nanstd(w)\n",
    "    df_cell.loc[0,'y_ctr']=y_ctr\n",
    "    df_cell.loc[0,'x_ctr'] = x_ctr\n",
    "    df_cell.loc[0,'row'] = ii\n",
    "    df_cell.loc[0,'col'] = jj\n",
    "\n",
    "    #toc = datetime.datetime.now()\n",
    "    #print(toc-tic)\n",
    "    return(df_cell.set_index(['row','col']))"
   ]
  },
  {
   "cell_type": "code",
   "execution_count": 33,
   "id": "e7cc2d39",
   "metadata": {},
   "outputs": [
    {
     "name": "stdout",
     "output_type": "stream",
     "text": [
      "1\n",
      "156335 101538\n",
      "3077 4738\n",
      "0:00:18.062976\n"
     ]
    }
   ],
   "source": [
    "#get the dimensions of the whole tif file\n",
    "src = rasterio.open('/data2/lthapa/static_maps/LF2020_Elev_220_CONUS/Tif/LC20_Elev_220.tif') #data to coarsen\n",
    "\n",
    "print(src.count) #number of bands/data layers\n",
    "file_width = src.width\n",
    "file_height = src.height\n",
    "print(file_width, file_height) #1.5e10 points total!\n",
    "\n",
    "row_coarse = np.arange(0, file_height,33)\n",
    "col_coarse = np.arange(0,file_width,33)\n",
    "print(len(row_coarse), len(col_coarse)) #1.5e7 points\n",
    "\n",
    "COLS_WIN,ROWS_WIN=np.meshgrid(col_coarse,row_coarse)\n",
    "\n",
    "#transform the coarsened grid into lat/lon, so we can select the bounding box\n",
    "xs_win, ys_win = rasterio.transform.xy(src.transform, ROWS_WIN, COLS_WIN)\n",
    "\n",
    "source_crs = 'epsg:5070' # Coordinate system of the file, conus Albers\n",
    "target_crs = 'epsg:4326' # Global lat-lon coordinate system\n",
    "\n",
    "conusAlbers_to_latlon = pyproj.Transformer.from_crs(source_crs, target_crs)\n",
    "tic = datetime.datetime.now()\n",
    "lat, lon = conusAlbers_to_latlon.transform(np.array(xs_win), np.array(ys_win))\n",
    "toc = datetime.datetime.now()\n",
    "print(toc-tic)"
   ]
  },
  {
   "cell_type": "code",
   "execution_count": 34,
   "id": "a3995e2e",
   "metadata": {},
   "outputs": [
    {
     "name": "stdout",
     "output_type": "stream",
     "text": [
      "0 2012 77 2398\n",
      "2321 2012\n"
     ]
    },
    {
     "data": {
      "image/png": "[encoded data removed]",
      "text/plain": [
       "<Figure size 1008x432 with 1 Axes>"
      ]
     },
     "metadata": {
      "needs_background": "light"
     },
     "output_type": "display_data"
    }
   ],
   "source": [
    "#select the bounding box\n",
    "i0, i1, j0, j1 = bbox2ij(lon, lat, [-124, -101, 31, 49]) #original one\n",
    "print(i0, i1, j0, j1)\n",
    "\n",
    "#print(lon[j0:j1, i0:i1], lat[j0:j1, i0:i1])\n",
    "row_sel = row_coarse[j0:j1] #indices in the bounding box\n",
    "col_sel = col_coarse[i0:i1]\n",
    "\n",
    "print(len(row_sel), len(col_sel)) #4.6e6 boxes\n",
    "\n",
    "#plot the bounding box, sanity check\n",
    "plt.figure(figsize=(14, 6))\n",
    "ax = plt.axes(projection=ccrs.PlateCarree())\n",
    "plt.scatter(x=lon[j0:j1,i0:i1],y=lat[j0:j1,i0:i1])\n",
    "#plt.scatter(x=lon[j1,i0],y=lat[j1,i0])\n",
    "#plt.scatter(x=lon[j0,i1],y=lat[j0,i1])\n",
    "#plt.scatter(x=lon[j1,i1],y=lat[j1,i1])\n",
    "\n",
    "gl = ax.gridlines(crs=ccrs.PlateCarree(), draw_labels=True,\n",
    "                  linewidth=2, color='gray', alpha=0.5, linestyle='--')\n",
    "ax.add_feature(cfeature.COASTLINE)\n",
    "ax.add_feature(cfeature.STATES)\n",
    "plt.show()"
   ]
  },
  {
   "cell_type": "code",
   "execution_count": 38,
   "id": "5fd2a2a7",
   "metadata": {},
   "outputs": [
    {
     "name": "stdout",
     "output_type": "stream",
     "text": [
      "2023-08-04 15:32:41.079532\n",
      "0:03:58.905400\n",
      "Index(['mean_elev', 'std_elev', 'y_ctr', 'x_ctr'], dtype='object')\n"
     ]
    }
   ],
   "source": [
    "#make the coarse cells\n",
    "tic = datetime.datetime.now()\n",
    "print(tic)\n",
    "coarse_cells = Parallel(n_jobs=12)(delayed(build_one_coarse_elevation_cell)\n",
    "                                 (row_sel,col_sel,xx,yy,33) \n",
    "                                 for xx in range(len(row_sel[0:1000])) for yy in range(len(col_sel[0:100])))\n",
    "toc =datetime.datetime.now()\n",
    "print(toc-tic)\n",
    "coarse_cells_df = pd.concat(coarse_cells)\n",
    "print(coarse_cells_df.columns)"
   ]
  },
  {
   "cell_type": "code",
   "execution_count": 39,
   "id": "ece06532",
   "metadata": {},
   "outputs": [
    {
     "name": "stdout",
     "output_type": "stream",
     "text": [
      "         mean_elev  std_elev      y_ctr      x_ctr\n",
      "row col                                           \n",
      "0.0 0.0        NaN       NaN  3190680.0 -2361900.0\n",
      "0:00:00.028170\n",
      "<xarray.Dataset>\n",
      "Dimensions:    (col: 100, row: 1000)\n",
      "Coordinates:\n",
      "  * row        (row) float64 0.0 1.0 2.0 3.0 4.0 ... 996.0 997.0 998.0 999.0\n",
      "  * col        (col) float64 0.0 1.0 2.0 3.0 4.0 ... 95.0 96.0 97.0 98.0 99.0\n",
      "Data variables:\n",
      "    mean_elev  (row, col) float64 nan nan nan ... 1.321e+03 1.625e+03 1.802e+03\n",
      "    std_elev   (row, col) float64 nan nan nan nan ... 95.75 136.2 116.3 82.96\n",
      "    y_ctr      (row, col) float64 3.191e+06 3.191e+06 ... 2.202e+06 2.202e+06\n",
      "    x_ctr      (row, col) float64 -2.362e+06 -2.361e+06 ... -2.264e+06\n"
     ]
    }
   ],
   "source": [
    "tic = datetime.datetime.now()\n",
    "#coarse_cells_df=coarse_cells_df.reset_index().set_index(['row','col'])\n",
    "print(coarse_cells_df.iloc[0:1])\n",
    "coarse_cells_xr = coarse_cells_df.to_xarray()\n",
    "\n",
    "toc = datetime.datetime.now()\n",
    "print(toc-tic)\n",
    "print(coarse_cells_xr)"
   ]
  },
  {
   "cell_type": "code",
   "execution_count": 40,
   "id": "715d91c6",
   "metadata": {},
   "outputs": [
    {
     "name": "stdout",
     "output_type": "stream",
     "text": [
      "(1000, 100)\n",
      "(999, 99)\n",
      "1000 100\n",
      "999 99\n",
      "<xarray.Dataset>\n",
      "Dimensions:   (cols_cor: 99, cols_ctr: 100, rows_cor: 999, rows_ctr: 1000)\n",
      "Coordinates:\n",
      "  * rows_ctr  (rows_ctr) int64 0 1 2 3 4 5 6 7 ... 993 994 995 996 997 998 999\n",
      "  * cols_ctr  (cols_ctr) int64 0 1 2 3 4 5 6 7 8 ... 91 92 93 94 95 96 97 98 99\n",
      "  * rows_cor  (rows_cor) int64 0 1 2 3 4 5 6 7 ... 992 993 994 995 996 997 998\n",
      "  * cols_cor  (cols_cor) int64 0 1 2 3 4 5 6 7 8 ... 90 91 92 93 94 95 96 97 98\n",
      "Data variables:\n",
      "    LAT_CTR   (rows_ctr, cols_ctr) float64 48.1 48.1 48.1 ... 39.9 39.91 39.91\n",
      "    LON_CTR   (rows_ctr, cols_ctr) float64 -128.0 -128.0 ... -123.1 -123.1\n",
      "    LAT_COR   (rows_cor, cols_cor) float64 48.09 48.1 48.1 ... 39.91 39.91 39.91\n",
      "    LON_COR   (rows_cor, cols_cor) float64 -128.0 -128.0 ... -123.1 -123.1\n",
      "[[-128.03937995 -128.02694467 -128.01450826 ... -126.82788924\n",
      "  -126.81534464 -126.80279892]\n",
      " [-128.03502189 -128.02258804 -128.01015306 ... -126.82367162\n",
      "  -126.81112848 -126.79858423]\n",
      " [-128.03066498 -128.01823256 -128.005799   ... -126.81945511\n",
      "  -126.80691344 -126.79437066]\n",
      " ...\n",
      " [-124.19740619 -124.18626826 -124.17512954 ... -123.11334436\n",
      "  -123.10213016 -123.09091518]\n",
      " [-124.19400139 -124.18286464 -124.1717271  ... -123.1100557\n",
      "  -123.0988427  -123.08762893]\n",
      " [-124.19059738 -124.17946182 -124.16832546 ... -123.10676781\n",
      "  -123.09555602 -123.08434346]]\n",
      "<xarray.Dataset>\n",
      "Dimensions:    (col: 100, row: 1000)\n",
      "Coordinates:\n",
      "  * row        (row) float64 0.0 1.0 2.0 3.0 4.0 ... 996.0 997.0 998.0 999.0\n",
      "  * col        (col) float64 0.0 1.0 2.0 3.0 4.0 ... 95.0 96.0 97.0 98.0 99.0\n",
      "    lat_ctr    (row, col) float64 48.1 48.1 48.1 48.1 ... 39.9 39.9 39.91 39.91\n",
      "    lon_ctr    (row, col) float64 -128.0 -128.0 -128.0 ... -123.1 -123.1 -123.1\n",
      "Data variables:\n",
      "    mean_elev  (row, col) float64 nan nan nan ... 1.321e+03 1.625e+03 1.802e+03\n",
      "    std_elev   (row, col) float64 nan nan nan nan ... 95.75 136.2 116.3 82.96\n",
      "    y_ctr      (row, col) float64 3.191e+06 3.191e+06 ... 2.202e+06 2.202e+06\n",
      "    x_ctr      (row, col) float64 -2.362e+06 -2.361e+06 ... -2.264e+06\n"
     ]
    }
   ],
   "source": [
    "source_crs = 'epsg:5070' # Coordinate system of the file, conus Albers\n",
    "target_crs = 'epsg:4326' # Global lat-lon coordinate system\n",
    "\n",
    "conusAlbers_to_latlon = pyproj.Transformer.from_crs(source_crs, target_crs)\n",
    "lat, lon = conusAlbers_to_latlon.transform(coarse_cells_xr['x_ctr'].values, coarse_cells_xr['y_ctr'].values)\n",
    "\n",
    "print(lat.shape)\n",
    "\n",
    "lat_corners, lon_corners = calculate_grid_cell_corners(lat, lon)\n",
    "print(lat_corners.shape)\n",
    "\n",
    "\n",
    "#MAKE SURE THE PLOT LOOKS GOOD BEFORE DOING THIS\n",
    "#put the grid into a netcdf\n",
    "build_grid_netcdf(lat_corners, lon_corners, lat, lon, 'ELEV_GRID_990M')\n",
    "\n",
    "#save the data in another netcdf\n",
    "coarse_cells_xr=coarse_cells_xr.assign_coords(lat_ctr=(('row', 'col'), lat), \n",
    "                                              lon_ctr=(('row', 'col'), lon))\n",
    "\n",
    "\n",
    "print(coarse_cells_xr['lon_ctr'].values)\n",
    "\n",
    "print(coarse_cells_xr)\n",
    "#coarse_cells_xr.to_netcdf('bobcat_fuel_fwi.nc')\n",
    "coarse_cells_xr.to_netcdf('elev_990_test.nc')"
   ]
  },
  {
   "cell_type": "code",
   "execution_count": null,
   "id": "0b43ab21",
   "metadata": {},
   "outputs": [],
   "source": []
  },
  {
   "cell_type": "code",
   "execution_count": null,
   "id": "0080fbdd",
   "metadata": {},
   "outputs": [],
   "source": []
  },
  {
   "cell_type": "code",
   "execution_count": null,
   "id": "2a3b8f1c",
   "metadata": {},
   "outputs": [],
   "source": []
  },
  {
   "cell_type": "markdown",
   "id": "f5008037",
   "metadata": {},
   "source": [
    "# Make slope into 30m netcdf file? (can't allocate memory to do that)"
   ]
  },
  {
   "cell_type": "code",
   "execution_count": 7,
   "id": "a9c8be8f",
   "metadata": {
    "scrolled": true
   },
   "outputs": [
    {
     "name": "stdout",
     "output_type": "stream",
     "text": [
      "1\n",
      "156335 101538\n",
      "101538 156335\n"
     ]
    },
    {
     "ename": "MemoryError",
     "evalue": "Unable to allocate 118. GiB for an array with shape (101538, 156335) and data type int64",
     "output_type": "error",
     "traceback": [
      "\u001b[0;31m---------------------------------------------------------------------------\u001b[0m",
      "\u001b[0;31mMemoryError\u001b[0m                               Traceback (most recent call last)",
      "\u001b[0;32m<ipython-input-7-e050fa8768ad>\u001b[0m in \u001b[0;36m<module>\u001b[0;34m\u001b[0m\n\u001b[1;32m     12\u001b[0m \u001b[0mprint\u001b[0m\u001b[0;34m(\u001b[0m\u001b[0mlen\u001b[0m\u001b[0;34m(\u001b[0m\u001b[0mrow_coarse\u001b[0m\u001b[0;34m)\u001b[0m\u001b[0;34m,\u001b[0m \u001b[0mlen\u001b[0m\u001b[0;34m(\u001b[0m\u001b[0mcol_coarse\u001b[0m\u001b[0;34m)\u001b[0m\u001b[0;34m)\u001b[0m \u001b[0;31m#1.5e7 points\u001b[0m\u001b[0;34m\u001b[0m\u001b[0;34m\u001b[0m\u001b[0m\n\u001b[1;32m     13\u001b[0m \u001b[0;34m\u001b[0m\u001b[0m\n\u001b[0;32m---> 14\u001b[0;31m \u001b[0mCOLS_WIN\u001b[0m\u001b[0;34m,\u001b[0m\u001b[0mROWS_WIN\u001b[0m\u001b[0;34m=\u001b[0m\u001b[0mnp\u001b[0m\u001b[0;34m.\u001b[0m\u001b[0mmeshgrid\u001b[0m\u001b[0;34m(\u001b[0m\u001b[0mcol_coarse\u001b[0m\u001b[0;34m,\u001b[0m\u001b[0mrow_coarse\u001b[0m\u001b[0;34m)\u001b[0m\u001b[0;34m\u001b[0m\u001b[0;34m\u001b[0m\u001b[0m\n\u001b[0m\u001b[1;32m     15\u001b[0m \u001b[0;34m\u001b[0m\u001b[0m\n\u001b[1;32m     16\u001b[0m \u001b[0;31m#transform the coarsened grid into lat/lon, so we can select the bounding box\u001b[0m\u001b[0;34m\u001b[0m\u001b[0;34m\u001b[0m\u001b[0;34m\u001b[0m\u001b[0m\n",
      "\u001b[0;32m<__array_function__ internals>\u001b[0m in \u001b[0;36mmeshgrid\u001b[0;34m(*args, **kwargs)\u001b[0m\n",
      "\u001b[0;32m/data2/lthapa/miniconda3/envs/ML_py/lib/python3.7/site-packages/numpy/lib/function_base.py\u001b[0m in \u001b[0;36mmeshgrid\u001b[0;34m(copy, sparse, indexing, *xi)\u001b[0m\n\u001b[1;32m   4371\u001b[0m \u001b[0;34m\u001b[0m\u001b[0m\n\u001b[1;32m   4372\u001b[0m     \u001b[0;32mif\u001b[0m \u001b[0mcopy\u001b[0m\u001b[0;34m:\u001b[0m\u001b[0;34m\u001b[0m\u001b[0;34m\u001b[0m\u001b[0m\n\u001b[0;32m-> 4373\u001b[0;31m         \u001b[0moutput\u001b[0m \u001b[0;34m=\u001b[0m \u001b[0;34m[\u001b[0m\u001b[0mx\u001b[0m\u001b[0;34m.\u001b[0m\u001b[0mcopy\u001b[0m\u001b[0;34m(\u001b[0m\u001b[0;34m)\u001b[0m \u001b[0;32mfor\u001b[0m \u001b[0mx\u001b[0m \u001b[0;32min\u001b[0m \u001b[0moutput\u001b[0m\u001b[0;34m]\u001b[0m\u001b[0;34m\u001b[0m\u001b[0;34m\u001b[0m\u001b[0m\n\u001b[0m\u001b[1;32m   4374\u001b[0m \u001b[0;34m\u001b[0m\u001b[0m\n\u001b[1;32m   4375\u001b[0m     \u001b[0;32mreturn\u001b[0m \u001b[0moutput\u001b[0m\u001b[0;34m\u001b[0m\u001b[0;34m\u001b[0m\u001b[0m\n",
      "\u001b[0;32m/data2/lthapa/miniconda3/envs/ML_py/lib/python3.7/site-packages/numpy/lib/function_base.py\u001b[0m in \u001b[0;36m<listcomp>\u001b[0;34m(.0)\u001b[0m\n\u001b[1;32m   4371\u001b[0m \u001b[0;34m\u001b[0m\u001b[0m\n\u001b[1;32m   4372\u001b[0m     \u001b[0;32mif\u001b[0m \u001b[0mcopy\u001b[0m\u001b[0;34m:\u001b[0m\u001b[0;34m\u001b[0m\u001b[0;34m\u001b[0m\u001b[0m\n\u001b[0;32m-> 4373\u001b[0;31m         \u001b[0moutput\u001b[0m \u001b[0;34m=\u001b[0m \u001b[0;34m[\u001b[0m\u001b[0mx\u001b[0m\u001b[0;34m.\u001b[0m\u001b[0mcopy\u001b[0m\u001b[0;34m(\u001b[0m\u001b[0;34m)\u001b[0m \u001b[0;32mfor\u001b[0m \u001b[0mx\u001b[0m \u001b[0;32min\u001b[0m \u001b[0moutput\u001b[0m\u001b[0;34m]\u001b[0m\u001b[0;34m\u001b[0m\u001b[0;34m\u001b[0m\u001b[0m\n\u001b[0m\u001b[1;32m   4374\u001b[0m \u001b[0;34m\u001b[0m\u001b[0m\n\u001b[1;32m   4375\u001b[0m     \u001b[0;32mreturn\u001b[0m \u001b[0moutput\u001b[0m\u001b[0;34m\u001b[0m\u001b[0;34m\u001b[0m\u001b[0m\n",
      "\u001b[0;31mMemoryError\u001b[0m: Unable to allocate 118. GiB for an array with shape (101538, 156335) and data type int64"
     ]
    }
   ],
   "source": [
    "#STEP 1: project the lat/lon\n",
    "#get the dimensions of the whole tif file\n",
    "src = rasterio.open('/data2/lthapa/static_maps/LF2020_SlpD_220_CONUS/Tif/LC20_SlpD_220.tif') #data to coarsen\n",
    "\n",
    "print(src.count) #number of bands/data layers\n",
    "file_width = src.width\n",
    "file_height = src.height\n",
    "print(file_width, file_height) #1.5e10 points total!\n",
    "\n",
    "row_coarse = np.arange(0, file_height)#,66)\n",
    "col_coarse = np.arange(0,file_width)#,66)\n",
    "print(len(row_coarse), len(col_coarse)) #1.5e7 points\n",
    "\n",
    "COLS_WIN,ROWS_WIN=np.meshgrid(col_coarse,row_coarse)\n",
    "\n",
    "#transform the coarsened grid into lat/lon, so we can select the bounding box\n",
    "xs_win, ys_win = rasterio.transform.xy(src.transform, ROWS_WIN, COLS_WIN)\n",
    "\n",
    "source_crs = 'epsg:5070' # Coordinate system of the file, conus Albers\n",
    "target_crs = 'epsg:4326' # Global lat-lon coordinate system\n",
    "\n",
    "conusAlbers_to_latlon = pyproj.Transformer.from_crs(source_crs, target_crs)\n",
    "tic = datetime.datetime.now()\n",
    "lat, lon = conusAlbers_to_latlon.transform(np.array(xs_win), np.array(ys_win))\n",
    "toc = datetime.datetime.now()\n",
    "print(toc-tic)"
   ]
  },
  {
   "cell_type": "code",
   "execution_count": null,
   "id": "077fc9ca",
   "metadata": {},
   "outputs": [],
   "source": [
    "#select the bounding box\n",
    "i0, i1, j0, j1 = bbox2ij(lon, lat, [-124, -101, 31, 49]) #original one\n",
    "print(i0, i1, j0, j1)\n",
    "\n",
    "#print(lon[j0:j1, i0:i1], lat[j0:j1, i0:i1])\n",
    "row_sel = row_coarse[j0:j1] #indices in the bounding box\n",
    "col_sel = col_coarse[i0:i1]\n",
    "\n",
    "print(len(row_sel), len(col_sel)) #4.6e6 boxes"
   ]
  },
  {
   "cell_type": "code",
   "execution_count": null,
   "id": "9539579b",
   "metadata": {},
   "outputs": [],
   "source": []
  },
  {
   "cell_type": "markdown",
   "id": "70553661",
   "metadata": {},
   "source": [
    "# Slope (from tif file)"
   ]
  },
  {
   "cell_type": "code",
   "execution_count": 6,
   "id": "85583be7",
   "metadata": {},
   "outputs": [],
   "source": [
    "def build_one_coarse_slope_cell(row_select,col_select,ii,jj,numcell):\n",
    "    #print(ii,jj)\n",
    "    win = Window(col_select[jj],row_select[ii],numcell,numcell)\n",
    "    with rasterio.open('/data2/lthapa/static_maps/LF2020_SlpD_220_CONUS/Tif/LC20_SlpD_220.tif') as src:        \n",
    "        w = src.read(1, window=win)\n",
    "        row_win = np.arange(win.row_off,win.row_off+win.height)\n",
    "        col_win = np.arange(win.col_off,win.col_off+win.width)\n",
    "        COLS_WIN,ROWS_WIN=np.meshgrid(col_win,row_win)\n",
    "        \n",
    "        xs_win, ys_win = rasterio.transform.xy(src.transform, ROWS_WIN, COLS_WIN)\n",
    "    #centers are the middle of the box\n",
    "    y_ctr =(np.amin(ys_win)+np.amax(ys_win))/2\n",
    "    x_ctr =(np.amin(xs_win)+np.amax(xs_win))/2\n",
    "    #print(w_flat)\n",
    "    #print(loadings.loc[w_flat])\n",
    "    \n",
    "\n",
    "    df_cell = pd.DataFrame()\n",
    "    w=w.astype(float)\n",
    "    w[w==-9999] = np.nan\n",
    "    df_cell.loc[0,'mean_slope'] = np.nanmean(w)\n",
    "    df_cell.loc[0,'std_slope'] = np.nanstd(w)\n",
    "    df_cell.loc[0,'y_ctr']=y_ctr\n",
    "    df_cell.loc[0,'x_ctr'] = x_ctr\n",
    "    df_cell.loc[0,'row'] = ii\n",
    "    df_cell.loc[0,'col'] = jj\n",
    "\n",
    "    #toc = datetime.datetime.now()\n",
    "    #print(toc-tic)\n",
    "    return(df_cell.set_index(['row','col']))"
   ]
  },
  {
   "cell_type": "code",
   "execution_count": 22,
   "id": "215a5851",
   "metadata": {},
   "outputs": [
    {
     "name": "stdout",
     "output_type": "stream",
     "text": [
      "1\n",
      "156335 101538\n",
      "1539 2369\n",
      "0:00:04.438557\n"
     ]
    }
   ],
   "source": [
    "#get the dimensions of the whole tif file\n",
    "src = rasterio.open('/data2/lthapa/static_maps/LF2020_SlpD_220_CONUS/Tif/LC20_SlpD_220.tif') #data to coarsen\n",
    "\n",
    "print(src.count) #number of bands/data layers\n",
    "file_width = src.width\n",
    "file_height = src.height\n",
    "print(file_width, file_height) #1.5e10 points total!\n",
    "\n",
    "row_coarse = np.arange(0, file_height,66)\n",
    "col_coarse = np.arange(0,file_width,66)\n",
    "print(len(row_coarse), len(col_coarse)) #1.5e7 points\n",
    "\n",
    "COLS_WIN,ROWS_WIN=np.meshgrid(col_coarse,row_coarse)\n",
    "\n",
    "#transform the coarsened grid into lat/lon, so we can select the bounding box\n",
    "xs_win, ys_win = rasterio.transform.xy(src.transform, ROWS_WIN, COLS_WIN)\n",
    "\n",
    "source_crs = 'epsg:5070' # Coordinate system of the file, conus Albers\n",
    "target_crs = 'epsg:4326' # Global lat-lon coordinate system\n",
    "\n",
    "conusAlbers_to_latlon = pyproj.Transformer.from_crs(source_crs, target_crs)\n",
    "tic = datetime.datetime.now()\n",
    "lat, lon = conusAlbers_to_latlon.transform(np.array(xs_win), np.array(ys_win))\n",
    "toc = datetime.datetime.now()\n",
    "print(toc-tic)"
   ]
  },
  {
   "cell_type": "code",
   "execution_count": 23,
   "id": "a988213c",
   "metadata": {},
   "outputs": [
    {
     "name": "stdout",
     "output_type": "stream",
     "text": [
      "0 1006 39 1199\n",
      "1160 1006\n"
     ]
    },
    {
     "data": {
      "image/png": "[encoded data removed]",
      "text/plain": [
       "<Figure size 1008x432 with 1 Axes>"
      ]
     },
     "metadata": {
      "needs_background": "light"
     },
     "output_type": "display_data"
    }
   ],
   "source": [
    "#select the bounding box\n",
    "i0, i1, j0, j1 = bbox2ij(lon, lat, [-124, -101, 31, 49]) #original one\n",
    "print(i0, i1, j0, j1)\n",
    "\n",
    "#print(lon[j0:j1, i0:i1], lat[j0:j1, i0:i1])\n",
    "row_sel = row_coarse[j0:j1] #indices in the bounding box\n",
    "col_sel = col_coarse[i0:i1]\n",
    "\n",
    "print(len(row_sel), len(col_sel)) #4.6e6 boxes\n",
    "\n",
    "#plot the bounding box, sanity check\n",
    "plt.figure(figsize=(14, 6))\n",
    "ax = plt.axes(projection=ccrs.PlateCarree())\n",
    "plt.scatter(x=lon[j0:j1,i0:i1],y=lat[j0:j1,i0:i1])\n",
    "#plt.scatter(x=lon[j1,i0],y=lat[j1,i0])\n",
    "#plt.scatter(x=lon[j0,i1],y=lat[j0,i1])\n",
    "#plt.scatter(x=lon[j1,i1],y=lat[j1,i1])\n",
    "\n",
    "gl = ax.gridlines(crs=ccrs.PlateCarree(), draw_labels=True,\n",
    "                  linewidth=2, color='gray', alpha=0.5, linestyle='--')\n",
    "ax.add_feature(cfeature.COASTLINE)\n",
    "ax.add_feature(cfeature.STATES)\n",
    "plt.show()"
   ]
  },
  {
   "cell_type": "code",
   "execution_count": 24,
   "id": "cd7801e4",
   "metadata": {},
   "outputs": [
    {
     "name": "stdout",
     "output_type": "stream",
     "text": [
      "2023-08-04 14:57:01.829272\n",
      "0:02:36.379397\n",
      "Index(['mean_slope', 'std_slope', 'y_ctr', 'x_ctr'], dtype='object')\n"
     ]
    }
   ],
   "source": [
    "#make the coarse cells\n",
    "tic = datetime.datetime.now()\n",
    "print(tic)\n",
    "coarse_cells = Parallel(n_jobs=12)(delayed(build_one_coarse_slope_cell)\n",
    "                                 (row_sel,col_sel,xx,yy,33) \n",
    "                                 for xx in range(len(row_sel[0:1000])) for yy in range(len(col_sel[0:100])))\n",
    "toc =datetime.datetime.now()\n",
    "print(toc-tic)\n",
    "coarse_cells_df = pd.concat(coarse_cells)\n",
    "print(coarse_cells_df.columns)"
   ]
  },
  {
   "cell_type": "code",
   "execution_count": 25,
   "id": "fb31ab48",
   "metadata": {},
   "outputs": [
    {
     "name": "stdout",
     "output_type": "stream",
     "text": [
      "         mean_slope  std_slope      y_ctr      x_ctr\n",
      "row col                                             \n",
      "0.0 0.0         NaN        NaN  3189690.0 -2361900.0\n",
      "0:00:00.014885\n",
      "<xarray.Dataset>\n",
      "Dimensions:     (col: 100, row: 1000)\n",
      "Coordinates:\n",
      "  * row         (row) float64 0.0 1.0 2.0 3.0 4.0 ... 996.0 997.0 998.0 999.0\n",
      "  * col         (col) float64 0.0 1.0 2.0 3.0 4.0 ... 95.0 96.0 97.0 98.0 99.0\n",
      "Data variables:\n",
      "    mean_slope  (row, col) float64 nan nan nan nan nan ... nan nan nan nan nan\n",
      "    std_slope   (row, col) float64 nan nan nan nan nan ... nan nan nan nan nan\n",
      "    y_ctr       (row, col) float64 3.19e+06 3.19e+06 ... 1.212e+06 1.212e+06\n",
      "    x_ctr       (row, col) float64 -2.362e+06 -2.36e+06 ... -2.166e+06\n"
     ]
    }
   ],
   "source": [
    "tic = datetime.datetime.now()\n",
    "#coarse_cells_df=coarse_cells_df.reset_index().set_index(['row','col'])\n",
    "print(coarse_cells_df.iloc[0:1])\n",
    "coarse_cells_xr = coarse_cells_df.to_xarray()\n",
    "\n",
    "toc = datetime.datetime.now()\n",
    "print(toc-tic)\n",
    "print(coarse_cells_xr)"
   ]
  },
  {
   "cell_type": "code",
   "execution_count": 26,
   "id": "2d91e521",
   "metadata": {},
   "outputs": [
    {
     "name": "stdout",
     "output_type": "stream",
     "text": [
      "(1000, 100)\n",
      "(999, 99)\n",
      "1000 100\n",
      "999 99\n",
      "<xarray.Dataset>\n",
      "Dimensions:   (cols_cor: 99, cols_ctr: 100, rows_cor: 999, rows_ctr: 1000)\n",
      "Coordinates:\n",
      "  * rows_ctr  (rows_ctr) int64 0 1 2 3 4 5 6 7 ... 993 994 995 996 997 998 999\n",
      "  * cols_ctr  (cols_ctr) int64 0 1 2 3 4 5 6 7 8 ... 91 92 93 94 95 96 97 98 99\n",
      "  * rows_cor  (rows_cor) int64 0 1 2 3 4 5 6 7 ... 992 993 994 995 996 997 998\n",
      "  * cols_cor  (cols_cor) int64 0 1 2 3 4 5 6 7 8 ... 90 91 92 93 94 95 96 97 98\n",
      "Data variables:\n",
      "    LAT_CTR   (rows_ctr, cols_ctr) float64 48.09 48.09 48.1 ... 31.59 31.59\n",
      "    LON_CTR   (rows_ctr, cols_ctr) float64 -128.0 -128.0 ... -119.2 -119.1\n",
      "    LAT_COR   (rows_cor, cols_cor) float64 48.08 48.09 48.09 ... 31.59 31.6 31.6\n",
      "    LON_COR   (rows_cor, cols_cor) float64 -128.0 -128.0 ... -119.2 -119.2\n",
      "[[-128.03502189 -128.01015306 -127.98527966 ... -125.60184928\n",
      "  -125.57654878 -125.55124395]\n",
      " [-128.02630921 -128.00144608 -127.9765784  ... -125.59370612\n",
      "  -125.56841166 -125.54311287]\n",
      " [-128.01760108 -127.99274365 -127.96788168 ... -125.5855673\n",
      "  -125.56027888 -125.53498612]\n",
      " ...\n",
      " [-121.15596645 -121.13584824 -121.11572772 ... -119.19396898\n",
      "  -119.17363369 -119.15329623]\n",
      " [-121.15051451 -121.13040025 -121.11028368 ... -119.18890632\n",
      "  -119.16857511 -119.14824173]\n",
      " [-121.14506488 -121.12495456 -121.10484193 ... -119.18384582\n",
      "  -119.16351869 -119.14318939]]\n",
      "<xarray.Dataset>\n",
      "Dimensions:     (col: 100, row: 1000)\n",
      "Coordinates:\n",
      "  * row         (row) float64 0.0 1.0 2.0 3.0 4.0 ... 996.0 997.0 998.0 999.0\n",
      "  * col         (col) float64 0.0 1.0 2.0 3.0 4.0 ... 95.0 96.0 97.0 98.0 99.0\n",
      "    lat_ctr     (row, col) float64 48.09 48.09 48.1 48.11 ... 31.59 31.59 31.59\n",
      "    lon_ctr     (row, col) float64 -128.0 -128.0 -128.0 ... -119.2 -119.2 -119.1\n",
      "Data variables:\n",
      "    mean_slope  (row, col) float64 nan nan nan nan nan ... nan nan nan nan nan\n",
      "    std_slope   (row, col) float64 nan nan nan nan nan ... nan nan nan nan nan\n",
      "    y_ctr       (row, col) float64 3.19e+06 3.19e+06 ... 1.212e+06 1.212e+06\n",
      "    x_ctr       (row, col) float64 -2.362e+06 -2.36e+06 ... -2.166e+06\n"
     ]
    }
   ],
   "source": [
    "source_crs = 'epsg:5070' # Coordinate system of the file, conus Albers\n",
    "target_crs = 'epsg:4326' # Global lat-lon coordinate system\n",
    "\n",
    "conusAlbers_to_latlon = pyproj.Transformer.from_crs(source_crs, target_crs)\n",
    "lat, lon = conusAlbers_to_latlon.transform(coarse_cells_xr['x_ctr'].values, coarse_cells_xr['y_ctr'].values)\n",
    "\n",
    "print(lat.shape)\n",
    "\n",
    "lat_corners, lon_corners = calculate_grid_cell_corners(lat, lon)\n",
    "print(lat_corners.shape)\n",
    "\n",
    "\n",
    "#MAKE SURE THE PLOT LOOKS GOOD BEFORE DOING THIS\n",
    "#put the grid into a netcdf\n",
    "build_grid_netcdf(lat_corners, lon_corners, lat, lon, 'SLOPE_GRID_990M')\n",
    "\n",
    "#save the data in another netcdf\n",
    "coarse_cells_xr=coarse_cells_xr.assign_coords(lat_ctr=(('row', 'col'), lat), \n",
    "                                              lon_ctr=(('row', 'col'), lon))\n",
    "\n",
    "\n",
    "print(coarse_cells_xr['lon_ctr'].values)\n",
    "\n",
    "print(coarse_cells_xr)\n",
    "#coarse_cells_xr.to_netcdf('bobcat_fuel_fwi.nc')\n",
    "coarse_cells_xr.to_netcdf('slope_990_test.nc')"
   ]
  },
  {
   "cell_type": "code",
   "execution_count": null,
   "id": "8b51689c",
   "metadata": {},
   "outputs": [],
   "source": []
  }
 ],
 "metadata": {
  "kernelspec": {
   "display_name": "Python 3",
   "language": "python",
   "name": "python3"
  },
  "language_info": {
   "codemirror_mode": {
    "name": "ipython",
    "version": 3
   },
   "file_extension": ".py",
   "mimetype": "text/x-python",
   "name": "python",
   "nbconvert_exporter": "python",
   "pygments_lexer": "ipython3",
   "version": "3.7.6"
  },
  "varInspector": {
   "cols": {
    "lenName": 16,
    "lenType": 16,
    "lenVar": 40
   },
   "kernels_config": {
    "python": {
     "delete_cmd_postfix": "",
     "delete_cmd_prefix": "del ",
     "library": "var_list.py",
     "varRefreshCmd": "print(var_dic_list())"
    },
    "r": {
     "delete_cmd_postfix": ") ",
     "delete_cmd_prefix": "rm(",
     "library": "var_list.r",
     "varRefreshCmd": "cat(var_dic_list()) "
    }
   },
   "types_to_exclude": [
    "module",
    "function",
    "builtin_function_or_method",
    "instance",
    "_Feature"
   ],
   "window_display": false
  }
 },
 "nbformat": 4,
 "nbformat_minor": 5
}
