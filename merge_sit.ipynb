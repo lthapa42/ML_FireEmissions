{
 "cells": [
  {
   "cell_type": "code",
   "execution_count": 2,
   "metadata": {},
   "outputs": [],
   "source": [
    "import pandas as pd\n",
    "pd.set_option(\"display.max_rows\", None, \"display.max_columns\", None)\n",
    "from datetime import datetime, timedelta"
   ]
  },
  {
   "cell_type": "code",
   "execution_count": 3,
   "metadata": {},
   "outputs": [
    {
     "name": "stdout",
     "output_type": "stream",
     "text": [
      "Index(['ID', 'INC209R_IDENTIFIER', 'INC_IDENTIFIER',\n",
      "       'DONWCGU_PROT_UNIT_IDENTIFIER', 'REPORT_FROM_DATE', 'REPORT_TO_DATE',\n",
      "       'STATUS', 'INCIDENT_DESCRIPTION', 'INCIDENT_COMMANDERS_NARR',\n",
      "       'CURR_INCIDENT_AREA',\n",
      "       ...\n",
      "       'SECNDRY_FUEL_MODEL_IDENTIFIER', 'ADDNTL_FUEL_MODEL_IDENTIFIER',\n",
      "       'GEN_FIRE_BEHAVIOR_IDENTIFIER', 'FIRE_BEHAVIOR_1_IDENTIFIER',\n",
      "       'FIRE_BEHAVIOR_2_IDENTIFIER', 'FIRE_BEHAVIOR_3_IDENTIFIER',\n",
      "       'ROAD_CLOSURE_FLAG', 'AREA_CLOSURE_FLAG', 'TRAIL_CLOSURE_FLAG',\n",
      "       'UNIFIED_COMMAND_FLAG'],\n",
      "      dtype='object', length=107)\n"
     ]
    }
   ],
   "source": [
    "sit_2019 = pd.read_excel('SIT209_HISTORY_INCIDENT_209_REPORTS_2019.xlsx')\n",
    "print(sit_2019.columns)"
   ]
  },
  {
   "cell_type": "code",
   "execution_count": 9,
   "metadata": {},
   "outputs": [
    {
     "ename": "KeyError",
     "evalue": "\"['INCIDENT_AREA'] not in index\"",
     "output_type": "error",
     "traceback": [
      "\u001b[0;31m---------------------------------------------------------------------------\u001b[0m",
      "\u001b[0;31mKeyError\u001b[0m                                  Traceback (most recent call last)",
      "\u001b[0;32m<ipython-input-9-e133c962cf06>\u001b[0m in \u001b[0;36m<module>\u001b[0;34m\u001b[0m\n\u001b[0;32m----> 1\u001b[0;31m \u001b[0mprint\u001b[0m\u001b[0;34m(\u001b[0m\u001b[0msit_2019\u001b[0m\u001b[0;34m[\u001b[0m\u001b[0;34m[\u001b[0m\u001b[0;34m'INC_IDENTIFIER'\u001b[0m\u001b[0;34m,\u001b[0m\u001b[0;34m'CURR_INCIDENT_AREA'\u001b[0m\u001b[0;34m,\u001b[0m\u001b[0;34m'INCIDENT_AREA'\u001b[0m\u001b[0;34m]\u001b[0m\u001b[0;34m]\u001b[0m\u001b[0;34m.\u001b[0m\u001b[0miloc\u001b[0m\u001b[0;34m[\u001b[0m\u001b[0;36m0\u001b[0m\u001b[0;34m:\u001b[0m\u001b[0;36m100\u001b[0m\u001b[0;34m]\u001b[0m\u001b[0;34m)\u001b[0m\u001b[0;34m\u001b[0m\u001b[0;34m\u001b[0m\u001b[0m\n\u001b[0m\u001b[1;32m      2\u001b[0m \u001b[0mprint\u001b[0m\u001b[0;34m(\u001b[0m\u001b[0msit_2019\u001b[0m\u001b[0;34m[\u001b[0m\u001b[0;34m[\u001b[0m\u001b[0;34m'INC_IDENTIFIER'\u001b[0m\u001b[0;34m,\u001b[0m\u001b[0;34m'CURR_INCIDENT_AREA'\u001b[0m\u001b[0;34m,\u001b[0m\u001b[0;34m'INCIDENT_AREA'\u001b[0m\u001b[0;34m]\u001b[0m\u001b[0;34m]\u001b[0m\u001b[0;34m[\u001b[0m\u001b[0msit_2019\u001b[0m\u001b[0;34m[\u001b[0m\u001b[0;34m'INC_IDENTIFIER'\u001b[0m\u001b[0;34m]\u001b[0m\u001b[0;34m==\u001b[0m\u001b[0;36m10671438\u001b[0m\u001b[0;34m]\u001b[0m\u001b[0;34m)\u001b[0m\u001b[0;34m\u001b[0m\u001b[0;34m\u001b[0m\u001b[0m\n",
      "\u001b[0;32m~/anaconda3/envs/ML_py/lib/python3.7/site-packages/pandas/core/frame.py\u001b[0m in \u001b[0;36m__getitem__\u001b[0;34m(self, key)\u001b[0m\n\u001b[1;32m   3028\u001b[0m             \u001b[0;32mif\u001b[0m \u001b[0mis_iterator\u001b[0m\u001b[0;34m(\u001b[0m\u001b[0mkey\u001b[0m\u001b[0;34m)\u001b[0m\u001b[0;34m:\u001b[0m\u001b[0;34m\u001b[0m\u001b[0;34m\u001b[0m\u001b[0m\n\u001b[1;32m   3029\u001b[0m                 \u001b[0mkey\u001b[0m \u001b[0;34m=\u001b[0m \u001b[0mlist\u001b[0m\u001b[0;34m(\u001b[0m\u001b[0mkey\u001b[0m\u001b[0;34m)\u001b[0m\u001b[0;34m\u001b[0m\u001b[0;34m\u001b[0m\u001b[0m\n\u001b[0;32m-> 3030\u001b[0;31m             \u001b[0mindexer\u001b[0m \u001b[0;34m=\u001b[0m \u001b[0mself\u001b[0m\u001b[0;34m.\u001b[0m\u001b[0mloc\u001b[0m\u001b[0;34m.\u001b[0m\u001b[0m_get_listlike_indexer\u001b[0m\u001b[0;34m(\u001b[0m\u001b[0mkey\u001b[0m\u001b[0;34m,\u001b[0m \u001b[0maxis\u001b[0m\u001b[0;34m=\u001b[0m\u001b[0;36m1\u001b[0m\u001b[0;34m,\u001b[0m \u001b[0mraise_missing\u001b[0m\u001b[0;34m=\u001b[0m\u001b[0;32mTrue\u001b[0m\u001b[0;34m)\u001b[0m\u001b[0;34m[\u001b[0m\u001b[0;36m1\u001b[0m\u001b[0;34m]\u001b[0m\u001b[0;34m\u001b[0m\u001b[0;34m\u001b[0m\u001b[0m\n\u001b[0m\u001b[1;32m   3031\u001b[0m \u001b[0;34m\u001b[0m\u001b[0m\n\u001b[1;32m   3032\u001b[0m         \u001b[0;31m# take() does not accept boolean indexers\u001b[0m\u001b[0;34m\u001b[0m\u001b[0;34m\u001b[0m\u001b[0;34m\u001b[0m\u001b[0m\n",
      "\u001b[0;32m~/anaconda3/envs/ML_py/lib/python3.7/site-packages/pandas/core/indexing.py\u001b[0m in \u001b[0;36m_get_listlike_indexer\u001b[0;34m(self, key, axis, raise_missing)\u001b[0m\n\u001b[1;32m   1264\u001b[0m             \u001b[0mkeyarr\u001b[0m\u001b[0;34m,\u001b[0m \u001b[0mindexer\u001b[0m\u001b[0;34m,\u001b[0m \u001b[0mnew_indexer\u001b[0m \u001b[0;34m=\u001b[0m \u001b[0max\u001b[0m\u001b[0;34m.\u001b[0m\u001b[0m_reindex_non_unique\u001b[0m\u001b[0;34m(\u001b[0m\u001b[0mkeyarr\u001b[0m\u001b[0;34m)\u001b[0m\u001b[0;34m\u001b[0m\u001b[0;34m\u001b[0m\u001b[0m\n\u001b[1;32m   1265\u001b[0m \u001b[0;34m\u001b[0m\u001b[0m\n\u001b[0;32m-> 1266\u001b[0;31m         \u001b[0mself\u001b[0m\u001b[0;34m.\u001b[0m\u001b[0m_validate_read_indexer\u001b[0m\u001b[0;34m(\u001b[0m\u001b[0mkeyarr\u001b[0m\u001b[0;34m,\u001b[0m \u001b[0mindexer\u001b[0m\u001b[0;34m,\u001b[0m \u001b[0maxis\u001b[0m\u001b[0;34m,\u001b[0m \u001b[0mraise_missing\u001b[0m\u001b[0;34m=\u001b[0m\u001b[0mraise_missing\u001b[0m\u001b[0;34m)\u001b[0m\u001b[0;34m\u001b[0m\u001b[0;34m\u001b[0m\u001b[0m\n\u001b[0m\u001b[1;32m   1267\u001b[0m         \u001b[0;32mreturn\u001b[0m \u001b[0mkeyarr\u001b[0m\u001b[0;34m,\u001b[0m \u001b[0mindexer\u001b[0m\u001b[0;34m\u001b[0m\u001b[0;34m\u001b[0m\u001b[0m\n\u001b[1;32m   1268\u001b[0m \u001b[0;34m\u001b[0m\u001b[0m\n",
      "\u001b[0;32m~/anaconda3/envs/ML_py/lib/python3.7/site-packages/pandas/core/indexing.py\u001b[0m in \u001b[0;36m_validate_read_indexer\u001b[0;34m(self, key, indexer, axis, raise_missing)\u001b[0m\n\u001b[1;32m   1314\u001b[0m             \u001b[0;32mif\u001b[0m \u001b[0mraise_missing\u001b[0m\u001b[0;34m:\u001b[0m\u001b[0;34m\u001b[0m\u001b[0;34m\u001b[0m\u001b[0m\n\u001b[1;32m   1315\u001b[0m                 \u001b[0mnot_found\u001b[0m \u001b[0;34m=\u001b[0m \u001b[0mlist\u001b[0m\u001b[0;34m(\u001b[0m\u001b[0mset\u001b[0m\u001b[0;34m(\u001b[0m\u001b[0mkey\u001b[0m\u001b[0;34m)\u001b[0m \u001b[0;34m-\u001b[0m \u001b[0mset\u001b[0m\u001b[0;34m(\u001b[0m\u001b[0max\u001b[0m\u001b[0;34m)\u001b[0m\u001b[0;34m)\u001b[0m\u001b[0;34m\u001b[0m\u001b[0;34m\u001b[0m\u001b[0m\n\u001b[0;32m-> 1316\u001b[0;31m                 \u001b[0;32mraise\u001b[0m \u001b[0mKeyError\u001b[0m\u001b[0;34m(\u001b[0m\u001b[0;34mf\"{not_found} not in index\"\u001b[0m\u001b[0;34m)\u001b[0m\u001b[0;34m\u001b[0m\u001b[0;34m\u001b[0m\u001b[0m\n\u001b[0m\u001b[1;32m   1317\u001b[0m \u001b[0;34m\u001b[0m\u001b[0m\n\u001b[1;32m   1318\u001b[0m             \u001b[0mnot_found\u001b[0m \u001b[0;34m=\u001b[0m \u001b[0mkey\u001b[0m\u001b[0;34m[\u001b[0m\u001b[0mmissing_mask\u001b[0m\u001b[0;34m]\u001b[0m\u001b[0;34m\u001b[0m\u001b[0;34m\u001b[0m\u001b[0m\n",
      "\u001b[0;31mKeyError\u001b[0m: \"['INCIDENT_AREA'] not in index\""
     ]
    }
   ],
   "source": [
    "print(sit_2019[['INC_IDENTIFIER','CURR_INCIDENT_AREA','INCIDENT_AREA']].iloc[0:100])\n",
    "print(sit_2019[['INC_IDENTIFIER','CURR_INCIDENT_AREA','INCIDENT_AREA']][sit_2019['INC_IDENTIFIER']==10671438])"
   ]
  },
  {
   "cell_type": "markdown",
   "metadata": {},
   "source": [
    "## Make the merged sit data that is used to calculate the polygons as of 2/22/23"
   ]
  },
  {
   "cell_type": "code",
   "execution_count": 12,
   "metadata": {},
   "outputs": [],
   "source": [
    "#read in data, making sure data type is consistent across all variables\n",
    "sit_2019 = pd.read_excel('SIT209_HISTORY_INCIDENT_209_REPORTS_2019.xlsx', dtype={'EXPECTED_CONTAINMENT_DATE':'datetime64[ns]'})\n",
    "sit_2020 = pd.read_excel('SIT209_HISTORY_INCIDENT_209_REPORTS_2020.xlsx', dtype={'REPORT_FROM_DATE': 'datetime64[ns]', \n",
    "                                                                                     'REPORT_TO_DATE': 'datetime64[ns]', \n",
    "                                                                                    'ANTICIPATED_COMPLETION_DATE': 'datetime64[ns]', \n",
    "                                                                                    'PROJ_SIG_RES_DEMOB_START_DATE': 'datetime64[ns]',\n",
    "                                                                                     'PREPARED_DATE': 'datetime64[ns]', \n",
    "                                                                                     'SUBMITTED_DATE': 'datetime64[ns]', \n",
    "                                                                                     'APPROVED_DATE': 'datetime64[ns]', \n",
    "                                                                                     'DISCOVERY_DATE': 'datetime64[ns]', \n",
    "                                                                                     'CREATED_DATE': 'datetime64[ns]', \n",
    "                                                                                     'LAST_MODIFIED_DATE': 'datetime64[ns]',\n",
    "                                                                                    'EXPECTED_CONTAINMENT_DATE':'datetime64[ns]'})\n",
    "#sit 2021 added 4/18/2023\n",
    "sit_2021 = pd.read_excel('SIT209_HISTORY_INCIDENT_209_REPORTS_2021.xlsx')"
   ]
  },
  {
   "cell_type": "code",
   "execution_count": 13,
   "metadata": {},
   "outputs": [
    {
     "name": "stdout",
     "output_type": "stream",
     "text": [
      "                                             0               1               2\n",
      "ID                                       int64           int64             NaN\n",
      "INC209R_IDENTIFIER                       int64           int64           int64\n",
      "INC_IDENTIFIER                           int64           int64           int64\n",
      "DONWCGU_PROT_UNIT_IDENTIFIER             int64           int64           int64\n",
      "REPORT_FROM_DATE                datetime64[ns]  datetime64[ns]  datetime64[ns]\n",
      "REPORT_TO_DATE                  datetime64[ns]  datetime64[ns]  datetime64[ns]\n",
      "STATUS                                  object          object          object\n",
      "INCIDENT_DESCRIPTION                    object          object          object\n",
      "INCIDENT_COMMANDERS_NARR                object          object          object\n",
      "CURR_INCIDENT_AREA                     float64         float64         float64\n",
      "CURR_INC_AREA_UOM_IDENTIFIER             int64         float64         float64\n",
      "PCT_CONTAINED_COMPLETED                float64         float64         float64\n",
      "PCT_CONT_COMPL_UOM_IDENTIFIER          float64         float64         float64\n",
      "COMPLEXITY_LEVEL_IDENTIFIER            float64         float64         float64\n",
      "CAUSE_IDENTIFIER                       float64         float64         float64\n",
      "POO_LATITUDE                           float64         float64         float64\n",
      "POO_LONGITUDE                          float64         float64         float64\n",
      "POO_STATE_CODE                           int64         float64           int64\n",
      "POO_CITY                                object          object          object\n",
      "POO_SHORT_LOCATION_DESC                 object          object          object\n",
      "POO_US_NGR_ZONE                         object          object          object\n",
      "POO_US_NGR_XCOORD                      float64         float64         float64\n",
      "POO_US_NGR_YCOORD                      float64         float64         float64\n",
      "POO_LD_TWP                              object          object          object\n",
      "POO_LD_RGE                              object          object          object\n",
      "POO_LD_SEC                             float64         float64         float64\n",
      "POO_LD_QTR_SEC                          object          object          object\n",
      "POO_LD_QTR_QTR_SEC                      object          object          object\n",
      "POO_LD_QTR_QTR_QTR_SEC                 float64         float64         float64\n",
      "POO_LD_QTR_QTR_QTR_QTR_SEC             float64         float64         float64\n",
      "POO_UTM_ZONE                           float64         float64         float64\n",
      "POO_UTM_EASTING                        float64         float64         float64\n",
      "POO_UTM_NORTHING                       float64         float64         float64\n",
      "INCIDENT_JURISDICTION                   object          object          object\n",
      "ELEC_GEOSP_DATA_INCL                    object          object          object\n",
      "SIGNIF_EVENTS_SUMMARY                   object          object          object\n",
      "FUEL_MODEL_IDENTIFIER                  float64         float64         float64\n",
      "HAZARDS_MATLS_INVOLVMENT_NARR           object          object          object\n",
      "DAMAGE_ASSESSMENT_INFO                  object          object          object\n",
      "LIFE_SAFETY_HEALTH_STATUS_NARR          object          object          object\n",
      "WEATHER_CONCERNS_NARR                   object          object          object\n",
      "PROJECTED_ACTIVITY_12                   object          object          object\n",
      "PROJECTED_ACTIVITY_24                   object          object          object\n",
      "PROJECTED_ACTIVITY_48                   object          object          object\n",
      "PROJECTED_ACTIVITY_72                   object          object          object\n",
      "PROJECTED_ACTIVITY_GT72                 object          object          object\n",
      "CURRENT_THREAT_12                       object          object          object\n",
      "CURRENT_THREAT_24                       object          object          object\n",
      "CURRENT_THREAT_48                       object          object          object\n",
      "CURRENT_THREAT_72                       object          object          object\n",
      "CURRENT_THREAT_GT72                     object          object          object\n",
      "CRIT_RES_NEEDS_12                       object          object          object\n",
      "CRIT_RES_NEEDS_24                       object          object          object\n",
      "CRIT_RES_NEEDS_48                       object          object          object\n",
      "CRIT_RES_NEEDS_72                       object          object          object\n",
      "CRIT_RES_NEEDS_GT72                     object          object          object\n",
      "STRATEGIC_DISCUSSION                    object          object          object\n",
      "PLANNED_ACTIONS                         object          object          object\n",
      "PROJ_INCIDENT_AREA                     float64         float64         float64\n",
      "PROJ_INC_AREA_UOM_IDENTIFIER           float64         float64         float64\n",
      "ANTICIPATED_COMPLETION_DATE     datetime64[ns]  datetime64[ns]  datetime64[ns]\n",
      "EXPECTED_CONTAINMENT_DATE       datetime64[ns]  datetime64[ns]  datetime64[ns]\n",
      "PROJ_SIG_RES_DEMOB_START_DATE   datetime64[ns]  datetime64[ns]  datetime64[ns]\n",
      "EST_IM_COST_TO_DATE                    float64         float64         float64\n",
      "MANAGEMENT_CODE                         object          object          object\n",
      "PROJECTED_FINAL_IM_COST                float64         float64         float64\n",
      "REMARKS                                 object          object          object\n",
      "PREPARED_BY                             object          object          object\n",
      "PREPARED_DATE                   datetime64[ns]  datetime64[ns]  datetime64[ns]\n",
      "SUBMITTED_DATE                  datetime64[ns]  datetime64[ns]  datetime64[ns]\n",
      "SUBMITTED_TO                            object          object          object\n",
      "APPROVED_BY                             object          object          object\n",
      "APPROVED_DATE                   datetime64[ns]  datetime64[ns]  datetime64[ns]\n",
      "INC_MGMT_ORG_IDENTIFIER                  int64         float64         float64\n",
      "DATA_ENTRY_STATUS                       object          object          object\n",
      "DISCOVERY_DATE                  datetime64[ns]  datetime64[ns]  datetime64[ns]\n",
      "COMPLEXITY_LEVEL_NARR                   object          object          object\n",
      "POO_COUNTY_CODE                          int64         float64           int64\n",
      "REPORT_NUMBER                          float64         float64         float64\n",
      "INCTYP_IDENTIFIER                        int64           int64           int64\n",
      "CREATED_BY                              object          object          object\n",
      "CREATED_DATE                    datetime64[ns]  datetime64[ns]  datetime64[ns]\n",
      "LAST_MODIFIED_BY                        object          object          object\n",
      "LAST_MODIFIED_DATE              datetime64[ns]  datetime64[ns]  datetime64[ns]\n",
      "POO_DONWCGU_OWN_IDENTIFIER             float64         float64         float64\n",
      "UNIT_OR_OTHER_NARR                      object          object         float64\n",
      "PCT_PERIM_TO_BE_CONTAINED                int64         float64         float64\n",
      "GACC_PRIORITY                          float64         float64         float64\n",
      "DISPATCH_PRIORITY                      float64         float64         float64\n",
      "STRATEGIC_OBJECTIVES                    object          object          object\n",
      "POO_LD_PM_IDENTIFIER                   float64         float64         float64\n",
      "ADDTNL_COOP_ASSIST_ORG_NARR             object          object          object\n",
      "SINGLE_COMPLEX_FLAG                     object          object          object\n",
      "INCIDENT_NUMBER                         object          object          object\n",
      "INCIDENT_NAME                           object          object          object\n",
      "LOCAL_TIMEZONE_IDENTIFIER              float64         float64         float64\n",
      "CY                                       int64           int64           int64\n",
      "SECNDRY_FUEL_MODEL_IDENTIFIER          float64         float64         float64\n",
      "ADDNTL_FUEL_MODEL_IDENTIFIER           float64         float64         float64\n",
      "GEN_FIRE_BEHAVIOR_IDENTIFIER           float64         float64         float64\n",
      "FIRE_BEHAVIOR_1_IDENTIFIER             float64         float64         float64\n",
      "FIRE_BEHAVIOR_2_IDENTIFIER             float64         float64         float64\n",
      "FIRE_BEHAVIOR_3_IDENTIFIER             float64         float64         float64\n",
      "ROAD_CLOSURE_FLAG                       object          object          object\n",
      "AREA_CLOSURE_FLAG                       object          object          object\n",
      "TRAIL_CLOSURE_FLAG                      object          object          object\n",
      "UNIFIED_COMMAND_FLAG                    object          object          object\n"
     ]
    }
   ],
   "source": [
    "#check the datatypes to make sure they are the same\n",
    "# 2019 dates/times are np.datetime64, 2020 dates/times are objects\n",
    "# can we force them all to have the same type? \n",
    "types = list(zip(sit_2019.dtypes, sit_2020.dtypes))\n",
    "dtype_2019= sit_2019.dtypes\n",
    "dtype_2020 = sit_2020.dtypes\n",
    "dtype_2021 = sit_2021.dtypes\n",
    "\n",
    "dtypes_df = pd.concat([dtype_2019, dtype_2020, dtype_2021], axis=1)\n",
    "print(dtypes_df)"
   ]
  },
  {
   "cell_type": "code",
   "execution_count": null,
   "metadata": {},
   "outputs": [],
   "source": []
  },
  {
   "cell_type": "code",
   "execution_count": 14,
   "metadata": {},
   "outputs": [
    {
     "name": "stdout",
     "output_type": "stream",
     "text": [
      "(7036, 107) (10833, 107) (12726, 106)\n",
      "(30595, 107)\n"
     ]
    }
   ],
   "source": [
    "#merge the dataframes\n",
    "print(sit_2019.shape, sit_2020.shape, sit_2021.shape)\n",
    "sit_all = pd.concat([sit_2019, sit_2020, sit_2021], axis = 0)\n",
    "print(sit_all.shape)"
   ]
  },
  {
   "cell_type": "code",
   "execution_count": 15,
   "metadata": {},
   "outputs": [],
   "source": [
    "#save the merged dataframe to CSV\n",
    "sit_all.to_csv('merged_sit.csv', index=False)"
   ]
  },
  {
   "cell_type": "code",
   "execution_count": null,
   "metadata": {},
   "outputs": [],
   "source": []
  }
 ],
 "metadata": {
  "kernelspec": {
   "display_name": "Python 3",
   "language": "python",
   "name": "python3"
  },
  "language_info": {
   "codemirror_mode": {
    "name": "ipython",
    "version": 3
   },
   "file_extension": ".py",
   "mimetype": "text/x-python",
   "name": "python",
   "nbconvert_exporter": "python",
   "pygments_lexer": "ipython3",
   "version": "3.7.6"
  }
 },
 "nbformat": 4,
 "nbformat_minor": 4
}
