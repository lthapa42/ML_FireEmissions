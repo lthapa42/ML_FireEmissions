{
 "cells": [
  {
   "cell_type": "code",
   "execution_count": 1,
   "id": "bc3cabbe",
   "metadata": {},
   "outputs": [],
   "source": [
    "import pandas as pd\n",
    "pd.set_option('display.max_rows', None)\n",
    "import geopandas as gpd\n",
    "import matplotlib.pyplot as plt\n",
    "from matplotlib import path\n",
    "import os\n",
    "import cartopy.crs as ccrs\n",
    "import cartopy.feature as cfeature\n",
    "import cartopy\n",
    "import numpy as np\n",
    "import netCDF4 as nc\n",
    "np.set_printoptions(threshold=100000)\n",
    "from shapely.geometry import Polygon, Point, MultiPoint, LineString, LinearRing\n",
    "from shapely.ops import cascaded_union, unary_union, transform\n",
    "import datetime\n",
    "import math\n",
    "from scipy.ndimage.interpolation import shift\n",
    "import scipy.interpolate as si\n",
    "import shapely.wkt\n",
    "from shapely.validation import explain_validity\n",
    "import xarray as xr\n",
    "import seaborn as sns\n",
    "from my_functions import sat_vap_press, vap_press, hot_dry_windy, haines\n",
    "from joblib import Parallel, delayed\n",
    "import multiprocessing\n",
    "from os.path import exists\n",
    "import rasterio\n",
    "from rasterio.windows import get_data_window,Window, from_bounds\n",
    "from rasterio.plot import show\n",
    "from itertools import product\n",
    "\n",
    "from timezonefinder import TimezoneFinder\n",
    "import pytz"
   ]
  },
  {
   "cell_type": "code",
   "execution_count": 36,
   "id": "dbd2777e",
   "metadata": {
    "scrolled": true
   },
   "outputs": [
    {
     "name": "stdout",
     "output_type": "stream",
     "text": [
      "/data2/lthapa/ML_daily/fire_polygons/czu_VIIRS_daily_12Z_day_start.geojson\n",
      "epsg:3347\n",
      "['2020-08-15' '2020-08-16' '2020-08-17' '2020-08-18' '2020-08-19'\n",
      " '2020-08-20' '2020-08-21' '2020-08-22' '2020-08-23' '2020-08-24'\n",
      " '2020-08-25' '2020-08-26' '2020-08-27' '2020-08-29' '2020-08-30'\n",
      " '2020-09-01' '2020-09-04' '2020-09-06' '2020-09-07' '2020-09-11'\n",
      " '2020-09-18' '2020-09-21' '2020-09-22']\n",
      "['2020-08-14T12:00:00.000000000' '2020-08-15T12:00:00.000000000'\n",
      " '2020-08-16T12:00:00.000000000' '2020-08-17T12:00:00.000000000'\n",
      " '2020-08-18T12:00:00.000000000' '2020-08-19T12:00:00.000000000'\n",
      " '2020-08-20T12:00:00.000000000' '2020-08-21T12:00:00.000000000'\n",
      " '2020-08-22T12:00:00.000000000' '2020-08-23T12:00:00.000000000'\n",
      " '2020-08-24T12:00:00.000000000' '2020-08-25T12:00:00.000000000'\n",
      " '2020-08-26T12:00:00.000000000' '2020-08-27T12:00:00.000000000'\n",
      " '2020-08-28T12:00:00.000000000' '2020-08-29T12:00:00.000000000'\n",
      " '2020-08-30T12:00:00.000000000' '2020-08-31T12:00:00.000000000'\n",
      " '2020-09-01T12:00:00.000000000' '2020-09-02T12:00:00.000000000'\n",
      " '2020-09-03T12:00:00.000000000' '2020-09-04T12:00:00.000000000'\n",
      " '2020-09-05T12:00:00.000000000' '2020-09-06T12:00:00.000000000'\n",
      " '2020-09-07T12:00:00.000000000' '2020-09-08T12:00:00.000000000'\n",
      " '2020-09-09T12:00:00.000000000' '2020-09-10T12:00:00.000000000'\n",
      " '2020-09-11T12:00:00.000000000' '2020-09-12T12:00:00.000000000'\n",
      " '2020-09-13T12:00:00.000000000' '2020-09-14T12:00:00.000000000'\n",
      " '2020-09-15T12:00:00.000000000' '2020-09-16T12:00:00.000000000'\n",
      " '2020-09-17T12:00:00.000000000' '2020-09-18T12:00:00.000000000'\n",
      " '2020-09-19T12:00:00.000000000' '2020-09-20T12:00:00.000000000'\n",
      " '2020-09-21T12:00:00.000000000' '2020-09-22T12:00:00.000000000'\n",
      " '2020-09-23T12:00:00.000000000']\n",
      "          day       Mean_FRP           FRE           CO2            CO  \\\n",
      "0  2020-08-15       0.000000  0.000000e+00  0.000000e+00  0.000000e+00   \n",
      "1  2020-08-16     496.497975  1.787393e+06  1.052558e+06  5.794770e+04   \n",
      "2  2020-08-17    5329.065736  1.918464e+07  1.152682e+07  5.548562e+05   \n",
      "3  2020-08-18   53641.058451  1.931078e+08  1.146747e+08  5.980427e+06   \n",
      "4  2020-08-19  100429.335712  3.615456e+08  2.138811e+08  1.143629e+07   \n",
      "5  2020-08-20   15367.553673  5.532319e+07  3.258307e+07  1.792300e+06   \n",
      "6  2020-08-21    3617.727204  1.302382e+07  7.666666e+06  4.230502e+05   \n",
      "7  2020-08-22    1031.329847  3.712788e+06  2.185224e+06  1.207082e+05   \n",
      "8  2020-08-23     903.250798  3.251703e+06  1.913351e+06  1.058622e+05   \n",
      "9  2020-08-24     748.555051  2.694798e+06  1.585210e+06  8.786336e+04   \n",
      "10 2020-08-25      12.863664  4.630919e+04  2.724129e+04  1.509902e+03   \n",
      "11 2020-08-26     127.888953  4.604002e+05  2.708295e+05  1.501126e+04   \n",
      "12 2020-08-27      80.872396  2.911406e+05  1.712629e+05  9.492582e+03   \n",
      "13 2020-08-29      57.778458  2.080024e+05  1.223570e+05  6.781879e+03   \n",
      "14 2020-08-30       1.698438  6.114378e+03  3.596771e+03  1.993581e+02   \n",
      "15 2020-09-01       0.000000  0.000000e+00  0.000000e+00  0.000000e+00   \n",
      "16 2020-09-04      20.711405  7.456105e+04  4.434948e+04  2.287955e+03   \n",
      "17 2020-09-06      58.697334  2.113104e+05  1.243029e+05  6.889734e+03   \n",
      "18 2020-09-07      43.655220  1.571588e+05  9.244834e+04  5.124131e+03   \n",
      "19 2020-09-11       6.632455  2.387684e+04  1.404550e+04  7.784995e+02   \n",
      "20 2020-09-18       0.000000  0.000000e+00  0.000000e+00  0.000000e+00   \n",
      "21 2020-09-21       0.000000  0.000000e+00  0.000000e+00  0.000000e+00   \n",
      "22 2020-09-22       0.000000  0.000000e+00  0.000000e+00  0.000000e+00   \n",
      "\n",
      "             SO2            OC            BC         PM2.5            NOx  \\\n",
      "0       0.000000  0.000000e+00      0.000000  0.000000e+00       0.000000   \n",
      "1     457.468667  7.062895e+03    359.448840  8.346788e+03    1281.965539   \n",
      "2    4307.171688  5.410094e+04   3386.177771  7.482873e+04   18976.823597   \n",
      "3   46907.171472  6.724476e+05  36864.449139  8.401604e+05  160281.333410   \n",
      "4   89973.113044  1.336434e+06  70702.977811  1.625648e+06  281473.010420   \n",
      "5   14147.921658  2.181924e+05  11116.545637  2.580650e+05   39779.623035   \n",
      "6    3340.660880  5.172725e+04   2624.849327  6.099797e+04    9277.689145   \n",
      "7     953.300718  1.478065e+04    749.031718  1.741251e+04    2636.581947   \n",
      "8     836.210548  1.299182e+04    657.027061  1.528186e+04    2297.913375   \n",
      "9     694.180094  1.080937e+04    545.427210  1.269358e+04    1894.119848   \n",
      "10     11.929248  1.857554e+02      9.372981  2.181349e+02      32.549806   \n",
      "11    118.599108  1.846757e+03     93.185017  2.168669e+03     323.606118   \n",
      "12     74.997822  1.167823e+03     58.926866  1.371389e+03     204.636932   \n",
      "13     53.581429  8.343394e+02     42.099697  9.797748e+02     146.200760   \n",
      "14      1.575064  2.452599e+01      1.237550  2.880117e+01       4.297674   \n",
      "15      0.000000  0.000000e+00      0.000000  0.000000e+00       0.000000   \n",
      "16     17.921324  2.527975e+02     14.085032  3.197430e+02      63.530769   \n",
      "17     54.433563  8.476083e+02     42.769230  9.953567e+02     148.525864   \n",
      "18     40.484108  6.303954e+02     31.808941  7.402808e+02     110.463776   \n",
      "19      6.150673  9.577477e+01      4.832672  1.124695e+02      16.782551   \n",
      "20      0.000000  0.000000e+00      0.000000  0.000000e+00       0.000000   \n",
      "21      0.000000  0.000000e+00      0.000000  0.000000e+00       0.000000   \n",
      "22      0.000000  0.000000e+00      0.000000  0.000000e+00       0.000000   \n",
      "\n",
      "              NH3  \n",
      "0        0.000000  \n",
      "1      548.910816  \n",
      "2     5157.565919  \n",
      "3    56239.261908  \n",
      "4   107912.762171  \n",
      "5    16975.708574  \n",
      "6     4008.544732  \n",
      "7     1143.906679  \n",
      "8     1003.427800  \n",
      "9      833.016050  \n",
      "10      14.315097  \n",
      "11     142.318919  \n",
      "12      89.997383  \n",
      "13      64.297714  \n",
      "14       1.890076  \n",
      "15       0.000000  \n",
      "16      21.483231  \n",
      "17      65.320274  \n",
      "18      48.580925  \n",
      "19       7.380808  \n",
      "20       0.000000  \n",
      "21       0.000000  \n",
      "22       0.000000  \n",
      "/data2/lthapa/ML_daily/fire_polygons/riverside_VIIRS_daily_12Z_day_start.geojson\n",
      "epsg:3347\n",
      "['2020-09-07' '2020-09-08' '2020-09-09' '2020-09-10' '2020-09-11'\n",
      " '2020-09-12' '2020-09-13' '2020-09-14' '2020-09-15' '2020-09-16'\n",
      " '2020-09-17' '2020-09-30' '2020-10-03']\n",
      "['2020-09-06T12:00:00.000000000' '2020-09-07T12:00:00.000000000'\n",
      " '2020-09-08T12:00:00.000000000' '2020-09-09T12:00:00.000000000'\n",
      " '2020-09-10T12:00:00.000000000' '2020-09-11T12:00:00.000000000'\n",
      " '2020-09-12T12:00:00.000000000' '2020-09-13T12:00:00.000000000'\n",
      " '2020-09-14T12:00:00.000000000' '2020-09-15T12:00:00.000000000'\n",
      " '2020-09-16T12:00:00.000000000' '2020-09-17T12:00:00.000000000'\n",
      " '2020-09-18T12:00:00.000000000' '2020-09-19T12:00:00.000000000'\n",
      " '2020-09-20T12:00:00.000000000' '2020-09-21T12:00:00.000000000'\n",
      " '2020-09-22T12:00:00.000000000' '2020-09-23T12:00:00.000000000'\n",
      " '2020-09-24T12:00:00.000000000' '2020-09-25T12:00:00.000000000'\n",
      " '2020-09-26T12:00:00.000000000' '2020-09-27T12:00:00.000000000'\n",
      " '2020-09-28T12:00:00.000000000' '2020-09-29T12:00:00.000000000'\n",
      " '2020-09-30T12:00:00.000000000' '2020-10-01T12:00:00.000000000'\n",
      " '2020-10-02T12:00:00.000000000' '2020-10-03T12:00:00.000000000'\n",
      " '2020-10-04T12:00:00.000000000']\n",
      "          day       Mean_FRP           FRE           CO2            CO  \\\n",
      "0  2020-09-07    1093.198730  3.935515e+06  2.315059e+06  1.283167e+05   \n",
      "1  2020-09-08  142869.850861  5.143315e+08  3.025545e+08  1.676968e+07   \n",
      "2  2020-09-09  136916.274422  4.928986e+08  2.899466e+08  1.607086e+07   \n",
      "3  2020-09-10    9860.423716  3.549752e+07  2.088135e+07  1.157390e+06   \n",
      "4  2020-09-11    2391.828547  8.610583e+06  5.065158e+06  2.807463e+05   \n",
      "5  2020-09-12    1943.138726  6.995300e+06  4.114971e+06  2.280804e+05   \n",
      "6  2020-09-13     705.253934  2.538914e+06  1.493511e+06  8.278079e+04   \n",
      "7  2020-09-14     825.248537  2.970894e+06  1.747623e+06  9.686543e+04   \n",
      "8  2020-09-15     787.920502  2.836514e+06  1.668574e+06  9.248397e+04   \n",
      "9  2020-09-16     689.648010  2.482733e+06  1.460463e+06  8.094901e+04   \n",
      "10 2020-09-17       0.000000  0.000000e+00  0.000000e+00  0.000000e+00   \n",
      "11 2020-09-30      21.630352  7.786927e+04  4.580644e+04  2.538912e+03   \n",
      "12 2020-10-03      64.187332  2.310744e+05  1.359291e+05  7.534135e+03   \n",
      "\n",
      "              SO2            OC             BC         PM2.5            NOx  \\\n",
      "0     1013.788696  1.578614e+04     796.548340  1.853785e+04    2766.194824   \n",
      "1   132491.789302  2.063086e+06  104100.699874  2.422707e+06  361513.318156   \n",
      "2   126970.681932  1.977115e+06   99762.688148  2.321750e+06  346448.560505   \n",
      "3     9144.162637  1.423877e+05    7184.699105  1.672076e+05   24950.500811   \n",
      "4     2218.086380  3.453877e+04    1742.782005  4.055929e+04    6052.206340   \n",
      "5     1801.989266  2.805955e+04    1415.848791  3.295067e+04    4916.856458   \n",
      "6      654.024290  1.018409e+04     513.876255  1.195930e+04    1784.552035   \n",
      "7      765.302478  1.191685e+04     601.309120  1.399410e+04    2088.182513   \n",
      "8      730.686023  1.137783e+04     574.110453  1.336112e+04    1993.729106   \n",
      "9      639.552031  9.958739e+03     502.505198  1.169467e+04    1745.063475   \n",
      "10       0.000000  0.000000e+00       0.000000  0.000000e+00       0.000000   \n",
      "11      20.059124  3.123492e+02      15.760740  3.667954e+02      54.732750   \n",
      "12      59.524773  9.268857e+02      46.769463  1.088453e+03     162.417587   \n",
      "\n",
      "              NH3  \n",
      "0     1216.546387  \n",
      "1   158990.146482  \n",
      "2   152364.815570  \n",
      "3    10972.994872  \n",
      "4     2661.703191  \n",
      "5     2162.387157  \n",
      "6      784.829124  \n",
      "7      918.362966  \n",
      "8      876.823146  \n",
      "9      767.462418  \n",
      "10       0.000000  \n",
      "11      24.070950  \n",
      "12      71.429726  \n"
     ]
    }
   ],
   "source": [
    "#FINAL FEATURES (as of 3/24)\n",
    "sit209=pd.read_csv('../Query2.txt')\n",
    "sit209.columns = ['INC209R_IDENTIFIER','INCIDENT_NAME','REPORT_FROM_DATE','REPORT_TO_DATE',\n",
    "              'RESTYP_IDENTIFIER', 'RESOURCE_QUANTITY','RESOURCE_PERSONNEL','CODE_NAME',\n",
    "              'INC_IDENTIFIER','PCT_CONTAINED_COMPLETED'] \n",
    "\n",
    "#all fires\n",
    "#fire_incidents = ['BOBCAT', 'DOLAN', 'HOLIDAY FARM','CREEK', 'LAKE', 'CAMERON PEAK', 'PINE GULCH', 'WILLIAMS FLATS', 'SHADY','PEDRO MOUNTAIN', 'WALKER', '204 COW']\n",
    "\n",
    "#2020 fires\n",
    "#fire_incidents = ['AUGUST COMPLEX','BOBCAT', 'DOLAN', 'HOLIDAY FARM','CREEK', 'LAKE', 'CAMERON PEAK', 'PINE GULCH']\n",
    "#fire_incidents=['BOBCAT', 'DOLAN', 'HOLIDAY FARM','CREEK', 'LAKE', 'CAMERON PEAK', 'PINE GULCH']\n",
    "#fire_incidents = ['BOBCAT']\n",
    "#fire_incidents = ['AUGUST COMPLEX', 'CREEK', 'DOLAN','LAKE']\n",
    "#fire_incidents = ['AUGUST COMPLEX', 'BOBCAT','CREEK', 'DOLAN','LAKE','HOLIDAY FARM','CAMERON PEAK', 'PINE GULCH','EAST TROUBLESOME']\n",
    "fire_incidents = ['CZU','RIVERSIDE']\n",
    "path_poly = '/data2/lthapa/ML_daily/fire_polygons/'\n",
    "suffix_poly = 'Z_day_start.geojson'\n",
    "start_time=12\n",
    "for jj in range(len(fire_incidents)):\n",
    "    fire_name = fire_incidents[jj].lower().replace(' ','_')\n",
    "    print(path_poly+fire_name+'_VIIRS_daily_'+str(start_time)+suffix_poly)\n",
    "    fire_daily = gpd.read_file(path_poly+fire_name+'_VIIRS_daily_'+str(start_time)+suffix_poly)\n",
    "    print(fire_daily.crs)\n",
    "    fire_daily=fire_daily.drop(columns=['Current Overpass'])\n",
    "    fire_daily = fire_daily.drop(np.where(fire_daily['geometry']==None)[0])\n",
    "    fire_daily['fire area (ha)'] = fire_daily['geometry'].area/10000 #hectares. from m2\n",
    "    fire_daily.set_geometry(col='geometry', inplace=True) #designate the geometry column\n",
    "    fire_daily = fire_daily.rename(columns={'Current Day':'UTC Day', 'Local Day': str(start_time)+ 'Z Start Day'})\n",
    "    \n",
    "    fire_daily = fire_daily.iloc[np.array(fire_daily['UTC Day'].values,dtype='datetime64')<=np.datetime64('2020-10-31'),:]\n",
    "\n",
    "    #rave\n",
    "    rave=rave_timeseries(fire_daily,start_time,24)\n",
    "    print(rave)\n",
    "    #rave.to_csv('./fire_features/'+fire_name+'_Daily_RAVE_'+str(start_time)+'Z_day_start.csv') #daily averages\n"
   ]
  },
  {
   "cell_type": "code",
   "execution_count": 12,
   "id": "550c46eb",
   "metadata": {
    "code_folding": [
     2
    ],
    "collapsed": true
   },
   "outputs": [
    {
     "name": "stdout",
     "output_type": "stream",
     "text": [
      "/data2/lthapa/ML_daily/fire_polygons/scu_VIIRS_daily_12Z_day_start.geojson\n",
      "epsg:4326\n"
     ]
    },
    {
     "name": "stderr",
     "output_type": "stream",
     "text": [
      "/home/lthapa/anaconda3/envs/ML_py/lib/python3.7/site-packages/ipykernel_launcher.py:28: UserWarning: Geometry is in a geographic CRS. Results from 'area' are likely incorrect. Use 'GeoSeries.to_crs()' to re-project geometries to a projected CRS before this operation.\n",
      "\n"
     ]
    },
    {
     "ename": "KeyError",
     "evalue": "\"None of ['time'] are in the columns\"",
     "output_type": "error",
     "traceback": [
      "\u001b[0;31m---------------------------------------------------------------------------\u001b[0m",
      "\u001b[0;31mKeyError\u001b[0m                                  Traceback (most recent call last)",
      "\u001b[0;32m<ipython-input-12-6140205acaa3>\u001b[0m in \u001b[0;36m<module>\u001b[0;34m\u001b[0m\n\u001b[1;32m     48\u001b[0m \u001b[0;34m\u001b[0m\u001b[0m\n\u001b[1;32m     49\u001b[0m     \u001b[0;31m#rave\u001b[0m\u001b[0;34m\u001b[0m\u001b[0;34m\u001b[0m\u001b[0;34m\u001b[0m\u001b[0m\n\u001b[0;32m---> 50\u001b[0;31m     \u001b[0mrave\u001b[0m\u001b[0;34m=\u001b[0m\u001b[0mrave_timeseries\u001b[0m\u001b[0;34m(\u001b[0m\u001b[0mfire_daily\u001b[0m\u001b[0;34m,\u001b[0m\u001b[0mstart_time\u001b[0m\u001b[0;34m,\u001b[0m\u001b[0;36m24\u001b[0m\u001b[0;34m)\u001b[0m\u001b[0;34m\u001b[0m\u001b[0;34m\u001b[0m\u001b[0m\n\u001b[0m\u001b[1;32m     51\u001b[0m     \u001b[0mprint\u001b[0m\u001b[0;34m(\u001b[0m\u001b[0mrave\u001b[0m\u001b[0;34m)\u001b[0m\u001b[0;34m\u001b[0m\u001b[0;34m\u001b[0m\u001b[0m\n\u001b[1;32m     52\u001b[0m     \u001b[0mrave\u001b[0m\u001b[0;34m.\u001b[0m\u001b[0mto_csv\u001b[0m\u001b[0;34m(\u001b[0m\u001b[0;34m'./fire_features/'\u001b[0m\u001b[0;34m+\u001b[0m\u001b[0mfire_name\u001b[0m\u001b[0;34m+\u001b[0m\u001b[0;34m'_Daily_RAVE_'\u001b[0m\u001b[0;34m+\u001b[0m\u001b[0mstr\u001b[0m\u001b[0;34m(\u001b[0m\u001b[0mstart_time\u001b[0m\u001b[0;34m)\u001b[0m\u001b[0;34m+\u001b[0m\u001b[0;34m'Z_day_start.csv'\u001b[0m\u001b[0;34m)\u001b[0m \u001b[0;31m#daily averages\u001b[0m\u001b[0;34m\u001b[0m\u001b[0;34m\u001b[0m\u001b[0m\n",
      "\u001b[0;32m<ipython-input-2-c2b24750fa40>\u001b[0m in \u001b[0;36mrave_timeseries\u001b[0;34m(df, day_start_hour, sum_interval)\u001b[0m\n\u001b[1;32m      8\u001b[0m     \u001b[0mfire_rave_intersection\u001b[0m\u001b[0;34m=\u001b[0m\u001b[0mgpd\u001b[0m\u001b[0;34m.\u001b[0m\u001b[0mGeoDataFrame\u001b[0m\u001b[0;34m(\u001b[0m\u001b[0mpd\u001b[0m\u001b[0;34m.\u001b[0m\u001b[0mconcat\u001b[0m\u001b[0;34m(\u001b[0m\u001b[0mrave_intersections\u001b[0m\u001b[0;34m,\u001b[0m \u001b[0mignore_index\u001b[0m\u001b[0;34m=\u001b[0m\u001b[0;32mTrue\u001b[0m\u001b[0;34m)\u001b[0m\u001b[0;34m)\u001b[0m\u001b[0;34m\u001b[0m\u001b[0;34m\u001b[0m\u001b[0m\n\u001b[1;32m      9\u001b[0m     \u001b[0mfire_rave_intersection\u001b[0m\u001b[0;34m.\u001b[0m\u001b[0mset_geometry\u001b[0m\u001b[0;34m(\u001b[0m\u001b[0mcol\u001b[0m\u001b[0;34m=\u001b[0m\u001b[0;34m'geometry'\u001b[0m\u001b[0;34m)\u001b[0m\u001b[0;34m\u001b[0m\u001b[0;34m\u001b[0m\u001b[0m\n\u001b[0;32m---> 10\u001b[0;31m     \u001b[0mfire_rave_intersection\u001b[0m \u001b[0;34m=\u001b[0m \u001b[0mfire_rave_intersection\u001b[0m\u001b[0;34m.\u001b[0m\u001b[0mset_index\u001b[0m\u001b[0;34m(\u001b[0m\u001b[0;34m[\u001b[0m\u001b[0;34m'time'\u001b[0m\u001b[0;34m,\u001b[0m \u001b[0;34m'row'\u001b[0m\u001b[0;34m,\u001b[0m \u001b[0;34m'col'\u001b[0m\u001b[0;34m]\u001b[0m\u001b[0;34m)\u001b[0m\u001b[0;34m\u001b[0m\u001b[0;34m\u001b[0m\u001b[0m\n\u001b[0m\u001b[1;32m     11\u001b[0m     \u001b[0mfire_rave_intersection\u001b[0m\u001b[0;34m=\u001b[0m\u001b[0mfire_rave_intersection\u001b[0m\u001b[0;34m[\u001b[0m\u001b[0;34m~\u001b[0m\u001b[0mfire_rave_intersection\u001b[0m\u001b[0;34m.\u001b[0m\u001b[0mindex\u001b[0m\u001b[0;34m.\u001b[0m\u001b[0mduplicated\u001b[0m\u001b[0;34m(\u001b[0m\u001b[0;34m)\u001b[0m\u001b[0;34m]\u001b[0m\u001b[0;34m\u001b[0m\u001b[0;34m\u001b[0m\u001b[0m\n\u001b[1;32m     12\u001b[0m \u001b[0;34m\u001b[0m\u001b[0m\n",
      "\u001b[0;32m~/anaconda3/envs/ML_py/lib/python3.7/site-packages/pandas/core/frame.py\u001b[0m in \u001b[0;36mset_index\u001b[0;34m(self, keys, drop, append, inplace, verify_integrity)\u001b[0m\n\u001b[1;32m   4725\u001b[0m \u001b[0;34m\u001b[0m\u001b[0m\n\u001b[1;32m   4726\u001b[0m         \u001b[0;32mif\u001b[0m \u001b[0mmissing\u001b[0m\u001b[0;34m:\u001b[0m\u001b[0;34m\u001b[0m\u001b[0;34m\u001b[0m\u001b[0m\n\u001b[0;32m-> 4727\u001b[0;31m             \u001b[0;32mraise\u001b[0m \u001b[0mKeyError\u001b[0m\u001b[0;34m(\u001b[0m\u001b[0;34mf\"None of {missing} are in the columns\"\u001b[0m\u001b[0;34m)\u001b[0m\u001b[0;34m\u001b[0m\u001b[0;34m\u001b[0m\u001b[0m\n\u001b[0m\u001b[1;32m   4728\u001b[0m \u001b[0;34m\u001b[0m\u001b[0m\n\u001b[1;32m   4729\u001b[0m         \u001b[0;32mif\u001b[0m \u001b[0minplace\u001b[0m\u001b[0;34m:\u001b[0m\u001b[0;34m\u001b[0m\u001b[0;34m\u001b[0m\u001b[0m\n",
      "\u001b[0;31mKeyError\u001b[0m: \"None of ['time'] are in the columns\""
     ]
    }
   ],
   "source": [
    "#process features using my polygons\n",
    "sit209=pd.read_csv('../Query2.txt')\n",
    "sit209.columns = ['INC209R_IDENTIFIER','INCIDENT_NAME','REPORT_FROM_DATE','REPORT_TO_DATE',\n",
    "              'RESTYP_IDENTIFIER', 'RESOURCE_QUANTITY','RESOURCE_PERSONNEL','CODE_NAME',\n",
    "              'INC_IDENTIFIER','PCT_CONTAINED_COMPLETED'] \n",
    "\n",
    "#all fires\n",
    "#fire_incidents = ['BOBCAT', 'DOLAN', 'HOLIDAY FARM','CREEK', 'LAKE', 'CAMERON PEAK', 'PINE GULCH', 'WILLIAMS FLATS', 'SHADY','PEDRO MOUNTAIN', 'WALKER', '204 COW']\n",
    "\n",
    "#2020 fires\n",
    "#fire_incidents = ['AUGUST COMPLEX','BOBCAT', 'DOLAN', 'HOLIDAY FARM','CREEK', 'LAKE', 'CAMERON PEAK', 'PINE GULCH']\n",
    "#fire_incidents=['BOBCAT', 'DOLAN', 'HOLIDAY FARM','CREEK', 'LAKE', 'CAMERON PEAK', 'PINE GULCH']\n",
    "#fire_incidents = ['BOBCAT']\n",
    "#fire_incidents = ['AUGUST COMPLEX', 'CREEK', 'DOLAN','LAKE']\n",
    "#fire_incidents = ['AUGUST COMPLEX', 'BOBCAT','CREEK', 'DOLAN','LAKE','HOLIDAY FARM','CAMERON PEAK', 'PINE GULCH','EAST TROUBLESOME']\n",
    "fire_incidents = ['SCU','CZU','RIVERSIDE']\n",
    "\n",
    "path_poly = '/data2/lthapa/ML_daily/fire_polygons/'\n",
    "suffix_poly = 'Z_day_start.geojson'\n",
    "start_time=12\n",
    "for jj in range(len(fire_incidents)):\n",
    "    fire_name = fire_incidents[jj].lower().replace(' ','_')\n",
    "    print(path_poly+fire_name+'_VIIRS_daily_'+str(start_time)+suffix_poly)\n",
    "    fire_daily = gpd.read_file(path_poly+fire_name+'_VIIRS_daily_'+str(start_time)+suffix_poly)\n",
    "    print(fire_daily.crs)\n",
    "    fire_daily=fire_daily.drop(columns=['Current Overpass'])\n",
    "    fire_daily = fire_daily.drop(np.where(fire_daily['geometry']==None)[0])\n",
    "    fire_daily['fire area (ha)'] = fire_daily['geometry'].area/10000 #hectares. from m2\n",
    "    fire_daily.set_geometry(col='geometry', inplace=True) #designate the geometry column\n",
    "    fire_daily = fire_daily.rename(columns={'Current Day':'UTC Day', 'Local Day': str(start_time)+ 'Z Start Day'})\n",
    "    \n",
    "    fire_daily = fire_daily.iloc[np.array(fire_daily['UTC Day'].values,dtype='datetime64')<=np.datetime64('2020-10-31'),:]\n",
    "    #print(fire_daily)\n",
    "    #merra\n",
    "    #me = merra_timeseries(fire_daily, start_time)\n",
    "    #print(me)\n",
    "    #me.to_csv('./fire_features/'+fire_name+'_Daily_MERRA_'+str(start_time)+'Z_day_start.csv') #daily averages\n",
    "\n",
    "    #hrrr\n",
    "    #hrrr = hrrr_timeseries(fire_daily,start_time)\n",
    "    #print(hrrr)\n",
    "    #hrrr.to_csv('./fire_features/'+fire_name+'_Daily_HRRR_'+str(start_time)+'Z_day_start.csv') #daily averages\n",
    "    \n",
    "    #hrrr with average wind\n",
    "    #hrrr = hrrr_timeseries_ws(fire_daily,start_time)\n",
    "    #print(hrrr)\n",
    "    #hrrr.to_csv('./fire_features/'+fire_name+'_Daily_HRRR_ws_'+str(start_time)+'Z_day_start.csv') #daily averages\n",
    "    \n",
    "    #rave\n",
    "    rave=rave_timeseries(fire_daily,start_time,24)\n",
    "    print(rave)\n",
    "    rave.to_csv('./fire_features/'+fire_name+'_Daily_RAVE_'+str(start_time)+'Z_day_start.csv') #daily averages\n",
    "\n",
    "    #pws\n",
    "    #pws = pws_timeseries(fire_daily,start_time)\n",
    "    #print(pws)\n",
    "    #pws.to_csv('./fire_features/'+fire_name+'_Daily_PWS_'+str(start_time)+'Z_day_start.csv') #daily averages\n",
    "   \n",
    "    #hrrr_igbp\n",
    "    #igbp =hrrr_igbp_timeseries(fire_daily,start_time)\n",
    "    #print(igbp)\n",
    "    #igbp.to_csv('./fire_features/'+fire_name+'_Daily_IGBP_'+str(start_time)+'Z_day_start.csv') #daily averages\n",
    "\n",
    "    #esi \n",
    "    #esi = esi_timeseries(fire_daily,start_time)\n",
    "    #print(esi)\n",
    "    #esi.to_csv('./fire_features/'+fire_name+'_Daily_ESI_'+str(start_time)+'Z_day_start.csv') #daily averages\n",
    "    \n",
    "    #sit 209 data\n",
    "    #resources = resources_timeseries(fire_daily,start_time,sit209)\n",
    "    #print(resources)\n",
    "    #resources.to_csv('./fire_features/'+fire_name+'_Daily_Resources_'+str(start_time)+'Z_day_start.csv')\n",
    "    \n",
    "    #fuel loading (takes 20 mins to process AC on the 1km grid)\n",
    "    #fuel_loading = fuel_loading_timeseries(fire_daily,start_time)\n",
    "    #print(fuel_loading)\n",
    "    #fuel_loading.to_csv('./fire_features/'+fire_name+'_Daily_FUEL_LOADING_'+str(start_time)+'Z_day_start.csv') #daily averages\n",
    "    \n",
    "    #fire area\n",
    "    #fire_area = fire_area_timeseries(fire_daily,start_time)\n",
    "    #print(fire_area)\n",
    "    #fire_area.to_csv('./fire_features/'+fire_name+'_Daily_FIRE_AREA_'+str(start_time)+'Z_day_start.csv') #daily averages\n",
    "\n",
    "    #IMERG FWI\n",
    "    #imerg_fwi = imerg_fwi_timeseries(fire_daily,12)\n",
    "    #print(imerg_fwi)\n",
    "    #imerg_fwi.to_csv('./fire_features/'+fire_name+'_Daily_IMERG_FWI_NoAve_'+str(start_time)+'Z_day_start.csv') #daily averages\n",
    "\n",
    "    #imerg_fwi.to_csv('./fire_features/'+fire_name+'_Daily_IMERG_FWI_'+str(start_time)+'Z_day_start.csv') #daily averages\n",
    "\n",
    "    #Fuel Loadings fwi\n",
    "    #fuel_loading_fwi = fuel_loading_fwi_timeseries(fire_daily,12)\n",
    "    #print(fuel_loading_fwi)\n",
    "    #fuel_loading_fwi.to_csv('./fire_features/'+fire_name+'_Daily_FUEL_FWI_'+str(start_time)+'Z_day_start.csv') #daily averages\n",
    "\n",
    "    \n",
    "    #low res fuel loadings FWI\n",
    "    #fuel_loading_fwi_lores = fuel_loading_fwi_lowres_timeseries(fire_daily,12)\n",
    "    \"\"\"tic = datetime.datetime.now()\n",
    "    fuel_fwi_intersections = Parallel(n_jobs=8)(delayed(calculate_intersection)\n",
    "                                 (fire_daily.iloc[ii:ii+1],'FUEL_FWI_GRID_990M',0.05) \n",
    "                                 for ii in range(len(fire_daily)))\n",
    "    toc = datetime.datetime.now()\n",
    "    print(toc-tic)\n",
    "    print([fuel_fwi_intersections[jj]['weights'].sum() for jj in range(len(fuel_fwi_intersections))])\n",
    "    \n",
    "    fire_fuel_fwi_intersection=gpd.GeoDataFrame(pd.concat(fuel_fwi_intersections, ignore_index=True))\n",
    "    fire_fuel_fwi_intersection = fire_fuel_fwi_intersection.drop(columns='geometry')\n",
    "    fire_fuel_fwi_intersection = fire_fuel_fwi_intersection.set_index(['12Z Start Day','row', 'col'])\n",
    "    fire_fuel_fwi_intersection_xr = fire_fuel_fwi_intersection.to_xarray()\n",
    "\n",
    "    #path_fuel_fwi = '/data2/lthapa/ML_daily/bobcat_fuel_fwi.nc'\n",
    "    #path_fuel_fwi = '/data2/lthapa/ML_daily/bobcat_fuel_fwi_360m.nc'\n",
    "    path_fuel_fwi = '/data2/lthapa/ML_daily/fuel_fwi_990m.nc'\n",
    "    dat_fuel_fwi = xr.open_dataset(path_fuel_fwi) #map is fixed in time\n",
    "    dat_fuel_fwi_daily = dat_fuel_fwi.expand_dims({'time': pd.to_datetime(fire_fuel_fwi_intersection_xr['12Z Start Day'].values)}) #the PWS expanded over all the days\n",
    "\n",
    "    dat_fuel_fwi_sub_daily = dat_fuel_fwi_daily.sel(row = fire_fuel_fwi_intersection_xr['row'].values, \n",
    "                                        col = fire_fuel_fwi_intersection_xr['col'].values, method='nearest')\n",
    "    #preallocate space for the output\n",
    "    varis = ['day','Extreme_N', 'VeryHigh_N','High_N', 'Moderate_N', 'Low_N']\n",
    "    df_loading = generate_df(varis, len(fire_daily))\n",
    "\n",
    "    df_loading['day'] = fire_daily['12Z Start Day'].values\n",
    "    for var in varis[1:len(varis)]:\n",
    "        df_loading[var] = np.nansum(fire_fuel_fwi_intersection_xr['weights'].values*dat_fuel_fwi_sub_daily[var].values, axis=(1,2))\n",
    "\n",
    "    print(df_loading)\n",
    "    df_loading.to_csv('./fire_features/'+fire_name+'_Daily_COARSE990_FUEL_FWI_12Z_day_start.csv') #daily averages\"\"\"\n"
   ]
  },
  {
   "cell_type": "code",
   "execution_count": 17,
   "id": "d2c1ae72",
   "metadata": {
    "code_folding": [],
    "collapsed": true
   },
   "outputs": [
    {
     "name": "stdout",
     "output_type": "stream",
     "text": [
      "/data2/lthapa/ML_daily/fire_polygons/august_complex_VIIRS_daily_12Z_day_start.geojson\n",
      "epsg:3347\n",
      "0:03:54.028926\n",
      "2020-08-16\n"
     ]
    },
    {
     "name": "stderr",
     "output_type": "stream",
     "text": [
      "/home/lthapa/anaconda3/envs/ML_py/lib/python3.7/site-packages/numpy/core/_methods.py:179: RuntimeWarning: invalid value encountered in reduce\n",
      "  ret = umr_sum(arr, axis, dtype, out, keepdims, where=where)\n"
     ]
    },
    {
     "name": "stdout",
     "output_type": "stream",
     "text": [
      "2020-08-17\n",
      "2020-08-18\n"
     ]
    },
    {
     "name": "stderr",
     "output_type": "stream",
     "text": [
      "/home/lthapa/anaconda3/envs/ML_py/lib/python3.7/site-packages/numpy/core/_methods.py:179: RuntimeWarning: invalid value encountered in reduce\n",
      "  ret = umr_sum(arr, axis, dtype, out, keepdims, where=where)\n",
      "/home/lthapa/anaconda3/envs/ML_py/lib/python3.7/site-packages/numpy/core/_methods.py:179: RuntimeWarning: invalid value encountered in reduce\n",
      "  ret = umr_sum(arr, axis, dtype, out, keepdims, where=where)\n"
     ]
    },
    {
     "name": "stdout",
     "output_type": "stream",
     "text": [
      "2020-08-19\n",
      "2020-08-20\n"
     ]
    },
    {
     "name": "stderr",
     "output_type": "stream",
     "text": [
      "/home/lthapa/anaconda3/envs/ML_py/lib/python3.7/site-packages/numpy/core/_methods.py:179: RuntimeWarning: invalid value encountered in reduce\n",
      "  ret = umr_sum(arr, axis, dtype, out, keepdims, where=where)\n",
      "/home/lthapa/anaconda3/envs/ML_py/lib/python3.7/site-packages/numpy/core/_methods.py:179: RuntimeWarning: invalid value encountered in reduce\n",
      "  ret = umr_sum(arr, axis, dtype, out, keepdims, where=where)\n"
     ]
    },
    {
     "name": "stdout",
     "output_type": "stream",
     "text": [
      "2020-08-21\n"
     ]
    },
    {
     "name": "stderr",
     "output_type": "stream",
     "text": [
      "/home/lthapa/anaconda3/envs/ML_py/lib/python3.7/site-packages/numpy/core/_methods.py:179: RuntimeWarning: invalid value encountered in reduce\n",
      "  ret = umr_sum(arr, axis, dtype, out, keepdims, where=where)\n"
     ]
    },
    {
     "name": "stdout",
     "output_type": "stream",
     "text": [
      "2020-08-22\n",
      "2020-08-23\n"
     ]
    },
    {
     "name": "stderr",
     "output_type": "stream",
     "text": [
      "/home/lthapa/anaconda3/envs/ML_py/lib/python3.7/site-packages/numpy/core/_methods.py:179: RuntimeWarning: invalid value encountered in reduce\n",
      "  ret = umr_sum(arr, axis, dtype, out, keepdims, where=where)\n",
      "/home/lthapa/anaconda3/envs/ML_py/lib/python3.7/site-packages/numpy/core/_methods.py:179: RuntimeWarning: invalid value encountered in reduce\n",
      "  ret = umr_sum(arr, axis, dtype, out, keepdims, where=where)\n",
      "/home/lthapa/anaconda3/envs/ML_py/lib/python3.7/site-packages/numpy/core/_methods.py:179: RuntimeWarning: invalid value encountered in reduce\n",
      "  ret = umr_sum(arr, axis, dtype, out, keepdims, where=where)\n"
     ]
    },
    {
     "name": "stdout",
     "output_type": "stream",
     "text": [
      "2020-08-24\n"
     ]
    },
    {
     "name": "stderr",
     "output_type": "stream",
     "text": [
      "/home/lthapa/anaconda3/envs/ML_py/lib/python3.7/site-packages/numpy/core/_methods.py:179: RuntimeWarning: invalid value encountered in reduce\n",
      "  ret = umr_sum(arr, axis, dtype, out, keepdims, where=where)\n"
     ]
    },
    {
     "name": "stdout",
     "output_type": "stream",
     "text": [
      "2020-08-25\n"
     ]
    },
    {
     "name": "stderr",
     "output_type": "stream",
     "text": [
      "/home/lthapa/anaconda3/envs/ML_py/lib/python3.7/site-packages/numpy/core/_methods.py:179: RuntimeWarning: invalid value encountered in reduce\n",
      "  ret = umr_sum(arr, axis, dtype, out, keepdims, where=where)\n"
     ]
    },
    {
     "name": "stdout",
     "output_type": "stream",
     "text": [
      "2020-08-26\n"
     ]
    },
    {
     "name": "stderr",
     "output_type": "stream",
     "text": [
      "/home/lthapa/anaconda3/envs/ML_py/lib/python3.7/site-packages/numpy/core/_methods.py:179: RuntimeWarning: invalid value encountered in reduce\n",
      "  ret = umr_sum(arr, axis, dtype, out, keepdims, where=where)\n",
      "/home/lthapa/anaconda3/envs/ML_py/lib/python3.7/site-packages/numpy/core/_methods.py:179: RuntimeWarning: invalid value encountered in reduce\n",
      "  ret = umr_sum(arr, axis, dtype, out, keepdims, where=where)\n",
      "/home/lthapa/anaconda3/envs/ML_py/lib/python3.7/site-packages/numpy/core/_methods.py:179: RuntimeWarning: invalid value encountered in reduce\n",
      "  ret = umr_sum(arr, axis, dtype, out, keepdims, where=where)\n",
      "/home/lthapa/anaconda3/envs/ML_py/lib/python3.7/site-packages/numpy/core/_methods.py:179: RuntimeWarning: invalid value encountered in reduce\n",
      "  ret = umr_sum(arr, axis, dtype, out, keepdims, where=where)\n"
     ]
    },
    {
     "name": "stdout",
     "output_type": "stream",
     "text": [
      "2020-08-27\n"
     ]
    },
    {
     "name": "stderr",
     "output_type": "stream",
     "text": [
      "/home/lthapa/anaconda3/envs/ML_py/lib/python3.7/site-packages/numpy/core/_methods.py:179: RuntimeWarning: invalid value encountered in reduce\n",
      "  ret = umr_sum(arr, axis, dtype, out, keepdims, where=where)\n",
      "/home/lthapa/anaconda3/envs/ML_py/lib/python3.7/site-packages/numpy/core/_methods.py:179: RuntimeWarning: invalid value encountered in reduce\n",
      "  ret = umr_sum(arr, axis, dtype, out, keepdims, where=where)\n",
      "/home/lthapa/anaconda3/envs/ML_py/lib/python3.7/site-packages/numpy/core/_methods.py:179: RuntimeWarning: invalid value encountered in reduce\n",
      "  ret = umr_sum(arr, axis, dtype, out, keepdims, where=where)\n",
      "/home/lthapa/anaconda3/envs/ML_py/lib/python3.7/site-packages/numpy/core/_methods.py:179: RuntimeWarning: invalid value encountered in reduce\n",
      "  ret = umr_sum(arr, axis, dtype, out, keepdims, where=where)\n",
      "/home/lthapa/anaconda3/envs/ML_py/lib/python3.7/site-packages/numpy/core/_methods.py:179: RuntimeWarning: invalid value encountered in reduce\n",
      "  ret = umr_sum(arr, axis, dtype, out, keepdims, where=where)\n"
     ]
    },
    {
     "name": "stdout",
     "output_type": "stream",
     "text": [
      "2020-08-28\n"
     ]
    },
    {
     "name": "stderr",
     "output_type": "stream",
     "text": [
      "/home/lthapa/anaconda3/envs/ML_py/lib/python3.7/site-packages/numpy/core/_methods.py:179: RuntimeWarning: invalid value encountered in reduce\n",
      "  ret = umr_sum(arr, axis, dtype, out, keepdims, where=where)\n"
     ]
    },
    {
     "name": "stdout",
     "output_type": "stream",
     "text": [
      "2020-08-29\n"
     ]
    },
    {
     "name": "stderr",
     "output_type": "stream",
     "text": [
      "/home/lthapa/anaconda3/envs/ML_py/lib/python3.7/site-packages/numpy/core/_methods.py:179: RuntimeWarning: invalid value encountered in reduce\n",
      "  ret = umr_sum(arr, axis, dtype, out, keepdims, where=where)\n",
      "/home/lthapa/anaconda3/envs/ML_py/lib/python3.7/site-packages/numpy/core/_methods.py:179: RuntimeWarning: invalid value encountered in reduce\n",
      "  ret = umr_sum(arr, axis, dtype, out, keepdims, where=where)\n"
     ]
    },
    {
     "name": "stdout",
     "output_type": "stream",
     "text": [
      "2020-08-30\n"
     ]
    },
    {
     "name": "stderr",
     "output_type": "stream",
     "text": [
      "/home/lthapa/anaconda3/envs/ML_py/lib/python3.7/site-packages/numpy/core/_methods.py:179: RuntimeWarning: invalid value encountered in reduce\n",
      "  ret = umr_sum(arr, axis, dtype, out, keepdims, where=where)\n"
     ]
    },
    {
     "name": "stdout",
     "output_type": "stream",
     "text": [
      "2020-08-31\n",
      "2020-09-01\n",
      "2020-09-02\n"
     ]
    },
    {
     "name": "stderr",
     "output_type": "stream",
     "text": [
      "/home/lthapa/anaconda3/envs/ML_py/lib/python3.7/site-packages/numpy/core/_methods.py:179: RuntimeWarning: invalid value encountered in reduce\n",
      "  ret = umr_sum(arr, axis, dtype, out, keepdims, where=where)\n",
      "/home/lthapa/anaconda3/envs/ML_py/lib/python3.7/site-packages/numpy/core/_methods.py:179: RuntimeWarning: invalid value encountered in reduce\n",
      "  ret = umr_sum(arr, axis, dtype, out, keepdims, where=where)\n"
     ]
    },
    {
     "name": "stdout",
     "output_type": "stream",
     "text": [
      "2020-09-03\n"
     ]
    },
    {
     "name": "stderr",
     "output_type": "stream",
     "text": [
      "/home/lthapa/anaconda3/envs/ML_py/lib/python3.7/site-packages/numpy/core/_methods.py:179: RuntimeWarning: invalid value encountered in reduce\n",
      "  ret = umr_sum(arr, axis, dtype, out, keepdims, where=where)\n",
      "/home/lthapa/anaconda3/envs/ML_py/lib/python3.7/site-packages/numpy/core/_methods.py:179: RuntimeWarning: invalid value encountered in reduce\n",
      "  ret = umr_sum(arr, axis, dtype, out, keepdims, where=where)\n",
      "/home/lthapa/anaconda3/envs/ML_py/lib/python3.7/site-packages/numpy/core/_methods.py:179: RuntimeWarning: invalid value encountered in reduce\n",
      "  ret = umr_sum(arr, axis, dtype, out, keepdims, where=where)\n"
     ]
    },
    {
     "name": "stdout",
     "output_type": "stream",
     "text": [
      "2020-09-04\n"
     ]
    },
    {
     "name": "stderr",
     "output_type": "stream",
     "text": [
      "/home/lthapa/anaconda3/envs/ML_py/lib/python3.7/site-packages/numpy/core/_methods.py:179: RuntimeWarning: invalid value encountered in reduce\n",
      "  ret = umr_sum(arr, axis, dtype, out, keepdims, where=where)\n",
      "/home/lthapa/anaconda3/envs/ML_py/lib/python3.7/site-packages/numpy/core/_methods.py:179: RuntimeWarning: invalid value encountered in reduce\n",
      "  ret = umr_sum(arr, axis, dtype, out, keepdims, where=where)\n"
     ]
    },
    {
     "name": "stdout",
     "output_type": "stream",
     "text": [
      "2020-09-05\n",
      "2020-09-06\n"
     ]
    },
    {
     "name": "stderr",
     "output_type": "stream",
     "text": [
      "/home/lthapa/anaconda3/envs/ML_py/lib/python3.7/site-packages/numpy/core/_methods.py:179: RuntimeWarning: invalid value encountered in reduce\n",
      "  ret = umr_sum(arr, axis, dtype, out, keepdims, where=where)\n",
      "/home/lthapa/anaconda3/envs/ML_py/lib/python3.7/site-packages/numpy/core/_methods.py:179: RuntimeWarning: invalid value encountered in reduce\n",
      "  ret = umr_sum(arr, axis, dtype, out, keepdims, where=where)\n",
      "/home/lthapa/anaconda3/envs/ML_py/lib/python3.7/site-packages/numpy/core/_methods.py:179: RuntimeWarning: invalid value encountered in reduce\n",
      "  ret = umr_sum(arr, axis, dtype, out, keepdims, where=where)\n",
      "/home/lthapa/anaconda3/envs/ML_py/lib/python3.7/site-packages/numpy/core/_methods.py:179: RuntimeWarning: invalid value encountered in reduce\n",
      "  ret = umr_sum(arr, axis, dtype, out, keepdims, where=where)\n"
     ]
    },
    {
     "name": "stdout",
     "output_type": "stream",
     "text": [
      "2020-09-07\n"
     ]
    },
    {
     "name": "stderr",
     "output_type": "stream",
     "text": [
      "/home/lthapa/anaconda3/envs/ML_py/lib/python3.7/site-packages/numpy/core/_methods.py:179: RuntimeWarning: invalid value encountered in reduce\n",
      "  ret = umr_sum(arr, axis, dtype, out, keepdims, where=where)\n",
      "/home/lthapa/anaconda3/envs/ML_py/lib/python3.7/site-packages/numpy/core/_methods.py:179: RuntimeWarning: invalid value encountered in reduce\n",
      "  ret = umr_sum(arr, axis, dtype, out, keepdims, where=where)\n"
     ]
    },
    {
     "name": "stdout",
     "output_type": "stream",
     "text": [
      "2020-09-08\n"
     ]
    },
    {
     "name": "stderr",
     "output_type": "stream",
     "text": [
      "/home/lthapa/anaconda3/envs/ML_py/lib/python3.7/site-packages/numpy/core/_methods.py:179: RuntimeWarning: invalid value encountered in reduce\n",
      "  ret = umr_sum(arr, axis, dtype, out, keepdims, where=where)\n",
      "/home/lthapa/anaconda3/envs/ML_py/lib/python3.7/site-packages/numpy/core/_methods.py:179: RuntimeWarning: invalid value encountered in reduce\n",
      "  ret = umr_sum(arr, axis, dtype, out, keepdims, where=where)\n",
      "/home/lthapa/anaconda3/envs/ML_py/lib/python3.7/site-packages/numpy/core/_methods.py:179: RuntimeWarning: invalid value encountered in reduce\n",
      "  ret = umr_sum(arr, axis, dtype, out, keepdims, where=where)\n",
      "/home/lthapa/anaconda3/envs/ML_py/lib/python3.7/site-packages/numpy/core/_methods.py:179: RuntimeWarning: invalid value encountered in reduce\n",
      "  ret = umr_sum(arr, axis, dtype, out, keepdims, where=where)\n",
      "/home/lthapa/anaconda3/envs/ML_py/lib/python3.7/site-packages/numpy/core/_methods.py:179: RuntimeWarning: invalid value encountered in reduce\n",
      "  ret = umr_sum(arr, axis, dtype, out, keepdims, where=where)\n"
     ]
    },
    {
     "name": "stdout",
     "output_type": "stream",
     "text": [
      "2020-09-09\n"
     ]
    },
    {
     "name": "stderr",
     "output_type": "stream",
     "text": [
      "/home/lthapa/anaconda3/envs/ML_py/lib/python3.7/site-packages/numpy/core/_methods.py:179: RuntimeWarning: invalid value encountered in reduce\n",
      "  ret = umr_sum(arr, axis, dtype, out, keepdims, where=where)\n",
      "/home/lthapa/anaconda3/envs/ML_py/lib/python3.7/site-packages/numpy/core/_methods.py:179: RuntimeWarning: invalid value encountered in reduce\n",
      "  ret = umr_sum(arr, axis, dtype, out, keepdims, where=where)\n"
     ]
    },
    {
     "name": "stdout",
     "output_type": "stream",
     "text": [
      "2020-09-10\n"
     ]
    },
    {
     "name": "stderr",
     "output_type": "stream",
     "text": [
      "/home/lthapa/anaconda3/envs/ML_py/lib/python3.7/site-packages/numpy/core/_methods.py:179: RuntimeWarning: invalid value encountered in reduce\n",
      "  ret = umr_sum(arr, axis, dtype, out, keepdims, where=where)\n",
      "/home/lthapa/anaconda3/envs/ML_py/lib/python3.7/site-packages/numpy/core/_methods.py:179: RuntimeWarning: invalid value encountered in reduce\n",
      "  ret = umr_sum(arr, axis, dtype, out, keepdims, where=where)\n"
     ]
    },
    {
     "name": "stdout",
     "output_type": "stream",
     "text": [
      "2020-09-11\n"
     ]
    },
    {
     "name": "stderr",
     "output_type": "stream",
     "text": [
      "/home/lthapa/anaconda3/envs/ML_py/lib/python3.7/site-packages/numpy/core/_methods.py:179: RuntimeWarning: invalid value encountered in reduce\n",
      "  ret = umr_sum(arr, axis, dtype, out, keepdims, where=where)\n"
     ]
    },
    {
     "name": "stdout",
     "output_type": "stream",
     "text": [
      "2020-09-12\n"
     ]
    },
    {
     "name": "stderr",
     "output_type": "stream",
     "text": [
      "/home/lthapa/anaconda3/envs/ML_py/lib/python3.7/site-packages/numpy/core/_methods.py:179: RuntimeWarning: invalid value encountered in reduce\n",
      "  ret = umr_sum(arr, axis, dtype, out, keepdims, where=where)\n"
     ]
    },
    {
     "name": "stdout",
     "output_type": "stream",
     "text": [
      "2020-09-13\n"
     ]
    },
    {
     "name": "stderr",
     "output_type": "stream",
     "text": [
      "/home/lthapa/anaconda3/envs/ML_py/lib/python3.7/site-packages/numpy/core/_methods.py:179: RuntimeWarning: invalid value encountered in reduce\n",
      "  ret = umr_sum(arr, axis, dtype, out, keepdims, where=where)\n",
      "/home/lthapa/anaconda3/envs/ML_py/lib/python3.7/site-packages/numpy/core/_methods.py:179: RuntimeWarning: invalid value encountered in reduce\n",
      "  ret = umr_sum(arr, axis, dtype, out, keepdims, where=where)\n",
      "/home/lthapa/anaconda3/envs/ML_py/lib/python3.7/site-packages/numpy/core/_methods.py:179: RuntimeWarning: invalid value encountered in reduce\n",
      "  ret = umr_sum(arr, axis, dtype, out, keepdims, where=where)\n",
      "/home/lthapa/anaconda3/envs/ML_py/lib/python3.7/site-packages/numpy/core/_methods.py:179: RuntimeWarning: invalid value encountered in reduce\n",
      "  ret = umr_sum(arr, axis, dtype, out, keepdims, where=where)\n"
     ]
    },
    {
     "name": "stdout",
     "output_type": "stream",
     "text": [
      "2020-09-14\n",
      "2020-09-15\n",
      "2020-09-16\n"
     ]
    },
    {
     "name": "stderr",
     "output_type": "stream",
     "text": [
      "/home/lthapa/anaconda3/envs/ML_py/lib/python3.7/site-packages/numpy/core/_methods.py:179: RuntimeWarning: invalid value encountered in reduce\n",
      "  ret = umr_sum(arr, axis, dtype, out, keepdims, where=where)\n",
      "/home/lthapa/anaconda3/envs/ML_py/lib/python3.7/site-packages/numpy/core/_methods.py:179: RuntimeWarning: invalid value encountered in reduce\n",
      "  ret = umr_sum(arr, axis, dtype, out, keepdims, where=where)\n",
      "/home/lthapa/anaconda3/envs/ML_py/lib/python3.7/site-packages/numpy/core/_methods.py:179: RuntimeWarning: invalid value encountered in reduce\n",
      "  ret = umr_sum(arr, axis, dtype, out, keepdims, where=where)\n",
      "/home/lthapa/anaconda3/envs/ML_py/lib/python3.7/site-packages/numpy/core/_methods.py:179: RuntimeWarning: invalid value encountered in reduce\n",
      "  ret = umr_sum(arr, axis, dtype, out, keepdims, where=where)\n"
     ]
    },
    {
     "name": "stdout",
     "output_type": "stream",
     "text": [
      "2020-09-17\n"
     ]
    },
    {
     "name": "stderr",
     "output_type": "stream",
     "text": [
      "/home/lthapa/anaconda3/envs/ML_py/lib/python3.7/site-packages/numpy/core/_methods.py:179: RuntimeWarning: invalid value encountered in reduce\n",
      "  ret = umr_sum(arr, axis, dtype, out, keepdims, where=where)\n",
      "/home/lthapa/anaconda3/envs/ML_py/lib/python3.7/site-packages/numpy/core/_methods.py:179: RuntimeWarning: invalid value encountered in reduce\n",
      "  ret = umr_sum(arr, axis, dtype, out, keepdims, where=where)\n",
      "/home/lthapa/anaconda3/envs/ML_py/lib/python3.7/site-packages/numpy/core/_methods.py:179: RuntimeWarning: invalid value encountered in reduce\n",
      "  ret = umr_sum(arr, axis, dtype, out, keepdims, where=where)\n"
     ]
    },
    {
     "name": "stdout",
     "output_type": "stream",
     "text": [
      "2020-09-18\n"
     ]
    },
    {
     "name": "stderr",
     "output_type": "stream",
     "text": [
      "/home/lthapa/anaconda3/envs/ML_py/lib/python3.7/site-packages/numpy/core/_methods.py:179: RuntimeWarning: invalid value encountered in reduce\n",
      "  ret = umr_sum(arr, axis, dtype, out, keepdims, where=where)\n",
      "/home/lthapa/anaconda3/envs/ML_py/lib/python3.7/site-packages/numpy/core/_methods.py:179: RuntimeWarning: invalid value encountered in reduce\n",
      "  ret = umr_sum(arr, axis, dtype, out, keepdims, where=where)\n"
     ]
    },
    {
     "name": "stdout",
     "output_type": "stream",
     "text": [
      "2020-09-19\n"
     ]
    },
    {
     "name": "stderr",
     "output_type": "stream",
     "text": [
      "/home/lthapa/anaconda3/envs/ML_py/lib/python3.7/site-packages/numpy/core/_methods.py:179: RuntimeWarning: invalid value encountered in reduce\n",
      "  ret = umr_sum(arr, axis, dtype, out, keepdims, where=where)\n",
      "/home/lthapa/anaconda3/envs/ML_py/lib/python3.7/site-packages/numpy/core/_methods.py:179: RuntimeWarning: invalid value encountered in reduce\n",
      "  ret = umr_sum(arr, axis, dtype, out, keepdims, where=where)\n",
      "/home/lthapa/anaconda3/envs/ML_py/lib/python3.7/site-packages/numpy/core/_methods.py:179: RuntimeWarning: invalid value encountered in reduce\n",
      "  ret = umr_sum(arr, axis, dtype, out, keepdims, where=where)\n",
      "/home/lthapa/anaconda3/envs/ML_py/lib/python3.7/site-packages/numpy/core/_methods.py:179: RuntimeWarning: invalid value encountered in reduce\n",
      "  ret = umr_sum(arr, axis, dtype, out, keepdims, where=where)\n",
      "/home/lthapa/anaconda3/envs/ML_py/lib/python3.7/site-packages/numpy/core/_methods.py:179: RuntimeWarning: invalid value encountered in reduce\n",
      "  ret = umr_sum(arr, axis, dtype, out, keepdims, where=where)\n",
      "/home/lthapa/anaconda3/envs/ML_py/lib/python3.7/site-packages/numpy/core/_methods.py:179: RuntimeWarning: invalid value encountered in reduce\n",
      "  ret = umr_sum(arr, axis, dtype, out, keepdims, where=where)\n",
      "/home/lthapa/anaconda3/envs/ML_py/lib/python3.7/site-packages/numpy/core/_methods.py:179: RuntimeWarning: invalid value encountered in reduce\n",
      "  ret = umr_sum(arr, axis, dtype, out, keepdims, where=where)\n"
     ]
    },
    {
     "name": "stdout",
     "output_type": "stream",
     "text": [
      "2020-09-20\n",
      "2020-09-21\n"
     ]
    },
    {
     "name": "stderr",
     "output_type": "stream",
     "text": [
      "/home/lthapa/anaconda3/envs/ML_py/lib/python3.7/site-packages/numpy/core/_methods.py:179: RuntimeWarning: invalid value encountered in reduce\n",
      "  ret = umr_sum(arr, axis, dtype, out, keepdims, where=where)\n"
     ]
    },
    {
     "name": "stdout",
     "output_type": "stream",
     "text": [
      "2020-09-22\n",
      "2020-09-23\n"
     ]
    },
    {
     "name": "stderr",
     "output_type": "stream",
     "text": [
      "/home/lthapa/anaconda3/envs/ML_py/lib/python3.7/site-packages/numpy/core/_methods.py:179: RuntimeWarning: invalid value encountered in reduce\n",
      "  ret = umr_sum(arr, axis, dtype, out, keepdims, where=where)\n"
     ]
    },
    {
     "name": "stdout",
     "output_type": "stream",
     "text": [
      "2020-09-24\n"
     ]
    },
    {
     "name": "stderr",
     "output_type": "stream",
     "text": [
      "/home/lthapa/anaconda3/envs/ML_py/lib/python3.7/site-packages/numpy/core/_methods.py:179: RuntimeWarning: invalid value encountered in reduce\n",
      "  ret = umr_sum(arr, axis, dtype, out, keepdims, where=where)\n",
      "/home/lthapa/anaconda3/envs/ML_py/lib/python3.7/site-packages/numpy/core/_methods.py:179: RuntimeWarning: invalid value encountered in reduce\n",
      "  ret = umr_sum(arr, axis, dtype, out, keepdims, where=where)\n",
      "/home/lthapa/anaconda3/envs/ML_py/lib/python3.7/site-packages/numpy/core/_methods.py:179: RuntimeWarning: invalid value encountered in reduce\n",
      "  ret = umr_sum(arr, axis, dtype, out, keepdims, where=where)\n",
      "/home/lthapa/anaconda3/envs/ML_py/lib/python3.7/site-packages/numpy/core/_methods.py:179: RuntimeWarning: invalid value encountered in reduce\n",
      "  ret = umr_sum(arr, axis, dtype, out, keepdims, where=where)\n"
     ]
    },
    {
     "name": "stdout",
     "output_type": "stream",
     "text": [
      "2020-09-25\n"
     ]
    },
    {
     "name": "stderr",
     "output_type": "stream",
     "text": [
      "/home/lthapa/anaconda3/envs/ML_py/lib/python3.7/site-packages/numpy/core/_methods.py:179: RuntimeWarning: invalid value encountered in reduce\n",
      "  ret = umr_sum(arr, axis, dtype, out, keepdims, where=where)\n",
      "/home/lthapa/anaconda3/envs/ML_py/lib/python3.7/site-packages/numpy/core/_methods.py:179: RuntimeWarning: invalid value encountered in reduce\n",
      "  ret = umr_sum(arr, axis, dtype, out, keepdims, where=where)\n",
      "/home/lthapa/anaconda3/envs/ML_py/lib/python3.7/site-packages/numpy/core/_methods.py:179: RuntimeWarning: invalid value encountered in reduce\n",
      "  ret = umr_sum(arr, axis, dtype, out, keepdims, where=where)\n",
      "/home/lthapa/anaconda3/envs/ML_py/lib/python3.7/site-packages/numpy/core/_methods.py:179: RuntimeWarning: invalid value encountered in reduce\n",
      "  ret = umr_sum(arr, axis, dtype, out, keepdims, where=where)\n"
     ]
    },
    {
     "name": "stdout",
     "output_type": "stream",
     "text": [
      "2020-09-26\n"
     ]
    },
    {
     "name": "stderr",
     "output_type": "stream",
     "text": [
      "/home/lthapa/anaconda3/envs/ML_py/lib/python3.7/site-packages/numpy/core/_methods.py:179: RuntimeWarning: invalid value encountered in reduce\n",
      "  ret = umr_sum(arr, axis, dtype, out, keepdims, where=where)\n",
      "/home/lthapa/anaconda3/envs/ML_py/lib/python3.7/site-packages/numpy/core/_methods.py:179: RuntimeWarning: invalid value encountered in reduce\n",
      "  ret = umr_sum(arr, axis, dtype, out, keepdims, where=where)\n",
      "/home/lthapa/anaconda3/envs/ML_py/lib/python3.7/site-packages/numpy/core/_methods.py:179: RuntimeWarning: invalid value encountered in reduce\n",
      "  ret = umr_sum(arr, axis, dtype, out, keepdims, where=where)\n",
      "/home/lthapa/anaconda3/envs/ML_py/lib/python3.7/site-packages/numpy/core/_methods.py:179: RuntimeWarning: invalid value encountered in reduce\n",
      "  ret = umr_sum(arr, axis, dtype, out, keepdims, where=where)\n"
     ]
    },
    {
     "name": "stdout",
     "output_type": "stream",
     "text": [
      "2020-09-27\n",
      "2020-09-28\n"
     ]
    },
    {
     "name": "stderr",
     "output_type": "stream",
     "text": [
      "/home/lthapa/anaconda3/envs/ML_py/lib/python3.7/site-packages/numpy/core/_methods.py:179: RuntimeWarning: invalid value encountered in reduce\n",
      "  ret = umr_sum(arr, axis, dtype, out, keepdims, where=where)\n",
      "/home/lthapa/anaconda3/envs/ML_py/lib/python3.7/site-packages/numpy/core/_methods.py:179: RuntimeWarning: invalid value encountered in reduce\n",
      "  ret = umr_sum(arr, axis, dtype, out, keepdims, where=where)\n"
     ]
    },
    {
     "name": "stdout",
     "output_type": "stream",
     "text": [
      "2020-09-29\n"
     ]
    },
    {
     "name": "stderr",
     "output_type": "stream",
     "text": [
      "/home/lthapa/anaconda3/envs/ML_py/lib/python3.7/site-packages/numpy/core/_methods.py:179: RuntimeWarning: invalid value encountered in reduce\n",
      "  ret = umr_sum(arr, axis, dtype, out, keepdims, where=where)\n",
      "/home/lthapa/anaconda3/envs/ML_py/lib/python3.7/site-packages/numpy/core/_methods.py:179: RuntimeWarning: invalid value encountered in reduce\n",
      "  ret = umr_sum(arr, axis, dtype, out, keepdims, where=where)\n",
      "/home/lthapa/anaconda3/envs/ML_py/lib/python3.7/site-packages/numpy/core/_methods.py:179: RuntimeWarning: invalid value encountered in reduce\n",
      "  ret = umr_sum(arr, axis, dtype, out, keepdims, where=where)\n",
      "/home/lthapa/anaconda3/envs/ML_py/lib/python3.7/site-packages/numpy/core/_methods.py:179: RuntimeWarning: invalid value encountered in reduce\n",
      "  ret = umr_sum(arr, axis, dtype, out, keepdims, where=where)\n"
     ]
    },
    {
     "name": "stdout",
     "output_type": "stream",
     "text": [
      "2020-09-30\n"
     ]
    },
    {
     "name": "stderr",
     "output_type": "stream",
     "text": [
      "/home/lthapa/anaconda3/envs/ML_py/lib/python3.7/site-packages/numpy/core/_methods.py:179: RuntimeWarning: invalid value encountered in reduce\n",
      "  ret = umr_sum(arr, axis, dtype, out, keepdims, where=where)\n"
     ]
    },
    {
     "name": "stdout",
     "output_type": "stream",
     "text": [
      "2020-10-01\n"
     ]
    },
    {
     "name": "stderr",
     "output_type": "stream",
     "text": [
      "/home/lthapa/anaconda3/envs/ML_py/lib/python3.7/site-packages/numpy/core/_methods.py:179: RuntimeWarning: invalid value encountered in reduce\n",
      "  ret = umr_sum(arr, axis, dtype, out, keepdims, where=where)\n",
      "/home/lthapa/anaconda3/envs/ML_py/lib/python3.7/site-packages/numpy/core/_methods.py:179: RuntimeWarning: invalid value encountered in reduce\n",
      "  ret = umr_sum(arr, axis, dtype, out, keepdims, where=where)\n",
      "/home/lthapa/anaconda3/envs/ML_py/lib/python3.7/site-packages/numpy/core/_methods.py:179: RuntimeWarning: invalid value encountered in reduce\n",
      "  ret = umr_sum(arr, axis, dtype, out, keepdims, where=where)\n"
     ]
    },
    {
     "name": "stdout",
     "output_type": "stream",
     "text": [
      "2020-10-02\n"
     ]
    },
    {
     "name": "stderr",
     "output_type": "stream",
     "text": [
      "/home/lthapa/anaconda3/envs/ML_py/lib/python3.7/site-packages/numpy/core/_methods.py:179: RuntimeWarning: invalid value encountered in reduce\n",
      "  ret = umr_sum(arr, axis, dtype, out, keepdims, where=where)\n"
     ]
    },
    {
     "name": "stdout",
     "output_type": "stream",
     "text": [
      "2020-10-03\n"
     ]
    },
    {
     "name": "stderr",
     "output_type": "stream",
     "text": [
      "/home/lthapa/anaconda3/envs/ML_py/lib/python3.7/site-packages/numpy/core/_methods.py:179: RuntimeWarning: invalid value encountered in reduce\n",
      "  ret = umr_sum(arr, axis, dtype, out, keepdims, where=where)\n",
      "/home/lthapa/anaconda3/envs/ML_py/lib/python3.7/site-packages/numpy/core/_methods.py:179: RuntimeWarning: invalid value encountered in reduce\n",
      "  ret = umr_sum(arr, axis, dtype, out, keepdims, where=where)\n"
     ]
    },
    {
     "name": "stdout",
     "output_type": "stream",
     "text": [
      "2020-10-04\n"
     ]
    },
    {
     "name": "stderr",
     "output_type": "stream",
     "text": [
      "/home/lthapa/anaconda3/envs/ML_py/lib/python3.7/site-packages/numpy/core/_methods.py:179: RuntimeWarning: invalid value encountered in reduce\n",
      "  ret = umr_sum(arr, axis, dtype, out, keepdims, where=where)\n",
      "/home/lthapa/anaconda3/envs/ML_py/lib/python3.7/site-packages/numpy/core/_methods.py:179: RuntimeWarning: invalid value encountered in reduce\n",
      "  ret = umr_sum(arr, axis, dtype, out, keepdims, where=where)\n",
      "/home/lthapa/anaconda3/envs/ML_py/lib/python3.7/site-packages/numpy/core/_methods.py:179: RuntimeWarning: invalid value encountered in reduce\n",
      "  ret = umr_sum(arr, axis, dtype, out, keepdims, where=where)\n"
     ]
    },
    {
     "name": "stdout",
     "output_type": "stream",
     "text": [
      "2020-10-05\n"
     ]
    },
    {
     "name": "stderr",
     "output_type": "stream",
     "text": [
      "/home/lthapa/anaconda3/envs/ML_py/lib/python3.7/site-packages/numpy/core/_methods.py:179: RuntimeWarning: invalid value encountered in reduce\n",
      "  ret = umr_sum(arr, axis, dtype, out, keepdims, where=where)\n",
      "/home/lthapa/anaconda3/envs/ML_py/lib/python3.7/site-packages/numpy/core/_methods.py:179: RuntimeWarning: invalid value encountered in reduce\n",
      "  ret = umr_sum(arr, axis, dtype, out, keepdims, where=where)\n"
     ]
    },
    {
     "name": "stdout",
     "output_type": "stream",
     "text": [
      "2020-10-06\n",
      "2020-10-07\n"
     ]
    },
    {
     "name": "stderr",
     "output_type": "stream",
     "text": [
      "/home/lthapa/anaconda3/envs/ML_py/lib/python3.7/site-packages/numpy/core/_methods.py:179: RuntimeWarning: invalid value encountered in reduce\n",
      "  ret = umr_sum(arr, axis, dtype, out, keepdims, where=where)\n"
     ]
    },
    {
     "name": "stdout",
     "output_type": "stream",
     "text": [
      "2020-10-08\n"
     ]
    },
    {
     "name": "stderr",
     "output_type": "stream",
     "text": [
      "/home/lthapa/anaconda3/envs/ML_py/lib/python3.7/site-packages/numpy/core/_methods.py:179: RuntimeWarning: invalid value encountered in reduce\n",
      "  ret = umr_sum(arr, axis, dtype, out, keepdims, where=where)\n",
      "/home/lthapa/anaconda3/envs/ML_py/lib/python3.7/site-packages/numpy/core/_methods.py:179: RuntimeWarning: invalid value encountered in reduce\n",
      "  ret = umr_sum(arr, axis, dtype, out, keepdims, where=where)\n",
      "/home/lthapa/anaconda3/envs/ML_py/lib/python3.7/site-packages/numpy/core/_methods.py:179: RuntimeWarning: invalid value encountered in reduce\n",
      "  ret = umr_sum(arr, axis, dtype, out, keepdims, where=where)\n"
     ]
    },
    {
     "name": "stdout",
     "output_type": "stream",
     "text": [
      "2020-10-09\n"
     ]
    },
    {
     "name": "stderr",
     "output_type": "stream",
     "text": [
      "/home/lthapa/anaconda3/envs/ML_py/lib/python3.7/site-packages/numpy/core/_methods.py:179: RuntimeWarning: invalid value encountered in reduce\n",
      "  ret = umr_sum(arr, axis, dtype, out, keepdims, where=where)\n",
      "/home/lthapa/anaconda3/envs/ML_py/lib/python3.7/site-packages/numpy/core/_methods.py:179: RuntimeWarning: invalid value encountered in reduce\n",
      "  ret = umr_sum(arr, axis, dtype, out, keepdims, where=where)\n",
      "/home/lthapa/anaconda3/envs/ML_py/lib/python3.7/site-packages/numpy/core/_methods.py:179: RuntimeWarning: invalid value encountered in reduce\n",
      "  ret = umr_sum(arr, axis, dtype, out, keepdims, where=where)\n",
      "/home/lthapa/anaconda3/envs/ML_py/lib/python3.7/site-packages/numpy/core/_methods.py:179: RuntimeWarning: invalid value encountered in reduce\n",
      "  ret = umr_sum(arr, axis, dtype, out, keepdims, where=where)\n"
     ]
    },
    {
     "name": "stdout",
     "output_type": "stream",
     "text": [
      "2020-10-10\n"
     ]
    },
    {
     "name": "stderr",
     "output_type": "stream",
     "text": [
      "/home/lthapa/anaconda3/envs/ML_py/lib/python3.7/site-packages/numpy/core/_methods.py:179: RuntimeWarning: invalid value encountered in reduce\n",
      "  ret = umr_sum(arr, axis, dtype, out, keepdims, where=where)\n",
      "/home/lthapa/anaconda3/envs/ML_py/lib/python3.7/site-packages/numpy/core/_methods.py:179: RuntimeWarning: invalid value encountered in reduce\n",
      "  ret = umr_sum(arr, axis, dtype, out, keepdims, where=where)\n",
      "/home/lthapa/anaconda3/envs/ML_py/lib/python3.7/site-packages/numpy/core/_methods.py:179: RuntimeWarning: invalid value encountered in reduce\n",
      "  ret = umr_sum(arr, axis, dtype, out, keepdims, where=where)\n"
     ]
    },
    {
     "name": "stdout",
     "output_type": "stream",
     "text": [
      "2020-10-11\n"
     ]
    },
    {
     "name": "stderr",
     "output_type": "stream",
     "text": [
      "/home/lthapa/anaconda3/envs/ML_py/lib/python3.7/site-packages/numpy/core/_methods.py:179: RuntimeWarning: invalid value encountered in reduce\n",
      "  ret = umr_sum(arr, axis, dtype, out, keepdims, where=where)\n",
      "/home/lthapa/anaconda3/envs/ML_py/lib/python3.7/site-packages/numpy/core/_methods.py:179: RuntimeWarning: invalid value encountered in reduce\n",
      "  ret = umr_sum(arr, axis, dtype, out, keepdims, where=where)\n",
      "/home/lthapa/anaconda3/envs/ML_py/lib/python3.7/site-packages/numpy/core/_methods.py:179: RuntimeWarning: invalid value encountered in reduce\n",
      "  ret = umr_sum(arr, axis, dtype, out, keepdims, where=where)\n",
      "/home/lthapa/anaconda3/envs/ML_py/lib/python3.7/site-packages/numpy/core/_methods.py:179: RuntimeWarning: invalid value encountered in reduce\n",
      "  ret = umr_sum(arr, axis, dtype, out, keepdims, where=where)\n"
     ]
    },
    {
     "name": "stdout",
     "output_type": "stream",
     "text": [
      "2020-10-12\n"
     ]
    },
    {
     "name": "stderr",
     "output_type": "stream",
     "text": [
      "/home/lthapa/anaconda3/envs/ML_py/lib/python3.7/site-packages/numpy/core/_methods.py:179: RuntimeWarning: invalid value encountered in reduce\n",
      "  ret = umr_sum(arr, axis, dtype, out, keepdims, where=where)\n",
      "/home/lthapa/anaconda3/envs/ML_py/lib/python3.7/site-packages/numpy/core/_methods.py:179: RuntimeWarning: invalid value encountered in reduce\n",
      "  ret = umr_sum(arr, axis, dtype, out, keepdims, where=where)\n"
     ]
    },
    {
     "name": "stdout",
     "output_type": "stream",
     "text": [
      "2020-10-13\n",
      "2020-10-14\n"
     ]
    },
    {
     "name": "stderr",
     "output_type": "stream",
     "text": [
      "/home/lthapa/anaconda3/envs/ML_py/lib/python3.7/site-packages/numpy/core/_methods.py:179: RuntimeWarning: invalid value encountered in reduce\n",
      "  ret = umr_sum(arr, axis, dtype, out, keepdims, where=where)\n"
     ]
    },
    {
     "name": "stdout",
     "output_type": "stream",
     "text": [
      "2020-10-15\n",
      "2020-10-16\n",
      "2020-10-17\n"
     ]
    },
    {
     "name": "stderr",
     "output_type": "stream",
     "text": [
      "/home/lthapa/anaconda3/envs/ML_py/lib/python3.7/site-packages/numpy/core/_methods.py:179: RuntimeWarning: invalid value encountered in reduce\n",
      "  ret = umr_sum(arr, axis, dtype, out, keepdims, where=where)\n",
      "/home/lthapa/anaconda3/envs/ML_py/lib/python3.7/site-packages/numpy/core/_methods.py:179: RuntimeWarning: invalid value encountered in reduce\n",
      "  ret = umr_sum(arr, axis, dtype, out, keepdims, where=where)\n"
     ]
    },
    {
     "name": "stdout",
     "output_type": "stream",
     "text": [
      "2020-10-18\n"
     ]
    },
    {
     "name": "stderr",
     "output_type": "stream",
     "text": [
      "/home/lthapa/anaconda3/envs/ML_py/lib/python3.7/site-packages/numpy/core/_methods.py:179: RuntimeWarning: invalid value encountered in reduce\n",
      "  ret = umr_sum(arr, axis, dtype, out, keepdims, where=where)\n",
      "/home/lthapa/anaconda3/envs/ML_py/lib/python3.7/site-packages/numpy/core/_methods.py:179: RuntimeWarning: invalid value encountered in reduce\n",
      "  ret = umr_sum(arr, axis, dtype, out, keepdims, where=where)\n"
     ]
    },
    {
     "name": "stdout",
     "output_type": "stream",
     "text": [
      "2020-10-19\n"
     ]
    },
    {
     "name": "stderr",
     "output_type": "stream",
     "text": [
      "/home/lthapa/anaconda3/envs/ML_py/lib/python3.7/site-packages/numpy/core/_methods.py:179: RuntimeWarning: invalid value encountered in reduce\n",
      "  ret = umr_sum(arr, axis, dtype, out, keepdims, where=where)\n"
     ]
    },
    {
     "name": "stdout",
     "output_type": "stream",
     "text": [
      "2020-10-21\n"
     ]
    },
    {
     "name": "stderr",
     "output_type": "stream",
     "text": [
      "/home/lthapa/anaconda3/envs/ML_py/lib/python3.7/site-packages/numpy/core/_methods.py:179: RuntimeWarning: invalid value encountered in reduce\n",
      "  ret = umr_sum(arr, axis, dtype, out, keepdims, where=where)\n",
      "/home/lthapa/anaconda3/envs/ML_py/lib/python3.7/site-packages/numpy/core/_methods.py:179: RuntimeWarning: invalid value encountered in reduce\n",
      "  ret = umr_sum(arr, axis, dtype, out, keepdims, where=where)\n",
      "/home/lthapa/anaconda3/envs/ML_py/lib/python3.7/site-packages/numpy/core/_methods.py:179: RuntimeWarning: invalid value encountered in reduce\n",
      "  ret = umr_sum(arr, axis, dtype, out, keepdims, where=where)\n"
     ]
    },
    {
     "name": "stdout",
     "output_type": "stream",
     "text": [
      "2020-10-22\n",
      "2020-10-25\n",
      "2020-10-27\n"
     ]
    },
    {
     "name": "stderr",
     "output_type": "stream",
     "text": [
      "/home/lthapa/anaconda3/envs/ML_py/lib/python3.7/site-packages/numpy/core/_methods.py:179: RuntimeWarning: invalid value encountered in reduce\n",
      "  ret = umr_sum(arr, axis, dtype, out, keepdims, where=where)\n",
      "/home/lthapa/anaconda3/envs/ML_py/lib/python3.7/site-packages/numpy/core/_methods.py:179: RuntimeWarning: invalid value encountered in reduce\n",
      "  ret = umr_sum(arr, axis, dtype, out, keepdims, where=where)\n"
     ]
    },
    {
     "name": "stdout",
     "output_type": "stream",
     "text": [
      "2020-10-30\n"
     ]
    },
    {
     "name": "stderr",
     "output_type": "stream",
     "text": [
      "/home/lthapa/anaconda3/envs/ML_py/lib/python3.7/site-packages/numpy/core/_methods.py:179: RuntimeWarning: invalid value encountered in reduce\n",
      "  ret = umr_sum(arr, axis, dtype, out, keepdims, where=where)\n",
      "/home/lthapa/anaconda3/envs/ML_py/lib/python3.7/site-packages/numpy/core/_methods.py:179: RuntimeWarning: invalid value encountered in reduce\n",
      "  ret = umr_sum(arr, axis, dtype, out, keepdims, where=where)\n"
     ]
    },
    {
     "name": "stdout",
     "output_type": "stream",
     "text": [
      "                    day       hd0w0       hd1w0       hd2w0       hd3w0  \\\n",
      "0   2020-08-16 12:00:00  144.338919  152.263488  134.111793  121.317779   \n",
      "1   2020-08-17 12:00:00  109.920631  123.212304  134.662812  117.461518   \n",
      "2   2020-08-18 12:00:00  148.438144  111.846538  133.165856  151.512639   \n",
      "3   2020-08-19 12:00:00  134.843725  140.985625  115.311062  140.904352   \n",
      "4   2020-08-20 12:00:00   68.761818   71.078090   84.052375   68.372733   \n",
      "5   2020-08-21 12:00:00   70.403850   68.489917   73.805747   87.749070   \n",
      "6   2020-08-22 12:00:00   78.543712   69.971804   70.800315   77.604620   \n",
      "7   2020-08-23 12:00:00   84.560627   76.682516   69.849729   70.727639   \n",
      "8   2020-08-24 12:00:00   84.516495   79.896782   74.697011   68.582782   \n",
      "9   2020-08-25 12:00:00   76.165510   74.583869   76.892767   71.595148   \n",
      "10  2020-08-26 12:00:00   66.759074   67.151715   71.153160   73.148639   \n",
      "11  2020-08-27 12:00:00   95.798039   87.020236   94.074807   99.854859   \n",
      "12  2020-08-28 12:00:00  101.316051   79.633235   75.343338   81.615065   \n",
      "13  2020-08-29 12:00:00   90.500123   86.184195   74.253031   69.939193   \n",
      "14  2020-08-30 12:00:00   73.159453   71.829334   75.019346   65.501233   \n",
      "15  2020-08-31 12:00:00   76.776310   71.016458   73.363209   76.819013   \n",
      "16  2020-09-01 12:00:00  107.140867   93.542303   90.512392   92.842460   \n",
      "17  2020-09-02 12:00:00   78.875214   75.777559   72.711972   70.916645   \n",
      "18  2020-09-03 12:00:00   71.261377   63.052706   65.526483   63.225134   \n",
      "19  2020-09-04 12:00:00   97.617553   85.491277   83.811564   86.561546   \n",
      "20  2020-09-05 12:00:00  120.062754   93.196525   89.801148   88.392444   \n",
      "21  2020-09-06 12:00:00  104.266530   89.167927   76.205920   73.706404   \n",
      "22  2020-09-07 12:00:00  118.542573  109.978859  106.599617   91.113154   \n",
      "23  2020-09-08 12:00:00  198.273668  221.161422  225.486579  202.686402   \n",
      "24  2020-09-09 12:00:00  104.772140  111.359708  136.201686  137.410486   \n",
      "25  2020-09-10 12:00:00   87.395155   85.882360  102.286084  126.508150   \n",
      "26  2020-09-11 12:00:00   69.979862   64.139616   72.160586   87.021315   \n",
      "27  2020-09-12 12:00:00   68.706952   57.165251   58.789391   66.667237   \n",
      "28  2020-09-13 12:00:00   94.293788   85.540839   77.973569   81.133683   \n",
      "29  2020-09-14 12:00:00   82.381058   80.874787   81.240375   73.962228   \n",
      "30  2020-09-15 12:00:00   84.624591   72.934270   80.129590   80.312184   \n",
      "31  2020-09-16 12:00:00   60.465390   58.441508   57.117539   62.667540   \n",
      "32  2020-09-17 12:00:00   69.779999   66.148281   69.242124   67.588618   \n",
      "33  2020-09-18 12:00:00   54.913109   63.796295   70.103735   72.962302   \n",
      "34  2020-09-19 12:00:00   48.403387   37.591230   46.798522   50.510671   \n",
      "35  2020-09-20 12:00:00   55.526256   45.150666   36.401717   44.785764   \n",
      "36  2020-09-21 12:00:00   66.231022   62.641210   57.043065   46.788512   \n",
      "37  2020-09-22 12:00:00   65.818120   64.093425   67.614278   60.578356   \n",
      "38  2020-09-23 12:00:00   72.765505   63.799036   69.348620   72.667914   \n",
      "39  2020-09-24 12:00:00   58.070239   60.270505   59.296254   64.594752   \n",
      "40  2020-09-25 12:00:00   52.357988   43.902803   50.030854   49.158082   \n",
      "41  2020-09-26 12:00:00   70.345204   62.788713   55.670495   64.384578   \n",
      "42  2020-09-27 12:00:00  215.135943  154.937241  137.395759  123.066640   \n",
      "43  2020-09-28 12:00:00  149.644202  116.281773   84.852640   76.967352   \n",
      "44  2020-09-29 12:00:00   78.042231   79.543245   71.698343   52.767563   \n",
      "45  2020-09-30 12:00:00   77.700059   66.928395   77.308887   70.338235   \n",
      "46  2020-10-01 12:00:00   99.201349   81.077126   75.609718   89.598686   \n",
      "47  2020-10-02 12:00:00   82.080764   78.078862   73.476717   68.791369   \n",
      "48  2020-10-03 12:00:00   71.763185   71.472848   75.916165   71.894389   \n",
      "49  2020-10-04 12:00:00   54.149373   52.352790   61.797164   66.232297   \n",
      "50  2020-10-05 12:00:00   73.497638   59.749194   63.720298   74.717155   \n",
      "51  2020-10-06 12:00:00   65.853552   60.021732   56.759515   61.156497   \n",
      "52  2020-10-07 12:00:00   61.330937   58.913655   62.672858   59.348996   \n",
      "53  2020-10-08 12:00:00   52.130999   52.224528   59.254831   63.486501   \n",
      "54  2020-10-09 12:00:00   52.053726   48.770482   55.848912   63.293590   \n",
      "55  2020-10-10 12:00:00   52.288392   60.282087   63.052538   71.106246   \n",
      "56  2020-10-11 12:00:00   52.764935   43.504241   50.086385   51.824122   \n",
      "57  2020-10-12 12:00:00   53.294174   41.367643   37.707822   43.988027   \n",
      "58  2020-10-13 12:00:00   68.611994   56.747161   49.411231   44.085589   \n",
      "59  2020-10-14 12:00:00   73.335550   62.632317   57.167134   49.476216   \n",
      "60  2020-10-15 12:00:00  210.876588  156.664789  146.559127  131.182884   \n",
      "61  2020-10-16 12:00:00  183.625834  155.309654  122.800357  115.968667   \n",
      "62  2020-10-17 12:00:00  111.589834   99.836995   91.188076   82.387612   \n",
      "63  2020-10-18 12:00:00  118.824158  129.824562  121.519534  108.369589   \n",
      "64  2020-10-19 12:00:00   58.461032   55.214701   62.593182   61.397391   \n",
      "65  2020-10-21 12:00:00   82.571542   85.183871   83.121166   85.735352   \n",
      "66  2020-10-22 12:00:00   78.388785   85.413803  100.624364   97.247622   \n",
      "67  2020-10-25 12:00:00   77.248361   92.358196  105.447827  105.620248   \n",
      "68  2020-10-27 12:00:00   56.934927   38.694318   32.751759   36.259512   \n",
      "69  2020-10-30 12:00:00   34.503042   36.028333   38.700520   40.717289   \n",
      "\n",
      "         hd4w0       hd5w0     temp_2m      q_2m  wind_speed  ...      soilm  \\\n",
      "0   113.493160  120.835936  298.241311  0.008028    4.557573  ...  15.766043   \n",
      "1   107.343205  100.546875  295.577545  0.009064    4.057198  ...  33.465654   \n",
      "2   136.544143  116.052790  303.390780  0.009055    3.196254  ...  14.800951   \n",
      "3   156.025619  140.394732  297.724755  0.002611    4.283642  ...  10.212486   \n",
      "4    83.448626   92.148452  295.543664  0.003632    2.409442  ...   7.747501   \n",
      "5    73.240278   88.835786  295.038094  0.009321    2.610841  ...   9.746990   \n",
      "6    91.715669   74.715668  295.757703  0.009305    2.759545  ...  10.338491   \n",
      "7    76.116020   90.150783  296.838854  0.005336    2.795806  ...   8.387807   \n",
      "8    69.316329   73.736027  297.223684  0.005862    2.749967  ...   9.061831   \n",
      "9    66.024380   67.378143  295.740710  0.006654    2.706403  ...   6.172331   \n",
      "10   68.385229   63.289957  294.646891  0.008932    2.521194  ...   7.818402   \n",
      "11  102.481414   96.014858  295.017040  0.007547    3.542216  ...   7.792923   \n",
      "12   86.080571   88.105960  297.886830  0.006109    3.121236  ...   6.661490   \n",
      "13   75.703892   80.178410  296.956566  0.007213    2.941637  ...   5.493686   \n",
      "14   61.455215   66.334553  295.966888  0.005501    2.493538  ...   4.635907   \n",
      "15   66.162320   62.846353  295.816112  0.004231    2.685019  ...   6.837343   \n",
      "16   97.250230   83.971040  296.833760  0.004354    3.544586  ...   4.750469   \n",
      "17   73.389664   75.756216  296.240745  0.007316    2.695059  ...   4.693896   \n",
      "18   61.906916   63.807827  296.543460  0.007450    2.379993  ...   5.393627   \n",
      "19   83.537138   81.502050  296.678275  0.004252    3.270424  ...   4.536028   \n",
      "20   91.185058   88.477739  299.448034  0.003342    3.326353  ...   3.468744   \n",
      "21   72.126431   74.006070  300.917633  0.004975    2.675767  ...   4.177773   \n",
      "22   88.528457   86.576268  299.830954  0.005745    3.220003  ...   4.501620   \n",
      "23  162.181249  161.725354  299.109927  0.001926    5.753991  ...   1.929896   \n",
      "24  127.686545  105.804083  296.004606  0.001657    3.669180  ...   2.474098   \n",
      "25  128.522984  118.785700  293.770961  0.002809    3.475115  ...   2.802803   \n",
      "26  108.870761  110.894530  293.053926  0.003283    2.873605  ...   3.497533   \n",
      "27   79.299928   99.300918  293.910793  0.003342    2.662015  ...   3.210357   \n",
      "28   90.572092  102.794382  293.612559  0.003039    3.808423  ...   3.473946   \n",
      "29   75.394872   84.124275  292.732709  0.003858    3.528712  ...   4.016978   \n",
      "30   73.221368   75.160889  293.451091  0.002261    3.426832  ...   4.525421   \n",
      "31   62.346945   57.016746  291.948993  0.004923    2.691030  ...   5.321747   \n",
      "32   74.639513   73.902130  292.402472  0.007734    3.075360  ...   6.307211   \n",
      "33   71.656852   79.797052  287.706818  0.008200    3.329068  ...  15.352825   \n",
      "34   52.991518   51.612367  290.003928  0.007177    2.362545  ...  20.940355   \n",
      "35   47.992281   50.008190  294.024606  0.005046    2.126132  ...   8.057765   \n",
      "36   57.130567   61.077330  293.623987  0.005439    2.581250  ...   5.461860   \n",
      "37   49.775153   61.391919  291.688020  0.005458    2.909818  ...   5.169848   \n",
      "38   63.291044   53.213774  290.898315  0.005523    3.506666  ...   5.867770   \n",
      "39   68.189275   59.304804  288.864284  0.009001    3.271816  ...  25.281359   \n",
      "40   53.453528   56.762380  289.383851  0.004698    2.735125  ...  18.210856   \n",
      "41   62.467327   67.248691  290.912112  0.007163    3.357827  ...   7.212043   \n",
      "42  138.651939  136.378683  295.587700  0.003996    7.644091  ...   7.263053   \n",
      "43   68.936563   77.283718  299.603938  0.002648    4.208432  ...   1.778548   \n",
      "44   48.100187   42.762946  295.760712  0.003636    2.702046  ...   3.122931   \n",
      "45   51.563579   46.827435  296.524072  0.003528    2.571320  ...   3.583561   \n",
      "46   81.303147   57.410263  298.620876  0.003597    2.868414  ...   2.828602   \n",
      "47   81.122483   74.474230  296.976038  0.003712    2.597111  ...   2.006032   \n",
      "48   67.998021   79.901229  294.545161  0.003870    2.640717  ...   3.295485   \n",
      "49   61.653139   58.301323  292.079468  0.003825    2.297061  ...   3.610973   \n",
      "50   80.460085   75.477114  293.787753  0.002818    2.826030  ...   2.764280   \n",
      "51   71.464488   77.456110  293.148179  0.002598    2.626821  ...   2.393255   \n",
      "52   63.056170   73.414842  291.864718  0.001382    2.665969  ...   2.251084   \n",
      "53   59.770825   63.512244  289.870693  0.003167    2.634463  ...   3.138747   \n",
      "54   68.286521   64.590381  289.190807  0.005281    2.700891  ...   4.487110   \n",
      "55   76.492835   78.997290  284.791583  0.008249    3.790395  ...  12.013239   \n",
      "56   60.131153   69.610523  287.491685  0.004841    3.007121  ...  36.710790   \n",
      "57   45.786012   53.061773  289.321241  0.006811    2.670512  ...  10.111416   \n",
      "58   51.460583   52.879400  291.139241  0.005878    3.165387  ...  14.289425   \n",
      "59   44.359989   51.301666  292.172722  0.004828    3.164445  ...  10.035169   \n",
      "60  113.372746  103.019690  295.384459  0.003178    7.609308  ...   4.744035   \n",
      "61  103.032364   90.266554  297.495924  0.002856    5.749769  ...   2.022622   \n",
      "62   74.038227   65.613652  294.666913  0.003431    4.197179  ...   6.142745   \n",
      "63  101.607616   91.161802  292.993929  0.003256    5.080834  ...   8.260990   \n",
      "64   56.650764   49.104420  290.999122  0.004176    2.786541  ...   9.075412   \n",
      "65   95.924412   98.222113  292.079336  0.005552    3.645376  ...   1.961647   \n",
      "66   99.603205  111.707084  286.924286  0.001837    4.785762  ...   2.492308   \n",
      "67  110.284515  139.448457  281.387421  0.002053    6.969150  ...   3.253846   \n",
      "68   38.429980   43.808295  292.332665  0.002322    2.326917  ...   1.878602   \n",
      "69   29.564489   22.840353  288.437805  0.002735    1.863502  ...   1.430769   \n",
      "\n",
      "      esat_2m      e_2m     vpd_2m        hwp  veg_term  gust_max_term  \\\n",
      "0   32.450700  0.015033  32.435667  14.398397       1.0       8.138407   \n",
      "1   27.433834  0.016821  27.417013   5.823639       1.0       6.588683   \n",
      "2   45.186266  0.017257  45.169009  11.981959       1.0       4.483609   \n",
      "3   31.730639  0.004859  31.725780  33.591535       1.0       7.880431   \n",
      "4   28.408146  0.006742  28.401404  12.024005       1.0       3.770552   \n",
      "5   27.217568  0.017292  27.200276   7.533462       1.0       4.199590   \n",
      "6   28.474668  0.017307  28.457361   6.991819       1.0       3.995778   \n",
      "7   30.324722  0.009911  30.314810  11.953293       1.0       4.229164   \n",
      "8   30.708734  0.010901  30.697833   9.819473       1.0       3.804306   \n",
      "9   28.259459  0.012327  28.247132  11.071476       1.0       4.295394   \n",
      "10  26.359241  0.016530  26.342710   6.882556       1.0       3.522879   \n",
      "11  27.243332  0.013953  27.229380  10.673825       1.0       4.859422   \n",
      "12  32.533329  0.011391  32.521938  11.693393       1.0       4.051111   \n",
      "13  30.686499  0.013465  30.673033  11.678317       1.0       4.117739   \n",
      "14  29.253785  0.010203  29.243582  11.610917       1.0       3.665208   \n",
      "15  28.662523  0.007829  28.654694  13.174792       1.0       4.068474   \n",
      "16  30.265394  0.008070  30.257323  19.055568       1.0       5.010377   \n",
      "17  29.266259  0.013649  29.252609   9.981400       1.0       3.677625   \n",
      "18  29.822142  0.013882  29.808260   8.884984       1.0       3.443513   \n",
      "19  29.959999  0.007894  29.952105  21.361639       1.0       5.362414   \n",
      "20  35.902496  0.006259  35.896237  27.311786       1.0       5.194792   \n",
      "21  38.843209  0.009361  38.833848  17.119237       1.0       4.034354   \n",
      "22  36.759460  0.010765  36.748696  21.295005       1.0       5.088320   \n",
      "23  34.844479  0.003585  34.840894  69.607428       1.0       9.540608   \n",
      "24  29.010373  0.003062  29.007311  34.764145       1.0       5.252772   \n",
      "25  25.315932  0.005158  25.310774  24.318521       1.0       4.982634   \n",
      "26  24.450596  0.006018  24.444578  17.316965       1.0       4.256071   \n",
      "27  26.032029  0.006130  26.025899  16.425541       1.0       3.807577   \n",
      "28  25.164666  0.005586  25.159081  30.127840       1.0       6.425957   \n",
      "29  23.768597  0.007067  23.761530  26.042373       1.0       6.405746   \n",
      "30  25.060525  0.004157  25.056368  28.325948       1.0       5.788922   \n",
      "31  22.787869  0.009048  22.778820  14.027460       1.0       4.510259   \n",
      "32  23.207412  0.014193  23.193219  12.412449       1.0       5.661164   \n",
      "33  17.009207  0.014813  16.994395   7.823288       1.0       5.301089   \n",
      "34  20.397372  0.013030  20.384342   5.088357       1.0       3.644595   \n",
      "35  26.245871  0.009278  26.236592   9.216617       1.0       3.398268   \n",
      "36  25.813398  0.009982  25.803415  11.376894       1.0       3.815742   \n",
      "37  22.691087  0.009941  22.681147  14.742130       1.0       4.580681   \n",
      "38  21.314735  0.010076  21.304660  15.488350       1.0       6.103630   \n",
      "39  18.356198  0.016322  18.339876   8.601610       1.0       6.216860   \n",
      "40  19.461582  0.008492  19.453089   8.698334       1.0       4.271481   \n",
      "41  21.155197  0.013050  21.142147  14.929701       1.0       6.168819   \n",
      "42  28.780184  0.007362  28.772822  67.428901       1.0      14.817925   \n",
      "43  36.060657  0.004942  36.055715  42.544345       1.0       6.682654   \n",
      "44  29.036196  0.006726  29.029470  16.327193       1.0       3.682055   \n",
      "45  30.514384  0.006541  30.507843  17.086567       1.0       3.841384   \n",
      "46  34.522446  0.006700  34.515746  21.261432       1.0       4.347911   \n",
      "47  31.356984  0.006870  31.350113  19.484134       1.0       3.928498   \n",
      "48  27.167886  0.007088  27.160798  19.065846       1.0       4.301317   \n",
      "49  23.574713  0.007001  23.567713  12.744894       1.0       3.476502   \n",
      "50  26.040108  0.005159  26.034949  19.607467       1.0       4.064458   \n",
      "51  25.054778  0.004743  25.050034  19.389599       1.0       3.849121   \n",
      "52  23.066073  0.002520  23.063553  24.485607       1.0       3.944852   \n",
      "53  19.888321  0.005766  19.882555  15.445785       1.0       3.928977   \n",
      "54  19.317432  0.009568  19.307865  11.053774       1.0       4.091245   \n",
      "55  13.807696  0.014740  13.792956  12.736901       1.0       7.468915   \n",
      "56  17.483473  0.008703  17.474770   3.489764       1.0       6.113532   \n",
      "57  19.865294  0.012369  19.852925   8.762272       1.0       4.988075   \n",
      "58  21.747321  0.010724  21.736597  10.089775       1.0       4.978188   \n",
      "59  23.123912  0.008793  23.115118  18.528821       1.0       7.715002   \n",
      "60  27.744604  0.005850  27.738754  67.085967       1.0      14.274127   \n",
      "61  31.699385  0.005301  31.694084  64.242251       1.0      10.592768   \n",
      "62  26.561769  0.006319  26.555450  25.496461       1.0       6.978053   \n",
      "63  23.403249  0.005957  23.397291  23.442570       1.0       7.827853   \n",
      "64  21.014114  0.007592  21.006522  10.659969       1.0       5.044217   \n",
      "65  22.638858  0.010144  22.628714  18.279366       1.0       5.367536   \n",
      "66  16.382854  0.003271  16.379583  51.806686       1.0      10.694340   \n",
      "67  11.087917  0.003586  11.084331  56.346191       1.0      13.081610   \n",
      "68  24.270543  0.004221  24.266322  27.001936       1.0       5.012692   \n",
      "69  18.520093  0.004928  18.515165  12.826626       1.0       3.225258   \n",
      "\n",
      "      dd_term  mois_term  snowc_term  \n",
      "0   17.706308   0.842340         1.0  \n",
      "1   15.504762   0.665343         1.0  \n",
      "2   19.707131   0.851990         1.0  \n",
      "3   32.137637   0.897875         1.0  \n",
      "4   25.681495   0.922525         1.0  \n",
      "5   15.442415   0.902530         1.0  \n",
      "6   15.733764   0.896615         1.0  \n",
      "7   21.488823   0.916122         1.0  \n",
      "8   20.345905   0.909382         1.0  \n",
      "9   17.832155   0.938277         1.0  \n",
      "10  15.436259   0.921816         1.0  \n",
      "11  16.749905   0.922071         1.0  \n",
      "12  20.770754   0.933385         1.0  \n",
      "13  18.082761   0.945063         1.0  \n",
      "14  20.175980   0.953641         1.0  \n",
      "15  23.572895   0.931627         1.0  \n",
      "16  24.171233   0.952495         1.0  \n",
      "17  17.348985   0.953061         1.0  \n",
      "18  17.178863   0.946064         1.0  \n",
      "19  24.373332   0.954640         1.0  \n",
      "20  30.285892   0.965313         1.0  \n",
      "21  26.173494   0.958222         1.0  \n",
      "22  23.466562   0.954984         1.0  \n",
      "23  36.804092   0.980701         1.0  \n",
      "24  35.915503   0.975259         1.0  \n",
      "25  26.672070   0.971972         1.0  \n",
      "26  23.787388   0.965025         1.0  \n",
      "27  24.862201   0.967896         1.0  \n",
      "28  26.010299   0.965261         1.0  \n",
      "29  22.703159   0.959830         1.0  \n",
      "30  29.863154   0.954746         1.0  \n",
      "31  19.815723   0.946783         1.0  \n",
      "32  15.206429   0.936928         1.0  \n",
      "33  15.000000   0.846472         1.0  \n",
      "34  15.938891   0.790596         1.0  \n",
      "35  19.773738   0.919422         1.0  \n",
      "36  19.359896   0.945381         1.0  \n",
      "37  18.615751   0.948301         1.0  \n",
      "38  16.144108   0.941322         1.0  \n",
      "39  15.006386   0.747186         1.0  \n",
      "40  18.337092   0.817891         1.0  \n",
      "41  15.429190   0.927880         1.0  \n",
      "42  23.895755   0.927369         1.0  \n",
      "43  32.837705   0.982215         1.0  \n",
      "44  25.122061   0.968771         1.0  \n",
      "45  26.023748   0.964164         1.0  \n",
      "46  28.011638   0.971714         1.0  \n",
      "47  26.316060   0.979940         1.0  \n",
      "48  24.975658   0.967045         1.0  \n",
      "49  22.296950   0.963890         1.0  \n",
      "50  26.799450   0.972357         1.0  \n",
      "51  27.099054   0.976067         1.0  \n",
      "52  35.101338   0.977489         1.0  \n",
      "53  23.102622   0.968612         1.0  \n",
      "54  16.414418   0.955129         1.0  \n",
      "55  15.000000   0.879868         1.0  \n",
      "56  16.463552   0.632892         1.0  \n",
      "57  15.523599   0.898886         1.0  \n",
      "58  16.245692   0.857106         1.0  \n",
      "59  19.937227   0.899648         1.0  \n",
      "60  26.097468   0.952560         1.0  \n",
      "61  29.503436   0.979774         1.0  \n",
      "62  25.398900   0.938573         1.0  \n",
      "63  24.207698   0.917390         1.0  \n",
      "64  19.318885   0.909246         1.0  \n",
      "65  17.057785   0.980383         1.0  \n",
      "66  25.451445   0.975077         1.0  \n",
      "67  22.250893   0.967462         1.0  \n",
      "68  26.978906   0.981214         1.0  \n",
      "69  21.181648   0.985692         1.0  \n",
      "\n",
      "[70 rows x 23 columns]\n",
      "/data2/lthapa/ML_daily/fire_polygons/bobcat_VIIRS_daily_12Z_day_start.geojson\n"
     ]
    },
    {
     "name": "stdout",
     "output_type": "stream",
     "text": [
      "epsg:3347\n",
      "0:00:20.662086\n",
      "2020-09-05\n",
      "2020-09-06\n",
      "2020-09-07\n"
     ]
    },
    {
     "name": "stderr",
     "output_type": "stream",
     "text": [
      "/home/lthapa/anaconda3/envs/ML_py/lib/python3.7/site-packages/numpy/core/_methods.py:179: RuntimeWarning: invalid value encountered in reduce\n",
      "  ret = umr_sum(arr, axis, dtype, out, keepdims, where=where)\n"
     ]
    },
    {
     "name": "stdout",
     "output_type": "stream",
     "text": [
      "2020-09-08\n",
      "2020-09-09\n"
     ]
    },
    {
     "name": "stderr",
     "output_type": "stream",
     "text": [
      "/home/lthapa/anaconda3/envs/ML_py/lib/python3.7/site-packages/numpy/core/_methods.py:179: RuntimeWarning: invalid value encountered in reduce\n",
      "  ret = umr_sum(arr, axis, dtype, out, keepdims, where=where)\n"
     ]
    },
    {
     "name": "stdout",
     "output_type": "stream",
     "text": [
      "2020-09-10\n"
     ]
    },
    {
     "name": "stderr",
     "output_type": "stream",
     "text": [
      "/home/lthapa/anaconda3/envs/ML_py/lib/python3.7/site-packages/numpy/core/_methods.py:179: RuntimeWarning: invalid value encountered in reduce\n",
      "  ret = umr_sum(arr, axis, dtype, out, keepdims, where=where)\n",
      "/home/lthapa/anaconda3/envs/ML_py/lib/python3.7/site-packages/numpy/core/_methods.py:179: RuntimeWarning: invalid value encountered in reduce\n",
      "  ret = umr_sum(arr, axis, dtype, out, keepdims, where=where)\n"
     ]
    },
    {
     "name": "stdout",
     "output_type": "stream",
     "text": [
      "2020-09-11\n",
      "2020-09-12\n"
     ]
    },
    {
     "name": "stderr",
     "output_type": "stream",
     "text": [
      "/home/lthapa/anaconda3/envs/ML_py/lib/python3.7/site-packages/numpy/core/_methods.py:179: RuntimeWarning: invalid value encountered in reduce\n",
      "  ret = umr_sum(arr, axis, dtype, out, keepdims, where=where)\n"
     ]
    },
    {
     "name": "stdout",
     "output_type": "stream",
     "text": [
      "2020-09-13\n"
     ]
    },
    {
     "name": "stderr",
     "output_type": "stream",
     "text": [
      "/home/lthapa/anaconda3/envs/ML_py/lib/python3.7/site-packages/numpy/core/_methods.py:179: RuntimeWarning: invalid value encountered in reduce\n",
      "  ret = umr_sum(arr, axis, dtype, out, keepdims, where=where)\n"
     ]
    },
    {
     "name": "stdout",
     "output_type": "stream",
     "text": [
      "2020-09-14\n"
     ]
    },
    {
     "name": "stderr",
     "output_type": "stream",
     "text": [
      "/home/lthapa/anaconda3/envs/ML_py/lib/python3.7/site-packages/numpy/core/_methods.py:179: RuntimeWarning: invalid value encountered in reduce\n",
      "  ret = umr_sum(arr, axis, dtype, out, keepdims, where=where)\n"
     ]
    },
    {
     "name": "stdout",
     "output_type": "stream",
     "text": [
      "2020-09-15\n"
     ]
    },
    {
     "name": "stderr",
     "output_type": "stream",
     "text": [
      "/home/lthapa/anaconda3/envs/ML_py/lib/python3.7/site-packages/numpy/core/_methods.py:179: RuntimeWarning: invalid value encountered in reduce\n",
      "  ret = umr_sum(arr, axis, dtype, out, keepdims, where=where)\n",
      "/home/lthapa/anaconda3/envs/ML_py/lib/python3.7/site-packages/numpy/core/_methods.py:179: RuntimeWarning: invalid value encountered in reduce\n",
      "  ret = umr_sum(arr, axis, dtype, out, keepdims, where=where)\n"
     ]
    },
    {
     "name": "stdout",
     "output_type": "stream",
     "text": [
      "2020-09-16\n",
      "2020-09-17\n"
     ]
    },
    {
     "name": "stderr",
     "output_type": "stream",
     "text": [
      "/home/lthapa/anaconda3/envs/ML_py/lib/python3.7/site-packages/numpy/core/_methods.py:179: RuntimeWarning: invalid value encountered in reduce\n",
      "  ret = umr_sum(arr, axis, dtype, out, keepdims, where=where)\n",
      "/home/lthapa/anaconda3/envs/ML_py/lib/python3.7/site-packages/numpy/core/_methods.py:179: RuntimeWarning: invalid value encountered in reduce\n",
      "  ret = umr_sum(arr, axis, dtype, out, keepdims, where=where)\n",
      "/home/lthapa/anaconda3/envs/ML_py/lib/python3.7/site-packages/numpy/core/_methods.py:179: RuntimeWarning: invalid value encountered in reduce\n",
      "  ret = umr_sum(arr, axis, dtype, out, keepdims, where=where)\n",
      "/home/lthapa/anaconda3/envs/ML_py/lib/python3.7/site-packages/numpy/core/_methods.py:179: RuntimeWarning: invalid value encountered in reduce\n",
      "  ret = umr_sum(arr, axis, dtype, out, keepdims, where=where)\n"
     ]
    },
    {
     "name": "stdout",
     "output_type": "stream",
     "text": [
      "2020-09-18\n"
     ]
    },
    {
     "name": "stderr",
     "output_type": "stream",
     "text": [
      "/home/lthapa/anaconda3/envs/ML_py/lib/python3.7/site-packages/numpy/core/_methods.py:179: RuntimeWarning: invalid value encountered in reduce\n",
      "  ret = umr_sum(arr, axis, dtype, out, keepdims, where=where)\n"
     ]
    },
    {
     "name": "stdout",
     "output_type": "stream",
     "text": [
      "2020-09-19\n"
     ]
    },
    {
     "name": "stderr",
     "output_type": "stream",
     "text": [
      "/home/lthapa/anaconda3/envs/ML_py/lib/python3.7/site-packages/numpy/core/_methods.py:179: RuntimeWarning: invalid value encountered in reduce\n",
      "  ret = umr_sum(arr, axis, dtype, out, keepdims, where=where)\n",
      "/home/lthapa/anaconda3/envs/ML_py/lib/python3.7/site-packages/numpy/core/_methods.py:179: RuntimeWarning: invalid value encountered in reduce\n",
      "  ret = umr_sum(arr, axis, dtype, out, keepdims, where=where)\n",
      "/home/lthapa/anaconda3/envs/ML_py/lib/python3.7/site-packages/numpy/core/_methods.py:179: RuntimeWarning: invalid value encountered in reduce\n",
      "  ret = umr_sum(arr, axis, dtype, out, keepdims, where=where)\n"
     ]
    },
    {
     "name": "stdout",
     "output_type": "stream",
     "text": [
      "2020-09-20\n"
     ]
    },
    {
     "name": "stderr",
     "output_type": "stream",
     "text": [
      "/home/lthapa/anaconda3/envs/ML_py/lib/python3.7/site-packages/numpy/core/_methods.py:179: RuntimeWarning: invalid value encountered in reduce\n",
      "  ret = umr_sum(arr, axis, dtype, out, keepdims, where=where)\n",
      "/home/lthapa/anaconda3/envs/ML_py/lib/python3.7/site-packages/numpy/core/_methods.py:179: RuntimeWarning: invalid value encountered in reduce\n",
      "  ret = umr_sum(arr, axis, dtype, out, keepdims, where=where)\n",
      "/home/lthapa/anaconda3/envs/ML_py/lib/python3.7/site-packages/numpy/core/_methods.py:179: RuntimeWarning: invalid value encountered in reduce\n",
      "  ret = umr_sum(arr, axis, dtype, out, keepdims, where=where)\n",
      "/home/lthapa/anaconda3/envs/ML_py/lib/python3.7/site-packages/numpy/core/_methods.py:179: RuntimeWarning: invalid value encountered in reduce\n",
      "  ret = umr_sum(arr, axis, dtype, out, keepdims, where=where)\n"
     ]
    },
    {
     "name": "stdout",
     "output_type": "stream",
     "text": [
      "2020-09-21\n"
     ]
    },
    {
     "name": "stderr",
     "output_type": "stream",
     "text": [
      "/home/lthapa/anaconda3/envs/ML_py/lib/python3.7/site-packages/numpy/core/_methods.py:179: RuntimeWarning: invalid value encountered in reduce\n",
      "  ret = umr_sum(arr, axis, dtype, out, keepdims, where=where)\n",
      "/home/lthapa/anaconda3/envs/ML_py/lib/python3.7/site-packages/numpy/core/_methods.py:179: RuntimeWarning: invalid value encountered in reduce\n",
      "  ret = umr_sum(arr, axis, dtype, out, keepdims, where=where)\n",
      "/home/lthapa/anaconda3/envs/ML_py/lib/python3.7/site-packages/numpy/core/_methods.py:179: RuntimeWarning: invalid value encountered in reduce\n",
      "  ret = umr_sum(arr, axis, dtype, out, keepdims, where=where)\n"
     ]
    },
    {
     "name": "stdout",
     "output_type": "stream",
     "text": [
      "2020-09-22\n"
     ]
    },
    {
     "name": "stderr",
     "output_type": "stream",
     "text": [
      "/home/lthapa/anaconda3/envs/ML_py/lib/python3.7/site-packages/numpy/core/_methods.py:179: RuntimeWarning: invalid value encountered in reduce\n",
      "  ret = umr_sum(arr, axis, dtype, out, keepdims, where=where)\n"
     ]
    },
    {
     "name": "stdout",
     "output_type": "stream",
     "text": [
      "2020-09-23\n"
     ]
    },
    {
     "name": "stderr",
     "output_type": "stream",
     "text": [
      "/home/lthapa/anaconda3/envs/ML_py/lib/python3.7/site-packages/numpy/core/_methods.py:179: RuntimeWarning: invalid value encountered in reduce\n",
      "  ret = umr_sum(arr, axis, dtype, out, keepdims, where=where)\n",
      "/home/lthapa/anaconda3/envs/ML_py/lib/python3.7/site-packages/numpy/core/_methods.py:179: RuntimeWarning: invalid value encountered in reduce\n",
      "  ret = umr_sum(arr, axis, dtype, out, keepdims, where=where)\n"
     ]
    },
    {
     "name": "stdout",
     "output_type": "stream",
     "text": [
      "2020-09-24\n"
     ]
    },
    {
     "name": "stderr",
     "output_type": "stream",
     "text": [
      "/home/lthapa/anaconda3/envs/ML_py/lib/python3.7/site-packages/numpy/core/_methods.py:179: RuntimeWarning: invalid value encountered in reduce\n",
      "  ret = umr_sum(arr, axis, dtype, out, keepdims, where=where)\n"
     ]
    },
    {
     "name": "stdout",
     "output_type": "stream",
     "text": [
      "2020-09-25\n",
      "2020-09-26\n"
     ]
    },
    {
     "name": "stderr",
     "output_type": "stream",
     "text": [
      "/home/lthapa/anaconda3/envs/ML_py/lib/python3.7/site-packages/numpy/core/_methods.py:179: RuntimeWarning: invalid value encountered in reduce\n",
      "  ret = umr_sum(arr, axis, dtype, out, keepdims, where=where)\n",
      "/home/lthapa/anaconda3/envs/ML_py/lib/python3.7/site-packages/numpy/core/_methods.py:179: RuntimeWarning: invalid value encountered in reduce\n",
      "  ret = umr_sum(arr, axis, dtype, out, keepdims, where=where)\n"
     ]
    },
    {
     "name": "stdout",
     "output_type": "stream",
     "text": [
      "2020-09-27\n"
     ]
    },
    {
     "name": "stderr",
     "output_type": "stream",
     "text": [
      "/home/lthapa/anaconda3/envs/ML_py/lib/python3.7/site-packages/numpy/core/_methods.py:179: RuntimeWarning: invalid value encountered in reduce\n",
      "  ret = umr_sum(arr, axis, dtype, out, keepdims, where=where)\n",
      "/home/lthapa/anaconda3/envs/ML_py/lib/python3.7/site-packages/numpy/core/_methods.py:179: RuntimeWarning: invalid value encountered in reduce\n",
      "  ret = umr_sum(arr, axis, dtype, out, keepdims, where=where)\n",
      "/home/lthapa/anaconda3/envs/ML_py/lib/python3.7/site-packages/numpy/core/_methods.py:179: RuntimeWarning: invalid value encountered in reduce\n",
      "  ret = umr_sum(arr, axis, dtype, out, keepdims, where=where)\n",
      "/home/lthapa/anaconda3/envs/ML_py/lib/python3.7/site-packages/numpy/core/_methods.py:179: RuntimeWarning: invalid value encountered in reduce\n",
      "  ret = umr_sum(arr, axis, dtype, out, keepdims, where=where)\n"
     ]
    },
    {
     "name": "stdout",
     "output_type": "stream",
     "text": [
      "2020-09-28\n"
     ]
    },
    {
     "name": "stderr",
     "output_type": "stream",
     "text": [
      "/home/lthapa/anaconda3/envs/ML_py/lib/python3.7/site-packages/numpy/core/_methods.py:179: RuntimeWarning: invalid value encountered in reduce\n",
      "  ret = umr_sum(arr, axis, dtype, out, keepdims, where=where)\n"
     ]
    },
    {
     "name": "stdout",
     "output_type": "stream",
     "text": [
      "2020-09-29\n",
      "2020-09-30\n"
     ]
    },
    {
     "name": "stderr",
     "output_type": "stream",
     "text": [
      "/home/lthapa/anaconda3/envs/ML_py/lib/python3.7/site-packages/numpy/core/_methods.py:179: RuntimeWarning: invalid value encountered in reduce\n",
      "  ret = umr_sum(arr, axis, dtype, out, keepdims, where=where)\n"
     ]
    },
    {
     "name": "stdout",
     "output_type": "stream",
     "text": [
      "2020-10-01\n"
     ]
    },
    {
     "name": "stderr",
     "output_type": "stream",
     "text": [
      "/home/lthapa/anaconda3/envs/ML_py/lib/python3.7/site-packages/numpy/core/_methods.py:179: RuntimeWarning: invalid value encountered in reduce\n",
      "  ret = umr_sum(arr, axis, dtype, out, keepdims, where=where)\n",
      "/home/lthapa/anaconda3/envs/ML_py/lib/python3.7/site-packages/numpy/core/_methods.py:179: RuntimeWarning: invalid value encountered in reduce\n",
      "  ret = umr_sum(arr, axis, dtype, out, keepdims, where=where)\n",
      "/home/lthapa/anaconda3/envs/ML_py/lib/python3.7/site-packages/numpy/core/_methods.py:179: RuntimeWarning: invalid value encountered in reduce\n",
      "  ret = umr_sum(arr, axis, dtype, out, keepdims, where=where)\n"
     ]
    },
    {
     "name": "stdout",
     "output_type": "stream",
     "text": [
      "2020-10-02\n"
     ]
    },
    {
     "name": "stderr",
     "output_type": "stream",
     "text": [
      "/home/lthapa/anaconda3/envs/ML_py/lib/python3.7/site-packages/numpy/core/_methods.py:179: RuntimeWarning: invalid value encountered in reduce\n",
      "  ret = umr_sum(arr, axis, dtype, out, keepdims, where=where)\n"
     ]
    },
    {
     "name": "stdout",
     "output_type": "stream",
     "text": [
      "2020-10-03\n"
     ]
    },
    {
     "name": "stderr",
     "output_type": "stream",
     "text": [
      "/home/lthapa/anaconda3/envs/ML_py/lib/python3.7/site-packages/numpy/core/_methods.py:179: RuntimeWarning: invalid value encountered in reduce\n",
      "  ret = umr_sum(arr, axis, dtype, out, keepdims, where=where)\n",
      "/home/lthapa/anaconda3/envs/ML_py/lib/python3.7/site-packages/numpy/core/_methods.py:179: RuntimeWarning: invalid value encountered in reduce\n",
      "  ret = umr_sum(arr, axis, dtype, out, keepdims, where=where)\n"
     ]
    },
    {
     "name": "stdout",
     "output_type": "stream",
     "text": [
      "2020-10-04\n"
     ]
    },
    {
     "name": "stderr",
     "output_type": "stream",
     "text": [
      "/home/lthapa/anaconda3/envs/ML_py/lib/python3.7/site-packages/numpy/core/_methods.py:179: RuntimeWarning: invalid value encountered in reduce\n",
      "  ret = umr_sum(arr, axis, dtype, out, keepdims, where=where)\n",
      "/home/lthapa/anaconda3/envs/ML_py/lib/python3.7/site-packages/numpy/core/_methods.py:179: RuntimeWarning: invalid value encountered in reduce\n",
      "  ret = umr_sum(arr, axis, dtype, out, keepdims, where=where)\n"
     ]
    },
    {
     "name": "stdout",
     "output_type": "stream",
     "text": [
      "2020-10-05\n"
     ]
    },
    {
     "name": "stderr",
     "output_type": "stream",
     "text": [
      "/home/lthapa/anaconda3/envs/ML_py/lib/python3.7/site-packages/numpy/core/_methods.py:179: RuntimeWarning: invalid value encountered in reduce\n",
      "  ret = umr_sum(arr, axis, dtype, out, keepdims, where=where)\n",
      "/home/lthapa/anaconda3/envs/ML_py/lib/python3.7/site-packages/numpy/core/_methods.py:179: RuntimeWarning: invalid value encountered in reduce\n",
      "  ret = umr_sum(arr, axis, dtype, out, keepdims, where=where)\n"
     ]
    },
    {
     "name": "stdout",
     "output_type": "stream",
     "text": [
      "2020-10-10\n"
     ]
    },
    {
     "name": "stderr",
     "output_type": "stream",
     "text": [
      "/home/lthapa/anaconda3/envs/ML_py/lib/python3.7/site-packages/numpy/core/_methods.py:179: RuntimeWarning: invalid value encountered in reduce\n",
      "  ret = umr_sum(arr, axis, dtype, out, keepdims, where=where)\n"
     ]
    },
    {
     "name": "stdout",
     "output_type": "stream",
     "text": [
      "2020-10-15\n",
      "2020-10-16\n"
     ]
    },
    {
     "name": "stderr",
     "output_type": "stream",
     "text": [
      "/home/lthapa/anaconda3/envs/ML_py/lib/python3.7/site-packages/numpy/core/_methods.py:179: RuntimeWarning: invalid value encountered in reduce\n",
      "  ret = umr_sum(arr, axis, dtype, out, keepdims, where=where)\n"
     ]
    },
    {
     "name": "stdout",
     "output_type": "stream",
     "text": [
      "2020-10-25\n"
     ]
    },
    {
     "name": "stderr",
     "output_type": "stream",
     "text": [
      "/home/lthapa/anaconda3/envs/ML_py/lib/python3.7/site-packages/numpy/core/_methods.py:179: RuntimeWarning: invalid value encountered in reduce\n",
      "  ret = umr_sum(arr, axis, dtype, out, keepdims, where=where)\n",
      "/home/lthapa/anaconda3/envs/ML_py/lib/python3.7/site-packages/numpy/core/_methods.py:179: RuntimeWarning: invalid value encountered in reduce\n",
      "  ret = umr_sum(arr, axis, dtype, out, keepdims, where=where)\n",
      "/home/lthapa/anaconda3/envs/ML_py/lib/python3.7/site-packages/numpy/core/_methods.py:179: RuntimeWarning: invalid value encountered in reduce\n",
      "  ret = umr_sum(arr, axis, dtype, out, keepdims, where=where)\n",
      "/home/lthapa/anaconda3/envs/ML_py/lib/python3.7/site-packages/numpy/core/_methods.py:179: RuntimeWarning: invalid value encountered in reduce\n",
      "  ret = umr_sum(arr, axis, dtype, out, keepdims, where=where)\n"
     ]
    },
    {
     "name": "stdout",
     "output_type": "stream",
     "text": [
      "2020-10-26\n"
     ]
    },
    {
     "name": "stderr",
     "output_type": "stream",
     "text": [
      "/home/lthapa/anaconda3/envs/ML_py/lib/python3.7/site-packages/numpy/core/_methods.py:179: RuntimeWarning: invalid value encountered in reduce\n",
      "  ret = umr_sum(arr, axis, dtype, out, keepdims, where=where)\n"
     ]
    },
    {
     "name": "stdout",
     "output_type": "stream",
     "text": [
      "2020-10-27\n"
     ]
    },
    {
     "name": "stderr",
     "output_type": "stream",
     "text": [
      "/home/lthapa/anaconda3/envs/ML_py/lib/python3.7/site-packages/numpy/core/_methods.py:179: RuntimeWarning: invalid value encountered in reduce\n",
      "  ret = umr_sum(arr, axis, dtype, out, keepdims, where=where)\n",
      "/home/lthapa/anaconda3/envs/ML_py/lib/python3.7/site-packages/numpy/core/_methods.py:179: RuntimeWarning: invalid value encountered in reduce\n",
      "  ret = umr_sum(arr, axis, dtype, out, keepdims, where=where)\n",
      "/home/lthapa/anaconda3/envs/ML_py/lib/python3.7/site-packages/numpy/core/_methods.py:179: RuntimeWarning: invalid value encountered in reduce\n",
      "  ret = umr_sum(arr, axis, dtype, out, keepdims, where=where)\n",
      "/home/lthapa/anaconda3/envs/ML_py/lib/python3.7/site-packages/numpy/core/_methods.py:179: RuntimeWarning: invalid value encountered in reduce\n",
      "  ret = umr_sum(arr, axis, dtype, out, keepdims, where=where)\n",
      "/home/lthapa/anaconda3/envs/ML_py/lib/python3.7/site-packages/numpy/core/_methods.py:179: RuntimeWarning: invalid value encountered in reduce\n",
      "  ret = umr_sum(arr, axis, dtype, out, keepdims, where=where)\n"
     ]
    },
    {
     "name": "stdout",
     "output_type": "stream",
     "text": [
      "2020-10-29\n"
     ]
    },
    {
     "name": "stderr",
     "output_type": "stream",
     "text": [
      "/home/lthapa/anaconda3/envs/ML_py/lib/python3.7/site-packages/numpy/core/_methods.py:179: RuntimeWarning: invalid value encountered in reduce\n",
      "  ret = umr_sum(arr, axis, dtype, out, keepdims, where=where)\n"
     ]
    },
    {
     "name": "stdout",
     "output_type": "stream",
     "text": [
      "                    day       hd0w0       hd1w0       hd2w0       hd3w0  \\\n",
      "0   2020-09-05 12:00:00  184.261979  144.665198  125.093869  112.327985   \n",
      "1   2020-09-06 12:00:00  195.198371  175.879856  129.731237  110.294515   \n",
      "2   2020-09-07 12:00:00  190.450373  221.482946  210.752254  163.324849   \n",
      "3   2020-09-08 12:00:00   71.182398  108.217553  148.939960  142.439657   \n",
      "4   2020-09-09 12:00:00  193.769551  172.352174  275.434868  366.261928   \n",
      "5   2020-09-10 12:00:00   69.257613   68.012155   72.569177  103.050075   \n",
      "6   2020-09-11 12:00:00   77.743976   66.700807   68.092165   65.746938   \n",
      "7   2020-09-12 12:00:00   77.532732   70.204118   64.296268   65.669706   \n",
      "8   2020-09-13 12:00:00   74.512116   69.953390   67.268872   61.129169   \n",
      "9   2020-09-14 12:00:00   86.939517   78.848000   77.298740   72.866562   \n",
      "10  2020-09-15 12:00:00   82.399729   78.906183   75.734241   72.524993   \n",
      "11  2020-09-16 12:00:00   78.024900   69.376366   70.410689   67.752384   \n",
      "12  2020-09-17 12:00:00  118.244518  106.872051  103.960122  105.578190   \n",
      "13  2020-09-18 12:00:00  187.507078  172.618664  163.753354  161.272706   \n",
      "14  2020-09-19 12:00:00  137.482166  142.932234  144.418030  136.024828   \n",
      "15  2020-09-20 12:00:00  103.496586   94.518037  106.709009  105.730864   \n",
      "16  2020-09-21 12:00:00   68.582241   66.765719   66.660512   77.649904   \n",
      "17  2020-09-22 12:00:00   57.875228   57.735192   59.350584   60.473599   \n",
      "18  2020-09-23 12:00:00   60.676909   54.375241   55.242909   56.686804   \n",
      "19  2020-09-24 12:00:00   68.815716   65.162570   60.266848   62.854217   \n",
      "20  2020-09-25 12:00:00   71.364922   75.113436   76.444132   70.629213   \n",
      "21  2020-09-26 12:00:00   60.293571   56.075363   61.596549   63.290766   \n",
      "22  2020-09-27 12:00:00   91.397108   77.319123   72.251447   79.003035   \n",
      "23  2020-09-28 12:00:00  115.264233   98.100333   80.695150   77.803841   \n",
      "24  2020-09-29 12:00:00  103.311931   95.217254   90.330654   73.484845   \n",
      "25  2020-09-30 12:00:00   97.983960   85.599428   85.159877   82.348463   \n",
      "26  2020-10-01 12:00:00  137.660055  126.349633  116.655114  113.027565   \n",
      "27  2020-10-02 12:00:00  161.331821  151.652476  151.919190  141.162618   \n",
      "28  2020-10-03 12:00:00  119.352121  123.375112  120.534229  121.575717   \n",
      "29  2020-10-04 12:00:00   78.877558   83.757458   92.075164   90.097100   \n",
      "30  2020-10-05 12:00:00   92.040112   78.991714   81.934491   92.595798   \n",
      "31  2020-10-10 12:00:00   51.776819   47.726543   48.410059   54.187718   \n",
      "32  2020-10-15 12:00:00   90.223682   72.307431   74.443180   68.961314   \n",
      "33  2020-10-16 12:00:00   99.018518   93.110616   98.700023   97.589034   \n",
      "34  2020-10-25 12:00:00   48.056384   51.353339   51.848510   51.823584   \n",
      "35  2020-10-26 12:00:00  210.370352  215.654937  246.006263  264.104809   \n",
      "36  2020-10-27 12:00:00  175.441274  104.195709  113.135093  128.998675   \n",
      "37  2020-10-29 12:00:00   46.648572   33.424237   34.744962   30.507914   \n",
      "\n",
      "         hd4w0       hd5w0     temp_2m      q_2m  wind_speed  ...      soilm  \\\n",
      "0    93.820587   96.549014  305.499146  0.005414    3.728036  ...   1.784615   \n",
      "1    95.668320   81.628497  308.474264  0.005319    3.310402  ...   1.029880   \n",
      "2   141.288877  123.661624  305.227260  0.008100    3.897390  ...   1.649801   \n",
      "3   108.444963   91.397354  295.477076  0.012512    2.595776  ...   9.635397   \n",
      "4   341.163226  261.479929  297.063595  0.004268    6.442357  ...   4.299038   \n",
      "5   141.769649  137.316421  294.948580  0.004045    2.656867  ...  14.106741   \n",
      "6    91.317166  144.829390  296.989795  0.004547    2.587944  ...  11.343929   \n",
      "7    61.667233   87.119576  297.320621  0.004859    2.537760  ...   4.143100   \n",
      "8    63.261697   61.553972  296.775943  0.006112    2.543853  ...   3.183591   \n",
      "9    66.246173   70.053051  297.426486  0.005821    2.853258  ...   5.047062   \n",
      "10   67.997542   61.622514  295.103075  0.004474    3.163155  ...   5.437576   \n",
      "11   63.839517   60.409994  295.290360  0.002924    2.847532  ...   2.973811   \n",
      "12  102.485543   94.262127  295.389258  0.001666    4.388451  ...   3.170811   \n",
      "13  162.712382  158.382110  297.373091  0.003717    6.247270  ...   2.578054   \n",
      "14  134.600301  138.308021  295.127681  0.006060    5.149934  ...   3.763008   \n",
      "15  101.577094   98.744001  294.579762  0.003857    3.968691  ...   3.711283   \n",
      "16   74.756575   74.040145  293.531942  0.006199    2.817471  ...   4.934230   \n",
      "17   70.493908   67.165793  291.952425  0.006660    2.643395  ...   6.674805   \n",
      "18   58.433533   69.024828  293.362152  0.006296    2.511555  ...   6.142111   \n",
      "19   64.028311   65.047048  294.116656  0.004952    2.748231  ...   4.377489   \n",
      "20   73.437591   74.683742  292.040104  0.005835    3.226360  ...   3.878506   \n",
      "21   56.714146   57.494347  293.482913  0.008120    2.513647  ...   3.454614   \n",
      "22   81.518719   72.612323  296.242020  0.006503    3.199880  ...   3.315861   \n",
      "23   86.498045   89.037909  299.135205  0.006087    3.402945  ...   4.377653   \n",
      "24   68.687042   75.352424  299.060559  0.004329    3.064833  ...   3.451931   \n",
      "25   67.375203   62.483474  299.590290  0.003807    2.782720  ...   2.490147   \n",
      "26  104.974296   87.272214  301.025777  0.003885    3.612820  ...   1.298861   \n",
      "27  137.980766  129.537137  300.557599  0.003570    4.400517  ...   1.852893   \n",
      "28  111.504554  107.480813  299.715535  0.003991    3.424545  ...   1.925727   \n",
      "29   89.418884   84.146144  296.351550  0.003687    2.749822  ...   3.592919   \n",
      "30  101.162519  106.230241  300.683136  0.005568    2.310390  ...   2.215385   \n",
      "31   62.222575   65.415426  294.777156  0.010717    1.985085  ...   3.531074   \n",
      "32   48.368763   47.965701  302.790161  0.005043    2.027579  ...   1.523077   \n",
      "33   91.771772   80.124258  289.431022  0.002380    5.212595  ...   1.130676   \n",
      "34   57.246452   57.172902  290.704712  0.009221    2.377804  ...  13.323079   \n",
      "35  284.756001  365.925171  282.858336  0.000560   17.269758  ...   2.512018   \n",
      "36  138.410770  149.376999  289.709229  0.001893    9.089556  ...   1.284615   \n",
      "37   30.644232   35.366330  294.825684  0.004181    1.637560  ...   1.976923   \n",
      "\n",
      "      esat_2m      e_2m     vpd_2m         hwp  veg_term  gust_max_term  \\\n",
      "0   49.436359  0.010339  49.426020   37.726845       1.0       6.403081   \n",
      "1   58.985784  0.010280  58.975505   27.207471       1.0       4.208619   \n",
      "2   48.452142  0.015481  48.436661   43.136923       1.0       7.264599   \n",
      "3   27.223427  0.023280  27.200146   11.953700       1.0       4.708151   \n",
      "4   29.977175  0.007935  29.969239   54.368542       1.0       9.609855   \n",
      "5   26.798019  0.007495  26.790525   10.354419       1.0       3.452280   \n",
      "6   30.742970  0.008465  30.734506   10.530179       1.0       3.572677   \n",
      "7   31.220486  0.009061  31.211425   13.794279       1.0       3.478550   \n",
      "8   30.260687  0.011399  30.249288   12.882924       1.0       3.676292   \n",
      "9   31.341272  0.010864  31.330408   12.659527       1.0       3.910366   \n",
      "10  27.451500  0.008286  27.443214   14.537058       1.0       4.170280   \n",
      "11  27.774456  0.005398  27.769058   17.923487       1.0       3.710671   \n",
      "12  27.292218  0.003070  27.289149   34.671006       1.0       5.582358   \n",
      "13  30.816058  0.006914  30.809143   53.852232       1.0      10.326623   \n",
      "14  27.106057  0.011177  27.094880   25.436494       1.0       7.317287   \n",
      "15  25.997059  0.007110  25.989949   26.212611       1.0       5.912274   \n",
      "16  24.431109  0.011418  24.419691   12.211840       1.0       4.237167   \n",
      "17  22.117168  0.012213  22.104955    8.689544       1.0       3.598147   \n",
      "18  24.184771  0.011600  24.173171    8.711731       1.0       3.418306   \n",
      "19  25.212080  0.009134  25.202945   11.962539       1.0       3.498911   \n",
      "20  22.137245  0.010695  22.126550   14.337557       1.0       4.218551   \n",
      "21  23.967279  0.014977  23.952302   18.751268       1.0       5.620074   \n",
      "22  28.478053  0.012118  28.465935   25.624494       1.0       6.194666   \n",
      "23  33.802815  0.011422  33.791394   23.915918       1.0       5.759049   \n",
      "24  33.809113  0.008108  33.801005   17.917522       1.0       3.799303   \n",
      "25  35.102826  0.007118  35.095708   19.899907       1.0       3.954796   \n",
      "26  38.627218  0.007311  38.619906   27.756164       1.0       4.715953   \n",
      "27  36.671774  0.006708  36.665066   37.438073       1.0       5.558848   \n",
      "28  34.936942  0.007479  34.929463   27.860955       1.0       4.541126   \n",
      "29  28.692466  0.006841  28.685625   16.879413       1.0       3.768481   \n",
      "30  39.847932  0.010462  39.837470   16.076685       1.0       3.575359   \n",
      "31  26.103116  0.019863  26.083253    8.917003       1.0       3.388061   \n",
      "32  44.507791  0.009560  44.498231   18.186865       1.0       3.557475   \n",
      "33  18.858369  0.004292  18.854077   39.922101       1.0       7.508103   \n",
      "34  20.227228  0.016821  20.210408    4.660702       1.0       3.644617   \n",
      "35  12.194194  0.000984  12.193209  218.301504       1.0      28.835137   \n",
      "36  19.304843  0.003430  19.301413   89.112030       1.0      14.100462   \n",
      "37  28.494288  0.007661  28.486627   14.385483       1.0       3.368045   \n",
      "\n",
      "      dd_term  mois_term  snowc_term  \n",
      "0   29.364889   0.982154         1.0  \n",
      "1   32.220506   0.989701         1.0  \n",
      "2   24.994958   0.983502         1.0  \n",
      "3   15.398369   0.903646         1.0  \n",
      "4   26.272659   0.957010         1.0  \n",
      "5   23.735051   0.858933         1.0  \n",
      "6   23.815395   0.886561         1.0  \n",
      "7   22.772995   0.958569         1.0  \n",
      "8   20.015856   0.968164         1.0  \n",
      "9   20.870036   0.949529         1.0  \n",
      "10  22.475372   0.945624         1.0  \n",
      "11  28.203451   0.970262         1.0  \n",
      "12  35.633339   0.968292         1.0  \n",
      "13  27.676256   0.974219         1.0  \n",
      "14  19.431086   0.962370         1.0  \n",
      "15  24.384005   0.962887         1.0  \n",
      "16  17.821918   0.950658         1.0  \n",
      "17  16.406324   0.933252         1.0  \n",
      "18  17.470478   0.938579         1.0  \n",
      "19  20.964413   0.956225         1.0  \n",
      "20  19.341731   0.961215         1.0  \n",
      "21  18.061461   0.965454         1.0  \n",
      "22  21.753311   0.966841         1.0  \n",
      "23  22.508267   0.956223         1.0  \n",
      "24  27.569547   0.965481         1.0  \n",
      "25  28.450980   0.975099         1.0  \n",
      "26  29.616135   0.987011         1.0  \n",
      "27  32.221151   0.981471         1.0  \n",
      "28  29.930245   0.980743         1.0  \n",
      "29  26.803312   0.964071         1.0  \n",
      "30  23.349804   0.977846         1.0  \n",
      "31  15.000000   0.964689         1.0  \n",
      "32  26.189648   0.984769         1.0  \n",
      "33  25.869264   0.988693         1.0  \n",
      "34  15.000000   0.866769         1.0  \n",
      "35  35.278319   0.974880         1.0  \n",
      "36  27.842072   0.987154         1.0  \n",
      "37  23.325901   0.980231         1.0  \n",
      "\n",
      "[38 rows x 23 columns]\n",
      "/data2/lthapa/ML_daily/fire_polygons/dolan_VIIRS_daily_12Z_day_start.geojson\n"
     ]
    },
    {
     "name": "stdout",
     "output_type": "stream",
     "text": [
      "epsg:3347\n",
      "0:00:12.275935\n",
      "2020-08-18\n"
     ]
    },
    {
     "name": "stderr",
     "output_type": "stream",
     "text": [
      "/home/lthapa/anaconda3/envs/ML_py/lib/python3.7/site-packages/numpy/core/_methods.py:179: RuntimeWarning: invalid value encountered in reduce\n",
      "  ret = umr_sum(arr, axis, dtype, out, keepdims, where=where)\n",
      "/home/lthapa/anaconda3/envs/ML_py/lib/python3.7/site-packages/numpy/core/_methods.py:179: RuntimeWarning: invalid value encountered in reduce\n",
      "  ret = umr_sum(arr, axis, dtype, out, keepdims, where=where)\n",
      "/home/lthapa/anaconda3/envs/ML_py/lib/python3.7/site-packages/numpy/core/_methods.py:179: RuntimeWarning: invalid value encountered in reduce\n",
      "  ret = umr_sum(arr, axis, dtype, out, keepdims, where=where)\n",
      "/home/lthapa/anaconda3/envs/ML_py/lib/python3.7/site-packages/numpy/core/_methods.py:179: RuntimeWarning: invalid value encountered in reduce\n",
      "  ret = umr_sum(arr, axis, dtype, out, keepdims, where=where)\n"
     ]
    },
    {
     "name": "stdout",
     "output_type": "stream",
     "text": [
      "2020-08-19\n"
     ]
    },
    {
     "name": "stderr",
     "output_type": "stream",
     "text": [
      "/home/lthapa/anaconda3/envs/ML_py/lib/python3.7/site-packages/numpy/core/_methods.py:179: RuntimeWarning: invalid value encountered in reduce\n",
      "  ret = umr_sum(arr, axis, dtype, out, keepdims, where=where)\n",
      "/home/lthapa/anaconda3/envs/ML_py/lib/python3.7/site-packages/numpy/core/_methods.py:179: RuntimeWarning: invalid value encountered in reduce\n",
      "  ret = umr_sum(arr, axis, dtype, out, keepdims, where=where)\n",
      "/home/lthapa/anaconda3/envs/ML_py/lib/python3.7/site-packages/numpy/core/_methods.py:179: RuntimeWarning: invalid value encountered in reduce\n",
      "  ret = umr_sum(arr, axis, dtype, out, keepdims, where=where)\n"
     ]
    },
    {
     "name": "stdout",
     "output_type": "stream",
     "text": [
      "2020-08-20\n"
     ]
    },
    {
     "name": "stderr",
     "output_type": "stream",
     "text": [
      "/home/lthapa/anaconda3/envs/ML_py/lib/python3.7/site-packages/numpy/core/_methods.py:179: RuntimeWarning: invalid value encountered in reduce\n",
      "  ret = umr_sum(arr, axis, dtype, out, keepdims, where=where)\n",
      "/home/lthapa/anaconda3/envs/ML_py/lib/python3.7/site-packages/numpy/core/_methods.py:179: RuntimeWarning: invalid value encountered in reduce\n",
      "  ret = umr_sum(arr, axis, dtype, out, keepdims, where=where)\n",
      "/home/lthapa/anaconda3/envs/ML_py/lib/python3.7/site-packages/numpy/core/_methods.py:179: RuntimeWarning: invalid value encountered in reduce\n",
      "  ret = umr_sum(arr, axis, dtype, out, keepdims, where=where)\n"
     ]
    },
    {
     "name": "stdout",
     "output_type": "stream",
     "text": [
      "2020-08-21\n"
     ]
    },
    {
     "name": "stderr",
     "output_type": "stream",
     "text": [
      "/home/lthapa/anaconda3/envs/ML_py/lib/python3.7/site-packages/numpy/core/_methods.py:179: RuntimeWarning: invalid value encountered in reduce\n",
      "  ret = umr_sum(arr, axis, dtype, out, keepdims, where=where)\n",
      "/home/lthapa/anaconda3/envs/ML_py/lib/python3.7/site-packages/numpy/core/_methods.py:179: RuntimeWarning: invalid value encountered in reduce\n",
      "  ret = umr_sum(arr, axis, dtype, out, keepdims, where=where)\n",
      "/home/lthapa/anaconda3/envs/ML_py/lib/python3.7/site-packages/numpy/core/_methods.py:179: RuntimeWarning: invalid value encountered in reduce\n",
      "  ret = umr_sum(arr, axis, dtype, out, keepdims, where=where)\n",
      "/home/lthapa/anaconda3/envs/ML_py/lib/python3.7/site-packages/numpy/core/_methods.py:179: RuntimeWarning: invalid value encountered in reduce\n",
      "  ret = umr_sum(arr, axis, dtype, out, keepdims, where=where)\n",
      "/home/lthapa/anaconda3/envs/ML_py/lib/python3.7/site-packages/numpy/core/_methods.py:179: RuntimeWarning: invalid value encountered in reduce\n",
      "  ret = umr_sum(arr, axis, dtype, out, keepdims, where=where)\n"
     ]
    },
    {
     "name": "stdout",
     "output_type": "stream",
     "text": [
      "2020-08-22\n"
     ]
    },
    {
     "name": "stderr",
     "output_type": "stream",
     "text": [
      "/home/lthapa/anaconda3/envs/ML_py/lib/python3.7/site-packages/numpy/core/_methods.py:179: RuntimeWarning: invalid value encountered in reduce\n",
      "  ret = umr_sum(arr, axis, dtype, out, keepdims, where=where)\n"
     ]
    },
    {
     "name": "stdout",
     "output_type": "stream",
     "text": [
      "2020-08-23\n"
     ]
    },
    {
     "name": "stderr",
     "output_type": "stream",
     "text": [
      "/home/lthapa/anaconda3/envs/ML_py/lib/python3.7/site-packages/numpy/core/_methods.py:179: RuntimeWarning: invalid value encountered in reduce\n",
      "  ret = umr_sum(arr, axis, dtype, out, keepdims, where=where)\n",
      "/home/lthapa/anaconda3/envs/ML_py/lib/python3.7/site-packages/numpy/core/_methods.py:179: RuntimeWarning: invalid value encountered in reduce\n",
      "  ret = umr_sum(arr, axis, dtype, out, keepdims, where=where)\n",
      "/home/lthapa/anaconda3/envs/ML_py/lib/python3.7/site-packages/numpy/core/_methods.py:179: RuntimeWarning: invalid value encountered in reduce\n",
      "  ret = umr_sum(arr, axis, dtype, out, keepdims, where=where)\n",
      "/home/lthapa/anaconda3/envs/ML_py/lib/python3.7/site-packages/numpy/core/_methods.py:179: RuntimeWarning: invalid value encountered in reduce\n",
      "  ret = umr_sum(arr, axis, dtype, out, keepdims, where=where)\n"
     ]
    },
    {
     "name": "stdout",
     "output_type": "stream",
     "text": [
      "2020-08-24\n"
     ]
    },
    {
     "name": "stderr",
     "output_type": "stream",
     "text": [
      "/home/lthapa/anaconda3/envs/ML_py/lib/python3.7/site-packages/numpy/core/_methods.py:179: RuntimeWarning: invalid value encountered in reduce\n",
      "  ret = umr_sum(arr, axis, dtype, out, keepdims, where=where)\n",
      "/home/lthapa/anaconda3/envs/ML_py/lib/python3.7/site-packages/numpy/core/_methods.py:179: RuntimeWarning: invalid value encountered in reduce\n",
      "  ret = umr_sum(arr, axis, dtype, out, keepdims, where=where)\n"
     ]
    },
    {
     "name": "stdout",
     "output_type": "stream",
     "text": [
      "2020-08-25\n"
     ]
    },
    {
     "name": "stderr",
     "output_type": "stream",
     "text": [
      "/home/lthapa/anaconda3/envs/ML_py/lib/python3.7/site-packages/numpy/core/_methods.py:179: RuntimeWarning: invalid value encountered in reduce\n",
      "  ret = umr_sum(arr, axis, dtype, out, keepdims, where=where)\n",
      "/home/lthapa/anaconda3/envs/ML_py/lib/python3.7/site-packages/numpy/core/_methods.py:179: RuntimeWarning: invalid value encountered in reduce\n",
      "  ret = umr_sum(arr, axis, dtype, out, keepdims, where=where)\n"
     ]
    },
    {
     "name": "stdout",
     "output_type": "stream",
     "text": [
      "2020-08-26\n"
     ]
    },
    {
     "name": "stderr",
     "output_type": "stream",
     "text": [
      "/home/lthapa/anaconda3/envs/ML_py/lib/python3.7/site-packages/numpy/core/_methods.py:179: RuntimeWarning: invalid value encountered in reduce\n",
      "  ret = umr_sum(arr, axis, dtype, out, keepdims, where=where)\n",
      "/home/lthapa/anaconda3/envs/ML_py/lib/python3.7/site-packages/numpy/core/_methods.py:179: RuntimeWarning: invalid value encountered in reduce\n",
      "  ret = umr_sum(arr, axis, dtype, out, keepdims, where=where)\n"
     ]
    },
    {
     "name": "stdout",
     "output_type": "stream",
     "text": [
      "2020-08-27\n"
     ]
    },
    {
     "name": "stderr",
     "output_type": "stream",
     "text": [
      "/home/lthapa/anaconda3/envs/ML_py/lib/python3.7/site-packages/numpy/core/_methods.py:179: RuntimeWarning: invalid value encountered in reduce\n",
      "  ret = umr_sum(arr, axis, dtype, out, keepdims, where=where)\n",
      "/home/lthapa/anaconda3/envs/ML_py/lib/python3.7/site-packages/numpy/core/_methods.py:179: RuntimeWarning: invalid value encountered in reduce\n",
      "  ret = umr_sum(arr, axis, dtype, out, keepdims, where=where)\n",
      "/home/lthapa/anaconda3/envs/ML_py/lib/python3.7/site-packages/numpy/core/_methods.py:179: RuntimeWarning: invalid value encountered in reduce\n",
      "  ret = umr_sum(arr, axis, dtype, out, keepdims, where=where)\n",
      "/home/lthapa/anaconda3/envs/ML_py/lib/python3.7/site-packages/numpy/core/_methods.py:179: RuntimeWarning: invalid value encountered in reduce\n",
      "  ret = umr_sum(arr, axis, dtype, out, keepdims, where=where)\n",
      "/home/lthapa/anaconda3/envs/ML_py/lib/python3.7/site-packages/numpy/core/_methods.py:179: RuntimeWarning: invalid value encountered in reduce\n",
      "  ret = umr_sum(arr, axis, dtype, out, keepdims, where=where)\n"
     ]
    },
    {
     "name": "stdout",
     "output_type": "stream",
     "text": [
      "2020-08-28\n"
     ]
    },
    {
     "name": "stderr",
     "output_type": "stream",
     "text": [
      "/home/lthapa/anaconda3/envs/ML_py/lib/python3.7/site-packages/numpy/core/_methods.py:179: RuntimeWarning: invalid value encountered in reduce\n",
      "  ret = umr_sum(arr, axis, dtype, out, keepdims, where=where)\n",
      "/home/lthapa/anaconda3/envs/ML_py/lib/python3.7/site-packages/numpy/core/_methods.py:179: RuntimeWarning: invalid value encountered in reduce\n",
      "  ret = umr_sum(arr, axis, dtype, out, keepdims, where=where)\n",
      "/home/lthapa/anaconda3/envs/ML_py/lib/python3.7/site-packages/numpy/core/_methods.py:179: RuntimeWarning: invalid value encountered in reduce\n",
      "  ret = umr_sum(arr, axis, dtype, out, keepdims, where=where)\n"
     ]
    },
    {
     "name": "stdout",
     "output_type": "stream",
     "text": [
      "2020-08-29\n"
     ]
    },
    {
     "name": "stderr",
     "output_type": "stream",
     "text": [
      "/home/lthapa/anaconda3/envs/ML_py/lib/python3.7/site-packages/numpy/core/_methods.py:179: RuntimeWarning: invalid value encountered in reduce\n",
      "  ret = umr_sum(arr, axis, dtype, out, keepdims, where=where)\n",
      "/home/lthapa/anaconda3/envs/ML_py/lib/python3.7/site-packages/numpy/core/_methods.py:179: RuntimeWarning: invalid value encountered in reduce\n",
      "  ret = umr_sum(arr, axis, dtype, out, keepdims, where=where)\n"
     ]
    },
    {
     "name": "stdout",
     "output_type": "stream",
     "text": [
      "2020-08-30\n"
     ]
    },
    {
     "name": "stderr",
     "output_type": "stream",
     "text": [
      "/home/lthapa/anaconda3/envs/ML_py/lib/python3.7/site-packages/numpy/core/_methods.py:179: RuntimeWarning: invalid value encountered in reduce\n",
      "  ret = umr_sum(arr, axis, dtype, out, keepdims, where=where)\n",
      "/home/lthapa/anaconda3/envs/ML_py/lib/python3.7/site-packages/numpy/core/_methods.py:179: RuntimeWarning: invalid value encountered in reduce\n",
      "  ret = umr_sum(arr, axis, dtype, out, keepdims, where=where)\n",
      "/home/lthapa/anaconda3/envs/ML_py/lib/python3.7/site-packages/numpy/core/_methods.py:179: RuntimeWarning: invalid value encountered in reduce\n",
      "  ret = umr_sum(arr, axis, dtype, out, keepdims, where=where)\n"
     ]
    },
    {
     "name": "stdout",
     "output_type": "stream",
     "text": [
      "2020-08-31\n"
     ]
    },
    {
     "name": "stderr",
     "output_type": "stream",
     "text": [
      "/home/lthapa/anaconda3/envs/ML_py/lib/python3.7/site-packages/numpy/core/_methods.py:179: RuntimeWarning: invalid value encountered in reduce\n",
      "  ret = umr_sum(arr, axis, dtype, out, keepdims, where=where)\n",
      "/home/lthapa/anaconda3/envs/ML_py/lib/python3.7/site-packages/numpy/core/_methods.py:179: RuntimeWarning: invalid value encountered in reduce\n",
      "  ret = umr_sum(arr, axis, dtype, out, keepdims, where=where)\n",
      "/home/lthapa/anaconda3/envs/ML_py/lib/python3.7/site-packages/numpy/core/_methods.py:179: RuntimeWarning: invalid value encountered in reduce\n",
      "  ret = umr_sum(arr, axis, dtype, out, keepdims, where=where)\n",
      "/home/lthapa/anaconda3/envs/ML_py/lib/python3.7/site-packages/numpy/core/_methods.py:179: RuntimeWarning: invalid value encountered in reduce\n",
      "  ret = umr_sum(arr, axis, dtype, out, keepdims, where=where)\n"
     ]
    },
    {
     "name": "stdout",
     "output_type": "stream",
     "text": [
      "2020-09-01\n"
     ]
    },
    {
     "name": "stderr",
     "output_type": "stream",
     "text": [
      "/home/lthapa/anaconda3/envs/ML_py/lib/python3.7/site-packages/numpy/core/_methods.py:179: RuntimeWarning: invalid value encountered in reduce\n",
      "  ret = umr_sum(arr, axis, dtype, out, keepdims, where=where)\n",
      "/home/lthapa/anaconda3/envs/ML_py/lib/python3.7/site-packages/numpy/core/_methods.py:179: RuntimeWarning: invalid value encountered in reduce\n",
      "  ret = umr_sum(arr, axis, dtype, out, keepdims, where=where)\n"
     ]
    },
    {
     "name": "stdout",
     "output_type": "stream",
     "text": [
      "2020-09-02\n"
     ]
    },
    {
     "name": "stderr",
     "output_type": "stream",
     "text": [
      "/home/lthapa/anaconda3/envs/ML_py/lib/python3.7/site-packages/numpy/core/_methods.py:179: RuntimeWarning: invalid value encountered in reduce\n",
      "  ret = umr_sum(arr, axis, dtype, out, keepdims, where=where)\n",
      "/home/lthapa/anaconda3/envs/ML_py/lib/python3.7/site-packages/numpy/core/_methods.py:179: RuntimeWarning: invalid value encountered in reduce\n",
      "  ret = umr_sum(arr, axis, dtype, out, keepdims, where=where)\n"
     ]
    },
    {
     "name": "stdout",
     "output_type": "stream",
     "text": [
      "2020-09-03\n"
     ]
    },
    {
     "name": "stderr",
     "output_type": "stream",
     "text": [
      "/home/lthapa/anaconda3/envs/ML_py/lib/python3.7/site-packages/numpy/core/_methods.py:179: RuntimeWarning: invalid value encountered in reduce\n",
      "  ret = umr_sum(arr, axis, dtype, out, keepdims, where=where)\n",
      "/home/lthapa/anaconda3/envs/ML_py/lib/python3.7/site-packages/numpy/core/_methods.py:179: RuntimeWarning: invalid value encountered in reduce\n",
      "  ret = umr_sum(arr, axis, dtype, out, keepdims, where=where)\n",
      "/home/lthapa/anaconda3/envs/ML_py/lib/python3.7/site-packages/numpy/core/_methods.py:179: RuntimeWarning: invalid value encountered in reduce\n",
      "  ret = umr_sum(arr, axis, dtype, out, keepdims, where=where)\n"
     ]
    },
    {
     "name": "stdout",
     "output_type": "stream",
     "text": [
      "2020-09-04\n"
     ]
    },
    {
     "name": "stderr",
     "output_type": "stream",
     "text": [
      "/home/lthapa/anaconda3/envs/ML_py/lib/python3.7/site-packages/numpy/core/_methods.py:179: RuntimeWarning: invalid value encountered in reduce\n",
      "  ret = umr_sum(arr, axis, dtype, out, keepdims, where=where)\n",
      "/home/lthapa/anaconda3/envs/ML_py/lib/python3.7/site-packages/numpy/core/_methods.py:179: RuntimeWarning: invalid value encountered in reduce\n",
      "  ret = umr_sum(arr, axis, dtype, out, keepdims, where=where)\n",
      "/home/lthapa/anaconda3/envs/ML_py/lib/python3.7/site-packages/numpy/core/_methods.py:179: RuntimeWarning: invalid value encountered in reduce\n",
      "  ret = umr_sum(arr, axis, dtype, out, keepdims, where=where)\n"
     ]
    },
    {
     "name": "stdout",
     "output_type": "stream",
     "text": [
      "2020-09-05\n"
     ]
    },
    {
     "name": "stderr",
     "output_type": "stream",
     "text": [
      "/home/lthapa/anaconda3/envs/ML_py/lib/python3.7/site-packages/numpy/core/_methods.py:179: RuntimeWarning: invalid value encountered in reduce\n",
      "  ret = umr_sum(arr, axis, dtype, out, keepdims, where=where)\n"
     ]
    },
    {
     "name": "stdout",
     "output_type": "stream",
     "text": [
      "2020-09-06\n"
     ]
    },
    {
     "name": "stderr",
     "output_type": "stream",
     "text": [
      "/home/lthapa/anaconda3/envs/ML_py/lib/python3.7/site-packages/numpy/core/_methods.py:179: RuntimeWarning: invalid value encountered in reduce\n",
      "  ret = umr_sum(arr, axis, dtype, out, keepdims, where=where)\n"
     ]
    },
    {
     "name": "stdout",
     "output_type": "stream",
     "text": [
      "2020-09-07\n"
     ]
    },
    {
     "name": "stderr",
     "output_type": "stream",
     "text": [
      "/home/lthapa/anaconda3/envs/ML_py/lib/python3.7/site-packages/numpy/core/_methods.py:179: RuntimeWarning: invalid value encountered in reduce\n",
      "  ret = umr_sum(arr, axis, dtype, out, keepdims, where=where)\n",
      "/home/lthapa/anaconda3/envs/ML_py/lib/python3.7/site-packages/numpy/core/_methods.py:179: RuntimeWarning: invalid value encountered in reduce\n",
      "  ret = umr_sum(arr, axis, dtype, out, keepdims, where=where)\n"
     ]
    },
    {
     "name": "stdout",
     "output_type": "stream",
     "text": [
      "2020-09-08\n"
     ]
    },
    {
     "name": "stderr",
     "output_type": "stream",
     "text": [
      "/home/lthapa/anaconda3/envs/ML_py/lib/python3.7/site-packages/numpy/core/_methods.py:179: RuntimeWarning: invalid value encountered in reduce\n",
      "  ret = umr_sum(arr, axis, dtype, out, keepdims, where=where)\n"
     ]
    },
    {
     "name": "stdout",
     "output_type": "stream",
     "text": [
      "2020-09-09\n"
     ]
    },
    {
     "name": "stderr",
     "output_type": "stream",
     "text": [
      "/home/lthapa/anaconda3/envs/ML_py/lib/python3.7/site-packages/numpy/core/_methods.py:179: RuntimeWarning: invalid value encountered in reduce\n",
      "  ret = umr_sum(arr, axis, dtype, out, keepdims, where=where)\n",
      "/home/lthapa/anaconda3/envs/ML_py/lib/python3.7/site-packages/numpy/core/_methods.py:179: RuntimeWarning: invalid value encountered in reduce\n",
      "  ret = umr_sum(arr, axis, dtype, out, keepdims, where=where)\n"
     ]
    },
    {
     "name": "stdout",
     "output_type": "stream",
     "text": [
      "2020-09-10\n"
     ]
    },
    {
     "name": "stderr",
     "output_type": "stream",
     "text": [
      "/home/lthapa/anaconda3/envs/ML_py/lib/python3.7/site-packages/numpy/core/_methods.py:179: RuntimeWarning: invalid value encountered in reduce\n",
      "  ret = umr_sum(arr, axis, dtype, out, keepdims, where=where)\n",
      "/home/lthapa/anaconda3/envs/ML_py/lib/python3.7/site-packages/numpy/core/_methods.py:179: RuntimeWarning: invalid value encountered in reduce\n",
      "  ret = umr_sum(arr, axis, dtype, out, keepdims, where=where)\n",
      "/home/lthapa/anaconda3/envs/ML_py/lib/python3.7/site-packages/numpy/core/_methods.py:179: RuntimeWarning: invalid value encountered in reduce\n",
      "  ret = umr_sum(arr, axis, dtype, out, keepdims, where=where)\n"
     ]
    },
    {
     "name": "stdout",
     "output_type": "stream",
     "text": [
      "2020-09-11\n",
      "2020-09-12\n"
     ]
    },
    {
     "name": "stderr",
     "output_type": "stream",
     "text": [
      "/home/lthapa/anaconda3/envs/ML_py/lib/python3.7/site-packages/numpy/core/_methods.py:179: RuntimeWarning: invalid value encountered in reduce\n",
      "  ret = umr_sum(arr, axis, dtype, out, keepdims, where=where)\n",
      "/home/lthapa/anaconda3/envs/ML_py/lib/python3.7/site-packages/numpy/core/_methods.py:179: RuntimeWarning: invalid value encountered in reduce\n",
      "  ret = umr_sum(arr, axis, dtype, out, keepdims, where=where)\n",
      "/home/lthapa/anaconda3/envs/ML_py/lib/python3.7/site-packages/numpy/core/_methods.py:179: RuntimeWarning: invalid value encountered in reduce\n",
      "  ret = umr_sum(arr, axis, dtype, out, keepdims, where=where)\n",
      "/home/lthapa/anaconda3/envs/ML_py/lib/python3.7/site-packages/numpy/core/_methods.py:179: RuntimeWarning: invalid value encountered in reduce\n",
      "  ret = umr_sum(arr, axis, dtype, out, keepdims, where=where)\n",
      "/home/lthapa/anaconda3/envs/ML_py/lib/python3.7/site-packages/numpy/core/_methods.py:179: RuntimeWarning: invalid value encountered in reduce\n",
      "  ret = umr_sum(arr, axis, dtype, out, keepdims, where=where)\n"
     ]
    },
    {
     "name": "stdout",
     "output_type": "stream",
     "text": [
      "2020-09-13\n"
     ]
    },
    {
     "name": "stderr",
     "output_type": "stream",
     "text": [
      "/home/lthapa/anaconda3/envs/ML_py/lib/python3.7/site-packages/numpy/core/_methods.py:179: RuntimeWarning: invalid value encountered in reduce\n",
      "  ret = umr_sum(arr, axis, dtype, out, keepdims, where=where)\n"
     ]
    },
    {
     "name": "stdout",
     "output_type": "stream",
     "text": [
      "2020-09-14\n"
     ]
    },
    {
     "name": "stderr",
     "output_type": "stream",
     "text": [
      "/home/lthapa/anaconda3/envs/ML_py/lib/python3.7/site-packages/numpy/core/_methods.py:179: RuntimeWarning: invalid value encountered in reduce\n",
      "  ret = umr_sum(arr, axis, dtype, out, keepdims, where=where)\n"
     ]
    },
    {
     "name": "stdout",
     "output_type": "stream",
     "text": [
      "2020-09-15\n"
     ]
    },
    {
     "name": "stderr",
     "output_type": "stream",
     "text": [
      "/home/lthapa/anaconda3/envs/ML_py/lib/python3.7/site-packages/numpy/core/_methods.py:179: RuntimeWarning: invalid value encountered in reduce\n",
      "  ret = umr_sum(arr, axis, dtype, out, keepdims, where=where)\n",
      "/home/lthapa/anaconda3/envs/ML_py/lib/python3.7/site-packages/numpy/core/_methods.py:179: RuntimeWarning: invalid value encountered in reduce\n",
      "  ret = umr_sum(arr, axis, dtype, out, keepdims, where=where)\n",
      "/home/lthapa/anaconda3/envs/ML_py/lib/python3.7/site-packages/numpy/core/_methods.py:179: RuntimeWarning: invalid value encountered in reduce\n",
      "  ret = umr_sum(arr, axis, dtype, out, keepdims, where=where)\n",
      "/home/lthapa/anaconda3/envs/ML_py/lib/python3.7/site-packages/numpy/core/_methods.py:179: RuntimeWarning: invalid value encountered in reduce\n",
      "  ret = umr_sum(arr, axis, dtype, out, keepdims, where=where)\n",
      "/home/lthapa/anaconda3/envs/ML_py/lib/python3.7/site-packages/numpy/core/_methods.py:179: RuntimeWarning: invalid value encountered in reduce\n",
      "  ret = umr_sum(arr, axis, dtype, out, keepdims, where=where)\n"
     ]
    },
    {
     "name": "stdout",
     "output_type": "stream",
     "text": [
      "2020-09-16\n",
      "2020-09-18\n"
     ]
    },
    {
     "name": "stderr",
     "output_type": "stream",
     "text": [
      "/home/lthapa/anaconda3/envs/ML_py/lib/python3.7/site-packages/numpy/core/_methods.py:179: RuntimeWarning: invalid value encountered in reduce\n",
      "  ret = umr_sum(arr, axis, dtype, out, keepdims, where=where)\n"
     ]
    },
    {
     "name": "stdout",
     "output_type": "stream",
     "text": [
      "2020-09-19\n"
     ]
    },
    {
     "name": "stderr",
     "output_type": "stream",
     "text": [
      "/home/lthapa/anaconda3/envs/ML_py/lib/python3.7/site-packages/numpy/core/_methods.py:179: RuntimeWarning: invalid value encountered in reduce\n",
      "  ret = umr_sum(arr, axis, dtype, out, keepdims, where=where)\n",
      "/home/lthapa/anaconda3/envs/ML_py/lib/python3.7/site-packages/numpy/core/_methods.py:179: RuntimeWarning: invalid value encountered in reduce\n",
      "  ret = umr_sum(arr, axis, dtype, out, keepdims, where=where)\n"
     ]
    },
    {
     "name": "stdout",
     "output_type": "stream",
     "text": [
      "2020-09-20\n"
     ]
    },
    {
     "name": "stderr",
     "output_type": "stream",
     "text": [
      "/home/lthapa/anaconda3/envs/ML_py/lib/python3.7/site-packages/numpy/core/_methods.py:179: RuntimeWarning: invalid value encountered in reduce\n",
      "  ret = umr_sum(arr, axis, dtype, out, keepdims, where=where)\n",
      "/home/lthapa/anaconda3/envs/ML_py/lib/python3.7/site-packages/numpy/core/_methods.py:179: RuntimeWarning: invalid value encountered in reduce\n",
      "  ret = umr_sum(arr, axis, dtype, out, keepdims, where=where)\n"
     ]
    },
    {
     "name": "stdout",
     "output_type": "stream",
     "text": [
      "2020-09-21\n"
     ]
    },
    {
     "name": "stderr",
     "output_type": "stream",
     "text": [
      "/home/lthapa/anaconda3/envs/ML_py/lib/python3.7/site-packages/numpy/core/_methods.py:179: RuntimeWarning: invalid value encountered in reduce\n",
      "  ret = umr_sum(arr, axis, dtype, out, keepdims, where=where)\n",
      "/home/lthapa/anaconda3/envs/ML_py/lib/python3.7/site-packages/numpy/core/_methods.py:179: RuntimeWarning: invalid value encountered in reduce\n",
      "  ret = umr_sum(arr, axis, dtype, out, keepdims, where=where)\n"
     ]
    },
    {
     "name": "stdout",
     "output_type": "stream",
     "text": [
      "2020-09-22\n"
     ]
    },
    {
     "name": "stderr",
     "output_type": "stream",
     "text": [
      "/home/lthapa/anaconda3/envs/ML_py/lib/python3.7/site-packages/numpy/core/_methods.py:179: RuntimeWarning: invalid value encountered in reduce\n",
      "  ret = umr_sum(arr, axis, dtype, out, keepdims, where=where)\n"
     ]
    },
    {
     "name": "stdout",
     "output_type": "stream",
     "text": [
      "2020-09-29\n",
      "2020-09-30\n"
     ]
    },
    {
     "name": "stderr",
     "output_type": "stream",
     "text": [
      "/home/lthapa/anaconda3/envs/ML_py/lib/python3.7/site-packages/numpy/core/_methods.py:179: RuntimeWarning: invalid value encountered in reduce\n",
      "  ret = umr_sum(arr, axis, dtype, out, keepdims, where=where)\n",
      "/home/lthapa/anaconda3/envs/ML_py/lib/python3.7/site-packages/numpy/core/_methods.py:179: RuntimeWarning: invalid value encountered in reduce\n",
      "  ret = umr_sum(arr, axis, dtype, out, keepdims, where=where)\n",
      "/home/lthapa/anaconda3/envs/ML_py/lib/python3.7/site-packages/numpy/core/_methods.py:179: RuntimeWarning: invalid value encountered in reduce\n",
      "  ret = umr_sum(arr, axis, dtype, out, keepdims, where=where)\n",
      "/home/lthapa/anaconda3/envs/ML_py/lib/python3.7/site-packages/numpy/core/_methods.py:179: RuntimeWarning: invalid value encountered in reduce\n",
      "  ret = umr_sum(arr, axis, dtype, out, keepdims, where=where)\n",
      "/home/lthapa/anaconda3/envs/ML_py/lib/python3.7/site-packages/numpy/core/_methods.py:179: RuntimeWarning: invalid value encountered in reduce\n",
      "  ret = umr_sum(arr, axis, dtype, out, keepdims, where=where)\n",
      "/home/lthapa/anaconda3/envs/ML_py/lib/python3.7/site-packages/numpy/core/_methods.py:179: RuntimeWarning: invalid value encountered in reduce\n",
      "  ret = umr_sum(arr, axis, dtype, out, keepdims, where=where)\n"
     ]
    },
    {
     "name": "stdout",
     "output_type": "stream",
     "text": [
      "2020-10-18\n",
      "2020-10-19\n"
     ]
    },
    {
     "name": "stderr",
     "output_type": "stream",
     "text": [
      "/home/lthapa/anaconda3/envs/ML_py/lib/python3.7/site-packages/numpy/core/_methods.py:179: RuntimeWarning: invalid value encountered in reduce\n",
      "  ret = umr_sum(arr, axis, dtype, out, keepdims, where=where)\n",
      "/home/lthapa/anaconda3/envs/ML_py/lib/python3.7/site-packages/numpy/core/_methods.py:179: RuntimeWarning: invalid value encountered in reduce\n",
      "  ret = umr_sum(arr, axis, dtype, out, keepdims, where=where)\n"
     ]
    },
    {
     "name": "stdout",
     "output_type": "stream",
     "text": [
      "                    day       hd0w0       hd1w0       hd2w0       hd3w0  \\\n",
      "0   2020-08-18 12:00:00   77.428847   78.836355   82.891066   82.304843   \n",
      "1   2020-08-19 12:00:00   90.515547   97.739431   93.026279   97.372327   \n",
      "2   2020-08-20 12:00:00   87.007263   99.714452  105.685516   94.276394   \n",
      "3   2020-08-21 12:00:00   85.991594   84.534885  100.073300  106.268777   \n",
      "4   2020-08-22 12:00:00   67.660892   71.217598   69.517795   77.711127   \n",
      "5   2020-08-23 12:00:00   50.219644   54.476198   60.916156   59.526611   \n",
      "6   2020-08-24 12:00:00   59.119489   62.400810   70.438067   80.391701   \n",
      "7   2020-08-25 12:00:00   30.738363   33.063595   35.918430   39.035076   \n",
      "8   2020-08-26 12:00:00   50.319792   46.453507   50.643863   56.230841   \n",
      "9   2020-08-27 12:00:00   42.749641   50.096439   45.131649   50.733315   \n",
      "10  2020-08-28 12:00:00   34.049609   32.843753   39.068635   35.825322   \n",
      "11  2020-08-29 12:00:00   35.478192   37.274815   34.895881   40.397251   \n",
      "12  2020-08-30 12:00:00   39.957121   39.620578   43.145243   37.253079   \n",
      "13  2020-08-31 12:00:00   42.944733   44.171029   43.621204   47.630725   \n",
      "14  2020-09-01 12:00:00   39.502139   42.340816   44.936062   45.008530   \n",
      "15  2020-09-02 12:00:00   46.156372   40.712321   42.897009   43.957336   \n",
      "16  2020-09-03 12:00:00   75.646126   59.877569   49.018196   53.524880   \n",
      "17  2020-09-04 12:00:00   81.474284   71.297317   58.120360   49.417984   \n",
      "18  2020-09-05 12:00:00  131.798010  104.584933   91.521924   75.293224   \n",
      "19  2020-09-06 12:00:00  209.606823  164.324736  131.070762  111.962727   \n",
      "20  2020-09-07 12:00:00  217.958779  207.842113  171.846283  143.599920   \n",
      "21  2020-09-08 12:00:00  171.212480  205.339611  210.233870  174.847261   \n",
      "22  2020-09-09 12:00:00   89.141244  127.306136  177.566219  181.713780   \n",
      "23  2020-09-10 12:00:00   86.694018   82.607433  130.945129  181.616275   \n",
      "24  2020-09-11 12:00:00   69.166043   62.453670   64.110558   90.482631   \n",
      "25  2020-09-12 12:00:00   99.523635   83.806078   77.306692   78.383786   \n",
      "26  2020-09-13 12:00:00   75.623904   74.954834   69.188538   62.986257   \n",
      "27  2020-09-14 12:00:00   91.232763   81.172106   84.268622   78.420214   \n",
      "28  2020-09-15 12:00:00  110.868153   98.983315   93.301314   98.733869   \n",
      "29  2020-09-16 12:00:00   69.911602   66.650325   64.921417   60.746212   \n",
      "30  2020-09-18 12:00:00   72.945762   79.535558   74.340430   72.265673   \n",
      "31  2020-09-19 12:00:00   62.865526   61.765909   72.137216   68.589885   \n",
      "32  2020-09-20 12:00:00   54.826279   52.192808   48.838340   59.023037   \n",
      "33  2020-09-21 12:00:00   28.540875   34.357645   31.275313   28.300938   \n",
      "34  2020-09-22 12:00:00   56.637747   52.082286   56.033522   53.250634   \n",
      "35  2020-09-29 12:00:00   37.349599   39.788362   35.908206   33.893591   \n",
      "36  2020-09-30 12:00:00  181.830277  100.569035  106.346025  128.640495   \n",
      "37  2020-10-18 12:00:00   65.465025   61.150122   62.646271   62.906808   \n",
      "38  2020-10-19 12:00:00   58.597770   57.288503   62.400430   64.523656   \n",
      "\n",
      "         hd4w0       hd5w0     temp_2m      q_2m  wind_speed  ...      soilm  \\\n",
      "0    87.456432   76.974961  289.262561  0.011032    4.228475  ...  99.791912   \n",
      "1    95.308788   98.023709  290.093383  0.009880    4.582531  ...  88.412147   \n",
      "2    99.412596   95.063648  292.017575  0.010173    4.010846  ...  59.239136   \n",
      "3    93.426238   99.007793  293.033882  0.011528    3.881251  ...  48.400428   \n",
      "4    81.672059   75.474608  291.265277  0.011631    3.394302  ...  70.044006   \n",
      "5    74.130517   78.405439  289.833216  0.009868    2.476670  ...  66.680812   \n",
      "6    79.833035  107.300442  291.791107  0.010600    2.647949  ...  35.905982   \n",
      "7    43.945673   42.937440  288.719151  0.010856    1.768298  ...  60.653993   \n",
      "8    61.865223   69.621237  290.976636  0.010612    2.493541  ...  35.133433   \n",
      "9    58.528218   63.394592  289.293434  0.009729    2.333331  ...  16.730602   \n",
      "10   38.966367   43.826789  288.312446  0.009334    1.934454  ...  33.663494   \n",
      "11   36.945218   39.696501  287.981812  0.008917    2.018817  ...  47.354210   \n",
      "12   43.794236   38.151514  290.290233  0.008514    1.930314  ...  26.957096   \n",
      "13   40.988909   47.509321  291.118602  0.008481    2.049576  ...  22.474885   \n",
      "14   49.860793   41.704169  291.927284  0.008632    1.819892  ...   3.073356   \n",
      "15   43.922963   46.801040  291.273883  0.008936    2.155581  ...  28.256854   \n",
      "16   57.583087   57.630305  297.102357  0.008977    2.465301  ...   3.653301   \n",
      "17   53.333488   55.709872  299.387339  0.007401    2.298585  ...   8.940167   \n",
      "18   63.534112   69.315068  303.076487  0.006361    2.951024  ...   7.331843   \n",
      "19   91.189123   76.497117  307.214383  0.006377    3.776282  ...   4.248701   \n",
      "20  123.993529  102.556740  307.332774  0.006051    3.876017  ...   4.350373   \n",
      "21  147.472600  128.081274  302.401617  0.006161    3.794449  ...  10.822445   \n",
      "22  151.321951  128.288993  293.227649  0.008267    3.547244  ...  28.385009   \n",
      "23  184.688504  154.570545  292.775876  0.006843    3.466369  ...  27.184014   \n",
      "24  123.707370  127.752065  290.586733  0.007612    2.985183  ...  59.656188   \n",
      "25  117.156385  158.996526  295.684261  0.005592    3.244593  ...  26.476698   \n",
      "26   64.094006  100.390440  295.177038  0.006698    2.657709  ...  16.121150   \n",
      "27   73.352905   74.593307  294.337878  0.006936    3.167448  ...  27.461407   \n",
      "28   90.642481   83.971552  295.838663  0.005863    3.735515  ...  11.274085   \n",
      "29   66.096093   61.681911  293.550668  0.007347    2.809712  ...  46.794123   \n",
      "30   69.316704   64.464864  293.504819  0.009802    3.033198  ...  34.624736   \n",
      "31   65.412181   62.109125  290.876518  0.009038    3.104233  ...  32.668579   \n",
      "32   55.730510   52.923433  292.326264  0.008875    2.435916  ...  38.896208   \n",
      "33   35.928451   33.609209  290.560824  0.009680    1.396776  ...   1.585900   \n",
      "34   50.457497   60.578407  292.010348  0.009454    2.539246  ...  55.490022   \n",
      "35   26.082241   29.769747  296.765266  0.006584    1.241377  ...   3.071146   \n",
      "36  120.959083   81.069379  303.072784  0.007562    4.258521  ...   4.184616   \n",
      "37   63.286313   60.127304  298.611995  0.004296    1.920991  ...   0.218791   \n",
      "38   65.208605   64.559387  296.080595  0.006275    1.966281  ...   0.506443   \n",
      "\n",
      "      esat_2m      e_2m     vpd_2m        hwp  veg_term  gust_max_term  \\\n",
      "0   18.353973  0.020071  18.333903   0.047603  0.002107       6.136749   \n",
      "1   20.114550  0.017987  20.096563   3.141717  0.119292       7.934419   \n",
      "2   22.397524  0.018653  22.378870   6.111944  0.445692       7.469801   \n",
      "3   23.918551  0.021251  23.897301   6.015624  0.545333       5.766368   \n",
      "4   21.430639  0.021350  21.409289   2.282367  0.344273       4.171738   \n",
      "5   19.484580  0.017981  19.466599   4.275596  0.342229       3.862968   \n",
      "6   22.032081  0.019466  22.012615   7.572121  0.674038       4.149980   \n",
      "7   17.784415  0.019723  17.764692   1.853314  0.497069       3.146954   \n",
      "8   20.844040  0.019424  20.824616   5.624546  0.701063       4.092648   \n",
      "9   18.539528  0.017681  18.521847   6.620162  0.887742       3.555376   \n",
      "10  17.643683  0.016912  17.626771   6.070853  0.702720       3.517363   \n",
      "11  17.300055  0.016123  17.283932   4.809801  0.549350       3.340491   \n",
      "12  20.217987  0.015507  20.202480   6.827361  0.746298       3.132857   \n",
      "13  21.215027  0.015491  21.199535   7.588088  0.799560       3.319430   \n",
      "14  22.312231  0.015815  22.296416  12.132779  0.988981       4.084478   \n",
      "15  22.012225  0.016325  21.995900   7.035445  0.777771       3.695091   \n",
      "16  30.628390  0.016732  30.611658  13.306976  0.974861       4.045338   \n",
      "17  35.557177  0.013882  35.543295  13.274687  0.933015       3.935093   \n",
      "18  44.094327  0.012051  44.082276  22.334122  0.935283       4.429118   \n",
      "19  54.785233  0.012250  54.772983  31.054860  0.961116       5.168384   \n",
      "20  55.434835  0.011614  55.423220  32.876812  0.995370       5.337335   \n",
      "21  42.672977  0.011608  42.661368  29.691597  0.990565       5.279640   \n",
      "22  24.174639  0.015192  24.159446  13.963303  0.870036       5.803525   \n",
      "23  23.642631  0.012527  23.630104  12.258288  0.896640       5.011726   \n",
      "24  21.020140  0.013806  21.006334   9.941257  0.683190       4.360806   \n",
      "25  29.107299  0.010290  29.097009  19.770045  0.852504       4.727048   \n",
      "26  27.629910  0.012364  27.617546  15.636735  0.988490       4.755151   \n",
      "27  26.773605  0.012729  26.760876  18.010144  0.745133       5.024770   \n",
      "28  28.389059  0.010827  28.378232  23.218926  0.956157       5.335079   \n",
      "29  24.716680  0.013531  24.703149   6.983121  0.924439       3.798745   \n",
      "30  24.199280  0.018061  24.181219   6.112825  0.958196       3.968143   \n",
      "31  20.645720  0.016500  20.629220   7.808776  0.701277       4.348863   \n",
      "32  22.485682  0.016287  22.469395   6.384704  0.846202       3.594646   \n",
      "33  19.994546  0.017675  19.976871   8.989566  0.998529       3.033010   \n",
      "34  22.146351  0.017371  22.128981   3.979404  1.000000       3.621446   \n",
      "35  30.218667  0.012231  30.206436  10.802082  1.000000       3.293894   \n",
      "36  42.712344  0.014357  42.697987  23.525124  1.000000       6.533837   \n",
      "37  34.435523  0.008024  34.427500  15.280234  1.000000       3.041561   \n",
      "38  29.816368  0.011595  29.804773  13.120826  1.000000       3.183348   \n",
      "\n",
      "      dd_term  mois_term  snowc_term  \n",
      "0   15.014720   0.002081         1.0  \n",
      "1   15.561599   0.115879         1.0  \n",
      "2   15.273327   0.407609         1.0  \n",
      "3   15.140168   0.515996         1.0  \n",
      "4   15.000532   0.299560         1.0  \n",
      "5   15.017550   0.333192         1.0  \n",
      "6   15.000000   0.640940         1.0  \n",
      "7   15.000000   0.393460         1.0  \n",
      "8   15.022079   0.648666         1.0  \n",
      "9   15.000000   0.832694         1.0  \n",
      "10  15.022723   0.663365         1.0  \n",
      "11  15.017383   0.526458         1.0  \n",
      "12  15.171050   0.730429         1.0  \n",
      "13  15.303632   0.775251         1.0  \n",
      "14  15.165558   0.969266         1.0  \n",
      "15  15.741261   0.717431         1.0  \n",
      "16  16.599989   0.963467         1.0  \n",
      "17  19.480688   0.910598         1.0  \n",
      "18  25.017948   0.926682         1.0  \n",
      "19  28.577578   0.957513         1.0  \n",
      "20  29.469794   0.956496         1.0  \n",
      "21  26.486476   0.891776         1.0  \n",
      "22  15.557608   0.716150         1.0  \n",
      "23  17.039502   0.728160         1.0  \n",
      "24  17.938876   0.403438         1.0  \n",
      "25  22.645707   0.735233         1.0  \n",
      "26  18.533192   0.838788         1.0  \n",
      "27  19.052071   0.725386         1.0  \n",
      "28  20.977805   0.887259         1.0  \n",
      "29  16.657475   0.532059         1.0  \n",
      "30  15.298516   0.653753         1.0  \n",
      "31  15.190361   0.673314         1.0  \n",
      "32  15.028874   0.611038         1.0  \n",
      "33  15.172540   0.984141         1.0  \n",
      "34  15.000000   0.445100         1.0  \n",
      "35  19.428084   0.969289         1.0  \n",
      "36  20.937313   0.958154         1.0  \n",
      "37  24.677542   0.997812         1.0  \n",
      "38  20.077608   0.994935         1.0  \n",
      "\n",
      "[39 rows x 23 columns]\n",
      "/data2/lthapa/ML_daily/fire_polygons/holiday_farm_VIIRS_daily_12Z_day_start.geojson\n"
     ]
    },
    {
     "name": "stdout",
     "output_type": "stream",
     "text": [
      "epsg:3347\n",
      "0:00:38.183138\n",
      "2020-09-07\n"
     ]
    },
    {
     "name": "stderr",
     "output_type": "stream",
     "text": [
      "/home/lthapa/anaconda3/envs/ML_py/lib/python3.7/site-packages/numpy/core/_methods.py:179: RuntimeWarning: invalid value encountered in reduce\n",
      "  ret = umr_sum(arr, axis, dtype, out, keepdims, where=where)\n"
     ]
    },
    {
     "name": "stdout",
     "output_type": "stream",
     "text": [
      "2020-09-08\n",
      "2020-09-09\n"
     ]
    },
    {
     "name": "stderr",
     "output_type": "stream",
     "text": [
      "/home/lthapa/anaconda3/envs/ML_py/lib/python3.7/site-packages/numpy/core/_methods.py:179: RuntimeWarning: invalid value encountered in reduce\n",
      "  ret = umr_sum(arr, axis, dtype, out, keepdims, where=where)\n"
     ]
    },
    {
     "name": "stdout",
     "output_type": "stream",
     "text": [
      "2020-09-10\n"
     ]
    },
    {
     "name": "stderr",
     "output_type": "stream",
     "text": [
      "/home/lthapa/anaconda3/envs/ML_py/lib/python3.7/site-packages/numpy/core/_methods.py:179: RuntimeWarning: invalid value encountered in reduce\n",
      "  ret = umr_sum(arr, axis, dtype, out, keepdims, where=where)\n",
      "/home/lthapa/anaconda3/envs/ML_py/lib/python3.7/site-packages/numpy/core/_methods.py:179: RuntimeWarning: invalid value encountered in reduce\n",
      "  ret = umr_sum(arr, axis, dtype, out, keepdims, where=where)\n",
      "/home/lthapa/anaconda3/envs/ML_py/lib/python3.7/site-packages/numpy/core/_methods.py:179: RuntimeWarning: invalid value encountered in reduce\n",
      "  ret = umr_sum(arr, axis, dtype, out, keepdims, where=where)\n"
     ]
    },
    {
     "name": "stdout",
     "output_type": "stream",
     "text": [
      "2020-09-11\n"
     ]
    },
    {
     "name": "stderr",
     "output_type": "stream",
     "text": [
      "/home/lthapa/anaconda3/envs/ML_py/lib/python3.7/site-packages/numpy/core/_methods.py:179: RuntimeWarning: invalid value encountered in reduce\n",
      "  ret = umr_sum(arr, axis, dtype, out, keepdims, where=where)\n",
      "/home/lthapa/anaconda3/envs/ML_py/lib/python3.7/site-packages/numpy/core/_methods.py:179: RuntimeWarning: invalid value encountered in reduce\n",
      "  ret = umr_sum(arr, axis, dtype, out, keepdims, where=where)\n"
     ]
    },
    {
     "name": "stdout",
     "output_type": "stream",
     "text": [
      "2020-09-12\n",
      "2020-09-13\n"
     ]
    },
    {
     "name": "stderr",
     "output_type": "stream",
     "text": [
      "/home/lthapa/anaconda3/envs/ML_py/lib/python3.7/site-packages/numpy/core/_methods.py:179: RuntimeWarning: invalid value encountered in reduce\n",
      "  ret = umr_sum(arr, axis, dtype, out, keepdims, where=where)\n"
     ]
    },
    {
     "name": "stdout",
     "output_type": "stream",
     "text": [
      "2020-09-14\n",
      "2020-09-15\n"
     ]
    },
    {
     "name": "stderr",
     "output_type": "stream",
     "text": [
      "/home/lthapa/anaconda3/envs/ML_py/lib/python3.7/site-packages/numpy/core/_methods.py:179: RuntimeWarning: invalid value encountered in reduce\n",
      "  ret = umr_sum(arr, axis, dtype, out, keepdims, where=where)\n"
     ]
    },
    {
     "name": "stdout",
     "output_type": "stream",
     "text": [
      "2020-09-16\n"
     ]
    },
    {
     "name": "stderr",
     "output_type": "stream",
     "text": [
      "/home/lthapa/anaconda3/envs/ML_py/lib/python3.7/site-packages/numpy/core/_methods.py:179: RuntimeWarning: invalid value encountered in reduce\n",
      "  ret = umr_sum(arr, axis, dtype, out, keepdims, where=where)\n",
      "/home/lthapa/anaconda3/envs/ML_py/lib/python3.7/site-packages/numpy/core/_methods.py:179: RuntimeWarning: invalid value encountered in reduce\n",
      "  ret = umr_sum(arr, axis, dtype, out, keepdims, where=where)\n",
      "/home/lthapa/anaconda3/envs/ML_py/lib/python3.7/site-packages/numpy/core/_methods.py:179: RuntimeWarning: invalid value encountered in reduce\n",
      "  ret = umr_sum(arr, axis, dtype, out, keepdims, where=where)\n",
      "/home/lthapa/anaconda3/envs/ML_py/lib/python3.7/site-packages/numpy/core/_methods.py:179: RuntimeWarning: invalid value encountered in reduce\n",
      "  ret = umr_sum(arr, axis, dtype, out, keepdims, where=where)\n"
     ]
    },
    {
     "name": "stdout",
     "output_type": "stream",
     "text": [
      "2020-09-17\n"
     ]
    },
    {
     "name": "stderr",
     "output_type": "stream",
     "text": [
      "/home/lthapa/anaconda3/envs/ML_py/lib/python3.7/site-packages/numpy/core/_methods.py:179: RuntimeWarning: invalid value encountered in reduce\n",
      "  ret = umr_sum(arr, axis, dtype, out, keepdims, where=where)\n",
      "/home/lthapa/anaconda3/envs/ML_py/lib/python3.7/site-packages/numpy/core/_methods.py:179: RuntimeWarning: invalid value encountered in reduce\n",
      "  ret = umr_sum(arr, axis, dtype, out, keepdims, where=where)\n",
      "/home/lthapa/anaconda3/envs/ML_py/lib/python3.7/site-packages/numpy/core/_methods.py:179: RuntimeWarning: invalid value encountered in reduce\n",
      "  ret = umr_sum(arr, axis, dtype, out, keepdims, where=where)\n"
     ]
    },
    {
     "name": "stdout",
     "output_type": "stream",
     "text": [
      "2020-09-28\n"
     ]
    },
    {
     "name": "stderr",
     "output_type": "stream",
     "text": [
      "/home/lthapa/anaconda3/envs/ML_py/lib/python3.7/site-packages/numpy/core/_methods.py:179: RuntimeWarning: invalid value encountered in reduce\n",
      "  ret = umr_sum(arr, axis, dtype, out, keepdims, where=where)\n",
      "/home/lthapa/anaconda3/envs/ML_py/lib/python3.7/site-packages/numpy/core/_methods.py:179: RuntimeWarning: invalid value encountered in reduce\n",
      "  ret = umr_sum(arr, axis, dtype, out, keepdims, where=where)\n"
     ]
    },
    {
     "name": "stdout",
     "output_type": "stream",
     "text": [
      "2020-10-03\n",
      "2020-10-05\n"
     ]
    },
    {
     "name": "stderr",
     "output_type": "stream",
     "text": [
      "/home/lthapa/anaconda3/envs/ML_py/lib/python3.7/site-packages/numpy/core/_methods.py:179: RuntimeWarning: invalid value encountered in reduce\n",
      "  ret = umr_sum(arr, axis, dtype, out, keepdims, where=where)\n",
      "/home/lthapa/anaconda3/envs/ML_py/lib/python3.7/site-packages/numpy/core/_methods.py:179: RuntimeWarning: invalid value encountered in reduce\n",
      "  ret = umr_sum(arr, axis, dtype, out, keepdims, where=where)\n"
     ]
    },
    {
     "name": "stdout",
     "output_type": "stream",
     "text": [
      "2020-10-06\n"
     ]
    },
    {
     "name": "stderr",
     "output_type": "stream",
     "text": [
      "/home/lthapa/anaconda3/envs/ML_py/lib/python3.7/site-packages/numpy/core/_methods.py:179: RuntimeWarning: invalid value encountered in reduce\n",
      "  ret = umr_sum(arr, axis, dtype, out, keepdims, where=where)\n",
      "/home/lthapa/anaconda3/envs/ML_py/lib/python3.7/site-packages/numpy/core/_methods.py:179: RuntimeWarning: invalid value encountered in reduce\n",
      "  ret = umr_sum(arr, axis, dtype, out, keepdims, where=where)\n"
     ]
    },
    {
     "name": "stdout",
     "output_type": "stream",
     "text": [
      "2020-10-08\n"
     ]
    },
    {
     "name": "stderr",
     "output_type": "stream",
     "text": [
      "/home/lthapa/anaconda3/envs/ML_py/lib/python3.7/site-packages/numpy/core/_methods.py:179: RuntimeWarning: invalid value encountered in reduce\n",
      "  ret = umr_sum(arr, axis, dtype, out, keepdims, where=where)\n"
     ]
    },
    {
     "name": "stdout",
     "output_type": "stream",
     "text": [
      "                    day       hd0w0       hd1w0       hd2w0       hd3w0  \\\n",
      "0   2020-09-07 12:00:00  103.700254   87.660788   68.749296   75.670955   \n",
      "1   2020-09-08 12:00:00  141.851517  144.587684  137.758410  107.843660   \n",
      "2   2020-09-09 12:00:00  108.325892   86.468273   91.702424   88.101813   \n",
      "3   2020-09-10 12:00:00   70.080749   78.298067   68.001280   72.716783   \n",
      "4   2020-09-11 12:00:00   51.974143   57.737684   75.687266   66.101590   \n",
      "5   2020-09-12 12:00:00   45.476545   41.486180   52.317923   68.558781   \n",
      "6   2020-09-13 12:00:00   47.256602   39.835586   40.829809   51.658155   \n",
      "7   2020-09-14 12:00:00   59.244889   52.091879   48.193210   49.396577   \n",
      "8   2020-09-15 12:00:00   58.443811   49.653327   46.786841   43.475321   \n",
      "9   2020-09-16 12:00:00   48.553890   49.133758   47.062041   44.222275   \n",
      "10  2020-09-17 12:00:00   52.640247   50.637602   54.053400   51.752918   \n",
      "11  2020-09-28 12:00:00  270.362334  201.499502  139.696060  138.644163   \n",
      "12  2020-10-03 12:00:00   71.538701   68.446762   71.821318   66.845768   \n",
      "13  2020-10-05 12:00:00   58.552861   46.576631   53.682210   58.182294   \n",
      "14  2020-10-06 12:00:00   74.210688   63.231617   54.803710   63.223514   \n",
      "15  2020-10-08 12:00:00   53.361852   55.675491   65.027253   62.796764   \n",
      "\n",
      "         hd4w0       hd5w0     temp_2m      q_2m  wind_speed  ...      soilm  \\\n",
      "0   104.031858   98.886197  298.525780  0.006749    3.038619  ...  10.443710   \n",
      "1   117.620740  162.260780  295.457156  0.002059    5.212146  ...   7.002315   \n",
      "2    68.388893   74.784653  297.875826  0.002273    3.368903  ...   6.084808   \n",
      "3    70.713908   55.170729  294.720615  0.003231    2.612691  ...   7.148611   \n",
      "4    70.150181   68.445756  290.642046  0.008168    2.422513  ...   8.877382   \n",
      "5    60.520350   64.330462  289.893156  0.008246    2.218739  ...   9.545018   \n",
      "6    66.643789   57.083233  290.841427  0.006544    2.206044  ...  10.618131   \n",
      "7    62.096875   81.080694  291.524761  0.007923    2.668251  ...  14.200433   \n",
      "8    44.405538   55.839177  292.811047  0.006457    2.422374  ...  10.897942   \n",
      "9    41.056012   41.903665  290.745347  0.010205    2.310221  ...  13.807977   \n",
      "10   48.557275   45.081865  290.216045  0.009263    2.594924  ...  16.111928   \n",
      "11  148.245673  186.337164  295.531616  0.005051    9.834910  ...  65.092316   \n",
      "12   78.991973   80.731035  294.018658  0.006244    2.680384  ...  20.080861   \n",
      "13   60.446592   56.962934  292.236023  0.007380    2.464237  ...  24.592312   \n",
      "14   68.763354   73.416885  294.310756  0.006739    2.814209  ...  22.609715   \n",
      "15   56.412387   64.593836  289.704683  0.007718    2.675459  ...  34.007877   \n",
      "\n",
      "      esat_2m      e_2m     vpd_2m        hwp  veg_term  gust_max_term  \\\n",
      "0   34.341309  0.012631  34.328678  12.795643       1.0       5.355135   \n",
      "1   27.763651  0.003795  27.759856  50.333337       1.0      11.680696   \n",
      "2   32.320584  0.004228  32.316356  29.113464       1.0       6.305380   \n",
      "3   26.535982  0.005961  26.530022  12.893616       1.0       3.716512   \n",
      "4   21.003899  0.014922  20.988977   7.879755       1.0       3.560138   \n",
      "5   20.049754  0.015017  20.034737   7.163759       1.0       3.494082   \n",
      "6   21.252550  0.011931  21.240619   7.341569       1.0       3.610632   \n",
      "7   22.161087  0.014506  22.146581   7.052132       1.0       4.623683   \n",
      "8   24.036177  0.011909  24.024268   6.473264       1.0       3.639576   \n",
      "9   20.930351  0.018682  20.911669   5.240449       1.0       3.593863   \n",
      "10  20.192169  0.016932  20.175237   5.704982       1.0       3.915083   \n",
      "11  27.499418  0.009352  27.490066   0.122622       1.0      17.013813   \n",
      "12  26.625630  0.011524  26.614106   4.137226       1.0       3.583518   \n",
      "13  23.774578  0.013524  23.761054   4.148026       1.0       3.965618   \n",
      "14  26.448188  0.012473  26.435715   2.650477       1.0       3.792191   \n",
      "15  19.958962  0.014031  19.944931   2.050695       1.0       4.546710   \n",
      "\n",
      "      dd_term  mois_term  snowc_term  \n",
      "0   19.388244   0.895563         1.0  \n",
      "1   31.349517   0.929977         1.0  \n",
      "2   32.732530   0.939152         1.0  \n",
      "3   25.698229   0.928514         1.0  \n",
      "4   15.044782   0.911226         1.0  \n",
      "5   15.017537   0.904550         1.0  \n",
      "6   15.832179   0.893819         1.0  \n",
      "7   15.196043   0.857996         1.0  \n",
      "8   16.342448   0.891021         1.0  \n",
      "9   15.006686   0.861920         1.0  \n",
      "10  15.000000   0.838881         1.0  \n",
      "11  19.788261   0.349077         1.0  \n",
      "12  17.188854   0.799191         1.0  \n",
      "13  15.945179   0.754077         1.0  \n",
      "14  16.107776   0.773903         1.0  \n",
      "15  15.000000   0.659921         1.0  \n",
      "\n",
      "[16 rows x 23 columns]\n",
      "/data2/lthapa/ML_daily/fire_polygons/creek_VIIRS_daily_12Z_day_start.geojson\n",
      "epsg:3347\n",
      "0:01:12.131706\n",
      "2020-09-04\n",
      "2020-09-05\n"
     ]
    },
    {
     "name": "stderr",
     "output_type": "stream",
     "text": [
      "/home/lthapa/anaconda3/envs/ML_py/lib/python3.7/site-packages/numpy/core/_methods.py:179: RuntimeWarning: invalid value encountered in reduce\n",
      "  ret = umr_sum(arr, axis, dtype, out, keepdims, where=where)\n"
     ]
    },
    {
     "name": "stdout",
     "output_type": "stream",
     "text": [
      "2020-09-06\n"
     ]
    },
    {
     "name": "stderr",
     "output_type": "stream",
     "text": [
      "/home/lthapa/anaconda3/envs/ML_py/lib/python3.7/site-packages/numpy/core/_methods.py:179: RuntimeWarning: invalid value encountered in reduce\n",
      "  ret = umr_sum(arr, axis, dtype, out, keepdims, where=where)\n",
      "/home/lthapa/anaconda3/envs/ML_py/lib/python3.7/site-packages/numpy/core/_methods.py:179: RuntimeWarning: invalid value encountered in reduce\n",
      "  ret = umr_sum(arr, axis, dtype, out, keepdims, where=where)\n",
      "/home/lthapa/anaconda3/envs/ML_py/lib/python3.7/site-packages/numpy/core/_methods.py:179: RuntimeWarning: invalid value encountered in reduce\n",
      "  ret = umr_sum(arr, axis, dtype, out, keepdims, where=where)\n"
     ]
    },
    {
     "name": "stdout",
     "output_type": "stream",
     "text": [
      "2020-09-07\n"
     ]
    },
    {
     "name": "stderr",
     "output_type": "stream",
     "text": [
      "/home/lthapa/anaconda3/envs/ML_py/lib/python3.7/site-packages/numpy/core/_methods.py:179: RuntimeWarning: invalid value encountered in reduce\n",
      "  ret = umr_sum(arr, axis, dtype, out, keepdims, where=where)\n",
      "/home/lthapa/anaconda3/envs/ML_py/lib/python3.7/site-packages/numpy/core/_methods.py:179: RuntimeWarning: invalid value encountered in reduce\n",
      "  ret = umr_sum(arr, axis, dtype, out, keepdims, where=where)\n"
     ]
    },
    {
     "name": "stdout",
     "output_type": "stream",
     "text": [
      "2020-09-08\n"
     ]
    },
    {
     "name": "stderr",
     "output_type": "stream",
     "text": [
      "/home/lthapa/anaconda3/envs/ML_py/lib/python3.7/site-packages/numpy/core/_methods.py:179: RuntimeWarning: invalid value encountered in reduce\n",
      "  ret = umr_sum(arr, axis, dtype, out, keepdims, where=where)\n"
     ]
    },
    {
     "name": "stdout",
     "output_type": "stream",
     "text": [
      "2020-09-09\n"
     ]
    },
    {
     "name": "stderr",
     "output_type": "stream",
     "text": [
      "/home/lthapa/anaconda3/envs/ML_py/lib/python3.7/site-packages/numpy/core/_methods.py:179: RuntimeWarning: invalid value encountered in reduce\n",
      "  ret = umr_sum(arr, axis, dtype, out, keepdims, where=where)\n"
     ]
    },
    {
     "name": "stdout",
     "output_type": "stream",
     "text": [
      "2020-09-10\n",
      "2020-09-11\n"
     ]
    },
    {
     "name": "stderr",
     "output_type": "stream",
     "text": [
      "/home/lthapa/anaconda3/envs/ML_py/lib/python3.7/site-packages/numpy/core/_methods.py:179: RuntimeWarning: invalid value encountered in reduce\n",
      "  ret = umr_sum(arr, axis, dtype, out, keepdims, where=where)\n",
      "/home/lthapa/anaconda3/envs/ML_py/lib/python3.7/site-packages/numpy/core/_methods.py:179: RuntimeWarning: invalid value encountered in reduce\n",
      "  ret = umr_sum(arr, axis, dtype, out, keepdims, where=where)\n"
     ]
    },
    {
     "name": "stdout",
     "output_type": "stream",
     "text": [
      "2020-09-12\n",
      "2020-09-13\n"
     ]
    },
    {
     "name": "stderr",
     "output_type": "stream",
     "text": [
      "/home/lthapa/anaconda3/envs/ML_py/lib/python3.7/site-packages/numpy/core/_methods.py:179: RuntimeWarning: invalid value encountered in reduce\n",
      "  ret = umr_sum(arr, axis, dtype, out, keepdims, where=where)\n",
      "/home/lthapa/anaconda3/envs/ML_py/lib/python3.7/site-packages/numpy/core/_methods.py:179: RuntimeWarning: invalid value encountered in reduce\n",
      "  ret = umr_sum(arr, axis, dtype, out, keepdims, where=where)\n"
     ]
    },
    {
     "name": "stdout",
     "output_type": "stream",
     "text": [
      "2020-09-14\n"
     ]
    },
    {
     "name": "stderr",
     "output_type": "stream",
     "text": [
      "/home/lthapa/anaconda3/envs/ML_py/lib/python3.7/site-packages/numpy/core/_methods.py:179: RuntimeWarning: invalid value encountered in reduce\n",
      "  ret = umr_sum(arr, axis, dtype, out, keepdims, where=where)\n",
      "/home/lthapa/anaconda3/envs/ML_py/lib/python3.7/site-packages/numpy/core/_methods.py:179: RuntimeWarning: invalid value encountered in reduce\n",
      "  ret = umr_sum(arr, axis, dtype, out, keepdims, where=where)\n",
      "/home/lthapa/anaconda3/envs/ML_py/lib/python3.7/site-packages/numpy/core/_methods.py:179: RuntimeWarning: invalid value encountered in reduce\n",
      "  ret = umr_sum(arr, axis, dtype, out, keepdims, where=where)\n"
     ]
    },
    {
     "name": "stdout",
     "output_type": "stream",
     "text": [
      "2020-09-15\n"
     ]
    },
    {
     "name": "stderr",
     "output_type": "stream",
     "text": [
      "/home/lthapa/anaconda3/envs/ML_py/lib/python3.7/site-packages/numpy/core/_methods.py:179: RuntimeWarning: invalid value encountered in reduce\n",
      "  ret = umr_sum(arr, axis, dtype, out, keepdims, where=where)\n"
     ]
    },
    {
     "name": "stdout",
     "output_type": "stream",
     "text": [
      "2020-09-16\n"
     ]
    },
    {
     "name": "stderr",
     "output_type": "stream",
     "text": [
      "/home/lthapa/anaconda3/envs/ML_py/lib/python3.7/site-packages/numpy/core/_methods.py:179: RuntimeWarning: invalid value encountered in reduce\n",
      "  ret = umr_sum(arr, axis, dtype, out, keepdims, where=where)\n"
     ]
    },
    {
     "name": "stdout",
     "output_type": "stream",
     "text": [
      "2020-09-17\n"
     ]
    },
    {
     "name": "stderr",
     "output_type": "stream",
     "text": [
      "/home/lthapa/anaconda3/envs/ML_py/lib/python3.7/site-packages/numpy/core/_methods.py:179: RuntimeWarning: invalid value encountered in reduce\n",
      "  ret = umr_sum(arr, axis, dtype, out, keepdims, where=where)\n"
     ]
    },
    {
     "name": "stdout",
     "output_type": "stream",
     "text": [
      "2020-09-18\n",
      "2020-09-19\n"
     ]
    },
    {
     "name": "stderr",
     "output_type": "stream",
     "text": [
      "/home/lthapa/anaconda3/envs/ML_py/lib/python3.7/site-packages/numpy/core/_methods.py:179: RuntimeWarning: invalid value encountered in reduce\n",
      "  ret = umr_sum(arr, axis, dtype, out, keepdims, where=where)\n",
      "/home/lthapa/anaconda3/envs/ML_py/lib/python3.7/site-packages/numpy/core/_methods.py:179: RuntimeWarning: invalid value encountered in reduce\n",
      "  ret = umr_sum(arr, axis, dtype, out, keepdims, where=where)\n",
      "/home/lthapa/anaconda3/envs/ML_py/lib/python3.7/site-packages/numpy/core/_methods.py:179: RuntimeWarning: invalid value encountered in reduce\n",
      "  ret = umr_sum(arr, axis, dtype, out, keepdims, where=where)\n"
     ]
    },
    {
     "name": "stdout",
     "output_type": "stream",
     "text": [
      "2020-09-20\n"
     ]
    },
    {
     "name": "stderr",
     "output_type": "stream",
     "text": [
      "/home/lthapa/anaconda3/envs/ML_py/lib/python3.7/site-packages/numpy/core/_methods.py:179: RuntimeWarning: invalid value encountered in reduce\n",
      "  ret = umr_sum(arr, axis, dtype, out, keepdims, where=where)\n"
     ]
    },
    {
     "name": "stdout",
     "output_type": "stream",
     "text": [
      "2020-09-21\n",
      "2020-09-22\n",
      "2020-09-23\n"
     ]
    },
    {
     "name": "stderr",
     "output_type": "stream",
     "text": [
      "/home/lthapa/anaconda3/envs/ML_py/lib/python3.7/site-packages/numpy/core/_methods.py:179: RuntimeWarning: invalid value encountered in reduce\n",
      "  ret = umr_sum(arr, axis, dtype, out, keepdims, where=where)\n"
     ]
    },
    {
     "name": "stdout",
     "output_type": "stream",
     "text": [
      "2020-09-24\n"
     ]
    },
    {
     "name": "stderr",
     "output_type": "stream",
     "text": [
      "/home/lthapa/anaconda3/envs/ML_py/lib/python3.7/site-packages/numpy/core/_methods.py:179: RuntimeWarning: invalid value encountered in reduce\n",
      "  ret = umr_sum(arr, axis, dtype, out, keepdims, where=where)\n",
      "/home/lthapa/anaconda3/envs/ML_py/lib/python3.7/site-packages/numpy/core/_methods.py:179: RuntimeWarning: invalid value encountered in reduce\n",
      "  ret = umr_sum(arr, axis, dtype, out, keepdims, where=where)\n"
     ]
    },
    {
     "name": "stdout",
     "output_type": "stream",
     "text": [
      "2020-09-25\n"
     ]
    },
    {
     "name": "stderr",
     "output_type": "stream",
     "text": [
      "/home/lthapa/anaconda3/envs/ML_py/lib/python3.7/site-packages/numpy/core/_methods.py:179: RuntimeWarning: invalid value encountered in reduce\n",
      "  ret = umr_sum(arr, axis, dtype, out, keepdims, where=where)\n",
      "/home/lthapa/anaconda3/envs/ML_py/lib/python3.7/site-packages/numpy/core/_methods.py:179: RuntimeWarning: invalid value encountered in reduce\n",
      "  ret = umr_sum(arr, axis, dtype, out, keepdims, where=where)\n",
      "/home/lthapa/anaconda3/envs/ML_py/lib/python3.7/site-packages/numpy/core/_methods.py:179: RuntimeWarning: invalid value encountered in reduce\n",
      "  ret = umr_sum(arr, axis, dtype, out, keepdims, where=where)\n",
      "/home/lthapa/anaconda3/envs/ML_py/lib/python3.7/site-packages/numpy/core/_methods.py:179: RuntimeWarning: invalid value encountered in reduce\n",
      "  ret = umr_sum(arr, axis, dtype, out, keepdims, where=where)\n"
     ]
    },
    {
     "name": "stdout",
     "output_type": "stream",
     "text": [
      "2020-09-26\n"
     ]
    },
    {
     "name": "stderr",
     "output_type": "stream",
     "text": [
      "/home/lthapa/anaconda3/envs/ML_py/lib/python3.7/site-packages/numpy/core/_methods.py:179: RuntimeWarning: invalid value encountered in reduce\n",
      "  ret = umr_sum(arr, axis, dtype, out, keepdims, where=where)\n"
     ]
    },
    {
     "name": "stdout",
     "output_type": "stream",
     "text": [
      "2020-09-27\n",
      "2020-09-28\n"
     ]
    },
    {
     "name": "stderr",
     "output_type": "stream",
     "text": [
      "/home/lthapa/anaconda3/envs/ML_py/lib/python3.7/site-packages/numpy/core/_methods.py:179: RuntimeWarning: invalid value encountered in reduce\n",
      "  ret = umr_sum(arr, axis, dtype, out, keepdims, where=where)\n",
      "/home/lthapa/anaconda3/envs/ML_py/lib/python3.7/site-packages/numpy/core/_methods.py:179: RuntimeWarning: invalid value encountered in reduce\n",
      "  ret = umr_sum(arr, axis, dtype, out, keepdims, where=where)\n",
      "/home/lthapa/anaconda3/envs/ML_py/lib/python3.7/site-packages/numpy/core/_methods.py:179: RuntimeWarning: invalid value encountered in reduce\n",
      "  ret = umr_sum(arr, axis, dtype, out, keepdims, where=where)\n"
     ]
    },
    {
     "name": "stdout",
     "output_type": "stream",
     "text": [
      "2020-09-29\n"
     ]
    },
    {
     "name": "stderr",
     "output_type": "stream",
     "text": [
      "/home/lthapa/anaconda3/envs/ML_py/lib/python3.7/site-packages/numpy/core/_methods.py:179: RuntimeWarning: invalid value encountered in reduce\n",
      "  ret = umr_sum(arr, axis, dtype, out, keepdims, where=where)\n"
     ]
    },
    {
     "name": "stdout",
     "output_type": "stream",
     "text": [
      "2020-09-30\n",
      "2020-10-01\n"
     ]
    },
    {
     "name": "stderr",
     "output_type": "stream",
     "text": [
      "/home/lthapa/anaconda3/envs/ML_py/lib/python3.7/site-packages/numpy/core/_methods.py:179: RuntimeWarning: invalid value encountered in reduce\n",
      "  ret = umr_sum(arr, axis, dtype, out, keepdims, where=where)\n"
     ]
    },
    {
     "name": "stdout",
     "output_type": "stream",
     "text": [
      "2020-10-02\n"
     ]
    },
    {
     "name": "stderr",
     "output_type": "stream",
     "text": [
      "/home/lthapa/anaconda3/envs/ML_py/lib/python3.7/site-packages/numpy/core/_methods.py:179: RuntimeWarning: invalid value encountered in reduce\n",
      "  ret = umr_sum(arr, axis, dtype, out, keepdims, where=where)\n"
     ]
    },
    {
     "name": "stdout",
     "output_type": "stream",
     "text": [
      "2020-10-03\n"
     ]
    },
    {
     "name": "stderr",
     "output_type": "stream",
     "text": [
      "/home/lthapa/anaconda3/envs/ML_py/lib/python3.7/site-packages/numpy/core/_methods.py:179: RuntimeWarning: invalid value encountered in reduce\n",
      "  ret = umr_sum(arr, axis, dtype, out, keepdims, where=where)\n"
     ]
    },
    {
     "name": "stdout",
     "output_type": "stream",
     "text": [
      "2020-10-04\n"
     ]
    },
    {
     "name": "stderr",
     "output_type": "stream",
     "text": [
      "/home/lthapa/anaconda3/envs/ML_py/lib/python3.7/site-packages/numpy/core/_methods.py:179: RuntimeWarning: invalid value encountered in reduce\n",
      "  ret = umr_sum(arr, axis, dtype, out, keepdims, where=where)\n",
      "/home/lthapa/anaconda3/envs/ML_py/lib/python3.7/site-packages/numpy/core/_methods.py:179: RuntimeWarning: invalid value encountered in reduce\n",
      "  ret = umr_sum(arr, axis, dtype, out, keepdims, where=where)\n",
      "/home/lthapa/anaconda3/envs/ML_py/lib/python3.7/site-packages/numpy/core/_methods.py:179: RuntimeWarning: invalid value encountered in reduce\n",
      "  ret = umr_sum(arr, axis, dtype, out, keepdims, where=where)\n",
      "/home/lthapa/anaconda3/envs/ML_py/lib/python3.7/site-packages/numpy/core/_methods.py:179: RuntimeWarning: invalid value encountered in reduce\n",
      "  ret = umr_sum(arr, axis, dtype, out, keepdims, where=where)\n"
     ]
    },
    {
     "name": "stdout",
     "output_type": "stream",
     "text": [
      "2020-10-05\n"
     ]
    },
    {
     "name": "stderr",
     "output_type": "stream",
     "text": [
      "/home/lthapa/anaconda3/envs/ML_py/lib/python3.7/site-packages/numpy/core/_methods.py:179: RuntimeWarning: invalid value encountered in reduce\n",
      "  ret = umr_sum(arr, axis, dtype, out, keepdims, where=where)\n",
      "/home/lthapa/anaconda3/envs/ML_py/lib/python3.7/site-packages/numpy/core/_methods.py:179: RuntimeWarning: invalid value encountered in reduce\n",
      "  ret = umr_sum(arr, axis, dtype, out, keepdims, where=where)\n",
      "/home/lthapa/anaconda3/envs/ML_py/lib/python3.7/site-packages/numpy/core/_methods.py:179: RuntimeWarning: invalid value encountered in reduce\n",
      "  ret = umr_sum(arr, axis, dtype, out, keepdims, where=where)\n",
      "/home/lthapa/anaconda3/envs/ML_py/lib/python3.7/site-packages/numpy/core/_methods.py:179: RuntimeWarning: invalid value encountered in reduce\n",
      "  ret = umr_sum(arr, axis, dtype, out, keepdims, where=where)\n"
     ]
    },
    {
     "name": "stdout",
     "output_type": "stream",
     "text": [
      "2020-10-06\n"
     ]
    },
    {
     "name": "stderr",
     "output_type": "stream",
     "text": [
      "/home/lthapa/anaconda3/envs/ML_py/lib/python3.7/site-packages/numpy/core/_methods.py:179: RuntimeWarning: invalid value encountered in reduce\n",
      "  ret = umr_sum(arr, axis, dtype, out, keepdims, where=where)\n"
     ]
    },
    {
     "name": "stdout",
     "output_type": "stream",
     "text": [
      "2020-10-07\n"
     ]
    },
    {
     "name": "stderr",
     "output_type": "stream",
     "text": [
      "/home/lthapa/anaconda3/envs/ML_py/lib/python3.7/site-packages/numpy/core/_methods.py:179: RuntimeWarning: invalid value encountered in reduce\n",
      "  ret = umr_sum(arr, axis, dtype, out, keepdims, where=where)\n",
      "/home/lthapa/anaconda3/envs/ML_py/lib/python3.7/site-packages/numpy/core/_methods.py:179: RuntimeWarning: invalid value encountered in reduce\n",
      "  ret = umr_sum(arr, axis, dtype, out, keepdims, where=where)\n",
      "/home/lthapa/anaconda3/envs/ML_py/lib/python3.7/site-packages/numpy/core/_methods.py:179: RuntimeWarning: invalid value encountered in reduce\n",
      "  ret = umr_sum(arr, axis, dtype, out, keepdims, where=where)\n",
      "/home/lthapa/anaconda3/envs/ML_py/lib/python3.7/site-packages/numpy/core/_methods.py:179: RuntimeWarning: invalid value encountered in reduce\n",
      "  ret = umr_sum(arr, axis, dtype, out, keepdims, where=where)\n",
      "/home/lthapa/anaconda3/envs/ML_py/lib/python3.7/site-packages/numpy/core/_methods.py:179: RuntimeWarning: invalid value encountered in reduce\n",
      "  ret = umr_sum(arr, axis, dtype, out, keepdims, where=where)\n"
     ]
    },
    {
     "name": "stdout",
     "output_type": "stream",
     "text": [
      "2020-10-08\n"
     ]
    },
    {
     "name": "stderr",
     "output_type": "stream",
     "text": [
      "/home/lthapa/anaconda3/envs/ML_py/lib/python3.7/site-packages/numpy/core/_methods.py:179: RuntimeWarning: invalid value encountered in reduce\n",
      "  ret = umr_sum(arr, axis, dtype, out, keepdims, where=where)\n",
      "/home/lthapa/anaconda3/envs/ML_py/lib/python3.7/site-packages/numpy/core/_methods.py:179: RuntimeWarning: invalid value encountered in reduce\n",
      "  ret = umr_sum(arr, axis, dtype, out, keepdims, where=where)\n",
      "/home/lthapa/anaconda3/envs/ML_py/lib/python3.7/site-packages/numpy/core/_methods.py:179: RuntimeWarning: invalid value encountered in reduce\n",
      "  ret = umr_sum(arr, axis, dtype, out, keepdims, where=where)\n"
     ]
    },
    {
     "name": "stdout",
     "output_type": "stream",
     "text": [
      "2020-10-09\n"
     ]
    },
    {
     "name": "stderr",
     "output_type": "stream",
     "text": [
      "/home/lthapa/anaconda3/envs/ML_py/lib/python3.7/site-packages/numpy/core/_methods.py:179: RuntimeWarning: invalid value encountered in reduce\n",
      "  ret = umr_sum(arr, axis, dtype, out, keepdims, where=where)\n",
      "/home/lthapa/anaconda3/envs/ML_py/lib/python3.7/site-packages/numpy/core/_methods.py:179: RuntimeWarning: invalid value encountered in reduce\n",
      "  ret = umr_sum(arr, axis, dtype, out, keepdims, where=where)\n",
      "/home/lthapa/anaconda3/envs/ML_py/lib/python3.7/site-packages/numpy/core/_methods.py:179: RuntimeWarning: invalid value encountered in reduce\n",
      "  ret = umr_sum(arr, axis, dtype, out, keepdims, where=where)\n",
      "/home/lthapa/anaconda3/envs/ML_py/lib/python3.7/site-packages/numpy/core/_methods.py:179: RuntimeWarning: invalid value encountered in reduce\n",
      "  ret = umr_sum(arr, axis, dtype, out, keepdims, where=where)\n",
      "/home/lthapa/anaconda3/envs/ML_py/lib/python3.7/site-packages/numpy/core/_methods.py:179: RuntimeWarning: invalid value encountered in reduce\n",
      "  ret = umr_sum(arr, axis, dtype, out, keepdims, where=where)\n",
      "/home/lthapa/anaconda3/envs/ML_py/lib/python3.7/site-packages/numpy/core/_methods.py:179: RuntimeWarning: invalid value encountered in reduce\n",
      "  ret = umr_sum(arr, axis, dtype, out, keepdims, where=where)\n"
     ]
    },
    {
     "name": "stdout",
     "output_type": "stream",
     "text": [
      "2020-10-10\n"
     ]
    },
    {
     "name": "stderr",
     "output_type": "stream",
     "text": [
      "/home/lthapa/anaconda3/envs/ML_py/lib/python3.7/site-packages/numpy/core/_methods.py:179: RuntimeWarning: invalid value encountered in reduce\n",
      "  ret = umr_sum(arr, axis, dtype, out, keepdims, where=where)\n",
      "/home/lthapa/anaconda3/envs/ML_py/lib/python3.7/site-packages/numpy/core/_methods.py:179: RuntimeWarning: invalid value encountered in reduce\n",
      "  ret = umr_sum(arr, axis, dtype, out, keepdims, where=where)\n"
     ]
    },
    {
     "name": "stdout",
     "output_type": "stream",
     "text": [
      "2020-10-11\n"
     ]
    },
    {
     "name": "stderr",
     "output_type": "stream",
     "text": [
      "/home/lthapa/anaconda3/envs/ML_py/lib/python3.7/site-packages/numpy/core/_methods.py:179: RuntimeWarning: invalid value encountered in reduce\n",
      "  ret = umr_sum(arr, axis, dtype, out, keepdims, where=where)\n",
      "/home/lthapa/anaconda3/envs/ML_py/lib/python3.7/site-packages/numpy/core/_methods.py:179: RuntimeWarning: invalid value encountered in reduce\n",
      "  ret = umr_sum(arr, axis, dtype, out, keepdims, where=where)\n"
     ]
    },
    {
     "name": "stdout",
     "output_type": "stream",
     "text": [
      "2020-10-12\n"
     ]
    },
    {
     "name": "stderr",
     "output_type": "stream",
     "text": [
      "/home/lthapa/anaconda3/envs/ML_py/lib/python3.7/site-packages/numpy/core/_methods.py:179: RuntimeWarning: invalid value encountered in reduce\n",
      "  ret = umr_sum(arr, axis, dtype, out, keepdims, where=where)\n",
      "/home/lthapa/anaconda3/envs/ML_py/lib/python3.7/site-packages/numpy/core/_methods.py:179: RuntimeWarning: invalid value encountered in reduce\n",
      "  ret = umr_sum(arr, axis, dtype, out, keepdims, where=where)\n",
      "/home/lthapa/anaconda3/envs/ML_py/lib/python3.7/site-packages/numpy/core/_methods.py:179: RuntimeWarning: invalid value encountered in reduce\n",
      "  ret = umr_sum(arr, axis, dtype, out, keepdims, where=where)\n"
     ]
    },
    {
     "name": "stdout",
     "output_type": "stream",
     "text": [
      "2020-10-13\n"
     ]
    },
    {
     "name": "stderr",
     "output_type": "stream",
     "text": [
      "/home/lthapa/anaconda3/envs/ML_py/lib/python3.7/site-packages/numpy/core/_methods.py:179: RuntimeWarning: invalid value encountered in reduce\n",
      "  ret = umr_sum(arr, axis, dtype, out, keepdims, where=where)\n",
      "/home/lthapa/anaconda3/envs/ML_py/lib/python3.7/site-packages/numpy/core/_methods.py:179: RuntimeWarning: invalid value encountered in reduce\n",
      "  ret = umr_sum(arr, axis, dtype, out, keepdims, where=where)\n",
      "/home/lthapa/anaconda3/envs/ML_py/lib/python3.7/site-packages/numpy/core/_methods.py:179: RuntimeWarning: invalid value encountered in reduce\n",
      "  ret = umr_sum(arr, axis, dtype, out, keepdims, where=where)\n"
     ]
    },
    {
     "name": "stdout",
     "output_type": "stream",
     "text": [
      "2020-10-14\n"
     ]
    },
    {
     "name": "stderr",
     "output_type": "stream",
     "text": [
      "/home/lthapa/anaconda3/envs/ML_py/lib/python3.7/site-packages/numpy/core/_methods.py:179: RuntimeWarning: invalid value encountered in reduce\n",
      "  ret = umr_sum(arr, axis, dtype, out, keepdims, where=where)\n"
     ]
    },
    {
     "name": "stdout",
     "output_type": "stream",
     "text": [
      "2020-10-15\n"
     ]
    },
    {
     "name": "stderr",
     "output_type": "stream",
     "text": [
      "/home/lthapa/anaconda3/envs/ML_py/lib/python3.7/site-packages/numpy/core/_methods.py:179: RuntimeWarning: invalid value encountered in reduce\n",
      "  ret = umr_sum(arr, axis, dtype, out, keepdims, where=where)\n"
     ]
    },
    {
     "name": "stdout",
     "output_type": "stream",
     "text": [
      "2020-10-16\n"
     ]
    },
    {
     "name": "stderr",
     "output_type": "stream",
     "text": [
      "/home/lthapa/anaconda3/envs/ML_py/lib/python3.7/site-packages/numpy/core/_methods.py:179: RuntimeWarning: invalid value encountered in reduce\n",
      "  ret = umr_sum(arr, axis, dtype, out, keepdims, where=where)\n",
      "/home/lthapa/anaconda3/envs/ML_py/lib/python3.7/site-packages/numpy/core/_methods.py:179: RuntimeWarning: invalid value encountered in reduce\n",
      "  ret = umr_sum(arr, axis, dtype, out, keepdims, where=where)\n"
     ]
    },
    {
     "name": "stdout",
     "output_type": "stream",
     "text": [
      "2020-10-17\n"
     ]
    },
    {
     "name": "stderr",
     "output_type": "stream",
     "text": [
      "/home/lthapa/anaconda3/envs/ML_py/lib/python3.7/site-packages/numpy/core/_methods.py:179: RuntimeWarning: invalid value encountered in reduce\n",
      "  ret = umr_sum(arr, axis, dtype, out, keepdims, where=where)\n",
      "/home/lthapa/anaconda3/envs/ML_py/lib/python3.7/site-packages/numpy/core/_methods.py:179: RuntimeWarning: invalid value encountered in reduce\n",
      "  ret = umr_sum(arr, axis, dtype, out, keepdims, where=where)\n",
      "/home/lthapa/anaconda3/envs/ML_py/lib/python3.7/site-packages/numpy/core/_methods.py:179: RuntimeWarning: invalid value encountered in reduce\n",
      "  ret = umr_sum(arr, axis, dtype, out, keepdims, where=where)\n",
      "/home/lthapa/anaconda3/envs/ML_py/lib/python3.7/site-packages/numpy/core/_methods.py:179: RuntimeWarning: invalid value encountered in reduce\n",
      "  ret = umr_sum(arr, axis, dtype, out, keepdims, where=where)\n"
     ]
    },
    {
     "name": "stdout",
     "output_type": "stream",
     "text": [
      "2020-10-18\n"
     ]
    },
    {
     "name": "stderr",
     "output_type": "stream",
     "text": [
      "/home/lthapa/anaconda3/envs/ML_py/lib/python3.7/site-packages/numpy/core/_methods.py:179: RuntimeWarning: invalid value encountered in reduce\n",
      "  ret = umr_sum(arr, axis, dtype, out, keepdims, where=where)\n"
     ]
    },
    {
     "name": "stdout",
     "output_type": "stream",
     "text": [
      "2020-10-19\n",
      "2020-10-20\n"
     ]
    },
    {
     "name": "stderr",
     "output_type": "stream",
     "text": [
      "/home/lthapa/anaconda3/envs/ML_py/lib/python3.7/site-packages/numpy/core/_methods.py:179: RuntimeWarning: invalid value encountered in reduce\n",
      "  ret = umr_sum(arr, axis, dtype, out, keepdims, where=where)\n",
      "/home/lthapa/anaconda3/envs/ML_py/lib/python3.7/site-packages/numpy/core/_methods.py:179: RuntimeWarning: invalid value encountered in reduce\n",
      "  ret = umr_sum(arr, axis, dtype, out, keepdims, where=where)\n"
     ]
    },
    {
     "name": "stdout",
     "output_type": "stream",
     "text": [
      "2020-10-21\n"
     ]
    },
    {
     "name": "stderr",
     "output_type": "stream",
     "text": [
      "/home/lthapa/anaconda3/envs/ML_py/lib/python3.7/site-packages/numpy/core/_methods.py:179: RuntimeWarning: invalid value encountered in reduce\n",
      "  ret = umr_sum(arr, axis, dtype, out, keepdims, where=where)\n"
     ]
    },
    {
     "name": "stdout",
     "output_type": "stream",
     "text": [
      "2020-10-22\n"
     ]
    },
    {
     "name": "stderr",
     "output_type": "stream",
     "text": [
      "/home/lthapa/anaconda3/envs/ML_py/lib/python3.7/site-packages/numpy/core/_methods.py:179: RuntimeWarning: invalid value encountered in reduce\n",
      "  ret = umr_sum(arr, axis, dtype, out, keepdims, where=where)\n"
     ]
    },
    {
     "name": "stdout",
     "output_type": "stream",
     "text": [
      "2020-10-23\n"
     ]
    },
    {
     "name": "stderr",
     "output_type": "stream",
     "text": [
      "/home/lthapa/anaconda3/envs/ML_py/lib/python3.7/site-packages/numpy/core/_methods.py:179: RuntimeWarning: invalid value encountered in reduce\n",
      "  ret = umr_sum(arr, axis, dtype, out, keepdims, where=where)\n",
      "/home/lthapa/anaconda3/envs/ML_py/lib/python3.7/site-packages/numpy/core/_methods.py:179: RuntimeWarning: invalid value encountered in reduce\n",
      "  ret = umr_sum(arr, axis, dtype, out, keepdims, where=where)\n",
      "/home/lthapa/anaconda3/envs/ML_py/lib/python3.7/site-packages/numpy/core/_methods.py:179: RuntimeWarning: invalid value encountered in reduce\n",
      "  ret = umr_sum(arr, axis, dtype, out, keepdims, where=where)\n"
     ]
    },
    {
     "name": "stdout",
     "output_type": "stream",
     "text": [
      "2020-10-24\n"
     ]
    },
    {
     "name": "stderr",
     "output_type": "stream",
     "text": [
      "/home/lthapa/anaconda3/envs/ML_py/lib/python3.7/site-packages/numpy/core/_methods.py:179: RuntimeWarning: invalid value encountered in reduce\n",
      "  ret = umr_sum(arr, axis, dtype, out, keepdims, where=where)\n",
      "/home/lthapa/anaconda3/envs/ML_py/lib/python3.7/site-packages/numpy/core/_methods.py:179: RuntimeWarning: invalid value encountered in reduce\n",
      "  ret = umr_sum(arr, axis, dtype, out, keepdims, where=where)\n",
      "/home/lthapa/anaconda3/envs/ML_py/lib/python3.7/site-packages/numpy/core/_methods.py:179: RuntimeWarning: invalid value encountered in reduce\n",
      "  ret = umr_sum(arr, axis, dtype, out, keepdims, where=where)\n",
      "/home/lthapa/anaconda3/envs/ML_py/lib/python3.7/site-packages/numpy/core/_methods.py:179: RuntimeWarning: invalid value encountered in reduce\n",
      "  ret = umr_sum(arr, axis, dtype, out, keepdims, where=where)\n"
     ]
    },
    {
     "name": "stdout",
     "output_type": "stream",
     "text": [
      "2020-10-25\n",
      "2020-10-26\n"
     ]
    },
    {
     "name": "stderr",
     "output_type": "stream",
     "text": [
      "/home/lthapa/anaconda3/envs/ML_py/lib/python3.7/site-packages/numpy/core/_methods.py:179: RuntimeWarning: invalid value encountered in reduce\n",
      "  ret = umr_sum(arr, axis, dtype, out, keepdims, where=where)\n"
     ]
    },
    {
     "name": "stdout",
     "output_type": "stream",
     "text": [
      "2020-10-27\n"
     ]
    },
    {
     "name": "stderr",
     "output_type": "stream",
     "text": [
      "/home/lthapa/anaconda3/envs/ML_py/lib/python3.7/site-packages/numpy/core/_methods.py:179: RuntimeWarning: invalid value encountered in reduce\n",
      "  ret = umr_sum(arr, axis, dtype, out, keepdims, where=where)\n"
     ]
    },
    {
     "name": "stdout",
     "output_type": "stream",
     "text": [
      "2020-10-28\n"
     ]
    },
    {
     "name": "stderr",
     "output_type": "stream",
     "text": [
      "/home/lthapa/anaconda3/envs/ML_py/lib/python3.7/site-packages/numpy/core/_methods.py:179: RuntimeWarning: invalid value encountered in reduce\n",
      "  ret = umr_sum(arr, axis, dtype, out, keepdims, where=where)\n"
     ]
    },
    {
     "name": "stdout",
     "output_type": "stream",
     "text": [
      "2020-10-29\n"
     ]
    },
    {
     "name": "stderr",
     "output_type": "stream",
     "text": [
      "/home/lthapa/anaconda3/envs/ML_py/lib/python3.7/site-packages/numpy/core/_methods.py:179: RuntimeWarning: invalid value encountered in reduce\n",
      "  ret = umr_sum(arr, axis, dtype, out, keepdims, where=where)\n",
      "/home/lthapa/anaconda3/envs/ML_py/lib/python3.7/site-packages/numpy/core/_methods.py:179: RuntimeWarning: invalid value encountered in reduce\n",
      "  ret = umr_sum(arr, axis, dtype, out, keepdims, where=where)\n",
      "/home/lthapa/anaconda3/envs/ML_py/lib/python3.7/site-packages/numpy/core/_methods.py:179: RuntimeWarning: invalid value encountered in reduce\n",
      "  ret = umr_sum(arr, axis, dtype, out, keepdims, where=where)\n"
     ]
    },
    {
     "name": "stdout",
     "output_type": "stream",
     "text": [
      "2020-10-30\n"
     ]
    },
    {
     "name": "stderr",
     "output_type": "stream",
     "text": [
      "/home/lthapa/anaconda3/envs/ML_py/lib/python3.7/site-packages/numpy/core/_methods.py:179: RuntimeWarning: invalid value encountered in reduce\n",
      "  ret = umr_sum(arr, axis, dtype, out, keepdims, where=where)\n",
      "/home/lthapa/anaconda3/envs/ML_py/lib/python3.7/site-packages/numpy/core/_methods.py:179: RuntimeWarning: invalid value encountered in reduce\n",
      "  ret = umr_sum(arr, axis, dtype, out, keepdims, where=where)\n"
     ]
    },
    {
     "name": "stdout",
     "output_type": "stream",
     "text": [
      "                    day       hd0w0       hd1w0       hd2w0       hd3w0  \\\n",
      "0   2020-09-04 12:00:00  107.602503   87.340567   79.746875   79.272288   \n",
      "1   2020-09-05 12:00:00  190.105626  159.551843  137.959781  126.497904   \n",
      "2   2020-09-06 12:00:00  194.252009  168.601347  143.534584  124.213490   \n",
      "3   2020-09-07 12:00:00  171.504057  174.468011  163.715614  137.742100   \n",
      "4   2020-09-08 12:00:00  180.146505  188.181573  207.454529  198.100862   \n",
      "5   2020-09-09 12:00:00  112.913154  131.200199  153.289776  168.380549   \n",
      "6   2020-09-10 12:00:00   85.565478   82.892905  113.832042  133.155994   \n",
      "7   2020-09-11 12:00:00   93.802851   73.779613   82.330021  114.242508   \n",
      "8   2020-09-12 12:00:00  104.019661   82.196035   74.094368   82.547305   \n",
      "9   2020-09-13 12:00:00  104.683214   87.465672   77.548501   69.451219   \n",
      "10  2020-09-14 12:00:00  116.406883  104.352303   98.137969   86.981934   \n",
      "11  2020-09-15 12:00:00  100.816354   93.079967   95.199372   89.606336   \n",
      "12  2020-09-16 12:00:00   75.354557   67.600868   69.712365   71.705956   \n",
      "13  2020-09-17 12:00:00   72.627892   65.323620   66.659687   68.406326   \n",
      "14  2020-09-18 12:00:00   70.912763   75.669400   71.553610   73.199640   \n",
      "15  2020-09-19 12:00:00   57.830072   55.301946   66.984856   63.217268   \n",
      "16  2020-09-20 12:00:00   61.521188   50.334271   51.045213   61.710458   \n",
      "17  2020-09-21 12:00:00   68.931239   61.637506   56.588670   57.220266   \n",
      "18  2020-09-22 12:00:00   66.810572   61.627104   59.746360   55.376564   \n",
      "19  2020-09-23 12:00:00   62.683579   53.726916   56.084618   55.128723   \n",
      "20  2020-09-24 12:00:00   56.396135   52.364203   50.754598   53.595837   \n",
      "21  2020-09-25 12:00:00   51.661246   45.125544   47.297518   45.486335   \n",
      "22  2020-09-26 12:00:00   56.755594   48.143095   45.215206   46.946591   \n",
      "23  2020-09-27 12:00:00  115.994841   92.971461   82.318688   78.496987   \n",
      "24  2020-09-28 12:00:00  101.651592   93.106452   83.327349   74.023751   \n",
      "25  2020-09-29 12:00:00   60.394753   60.476803   63.401313   57.669700   \n",
      "26  2020-09-30 12:00:00   69.166269   57.189750   62.959298   66.338389   \n",
      "27  2020-10-01 12:00:00   80.378911   69.871896   63.348387   69.308604   \n",
      "28  2020-10-02 12:00:00   61.525816   57.553415   57.889300   52.691004   \n",
      "29  2020-10-03 12:00:00   61.689901   55.180637   57.039475   58.142446   \n",
      "30  2020-10-04 12:00:00   62.892407   59.002211   61.191006   62.936289   \n",
      "31  2020-10-05 12:00:00   58.817202   52.141702   57.797440   59.712833   \n",
      "32  2020-10-06 12:00:00   71.355013   59.447914   59.879040   66.218003   \n",
      "33  2020-10-07 12:00:00   69.743760   65.259322   62.879951   63.437779   \n",
      "34  2020-10-08 12:00:00   71.552148   66.952707   74.224502   71.745427   \n",
      "35  2020-10-09 12:00:00   68.262234   62.181558   69.671259   77.114393   \n",
      "36  2020-10-10 12:00:00   77.379890   70.415990   75.996842   86.083310   \n",
      "37  2020-10-11 12:00:00   90.299155   66.253297   70.516541   76.238448   \n",
      "38  2020-10-12 12:00:00   96.714845   72.058821   62.165709   65.754706   \n",
      "39  2020-10-13 12:00:00   89.280798   72.105973   66.835917   56.915144   \n",
      "40  2020-10-14 12:00:00  109.913735   80.448595   76.464779   71.363444   \n",
      "41  2020-10-15 12:00:00  100.390785   83.208747   69.999040   66.738439   \n",
      "42  2020-10-16 12:00:00   89.233224   84.424463   80.947439   68.283614   \n",
      "43  2020-10-17 12:00:00   80.066326   72.478000   81.234533   78.191866   \n",
      "44  2020-10-18 12:00:00   69.329035   63.025119   66.422804   73.891324   \n",
      "45  2020-10-19 12:00:00   73.346595   63.308986   68.132070   72.164024   \n",
      "46  2020-10-20 12:00:00   79.052487   66.693067   67.902131   73.108637   \n",
      "47  2020-10-21 12:00:00   60.464522   53.594481   54.157521   55.467689   \n",
      "48  2020-10-22 12:00:00   55.798680   51.084458   54.013289   54.600120   \n",
      "49  2020-10-23 12:00:00   49.198148   46.905620   48.881748   51.887145   \n",
      "50  2020-10-24 12:00:00   42.923195   38.934782   43.614259   45.463296   \n",
      "51  2020-10-25 12:00:00   47.567676   50.944817   54.627901   62.215374   \n",
      "52  2020-10-26 12:00:00   93.220944   93.559046  118.649429  128.055511   \n",
      "53  2020-10-27 12:00:00  105.621203   61.908911   64.266460   84.905474   \n",
      "54  2020-10-28 12:00:00   91.312930   71.963635   44.363697   46.700203   \n",
      "55  2020-10-29 12:00:00   65.110910   58.893428   55.148889   34.624577   \n",
      "56  2020-10-30 12:00:00   51.269694   46.755437   51.777341   48.817280   \n",
      "\n",
      "         hd4w0       hd5w0     temp_2m      q_2m  wind_speed  ...      soilm  \\\n",
      "0    78.350738   77.003334  298.588399  0.006589    3.213346  ...   4.543737   \n",
      "1   124.827634  125.608298  302.413051  0.005361    4.474265  ...   3.223168   \n",
      "2   115.961078  115.038363  304.737468  0.005662    3.983605  ...   2.455090   \n",
      "3   120.955531  113.251646  303.150292  0.005006    3.902614  ...   4.545932   \n",
      "4   173.611234  151.177681  299.030660  0.003415    5.152635  ...   4.196876   \n",
      "5   163.936486  150.668375  294.072125  0.002855    4.329866  ...   6.127942   \n",
      "6   146.588345  142.223274  291.647527  0.002898    3.766522  ...   7.218386   \n",
      "7   132.618546  145.627876  290.903001  0.004248    4.326395  ...   8.823388   \n",
      "8   113.112292  132.494966  292.823196  0.003274    4.305940  ...   8.590553   \n",
      "9    78.550897  105.259863  293.949654  0.002647    4.061392  ...   7.553685   \n",
      "10   78.140389   88.644036  294.011310  0.003353    4.506869  ...   7.109683   \n",
      "11   79.148037   71.278724  292.612201  0.006063    4.240954  ...   8.804225   \n",
      "12   68.230936   60.920159  291.539414  0.004254    3.381113  ...   8.495770   \n",
      "13   70.428161   67.412488  290.450244  0.003075    3.480085  ...   8.354414   \n",
      "14   75.234471   77.230447  289.204667  0.007376    3.860944  ...  30.115601   \n",
      "15   64.617673   66.568081  287.226344  0.007015    3.444597  ...  11.756915   \n",
      "16   58.463049   59.595318  289.269997  0.005215    3.093090  ...   7.858812   \n",
      "17   69.196403   65.517250  289.435845  0.003312    3.575384  ...   6.691530   \n",
      "18   56.784660   67.753437  289.309476  0.004034    3.415010  ...   5.136467   \n",
      "19   50.851698   50.742493  288.987347  0.003071    3.285500  ...   4.272841   \n",
      "20   52.458606   48.289302  287.853818  0.004083    3.193502  ...   4.363796   \n",
      "21   48.145427   47.621901  287.629675  0.005344    2.946593  ...   4.740428   \n",
      "22   44.531848   46.796316  288.444474  0.004544    3.048344  ...   4.701050   \n",
      "23   81.757074   78.624244  292.621282  0.004879    4.515937  ...   6.178052   \n",
      "24   70.415958   72.934083  292.504679  0.003565    4.125820  ...   4.625541   \n",
      "25   51.836114   48.956385  288.802760  0.004570    3.242170  ...   5.750322   \n",
      "26   60.454473   54.674600  290.427333  0.003466    3.303016  ...   6.017452   \n",
      "27   72.778566   66.325710  291.637690  0.002640    3.606198  ...   3.101516   \n",
      "28   57.397338   59.959872  289.784268  0.002659    3.043137  ...   3.161190   \n",
      "29   52.458388   57.349480  289.438775  0.002265    3.164568  ...   3.984590   \n",
      "30   63.589949   57.631026  287.887638  0.001918    3.606394  ...   3.297659   \n",
      "31   61.689602   61.268512  287.827237  0.001796    3.009911  ...   3.005515   \n",
      "32   68.080153   70.449974  289.772996  0.002224    3.396388  ...   3.945571   \n",
      "33   69.928519   71.889195  288.172063  0.002735    3.730140  ...   4.758434   \n",
      "34   72.017354   80.467415  288.081615  0.003612    3.633315  ...   6.413102   \n",
      "35   74.962860   75.198640  286.936531  0.004146    3.839189  ...   7.394227   \n",
      "36   95.561736   92.932530  287.287385  0.004415    4.322021  ...   8.663519   \n",
      "37   86.364941   95.461411  289.353846  0.004817    4.405733  ...   8.818197   \n",
      "38   71.183285   80.965161  290.631504  0.003355    4.289500  ...   8.445134   \n",
      "39   60.653312   65.887320  289.920320  0.002540    4.179817  ...   5.817821   \n",
      "40   59.381704   63.349529  293.444800  0.003410    4.196039  ...   6.825375   \n",
      "41   62.249467   52.190422  293.740690  0.003076    3.732184  ...   5.309308   \n",
      "42   65.016613   61.101702  291.549992  0.003165    3.865706  ...   5.291278   \n",
      "43   65.963288   62.958264  290.015488  0.002524    3.691218  ...   5.707090   \n",
      "44   72.010224   60.403591  289.366008  0.003374    3.446367  ...   3.604222   \n",
      "45   80.667635   78.148782  289.230016  0.002179    3.651190  ...   6.743137   \n",
      "46   77.084591   85.373387  289.331698  0.002886    3.994527  ...   6.632572   \n",
      "47   59.813072   62.639006  287.576295  0.002844    3.435814  ...   4.983727   \n",
      "48   55.761984   60.173455  286.622965  0.003240    3.366235  ...   5.720642   \n",
      "49   52.316072   53.188323  284.942668  0.003371    3.406181  ...   5.697479   \n",
      "50   48.006968   48.561041  283.723845  0.003188    3.142227  ...   3.612770   \n",
      "51   65.235941   69.543868  280.811201  0.004330    4.288304  ...   4.920358   \n",
      "52  146.310667  154.956220  278.536128  0.000530    9.820623  ...   4.534832   \n",
      "53   90.798827  104.295149  284.018130  0.002677    8.033450  ...   4.206930   \n",
      "54   61.334284   65.234342  286.225350  0.001175    5.630587  ...   3.693242   \n",
      "55   36.423245   47.718795  285.577277  0.001177    4.071923  ...   3.328091   \n",
      "56   30.588622   32.051227  283.202667  0.001504    3.629704  ...   4.056554   \n",
      "\n",
      "      esat_2m      e_2m     vpd_2m         hwp  veg_term  gust_max_term  \\\n",
      "0   33.318393  0.012368  33.306025   18.187916       1.0       5.269941   \n",
      "1   42.418850  0.010169  42.408681   36.211689       1.0       7.277710   \n",
      "2   47.988833  0.010825  47.978008   29.824836       1.0       5.453304   \n",
      "3   44.165077  0.009526  44.155551   27.443164       1.0       5.843448   \n",
      "4   34.604829  0.006394  34.598435   38.576475       1.0       7.171592   \n",
      "5   25.976537  0.005257  25.971280   22.200491       1.0       5.489136   \n",
      "6   22.746296  0.005275  22.741021   17.137002       1.0       4.828656   \n",
      "7   21.591917  0.007777  21.584140   14.274665       1.0       5.358371   \n",
      "8   24.183574  0.006025  24.177549   17.421205       1.0       5.382255   \n",
      "9   25.950098  0.004879  25.945218   22.290610       1.0       5.641812   \n",
      "10  25.998370  0.006177  25.992193   21.772676       1.0       6.034893   \n",
      "11  23.730336  0.011134  23.719201   12.344476       1.0       5.464542   \n",
      "12  22.165834  0.007776  22.158057   12.613134       1.0       4.809029   \n",
      "13  20.695540  0.005588  20.689952   14.124817       1.0       4.824224   \n",
      "14  18.488871  0.013366  18.475506    6.760259       1.0       6.423247   \n",
      "15  16.713844  0.012675  16.701169    7.022649       1.0       4.460757   \n",
      "16  19.189696  0.009480  19.180216    9.382075       1.0       4.233925   \n",
      "17  19.475150  0.006006  19.469145   17.958512       1.0       5.594194   \n",
      "18  19.619953  0.007323  19.612630   13.797211       1.0       4.568193   \n",
      "19  19.066722  0.005571  19.061150   16.445707       1.0       4.356999   \n",
      "20  17.528490  0.007389  17.521100   12.537890       1.0       4.070191   \n",
      "21  17.344583  0.009683  17.334899    9.814359       1.0       3.700355   \n",
      "22  18.194570  0.008231  18.186338   11.673292       1.0       4.001688   \n",
      "23  23.977168  0.008931  23.968238   19.560228       1.0       6.208628   \n",
      "24  23.572620  0.006526  23.566093   22.620148       1.0       5.596814   \n",
      "25  18.489679  0.008257  18.481422   11.075680       1.0       4.227105   \n",
      "26  20.655729  0.006293  20.649435   14.468611       1.0       4.470337   \n",
      "27  22.184713  0.004813  22.179901   22.363977       1.0       4.726486   \n",
      "28  20.085734  0.004823  20.080910   17.557263       1.0       4.045693   \n",
      "29  19.449852  0.004104  19.445748   18.547363       1.0       4.124825   \n",
      "30  17.702541  0.003448  17.699093   25.272616       1.0       5.070160   \n",
      "31  18.616612  0.003229  18.613383   20.022580       1.0       4.060508   \n",
      "32  20.517754  0.004027  20.513727   20.461961       1.0       4.475085   \n",
      "33  18.389988  0.004929  18.385059   18.194866       1.0       4.953592   \n",
      "34  18.341157  0.006521  18.334636   13.155608       1.0       4.914203   \n",
      "35  17.063916  0.007476  17.056440   12.156507       1.0       5.159642   \n",
      "36  17.432460  0.007957  17.424502   11.194525       1.0       5.486590   \n",
      "37  20.219015  0.008758  20.210256   13.541409       1.0       5.805803   \n",
      "38  22.197323  0.006115  22.191208   16.401870       1.0       5.456266   \n",
      "39  21.084778  0.004629  21.080148   19.498415       1.0       5.076221   \n",
      "40  25.749741  0.006279  25.743462   20.112947       1.0       5.713731   \n",
      "41  26.057956  0.005641  26.052315   21.575609       1.0       5.376871   \n",
      "42  22.375380  0.005765  22.369615   18.660448       1.0       5.089838   \n",
      "43  20.959215  0.004574  20.954641   20.332020       1.0       5.125879   \n",
      "44  19.922957  0.006109  19.916848   17.762740       1.0       4.731460   \n",
      "45  20.036821  0.003955  20.032866   18.788603       1.0       4.938997   \n",
      "46  19.771051  0.005224  19.765827   17.156934       1.0       5.132573   \n",
      "47  17.554707  0.005109  17.549598   15.897337       1.0       4.475512   \n",
      "48  16.541540  0.005825  16.535715   12.326555       1.0       4.207949   \n",
      "49  14.438869  0.006007  14.432862   11.660900       1.0       4.260416   \n",
      "50  13.587688  0.005662  13.582026   13.397409       1.0       4.198338   \n",
      "51  10.953498  0.007595  10.945903   16.416602       1.0       6.012058   \n",
      "52   9.636012  0.000922   9.635090  117.130147       1.0      19.653325   \n",
      "53  13.628773  0.004747  13.624026   59.101059       1.0      15.656753   \n",
      "54  16.123207  0.002094  16.121114   56.248240       1.0       9.561547   \n",
      "55  15.594529  0.002099  15.592430   27.710214       1.0       5.178577   \n",
      "56  13.582347  0.002658  13.579689   20.437483       1.0       4.748422   \n",
      "\n",
      "      dd_term  mois_term  snowc_term  \n",
      "0   21.045652   0.954563         1.0  \n",
      "1   26.912877   0.967768         1.0  \n",
      "2   28.314317   0.975449         1.0  \n",
      "3   28.788470   0.954541         1.0  \n",
      "4   30.918856   0.958031         1.0  \n",
      "5   27.524475   0.938721         1.0  \n",
      "6   24.440858   0.927816         1.0  \n",
      "7   21.346945   0.911766         1.0  \n",
      "8   25.659996   0.914094         1.0  \n",
      "9   29.119783   0.924463         1.0  \n",
      "10  25.719018   0.928903         1.0  \n",
      "11  18.154885   0.911958         1.0  \n",
      "12  21.007566   0.915042         1.0  \n",
      "13  23.626387   0.916456         1.0  \n",
      "14  15.056089   0.698844         1.0  \n",
      "15  15.061957   0.882431         1.0  \n",
      "16  17.287381   0.921412         1.0  \n",
      "17  21.837115   0.933085         1.0  \n",
      "18  19.138317   0.948635         1.0  \n",
      "19  22.868703   0.957272         1.0  \n",
      "20  18.910128   0.956362         1.0  \n",
      "21  16.595542   0.952596         1.0  \n",
      "22  17.958312   0.952989         1.0  \n",
      "23  20.187637   0.938219         1.0  \n",
      "24  24.349114   0.953745         1.0  \n",
      "25  17.653904   0.942497         1.0  \n",
      "26  22.298792   0.939825         1.0  \n",
      "27  27.193703   0.968985         1.0  \n",
      "28  25.498394   0.968388         1.0  \n",
      "29  27.347047   0.960154         1.0  \n",
      "30  27.542255   0.967023         1.0  \n",
      "31  28.070236   0.969945         1.0  \n",
      "32  27.193246   0.960544         1.0  \n",
      "33  23.164888   0.952416         1.0  \n",
      "34  19.674377   0.935869         1.0  \n",
      "35  17.655980   0.926058         1.0  \n",
      "36  16.899869   0.913365         1.0  \n",
      "37  18.204655   0.911818         1.0  \n",
      "38  22.848962   0.915549         1.0  \n",
      "39  26.380726   0.941822         1.0  \n",
      "40  25.338357   0.931746         1.0  \n",
      "41  26.515502   0.946907         1.0  \n",
      "42  24.370560   0.947087         1.0  \n",
      "43  26.483057   0.942929         1.0  \n",
      "44  21.723273   0.963958         1.0  \n",
      "45  27.321472   0.932569         1.0  \n",
      "46  23.353239   0.933674         1.0  \n",
      "47  22.138507   0.950163         1.0  \n",
      "48  19.947750   0.942794         1.0  \n",
      "49  17.890934   0.943025         1.0  \n",
      "50  17.785724   0.963872         1.0  \n",
      "51  15.534677   0.950796         1.0  \n",
      "52  32.882291   0.954652         1.0  \n",
      "53  19.292119   0.957931         1.0  \n",
      "54  31.288277   0.963068         1.0  \n",
      "55  30.857182   0.966719         1.0  \n",
      "56  25.558515   0.959434         1.0  \n",
      "\n",
      "[57 rows x 23 columns]\n",
      "/data2/lthapa/ML_daily/fire_polygons/cameron_peak_VIIRS_daily_12Z_day_start.geojson\n"
     ]
    },
    {
     "name": "stdout",
     "output_type": "stream",
     "text": [
      "epsg:3347\n",
      "0:00:32.246579\n",
      "2020-08-12\n"
     ]
    },
    {
     "name": "stderr",
     "output_type": "stream",
     "text": [
      "/home/lthapa/anaconda3/envs/ML_py/lib/python3.7/site-packages/numpy/core/_methods.py:179: RuntimeWarning: invalid value encountered in reduce\n",
      "  ret = umr_sum(arr, axis, dtype, out, keepdims, where=where)\n",
      "/home/lthapa/anaconda3/envs/ML_py/lib/python3.7/site-packages/numpy/core/_methods.py:179: RuntimeWarning: invalid value encountered in reduce\n",
      "  ret = umr_sum(arr, axis, dtype, out, keepdims, where=where)\n"
     ]
    },
    {
     "name": "stdout",
     "output_type": "stream",
     "text": [
      "2020-08-13\n"
     ]
    },
    {
     "name": "stderr",
     "output_type": "stream",
     "text": [
      "/home/lthapa/anaconda3/envs/ML_py/lib/python3.7/site-packages/numpy/core/_methods.py:179: RuntimeWarning: invalid value encountered in reduce\n",
      "  ret = umr_sum(arr, axis, dtype, out, keepdims, where=where)\n"
     ]
    },
    {
     "name": "stdout",
     "output_type": "stream",
     "text": [
      "2020-08-14\n",
      "2020-08-15\n"
     ]
    },
    {
     "name": "stderr",
     "output_type": "stream",
     "text": [
      "/home/lthapa/anaconda3/envs/ML_py/lib/python3.7/site-packages/numpy/core/_methods.py:179: RuntimeWarning: invalid value encountered in reduce\n",
      "  ret = umr_sum(arr, axis, dtype, out, keepdims, where=where)\n"
     ]
    },
    {
     "name": "stdout",
     "output_type": "stream",
     "text": [
      "2020-08-16\n"
     ]
    },
    {
     "name": "stderr",
     "output_type": "stream",
     "text": [
      "/home/lthapa/anaconda3/envs/ML_py/lib/python3.7/site-packages/numpy/core/_methods.py:179: RuntimeWarning: invalid value encountered in reduce\n",
      "  ret = umr_sum(arr, axis, dtype, out, keepdims, where=where)\n",
      "/home/lthapa/anaconda3/envs/ML_py/lib/python3.7/site-packages/numpy/core/_methods.py:179: RuntimeWarning: invalid value encountered in reduce\n",
      "  ret = umr_sum(arr, axis, dtype, out, keepdims, where=where)\n"
     ]
    },
    {
     "name": "stdout",
     "output_type": "stream",
     "text": [
      "2020-08-17\n",
      "2020-08-18\n"
     ]
    },
    {
     "name": "stderr",
     "output_type": "stream",
     "text": [
      "/home/lthapa/anaconda3/envs/ML_py/lib/python3.7/site-packages/numpy/core/_methods.py:179: RuntimeWarning: invalid value encountered in reduce\n",
      "  ret = umr_sum(arr, axis, dtype, out, keepdims, where=where)\n",
      "/home/lthapa/anaconda3/envs/ML_py/lib/python3.7/site-packages/numpy/core/_methods.py:179: RuntimeWarning: invalid value encountered in reduce\n",
      "  ret = umr_sum(arr, axis, dtype, out, keepdims, where=where)\n"
     ]
    },
    {
     "name": "stdout",
     "output_type": "stream",
     "text": [
      "2020-08-19\n"
     ]
    },
    {
     "name": "stderr",
     "output_type": "stream",
     "text": [
      "/home/lthapa/anaconda3/envs/ML_py/lib/python3.7/site-packages/numpy/core/_methods.py:179: RuntimeWarning: invalid value encountered in reduce\n",
      "  ret = umr_sum(arr, axis, dtype, out, keepdims, where=where)\n"
     ]
    },
    {
     "name": "stdout",
     "output_type": "stream",
     "text": [
      "2020-08-20\n",
      "2020-08-21\n",
      "2020-08-22\n"
     ]
    },
    {
     "name": "stderr",
     "output_type": "stream",
     "text": [
      "/home/lthapa/anaconda3/envs/ML_py/lib/python3.7/site-packages/numpy/core/_methods.py:179: RuntimeWarning: invalid value encountered in reduce\n",
      "  ret = umr_sum(arr, axis, dtype, out, keepdims, where=where)\n"
     ]
    },
    {
     "name": "stdout",
     "output_type": "stream",
     "text": [
      "2020-08-23\n"
     ]
    },
    {
     "name": "stderr",
     "output_type": "stream",
     "text": [
      "/home/lthapa/anaconda3/envs/ML_py/lib/python3.7/site-packages/numpy/core/_methods.py:179: RuntimeWarning: invalid value encountered in reduce\n",
      "  ret = umr_sum(arr, axis, dtype, out, keepdims, where=where)\n",
      "/home/lthapa/anaconda3/envs/ML_py/lib/python3.7/site-packages/numpy/core/_methods.py:179: RuntimeWarning: invalid value encountered in reduce\n",
      "  ret = umr_sum(arr, axis, dtype, out, keepdims, where=where)\n"
     ]
    },
    {
     "name": "stdout",
     "output_type": "stream",
     "text": [
      "2020-08-24\n",
      "2020-08-25\n"
     ]
    },
    {
     "name": "stderr",
     "output_type": "stream",
     "text": [
      "/home/lthapa/anaconda3/envs/ML_py/lib/python3.7/site-packages/numpy/core/_methods.py:179: RuntimeWarning: invalid value encountered in reduce\n",
      "  ret = umr_sum(arr, axis, dtype, out, keepdims, where=where)\n",
      "/home/lthapa/anaconda3/envs/ML_py/lib/python3.7/site-packages/numpy/core/_methods.py:179: RuntimeWarning: invalid value encountered in reduce\n",
      "  ret = umr_sum(arr, axis, dtype, out, keepdims, where=where)\n"
     ]
    },
    {
     "name": "stdout",
     "output_type": "stream",
     "text": [
      "2020-08-26\n"
     ]
    },
    {
     "name": "stderr",
     "output_type": "stream",
     "text": [
      "/home/lthapa/anaconda3/envs/ML_py/lib/python3.7/site-packages/numpy/core/_methods.py:179: RuntimeWarning: invalid value encountered in reduce\n",
      "  ret = umr_sum(arr, axis, dtype, out, keepdims, where=where)\n"
     ]
    },
    {
     "name": "stdout",
     "output_type": "stream",
     "text": [
      "2020-08-27\n"
     ]
    },
    {
     "name": "stderr",
     "output_type": "stream",
     "text": [
      "/home/lthapa/anaconda3/envs/ML_py/lib/python3.7/site-packages/numpy/core/_methods.py:179: RuntimeWarning: invalid value encountered in reduce\n",
      "  ret = umr_sum(arr, axis, dtype, out, keepdims, where=where)\n",
      "/home/lthapa/anaconda3/envs/ML_py/lib/python3.7/site-packages/numpy/core/_methods.py:179: RuntimeWarning: invalid value encountered in reduce\n",
      "  ret = umr_sum(arr, axis, dtype, out, keepdims, where=where)\n"
     ]
    },
    {
     "name": "stdout",
     "output_type": "stream",
     "text": [
      "2020-09-02\n",
      "2020-09-03\n"
     ]
    },
    {
     "name": "stderr",
     "output_type": "stream",
     "text": [
      "/home/lthapa/anaconda3/envs/ML_py/lib/python3.7/site-packages/numpy/core/_methods.py:179: RuntimeWarning: invalid value encountered in reduce\n",
      "  ret = umr_sum(arr, axis, dtype, out, keepdims, where=where)\n",
      "/home/lthapa/anaconda3/envs/ML_py/lib/python3.7/site-packages/numpy/core/_methods.py:179: RuntimeWarning: invalid value encountered in reduce\n",
      "  ret = umr_sum(arr, axis, dtype, out, keepdims, where=where)\n",
      "/home/lthapa/anaconda3/envs/ML_py/lib/python3.7/site-packages/numpy/core/_methods.py:179: RuntimeWarning: invalid value encountered in reduce\n",
      "  ret = umr_sum(arr, axis, dtype, out, keepdims, where=where)\n"
     ]
    },
    {
     "name": "stdout",
     "output_type": "stream",
     "text": [
      "2020-09-04\n"
     ]
    },
    {
     "name": "stderr",
     "output_type": "stream",
     "text": [
      "/home/lthapa/anaconda3/envs/ML_py/lib/python3.7/site-packages/numpy/core/_methods.py:179: RuntimeWarning: invalid value encountered in reduce\n",
      "  ret = umr_sum(arr, axis, dtype, out, keepdims, where=where)\n"
     ]
    },
    {
     "name": "stdout",
     "output_type": "stream",
     "text": [
      "2020-09-05\n",
      "2020-09-06\n"
     ]
    },
    {
     "name": "stderr",
     "output_type": "stream",
     "text": [
      "/home/lthapa/anaconda3/envs/ML_py/lib/python3.7/site-packages/numpy/core/_methods.py:179: RuntimeWarning: invalid value encountered in reduce\n",
      "  ret = umr_sum(arr, axis, dtype, out, keepdims, where=where)\n",
      "/home/lthapa/anaconda3/envs/ML_py/lib/python3.7/site-packages/numpy/core/_methods.py:179: RuntimeWarning: invalid value encountered in reduce\n",
      "  ret = umr_sum(arr, axis, dtype, out, keepdims, where=where)\n",
      "/home/lthapa/anaconda3/envs/ML_py/lib/python3.7/site-packages/numpy/core/_methods.py:179: RuntimeWarning: invalid value encountered in reduce\n",
      "  ret = umr_sum(arr, axis, dtype, out, keepdims, where=where)\n",
      "/home/lthapa/anaconda3/envs/ML_py/lib/python3.7/site-packages/numpy/core/_methods.py:179: RuntimeWarning: invalid value encountered in reduce\n",
      "  ret = umr_sum(arr, axis, dtype, out, keepdims, where=where)\n"
     ]
    },
    {
     "name": "stdout",
     "output_type": "stream",
     "text": [
      "2020-09-07\n"
     ]
    },
    {
     "name": "stderr",
     "output_type": "stream",
     "text": [
      "/home/lthapa/anaconda3/envs/ML_py/lib/python3.7/site-packages/numpy/core/_methods.py:179: RuntimeWarning: invalid value encountered in reduce\n",
      "  ret = umr_sum(arr, axis, dtype, out, keepdims, where=where)\n"
     ]
    },
    {
     "name": "stdout",
     "output_type": "stream",
     "text": [
      "2020-09-13\n"
     ]
    },
    {
     "name": "stderr",
     "output_type": "stream",
     "text": [
      "/home/lthapa/anaconda3/envs/ML_py/lib/python3.7/site-packages/numpy/core/_methods.py:179: RuntimeWarning: invalid value encountered in reduce\n",
      "  ret = umr_sum(arr, axis, dtype, out, keepdims, where=where)\n"
     ]
    },
    {
     "name": "stdout",
     "output_type": "stream",
     "text": [
      "2020-09-14\n"
     ]
    },
    {
     "name": "stderr",
     "output_type": "stream",
     "text": [
      "/home/lthapa/anaconda3/envs/ML_py/lib/python3.7/site-packages/numpy/core/_methods.py:179: RuntimeWarning: invalid value encountered in reduce\n",
      "  ret = umr_sum(arr, axis, dtype, out, keepdims, where=where)\n"
     ]
    },
    {
     "name": "stdout",
     "output_type": "stream",
     "text": [
      "2020-09-15\n"
     ]
    },
    {
     "name": "stderr",
     "output_type": "stream",
     "text": [
      "/home/lthapa/anaconda3/envs/ML_py/lib/python3.7/site-packages/numpy/core/_methods.py:179: RuntimeWarning: invalid value encountered in reduce\n",
      "  ret = umr_sum(arr, axis, dtype, out, keepdims, where=where)\n",
      "/home/lthapa/anaconda3/envs/ML_py/lib/python3.7/site-packages/numpy/core/_methods.py:179: RuntimeWarning: invalid value encountered in reduce\n",
      "  ret = umr_sum(arr, axis, dtype, out, keepdims, where=where)\n"
     ]
    },
    {
     "name": "stdout",
     "output_type": "stream",
     "text": [
      "2020-09-16\n"
     ]
    },
    {
     "name": "stderr",
     "output_type": "stream",
     "text": [
      "/home/lthapa/anaconda3/envs/ML_py/lib/python3.7/site-packages/numpy/core/_methods.py:179: RuntimeWarning: invalid value encountered in reduce\n",
      "  ret = umr_sum(arr, axis, dtype, out, keepdims, where=where)\n"
     ]
    },
    {
     "name": "stdout",
     "output_type": "stream",
     "text": [
      "2020-09-17\n"
     ]
    },
    {
     "name": "stderr",
     "output_type": "stream",
     "text": [
      "/home/lthapa/anaconda3/envs/ML_py/lib/python3.7/site-packages/numpy/core/_methods.py:179: RuntimeWarning: invalid value encountered in reduce\n",
      "  ret = umr_sum(arr, axis, dtype, out, keepdims, where=where)\n"
     ]
    },
    {
     "name": "stdout",
     "output_type": "stream",
     "text": [
      "2020-09-18\n"
     ]
    },
    {
     "name": "stderr",
     "output_type": "stream",
     "text": [
      "/home/lthapa/anaconda3/envs/ML_py/lib/python3.7/site-packages/numpy/core/_methods.py:179: RuntimeWarning: invalid value encountered in reduce\n",
      "  ret = umr_sum(arr, axis, dtype, out, keepdims, where=where)\n",
      "/home/lthapa/anaconda3/envs/ML_py/lib/python3.7/site-packages/numpy/core/_methods.py:179: RuntimeWarning: invalid value encountered in reduce\n",
      "  ret = umr_sum(arr, axis, dtype, out, keepdims, where=where)\n"
     ]
    },
    {
     "name": "stdout",
     "output_type": "stream",
     "text": [
      "2020-09-19\n"
     ]
    },
    {
     "name": "stderr",
     "output_type": "stream",
     "text": [
      "/home/lthapa/anaconda3/envs/ML_py/lib/python3.7/site-packages/numpy/core/_methods.py:179: RuntimeWarning: invalid value encountered in reduce\n",
      "  ret = umr_sum(arr, axis, dtype, out, keepdims, where=where)\n",
      "/home/lthapa/anaconda3/envs/ML_py/lib/python3.7/site-packages/numpy/core/_methods.py:179: RuntimeWarning: invalid value encountered in reduce\n",
      "  ret = umr_sum(arr, axis, dtype, out, keepdims, where=where)\n"
     ]
    },
    {
     "name": "stdout",
     "output_type": "stream",
     "text": [
      "2020-09-20\n",
      "2020-09-21\n"
     ]
    },
    {
     "name": "stderr",
     "output_type": "stream",
     "text": [
      "/home/lthapa/anaconda3/envs/ML_py/lib/python3.7/site-packages/numpy/core/_methods.py:179: RuntimeWarning: invalid value encountered in reduce\n",
      "  ret = umr_sum(arr, axis, dtype, out, keepdims, where=where)\n"
     ]
    },
    {
     "name": "stdout",
     "output_type": "stream",
     "text": [
      "2020-09-22\n"
     ]
    },
    {
     "name": "stderr",
     "output_type": "stream",
     "text": [
      "/home/lthapa/anaconda3/envs/ML_py/lib/python3.7/site-packages/numpy/core/_methods.py:179: RuntimeWarning: invalid value encountered in reduce\n",
      "  ret = umr_sum(arr, axis, dtype, out, keepdims, where=where)\n"
     ]
    },
    {
     "name": "stdout",
     "output_type": "stream",
     "text": [
      "2020-09-23\n"
     ]
    },
    {
     "name": "stderr",
     "output_type": "stream",
     "text": [
      "/home/lthapa/anaconda3/envs/ML_py/lib/python3.7/site-packages/numpy/core/_methods.py:179: RuntimeWarning: invalid value encountered in reduce\n",
      "  ret = umr_sum(arr, axis, dtype, out, keepdims, where=where)\n",
      "/home/lthapa/anaconda3/envs/ML_py/lib/python3.7/site-packages/numpy/core/_methods.py:179: RuntimeWarning: invalid value encountered in reduce\n",
      "  ret = umr_sum(arr, axis, dtype, out, keepdims, where=where)\n",
      "/home/lthapa/anaconda3/envs/ML_py/lib/python3.7/site-packages/numpy/core/_methods.py:179: RuntimeWarning: invalid value encountered in reduce\n",
      "  ret = umr_sum(arr, axis, dtype, out, keepdims, where=where)\n",
      "/home/lthapa/anaconda3/envs/ML_py/lib/python3.7/site-packages/numpy/core/_methods.py:179: RuntimeWarning: invalid value encountered in reduce\n",
      "  ret = umr_sum(arr, axis, dtype, out, keepdims, where=where)\n"
     ]
    },
    {
     "name": "stdout",
     "output_type": "stream",
     "text": [
      "2020-09-24\n"
     ]
    },
    {
     "name": "stderr",
     "output_type": "stream",
     "text": [
      "/home/lthapa/anaconda3/envs/ML_py/lib/python3.7/site-packages/numpy/core/_methods.py:179: RuntimeWarning: invalid value encountered in reduce\n",
      "  ret = umr_sum(arr, axis, dtype, out, keepdims, where=where)\n"
     ]
    },
    {
     "name": "stdout",
     "output_type": "stream",
     "text": [
      "2020-09-25\n"
     ]
    },
    {
     "name": "stderr",
     "output_type": "stream",
     "text": [
      "/home/lthapa/anaconda3/envs/ML_py/lib/python3.7/site-packages/numpy/core/_methods.py:179: RuntimeWarning: invalid value encountered in reduce\n",
      "  ret = umr_sum(arr, axis, dtype, out, keepdims, where=where)\n",
      "/home/lthapa/anaconda3/envs/ML_py/lib/python3.7/site-packages/numpy/core/_methods.py:179: RuntimeWarning: invalid value encountered in reduce\n",
      "  ret = umr_sum(arr, axis, dtype, out, keepdims, where=where)\n"
     ]
    },
    {
     "name": "stdout",
     "output_type": "stream",
     "text": [
      "2020-09-26\n"
     ]
    },
    {
     "name": "stderr",
     "output_type": "stream",
     "text": [
      "/home/lthapa/anaconda3/envs/ML_py/lib/python3.7/site-packages/numpy/core/_methods.py:179: RuntimeWarning: invalid value encountered in reduce\n",
      "  ret = umr_sum(arr, axis, dtype, out, keepdims, where=where)\n"
     ]
    },
    {
     "name": "stdout",
     "output_type": "stream",
     "text": [
      "2020-09-27\n",
      "2020-09-28\n"
     ]
    },
    {
     "name": "stderr",
     "output_type": "stream",
     "text": [
      "/home/lthapa/anaconda3/envs/ML_py/lib/python3.7/site-packages/numpy/core/_methods.py:179: RuntimeWarning: invalid value encountered in reduce\n",
      "  ret = umr_sum(arr, axis, dtype, out, keepdims, where=where)\n"
     ]
    },
    {
     "name": "stdout",
     "output_type": "stream",
     "text": [
      "2020-09-29\n"
     ]
    },
    {
     "name": "stderr",
     "output_type": "stream",
     "text": [
      "/home/lthapa/anaconda3/envs/ML_py/lib/python3.7/site-packages/numpy/core/_methods.py:179: RuntimeWarning: invalid value encountered in reduce\n",
      "  ret = umr_sum(arr, axis, dtype, out, keepdims, where=where)\n",
      "/home/lthapa/anaconda3/envs/ML_py/lib/python3.7/site-packages/numpy/core/_methods.py:179: RuntimeWarning: invalid value encountered in reduce\n",
      "  ret = umr_sum(arr, axis, dtype, out, keepdims, where=where)\n",
      "/home/lthapa/anaconda3/envs/ML_py/lib/python3.7/site-packages/numpy/core/_methods.py:179: RuntimeWarning: invalid value encountered in reduce\n",
      "  ret = umr_sum(arr, axis, dtype, out, keepdims, where=where)\n",
      "/home/lthapa/anaconda3/envs/ML_py/lib/python3.7/site-packages/numpy/core/_methods.py:179: RuntimeWarning: invalid value encountered in reduce\n",
      "  ret = umr_sum(arr, axis, dtype, out, keepdims, where=where)\n",
      "/home/lthapa/anaconda3/envs/ML_py/lib/python3.7/site-packages/numpy/core/_methods.py:179: RuntimeWarning: invalid value encountered in reduce\n",
      "  ret = umr_sum(arr, axis, dtype, out, keepdims, where=where)\n"
     ]
    },
    {
     "name": "stdout",
     "output_type": "stream",
     "text": [
      "2020-09-30\n"
     ]
    },
    {
     "name": "stderr",
     "output_type": "stream",
     "text": [
      "/home/lthapa/anaconda3/envs/ML_py/lib/python3.7/site-packages/numpy/core/_methods.py:179: RuntimeWarning: invalid value encountered in reduce\n",
      "  ret = umr_sum(arr, axis, dtype, out, keepdims, where=where)\n",
      "/home/lthapa/anaconda3/envs/ML_py/lib/python3.7/site-packages/numpy/core/_methods.py:179: RuntimeWarning: invalid value encountered in reduce\n",
      "  ret = umr_sum(arr, axis, dtype, out, keepdims, where=where)\n",
      "/home/lthapa/anaconda3/envs/ML_py/lib/python3.7/site-packages/numpy/core/_methods.py:179: RuntimeWarning: invalid value encountered in reduce\n",
      "  ret = umr_sum(arr, axis, dtype, out, keepdims, where=where)\n"
     ]
    },
    {
     "name": "stdout",
     "output_type": "stream",
     "text": [
      "2020-10-01\n"
     ]
    },
    {
     "name": "stderr",
     "output_type": "stream",
     "text": [
      "/home/lthapa/anaconda3/envs/ML_py/lib/python3.7/site-packages/numpy/core/_methods.py:179: RuntimeWarning: invalid value encountered in reduce\n",
      "  ret = umr_sum(arr, axis, dtype, out, keepdims, where=where)\n"
     ]
    },
    {
     "name": "stdout",
     "output_type": "stream",
     "text": [
      "2020-10-02\n"
     ]
    },
    {
     "name": "stderr",
     "output_type": "stream",
     "text": [
      "/home/lthapa/anaconda3/envs/ML_py/lib/python3.7/site-packages/numpy/core/_methods.py:179: RuntimeWarning: invalid value encountered in reduce\n",
      "  ret = umr_sum(arr, axis, dtype, out, keepdims, where=where)\n"
     ]
    },
    {
     "name": "stdout",
     "output_type": "stream",
     "text": [
      "2020-10-03\n",
      "2020-10-04\n"
     ]
    },
    {
     "name": "stderr",
     "output_type": "stream",
     "text": [
      "/home/lthapa/anaconda3/envs/ML_py/lib/python3.7/site-packages/numpy/core/_methods.py:179: RuntimeWarning: invalid value encountered in reduce\n",
      "  ret = umr_sum(arr, axis, dtype, out, keepdims, where=where)\n"
     ]
    },
    {
     "name": "stdout",
     "output_type": "stream",
     "text": [
      "2020-10-05\n",
      "2020-10-06\n"
     ]
    },
    {
     "name": "stderr",
     "output_type": "stream",
     "text": [
      "/home/lthapa/anaconda3/envs/ML_py/lib/python3.7/site-packages/numpy/core/_methods.py:179: RuntimeWarning: invalid value encountered in reduce\n",
      "  ret = umr_sum(arr, axis, dtype, out, keepdims, where=where)\n",
      "/home/lthapa/anaconda3/envs/ML_py/lib/python3.7/site-packages/numpy/core/_methods.py:179: RuntimeWarning: invalid value encountered in reduce\n",
      "  ret = umr_sum(arr, axis, dtype, out, keepdims, where=where)\n"
     ]
    },
    {
     "name": "stdout",
     "output_type": "stream",
     "text": [
      "2020-10-07\n",
      "2020-10-08\n"
     ]
    },
    {
     "name": "stderr",
     "output_type": "stream",
     "text": [
      "/home/lthapa/anaconda3/envs/ML_py/lib/python3.7/site-packages/numpy/core/_methods.py:179: RuntimeWarning: invalid value encountered in reduce\n",
      "  ret = umr_sum(arr, axis, dtype, out, keepdims, where=where)\n",
      "/home/lthapa/anaconda3/envs/ML_py/lib/python3.7/site-packages/numpy/core/_methods.py:179: RuntimeWarning: invalid value encountered in reduce\n",
      "  ret = umr_sum(arr, axis, dtype, out, keepdims, where=where)\n",
      "/home/lthapa/anaconda3/envs/ML_py/lib/python3.7/site-packages/numpy/core/_methods.py:179: RuntimeWarning: invalid value encountered in reduce\n",
      "  ret = umr_sum(arr, axis, dtype, out, keepdims, where=where)\n"
     ]
    },
    {
     "name": "stdout",
     "output_type": "stream",
     "text": [
      "2020-10-09\n",
      "2020-10-10\n"
     ]
    },
    {
     "name": "stderr",
     "output_type": "stream",
     "text": [
      "/home/lthapa/anaconda3/envs/ML_py/lib/python3.7/site-packages/numpy/core/_methods.py:179: RuntimeWarning: invalid value encountered in reduce\n",
      "  ret = umr_sum(arr, axis, dtype, out, keepdims, where=where)\n",
      "/home/lthapa/anaconda3/envs/ML_py/lib/python3.7/site-packages/numpy/core/_methods.py:179: RuntimeWarning: invalid value encountered in reduce\n",
      "  ret = umr_sum(arr, axis, dtype, out, keepdims, where=where)\n"
     ]
    },
    {
     "name": "stdout",
     "output_type": "stream",
     "text": [
      "2020-10-12\n",
      "2020-10-13\n"
     ]
    },
    {
     "name": "stderr",
     "output_type": "stream",
     "text": [
      "/home/lthapa/anaconda3/envs/ML_py/lib/python3.7/site-packages/numpy/core/_methods.py:179: RuntimeWarning: invalid value encountered in reduce\n",
      "  ret = umr_sum(arr, axis, dtype, out, keepdims, where=where)\n"
     ]
    },
    {
     "name": "stdout",
     "output_type": "stream",
     "text": [
      "2020-10-14\n",
      "2020-10-15\n"
     ]
    },
    {
     "name": "stderr",
     "output_type": "stream",
     "text": [
      "/home/lthapa/anaconda3/envs/ML_py/lib/python3.7/site-packages/numpy/core/_methods.py:179: RuntimeWarning: invalid value encountered in reduce\n",
      "  ret = umr_sum(arr, axis, dtype, out, keepdims, where=where)\n"
     ]
    },
    {
     "name": "stdout",
     "output_type": "stream",
     "text": [
      "2020-10-16\n",
      "2020-10-17\n",
      "2020-10-18\n"
     ]
    },
    {
     "name": "stderr",
     "output_type": "stream",
     "text": [
      "/home/lthapa/anaconda3/envs/ML_py/lib/python3.7/site-packages/numpy/core/_methods.py:179: RuntimeWarning: invalid value encountered in reduce\n",
      "  ret = umr_sum(arr, axis, dtype, out, keepdims, where=where)\n"
     ]
    },
    {
     "name": "stdout",
     "output_type": "stream",
     "text": [
      "2020-10-19\n"
     ]
    },
    {
     "name": "stderr",
     "output_type": "stream",
     "text": [
      "/home/lthapa/anaconda3/envs/ML_py/lib/python3.7/site-packages/numpy/core/_methods.py:179: RuntimeWarning: invalid value encountered in reduce\n",
      "  ret = umr_sum(arr, axis, dtype, out, keepdims, where=where)\n"
     ]
    },
    {
     "name": "stdout",
     "output_type": "stream",
     "text": [
      "2020-10-20\n"
     ]
    },
    {
     "name": "stderr",
     "output_type": "stream",
     "text": [
      "/home/lthapa/anaconda3/envs/ML_py/lib/python3.7/site-packages/numpy/core/_methods.py:179: RuntimeWarning: invalid value encountered in reduce\n",
      "  ret = umr_sum(arr, axis, dtype, out, keepdims, where=where)\n",
      "/home/lthapa/anaconda3/envs/ML_py/lib/python3.7/site-packages/numpy/core/_methods.py:179: RuntimeWarning: invalid value encountered in reduce\n",
      "  ret = umr_sum(arr, axis, dtype, out, keepdims, where=where)\n",
      "/home/lthapa/anaconda3/envs/ML_py/lib/python3.7/site-packages/numpy/core/_methods.py:179: RuntimeWarning: invalid value encountered in reduce\n",
      "  ret = umr_sum(arr, axis, dtype, out, keepdims, where=where)\n"
     ]
    },
    {
     "name": "stdout",
     "output_type": "stream",
     "text": [
      "2020-10-21\n"
     ]
    },
    {
     "name": "stderr",
     "output_type": "stream",
     "text": [
      "/home/lthapa/anaconda3/envs/ML_py/lib/python3.7/site-packages/numpy/core/_methods.py:179: RuntimeWarning: invalid value encountered in reduce\n",
      "  ret = umr_sum(arr, axis, dtype, out, keepdims, where=where)\n",
      "/home/lthapa/anaconda3/envs/ML_py/lib/python3.7/site-packages/numpy/core/_methods.py:179: RuntimeWarning: invalid value encountered in reduce\n",
      "  ret = umr_sum(arr, axis, dtype, out, keepdims, where=where)\n",
      "/home/lthapa/anaconda3/envs/ML_py/lib/python3.7/site-packages/numpy/core/_methods.py:179: RuntimeWarning: invalid value encountered in reduce\n",
      "  ret = umr_sum(arr, axis, dtype, out, keepdims, where=where)\n"
     ]
    },
    {
     "name": "stdout",
     "output_type": "stream",
     "text": [
      "2020-10-22\n"
     ]
    },
    {
     "name": "stderr",
     "output_type": "stream",
     "text": [
      "/home/lthapa/anaconda3/envs/ML_py/lib/python3.7/site-packages/numpy/core/_methods.py:179: RuntimeWarning: invalid value encountered in reduce\n",
      "  ret = umr_sum(arr, axis, dtype, out, keepdims, where=where)\n",
      "/home/lthapa/anaconda3/envs/ML_py/lib/python3.7/site-packages/numpy/core/_methods.py:179: RuntimeWarning: invalid value encountered in reduce\n",
      "  ret = umr_sum(arr, axis, dtype, out, keepdims, where=where)\n"
     ]
    },
    {
     "name": "stdout",
     "output_type": "stream",
     "text": [
      "2020-10-23\n",
      "2020-10-24\n"
     ]
    },
    {
     "name": "stderr",
     "output_type": "stream",
     "text": [
      "/home/lthapa/anaconda3/envs/ML_py/lib/python3.7/site-packages/numpy/core/_methods.py:179: RuntimeWarning: invalid value encountered in reduce\n",
      "  ret = umr_sum(arr, axis, dtype, out, keepdims, where=where)\n"
     ]
    },
    {
     "name": "stdout",
     "output_type": "stream",
     "text": [
      "                    day       hd0w0       hd1w0       hd2w0       hd3w0  \\\n",
      "0   2020-08-12 12:00:00   90.014028   93.581016   91.439633   94.120485   \n",
      "1   2020-08-13 12:00:00   79.751619   64.992720   71.899825   70.940461   \n",
      "2   2020-08-14 12:00:00   94.718183   84.486758   77.461558   85.154401   \n",
      "3   2020-08-15 12:00:00   99.899222   86.855489   87.873294   80.877900   \n",
      "4   2020-08-16 12:00:00   59.948048   50.083458   49.720800   50.624061   \n",
      "5   2020-08-17 12:00:00   71.834047   60.584916   57.093324   56.441312   \n",
      "6   2020-08-18 12:00:00   84.855710   71.809901   68.916129   65.389852   \n",
      "7   2020-08-19 12:00:00   73.285137   72.596783   69.852027   67.073373   \n",
      "8   2020-08-20 12:00:00   60.235219   54.785417   62.558352   59.951373   \n",
      "9   2020-08-21 12:00:00   55.879442   47.819669   50.029176   57.195654   \n",
      "10  2020-08-22 12:00:00   79.875693   63.787753   61.603583   64.322498   \n",
      "11  2020-08-23 12:00:00   65.898816   56.949051   52.311596   50.286041   \n",
      "12  2020-08-24 12:00:00   59.261931   51.571339   50.759603   46.412431   \n",
      "13  2020-08-25 12:00:00   71.522316   61.179893   62.693492   61.731813   \n",
      "14  2020-08-26 12:00:00   61.059883   56.915245   55.933987   57.713307   \n",
      "15  2020-08-27 12:00:00   68.759546   58.064599   60.260733   59.534972   \n",
      "16  2020-09-02 12:00:00   71.258577   49.020131   52.056994   55.630199   \n",
      "17  2020-09-03 12:00:00   87.621286   69.476311   54.606123   57.577179   \n",
      "18  2020-09-04 12:00:00   64.546702   52.954313   48.981010   38.355382   \n",
      "19  2020-09-05 12:00:00   93.272419   70.170983   66.374362   61.400635   \n",
      "20  2020-09-06 12:00:00  123.320873  110.256253   94.217088   91.839556   \n",
      "21  2020-09-07 12:00:00  128.111640  145.238066  155.766720  129.816060   \n",
      "22  2020-09-13 12:00:00   53.496947   38.666487   24.836679   19.177525   \n",
      "23  2020-09-14 12:00:00   52.449690   41.314991   35.074102   22.686655   \n",
      "24  2020-09-15 12:00:00   51.697502   44.298850   41.605998   35.510599   \n",
      "25  2020-09-16 12:00:00   48.733982   48.388712   49.999702   46.513944   \n",
      "26  2020-09-17 12:00:00   45.368369   35.191814   39.484376   40.846888   \n",
      "27  2020-09-18 12:00:00   55.235121   44.737273   41.348642   46.132366   \n",
      "28  2020-09-19 12:00:00   71.750285   62.365808   57.800607   53.110954   \n",
      "29  2020-09-20 12:00:00   92.213537   90.300648   91.876618   86.213163   \n",
      "30  2020-09-21 12:00:00   72.125164   54.224870   61.799553   62.533344   \n",
      "31  2020-09-22 12:00:00   57.980862   52.002781   45.162323   52.576915   \n",
      "32  2020-09-23 12:00:00   79.957455   69.528222   70.932370   63.058342   \n",
      "33  2020-09-24 12:00:00   99.517559   75.499978   74.332075   75.806830   \n",
      "34  2020-09-25 12:00:00  164.718051  152.264619  130.643537  130.275751   \n",
      "35  2020-09-26 12:00:00  148.054886  151.757071  156.926507  136.616785   \n",
      "36  2020-09-27 12:00:00   39.159399   63.071740   77.772878   80.326299   \n",
      "37  2020-09-28 12:00:00   29.315291   25.785482   50.208806   59.717944   \n",
      "38  2020-09-29 12:00:00   96.734031   51.578967   43.735942   85.445659   \n",
      "39  2020-09-30 12:00:00   55.367958   52.762150   32.151728   27.950555   \n",
      "40  2020-10-01 12:00:00   43.543954   41.869672   50.236834   30.276979   \n",
      "41  2020-10-02 12:00:00   78.705100   62.083303   63.698327   76.028603   \n",
      "42  2020-10-03 12:00:00   42.054798   41.096062   39.554111   42.131987   \n",
      "43  2020-10-04 12:00:00   87.581757   58.067126   65.027272   62.690166   \n",
      "44  2020-10-05 12:00:00   84.722360   74.872924   56.017191   62.993682   \n",
      "45  2020-10-06 12:00:00   88.998578   66.860985   70.011798   54.029383   \n",
      "46  2020-10-07 12:00:00   52.543681   41.771268   35.720776   37.728959   \n",
      "47  2020-10-08 12:00:00   82.414366   74.614297   72.264028   61.302467   \n",
      "48  2020-10-09 12:00:00   82.435986   79.020457   87.881999   83.082087   \n",
      "49  2020-10-10 12:00:00   70.733338   62.107541   65.550924   72.704649   \n",
      "50  2020-10-12 12:00:00  113.932633   91.424808  188.623890  178.760475   \n",
      "51  2020-10-13 12:00:00  107.693450   77.075498   59.919303  123.833854   \n",
      "52  2020-10-14 12:00:00   71.667829   79.424450   62.852991   50.261837   \n",
      "53  2020-10-15 12:00:00   27.615546   38.289721   54.068394   42.276370   \n",
      "54  2020-10-16 12:00:00   50.086066   29.230206   50.474537   68.205379   \n",
      "55  2020-10-17 12:00:00  122.481981   98.335989   56.467763  102.129730   \n",
      "56  2020-10-18 12:00:00   53.442083   55.014380   57.653691   32.774627   \n",
      "57  2020-10-19 12:00:00   61.200749   49.092040   56.450413   56.329568   \n",
      "58  2020-10-20 12:00:00  105.462017   98.717874   95.446539   92.399774   \n",
      "59  2020-10-21 12:00:00   78.702036   62.488506   64.104814   62.294671   \n",
      "60  2020-10-22 12:00:00   67.462664   80.521300   68.957743   66.501814   \n",
      "61  2020-10-23 12:00:00   30.219275   34.737756   55.537757   47.701091   \n",
      "62  2020-10-24 12:00:00   86.843106   53.150208   50.653911  100.251557   \n",
      "\n",
      "         hd4w0       hd5w0     temp_2m      q_2m  wind_speed  ...      soilm  \\\n",
      "0    91.079209   95.356694  286.785431  0.004402    5.684731  ...  16.507692   \n",
      "1    72.493918   70.006536  288.715660  0.003260    4.375624  ...  13.129078   \n",
      "2    83.979334   85.644658  290.120441  0.002832    4.832441  ...   8.984126   \n",
      "3    88.260945   87.750871  289.382206  0.003214    5.309514  ...   9.314287   \n",
      "4    46.395602   50.706992  289.701220  0.003310    3.108140  ...   7.784565   \n",
      "5    57.992926   52.513398  290.141685  0.004650    3.667127  ...   8.298208   \n",
      "6    64.669576   65.879077  291.450265  0.004915    3.951303  ...  11.251517   \n",
      "7    61.389963   60.875731  289.562873  0.005463    3.875721  ...  14.940581   \n",
      "8    57.554386   53.990758  288.238552  0.006094    3.453465  ...  22.721954   \n",
      "9    54.545882   52.563820  289.129059  0.005940    2.971442  ...  19.394951   \n",
      "10   73.322763   70.074389  290.370431  0.003850    3.926301  ...  13.527956   \n",
      "11   53.498031   60.873645  291.719863  0.004687    2.992437  ...  10.486231   \n",
      "12   44.715486   47.512197  291.447508  0.005701    2.732091  ...  11.287499   \n",
      "13   57.683271   55.145850  291.497106  0.006292    3.340743  ...  11.763319   \n",
      "14   57.008685   53.232636  290.807663  0.007718    2.943158  ...  24.791857   \n",
      "15   61.266842   60.602206  291.782652  0.006390    3.109693  ...  15.792876   \n",
      "16   52.186569   56.341345  287.761712  0.004549    4.041349  ...  18.551579   \n",
      "17   61.729275   59.167828  290.628059  0.003887    4.162263  ...  12.117528   \n",
      "18   40.676833   43.779004  290.555394  0.003893    3.038880  ...  12.521530   \n",
      "19   47.609993   50.159967  291.270194  0.003187    4.277645  ...   8.151329   \n",
      "20   86.114016   66.420922  291.022773  0.003497    5.869424  ...   7.382940   \n",
      "21  127.382875  121.300030  288.125767  0.002424    7.494379  ...   8.085349   \n",
      "22   15.664488   11.804112  288.948824  0.004284    2.773252  ...  37.517324   \n",
      "23   17.655659   14.352784  289.542738  0.004071    2.680107  ...  30.654969   \n",
      "24   23.014279   17.899392  289.065831  0.003656    2.745538  ...  27.592337   \n",
      "25   39.852993   26.082314  285.382777  0.005173    3.247727  ...  30.798823   \n",
      "26   38.585249   32.649349  289.053034  0.003974    2.351348  ...  29.180308   \n",
      "27   48.325992   44.555031  288.537344  0.003424    3.055341  ...  19.124720   \n",
      "28   60.004028   62.196840  289.064716  0.004310    3.864552  ...  23.652366   \n",
      "29   78.444762   88.860546  286.333731  0.005409    5.919492  ...  21.108884   \n",
      "30   58.942444   53.928692  287.881952  0.004468    4.169414  ...  18.889891   \n",
      "31   54.068713   50.725064  285.724243  0.004448    3.892847  ...  23.292307   \n",
      "32   71.568191   72.167872  287.433794  0.005033    4.752184  ...  14.444262   \n",
      "33   67.427041   76.677399  289.860250  0.003799    5.074052  ...   9.425996   \n",
      "34  131.603549  116.839293  289.758567  0.003550    8.555310  ...   9.116344   \n",
      "35  137.505145  139.189068  287.897286  0.003990    8.699357  ...  11.619723   \n",
      "36   67.843506   65.953107  278.839203  0.003495    4.243251  ...  18.138462   \n",
      "37   61.476264   54.083174  277.717013  0.002153    3.310535  ...  19.115064   \n",
      "38  102.134072  105.073412  287.148246  0.002874    5.790728  ...   9.250427   \n",
      "39   54.083952   64.719723  285.874572  0.002795    3.641362  ...   9.217261   \n",
      "40   25.856213   50.468344  283.514837  0.003955    3.339146  ...  11.848019   \n",
      "41   46.031576   39.555834  286.731849  0.002360    4.900638  ...   9.485477   \n",
      "42   48.033310   29.617501  283.626074  0.004323    3.226671  ...  10.512164   \n",
      "43   66.598886   75.831020  286.952775  0.003328    5.286432  ...   7.715173   \n",
      "44   60.850820   65.063614  286.487207  0.002399    5.315546  ...   6.555879   \n",
      "45   59.876221   58.497814  287.746023  0.002048    5.197522  ...   8.089165   \n",
      "46   29.448600   32.199573  285.736688  0.001807    3.451702  ...   9.436643   \n",
      "47   64.809475   49.906538  286.558820  0.001819    5.025446  ...   8.603355   \n",
      "48   68.116283   71.484607  283.406724  0.002975    6.564151  ...   7.711300   \n",
      "49   68.839518   57.758455  283.406592  0.003276    5.511844  ...   9.937524   \n",
      "50  197.105352  214.397536  277.751770  0.002751   13.042832  ...  10.553847   \n",
      "51  117.676793  127.946980  282.789347  0.002838    8.752761  ...   7.701586   \n",
      "52   92.594646   92.009490  282.117933  0.004396    6.382493  ...   9.693162   \n",
      "53   33.977022   62.198021  274.039620  0.002122    4.325639  ...  15.806460   \n",
      "54   56.307347   45.452812  280.624721  0.002707    4.597194  ...  12.813934   \n",
      "55  130.937128  115.170932  286.353159  0.003503    8.127210  ...   7.800749   \n",
      "56   53.374533   74.684876  279.630004  0.003650    5.330432  ...  14.220803   \n",
      "57   33.344062   55.286705  282.246653  0.003395    5.785515  ...   9.778332   \n",
      "58   92.566040   56.841268  280.867830  0.003746   10.362091  ...  10.844127   \n",
      "59   59.523560   59.635627  281.413451  0.003091    7.535586  ...  13.313553   \n",
      "60   68.117261   62.838365  275.393911  0.002934    9.230537  ...   8.437592   \n",
      "61   47.075683   47.324512  269.432480  0.001761    6.020575  ...  14.900805   \n",
      "62   86.386220   96.002201  278.559805  0.002751    9.802372  ...  16.628251   \n",
      "\n",
      "      esat_2m      e_2m     vpd_2m        hwp  veg_term  gust_max_term  \\\n",
      "0   15.842244  0.007891  15.834353  11.800066       1.0       8.763879   \n",
      "1   18.459530  0.005870  18.453660  27.477596       1.0       8.788087   \n",
      "2   20.224256  0.005127  20.219129  29.998576       1.0       8.976878   \n",
      "3   19.345002  0.005797  19.339205  22.973533       1.0       7.969683   \n",
      "4   19.755192  0.005989  19.749203  13.707724       1.0       4.452505   \n",
      "5   20.240841  0.008427  20.232415  13.912416       1.0       5.221005   \n",
      "6   21.951495  0.008951  21.942544  13.230050       1.0       6.012614   \n",
      "7   19.184843  0.009898  19.174945   9.481493       1.0       6.822493   \n",
      "8   17.737384  0.010999  17.726385   7.015716       1.0       6.451815   \n",
      "9   19.093134  0.010728  19.082406   7.979785       1.0       5.198452   \n",
      "10  20.630492  0.006965  20.623527  17.557295       1.0       6.016109   \n",
      "11  22.287310  0.008556  22.278754   9.238136       1.0       4.331162   \n",
      "12  21.916855  0.010391  21.906464   9.473242       1.0       4.497728   \n",
      "13  21.820064  0.011473  21.808590   9.788966       1.0       5.445028   \n",
      "14  20.746301  0.014063  20.732239   4.130003       1.0       4.359338   \n",
      "15  22.140049  0.011676  22.128373   7.640228       1.0       5.061435   \n",
      "16  17.643156  0.008172  17.634984  17.306411       1.0       7.581755   \n",
      "17  21.159734  0.007048  21.152686  20.279877       1.0       7.293669   \n",
      "18  21.084625  0.007051  21.077574  17.059310       1.0       5.300812   \n",
      "19  21.769216  0.005782  21.763434  27.336805       1.0       7.143265   \n",
      "20  21.281754  0.006349  21.275404  37.305246       1.0      10.019779   \n",
      "21  17.567589  0.004364  17.563224  50.943311       1.0      13.456301   \n",
      "22  19.299310  0.007705  19.291605   5.740110       1.0       3.944374   \n",
      "23  19.753768  0.007349  19.746419   7.909175       1.0       4.962110   \n",
      "24  19.148669  0.006582  19.142086   9.098678       1.0       4.981882   \n",
      "25  15.101129  0.009243  15.091886   4.156275       1.0       4.413166   \n",
      "26  19.302090  0.007149  19.294941   7.716510       1.0       4.203862   \n",
      "27  18.227698  0.006159  18.221539   9.411945       1.0       4.842561   \n",
      "28  18.620450  0.007771  18.612679   9.966491       1.0       7.527383   \n",
      "29  15.770371  0.009683  15.760688  13.975590       1.0      10.483486   \n",
      "30  17.435139  0.008039  17.427100   9.850048       1.0       7.332882   \n",
      "31  14.902140  0.007936  14.894204   6.264127       1.0       5.229775   \n",
      "32  16.770181  0.009034  16.761147  15.700067       1.0       8.190919   \n",
      "33  19.763236  0.006879  19.756358  22.992206       1.0       8.266852   \n",
      "34  19.280473  0.006416  19.274057  40.105868       1.0      13.851116   \n",
      "35  17.155727  0.007175  17.148552  36.721981       1.0      17.122058   \n",
      "36   9.234713  0.006082   9.228631   9.742295       1.0       8.817663   \n",
      "37   8.857105  0.003717   8.853388  12.361418       1.0       6.960340   \n",
      "38  16.637542  0.005149  16.632394  24.276501       1.0       9.011254   \n",
      "39  15.348451  0.004983  15.343468  16.533897       1.0       5.913706   \n",
      "40  13.075454  0.006990  13.068464   9.945654       1.0       5.335324   \n",
      "41  16.020927  0.004215  16.016712  27.739443       1.0       8.519876   \n",
      "42  13.143678  0.007641  13.136037  13.172261       1.0       5.821223   \n",
      "43  16.777490  0.005964  16.771526  25.440554       1.0       8.368261   \n",
      "44  15.914513  0.004281  15.910233  36.571105       1.0      10.034389   \n",
      "45  17.603158  0.003673  17.599486  29.606117       1.0       8.257333   \n",
      "46  15.236080  0.003216  15.232864  19.299257       1.0       5.566992   \n",
      "47  16.043084  0.003248  16.039836  27.248621       1.0       7.777998   \n",
      "48  12.817196  0.005258  12.811938  27.730662       1.0      10.202562   \n",
      "49  12.932027  0.005794  12.926233  22.063351       1.0       8.567524   \n",
      "50   8.740033  0.004765   8.735268  52.024155       1.0      25.337978   \n",
      "51  12.353762  0.005009  12.348753  52.601306       1.0      18.219879   \n",
      "52  11.726878  0.007748  11.719130  44.665469       1.0      19.309647   \n",
      "53   6.695873  0.003624   6.692249  13.357495       1.0      10.485528   \n",
      "54  11.098406  0.004753  11.093652  16.575966       1.0       9.294649   \n",
      "55  15.504054  0.006261  15.497793  48.927405       1.0      17.692487   \n",
      "56  10.078344  0.006372  10.071972  19.400331       1.0      12.909776   \n",
      "57  11.961521  0.005983  11.955538  22.038318       1.0       9.723448   \n",
      "58  10.840789  0.006570  10.834219  39.500209       1.0      20.169071   \n",
      "59  11.464783  0.005420  11.459363  28.296091       1.0      15.984302   \n",
      "60   7.476806  0.005035   7.471771  38.733173       1.0      15.837961   \n",
      "61   4.896838  0.002955   4.893883  18.320824       1.0      10.827745   \n",
      "62   9.142457  0.004785   9.137672  28.689964       1.0      22.235670   \n",
      "\n",
      "      dd_term  mois_term  snowc_term  \n",
      "0   17.322460   0.834923    1.000000  \n",
      "1   22.838891   0.868709    1.000000  \n",
      "2   25.456240   0.910159    1.000000  \n",
      "3   23.378647   0.906857    1.000000  \n",
      "4   23.300251   0.922154    1.000000  \n",
      "5   20.053216   0.917018    1.000000  \n",
      "6   20.386547   0.887485    1.000000  \n",
      "7   17.205487   0.850594    1.000000  \n",
      "8   16.041603   0.772780    1.000000  \n",
      "9   18.221611   0.806050    1.000000  \n",
      "10  22.829593   0.864720    1.000000  \n",
      "11  20.652151   0.895138    1.000000  \n",
      "12  18.906165   0.887125    1.000000  \n",
      "13  17.910973   0.882367    1.000000  \n",
      "14  16.024365   0.752081    1.000000  \n",
      "15  17.508429   0.842071    1.000000  \n",
      "16  19.111264   0.814484    1.000000  \n",
      "17  22.321243   0.878825    1.000000  \n",
      "18  22.519501   0.874785    1.000000  \n",
      "19  25.543079   0.918487    1.000000  \n",
      "20  23.909494   0.926171    1.000000  \n",
      "21  25.795368   0.919146    1.000000  \n",
      "22  21.248132   0.624827    1.000000  \n",
      "23  21.306511   0.693450    1.000000  \n",
      "24  22.152559   0.724077    1.000000  \n",
      "25  16.119317   0.692012    1.000000  \n",
      "26  21.929185   0.708197    1.000000  \n",
      "27  21.641338   0.808753    1.000000  \n",
      "28  19.849403   0.763476    1.000000  \n",
      "29  15.975878   0.788911    1.000000  \n",
      "30  18.171461   0.811101    1.000000  \n",
      "31  17.196522   0.767077    1.000000  \n",
      "32  17.275926   0.855557    1.000000  \n",
      "33  21.088512   0.905740    1.000000  \n",
      "34  21.940745   0.908837    1.000000  \n",
      "35  18.602062   0.883803    1.000000  \n",
      "36  15.136662   0.818615    1.000000  \n",
      "37  18.720327   0.808849    1.000000  \n",
      "38  21.875050   0.907496    1.000000  \n",
      "39  21.447110   0.907827    1.000000  \n",
      "40  17.500438   0.881520    1.000000  \n",
      "41  23.902085   0.905145    1.000000  \n",
      "42  17.103562   0.894878    1.000000  \n",
      "43  20.519951   0.922848    1.000000  \n",
      "44  23.663598   0.934441    1.000000  \n",
      "45  26.822597   0.919108    1.000000  \n",
      "46  26.949100   0.905634    1.000000  \n",
      "47  27.300889   0.913966    1.000000  \n",
      "48  19.040693   0.922887    1.000000  \n",
      "49  18.221726   0.900625    1.000000  \n",
      "50  16.200230   0.894462    1.000000  \n",
      "51  18.525592   0.922984    0.998302  \n",
      "52  15.450087   0.903068    0.999999  \n",
      "53  15.830039   0.841935    0.999989  \n",
      "54  17.544604   0.871861    1.000000  \n",
      "55  18.087511   0.921992    1.000000  \n",
      "56  15.716783   0.857792    1.000000  \n",
      "57  16.804635   0.902217    1.000000  \n",
      "58  15.563524   0.891559    1.000000  \n",
      "59  18.131973   0.866864    1.000000  \n",
      "60  15.561293   0.915624    1.000000  \n",
      "61  16.016659   0.850992    0.999164  \n",
      "62  15.668926   0.833717    1.000000  \n",
      "\n",
      "[63 rows x 23 columns]\n",
      "/data2/lthapa/ML_daily/fire_polygons/pine_gulch_VIIRS_daily_12Z_day_start.geojson\n"
     ]
    },
    {
     "name": "stdout",
     "output_type": "stream",
     "text": [
      "epsg:3347\n",
      "0:00:18.045744\n",
      "2020-07-31\n"
     ]
    },
    {
     "name": "stderr",
     "output_type": "stream",
     "text": [
      "/home/lthapa/anaconda3/envs/ML_py/lib/python3.7/site-packages/numpy/core/_methods.py:179: RuntimeWarning: invalid value encountered in reduce\n",
      "  ret = umr_sum(arr, axis, dtype, out, keepdims, where=where)\n"
     ]
    },
    {
     "name": "stdout",
     "output_type": "stream",
     "text": [
      "2020-08-01\n"
     ]
    },
    {
     "name": "stderr",
     "output_type": "stream",
     "text": [
      "/home/lthapa/anaconda3/envs/ML_py/lib/python3.7/site-packages/numpy/core/_methods.py:179: RuntimeWarning: invalid value encountered in reduce\n",
      "  ret = umr_sum(arr, axis, dtype, out, keepdims, where=where)\n"
     ]
    },
    {
     "name": "stdout",
     "output_type": "stream",
     "text": [
      "2020-08-02\n"
     ]
    },
    {
     "name": "stderr",
     "output_type": "stream",
     "text": [
      "/home/lthapa/anaconda3/envs/ML_py/lib/python3.7/site-packages/numpy/core/_methods.py:179: RuntimeWarning: invalid value encountered in reduce\n",
      "  ret = umr_sum(arr, axis, dtype, out, keepdims, where=where)\n"
     ]
    },
    {
     "name": "stdout",
     "output_type": "stream",
     "text": [
      "2020-08-03\n"
     ]
    },
    {
     "name": "stderr",
     "output_type": "stream",
     "text": [
      "/home/lthapa/anaconda3/envs/ML_py/lib/python3.7/site-packages/numpy/core/_methods.py:179: RuntimeWarning: invalid value encountered in reduce\n",
      "  ret = umr_sum(arr, axis, dtype, out, keepdims, where=where)\n"
     ]
    },
    {
     "name": "stdout",
     "output_type": "stream",
     "text": [
      "2020-08-04\n"
     ]
    },
    {
     "name": "stderr",
     "output_type": "stream",
     "text": [
      "/home/lthapa/anaconda3/envs/ML_py/lib/python3.7/site-packages/numpy/core/_methods.py:179: RuntimeWarning: invalid value encountered in reduce\n",
      "  ret = umr_sum(arr, axis, dtype, out, keepdims, where=where)\n"
     ]
    },
    {
     "name": "stdout",
     "output_type": "stream",
     "text": [
      "2020-08-05\n"
     ]
    },
    {
     "name": "stderr",
     "output_type": "stream",
     "text": [
      "/home/lthapa/anaconda3/envs/ML_py/lib/python3.7/site-packages/numpy/core/_methods.py:179: RuntimeWarning: invalid value encountered in reduce\n",
      "  ret = umr_sum(arr, axis, dtype, out, keepdims, where=where)\n",
      "/home/lthapa/anaconda3/envs/ML_py/lib/python3.7/site-packages/numpy/core/_methods.py:179: RuntimeWarning: invalid value encountered in reduce\n",
      "  ret = umr_sum(arr, axis, dtype, out, keepdims, where=where)\n"
     ]
    },
    {
     "name": "stdout",
     "output_type": "stream",
     "text": [
      "2020-08-06\n"
     ]
    },
    {
     "name": "stderr",
     "output_type": "stream",
     "text": [
      "/home/lthapa/anaconda3/envs/ML_py/lib/python3.7/site-packages/numpy/core/_methods.py:179: RuntimeWarning: invalid value encountered in reduce\n",
      "  ret = umr_sum(arr, axis, dtype, out, keepdims, where=where)\n"
     ]
    },
    {
     "name": "stdout",
     "output_type": "stream",
     "text": [
      "2020-08-07\n",
      "2020-08-08\n"
     ]
    },
    {
     "name": "stderr",
     "output_type": "stream",
     "text": [
      "/home/lthapa/anaconda3/envs/ML_py/lib/python3.7/site-packages/numpy/core/_methods.py:179: RuntimeWarning: invalid value encountered in reduce\n",
      "  ret = umr_sum(arr, axis, dtype, out, keepdims, where=where)\n"
     ]
    },
    {
     "name": "stdout",
     "output_type": "stream",
     "text": [
      "2020-08-09\n"
     ]
    },
    {
     "name": "stderr",
     "output_type": "stream",
     "text": [
      "/home/lthapa/anaconda3/envs/ML_py/lib/python3.7/site-packages/numpy/core/_methods.py:179: RuntimeWarning: invalid value encountered in reduce\n",
      "  ret = umr_sum(arr, axis, dtype, out, keepdims, where=where)\n",
      "/home/lthapa/anaconda3/envs/ML_py/lib/python3.7/site-packages/numpy/core/_methods.py:179: RuntimeWarning: invalid value encountered in reduce\n",
      "  ret = umr_sum(arr, axis, dtype, out, keepdims, where=where)\n"
     ]
    },
    {
     "name": "stdout",
     "output_type": "stream",
     "text": [
      "2020-08-10\n",
      "2020-08-11\n"
     ]
    },
    {
     "name": "stderr",
     "output_type": "stream",
     "text": [
      "/home/lthapa/anaconda3/envs/ML_py/lib/python3.7/site-packages/numpy/core/_methods.py:179: RuntimeWarning: invalid value encountered in reduce\n",
      "  ret = umr_sum(arr, axis, dtype, out, keepdims, where=where)\n",
      "/home/lthapa/anaconda3/envs/ML_py/lib/python3.7/site-packages/numpy/core/_methods.py:179: RuntimeWarning: invalid value encountered in reduce\n",
      "  ret = umr_sum(arr, axis, dtype, out, keepdims, where=where)\n"
     ]
    },
    {
     "name": "stdout",
     "output_type": "stream",
     "text": [
      "2020-08-12\n",
      "2020-08-13\n"
     ]
    },
    {
     "name": "stderr",
     "output_type": "stream",
     "text": [
      "/home/lthapa/anaconda3/envs/ML_py/lib/python3.7/site-packages/numpy/core/_methods.py:179: RuntimeWarning: invalid value encountered in reduce\n",
      "  ret = umr_sum(arr, axis, dtype, out, keepdims, where=where)\n"
     ]
    },
    {
     "name": "stdout",
     "output_type": "stream",
     "text": [
      "2020-08-14\n",
      "2020-08-15\n"
     ]
    },
    {
     "name": "stderr",
     "output_type": "stream",
     "text": [
      "/home/lthapa/anaconda3/envs/ML_py/lib/python3.7/site-packages/numpy/core/_methods.py:179: RuntimeWarning: invalid value encountered in reduce\n",
      "  ret = umr_sum(arr, axis, dtype, out, keepdims, where=where)\n"
     ]
    },
    {
     "name": "stdout",
     "output_type": "stream",
     "text": [
      "2020-08-16\n"
     ]
    },
    {
     "name": "stderr",
     "output_type": "stream",
     "text": [
      "/home/lthapa/anaconda3/envs/ML_py/lib/python3.7/site-packages/numpy/core/_methods.py:179: RuntimeWarning: invalid value encountered in reduce\n",
      "  ret = umr_sum(arr, axis, dtype, out, keepdims, where=where)\n",
      "/home/lthapa/anaconda3/envs/ML_py/lib/python3.7/site-packages/numpy/core/_methods.py:179: RuntimeWarning: invalid value encountered in reduce\n",
      "  ret = umr_sum(arr, axis, dtype, out, keepdims, where=where)\n",
      "/home/lthapa/anaconda3/envs/ML_py/lib/python3.7/site-packages/numpy/core/_methods.py:179: RuntimeWarning: invalid value encountered in reduce\n",
      "  ret = umr_sum(arr, axis, dtype, out, keepdims, where=where)\n"
     ]
    },
    {
     "name": "stdout",
     "output_type": "stream",
     "text": [
      "2020-08-17\n"
     ]
    },
    {
     "name": "stderr",
     "output_type": "stream",
     "text": [
      "/home/lthapa/anaconda3/envs/ML_py/lib/python3.7/site-packages/numpy/core/_methods.py:179: RuntimeWarning: invalid value encountered in reduce\n",
      "  ret = umr_sum(arr, axis, dtype, out, keepdims, where=where)\n"
     ]
    },
    {
     "name": "stdout",
     "output_type": "stream",
     "text": [
      "2020-08-18\n"
     ]
    },
    {
     "name": "stderr",
     "output_type": "stream",
     "text": [
      "/home/lthapa/anaconda3/envs/ML_py/lib/python3.7/site-packages/numpy/core/_methods.py:179: RuntimeWarning: invalid value encountered in reduce\n",
      "  ret = umr_sum(arr, axis, dtype, out, keepdims, where=where)\n"
     ]
    },
    {
     "name": "stdout",
     "output_type": "stream",
     "text": [
      "2020-08-19\n"
     ]
    },
    {
     "name": "stderr",
     "output_type": "stream",
     "text": [
      "/home/lthapa/anaconda3/envs/ML_py/lib/python3.7/site-packages/numpy/core/_methods.py:179: RuntimeWarning: invalid value encountered in reduce\n",
      "  ret = umr_sum(arr, axis, dtype, out, keepdims, where=where)\n"
     ]
    },
    {
     "name": "stdout",
     "output_type": "stream",
     "text": [
      "2020-08-20\n"
     ]
    },
    {
     "name": "stderr",
     "output_type": "stream",
     "text": [
      "/home/lthapa/anaconda3/envs/ML_py/lib/python3.7/site-packages/numpy/core/_methods.py:179: RuntimeWarning: invalid value encountered in reduce\n",
      "  ret = umr_sum(arr, axis, dtype, out, keepdims, where=where)\n"
     ]
    },
    {
     "name": "stdout",
     "output_type": "stream",
     "text": [
      "2020-08-21\n"
     ]
    },
    {
     "name": "stderr",
     "output_type": "stream",
     "text": [
      "/home/lthapa/anaconda3/envs/ML_py/lib/python3.7/site-packages/numpy/core/_methods.py:179: RuntimeWarning: invalid value encountered in reduce\n",
      "  ret = umr_sum(arr, axis, dtype, out, keepdims, where=where)\n"
     ]
    },
    {
     "name": "stdout",
     "output_type": "stream",
     "text": [
      "2020-08-22\n",
      "2020-08-23\n"
     ]
    },
    {
     "name": "stderr",
     "output_type": "stream",
     "text": [
      "/home/lthapa/anaconda3/envs/ML_py/lib/python3.7/site-packages/numpy/core/_methods.py:179: RuntimeWarning: invalid value encountered in reduce\n",
      "  ret = umr_sum(arr, axis, dtype, out, keepdims, where=where)\n"
     ]
    },
    {
     "name": "stdout",
     "output_type": "stream",
     "text": [
      "2020-08-24\n"
     ]
    },
    {
     "name": "stderr",
     "output_type": "stream",
     "text": [
      "/home/lthapa/anaconda3/envs/ML_py/lib/python3.7/site-packages/numpy/core/_methods.py:179: RuntimeWarning: invalid value encountered in reduce\n",
      "  ret = umr_sum(arr, axis, dtype, out, keepdims, where=where)\n",
      "/home/lthapa/anaconda3/envs/ML_py/lib/python3.7/site-packages/numpy/core/_methods.py:179: RuntimeWarning: invalid value encountered in reduce\n",
      "  ret = umr_sum(arr, axis, dtype, out, keepdims, where=where)\n"
     ]
    },
    {
     "name": "stdout",
     "output_type": "stream",
     "text": [
      "2020-08-25\n"
     ]
    },
    {
     "name": "stderr",
     "output_type": "stream",
     "text": [
      "/home/lthapa/anaconda3/envs/ML_py/lib/python3.7/site-packages/numpy/core/_methods.py:179: RuntimeWarning: invalid value encountered in reduce\n",
      "  ret = umr_sum(arr, axis, dtype, out, keepdims, where=where)\n"
     ]
    },
    {
     "name": "stdout",
     "output_type": "stream",
     "text": [
      "2020-09-04\n"
     ]
    },
    {
     "name": "stderr",
     "output_type": "stream",
     "text": [
      "/home/lthapa/anaconda3/envs/ML_py/lib/python3.7/site-packages/numpy/core/_methods.py:179: RuntimeWarning: invalid value encountered in reduce\n",
      "  ret = umr_sum(arr, axis, dtype, out, keepdims, where=where)\n",
      "/home/lthapa/anaconda3/envs/ML_py/lib/python3.7/site-packages/numpy/core/_methods.py:179: RuntimeWarning: invalid value encountered in reduce\n",
      "  ret = umr_sum(arr, axis, dtype, out, keepdims, where=where)\n",
      "/home/lthapa/anaconda3/envs/ML_py/lib/python3.7/site-packages/numpy/core/_methods.py:179: RuntimeWarning: invalid value encountered in reduce\n",
      "  ret = umr_sum(arr, axis, dtype, out, keepdims, where=where)\n"
     ]
    },
    {
     "name": "stdout",
     "output_type": "stream",
     "text": [
      "                    day       hd0w0       hd1w0       hd2w0       hd3w0  \\\n",
      "0   2020-07-31 12:00:00  147.086063  127.284524  119.794862  106.374075   \n",
      "1   2020-08-01 12:00:00  167.523430  150.391260  141.376390  133.032627   \n",
      "2   2020-08-02 12:00:00  166.793118  155.574663  146.633624  138.497603   \n",
      "3   2020-08-03 12:00:00  178.353603  159.719274  162.796462  151.547516   \n",
      "4   2020-08-04 12:00:00  141.979205  134.215982  128.698571  130.341519   \n",
      "5   2020-08-05 12:00:00  166.154866  163.216800  170.870084  164.244680   \n",
      "6   2020-08-06 12:00:00  215.428723  202.542447  215.778513  226.844176   \n",
      "7   2020-08-07 12:00:00  171.545456  161.280559  172.010309  185.029485   \n",
      "8   2020-08-08 12:00:00  132.759261  114.727027  123.352268  132.389944   \n",
      "9   2020-08-09 12:00:00  115.636882  100.678523   98.782610  106.619012   \n",
      "10  2020-08-10 12:00:00  121.503026  107.000828  103.308253  100.730481   \n",
      "11  2020-08-11 12:00:00  179.523908  162.919059  157.711403  151.830762   \n",
      "12  2020-08-12 12:00:00  181.251008  163.643871  165.251820  160.163959   \n",
      "13  2020-08-13 12:00:00  139.555804  120.739356  126.722187  125.701894   \n",
      "14  2020-08-14 12:00:00  105.284942   92.738396   90.029309   91.902226   \n",
      "15  2020-08-15 12:00:00  152.790916  135.975950  129.969167  127.842399   \n",
      "16  2020-08-16 12:00:00  163.324886  144.528511  140.212015  133.618758   \n",
      "17  2020-08-17 12:00:00  108.702689  105.640910  102.382688  100.570383   \n",
      "18  2020-08-18 12:00:00  131.716166  111.672030  115.295022  110.945327   \n",
      "19  2020-08-19 12:00:00  144.409651  134.951745  119.063951  124.785171   \n",
      "20  2020-08-20 12:00:00  146.701443  142.154783  146.925914  130.346848   \n",
      "21  2020-08-21 12:00:00  109.654386  103.435120  110.452148  114.556862   \n",
      "22  2020-08-22 12:00:00  114.925004  101.322551  103.462828  109.499918   \n",
      "23  2020-08-23 12:00:00  133.658367  126.606694  119.799321  123.068876   \n",
      "24  2020-08-24 12:00:00  128.186740  123.406014  122.937111  117.206500   \n",
      "25  2020-08-25 12:00:00  126.385575  124.190184  123.845074  124.550601   \n",
      "26  2020-09-04 12:00:00  166.579523  132.476774  119.196713   90.482942   \n",
      "\n",
      "         hd4w0       hd5w0     temp_2m      q_2m  wind_speed  ...      soilm  \\\n",
      "0   121.967236  119.547114  300.617889  0.003830    3.907255  ...  12.307693   \n",
      "1   118.140633  135.449526  300.994880  0.004300    4.343876  ...  12.428868   \n",
      "2   129.681844  116.888030  299.796211  0.005241    4.644061  ...  12.142414   \n",
      "3   142.922617  134.840199  299.819206  0.004910    4.931494  ...   5.297218   \n",
      "4   121.461831  115.313748  299.478554  0.003965    4.057393  ...  11.337215   \n",
      "5   166.881393  156.648925  297.844886  0.003629    5.184287  ...  10.549836   \n",
      "6   218.801209  222.958131  297.793349  0.004007    6.771660  ...   7.397012   \n",
      "7   194.011462  184.459618  296.165470  0.002077    5.880540  ...  10.049644   \n",
      "8   142.204294  149.142062  296.137660  0.002213    4.505034  ...   7.850674   \n",
      "9   113.205843  121.402958  296.710553  0.002174    3.763410  ...   3.344806   \n",
      "10  108.448827  115.432889  296.911182  0.002859    3.966876  ...   6.544944   \n",
      "11  148.601967  160.201474  297.390424  0.002311    5.716319  ...   5.694083   \n",
      "12  154.550728  151.355478  296.702428  0.003811    6.026151  ...   6.489420   \n",
      "13  121.238287  118.227629  295.319345  0.002497    4.948108  ...   5.856961   \n",
      "14   92.938974   89.738215  297.282547  0.002336    3.276120  ...   4.715454   \n",
      "15  129.949627  131.019304  299.490646  0.003181    4.215741  ...   3.162178   \n",
      "16  130.574078  131.786832  299.751731  0.002455    4.389291  ...   5.010916   \n",
      "17   95.093935   91.865269  298.239231  0.003330    3.238452  ...   7.427755   \n",
      "18  111.069311  104.813963  299.316098  0.003299    3.663426  ...   5.588547   \n",
      "19  120.496496  119.466972  300.766992  0.004331    3.831330  ...   6.940979   \n",
      "20  136.529328  132.772982  300.208290  0.004557    3.990469  ...   4.805039   \n",
      "21  100.870683  106.227327  298.971079  0.005700    3.130980  ...   5.512761   \n",
      "22  114.722406  101.816232  300.610115  0.003683    3.006867  ...   3.119059   \n",
      "23  129.743334  134.507659  300.726649  0.003922    3.507035  ...   3.248099   \n",
      "24  118.128856  126.692819  299.437333  0.004740    3.630975  ...   6.691481   \n",
      "25  117.585646  118.340333  298.432822  0.006207    3.794392  ...   7.520856   \n",
      "26  108.862954  119.490839  301.523467  0.002851    4.154073  ...   0.665822   \n",
      "\n",
      "      esat_2m      e_2m     vpd_2m        hwp  veg_term  gust_max_term  \\\n",
      "0   37.651526  0.007183  37.644343  17.809298       1.0       6.181215   \n",
      "1   38.579715  0.008079  38.571636  15.972236       1.0       5.755549   \n",
      "2   36.100101  0.009817  36.090284  17.552937       1.0       6.013173   \n",
      "3   36.096198  0.009192  36.087007  27.402708       1.0       6.238257   \n",
      "4   35.118590  0.007399  35.111191  17.695697       1.0       5.326583   \n",
      "5   32.190243  0.006752  32.183491  23.192200       1.0       6.778156   \n",
      "6   31.833625  0.007425  31.826200  43.369440       1.0       9.037022   \n",
      "7   29.197762  0.003831  29.193930  35.898854       1.0       8.409076   \n",
      "8   29.461143  0.004090  29.457053  31.297290       1.0       6.345511   \n",
      "9   30.780581  0.004025  30.776556  33.252621       1.0       5.247472   \n",
      "10  30.845731  0.005279  30.840453  24.719635       1.0       5.283967   \n",
      "11  31.618346  0.004277  31.614069  44.824107       1.0       7.863309   \n",
      "12  30.149569  0.007041  30.142528  44.357126       1.0       9.464894   \n",
      "13  28.234459  0.004591  28.229869  37.862911       1.0       7.181836   \n",
      "14  31.663661  0.004321  31.659341  26.693707       1.0       4.598910   \n",
      "15  36.333917  0.005929  36.327988  31.647867       1.0       5.645011   \n",
      "16  36.684086  0.004584  36.679502  32.740871       1.0       5.535750   \n",
      "17  33.450022  0.006195  33.443827  16.845060       1.0       3.890689   \n",
      "18  35.788620  0.006160  35.782460  28.279823       1.0       5.428122   \n",
      "19  37.949896  0.008127  37.941769  23.373359       1.0       5.416174   \n",
      "20  36.616676  0.008548  36.608128  24.790325       1.0       5.183675   \n",
      "21  34.415878  0.010642  34.405236  18.459089       1.0       4.589605   \n",
      "22  38.120342  0.006903  38.113438  21.082567       1.0       3.880001   \n",
      "23  38.255408  0.007358  38.248050  20.819651       1.0       4.050963   \n",
      "24  35.381834  0.008871  35.372964  17.605967       1.0       4.520852   \n",
      "25  33.389612  0.011586  33.378026  13.336235       1.0       4.494483   \n",
      "26  40.077681  0.005349  40.072332  32.371222       1.0       4.590764   \n",
      "\n",
      "      dd_term  mois_term  snowc_term  \n",
      "0   30.261791   0.876923         1.0  \n",
      "1   29.133495   0.875711         1.0  \n",
      "2   25.494948   0.878576         1.0  \n",
      "3   26.577754   0.947028         1.0  \n",
      "4   29.412110   0.886628         1.0  \n",
      "5   28.665159   0.894502         1.0  \n",
      "6   28.351017   0.926030         1.0  \n",
      "7   34.194346   0.899504         1.0  \n",
      "8   33.277369   0.921493         1.0  \n",
      "9   34.009916   0.966552         1.0  \n",
      "10  31.095223   0.934551         1.0  \n",
      "11  34.186318   0.943059         1.0  \n",
      "12  27.500657   0.935106         1.0  \n",
      "13  31.470629   0.941430         1.0  \n",
      "14  33.843946   0.952845         1.0  \n",
      "15  31.794665   0.968378         1.0  \n",
      "16  35.396020   0.949891         1.0  \n",
      "17  30.294800   0.925722         1.0  \n",
      "18  31.297971   0.944115         1.0  \n",
      "19  29.050686   0.930590         1.0  \n",
      "20  27.660834   0.951950         1.0  \n",
      "21  23.759820   0.944872         1.0  \n",
      "22  30.819532   0.968809         1.0  \n",
      "23  30.015546   0.967519         1.0  \n",
      "24  26.375421   0.933085         1.0  \n",
      "25  21.985365   0.924791         1.0  \n",
      "26  34.910507   0.993342         1.0  \n",
      "\n",
      "[27 rows x 23 columns]\n",
      "/data2/lthapa/ML_daily/fire_polygons/east_troublesome_VIIRS_daily_12Z_day_start.geojson\n",
      "epsg:3347\n",
      "0:00:44.494213\n",
      "2020-10-13\n"
     ]
    },
    {
     "name": "stderr",
     "output_type": "stream",
     "text": [
      "/home/lthapa/anaconda3/envs/ML_py/lib/python3.7/site-packages/numpy/core/_methods.py:179: RuntimeWarning: invalid value encountered in reduce\n",
      "  ret = umr_sum(arr, axis, dtype, out, keepdims, where=where)\n"
     ]
    },
    {
     "name": "stdout",
     "output_type": "stream",
     "text": [
      "2020-10-14\n"
     ]
    },
    {
     "name": "stderr",
     "output_type": "stream",
     "text": [
      "/home/lthapa/anaconda3/envs/ML_py/lib/python3.7/site-packages/numpy/core/_methods.py:179: RuntimeWarning: invalid value encountered in reduce\n",
      "  ret = umr_sum(arr, axis, dtype, out, keepdims, where=where)\n",
      "/home/lthapa/anaconda3/envs/ML_py/lib/python3.7/site-packages/numpy/core/_methods.py:179: RuntimeWarning: invalid value encountered in reduce\n",
      "  ret = umr_sum(arr, axis, dtype, out, keepdims, where=where)\n"
     ]
    },
    {
     "name": "stdout",
     "output_type": "stream",
     "text": [
      "2020-10-15\n",
      "2020-10-16\n"
     ]
    },
    {
     "name": "stderr",
     "output_type": "stream",
     "text": [
      "/home/lthapa/anaconda3/envs/ML_py/lib/python3.7/site-packages/numpy/core/_methods.py:179: RuntimeWarning: invalid value encountered in reduce\n",
      "  ret = umr_sum(arr, axis, dtype, out, keepdims, where=where)\n"
     ]
    },
    {
     "name": "stdout",
     "output_type": "stream",
     "text": [
      "2020-10-17\n"
     ]
    },
    {
     "name": "stderr",
     "output_type": "stream",
     "text": [
      "/home/lthapa/anaconda3/envs/ML_py/lib/python3.7/site-packages/numpy/core/_methods.py:179: RuntimeWarning: invalid value encountered in reduce\n",
      "  ret = umr_sum(arr, axis, dtype, out, keepdims, where=where)\n",
      "/home/lthapa/anaconda3/envs/ML_py/lib/python3.7/site-packages/numpy/core/_methods.py:179: RuntimeWarning: invalid value encountered in reduce\n",
      "  ret = umr_sum(arr, axis, dtype, out, keepdims, where=where)\n"
     ]
    },
    {
     "name": "stdout",
     "output_type": "stream",
     "text": [
      "2020-10-18\n"
     ]
    },
    {
     "name": "stderr",
     "output_type": "stream",
     "text": [
      "/home/lthapa/anaconda3/envs/ML_py/lib/python3.7/site-packages/numpy/core/_methods.py:179: RuntimeWarning: invalid value encountered in reduce\n",
      "  ret = umr_sum(arr, axis, dtype, out, keepdims, where=where)\n",
      "/home/lthapa/anaconda3/envs/ML_py/lib/python3.7/site-packages/numpy/core/_methods.py:179: RuntimeWarning: invalid value encountered in reduce\n",
      "  ret = umr_sum(arr, axis, dtype, out, keepdims, where=where)\n"
     ]
    },
    {
     "name": "stdout",
     "output_type": "stream",
     "text": [
      "2020-10-19\n"
     ]
    },
    {
     "name": "stderr",
     "output_type": "stream",
     "text": [
      "/home/lthapa/anaconda3/envs/ML_py/lib/python3.7/site-packages/numpy/core/_methods.py:179: RuntimeWarning: invalid value encountered in reduce\n",
      "  ret = umr_sum(arr, axis, dtype, out, keepdims, where=where)\n",
      "/home/lthapa/anaconda3/envs/ML_py/lib/python3.7/site-packages/numpy/core/_methods.py:179: RuntimeWarning: invalid value encountered in reduce\n",
      "  ret = umr_sum(arr, axis, dtype, out, keepdims, where=where)\n",
      "/home/lthapa/anaconda3/envs/ML_py/lib/python3.7/site-packages/numpy/core/_methods.py:179: RuntimeWarning: invalid value encountered in reduce\n",
      "  ret = umr_sum(arr, axis, dtype, out, keepdims, where=where)\n"
     ]
    },
    {
     "name": "stdout",
     "output_type": "stream",
     "text": [
      "2020-10-20\n"
     ]
    },
    {
     "name": "stderr",
     "output_type": "stream",
     "text": [
      "/home/lthapa/anaconda3/envs/ML_py/lib/python3.7/site-packages/numpy/core/_methods.py:179: RuntimeWarning: invalid value encountered in reduce\n",
      "  ret = umr_sum(arr, axis, dtype, out, keepdims, where=where)\n",
      "/home/lthapa/anaconda3/envs/ML_py/lib/python3.7/site-packages/numpy/core/_methods.py:179: RuntimeWarning: invalid value encountered in reduce\n",
      "  ret = umr_sum(arr, axis, dtype, out, keepdims, where=where)\n",
      "/home/lthapa/anaconda3/envs/ML_py/lib/python3.7/site-packages/numpy/core/_methods.py:179: RuntimeWarning: invalid value encountered in reduce\n",
      "  ret = umr_sum(arr, axis, dtype, out, keepdims, where=where)\n"
     ]
    },
    {
     "name": "stdout",
     "output_type": "stream",
     "text": [
      "2020-10-21\n"
     ]
    },
    {
     "name": "stderr",
     "output_type": "stream",
     "text": [
      "/home/lthapa/anaconda3/envs/ML_py/lib/python3.7/site-packages/numpy/core/_methods.py:179: RuntimeWarning: invalid value encountered in reduce\n",
      "  ret = umr_sum(arr, axis, dtype, out, keepdims, where=where)\n",
      "/home/lthapa/anaconda3/envs/ML_py/lib/python3.7/site-packages/numpy/core/_methods.py:179: RuntimeWarning: invalid value encountered in reduce\n",
      "  ret = umr_sum(arr, axis, dtype, out, keepdims, where=where)\n",
      "/home/lthapa/anaconda3/envs/ML_py/lib/python3.7/site-packages/numpy/core/_methods.py:179: RuntimeWarning: invalid value encountered in reduce\n",
      "  ret = umr_sum(arr, axis, dtype, out, keepdims, where=where)\n"
     ]
    },
    {
     "name": "stdout",
     "output_type": "stream",
     "text": [
      "2020-10-22\n",
      "2020-10-23\n"
     ]
    },
    {
     "name": "stderr",
     "output_type": "stream",
     "text": [
      "/home/lthapa/anaconda3/envs/ML_py/lib/python3.7/site-packages/numpy/core/_methods.py:179: RuntimeWarning: invalid value encountered in reduce\n",
      "  ret = umr_sum(arr, axis, dtype, out, keepdims, where=where)\n",
      "/home/lthapa/anaconda3/envs/ML_py/lib/python3.7/site-packages/numpy/core/_methods.py:179: RuntimeWarning: invalid value encountered in reduce\n",
      "  ret = umr_sum(arr, axis, dtype, out, keepdims, where=where)\n"
     ]
    },
    {
     "name": "stdout",
     "output_type": "stream",
     "text": [
      "2020-10-24\n"
     ]
    },
    {
     "name": "stderr",
     "output_type": "stream",
     "text": [
      "/home/lthapa/anaconda3/envs/ML_py/lib/python3.7/site-packages/numpy/core/_methods.py:179: RuntimeWarning: invalid value encountered in reduce\n",
      "  ret = umr_sum(arr, axis, dtype, out, keepdims, where=where)\n"
     ]
    },
    {
     "name": "stdout",
     "output_type": "stream",
     "text": [
      "                    day      hd0w0      hd1w0      hd2w0       hd3w0  \\\n",
      "0   2020-10-13 12:00:00  59.103771  41.125455  32.605158   61.985213   \n",
      "1   2020-10-14 12:00:00  92.756672  86.171913  64.346002   50.971117   \n",
      "2   2020-10-15 12:00:00  40.326601  60.150498  72.127635   53.017792   \n",
      "3   2020-10-16 12:00:00  50.700065  35.499890  60.141548   72.348719   \n",
      "4   2020-10-17 12:00:00  70.599050  59.387689  39.914919   67.334616   \n",
      "5   2020-10-18 12:00:00  70.619748  61.923200  55.311665   37.143208   \n",
      "6   2020-10-19 12:00:00  64.684498  62.067125  59.741049   53.613023   \n",
      "7   2020-10-20 12:00:00  71.740442  67.302642  68.529926   65.928306   \n",
      "8   2020-10-21 12:00:00  72.141605  56.853987  57.939925   61.299551   \n",
      "9   2020-10-22 12:00:00  70.814017  65.163599  58.791150   59.387808   \n",
      "10  2020-10-23 12:00:00  34.218576  42.254604  56.954514   51.528087   \n",
      "11  2020-10-24 12:00:00  98.992411  71.428876  73.494458  117.569986   \n",
      "\n",
      "         hd4w0       hd5w0     temp_2m      q_2m  wind_speed  ...      soilm  \\\n",
      "0    58.737052   57.672018  282.799286  0.002790    4.402427  ...   5.053846   \n",
      "1    99.005324   91.098410  284.337484  0.003825    6.856527  ...   2.448559   \n",
      "2    40.998572   81.222436  274.190377  0.001933    6.024379  ...   4.986807   \n",
      "3    52.665582   41.182523  276.504565  0.002153    6.159971  ...   7.844234   \n",
      "4    79.436937   59.723886  280.467279  0.003283    6.760751  ...   7.161110   \n",
      "5    62.382967   75.639889  280.723766  0.002792    6.631056  ...   7.864469   \n",
      "6    35.455851   60.942339  280.875339  0.003078    5.966972  ...   7.426561   \n",
      "7    58.907866   38.946798  281.330754  0.003411    6.370234  ...   8.261335   \n",
      "8    58.059590   53.114461  281.380209  0.003046    6.252962  ...   9.917067   \n",
      "9    63.742824   61.429906  281.529804  0.002390    6.080240  ...   5.805306   \n",
      "10   52.070209   52.707525  270.401440  0.001816    7.014804  ...  22.772663   \n",
      "11  101.664000  108.292800  277.307972  0.002870   11.903170  ...  21.639518   \n",
      "\n",
      "      esat_2m      e_2m     vpd_2m        hwp  veg_term  gust_max_term  \\\n",
      "0   13.430189  0.004919  13.425269  30.947552       1.0       7.724235   \n",
      "1   13.585629  0.006801  13.578827  50.659960       1.0      14.258338   \n",
      "2    6.747894  0.003303   6.744591  32.995312       1.0      11.959580   \n",
      "3    8.283614  0.003722   8.279891  25.178403       1.0      11.016975   \n",
      "4   10.486367  0.005744  10.480622  36.907637       1.0      14.887804   \n",
      "5   10.702774  0.004892  10.697882  31.289037       1.0      12.979873   \n",
      "6   10.868287  0.005388  10.862899  24.801183       1.0       9.880126   \n",
      "7   11.271433  0.005987  11.265447  25.308687       1.0      11.274827   \n",
      "8   11.664803  0.005330  11.659473  31.947244       1.0      11.583198   \n",
      "9   11.595263  0.004194  11.591069  40.050228       1.0      10.208664   \n",
      "10   5.239461  0.003062   5.236400   9.481638       1.0      10.941793   \n",
      "11   8.358944  0.004968   8.353976  19.512548       1.0      20.810258   \n",
      "\n",
      "      dd_term  mois_term  snowc_term  \n",
      "0   20.181576   0.949462         1.0  \n",
      "1   15.951187   0.975514         1.0  \n",
      "2   15.864253   0.950132         1.0  \n",
      "3   16.667535   0.921558         1.0  \n",
      "4   16.168788   0.928389         1.0  \n",
      "5   16.869929   0.921355         1.0  \n",
      "6   17.348932   0.925734         1.0  \n",
      "7   16.634560   0.917387         1.0  \n",
      "8   19.427346   0.900829         1.0  \n",
      "9   19.645405   0.941947         1.0  \n",
      "10  15.826004   0.772273         1.0  \n",
      "11  15.269337   0.783605         1.0  \n",
      "\n",
      "[12 rows x 23 columns]\n"
     ]
    }
   ],
   "source": [
    "#all fires\n",
    "#fire_incidents = ['BOBCAT', 'DOLAN', 'HOLIDAY FARM','CREEK', 'LAKE', 'CAMERON PEAK', 'PINE GULCH', 'WILLIAMS FLATS', 'SHADY','PEDRO MOUNTAIN', 'WALKER', '204 COW']\n",
    "\n",
    "#2020 fires\n",
    "#fire_incidents = ['AUGUST COMPLEX','BOBCAT', 'DOLAN', 'HOLIDAY FARM','CREEK', 'LAKE', \n",
    "#                 'CAMERON PEAK', 'PINE GULCH','EAST TROUBLESOME']\n",
    "fire_incidents = ['AUGUST COMPLEX', 'BOBCAT','DOLAN', 'HOLIDAY FARM','CREEK', 'CAMERON PEAK', 'PINE GULCH','EAST TROUBLESOME']\n",
    "#fire_incidents=['BOBCAT', 'DOLAN', 'HOLIDAY FARM','CREEK', 'LAKE', 'CAMERON PEAK', 'PINE GULCH']\n",
    "#fire_incidents = ['LAKE']\n",
    "#fire_incidents = ['AUGUST COMPLEX', 'CREEK', 'DOLAN','LAKE']\n",
    "\n",
    "\n",
    "path_poly = '/data2/lthapa/ML_daily/fire_polygons/'\n",
    "suffix_poly = 'Z_day_start.geojson'\n",
    "start_time=12\n",
    "for jj in range(len(fire_incidents)):\n",
    "    fire_name = fire_incidents[jj].lower().replace(' ','_')\n",
    "    print(path_poly+fire_name+'_VIIRS_daily_'+str(start_time)+suffix_poly)\n",
    "    fire_daily = gpd.read_file(path_poly+fire_name+'_VIIRS_daily_'+str(start_time)+suffix_poly)\n",
    "    print(fire_daily.crs)\n",
    "    fire_daily=fire_daily.drop(columns=['Current Overpass'])\n",
    "    fire_daily = fire_daily.drop(np.where(fire_daily['geometry']==None)[0])\n",
    "    fire_daily['fire area (ha)'] = fire_daily['geometry'].area/10000 #hectares. from m2\n",
    "    fire_daily.set_geometry(col='geometry', inplace=True) #designate the geometry column\n",
    "    fire_daily = fire_daily.rename(columns={'Current Day':'UTC Day', 'Local Day': str(start_time)+ 'Z Start Day'})\n",
    "    \n",
    "    fire_daily = fire_daily.iloc[np.array(fire_daily['UTC Day'].values,dtype='datetime64')<=np.datetime64('2020-10-31'),:]\n",
    "    \n",
    "    #SLOPE\n",
    "    #slope = slope_timeseries_coarse(fire_daily,start_time)\n",
    "    #print(slope)\n",
    "    #slope.to_csv('./fire_features/'+fire_name+'_Daily_slope_990m_'+str(start_time)+'Z_day_start.csv') #daily averages\n",
    "    \n",
    "    #PWS\n",
    "    #pws = pws_timeseries(fire_daily,start_time)\n",
    "    #print(pws)\n",
    "    \n",
    "    #SMOPS\n",
    "    #smops = smops_timeseries(fire_daily, start_time)\n",
    "    #print(smops)\n",
    "    #smops.to_csv('./fire_features/'+fire_name+'_Daily_SMOPS_'+str(start_time)+'Z_day_start.csv') #daily averages\n",
    "    \n",
    "    #NCAR moisture\n",
    "    #ncar = ncar_timeseries(fire_daily, start_time)\n",
    "    #print(ncar)\n",
    "    #ncar.to_csv('./fire_features/'+fire_name+'_Daily_NCAR_Moisture_'+str(start_time)+'Z_day_start.csv') #daily averages\n",
    "    \n",
    "    #HRRR-derived continuous Haines Index\n",
    "    #chi = hrrr_timeseries_chi(fire_daily,start_time)\n",
    "    #print(chi)\n",
    "    #chi.to_csv('./fire_features/'+fire_name+'_Daily_CHI_'+str(start_time)+'Z_day_start.csv') #daily averages\n",
    "    \n",
    "    #HRRR-2\n",
    "    hrrr2 = hrrr_timeseries_hdw2(fire_daily,start_time)\n",
    "    print(hrrr2)\n",
    "    hrrr2.to_csv('./fire_features/'+fire_name+'_Daily_HRRR_HDW2_'+str(start_time)+'Z_day_start.csv') #daily averages\n"
   ]
  },
  {
   "cell_type": "code",
   "execution_count": 11,
   "id": "edd7f476",
   "metadata": {
    "code_folding": [
     0
    ],
    "collapsed": true
   },
   "outputs": [
    {
     "name": "stdout",
     "output_type": "stream",
     "text": [
      "           day  Extreme_N  VeryHigh_N     High_N  Moderate_N     Low_N\n",
      "0   2020-09-05   3.802369    2.954377   2.257590    1.512732  0.831968\n",
      "1   2020-09-06  10.520819    8.409648   6.452405    3.214916  1.684422\n",
      "2   2020-09-07  14.703652   11.673446   9.004202    4.428434  2.394698\n",
      "3   2020-09-08  15.215874   12.047310   9.238419    5.073312  2.716493\n",
      "4   2020-09-09  15.961910   12.661959   9.780726    4.744564  2.581641\n",
      "5   2020-09-10  19.559030   15.242757  11.910685    5.787808  3.386004\n",
      "6   2020-09-11  17.272519   13.492138  10.478735    5.450689  3.108834\n",
      "7   2020-09-12  16.116388   12.540743   9.745848    5.209715  2.995232\n",
      "8   2020-09-13  17.089573   13.395030  10.437410    4.996910  2.866916\n",
      "9   2020-09-14  12.358782    9.672784   7.535705    3.671983  2.110451\n",
      "10  2020-09-15  17.698871   13.698900  10.771029    5.097207  3.084654\n",
      "11  2020-09-16  25.273094   19.225274  15.258541    7.460044  4.770565\n",
      "12  2020-09-17  18.288434   14.140546  11.046520    5.820753  3.437307\n",
      "13  2020-09-18  13.640467   10.660213   8.159086    5.128228  2.803677\n",
      "14  2020-09-19  12.469733    9.784448   7.476233    4.644462  2.510767\n",
      "15  2020-09-20   9.460750    7.351032   5.682219    3.308779  1.874842\n",
      "16  2020-09-21  12.739236    9.944386   7.758571    3.796486  2.202760\n",
      "17  2020-09-22  12.683824    9.956584   7.739497    3.788163  2.149157\n",
      "18  2020-09-23  13.626905   10.605772   8.311934    3.908720  2.318007\n",
      "19  2020-09-24  11.558449    9.091690   7.040428    3.575730  1.995614\n",
      "20  2020-09-25   9.935045    7.800486   6.025832    3.225280  1.792593\n",
      "21  2020-09-26   7.077823    5.503516   4.282608    2.262243  1.307821\n",
      "22  2020-09-27   9.796344    7.626519   5.957707    2.938123  1.719568\n",
      "23  2020-09-28   7.447319    5.715519   4.481774    2.400580  1.449317\n",
      "24  2020-09-29   7.954545    6.254390   4.849178    2.428173  1.361558\n",
      "25  2020-09-30   8.891724    6.971137   5.419401    2.681638  1.525245\n",
      "26  2020-10-01   9.723770    7.577848   5.923530    2.862297  1.676951\n",
      "27  2020-10-02  10.260380    8.117441   6.293687    2.960216  1.639700\n",
      "28  2020-10-03  12.070115    9.589933   7.431146    3.372191  1.846792\n",
      "29  2020-10-04   8.738155    6.764976   5.291868    2.701339  1.600705\n",
      "30  2020-10-05   1.335493    1.055052   0.808936    0.454033  0.244179\n",
      "31  2020-10-10   1.338407    1.057380   0.810750    0.454733  0.244565\n",
      "32  2020-10-15   1.335493    1.055052   0.808936    0.454033  0.244179\n",
      "33  2020-10-16  17.761815   14.381625  11.000880    5.042535  2.520990\n",
      "34  2020-10-25   1.335493    1.055052   0.808936    0.454033  0.244179\n",
      "35  2020-10-26   9.291562    7.123221   5.600379    2.918476  1.781988\n",
      "36  2020-10-27   8.791853    6.681296   5.274879    2.813998  1.759069\n",
      "37  2020-10-29   1.335493    1.055052   0.808936    0.454033  0.244179\n"
     ]
    }
   ],
   "source": [
    "# the  rest\n",
    "fire_fuel_fwi_intersection=gpd.GeoDataFrame(pd.concat(fuel_fwi_intersections, ignore_index=True))\n",
    "fire_fuel_fwi_intersection = fire_fuel_fwi_intersection.drop(columns='geometry')\n",
    "fire_fuel_fwi_intersection = fire_fuel_fwi_intersection.set_index(['12Z Start Day','row', 'col'])\n",
    "fire_fuel_fwi_intersection_xr = fire_fuel_fwi_intersection.to_xarray()\n",
    "\n",
    "#path_fuel_fwi = '/data2/lthapa/ML_daily/bobcat_fuel_fwi.nc'\n",
    "#path_fuel_fwi = '/data2/lthapa/ML_daily/bobcat_fuel_fwi_360m.nc'\n",
    "path_fuel_fwi = '/data2/lthapa/ML_daily/bobcat_fuel_fwi_990m.nc'\n",
    "dat_fuel_fwi = xr.open_dataset(path_fuel_fwi) #map is fixed in time\n",
    "dat_fuel_fwi_daily = dat_fuel_fwi.expand_dims({'time': pd.to_datetime(fire_fuel_fwi_intersection_xr['12Z Start Day'].values)}) #the PWS expanded over all the days\n",
    "\n",
    "dat_fuel_fwi_sub_daily = dat_fuel_fwi_daily.sel(row = fire_fuel_fwi_intersection_xr['row'].values, \n",
    "                                    col = fire_fuel_fwi_intersection_xr['col'].values, method='nearest')\n",
    "#preallocate space for the output\n",
    "varis = ['day','Extreme_N', 'VeryHigh_N','High_N', 'Moderate_N', 'Low_N']\n",
    "df_loading = generate_df(varis, len(fire_daily))\n",
    "    \n",
    "df_loading['day'] = fire_daily['12Z Start Day'].values\n",
    "for var in varis[1:len(varis)]:\n",
    "    df_loading[var] = np.nansum(fire_fuel_fwi_intersection_xr['weights'].values*dat_fuel_fwi_sub_daily[var].values, axis=(1,2))\n",
    "\n",
    "print(df_loading)\n",
    "\n",
    "df_loading.to_csv('bobcat_Daily_COARSE990_FUEL_FWI_12Z_day_start.csv')"
   ]
  },
  {
   "cell_type": "code",
   "execution_count": 11,
   "id": "03291ff2",
   "metadata": {
    "code_folding": [
     0
    ],
    "collapsed": true
   },
   "outputs": [
    {
     "name": "stdout",
     "output_type": "stream",
     "text": [
      "           day  Extreme_N  VeryHigh_N     High_N  Moderate_N     Low_N\n",
      "0   2020-09-05   3.802369    2.954377   2.257590    1.512732  0.831968\n",
      "1   2020-09-06  10.520819    8.409648   6.452405    3.214916  1.684422\n",
      "2   2020-09-07  14.703652   11.673446   9.004202    4.428434  2.394698\n",
      "3   2020-09-08  15.215874   12.047310   9.238419    5.073312  2.716493\n",
      "4   2020-09-09  15.961910   12.661959   9.780726    4.744564  2.581641\n",
      "5   2020-09-10  19.559030   15.242757  11.910685    5.787808  3.386004\n",
      "6   2020-09-11  17.272519   13.492138  10.478735    5.450689  3.108834\n",
      "7   2020-09-12  16.116388   12.540743   9.745848    5.209715  2.995232\n",
      "8   2020-09-13  17.089573   13.395030  10.437410    4.996910  2.866916\n",
      "9   2020-09-14  12.358782    9.672784   7.535705    3.671983  2.110451\n",
      "10  2020-09-15  17.698871   13.698900  10.771029    5.097207  3.084654\n",
      "11  2020-09-16  25.273094   19.225274  15.258541    7.460044  4.770565\n",
      "12  2020-09-17  18.288434   14.140546  11.046520    5.820753  3.437307\n",
      "13  2020-09-18  13.640467   10.660213   8.159086    5.128228  2.803677\n",
      "14  2020-09-19  12.469733    9.784448   7.476233    4.644462  2.510767\n",
      "15  2020-09-20   9.460750    7.351032   5.682219    3.308779  1.874842\n",
      "16  2020-09-21  12.739236    9.944386   7.758571    3.796486  2.202760\n",
      "17  2020-09-22  12.683824    9.956584   7.739497    3.788163  2.149157\n",
      "18  2020-09-23  13.626905   10.605772   8.311934    3.908720  2.318007\n",
      "19  2020-09-24  11.558449    9.091690   7.040428    3.575730  1.995614\n",
      "20  2020-09-25   9.935045    7.800486   6.025832    3.225280  1.792593\n",
      "21  2020-09-26   7.077823    5.503516   4.282608    2.262243  1.307821\n",
      "22  2020-09-27   9.796344    7.626519   5.957707    2.938123  1.719568\n",
      "23  2020-09-28   7.447319    5.715519   4.481774    2.400580  1.449317\n",
      "24  2020-09-29   7.954545    6.254390   4.849178    2.428173  1.361558\n",
      "25  2020-09-30   8.891724    6.971137   5.419401    2.681638  1.525245\n",
      "26  2020-10-01   9.723770    7.577848   5.923530    2.862297  1.676951\n",
      "27  2020-10-02  10.260380    8.117441   6.293687    2.960216  1.639700\n",
      "28  2020-10-03  12.070115    9.589933   7.431146    3.372191  1.846792\n",
      "29  2020-10-04   8.738155    6.764976   5.291868    2.701339  1.600705\n",
      "30  2020-10-05   1.335493    1.055052   0.808936    0.454033  0.244179\n",
      "31  2020-10-10   1.338407    1.057380   0.810750    0.454733  0.244565\n",
      "32  2020-10-15   1.335493    1.055052   0.808936    0.454033  0.244179\n",
      "33  2020-10-16  17.761815   14.381625  11.000880    5.042535  2.520990\n",
      "34  2020-10-25   1.335493    1.055052   0.808936    0.454033  0.244179\n",
      "35  2020-10-26   9.291562    7.123221   5.600379    2.918476  1.781988\n",
      "36  2020-10-27   8.791853    6.681296   5.274879    2.813998  1.759069\n",
      "37  2020-10-29   1.335493    1.055052   0.808936    0.454033  0.244179\n"
     ]
    }
   ],
   "source": [
    "# the  rest\n",
    "fire_fuel_fwi_intersection=gpd.GeoDataFrame(pd.concat(fuel_fwi_intersections, ignore_index=True))\n",
    "fire_fuel_fwi_intersection = fire_fuel_fwi_intersection.drop(columns='geometry')\n",
    "fire_fuel_fwi_intersection = fire_fuel_fwi_intersection.set_index(['12Z Start Day','row', 'col'])\n",
    "fire_fuel_fwi_intersection_xr = fire_fuel_fwi_intersection.to_xarray()\n",
    "\n",
    "#path_fuel_fwi = '/data2/lthapa/ML_daily/bobcat_fuel_fwi.nc'\n",
    "#path_fuel_fwi = '/data2/lthapa/ML_daily/bobcat_fuel_fwi_360m.nc'\n",
    "path_fuel_fwi = '/data2/lthapa/ML_daily/bobcat_fuel_fwi_990m.nc'\n",
    "dat_fuel_fwi = xr.open_dataset(path_fuel_fwi) #map is fixed in time\n",
    "dat_fuel_fwi_daily = dat_fuel_fwi.expand_dims({'time': pd.to_datetime(fire_fuel_fwi_intersection_xr['12Z Start Day'].values)}) #the PWS expanded over all the days\n",
    "\n",
    "dat_fuel_fwi_sub_daily = dat_fuel_fwi_daily.sel(row = fire_fuel_fwi_intersection_xr['row'].values, \n",
    "                                    col = fire_fuel_fwi_intersection_xr['col'].values, method='nearest')\n",
    "#preallocate space for the output\n",
    "varis = ['day','Extreme_N', 'VeryHigh_N','High_N', 'Moderate_N', 'Low_N']\n",
    "df_loading = generate_df(varis, len(fire_daily))\n",
    "    \n",
    "df_loading['day'] = fire_daily['12Z Start Day'].values\n",
    "for var in varis[1:len(varis)]:\n",
    "    df_loading[var] = np.nansum(fire_fuel_fwi_intersection_xr['weights'].values*dat_fuel_fwi_sub_daily[var].values, axis=(1,2))\n",
    "\n",
    "print(df_loading)\n",
    "\n",
    "df_loading.to_csv('bobcat_Daily_COARSE990_FUEL_FWI_12Z_day_start.csv')"
   ]
  },
  {
   "cell_type": "code",
   "execution_count": null,
   "id": "9cc65cab",
   "metadata": {
    "code_folding": [
     0
    ]
   },
   "outputs": [],
   "source": [
    "# process features using the Chen polygons\n",
    "#2020 fires\n",
    "#fire_incidents = ['LAKE', 'DOLAN','BOBCAT','AUGUST COMPLEX', 'CREEK']\n",
    "fire_incidents = ['LAKE']\n",
    "\n",
    "start_time=12\n",
    "path_poly = '/data2/lthapa/ML_daily/fire_polygons/'\n",
    "suffix_poly = '_Chen_Poly_Perim_Perp.csv'\n",
    "\n",
    "for jj in range(len(fire_incidents)):\n",
    "    fire_name = fire_incidents[jj].lower().replace(' ','_')\n",
    "    #print(path_poly+fire_name+suffix_poly)\n",
    "    fire = pd.read_csv(path_poly+fire_name+suffix_poly)\n",
    "    fire=fire.dropna()\n",
    "    \n",
    "    for c in ['perimeter','polygon','fireline_split','fireline_perpindicular']:\n",
    "        fire[c] = fire[c].apply(shapely.wkt.loads) #read in the polygons as shapes\n",
    "    fire['time'] = fire['time'].astype('datetime64')\n",
    "\n",
    "    \n",
    "    #get the polygon dataframe set up\n",
    "    fire_poly = gpd.GeoDataFrame(fire[['time','polygon']],geometry='polygon')\n",
    "    fire_poly[str(start_time)+ 'Z Start Day'] = (pd.to_datetime(fire_poly['time'].values)-datetime.timedelta(hours=12)).strftime('%Y-%m-%d')\n",
    "\n",
    "    fire_poly['polygon'] = fire_poly['polygon'].buffer(0.001763092448) #need to buffer because we saved the points, which have no area\n",
    "    fire_poly = fire_poly.set_crs('EPSG:4326') #set the CRS to lat/lon\n",
    "    fire_poly = fire_poly.to_crs('EPSG:3347') #transform to LCC\n",
    "\n",
    "    #dissolve to check daily\n",
    "    #fire_poly = fire_poly.dissolve(by='12Z Start Day').reset_index()\n",
    "\n",
    "    fire_poly['UTC Day'] = (pd.to_datetime(fire_poly['time'].values)).strftime('%Y-%m-%d')\n",
    "    fire_poly['fire area (ha)'] = fire_poly['polygon'].area/10000 #hectares. from m2\n",
    "\n",
    "    #print(fire_poly)\n",
    "    \n",
    "    #merra\n",
    "    #me = merra_timeseries(fire_poly, start_time)\n",
    "    #print(me)\n",
    "    #me.to_csv('./fire_features/'+fire_name+'_Daily_MERRA_'+str(start_time)+'Z_day_start_Chen.csv') #daily averages\n",
    "    \n",
    "    #hrrr with average wind\n",
    "    #hrrr = hrrr_timeseries_sub_daily(fire_poly,start_time,12)\n",
    "    #print(hrrr)\n",
    "        \n",
    "    #get the perpindicular lines set up\n",
    "    fire_split = gpd.GeoDataFrame(fire[['time','fireline_split']],geometry='fireline_split')\n",
    "    fire_split[str(start_time)+ 'Z Start Day'] = (pd.to_datetime(fire_split['time'].values)-datetime.timedelta(hours=12)).strftime('%Y-%m-%d')\n",
    "    fire_split = fire_split.iloc[np.array(fire_poly['UTC Day'].values,dtype='datetime64')<=np.datetime64('2020-10-31'),:]\n",
    " \n",
    "    #print(fire_perp)\n",
    "    #print(fire_poly)\n",
    "    fire_perim  = gpd.GeoDataFrame(fire[['time','perimeter']],geometry='perimeter')\n",
    "    fire_perim = fire_perim.iloc[np.array(fire_poly['UTC Day'].values,dtype='datetime64')<=np.datetime64('2020-10-31'),:]\n",
    "    \n",
    "    fire_poly = fire_poly.iloc[np.array(fire_poly['UTC Day'].values,dtype='datetime64')<=np.datetime64('2020-10-31'),:]\n",
    "\n",
    "    #HRRR Directional Test\n",
    "    #hrrr_directional_test = hrrr_directional_hdw_test(fire_split,fire_poly,fire_perim,start_time, 12)\n",
    "    #print(hrrr_directional_test)\n",
    "    #hrrr_directional_test.to_csv('./fire_features/'+fire_name+'_SubDaily_HRRR_Directional_'+str(start_time)+'Z_day_start_Chen.csv') #daily averages\n",
    "\n",
    "    #rave daily\n",
    "    #fire_poly_dissolved = fire_poly.dissolve(by=str(start_time)+'Z Start Day').reset_index()\n",
    "    #print(fire_poly_dissolved[str(start_time)+'Z Start Day'].values+'T'+str(start_time)+'00:00')\n",
    "    #fire_poly_dissolved.loc[:,'time'] = [fire_poly_dissolved[str(start_time)+'Z Start Day'].values[kk]+\n",
    "    #                                     'T'+str(start_time)+':00:00' \n",
    "    #                                    for kk in range(len(fire_poly_dissolved))]\n",
    "    #print(rave_timeseries(fire_poly_dissolved,12, 24))\n",
    "    \n",
    "    #rave_subdaily\n",
    "    #print(fire_poly)\n",
    "    #rave_subdaily = rave_timeseries(fire_poly,12, 12)\n",
    "    #print(rave_subdaily)\n",
    "    #rave_subdaily.to_csv('./fire_features/'+fire_name+'_SubDaily_RAVE_'+str(start_time)+'Z_day_start_Chen.csv') #daily averages\n",
    "\n",
    "    #HRRR Directional HOURLY\n",
    "    hrrr_hourly = hrrr_directional_hourly(fire_split,fire_poly,fire_perim,start_time, 12)\n",
    "    print(hrrr_hourly)\n",
    "    hrrr_hourly.to_csv('./fire_features/'+fire_name+'_Hourly_HRRR_Directional_Daily_'+str(start_time)+'Z_day_start_Chen.csv') #daily averages"
   ]
  },
  {
   "cell_type": "code",
   "execution_count": null,
   "id": "27e6edef",
   "metadata": {},
   "outputs": [],
   "source": [
    "print(hrrr_hourly.columns)\n",
    "hrrr_hourly.to_csv('./fire_features/'+fire_name+'_Hourly_HRRR_Directional_Daily_'+str(start_time)+'Z_day_start_Chen.csv') #daily averages"
   ]
  },
  {
   "cell_type": "code",
   "execution_count": null,
   "id": "e951a81f",
   "metadata": {},
   "outputs": [],
   "source": [
    "pd.read_csv('FWI_Category_Fuel_Loadings.csv')"
   ]
  },
  {
   "cell_type": "markdown",
   "id": "62f19247",
   "metadata": {},
   "source": [
    "## Dataset-Dependent Helper Functions"
   ]
  },
  {
   "cell_type": "markdown",
   "id": "c73bbd03",
   "metadata": {
    "heading_collapsed": true
   },
   "source": [
    "### NCAR Moisture Data"
   ]
  },
  {
   "cell_type": "code",
   "execution_count": 27,
   "id": "c526e052",
   "metadata": {
    "code_folding": [],
    "hidden": true
   },
   "outputs": [],
   "source": [
    "def ncar_timeseries(df, day_start_hour):\n",
    "    varis_ncar = ['day','FMCG2D','FMCGLH2D']\n",
    "    df_ncar = generate_df(varis_ncar, len(df))\n",
    "    #do the intersection, in parallel\n",
    "    ncar_intersections = Parallel(n_jobs=8)(delayed(calculate_intersection)\n",
    "                                 (df.iloc[ii:ii+1],'NCAR_MOISTURE_GRID',0.5) \n",
    "                                 for ii in range(len(df)))\n",
    "    #print([ncar_intersections[jj]['weights'].sum() for jj in range(len(ncar_intersections))])\n",
    "\n",
    "    \n",
    "    fire_ncar_intersection=gpd.GeoDataFrame(pd.concat(ncar_intersections, ignore_index=True))\n",
    "    fire_ncar_intersection.set_geometry(col='geometry')  \n",
    "    fire_ncar_intersection = fire_ncar_intersection.set_index([str(day_start_hour)+'Z Start Day', 'row', 'col'])\n",
    "    fire_ncar_intersection=fire_ncar_intersection[~fire_ncar_intersection.index.duplicated()]\n",
    "\n",
    "    fire_ncar_intersection_xr = fire_ncar_intersection.to_xarray()\n",
    "    #print(fire_ncar_intersection)\n",
    "    #load in rave data associated with the fire\n",
    "    times = pd.date_range(np.datetime64(df[str(day_start_hour)+ 'Z Start Day'].iloc[0]),\n",
    "                        np.datetime64(df[str(day_start_hour)+ 'Z Start Day'].iloc[len(df)-1])+\n",
    "                        np.timedelta64(1,'D'))\n",
    "    ncar_filenames,times_back_used = make_file_namelist(times,'/data2/lthapa/YYYY/FMC/fmc_YYYYMMDD_20Z.nc')\n",
    "\n",
    "    \n",
    "    dat_ncar = xr.open_mfdataset(ncar_filenames,concat_dim='Time',combine='nested',compat='override', coords='all')\n",
    "    dat_ncar = dat_ncar.assign_coords({'Time': times_back_used}) #assign coords so we can select in time\n",
    "    #print(dat_ncar)\n",
    "    \n",
    "    \n",
    "    #select the locations and times we want\n",
    "    dat_ncar_sub = dat_ncar.isel(south_north = fire_ncar_intersection_xr['row'].values.astype(int), \n",
    "                                 west_east = fire_ncar_intersection_xr['col'].values.astype(int)).sel(\n",
    "                                 Time = pd.to_datetime(fire_ncar_intersection_xr[str(day_start_hour)+'Z Start Day'].values))#these should be lined up correctly\n",
    "    \n",
    "    df_ncar['day'].iloc[:] = pd.to_datetime(fire_ncar_intersection_xr[str(day_start_hour)+'Z Start Day'].values)\n",
    "    for var in varis_ncar[1:]:\n",
    "        df_ncar[var] = np.nansum(fire_ncar_intersection_xr['weights'].values*dat_ncar_sub[var].values, axis=(1,2))\n",
    "        \n",
    "    df_ncar.iloc[df_ncar['day']=='2020-09-09'] = [pd.date_range(np.datetime64('2020-09-09'),np.datetime64('2020-09-09')+np.timedelta64(0,'D')),\n",
    "                                                           np.nan,np.nan]\n",
    "    return df_ncar"
   ]
  },
  {
   "cell_type": "markdown",
   "id": "7b55207f",
   "metadata": {
    "heading_collapsed": true
   },
   "source": [
    "### SMOPS Data"
   ]
  },
  {
   "cell_type": "code",
   "execution_count": 57,
   "id": "afe011fd",
   "metadata": {
    "hidden": true
   },
   "outputs": [],
   "source": [
    "def smops_timeseries(df, day_start_hour):\n",
    "    varis_smops = ['day','Blended_SM']\n",
    "    df_smops = generate_df(varis_smops, len(df))\n",
    "    #do the intersection, in parallel\n",
    "    smops_intersections = Parallel(n_jobs=8)(delayed(calculate_intersection)\n",
    "                                 (df.iloc[ii:ii+1],'SMOPS_GRID',0.5) \n",
    "                                 for ii in range(len(df)))\n",
    "    fire_smops_intersection=gpd.GeoDataFrame(pd.concat(smops_intersections, ignore_index=True))\n",
    "    fire_smops_intersection.set_geometry(col='geometry')  \n",
    "    fire_smops_intersection = fire_smops_intersection.set_index([str(day_start_hour)+'Z Start Day', 'row', 'col'])\n",
    "    fire_smops_intersection=fire_smops_intersection[~fire_smops_intersection.index.duplicated()]\n",
    "\n",
    "    fire_smops_intersection_xr = fire_smops_intersection.to_xarray()\n",
    "\n",
    "    #load in rave data associated with the fire\n",
    "    times = pd.date_range(np.datetime64(df[str(day_start_hour)+ 'Z Start Day'].iloc[0]),\n",
    "                        np.datetime64(df[str(day_start_hour)+ 'Z Start Day'].iloc[len(df)-1])+\n",
    "                        np.timedelta64(1,'D'))\n",
    "    smops_filenames,times_back_used = make_file_namelist(times,'/data2/lthapa/YYYY/SMOPS/NPR_SMOPS_CMAP_DYYYYMMDD.nc')\n",
    "\n",
    "    dat_smops = xr.open_mfdataset(smops_filenames,concat_dim='Time',combine='nested',compat='override', coords='all')\n",
    "    dat_smops = dat_smops.assign_coords({'Time': times_back_used}) #assign coords so we can select in time\n",
    "    print(dat_smops['Time'].values)\n",
    "    #select the locations and times we want\n",
    "    dat_smops_sub = dat_smops.isel(Latitude = fire_smops_intersection_xr['row'].values.astype(int), \n",
    "                    Longitude = fire_smops_intersection_xr['col'].values.astype(int)).sel(\n",
    "                    Time = pd.to_datetime(fire_smops_intersection_xr[str(day_start_hour)+'Z Start Day'].values))#these should be lined up correctly\n",
    "    \n",
    "    df_smops['day'].iloc[:] = pd.to_datetime(fire_smops_intersection_xr[str(day_start_hour)+'Z Start Day'].values)\n",
    "    for var in varis_smops[1:]:\n",
    "        df_smops[var] = np.nansum(fire_smops_intersection_xr['weights'].values*dat_smops_sub[var].values, axis=(1,2))\n",
    "    \n",
    "    return df_smops"
   ]
  },
  {
   "cell_type": "code",
   "execution_count": null,
   "id": "0e899028",
   "metadata": {
    "hidden": true
   },
   "outputs": [],
   "source": []
  },
  {
   "cell_type": "markdown",
   "id": "edda3ea0",
   "metadata": {
    "heading_collapsed": true
   },
   "source": [
    "### Slope Data"
   ]
  },
  {
   "cell_type": "code",
   "execution_count": 59,
   "id": "b4c37916",
   "metadata": {
    "code_folding": [
     1
    ],
    "hidden": true
   },
   "outputs": [],
   "source": [
    "#do for the 30m one\n",
    "def slope_timeseries(df,day_start_hour):\n",
    "    #print(df)\n",
    "    tic = datetime.datetime.now()\n",
    "    slope_intersections = Parallel(n_jobs=12)(delayed(calculate_intersection)\n",
    "                                 (df.iloc[ii:ii+1],'BOBCAT_SLOPE_30M',0.05) \n",
    "                                 for ii in range(len(df)))\n",
    "    toc = datetime.datetime.now()\n",
    "    print(toc-tic)\n",
    "    #print([slope_intersections[jj]['weights'].sum() for jj in range(len(slope_intersections))])\n",
    "\n",
    "    \n",
    "    fire_slope_intersection=gpd.GeoDataFrame(pd.concat(slope_intersections, ignore_index=True))\n",
    "    print(len(fire_slope_intersection))\n",
    "    \n",
    "    #fire_fuel_fwi_intersection.set_geometry(col='geometry')\n",
    "    fire_slope_intersection = fire_slope_intersection.drop(columns='geometry')\n",
    "    fire_slope_intersection = fire_slope_intersection.set_index([str(day_start_hour)+ 'Z Start Day', 'row', 'col'])\n",
    "    fire_slope_intersection_xr = fire_slope_intersection.to_xarray()\n",
    "    toc = datetime.datetime.now()\n",
    "    #print(fire_slope_intersection_xr)\n",
    "\n",
    "    \n",
    "    #load in slope data associated with the fire (it's only one dataset)\n",
    "    \n",
    "    #open the slope file\n",
    "    path_slope = '/data2/lthapa/ML_daily/bobcat_slope_30m.nc'\n",
    "    dat_slope = xr.open_dataset(path_slope) #map is fixed in time\n",
    "    dat_slope = dat_slope.assign_coords({'time': pd.to_datetime(fire_slope_intersection_xr[str(day_start_hour)+ 'Z Start Day'].values)})\n",
    "    dat_slope_daily = dat_slope['slope'].expand_dims({'time': pd.to_datetime(fire_slope_intersection_xr[str(day_start_hour)+ 'Z Start Day'].values)}) #the PWS expanded over all the days\n",
    "\n",
    "    dat_slope_daily_sub = dat_slope_daily.sel(rows = fire_slope_intersection_xr['row'].values, \n",
    "                                              cols = fire_slope_intersection_xr['col'].values,\n",
    "                                              time = pd.to_datetime(fire_slope_intersection_xr[str(day_start_hour)+ 'Z Start Day'].values), method='nearest')\n",
    "\n",
    "    print(type(dat_slope_daily_sub))\n",
    "    ndays = len(fire_slope_intersection_xr[str(day_start_hour)+ 'Z Start Day'])\n",
    "    \n",
    "    #preallocate space for the output\n",
    "    varis = ['day','slope']\n",
    "    df_slope = generate_df(varis, len(df))\n",
    "    \n",
    "    df_slope['day'] = df['12Z Start Day'].values\n",
    "    df_slope['slope'] = np.nansum(fire_slope_intersection_xr['weights'].values*dat_slope_daily_sub.values, axis=(1,2))\n",
    "    return df_slope"
   ]
  },
  {
   "cell_type": "code",
   "execution_count": 15,
   "id": "b4bbd3a7",
   "metadata": {
    "hidden": true
   },
   "outputs": [],
   "source": [
    "#do for the coarsened one\n",
    "def slope_timeseries_coarse(df,day_start_hour):\n",
    "    #print(df)\n",
    "    tic = datetime.datetime.now()\n",
    "    slope_intersections = Parallel(n_jobs=12)(delayed(calculate_intersection)\n",
    "                                 (df.iloc[ii:ii+1],'BOBCAT_SLOPE_GRID_990M',0.05) \n",
    "                                 for ii in range(len(df)))\n",
    "    toc = datetime.datetime.now()\n",
    "    print(toc-tic)\n",
    "    #print([slope_intersections[jj]['weights'].sum() for jj in range(len(slope_intersections))])\n",
    "\n",
    "    \n",
    "    fire_slope_intersection=gpd.GeoDataFrame(pd.concat(slope_intersections, ignore_index=True))\n",
    "    print(len(fire_slope_intersection))\n",
    "    \n",
    "    #fire_fuel_fwi_intersection.set_geometry(col='geometry')\n",
    "    fire_slope_intersection = fire_slope_intersection.drop(columns='geometry')\n",
    "    fire_slope_intersection = fire_slope_intersection.set_index([str(day_start_hour)+ 'Z Start Day', 'row', 'col'])\n",
    "    fire_slope_intersection_xr = fire_slope_intersection.to_xarray()\n",
    "    toc = datetime.datetime.now()\n",
    "    #print(fire_slope_intersection_xr)\n",
    "\n",
    "    \n",
    "    #load in slope data associated with the fire (it's only one dataset)\n",
    "    \n",
    "    #open the slope file\n",
    "    path_slope = '/data2/lthapa/ML_daily/bobcat_slope_990m.nc'\n",
    "    dat_slope = xr.open_dataset(path_slope) #map is fixed in time\n",
    "    dat_slope = dat_slope.assign_coords({'time': pd.to_datetime(fire_slope_intersection_xr[str(day_start_hour)+ 'Z Start Day'].values)})\n",
    "    dat_slope_daily = dat_slope['mean_slope'].expand_dims({'time': pd.to_datetime(fire_slope_intersection_xr[str(day_start_hour)+ 'Z Start Day'].values)}) #the PWS expanded over all the days\n",
    "\n",
    "    dat_slope_daily_sub = dat_slope_daily.sel(row = fire_slope_intersection_xr['row'].values, \n",
    "                                              col = fire_slope_intersection_xr['col'].values,\n",
    "                                              time = pd.to_datetime(fire_slope_intersection_xr[str(day_start_hour)+ 'Z Start Day'].values), method='nearest')\n",
    "\n",
    "    print(type(dat_slope_daily_sub))\n",
    "    ndays = len(fire_slope_intersection_xr[str(day_start_hour)+ 'Z Start Day'])\n",
    "    \n",
    "    #preallocate space for the output\n",
    "    varis = ['day','mean_slope']\n",
    "    df_slope = generate_df(varis, len(df))\n",
    "    \n",
    "    df_slope['day'] = df['12Z Start Day'].values\n",
    "    df_slope['mean_slope'] = np.nansum(fire_slope_intersection_xr['weights'].values*dat_slope_daily_sub.values, axis=(1,2))\n",
    "    return df_slope"
   ]
  },
  {
   "cell_type": "markdown",
   "id": "347b5f7f",
   "metadata": {
    "heading_collapsed": true
   },
   "source": [
    "### Fuel Loading by FWI Class (30m data)"
   ]
  },
  {
   "cell_type": "code",
   "execution_count": null,
   "id": "2315d2bf",
   "metadata": {
    "hidden": true
   },
   "outputs": [],
   "source": [
    "def fuel_loading_fwi_timeseries(df,day_start_hour):\n",
    "    loadings = pd.read_csv('FWI_Category_Fuel_Loadings.csv').set_index('VALUE') #we will index by the fuel type!\n",
    "    \"\"\"for ii in range(len(df)):\n",
    "        print(ii)\n",
    "        today_poly = df.iloc[ii:ii+1] #get the first one, to test it\n",
    "        fire_fuel_intersection = calculate_loading_grid_intersection(today_poly,50, loadings)\n",
    "        print(fire_fuel_intersection)\"\"\"\n",
    "        \n",
    "        \n",
    "    tic = datetime.datetime.now()    \n",
    "    fuel_loadings = Parallel(n_jobs=4)(delayed(calculate_loading_grid_intersection)\n",
    "                                 (df.iloc[ii:ii+1],50, loadings) \n",
    "                                 for ii in range(len(df)))\n",
    "    #df_loadings=pd.DataFrame(fuel_loadings)\n",
    "    \n",
    "    toc = datetime.datetime.now()\n",
    "    print(toc-tic)\n",
    "    df_loadings = pd.concat(fuel_loadings)\n",
    "    return df_loadings"
   ]
  },
  {
   "cell_type": "code",
   "execution_count": null,
   "id": "f65bf0f6",
   "metadata": {
    "hidden": true
   },
   "outputs": [],
   "source": [
    "#poly is the polygon for one timestep (in lcc)\n",
    "#grid is an xarray of the subset of the grid\n",
    "#grid_names is a string array [0:'lat_center_name',1:'lon_center_name',2:'lat_corner_name',3:'lon_corner_name']\n",
    "\n",
    "def calculate_loading_grid_intersection(poly,bf, loadings):\n",
    "    #get the bounds of the buffered polygons\n",
    "    poly_latlon =poly.to_crs(epsg=5070)\n",
    "\n",
    "    bounds = poly_latlon.buffer(bf).bounds\n",
    "    #print(bounds)\n",
    "    \n",
    "    left = bounds['minx'].values\n",
    "    right = bounds['maxx'].values\n",
    "    bottom=bounds['miny'].values\n",
    "    top=bounds['maxy'].values\n",
    "    \n",
    "    print(left, bottom, top,right)\n",
    "    \n",
    "    #select the region of the fuels tiff file that's associated with the polygon\n",
    "    with rasterio.open('../FCCS_Fuel_Fire_Danger_Metric.tif') as src:\n",
    "        win = from_bounds(left,bottom,right,top, src.transform)\n",
    "        #print(win)\n",
    "        w_from_latlon = src.read(1, window=win)\n",
    "        w_flat = w_from_latlon.flatten()\n",
    "\n",
    "    #print(w_from_latlon)\n",
    "    #build the grid    \n",
    "    rows = np.arange(win.row_off,win.row_off+win.height-1)\n",
    "    cols = np.arange(win.col_off,win.col_off+win.width-1)\n",
    "    COLS,ROWS=np.meshgrid(cols,rows)\n",
    "    xs, ys = rasterio.transform.xy(src.transform, ROWS, COLS)\n",
    "    xs=np.array(xs)\n",
    "    ys=np.array(ys)\n",
    "    #print(xs.shape)\n",
    "    \n",
    "    xs_corner, ys_corner = calculate_grid_cell_corners(xs,ys)\n",
    "    \n",
    "    grid = build_grid_xarray(ys_corner, xs_corner, ys, xs)\n",
    "     \n",
    "    #add the loadings to the grid\n",
    "    loading_new_extreme = loadings.loc[w_flat,'Extreme_N'].values.reshape(w_from_latlon.shape)\n",
    "    loading_new_veryhigh = loadings.loc[w_flat,'VeryHigh_N'].values.reshape(w_from_latlon.shape)\n",
    "    loading_new_high = loadings.loc[w_flat,'High_N'].values.reshape(w_from_latlon.shape)\n",
    "    loading_new_moderate = loadings.loc[w_flat,'Moderate_N'].values.reshape(w_from_latlon.shape)\n",
    "    loading_new_low = loadings.loc[w_flat,'Low_N'].values.reshape(w_from_latlon.shape)\n",
    "    \n",
    "    grid['loading_new_extreme'] = xr.Variable(dims = ('rows_ctr','cols_ctr'),data=loading_new_extreme)\n",
    "    grid['loading_new_veryhigh'] = xr.Variable(dims = ('rows_ctr','cols_ctr'),data=loading_new_veryhigh)\n",
    "    grid['loading_new_high'] = xr.Variable(dims = ('rows_ctr','cols_ctr'),data=loading_new_high)\n",
    "    grid['loading_new_moderate'] = xr.Variable(dims = ('rows_ctr','cols_ctr'),data=loading_new_moderate)\n",
    "    grid['loading_new_low'] = xr.Variable(dims = ('rows_ctr','cols_ctr'),data=loading_new_low)\n",
    "\n",
    "    #print(grid)\n",
    "        \n",
    "    #get the locs, which are the INSIDE of the centers\n",
    "    df_col = pd.DataFrame({'col_loc':grid['cols_ctr'].values[1:len(grid['cols_ctr'])-2]})\n",
    "    df_row = pd.DataFrame({'row_loc':grid['rows_ctr'].values[1:len(grid['rows_ctr'])-2]})\n",
    "    locs = list(product(df_row['row_loc'], df_col['col_loc']))\n",
    "    print(len(locs))\n",
    "    \n",
    "    #make a geodataframe (in paralell of the rows and cols)\n",
    "    tic = datetime.datetime.now()\n",
    "    print(tic)\n",
    "    results = Parallel(n_jobs=8)(delayed(build_one_gridcell)\n",
    "                                 (grid['LAT_COR'].values, grid['LON_COR'].values,\n",
    "                                  grid['LAT_CTR'].values, grid['LON_CTR'].values,loc) \n",
    "                                 for loc in locs)\n",
    "    \n",
    "    #format the grid subset into a dataframs\n",
    "    df_grid=gpd.GeoDataFrame(results)\n",
    "    df_grid.columns = ['lat', 'lon', 'row', 'col', 'geometry']\n",
    "    df_grid.set_geometry(col='geometry',inplace=True,crs='EPSG:5070') #need to say it's in lat/lon before transform to LCC\n",
    "    df_grid=df_grid.to_crs(epsg=3347)\n",
    "\n",
    "    \n",
    "    #intersect the polygon with the grid subset\n",
    "    njobs = 8\n",
    "    stride = math.ceil(len(df_grid)/njobs) #round up because we drop duplicates\n",
    "    intersection = Parallel(n_jobs=njobs)(delayed(gpd.overlay)\n",
    "                                    (df_grid.iloc[kk:kk+stride], poly, how='intersection',keep_geom_type=False)\n",
    "                                     for kk in np.arange(0,len(df_grid),stride))\n",
    "    \n",
    "    #intersection = gpd.overlay(df_grid,poly,how='intersection',keep_geom_type=False).drop_duplicates()\n",
    "    toc = datetime.datetime.now()\n",
    "    print(toc)\n",
    "    print(toc-tic)\n",
    "    \n",
    "    intersection=pd.concat(intersection).drop_duplicates()\n",
    "    intersection['grid intersection area (ha)'] =intersection['geometry'].area/10000\n",
    "    intersection['weights'] = intersection['grid intersection area (ha)']/intersection['fire area (ha)'] \n",
    "    intersection_xr = intersection.set_index(['row', 'col']).to_xarray()\n",
    "    \n",
    "    grid_sub = grid.sel(rows_ctr = np.unique(intersection['row'].values),\n",
    "                        cols_ctr = np.unique(intersection['col'].values))\n",
    "\n",
    "    varis = ['day','loading_new_extreme', 'loading_new_veryhigh','loading_new_high', 'loading_new_moderate', 'loading_new_low']\n",
    "    df_loading = generate_df(varis, len(poly))\n",
    "    \n",
    "    df_loading['day'] = poly['12Z Start Day'].values\n",
    "    for var in varis[1:len(varis)]:\n",
    "        df_loading[var] = np.nansum(intersection_xr['weights'].values*grid_sub[var].values)\n",
    "    \n",
    "    return df_loading"
   ]
  },
  {
   "cell_type": "code",
   "execution_count": null,
   "id": "51dde3bd",
   "metadata": {
    "hidden": true
   },
   "outputs": [],
   "source": [
    "#makes and saves a geodataframe of a grid given the center and corner points for that grid as 2D matrices\n",
    "def build_grid_xarray(LAT_COR, LON_COR, LAT_CTR, LON_CTR):\n",
    "    #loop over the centers\n",
    "    nrows_center = LAT_CTR.shape[0]\n",
    "    ncols_center = LAT_CTR.shape[1]\n",
    "    #print(nrows_center, ncols_center)\n",
    "\n",
    "    nrows_corner = LAT_COR.shape[0]\n",
    "    ncols_corner = LAT_COR.shape[1]\n",
    "    #print(nrows_corner,ncols_corner)\n",
    "    \n",
    "    rows_ctr = np.arange(nrows_center)\n",
    "    cols_ctr = np.arange(ncols_center)\n",
    "    rows_cor = np.arange(nrows_corner)\n",
    "    cols_cor = np.arange(ncols_corner)\n",
    "\n",
    "    \n",
    "    dat_grid = xr.Dataset(\n",
    "        data_vars = dict(\n",
    "            LAT_CTR=(['rows_ctr','cols_ctr'],LAT_CTR),\n",
    "            LON_CTR=(['rows_ctr','cols_ctr'],LON_CTR),\n",
    "            LAT_COR=(['rows_cor','cols_cor'],LAT_COR),\n",
    "            LON_COR=(['rows_cor','cols_cor'],LON_COR),\n",
    "        ),\n",
    "        \n",
    "        coords = dict(\n",
    "            rows_ctr =(['rows_ctr'],rows_ctr),\n",
    "            cols_ctr =(['cols_ctr'],cols_ctr),\n",
    "            rows_cor =(['rows_cor'],rows_cor),\n",
    "            cols_cor =(['cols_cor'],cols_cor),\n",
    "        \n",
    "        )\n",
    "        \n",
    "    )\n",
    "    return(dat_grid)"
   ]
  },
  {
   "cell_type": "markdown",
   "id": "863a05b8",
   "metadata": {
    "heading_collapsed": true
   },
   "source": [
    "### Fuel Loading by FWI Class (300m data)"
   ]
  },
  {
   "cell_type": "code",
   "execution_count": 34,
   "id": "cf753817",
   "metadata": {
    "hidden": true
   },
   "outputs": [],
   "source": [
    "def fuel_loading_fwi_lowres_timeseries(df,day_start_hour):\n",
    "    print(df)\n",
    "    tic = datetime.datetime.now()\n",
    "    fuel_fwi_intersections = Parallel(n_jobs=8)(delayed(calculate_intersection)\n",
    "                                 (df.iloc[ii:ii+1],'BOBCAT_FUEL_FWI_GRID',0.05) \n",
    "                                 for ii in range())\n",
    "    toc = datetime.datetime.now()\n",
    "    print(toc-tic)\n",
    "    print([fuel_fwi_intersections[jj]['weights'].sum() for jj in range(len(fuel_fwi_intersections))])\n",
    "\n",
    "    \n",
    "    fire_fuel_fwi_intersection=gpd.GeoDataFrame(pd.concat(fuel_fwi_intersections, ignore_index=True))\n",
    "    print(len(fire_fuel_fwi_intersection))\n",
    "    \n",
    "    #fire_fuel_fwi_intersection.set_geometry(col='geometry')\n",
    "    fire_fuel_fwi_intersection = fire_fuel_fwi_intersection.drop(columns='geometry')\n",
    "    fire_fuel_fwi_intersection = fire_fuel_fwi_intersection.set_index([str(day_start_hour)+ 'Z Start Day', 'lat', 'lon'])\n",
    "    fire_fuel_fwi_intersection_xr = fire_fuel_fwi_intersection.to_xarray()\n",
    "    toc = datetime.datetime.now()\n",
    "    print(toc-tic)\n",
    "    print(fire_fuel_fwi_intersection_xr)\n",
    "\n",
    "    \"\"\"\n",
    "    #load in PWS data associated with the fire (it's only one dataset)\n",
    "    \n",
    "    #open the PWS files\n",
    "    path_fuel_fwi = '/data2/lthapa/bocat_fuel_fwi.nc'\n",
    "    dat_fuel_fwi = xr.open_dataset(path_fuel_fwi) #map is fixed in time\n",
    "    \n",
    "    dat_fuel_fwi = dat_fuel_fwi.assign_coords({'time': pd.to_datetime(fire_pws_intersection_xr[str(day_start_hour)+ 'Z Start Day'].values)})\n",
    "    \n",
    "    dat_fuel_fwi_sub = dat_pws_daily.sel(lat = fire_fuel_fwi_intersection_xr['lat'].values, \n",
    "                                          lon = fire_fuel_fwi_intersection_xr['lon'].values,\n",
    "                                          time = pd.to_datetime(fire_pws_intersection_xr[str(day_start_hour)+ 'Z Start Day'].values), method='nearest')\n",
    "                                          \n",
    "    ndays = len(fire_pws_intersection_xr[str(day_start_hour)+ 'Z Start Day'])\n",
    "    \n",
    "    #preallocate space for the output\n",
    "    varis = ['day','loading_new_extreme', 'loading_new_veryhigh','loading_new_high', 'loading_new_moderate', 'loading_new_low']\n",
    "    df_loading = generate_df(varis, len(df))\n",
    "    \n",
    "    df_loading['day'] = df['12Z Start Day'].values\n",
    "    for var in varis[1:len(varis)]:\n",
    "        df_loading[var] = np.nansum(intersection_xr['weights'].values*grid_sub[var].values)\n",
    "    return df_pws\"\"\""
   ]
  },
  {
   "cell_type": "code",
   "execution_count": 69,
   "id": "22655698",
   "metadata": {
    "code_folding": [
     5
    ],
    "hidden": true
   },
   "outputs": [],
   "source": [
    "#poly is the polygon for one timestep (in lcc)\n",
    "#grid is an xarray of a model grid from the nc file\n",
    "#grid_names is a string array [0:'lat_center_name',1:'lon_center_name',2:'lat_corner_name',3:'lon_corner_name']\n",
    "\n",
    "#DOESN'T REALLY WORK THAT WELL\n",
    "def calculate_intersection_2(poly,dataset_name,bf):\n",
    "    print(poly['12Z Start Day'])\n",
    "    #load in the merra grid\n",
    "    grid = xr.open_dataset(dataset_name+'.nc')\n",
    "\n",
    "    #get the bounds of the buffered polygons\n",
    "    poly_latlon =poly.to_crs(epsg=4326)\n",
    "    \n",
    "    lat_sub = []\n",
    "    lon_sub = []\n",
    "    inds_row =[]\n",
    "    inds_col = []\n",
    "\n",
    "    #subset the x,y values by bounds of the multipolygon\n",
    "    if poly_latlon['geometry'].values[0].geom_type=='Polygon':\n",
    "        geom_bounds = poly_latlon['geometry'].values[0].buffer(bf).bounds\n",
    "        inds_row_sel,inds_col_sel = np.where((grid['LON_CTR']>=geom_bounds[0])&(grid['LON_CTR']<=geom_bounds[2])&\n",
    "                                             (grid['LAT_CTR']>=geom_bounds[1])&(grid['LAT_CTR']<=geom_bounds[3]))\n",
    "        inds_row.append(inds_row_sel)\n",
    "        inds_col.append(inds_col_sel)\n",
    "            \n",
    "    elif poly_latlon['geometry'].values[0].geom_type=='MultiPolygon':\n",
    "        for geom in poly_latlon['geometry'].values[0].geoms:\n",
    "            geom_bounds = geom.buffer(bf).bounds\n",
    "            inds_row_sel,inds_col_sel = np.where((grid['LON_CTR']>=geom_bounds[0])&(grid['LON_CTR']<=geom_bounds[2])&\n",
    "                                                 (grid['LAT_CTR']>=geom_bounds[1])&(grid['LAT_CTR']<=geom_bounds[3]))\n",
    "        inds_row.append(inds_row_sel)\n",
    "        inds_col.append(inds_col_sel)\n",
    "        \n",
    "    inds_row = np.concatenate(inds_row)\n",
    "    inds_col = np.concatenate(inds_col)\n",
    "\n",
    "    locs = zip(inds_row,inds_col)\n",
    " \n",
    "    \n",
    "    #make a geodataframe (in paralell of the rows and cols)\n",
    "    results = Parallel(n_jobs=8)(delayed(build_one_gridcell)\n",
    "                                 (grid['LAT_COR'].values, grid['LON_COR'].values,\n",
    "                                  grid['LAT_CTR'].values, grid['LON_CTR'].values,loc) \n",
    "                                 for loc in locs)\n",
    "    \n",
    "    #format the grid subset into a dataframs\n",
    "    df_grid=gpd.GeoDataFrame(results)\n",
    "    df_grid.columns = ['lat', 'lon', 'row', 'col', 'geometry']\n",
    "    df_grid.set_geometry(col='geometry',inplace=True,crs='EPSG:4326') #need to say it's in lat/lon before transform to LCC\n",
    "    df_grid=df_grid.to_crs(epsg=3347)\n",
    "\n",
    "    \n",
    "    #intersect the polygon with the grid subset\n",
    "    intersection = gpd.overlay(df_grid, poly, how='intersection',keep_geom_type=False).drop_duplicates()\n",
    "    intersection['grid intersection area (ha)'] =intersection['geometry'].area/10000\n",
    "    intersection['weights'] = intersection['grid intersection area (ha)']/intersection['fire area (ha)'] \n",
    "    \n",
    "    return intersection\n"
   ]
  },
  {
   "cell_type": "code",
   "execution_count": null,
   "id": "e62ea715",
   "metadata": {
    "hidden": true
   },
   "outputs": [],
   "source": []
  },
  {
   "cell_type": "code",
   "execution_count": null,
   "id": "8292e415",
   "metadata": {
    "hidden": true
   },
   "outputs": [],
   "source": []
  },
  {
   "cell_type": "markdown",
   "id": "fe7ab8fa",
   "metadata": {
    "heading_collapsed": true
   },
   "source": [
    "### MERRA"
   ]
  },
  {
   "cell_type": "code",
   "execution_count": null,
   "id": "9a6129fe",
   "metadata": {
    "hidden": true
   },
   "outputs": [],
   "source": [
    "def merra_timeseries(df,day_start_hour):\n",
    "    df_merra = pd.DataFrame({'day': np.zeros(len(df)),'temp':np.zeros(len(df)), 'vpd':np.zeros(len(df)), \n",
    "                             'wind':np.zeros(len(df)),'hd0w0':np.zeros(len(df)), 'hd1w0':np.zeros(len(df)),\n",
    "                             'hd2w0':np.zeros(len(df)),'hd3w0':np.zeros(len(df)), 'hd4w0':np.zeros(len(df)),\n",
    "                             'hd5w0':np.zeros(len(df))}) \n",
    "    \n",
    "    #do the intersection, in parallel\n",
    "    merra_intersections = Parallel(n_jobs=6)(delayed(calculate_intersection)\n",
    "                                 (df.iloc[ii:ii+1],'MERRA_GRID',0.5) \n",
    "                                 for ii in range(len(df)))\n",
    "    fire_merra_intersection=gpd.GeoDataFrame(pd.concat(merra_intersections, ignore_index=True))\n",
    "    fire_merra_intersection.set_geometry(col='geometry')\n",
    "    \n",
    "    \n",
    "    #loop over all of the days we have intersections\n",
    "    times_intersect = np.unique(fire_merra_intersection[str(day_start_hour)+ 'Z Start Day'].values)\n",
    "    times_utc = np.unique(fire_merra_intersection['UTC Day'].values)\n",
    "    \n",
    "    count = 0\n",
    "    for today in times_intersect:\n",
    "        #get the time\n",
    "        df_sub = fire_merra_intersection.iloc[np.where(fire_merra_intersection[str(day_start_hour)+ 'Z Start Day'].values==today)]\n",
    "        df_sub = df_sub.set_index([str(day_start_hour)+ 'Z Start Day', 'lat', 'lon'])\n",
    "        intersection_sub = df_sub.to_xarray() #polygon and weights for today\n",
    "        print(intersection_sub['weights'].sum(dim=['lat','lon']))\n",
    "        times_back = pd.date_range(start=np.datetime64(today)-np.timedelta64(5,'D'), end=np.datetime64(today)+np.timedelta64(1,'D'))\n",
    "        files_back = make_merra_file_namelist(times_back)\n",
    "        \n",
    "        #load in all the merra files associated with this lookback window\n",
    "        dat_merra = xr.open_mfdataset(files_back,concat_dim='time',combine='nested',compat='override', coords='all')\n",
    "    \n",
    "        #add the derived data (svp, vp, vpd)\n",
    "        dat_merra=dat_merra.assign(ESAT=sat_vap_press(dat_merra.TLML))\n",
    "        dat_merra=dat_merra.assign(E=vap_press(dat_merra.QLML, dat_merra.TLML))\n",
    "        dat_merra=dat_merra.assign(VPD=dat_merra.ESAT-dat_merra.E)\n",
    "        \n",
    "        merra_daily_mean = dat_merra.resample(time='24H',base=day_start_hour, label='left').mean(dim='time') #take the daily mean        \n",
    "        merra_daily_mean_region = merra_daily_mean.sel(lat = np.unique(intersection_sub['lat'].values),\n",
    "                                  lon = np.unique(intersection_sub['lon'].values)) #get the location of the overlaps\n",
    "        \n",
    "        hd0 = np.nansum((merra_daily_mean_region['VPD'].sel(time=np.datetime64(today+ ' '+str(day_start_hour)+':00:00')).values)*(intersection_sub['weights'].values))\n",
    "        hd1 = np.nansum((merra_daily_mean_region['VPD'].sel(time=np.datetime64(today+ ' '+str(day_start_hour)+':00:00')-np.timedelta64(1,'D')).values)*\n",
    "                     (intersection_sub['weights'].values))\n",
    "        hd2 = np.nansum((merra_daily_mean_region['VPD'].sel(time=np.datetime64(today+ ' '+str(day_start_hour)+':00:00')-np.timedelta64(2,'D')).values)*\n",
    "                     (intersection_sub['weights'].values))\n",
    "        hd3 = np.nansum((merra_daily_mean_region['VPD'].sel(time=np.datetime64(today+ ' '+str(day_start_hour)+':00:00')-np.timedelta64(3,'D')).values)*\n",
    "                     (intersection_sub['weights'].values))\n",
    "        hd4 = np.nansum((merra_daily_mean_region['VPD'].sel(time=np.datetime64(today+ ' '+str(day_start_hour)+':00:00')-np.timedelta64(4,'D')).values)*\n",
    "                     (intersection_sub['weights'].values))\n",
    "        hd5 = np.nansum((merra_daily_mean_region['VPD'].sel(time=np.datetime64(today+ ' '+str(day_start_hour)+':00:00')-np.timedelta64(5,'D')).values)*\n",
    "                     (intersection_sub['weights'].values))\n",
    "        w = np.nansum((merra_daily_mean_region['SPEEDLML'].sel(time=np.datetime64(today+ ' '+str(day_start_hour)+':00:00')).values)*(intersection_sub['weights'].values))\n",
    "        t = np.nansum((merra_daily_mean_region['TLML'].sel(time=np.datetime64(today+ ' '+str(day_start_hour)+':00:00')).values)*(intersection_sub['weights'].values))\n",
    "        \n",
    "        df_merra.iloc[count,:] = [today+ ' '+str(day_start_hour)+':00:00',t,hd0,w,hd0*w,hd1*w,hd2*w,hd3*w,hd4*w,hd5*w]\n",
    "        dat_merra.close()\n",
    "        count =count+1\n",
    "    return df_merra\n",
    "    "
   ]
  },
  {
   "cell_type": "code",
   "execution_count": null,
   "id": "faf15fa2",
   "metadata": {
    "hidden": true
   },
   "outputs": [],
   "source": [
    "def make_merra_file_namelist(time):\n",
    "    base_filename = '/data2/lthapa/YEAR/MERRA2/WESTUS_MERRA2_400.inst1_2d_lfo_Nx.FULLDATE.nc4'\n",
    "    base_filename_list = np.repeat(base_filename, len(time))\n",
    "\n",
    "    \n",
    "    for jj in range(len(time)):\n",
    "        base_filename_list[jj] = base_filename_list[jj].replace('YEAR',time[jj].strftime('%Y')).\\\n",
    "                                    replace('FULLDATE',time[jj].strftime('%Y%m%d'))\n",
    "        if (time[jj].strftime('%Y%m')=='202009'):\n",
    "            base_filename_list[jj] = base_filename_list[jj].replace('400','401')\n",
    "    return base_filename_list"
   ]
  },
  {
   "cell_type": "markdown",
   "id": "d7e65316",
   "metadata": {
    "heading_collapsed": true
   },
   "source": [
    "### HRRR"
   ]
  },
  {
   "cell_type": "code",
   "execution_count": 15,
   "id": "2a6321e4",
   "metadata": {
    "hidden": true
   },
   "outputs": [],
   "source": [
    "def hrrr_timeseries_hdw2(df,day_start_hour):  #calculating HDW, then averaging\n",
    "    varis_raw = ['temp_2m', 'q_2m','wind_speed','veggie', 'dewpt','weasd','soilm', 'esat_2m','e_2m',\n",
    "             'vpd_2m', 'hwp','veggie', 'dewpt','veg_term','gust_max_term', 'dd_term',\n",
    "            'mois_term','temp_2m', 'q_2m','snowc_term']\n",
    "    varis_derived = ['day','hd0w0','hd1w0','hd2w0','hd3w0','hd4w0','hd5w0']\n",
    "    \n",
    "    df_hrrr_raw = generate_df(varis_raw, len(df))\n",
    "    df_hrrr_derived = generate_df(varis_derived, len(df))\n",
    "    \n",
    "    #do the intersection, in parallel\n",
    "    tic=datetime.datetime.now()\n",
    "    hrrr_intersections = Parallel(n_jobs=8)(delayed(calculate_intersection)\n",
    "                                 (df.iloc[ii:ii+1],'HRRR_GRID',0.05) \n",
    "                                 for ii in range(len(df)))\n",
    "    fire_hrrr_intersection=gpd.GeoDataFrame(pd.concat(hrrr_intersections, ignore_index=True))\n",
    "    fire_hrrr_intersection.set_geometry(col='geometry')\n",
    "    toc = datetime.datetime.now()\n",
    "    print(toc-tic)\n",
    "    \n",
    "    \n",
    "    #loop over all of the days we have intersections\n",
    "    times_intersect = np.unique(fire_hrrr_intersection[str(day_start_hour)+ 'Z Start Day'].values)\n",
    "    times_utc = np.unique(fire_hrrr_intersection['UTC Day'].values)\n",
    "    \n",
    "    count = 0\n",
    "    for today in times_intersect:\n",
    "        print(today)\n",
    "        #get the time\n",
    "        df_sub = fire_hrrr_intersection.iloc[np.where(fire_hrrr_intersection[str(day_start_hour)+ 'Z Start Day'].values==today)]\n",
    "        df_sub = df_sub.set_index([str(day_start_hour)+ 'Z Start Day', 'row', 'col'])\n",
    "        df_sub=df_sub[~df_sub.index.duplicated()]\n",
    "        intersection_sub = df_sub.to_xarray() #polygon and weights for today\n",
    "        \n",
    "        times_back = pd.date_range(start=np.datetime64(today)-np.timedelta64(5,'D'), end=np.datetime64(today)+\n",
    "                                   np.timedelta64(1,'D'),freq='H')\n",
    "        files_back,times_back_used = make_file_namelist(times_back,'/data2/lthapa/ML_daily/pygraf/processed_hrrr/Processed_HRRR_YYYYMMDDHH.nc')\n",
    "\n",
    "        #load in all the merra files associated with this lookback window\n",
    "        dat_hrrr = xr.open_mfdataset(files_back,concat_dim='time',combine='nested',compat='override', coords='all')\n",
    "        dat_hrrr = dat_hrrr.assign_coords({'time': times_back_used})\n",
    "\n",
    "        #add the derived data (svp, vp, vpd)\n",
    "        dat_hrrr=dat_hrrr.assign(esat_2m=sat_vap_press(dat_hrrr.temp_2m))\n",
    "        dat_hrrr=dat_hrrr.assign(e_2m=vap_press(dat_hrrr.q_2m, dat_hrrr.temp_2m))\n",
    "        dat_hrrr=dat_hrrr.assign(VPD=dat_hrrr.esat_2m-dat_hrrr.e_2m)\n",
    "        \n",
    "        hrrr_daily_mean = dat_hrrr.resample(time='24H',base=day_start_hour, label='left').mean(dim='time') #take the daily mean        \n",
    "        \n",
    "        hrrr_daily_mean_region = hrrr_daily_mean.sel(grid_yt = np.unique(intersection_sub['row'].values),\n",
    "                                                    grid_xt = np.unique(intersection_sub['col'].values)) #get the location of the overlaps\n",
    "        \n",
    "        #select the HD and and W terms\n",
    "        hd0 = hrrr_daily_mean_region['vpd_2m'].sel(time=np.datetime64(today+ ' '+str(day_start_hour)+':00:00')).values\n",
    "        hd1 = hrrr_daily_mean_region['vpd_2m'].sel(time=np.datetime64(today+ ' '+str(day_start_hour)+':00:00')-np.timedelta64(1,'D')).values\n",
    "        hd2 = hrrr_daily_mean_region['vpd_2m'].sel(time=np.datetime64(today+ ' '+str(day_start_hour)+':00:00')-np.timedelta64(2,'D')).values\n",
    "        hd3 = hrrr_daily_mean_region['vpd_2m'].sel(time=np.datetime64(today+ ' '+str(day_start_hour)+':00:00')-np.timedelta64(3,'D')).values\n",
    "        hd4 = hrrr_daily_mean_region['vpd_2m'].sel(time=np.datetime64(today+ ' '+str(day_start_hour)+':00:00')-np.timedelta64(4,'D')).values\n",
    "        hd5 = hrrr_daily_mean_region['vpd_2m'].sel(time=np.datetime64(today+ ' '+str(day_start_hour)+':00:00')-np.timedelta64(5,'D')).values\n",
    "        w = hrrr_daily_mean_region['wind_speed'].sel(time=np.datetime64(today+ ' '+str(day_start_hour)+':00:00')).values\n",
    "        weights = intersection_sub['weights'].values\n",
    "\n",
    "        \n",
    "        df_hrrr_derived.iloc[count,:] = [today+ ' '+str(day_start_hour)+':00:00',\n",
    "                                         np.nansum(hd0*w*weights),\n",
    "                                         np.nansum(hd1*w*weights),\n",
    "                                         np.nansum(hd2*w*weights),\n",
    "                                         np.nansum(hd3*w*weights),\n",
    "                                         np.nansum(hd4*w*weights),\n",
    "                                         np.nansum(hd5*w*weights),]        \n",
    "        for var in varis_raw:\n",
    "            df_hrrr_raw[var].iloc[count] = np.nansum(intersection_sub['weights'].values*hrrr_daily_mean_region[var].sel(time=np.datetime64(today+ ' '+str(day_start_hour)+':00:00')).values, axis=(1,2))\n",
    "        \n",
    "        df_hrrr = pd.concat([df_hrrr_derived,df_hrrr_raw],axis=1)\n",
    "        dat_hrrr.close()\n",
    "        count =count+1\n",
    "        #print(df_hrrr)\n",
    "    return df_hrrr"
   ]
  },
  {
   "cell_type": "code",
   "execution_count": 57,
   "id": "e0a0e420",
   "metadata": {
    "hidden": true
   },
   "outputs": [],
   "source": [
    "def hrrr_timeseries_chi(df, day_start_hour):\n",
    "    varis_derived = ['day','temp_850','temp_700','dewpt_850','ca','cb','chi']\n",
    "    df_hrrr_derived = generate_df(varis_derived, len(df))\n",
    "    \n",
    "    #do the intersection, in parallel\n",
    "    tic=datetime.datetime.now()\n",
    "    #print(tic)\n",
    "    hrrr_intersections = Parallel(n_jobs=8)(delayed(calculate_intersection)\n",
    "                                 (df.iloc[ii:ii+1],'HRRR_GRID',0.05) \n",
    "                                 for ii in range(len(df)))\n",
    "    fire_hrrr_intersection=gpd.GeoDataFrame(pd.concat(hrrr_intersections, ignore_index=True))\n",
    "    fire_hrrr_intersection.set_geometry(col='geometry')\n",
    "    fire_hrrr_intersection = fire_hrrr_intersection.set_index([str(day_start_hour)+ 'Z Start Day', 'row', 'col'])\n",
    "    fire_hrrr_intersection=fire_hrrr_intersection[~fire_hrrr_intersection.index.duplicated()]\n",
    "    toc = datetime.datetime.now()\n",
    "    print(toc-tic)\n",
    "    \n",
    "    fire_hrrr_intersection_xr = fire_hrrr_intersection.to_xarray()\n",
    "    \n",
    "    times = pd.date_range(np.datetime64(df[str(day_start_hour)+ 'Z Start Day'].iloc[0]),\n",
    "                        np.datetime64(df[str(day_start_hour)+ 'Z Start Day'].iloc[len(df)-1])+\n",
    "                        np.timedelta64(1,'D'), freq='H')\n",
    "    chi_filenames,times_back_used = make_file_namelist(times,'/data2/lthapa/ML_daily/pygraf/Processed_HRRR_CHI_YYYYMMDDHH.nc')\n",
    "    \n",
    "    dat_hrrr = xr.open_mfdataset(chi_filenames, concat_dim='Time', combine='nested',compat='override',coords='all')\n",
    "    dat_hrrr = dat_hrrr.assign_coords({'Time':times_back_used}) \n",
    "    hrrr_daily_mean = dat_hrrr.resample(Time='24H',base=day_start_hour, label='left').mean(dim='Time') #take the daily mean\n",
    "    \n",
    "    print(hrrr_daily_mean['Time'].values)\n",
    "    times_sel = [fire_hrrr_intersection_xr[str(day_start_hour)+'Z Start Day'].values[jj]+' '+str(day_start_hour)+':00:00' for jj in range(len(fire_hrrr_intersection_xr[str(day_start_hour)+'Z Start Day'].values))]\n",
    "    print(times_sel)\n",
    "    #select the locations and times we want\n",
    "    dat_hrrr_sub = hrrr_daily_mean.isel(grid_yt = fire_hrrr_intersection_xr['row'].values.astype(int), \n",
    "                                         grid_xt = fire_hrrr_intersection_xr['col'].values.astype(int)).sel(\n",
    "                        Time = pd.to_datetime(times_sel))\n",
    "    \n",
    "    df_hrrr_derived['day'].iloc[:] = pd.to_datetime(fire_hrrr_intersection_xr[str(day_start_hour)+'Z Start Day'].values)\n",
    "    for var in varis_derived[1:]:\n",
    "        df_hrrr_derived[var] = np.nansum(fire_hrrr_intersection_xr['weights'].values*dat_hrrr_sub[var].values, axis=(1,2))\n",
    "        \n",
    "\n",
    "    return df_hrrr_derived"
   ]
  },
  {
   "cell_type": "code",
   "execution_count": null,
   "id": "d9152310",
   "metadata": {
    "code_folding": [
     0
    ],
    "hidden": true
   },
   "outputs": [],
   "source": [
    "def hrrr_timeseries(df,day_start_hour):  \n",
    "    df_hrrr_derived = pd.DataFrame({'day': np.zeros(len(df)),'hd0w0':np.zeros(len(df)), 'hd1w0':np.zeros(len(df)),\n",
    "                             'hd2w0':np.zeros(len(df)),'hd3w0':np.zeros(len(df)), 'hd4w0':np.zeros(len(df)),\n",
    "                             'hd5w0':np.zeros(len(df))})\n",
    "    \n",
    "    df_hrrr_raw = pd.DataFrame({'temp_2m':np.zeros(len(df)), 'q_2m':np.zeros(len(df)), \n",
    "                             'gust_sfc':np.zeros(len(df)),'veggie':np.zeros(len(df)), 'dewpt':np.zeros(len(df)),\n",
    "                             'weasd':np.zeros(len(df)),'soilm':np.zeros(len(df)), 'esat_2m':np.zeros(len(df)),\n",
    "                             'e_2m': np.zeros(len(df)),'vpd_2m':np.zeros(len(df)), 'hwp':np.zeros(len(df)), \n",
    "                             'gust_sfc':np.zeros(len(df)),'veggie':np.zeros(len(df)), 'dewpt':np.zeros(len(df)),\n",
    "                             'veg_term':np.zeros(len(df)),'gust_max_term':np.zeros(len(df)), 'dd_term':np.zeros(len(df)),\n",
    "                             'mois_term': np.zeros(len(df)),'temp_2m':np.zeros(len(df)), 'q_2m':np.zeros(len(df)), \n",
    "                             'gust_sfc':np.zeros(len(df)),'snowc_term':np.zeros(len(df))})\n",
    "    \n",
    "    varis = ['temp_2m', 'q_2m','gust_sfc','veggie', 'dewpt','weasd','soilm', 'esat_2m','e_2m',\n",
    "             'vpd_2m', 'hwp','gust_sfc','veggie', 'dewpt','veg_term','gust_max_term', 'dd_term',\n",
    "            'mois_term','temp_2m', 'q_2m','gust_sfc','snowc_term']\n",
    "    \n",
    "    #do the intersection, in parallel\n",
    "    tic=time.time()\n",
    "    hrrr_intersections = Parallel(n_jobs=8)(delayed(calculate_intersection)\n",
    "                                 (fire_daily.iloc[ii:ii+1],'HRRR_GRID',0.05) \n",
    "                                 for ii in range(len(fire_daily)))\n",
    "    fire_hrrr_intersection=gpd.GeoDataFrame(pd.concat(hrrr_intersections, ignore_index=True))\n",
    "    fire_hrrr_intersection.set_geometry(col='geometry')\n",
    "    toc = time.time()\n",
    "    print(toc-tic)\n",
    "    \n",
    "    \n",
    "    #loop over all of the days we have intersections\n",
    "    times_intersect = np.unique(fire_hrrr_intersection[str(day_start_hour)+ 'Z Start Day'].values)\n",
    "    times_utc = np.unique(fire_hrrr_intersection['UTC Day'].values)\n",
    "    \n",
    "    count = 0\n",
    "    for today in times_intersect:\n",
    "        print(today)\n",
    "        #get the time\n",
    "        df_sub = fire_hrrr_intersection.iloc[np.where(fire_hrrr_intersection[str(day_start_hour)+ 'Z Start Day'].values==today)]\n",
    "        df_sub = df_sub.set_index([str(day_start_hour)+ 'Z Start Day', 'row', 'col'])\n",
    "        df_sub=df_sub[~df_sub.index.duplicated()]\n",
    "        intersection_sub = df_sub.to_xarray() #polygon and weights for today\n",
    "        \n",
    "        times_back = pd.date_range(start=np.datetime64(today)-np.timedelta64(5,'D'), end=np.datetime64(today)+\n",
    "                                   np.timedelta64(1,'D'),freq='H')\n",
    "        files_back,times_back_used = make_file_namelist(times_back,'/data2/lthapa/ML_daily/pygraf/Processed_HRRR_YYYYMMDDHH.nc')\n",
    "\n",
    "        #load in all the merra files associated with this lookback window\n",
    "        dat_hrrr = xr.open_mfdataset(files_back,concat_dim='time',combine='nested',compat='override', coords='all')\n",
    "        dat_hrrr = dat_hrrr.assign_coords({'time': times_back_used})\n",
    "\n",
    "        #add the derived data (svp, vp, vpd)\n",
    "        dat_hrrr=dat_hrrr.assign(esat_2m=sat_vap_press(dat_hrrr.temp_2m))\n",
    "        dat_hrrr=dat_hrrr.assign(e_2m=vap_press(dat_hrrr.q_2m, dat_hrrr.temp_2m))\n",
    "        dat_hrrr=dat_hrrr.assign(VPD=dat_hrrr.esat_2m-dat_hrrr.e_2m)\n",
    "        \n",
    "        hrrr_daily_mean = dat_hrrr.resample(time='24H',base=day_start_hour, label='left').mean(dim='time') #take the daily mean        \n",
    "        \n",
    "        hrrr_daily_mean_region = hrrr_daily_mean.sel(grid_yt = np.unique(intersection_sub['row'].values),\n",
    "                                                    grid_xt = np.unique(intersection_sub['col'].values)) #get the location of the overlaps\n",
    "        print(hrrr_daily_mean_region['time'].values)\n",
    "        hd0 = np.nansum((hrrr_daily_mean_region['vpd_2m'].sel(time=np.datetime64(today+ ' '+str(day_start_hour)+':00:00')).values)*(intersection_sub['weights'].values))\n",
    "        hd1 = np.nansum((hrrr_daily_mean_region['vpd_2m'].sel(time=np.datetime64(today+ ' '+str(day_start_hour)+':00:00')-np.timedelta64(1,'D')).values)*\n",
    "                     (intersection_sub['weights'].values))\n",
    "        hd2 = np.nansum((hrrr_daily_mean_region['vpd_2m'].sel(time=np.datetime64(today+ ' '+str(day_start_hour)+':00:00')-np.timedelta64(2,'D')).values)*\n",
    "                     (intersection_sub['weights'].values))\n",
    "        hd3 = np.nansum((hrrr_daily_mean_region['vpd_2m'].sel(time=np.datetime64(today+ ' '+str(day_start_hour)+':00:00')-np.timedelta64(3,'D')).values)*\n",
    "                     (intersection_sub['weights'].values))\n",
    "        hd4 = np.nansum((hrrr_daily_mean_region['vpd_2m'].sel(time=np.datetime64(today+ ' '+str(day_start_hour)+':00:00')-np.timedelta64(4,'D')).values)*\n",
    "                     (intersection_sub['weights'].values))\n",
    "        hd5 = np.nansum((hrrr_daily_mean_region['vpd_2m'].sel(time=np.datetime64(today+ ' '+str(day_start_hour)+':00:00')-np.timedelta64(5,'D')).values)*\n",
    "                     (intersection_sub['weights'].values))\n",
    "        w = np.nansum((hrrr_daily_mean_region['gust_sfc'].sel(time=np.datetime64(today+ ' '+str(day_start_hour)+':00:00')).values)*(intersection_sub['weights'].values))\n",
    "        t = np.nansum((hrrr_daily_mean_region['temp_2m'].sel(time=np.datetime64(today+ ' '+str(day_start_hour)+':00:00')).values)*(intersection_sub['weights'].values))\n",
    "        \n",
    "        df_hrrr_derived.iloc[count,:] = [today+ ' '+str(day_start_hour)+':00:00',hd0*w,hd1*w,hd2*w,hd3*w,hd4*w,hd5*w]\n",
    "        \n",
    "        for var in varis:\n",
    "            df_hrrr_raw[var].iloc[count] = np.nansum(intersection_sub['weights'].values*hrrr_daily_mean_region[var].sel(time=np.datetime64(today+ ' '+str(day_start_hour)+':00:00')).values, axis=(1,2))\n",
    "        \n",
    "        df_hrrr = pd.concat([df_hrrr_derived,df_hrrr_raw],axis=1)\n",
    "        dat_hrrr.close()\n",
    "        count =count+1\n",
    "    return df_hrrr"
   ]
  },
  {
   "cell_type": "code",
   "execution_count": null,
   "id": "f639a195",
   "metadata": {
    "code_folding": [],
    "hidden": true
   },
   "outputs": [],
   "source": [
    "def hrrr_timeseries_ws(df,day_start_hour):  #with the wind speed\n",
    "    df_hrrr_derived = pd.DataFrame({'day': np.zeros(len(df)),'hd0w0':np.zeros(len(df)), 'hd1w0':np.zeros(len(df)),\n",
    "                             'hd2w0':np.zeros(len(df)),'hd3w0':np.zeros(len(df)), 'hd4w0':np.zeros(len(df)),\n",
    "                             'hd5w0':np.zeros(len(df))})\n",
    "    \n",
    "    df_hrrr_raw = pd.DataFrame({'temp_2m':np.zeros(len(df)), 'q_2m':np.zeros(len(df)), \n",
    "                             'wind_speed':np.zeros(len(df)),'veggie':np.zeros(len(df)), 'dewpt':np.zeros(len(df)),\n",
    "                             'weasd':np.zeros(len(df)),'soilm':np.zeros(len(df)), 'esat_2m':np.zeros(len(df)),\n",
    "                             'e_2m': np.zeros(len(df)),'vpd_2m':np.zeros(len(df)), 'hwp':np.zeros(len(df)), \n",
    "                             'veggie':np.zeros(len(df)), 'dewpt':np.zeros(len(df)),\n",
    "                             'veg_term':np.zeros(len(df)),'gust_max_term':np.zeros(len(df)), 'dd_term':np.zeros(len(df)),\n",
    "                             'mois_term': np.zeros(len(df)),'temp_2m':np.zeros(len(df)), 'q_2m':np.zeros(len(df)), \n",
    "                             'snowc_term':np.zeros(len(df))})\n",
    "    \n",
    "    varis = ['temp_2m', 'q_2m','wind_speed','veggie', 'dewpt','weasd','soilm', 'esat_2m','e_2m',\n",
    "             'vpd_2m', 'hwp','veggie', 'dewpt','veg_term','gust_max_term', 'dd_term',\n",
    "            'mois_term','temp_2m', 'q_2m','snowc_term']\n",
    "    \n",
    "    #do the intersection, in parallel\n",
    "    tic=time.time()\n",
    "    #print(tic)\n",
    "    hrrr_intersections = Parallel(n_jobs=8)(delayed(calculate_intersection)\n",
    "                                 (df.iloc[ii:ii+1],'HRRR_GRID',0.05) \n",
    "                                 for ii in range(len(df)))\n",
    "    fire_hrrr_intersection=gpd.GeoDataFrame(pd.concat(hrrr_intersections, ignore_index=True))\n",
    "    fire_hrrr_intersection.set_geometry(col='geometry')\n",
    "    toc = time.time()\n",
    "    print(toc-tic)\n",
    "    \n",
    "    \n",
    "    #loop over all of the days we have intersections\n",
    "    times_intersect = np.unique(fire_hrrr_intersection[str(day_start_hour)+ 'Z Start Day'].values)\n",
    "    times_utc = np.unique(fire_hrrr_intersection['UTC Day'].values)\n",
    "    \n",
    "    count = 0\n",
    "    for today in times_intersect:\n",
    "        print(today)\n",
    "        #get the time\n",
    "        df_sub = fire_hrrr_intersection.iloc[np.where(fire_hrrr_intersection[str(day_start_hour)+ 'Z Start Day'].values==today)]\n",
    "        df_sub = df_sub.set_index([str(day_start_hour)+ 'Z Start Day', 'row', 'col'])\n",
    "        df_sub=df_sub[~df_sub.index.duplicated()]\n",
    "        intersection_sub = df_sub.to_xarray() #polygon and weights for today\n",
    "        \n",
    "        times_back = pd.date_range(start=np.datetime64(today)-np.timedelta64(5,'D'), end=np.datetime64(today)+\n",
    "                                   np.timedelta64(1,'D'),freq='H')\n",
    "        files_back,times_back_used = make_file_namelist(times_back,'/data2/lthapa/ML_daily/pygraf/Processed_HRRR_YYYYMMDDHH.nc')\n",
    "\n",
    "        #load in all the merra files associated with this lookback window\n",
    "        dat_hrrr = xr.open_mfdataset(files_back,concat_dim='time',combine='nested',compat='override', coords='all')\n",
    "        dat_hrrr = dat_hrrr.assign_coords({'time': times_back_used})\n",
    "\n",
    "        #add the derived data (svp, vp, vpd)\n",
    "        dat_hrrr=dat_hrrr.assign(esat_2m=sat_vap_press(dat_hrrr.temp_2m))\n",
    "        dat_hrrr=dat_hrrr.assign(e_2m=vap_press(dat_hrrr.q_2m, dat_hrrr.temp_2m))\n",
    "        dat_hrrr=dat_hrrr.assign(VPD=dat_hrrr.esat_2m-dat_hrrr.e_2m)\n",
    "        \n",
    "        hrrr_daily_mean = dat_hrrr.resample(time='24H',base=day_start_hour, label='left').mean(dim='time') #take the daily mean        \n",
    "        \n",
    "        hrrr_daily_mean_region = hrrr_daily_mean.sel(grid_yt = np.unique(intersection_sub['row'].values),\n",
    "                                                    grid_xt = np.unique(intersection_sub['col'].values)) #get the location of the overlaps\n",
    "        #print(hrrr_daily_mean_region['time'].values)\n",
    "        hd0 = np.nansum((hrrr_daily_mean_region['vpd_2m'].sel(time=np.datetime64(today+ ' '+str(day_start_hour)+':00:00')).values)*(intersection_sub['weights'].values))\n",
    "        hd1 = np.nansum((hrrr_daily_mean_region['vpd_2m'].sel(time=np.datetime64(today+ ' '+str(day_start_hour)+':00:00')-np.timedelta64(1,'D')).values)*\n",
    "                     (intersection_sub['weights'].values))\n",
    "        hd2 = np.nansum((hrrr_daily_mean_region['vpd_2m'].sel(time=np.datetime64(today+ ' '+str(day_start_hour)+':00:00')-np.timedelta64(2,'D')).values)*\n",
    "                     (intersection_sub['weights'].values))\n",
    "        hd3 = np.nansum((hrrr_daily_mean_region['vpd_2m'].sel(time=np.datetime64(today+ ' '+str(day_start_hour)+':00:00')-np.timedelta64(3,'D')).values)*\n",
    "                     (intersection_sub['weights'].values))\n",
    "        hd4 = np.nansum((hrrr_daily_mean_region['vpd_2m'].sel(time=np.datetime64(today+ ' '+str(day_start_hour)+':00:00')-np.timedelta64(4,'D')).values)*\n",
    "                     (intersection_sub['weights'].values))\n",
    "        hd5 = np.nansum((hrrr_daily_mean_region['vpd_2m'].sel(time=np.datetime64(today+ ' '+str(day_start_hour)+':00:00')-np.timedelta64(5,'D')).values)*\n",
    "                     (intersection_sub['weights'].values))\n",
    "        w = np.nansum((hrrr_daily_mean_region['wind_speed'].sel(time=np.datetime64(today+ ' '+str(day_start_hour)+':00:00')).values)*(intersection_sub['weights'].values))\n",
    "        t = np.nansum((hrrr_daily_mean_region['temp_2m'].sel(time=np.datetime64(today+ ' '+str(day_start_hour)+':00:00')).values)*(intersection_sub['weights'].values))\n",
    "        \n",
    "        df_hrrr_derived.iloc[count,:] = [today+ ' '+str(day_start_hour)+':00:00',hd0*w,hd1*w,hd2*w,hd3*w,hd4*w,hd5*w]\n",
    "        \n",
    "        for var in varis:\n",
    "            df_hrrr_raw[var].iloc[count] = np.nansum(intersection_sub['weights'].values*hrrr_daily_mean_region[var].sel(time=np.datetime64(today+ ' '+str(day_start_hour)+':00:00')).values, axis=(1,2))\n",
    "        \n",
    "        df_hrrr = pd.concat([df_hrrr_derived,df_hrrr_raw],axis=1)\n",
    "        dat_hrrr.close()\n",
    "        count =count+1\n",
    "        #print(df_hrrr)\n",
    "    return df_hrrr"
   ]
  },
  {
   "cell_type": "code",
   "execution_count": null,
   "id": "49bb9202",
   "metadata": {
    "code_folding": [
     0
    ],
    "hidden": true
   },
   "outputs": [],
   "source": [
    "def hrrr_timeseries_sub_daily(df,day_start_hour, time_ave_interval):  #with the wind speed\n",
    "    #set up the output dfs\n",
    "    varis_raw = ['temp_2m', 'q_2m','wind_speed','veggie', 'dewpt','weasd','soilm', 'esat_2m','e_2m','vpd_2m', 'hwp','veggie', 'dewpt','veg_term','gust_max_term', 'dd_term','mois_term','temp_2m', 'q_2m','snowc_term']\n",
    "    df_hrrr_raw = generate_df(varis_raw, len(df))\n",
    "\n",
    "    varis_derived = ['day','hd0w0','hd05w0','hd1w0','hd15w0','hd2w0','hd25w0','hd3w0']\n",
    "    df_hrrr_derived = generate_df(varis_derived, len(df))\n",
    "\n",
    "    \n",
    "    #do the intersection, in parallel\n",
    "    #tic=datetime.time.time()\n",
    "    #tic=datetime.time.time()\n",
    "    #print(tic)\n",
    "    hrrr_intersections = Parallel(n_jobs=8)(delayed(calculate_intersection)\n",
    "                                 (df.iloc[ii:ii+1],'HRRR_GRID',0.05) \n",
    "                                 for ii in range(len(df)))\n",
    "    fire_hrrr_intersection=gpd.GeoDataFrame(pd.concat(hrrr_intersections, ignore_index=True))\n",
    "    fire_hrrr_intersection.set_geometry(col='geometry')\n",
    "    #toc = time.time()\n",
    "    #print(toc-tic)\n",
    "    \n",
    "    \n",
    "    #loop over all of the days we have intersections\n",
    "    times_intersect = np.unique(fire_hrrr_intersection['time'].values)\n",
    "    times_utc = np.unique(fire_hrrr_intersection['UTC Day'].values)\n",
    "    print(times_intersect)\n",
    "    count = 0\n",
    "    for today in times_intersect:\n",
    "        print(today)\n",
    "        print(pd.to_datetime(today).time())\n",
    "        #print(today[0])\n",
    "        \n",
    "        #get the time\n",
    "        df_sub = fire_hrrr_intersection.iloc[np.where(fire_hrrr_intersection[str(day_start_hour)+ 'Z Start Day'].values==today)]\n",
    "        df_sub = df_sub.set_index([str(day_start_hour)+ 'Z Start Day', 'row', 'col'])\n",
    "        df_sub=df_sub[~df_sub.index.duplicated()]\n",
    "        intersection_sub = df_sub.to_xarray() #polygon and weights for today\n",
    "        \n",
    "        times_back = pd.date_range(start=np.datetime64(today)-np.timedelta64(5,'D'), end=np.datetime64(today)+\n",
    "                                   np.timedelta64(1,'D'),freq='H')\n",
    "        files_back,times_back_used = make_file_namelist(times_back,'/data2/lthapa/ML_daily/pygraf/Processed_HRRR_YYYYMMDDHH.nc')\n",
    "\n",
    "        #load in all the merra files associated with this lookback window\n",
    "        dat_hrrr = xr.open_mfdataset(files_back,concat_dim='time',combine='nested',compat='override', coords='all')\n",
    "        dat_hrrr = dat_hrrr.assign_coords({'time': times_back_used})\n",
    "\n",
    "        #add the derived data (svp, vp, vpd)\n",
    "        dat_hrrr=dat_hrrr.assign(esat_2m=sat_vap_press(dat_hrrr.temp_2m))\n",
    "        dat_hrrr=dat_hrrr.assign(e_2m=vap_press(dat_hrrr.q_2m, dat_hrrr.temp_2m))\n",
    "        dat_hrrr=dat_hrrr.assign(VPD=dat_hrrr.esat_2m-dat_hrrr.e_2m)\n",
    "        \n",
    "        hrrr_daily_mean = dat_hrrr.resample(time=str(time_ave_interval)+'H', label='left').mean(dim='time') #take the daily mean        \n",
    "        hrrr_daily_mean = hrrr_daily_mean.sel(time=pd.to_datetime(today).time())\n",
    "        hrrr_daily_mean_region = hrrr_daily_mean.sel(grid_yt = np.unique(intersection_sub['row'].values),\n",
    "                                                    grid_xt = np.unique(intersection_sub['col'].values)\n",
    "                                                    ) #get the location of the overlaps\n",
    "        \n",
    "        print(hrrr_daily_mean_region['time'])\n",
    "        \n",
    "        break\n",
    "        \"\"\""
   ]
  },
  {
   "cell_type": "code",
   "execution_count": null,
   "id": "5f3d7c5c",
   "metadata": {
    "code_folding": [
     0
    ],
    "hidden": true
   },
   "outputs": [],
   "source": [
    "def hrrr_directional_hdw(df_split, df_poly,df_perim,day_start_hour, time_ave_interval):  #with the wind speed\n",
    "    #set up the output dfs\n",
    "    \n",
    "    varis_derived = ['day','hd0w0','hd05w0','hd1w0','hd15w0','hd2w0','hd25w0','hd3w0',\n",
    "                    'hd0w0_d','hd05w0_d','hd1w0_d','hd15w0_d','hd2w0_d','hd25w0_d','hd3w0_d']\n",
    "    df_hrrr_derived = generate_df(varis_derived, len(df_split))\n",
    "    \n",
    "    varis_raw = ['temp_2m', 'q_2m','wind_speed','veggie', 'dewpt','weasd','soilm', 'esat_2m','e_2m',\n",
    "             'vpd_2m', 'hwp','veggie', 'dewpt','veg_term','gust_max_term', 'dd_term',\n",
    "            'mois_term','temp_2m', 'q_2m','snowc_term']\n",
    "    df_hrrr_raw = generate_df(varis_raw, len(df_split))\n",
    "    \n",
    "    #do the intersection, in parallel\n",
    "    hrrr_intersections = Parallel(n_jobs=8)(delayed(calculate_intersection)\n",
    "                                 (df_poly.iloc[ii:ii+1],'HRRR_GRID',0.05) \n",
    "                                 for ii in range(len(df_poly)))\n",
    "    fire_hrrr_intersection=gpd.GeoDataFrame(pd.concat(hrrr_intersections, ignore_index=True))\n",
    "    fire_hrrr_intersection.set_geometry(col='geometry')\n",
    "\n",
    "    #loop over all of the days we have intersections\n",
    "    times_intersect = np.unique(df_poly['time'].values) #every half daily time step where the polygons intersect the grid\n",
    "\n",
    "    count=0\n",
    "    for today in times_intersect:\n",
    "        print(today)\n",
    "        \n",
    "        #get the intersection information for today\n",
    "        df_intersect = fire_hrrr_intersection.iloc[np.where(fire_hrrr_intersection['time'].values==today)]\n",
    "        df_intersect = df_intersect.set_index([str(day_start_hour)+ 'Z Start Day', 'row', 'col'])\n",
    "        df_intersect=df_intersect[~df_intersect.index.duplicated()] #get rid of duplicates\n",
    "        intersection_sub = df_intersect.to_xarray() #polygon and weights for today\n",
    "        #print(intersection_sub)\n",
    "        \n",
    "        #define the lookback window\n",
    "        times_back = pd.date_range(start=np.datetime64(today)-np.timedelta64(3,'D'), end=np.datetime64(today)+\n",
    "                                   np.timedelta64(1,'D'),freq='H')\n",
    "        files_back,times_back_used = make_file_namelist(times_back,'/data2/lthapa/ML_daily/pygraf/Processed_HRRR_YYYYMMDDHH.nc')\n",
    "\n",
    "        \n",
    "        #load in all the merra files associated with this lookback window\n",
    "        dat_hrrr = xr.open_mfdataset(files_back,concat_dim='time',combine='nested',compat='override', coords='all')\n",
    "        dat_hrrr = dat_hrrr.assign_coords({'time': times_back_used})\n",
    "\n",
    "        #take the average, 12 hourly, based on time dimension\n",
    "        hrrr_subdaily_mean = dat_hrrr.resample(time=str(time_ave_interval)+'H', label='left').mean(dim='time') #take the daily mean        \n",
    "        #print(hrrr_subdaily_mean)\n",
    "        hrrr_subdaily_mean_region = hrrr_subdaily_mean.sel(grid_yt = np.unique(intersection_sub['row'].values),\n",
    "                                                    grid_xt = np.unique(intersection_sub['col'].values)\n",
    "                                                    ) #get the location of the overlaps\n",
    "        \n",
    "        \n",
    "\n",
    "        \"\"\"#GET THE POLYGON VARIABLES\n",
    "        for var_raw in varis_raw:\n",
    "            df_hrrr_raw[var_raw].iloc[count] = \\\n",
    "                    np.nansum(intersection_sub['weights'].values*hrrr_subdaily_mean_region[var_raw].sel(time=np.datetime64(today)).values, axis=(1,2))\n",
    "        \n",
    "        \n",
    "        hd00 = np.nansum((hrrr_subdaily_mean_region['vpd_2m'].sel(time=np.datetime64(today)).values)*\n",
    "                        (intersection_sub['weights'].values))\n",
    "        hd05 = np.nansum((hrrr_subdaily_mean_region['vpd_2m'].sel(time=np.datetime64(today)-np.timedelta64(12,'h')).values)*\n",
    "                     (intersection_sub['weights'].values))\n",
    "        hd10 = np.nansum((hrrr_subdaily_mean_region['vpd_2m'].sel(time=np.datetime64(today)-np.timedelta64(24,'h')).values)*\n",
    "                     (intersection_sub['weights'].values))\n",
    "        hd15 = np.nansum((hrrr_subdaily_mean_region['vpd_2m'].sel(time=np.datetime64(today)-np.timedelta64(36,'h')).values)*\n",
    "                     (intersection_sub['weights'].values))\n",
    "        hd20 = np.nansum((hrrr_subdaily_mean_region['vpd_2m'].sel(time=np.datetime64(today)-np.timedelta64(48,'h')).values)*\n",
    "                     (intersection_sub['weights'].values))\n",
    "        hd25 = np.nansum((hrrr_subdaily_mean_region['vpd_2m'].sel(time=np.datetime64(today)-np.timedelta64(60,'h')).values)*\n",
    "                     (intersection_sub['weights'].values))\n",
    "        hd30 = np.nansum((hrrr_subdaily_mean_region['vpd_2m'].sel(time=np.datetime64(today)-np.timedelta64(72,'h')).values)*\n",
    "                     (intersection_sub['weights'].values))\n",
    "        w = np.nansum((hrrr_subdaily_mean_region['wind_speed'].sel(time=np.datetime64(today)).values)*\n",
    "                        (intersection_sub['weights'].values))           \n",
    "    \n",
    "        \n",
    "        \"\"\"\n",
    "        #GET THE PERIMETER VARIABLES (DIRECTIONAL HDW)\n",
    "        split = df_split[df_split['time']==today]['fireline_split'] #get the firelines\n",
    "        #print(split)\n",
    "        \n",
    "        segs_list = list(split.iloc[0].geoms)\n",
    "        segs = gpd.GeoDataFrame({'ind':np.arange(0,len(segs_list)),\n",
    "                        'time': np.repeat(today,len(segs_list)),\n",
    "                        'geometry':segs_list})\n",
    "        segs = segs[segs.length>0.0005]\n",
    "        #print(segs)\n",
    "        \n",
    "        perimeter = df_perim['perimeter'][df_poly['time']==today]\n",
    "        perimeter_bounds = perimeter.buffer(0.025).bounds\n",
    "        \n",
    "        perp_segs = find_perp_outside_segments(segs,0.005, perimeter.values) #get the perpindicular segments\n",
    "        \n",
    "            \n",
    "        #subset the wind data\n",
    "        time_sel,grid_yt_sel, grid_xt_sel = np.where((hrrr_subdaily_mean['grid_lont']<perimeter_bounds['maxx'].values)&\n",
    "                                    (hrrr_subdaily_mean['grid_lont']>perimeter_bounds['minx'].values)&\n",
    "                                    (hrrr_subdaily_mean['grid_latt']<perimeter_bounds['maxy'].values)&\n",
    "                                    (hrrr_subdaily_mean['grid_latt']>perimeter_bounds['miny'].values))\n",
    "\n",
    "        hrrr_subdaily_mean_wind_region = hrrr_subdaily_mean.sel(grid_yt=np.unique(grid_yt_sel),grid_xt=np.unique(grid_xt_sel))\n",
    "        hrrr_subdaily_mean_wind_region= hrrr_subdaily_mean_wind_region.set_coords(('grid_lont','grid_latt'))\n",
    "        print(hrrr_subdaily_mean_wind_region)\n",
    "            \n",
    "        \"\"\"f_var = si.interp2d(hrrr_subdaily_mean_wind_region['grid_lont'].values.flatten(), \n",
    "                            hrrr_subdaily_mean_wind_region['grid_latt'].values.flatten(), \n",
    "                            hrrr_subdaily_mean_wind_region['uwind_10m'].values.flatten(),kind='linear')\n",
    "        var_new = np.array([f_var(perp_segs['x_mid'].values[kk], perp_segs['y_mid'].values[kk])\n",
    "                            for kk in range(len(perp_segs))])\n",
    "        print(hrrr_subdaily_mean_wind_region['grid_lont'].values)\n",
    "        print(hrrr_subdaily_mean_wind_region['grid_latt'].values)\n",
    "        print(hrrr_subdaily_mean_wind_region['uwind_10m'].values)\n",
    "        print(var_new)\"\"\"\n",
    "        print(interp_at_perps(hrrr_subdaily_mean_wind_region.sel(time=np.datetime64(today)),perp_segs, 'uwind_10m'))\n",
    "        print(interp_at_perps(hrrr_subdaily_mean_wind_region.sel(time=np.datetime64(today)),perp_segs, 'vpd_2m'))\n",
    "        print(interp_at_perps(hrrr_subdaily_mean_wind_region.sel(time=np.datetime64(today)-np.timedelta64(12,'h')),\n",
    "                              perp_segs, 'vpd_2m'))\n",
    "        print(interp_at_perps(hrrr_subdaily_mean_wind_region.sel(time=np.datetime64(today)-np.timedelta64(24,'h')),\n",
    "                              perp_segs, 'vpd_2m'))\n",
    "        print(interp_at_perps(hrrr_subdaily_mean_wind_region.sel(time=np.datetime64(today)-np.timedelta64(36,'h')),\n",
    "                              perp_segs, 'vpd_2m'))\n",
    "        print(interp_at_perps(hrrr_subdaily_mean_wind_region.sel(time=np.datetime64(today)-np.timedelta64(48,'h')),\n",
    "                              perp_segs, 'vpd_2m'))\n",
    "        print(interp_at_perps(hrrr_subdaily_mean_wind_region.sel(time=np.datetime64(today)-np.timedelta64(60,'h')),\n",
    "                              perp_segs, 'vpd_2m'))\n",
    "        print(interp_at_perps(hrrr_subdaily_mean_wind_region.sel(time=np.datetime64(today)-np.timedelta64(72,'h')),\n",
    "                              perp_segs, 'vpd_2m'))\n",
    "            \n",
    "\n",
    "\n",
    "                        \n",
    "        \n",
    "        \"\"\"#calculate HDW point by point, then take the length weighted average\n",
    "        perp_wind_speed=calculate_perp_ws(hrrr_subdaily_mean_wind_region.sel(time=today),perp_segs)\n",
    "        hd00_d = interp_at_perps(hrrr_subdaily_mean_wind_region.sel(time=np.datetime64(today)),perp_segs, 'vpd_2m')\n",
    "        hd05_d = interp_at_perps(hrrr_subdaily_mean_wind_region.sel(time=np.datetime64(today)-np.timedelta64(12,'h')),perp_segs, 'vpd_2m')\n",
    "        hd10_d = interp_at_perps(hrrr_subdaily_mean_wind_region.sel(time=np.datetime64(today)-np.timedelta64(24,'h')),perp_segs, 'vpd_2m')\n",
    "        hd15_d = interp_at_perps(hrrr_subdaily_mean_wind_region.sel(time=np.datetime64(today)-np.timedelta64(36,'h')),perp_segs, 'vpd_2m')\n",
    "        hd20_d = interp_at_perps(hrrr_subdaily_mean_wind_region.sel(time=np.datetime64(today)-np.timedelta64(48,'h')),perp_segs, 'vpd_2m')\n",
    "        hd25_d = interp_at_perps(hrrr_subdaily_mean_wind_region.sel(time=np.datetime64(today)-np.timedelta64(60,'h')),perp_segs, 'vpd_2m')\n",
    "        hd30_d = interp_at_perps(hrrr_subdaily_mean_wind_region.sel(time=np.datetime64(today)-np.timedelta64(72,'h')),perp_segs, 'vpd_2m')\n",
    "        \n",
    "        #print(perp_wind_speed,hd00_d)\n",
    "        # do the length weighting\n",
    "        fireline_length = segs['geometry'].length\n",
    "        fireline_length_fraction = fireline_length/(np.nansum(fireline_length))\n",
    "        \n",
    "        #save the outputs\n",
    "        df_hrrr_derived.iloc[count,:] = [today,hd00*w,hd05*w,hd10*w,hd15*w,hd20*w,hd25*w,hd30*w,\n",
    "                                        np.nansum(fireline_length_fraction*perp_wind_speed*hd00_d),\n",
    "                                        np.nansum(fireline_length_fraction*perp_wind_speed*hd05_d),\n",
    "                                        np.nansum(fireline_length_fraction*perp_wind_speed*hd10_d),\n",
    "                                        np.nansum(fireline_length_fraction*perp_wind_speed*hd15_d),\n",
    "                                        np.nansum(fireline_length_fraction*perp_wind_speed*hd20_d),\n",
    "                                        np.nansum(fireline_length_fraction*perp_wind_speed*hd25_d),\n",
    "                                        np.nansum(fireline_length_fraction*perp_wind_speed*hd30_d)\n",
    "                                        ]\n",
    "        print(df_hrrr_derived)\"\"\"\n",
    "        \n",
    "        \"\"\"\n",
    "        weighted_perp_wind = (perp_segs['fireline_length_fraction'].values*perp_wind_speed).sum() #this should be the length-weighted wind speed\n",
    "    \n",
    "        \n",
    "        # get the interpolated, length weithged VPD\n",
    "\n",
    "       \"\"\"\n",
    "        \n",
    "        #break #to only do the first day\n",
    "        count = count+1\n",
    "        "
   ]
  },
  {
   "cell_type": "code",
   "execution_count": null,
   "id": "4aeea7d4",
   "metadata": {
    "code_folding": [
     0
    ],
    "hidden": true
   },
   "outputs": [],
   "source": [
    "def hrrr_directional_hdw_test(df_split, df_poly,df_perim,day_start_hour, time_ave_interval):  #with the wind speed\n",
    "    #set up the output dfs\n",
    "    \n",
    "    varis_derived = ['day','hd0w0','hd0w0_edge','hd0w0_edge_lw', 'hd0w0_perp',\n",
    "                     'hd0w0_perp_lw', 'hd0w0_perp_out', 'hd0w0_perp_out_lw']\n",
    "    df_hrrr_derived = generate_df(varis_derived, len(df_split))\n",
    "    \n",
    "    varis_raw = ['vpd_2m','wind_speed']\n",
    "    df_hrrr_raw = generate_df(varis_raw, len(df_split))\n",
    "    \n",
    "    #do the intersection, in parallel\n",
    "    hrrr_intersections = Parallel(n_jobs=8)(delayed(calculate_intersection)\n",
    "                                 (df_poly.iloc[ii:ii+1],'HRRR_GRID',0.05) \n",
    "                                 for ii in range(len(df_poly)))\n",
    "    fire_hrrr_intersection=gpd.GeoDataFrame(pd.concat(hrrr_intersections, ignore_index=True))\n",
    "    fire_hrrr_intersection.set_geometry(col='geometry')\n",
    "    print(fire_hrrr_intersection)\n",
    "    #loop over all of the days we have intersections\n",
    "    times_intersect = np.unique(df_poly['time'].values) #every half daily time step where the polygons intersect the grid\n",
    "    print(times_intersect)\n",
    "    count=0\n",
    "    for today in times_intersect:\n",
    "        print(today)\n",
    "        #get the intersection information for today\n",
    "        df_intersect = fire_hrrr_intersection.iloc[np.where(fire_hrrr_intersection['time'].values==today)]\n",
    "        df_intersect = df_intersect.set_index([str(day_start_hour)+ 'Z Start Day', 'row', 'col'])\n",
    "        df_intersect=df_intersect[~df_intersect.index.duplicated()] #get rid of duplicates\n",
    "        intersection_sub = df_intersect.to_xarray() #polygon and weights for today\n",
    "        \n",
    "        #define the lookback window\n",
    "        times_back = pd.date_range(start=np.datetime64(today)-np.timedelta64(1,'D'), end=np.datetime64(today)+\n",
    "                                   np.timedelta64(1,'D'),freq='H')\n",
    "        files_back,times_back_used = make_file_namelist(times_back,'/data2/lthapa/ML_daily/pygraf/Processed_HRRR_YYYYMMDDHH.nc')\n",
    "\n",
    "        \n",
    "        #load in all the merra files associated with this lookback window\n",
    "        dat_hrrr = xr.open_mfdataset(files_back,concat_dim='time',combine='nested',compat='override', coords='all')\n",
    "        dat_hrrr = dat_hrrr.assign_coords({'time': times_back_used})        \n",
    "        \n",
    "        \n",
    "        #GET THE PERIMETER VARIABLES\n",
    "        split = df_split[df_split['time']==today]['fireline_split'] #get the firelines        \n",
    "        segs_list = list(split.iloc[0].geoms)\n",
    "        segs = gpd.GeoDataFrame({'ind':np.arange(0,len(segs_list)),\n",
    "                        'time': np.repeat(today,len(segs_list)),\n",
    "                        'geometry':segs_list})\n",
    "        segs = segs[segs.length>0.0005]\n",
    "        #print(segs)\n",
    "        perimeter = df_perim['perimeter'][df_poly['time']==today]\n",
    "        perimeter_bounds = perimeter.buffer(0.05).bounds\n",
    "        #print(perimeter_bounds)\n",
    "        perp_segs = find_perp_outside_segments(segs,0.005, perimeter.values) #get the perpindicular segments\n",
    "        \n",
    "        #take the average, 12 hourly, based on time dimension\n",
    "        hrrr_subdaily_mean = dat_hrrr.resample(time=str(time_ave_interval)+'H', label='left').mean(dim='time') #take the daily mean         \n",
    "        hrrr_00 = hrrr_subdaily_mean.sel(time=today)\n",
    "        \n",
    "        grid_yt_sel, grid_xt_sel = np.where((hrrr_00['grid_lont']<perimeter_bounds['maxx'].values)&\n",
    "                                    (hrrr_00['grid_lont']>perimeter_bounds['minx'].values)&\n",
    "                                    (hrrr_00['grid_latt']<perimeter_bounds['maxy'].values)&\n",
    "                                    (hrrr_00['grid_latt']>perimeter_bounds['miny'].values))\n",
    "        \n",
    "        hrrr_00 = hrrr_00.sel(grid_xt=np.unique(grid_xt_sel), grid_yt=np.unique(grid_yt_sel))\n",
    "\n",
    "        print(np.unique(intersection_sub['col'].values))\n",
    "        print(np.unique(intersection_sub['row'].values))\n",
    "\n",
    "        #GET THE POLYGON VARIABLES\n",
    "        for var_raw in varis_raw:\n",
    "            df_hrrr_raw[var_raw].iloc[count] = \\\n",
    "                    np.nansum(intersection_sub['weights'].values*hrrr_00.sel(grid_yt = np.unique(intersection_sub['row'].values),\n",
    "                                                    grid_xt = np.unique(intersection_sub['col'].values))[var_raw].values, axis=(1,2))\n",
    "         \n",
    "        #get the winds\n",
    "        x_interp, y_interp = interpnn(hrrr_00, perp_segs)\n",
    "        uwind_nearest = hrrr_00['uwind_10m'].values[x_interp,y_interp]\n",
    "        vwind_nearest = hrrr_00['vwind_10m'].values[x_interp,y_interp]\n",
    "        speed_nearest = np.sqrt((uwind_nearest**2)+(vwind_nearest**2))\n",
    "        \n",
    "        #get the length weights\n",
    "        fireline_length = segs['geometry'].length\n",
    "        fireline_length_fraction = fireline_length/(np.nansum(fireline_length))\n",
    "        \n",
    "        #get the perpindicular fraction\n",
    "        #unit_vectors\n",
    "        uwind_unit = uwind_nearest/np.sqrt((uwind_nearest**2)+(vwind_nearest**2))\n",
    "        vwind_unit = vwind_nearest/np.sqrt((uwind_nearest**2)+(vwind_nearest**2))\n",
    "        #what portion of the unit vector is along the perpindicular? this uses cos(x) = u.v/||u||*||v|| vector law\n",
    "        scale_factor = ((perp_segs['x']*uwind_unit)+\n",
    "                                 (perp_segs['y']*vwind_unit))/(np.sqrt((perp_segs['x']**2)+(perp_segs['y']**2)))\n",
    "        scale_factor_zeroed = ((perp_segs['x']*uwind_unit)+\n",
    "                                 (perp_segs['y']*vwind_unit))/(np.sqrt((perp_segs['x']**2)+(perp_segs['y']**2)))\n",
    "        scale_factor_zeroed[scale_factor_zeroed<0] =0 \n",
    "        \n",
    "    \n",
    "        hd00 = df_hrrr_raw['vpd_2m'].iloc[count:count+1].values\n",
    "        #print(hd00)\n",
    "        #fill in the dataframe\n",
    "        df_hrrr_derived.loc[count,'day'] = today\n",
    "        df_hrrr_derived.loc[count, 'hd0w0'] = hd00*df_hrrr_raw['wind_speed'].iloc[count]\n",
    "        df_hrrr_derived.loc[count, 'hd0w0_edge'] = hd00*np.nanmean(speed_nearest)\n",
    "        df_hrrr_derived.loc[count, 'hd0w0_edge_lw'] = hd00*(np.nansum(speed_nearest*fireline_length_fraction))\n",
    "        df_hrrr_derived.loc[count, 'hd0w0_perp'] = hd00*(np.nanmean(speed_nearest*scale_factor))\n",
    "        df_hrrr_derived.loc[count, 'hd0w0_perp_lw'] = hd00*(np.nansum(speed_nearest*scale_factor*fireline_length_fraction))\n",
    "        df_hrrr_derived.loc[count, 'hd0w0_perp_out'] = hd00*(np.nanmean(speed_nearest*scale_factor_zeroed))\n",
    "        df_hrrr_derived.loc[count, 'hd0w0_perp_out_lw'] = hd00*(np.nansum(speed_nearest*scale_factor_zeroed*fireline_length_fraction))\n",
    "\n",
    "        \n",
    "        df_hrrr = pd.concat([df_hrrr_derived,df_hrrr_raw],axis=1)\n",
    "        #print(df_hrrr.iloc[count:count+1])\n",
    "        #break #to only do the first day\n",
    "        count = count+1\n",
    "    return df_hrrr\n",
    "        "
   ]
  },
  {
   "cell_type": "code",
   "execution_count": null,
   "id": "171d6250",
   "metadata": {
    "code_folding": [
     0
    ],
    "hidden": true
   },
   "outputs": [],
   "source": [
    "def hrrr_directional_hourly(df_split, df_poly,df_perim,day_start_hour, time_ave_interval):   \n",
    "    #do the intersection\n",
    "    hrrr_intersections = Parallel(n_jobs=8)(delayed(calculate_intersection)\n",
    "                                (df_poly.iloc[ii:ii+1],'HRRR_GRID',0.05) \n",
    "                                for ii in range(len(df_poly)))\n",
    "    fire_hrrr_intersection=gpd.GeoDataFrame(pd.concat(hrrr_intersections, ignore_index=True))\n",
    "    fire_hrrr_intersection.set_geometry(col='geometry')\n",
    "    \n",
    "    #loop over all of the days we have intersections\n",
    "    times_intersect = np.unique(fire_hrrr_intersection['time'].values)\n",
    "    times_utc = np.unique(fire_hrrr_intersection['UTC Day'].values)\n",
    "    \n",
    "    #preallocate the feature vector\n",
    "    #set up the output dfs\n",
    "    varis_raw = ['temp_2m', 'q_2m','wind_speed','veggie', 'dewpt','weasd','soilm', 'esat_2m','e_2m','vpd_2m',\n",
    "                 'hwp', 'dewpt','veg_term','gust_max_term', 'dd_term','mois_term','snowc_term'] #don't put vpd in here, derived\n",
    "    df_hrrr_raw = generate_df(varis_raw, 12*len(times_intersect))\n",
    "    varis_derived = ['day','dhd00w0','dhd05w0','dhd10w0','dhd15w0','dhd20w0','dhd25w0','dhd30w0',\n",
    "                     'hd00w0','hd05w0','hd10w0','hd15w0','hd20w0','hd25w0','hd30w0',\n",
    "                     'dhwp']\n",
    "    df_hrrr_derived = generate_df(varis_derived, 12*len(times_intersect))\n",
    "\n",
    "    count = 0\n",
    "    for today in times_intersect:\n",
    "        print(today)\n",
    "        \n",
    "        #get the polygon weights for the timestep\n",
    "        df_sub = fire_hrrr_intersection.iloc[np.where(fire_hrrr_intersection['time'].values==today)]\n",
    "        df_sub = df_sub.set_index([str(day_start_hour)+ 'Z Start Day', 'row', 'col'])\n",
    "        df_sub=df_sub[~df_sub.index.duplicated()]\n",
    "        intersection_sub = df_sub.to_xarray() #polygon weights for today\n",
    "        \n",
    "        #perimeter and bounds for this timestep\n",
    "        perim_today = df_perim[df_poly['time'].values==today].reset_index()\n",
    "        split_today = df_split[df_poly['time'].values==today].reset_index()\n",
    "        perimeter_bounds = perim_today.buffer(0.05).bounds\n",
    "        \n",
    "        #get the 12hrs of HRRR for this polygon\n",
    "        times_back = pd.date_range(start=np.datetime64(today)-np.timedelta64(3,'D'), end=np.datetime64(today)+\n",
    "                                 np.timedelta64(11,'h'),freq='H') #do now-3days out to now+11hr\n",
    "        files_back,times_back_used = make_file_namelist(times_back,'/data2/lthapa/ML_daily/pygraf/Processed_HRRR_YYYYMMDDHH.nc')\n",
    "\n",
    "        dat_hrrr = xr.open_mfdataset(files_back,concat_dim='time',combine='nested',compat='override', coords='all')\n",
    "        dat_hrrr = dat_hrrr.assign_coords({'time': times_back_used})\n",
    "        \n",
    "        # we want all of the hours, so we only select by region\n",
    "        time_sel,grid_yt_sel, grid_xt_sel = np.where((dat_hrrr['grid_lont']<perimeter_bounds['maxx'].values)&\n",
    "                                    (dat_hrrr['grid_lont']>perimeter_bounds['minx'].values)&\n",
    "                                    (dat_hrrr['grid_latt']<perimeter_bounds['maxy'].values)&\n",
    "                                    (dat_hrrr['grid_latt']>perimeter_bounds['miny'].values))\n",
    "        hrrr_region = dat_hrrr.sel(time=times_back_used,\n",
    "                                grid_xt=np.unique(grid_xt_sel),\n",
    "                                grid_yt=np.unique(grid_yt_sel))\n",
    "        \n",
    "        #get perpindicular segments\n",
    "        segs_list = list(split_today.loc[0,'fireline_split'].geoms)\n",
    "        segs = gpd.GeoDataFrame({'ind':np.arange(0,len(segs_list)),\n",
    "                        'time': np.repeat(today,len(segs_list)),\n",
    "                        'geometry':segs_list})\n",
    "        segs = segs[segs.length>0.0005]\n",
    "        perp_segs = find_perp_outside_segments(segs,0.005, perim_today.loc[0,'perimeter']) #get the perpindicular segments\n",
    "       \n",
    "        #get the length weights\n",
    "        fireline_length = segs['geometry'].length\n",
    "        fireline_length_fraction = fireline_length/(np.nansum(fireline_length))\n",
    "\n",
    "        #do the wind interpolation\n",
    "        x_interp, y_interp = interpnn_3d(hrrr_region, perp_segs)\n",
    "        \n",
    "        times_back_used = np.array([times_back_used[kk].to_datetime64() for kk in range(len(times_back_used))])\n",
    "        print(type(np.where(times_back_used>=today)[0]))\n",
    "        times_today = times_back_used[times_back_used>=today]\n",
    "        print(times_today)\n",
    "        \n",
    "        for hour in times_today:\n",
    "            print(hour)\n",
    "            hrrr_region_hour = hrrr_region.sel(time=hour) #select HRRR for the hour\n",
    "            \n",
    "            #do the polygon-averaged variables\n",
    "            for var_raw in varis_raw:\n",
    "                df_hrrr_raw[var_raw].iloc[count] = \\\n",
    "                    np.nansum(intersection_sub['weights'].values*\\\n",
    "                    hrrr_region_hour.sel(grid_yt = np.unique(intersection_sub['row'].values),\n",
    "                                        grid_xt = np.unique(intersection_sub['col'].values))[var_raw].values, axis=(1,2))\n",
    "         \n",
    "            \n",
    "            uwind_nearest = hrrr_region['uwind_10m'].sel(time=hour).values[x_interp,y_interp] \n",
    "            vwind_nearest = hrrr_region['vwind_10m'].sel(time=hour).values[x_interp,y_interp]\n",
    "\n",
    "            #get the perpindicular fraction\n",
    "            #unit_vectors\n",
    "            uwind_unit = uwind_nearest/np.sqrt((uwind_nearest**2)+(vwind_nearest**2))\n",
    "            vwind_unit = vwind_nearest/np.sqrt((uwind_nearest**2)+(vwind_nearest**2))\n",
    "            speed_nearest = np.sqrt((uwind_nearest**2)+(vwind_nearest**2))\n",
    "\n",
    "            #what portion of the unit vector is along the perpindicular? this uses cos(x) = u.v/||u||*||v|| vector law\n",
    "            scale_factor = ((perp_segs['x']*uwind_unit)+(perp_segs['y']*vwind_unit))/(np.sqrt((perp_segs['x']**2)+(perp_segs['y']**2)))\n",
    "            scale_factor_zeroed = ((perp_segs['x']*uwind_unit)+(perp_segs['y']*vwind_unit))/(np.sqrt((perp_segs['x']**2)+(perp_segs['y']**2)))\n",
    "            scale_factor_zeroed[scale_factor_zeroed<0] =0 \n",
    "            speed_perp = speed_nearest*scale_factor_zeroed\n",
    "            \n",
    "            \n",
    "            #calculate the components of the derived indices\n",
    "            dw0 = np.nansum(speed_perp.values*fireline_length_fraction) #directional wind\n",
    "            w0 = df_hrrr_raw.loc[count,'wind_speed']\n",
    "            hd00 = np.nansum(intersection_sub['weights'].values*\\\n",
    "                                  hrrr_region.sel(time=hour,\n",
    "                                                  grid_yt = np.unique(intersection_sub['row'].values),\n",
    "                                                  grid_xt = np.unique(intersection_sub['col'].values))['vpd_2m'].values, \n",
    "                                  axis=(1,2))[0]\n",
    "            print(hd00,dw0,w0)\n",
    "            hd05 = np.nansum(intersection_sub['weights'].values*\\\n",
    "                                  hrrr_region.sel(time=hour-np.timedelta64(12,'h'),\n",
    "                                                  grid_yt = np.unique(intersection_sub['row'].values),\n",
    "                                                  grid_xt = np.unique(intersection_sub['col'].values))['vpd_2m'].values, \n",
    "                                  axis=(1,2))[0]\n",
    "            hd10 = np.nansum(intersection_sub['weights'].values*\\\n",
    "                                  hrrr_region.sel(time=hour-np.timedelta64(24,'h'),\n",
    "                                                  grid_yt = np.unique(intersection_sub['row'].values),\n",
    "                                                  grid_xt = np.unique(intersection_sub['col'].values))['vpd_2m'].values, \n",
    "                                  axis=(1,2))[0]\n",
    "            hd15 = np.nansum(intersection_sub['weights'].values*\\\n",
    "                                  hrrr_region.sel(time=hour-np.timedelta64(36,'h'),\n",
    "                                                  grid_yt = np.unique(intersection_sub['row'].values),\n",
    "                                                  grid_xt = np.unique(intersection_sub['col'].values))['vpd_2m'].values, \n",
    "                                  axis=(1,2))[0]\n",
    "            hd20 = np.nansum(intersection_sub['weights'].values*\\\n",
    "                                  hrrr_region.sel(time=hour-np.timedelta64(48,'h'),\n",
    "                                                  grid_yt = np.unique(intersection_sub['row'].values),\n",
    "                                                  grid_xt = np.unique(intersection_sub['col'].values))['vpd_2m'].values, \n",
    "                                  axis=(1,2))[0]\n",
    "            hd25 = np.nansum(intersection_sub['weights'].values*\\\n",
    "                                  hrrr_region.sel(time=hour-np.timedelta64(60,'h'),\n",
    "                                                  grid_yt = np.unique(intersection_sub['row'].values),\n",
    "                                                  grid_xt = np.unique(intersection_sub['col'].values))['vpd_2m'].values, \n",
    "                                  axis=(1,2))[0]\n",
    "            hd30 = np.nansum(intersection_sub['weights'].values*\\\n",
    "                                  hrrr_region.sel(time=hour-np.timedelta64(72,'h'),\n",
    "                                                  grid_yt = np.unique(intersection_sub['row'].values),\n",
    "                                                  grid_xt = np.unique(intersection_sub['col'].values))['vpd_2m'].values, \n",
    "                                  axis=(1,2))[0]\n",
    "            \n",
    "\n",
    "            \n",
    "            #calculate the derived variables\n",
    "            df_hrrr_derived.loc[count,'day'] = hour\n",
    "            df_hrrr_derived.loc[count,'dhd00w0'] = hd00*dw0\n",
    "            df_hrrr_derived.loc[count,'dhd05w0'] = hd05*dw0\n",
    "            df_hrrr_derived.loc[count,'dhd10w0'] = hd10*dw0\n",
    "            df_hrrr_derived.loc[count,'dhd15w0'] = hd15*dw0\n",
    "            df_hrrr_derived.loc[count,'dhd20w0'] = hd20*dw0\n",
    "            df_hrrr_derived.loc[count,'dhd25w0'] = hd25*dw0\n",
    "            df_hrrr_derived.loc[count,'dhd30w0'] = hd30*dw0\n",
    "            \n",
    "            df_hrrr_derived.loc[count,'hd00w0'] = hd00*w0\n",
    "            df_hrrr_derived.loc[count,'hd05w0'] = hd05*w0\n",
    "            df_hrrr_derived.loc[count,'hd10w0'] = hd10*w0\n",
    "            df_hrrr_derived.loc[count,'hd15w0'] = hd15*w0\n",
    "            df_hrrr_derived.loc[count,'hd20w0'] = hd20*w0\n",
    "            df_hrrr_derived.loc[count,'hd25w0'] = hd25*w0\n",
    "            df_hrrr_derived.loc[count,'hd30w0'] = hd30*w0\n",
    "            \n",
    "            #process wind just like in the python script\n",
    "            df_hrrr_derived.loc[count,'dhwp'] = df_hrrr_raw.loc[count,'veg_term']*\\\n",
    "                                                    (np.nansum(speed_perp.values*fireline_length_fraction)**1.11)*\\\n",
    "                                                    (df_hrrr_raw.loc[count,'dd_term']**0.92)*\\\n",
    "                                                    (df_hrrr_raw.loc[count,'mois_term']**6.95)*\\\n",
    "                                                    (df_hrrr_raw.loc[count,'snowc_term'])\n",
    "                \n",
    "            \n",
    "            \n",
    "            count=count+1\n",
    "        \n",
    "    \n",
    "    df_hrrr_hourly = pd.concat([df_hrrr_derived,df_hrrr_raw],axis=1)\n",
    "    #df_hrrr_12h = df_hrrr_hourly.set_index('day').resample('12H').mean()\n",
    "    return(df_hrrr_hourly)"
   ]
  },
  {
   "cell_type": "code",
   "execution_count": null,
   "id": "ad292e91",
   "metadata": {
    "hidden": true
   },
   "outputs": [],
   "source": [
    "#nearest neighbor interpolation\n",
    "#gives x and y values to select\n",
    "#hrrr needs to be for a given timestep and subsetted to polygon shape\n",
    "def interpnn(hrrr, perps):\n",
    "    #code up nearest neighbor\n",
    "    hrrr_lat_shape = hrrr['grid_latt'].values.shape\n",
    "    hrrr_lat = np.tile(hrrr['grid_latt'].values,(len(perps),1,1))\n",
    "    midpoint_lat = np.tile(perps['y_mid'].values,hrrr_lat_shape[0]*hrrr_lat_shape[1]).reshape(hrrr_lat.shape,order='F')\n",
    "        \n",
    "    hrrr_lon_shape = hrrr['grid_lont'].values.shape\n",
    "    hrrr_lon = np.tile(hrrr['grid_lont'].values,(len(perps),1,1))\n",
    "    midpoint_lon = np.tile(perps['x_mid'].values,hrrr_lon_shape[0]*hrrr_lon_shape[1]).reshape(hrrr_lon.shape,order='F')\n",
    "        \n",
    "    distances = np.sqrt(((hrrr_lon-midpoint_lon)**2)+((hrrr_lat-midpoint_lat)**2))\n",
    "    indices = np.array([np.where(distances==np.nanmin(distances,axis=(1,2))[kk])for kk in range(len(perps))])\n",
    "    x_nearest_sel = np.squeeze(indices[:,1,:])\n",
    "    y_nearest_sel = np.squeeze(indices[:,2,:])\n",
    "    return x_nearest_sel, y_nearest_sel"
   ]
  },
  {
   "cell_type": "code",
   "execution_count": null,
   "id": "dea44ee7",
   "metadata": {
    "code_folding": [
     0
    ],
    "hidden": true
   },
   "outputs": [],
   "source": [
    " fig,ax=plt.subplots(figsize=(15,15))\n",
    "        perimeter.plot(ax=ax,color='r',alpha=0.5)\n",
    "        segs.plot(ax=ax,column='ind',linewidth=2,legend=True,cmap='tab20_r')\n",
    "        perp_segs.plot(ax=ax,color='k')\n",
    "        plt.quiver(hrrr_subdaily_mean_wind_region['grid_lont'], hrrr_subdaily_mean_wind_region['grid_latt'], hrrr_subdaily_mean_wind_region['uwind_10m'], hrrr_subdaily_mean_wind_region['vwind_10m'])\n",
    "        plt.title(str(today))\n",
    "        plt.show()\n",
    "        \n",
    "        print(interp_at_perps(hrrr_subdaily_mean_wind_region,perp_segs,'uwind_10m'))\n",
    "        print(interp_at_perps(hrrr_subdaily_mean_wind_region,perp_segs,'vwind_10m'))\n",
    "        print(interp_at_perps(hrrr_subdaily_mean_wind_region,perp_segs,'wind_speed'))\n",
    "\n",
    "        print('hi')\n",
    "        "
   ]
  },
  {
   "cell_type": "code",
   "execution_count": null,
   "id": "5e8ae5cc",
   "metadata": {
    "code_folding": [],
    "hidden": true
   },
   "outputs": [],
   "source": [
    "#input HRRR at a given timestep (today)\n",
    "def calculate_perp_ws(hrrr,perps):\n",
    "     #interpolate the u and v components, for direction with scipy\n",
    "    unew = interp_at_perps(hrrr,perps,'uwind_10m')\n",
    "    vnew = interp_at_perps(hrrr,perps,'vwind_10m')\n",
    "    speednew = interp_at_perps(hrrr,perps,'wind_speed')\n",
    "    \n",
    "    #unit_vectors\n",
    "    unew_unit = unew/np.sqrt((unew**2)+(vnew**2))\n",
    "    vnew_unit = vnew/np.sqrt((unew**2)+(vnew**2))\n",
    "    #what portion of the unit vector is along the perpindicular? this uses cos(x) = u.v/||u||*||v|| vector law\n",
    "    scale_factor = ((perps['x']*unew_unit)+\n",
    "                                 (perps['y']*vnew_unit))/(np.sqrt((perps['x']**2)+(perps['y']**2)))\n",
    "    scale_factor[scale_factor<0] =0    \n",
    "    perp_wind_speed = scale_factor*speednew\n",
    "    return perp_wind_speed"
   ]
  },
  {
   "cell_type": "code",
   "execution_count": null,
   "id": "8dd5e669",
   "metadata": {
    "hidden": true
   },
   "outputs": [],
   "source": [
    "#input HRRR at a given timestep (today),  the perpindiculars, and the name of the variable you want to interpolate\n",
    "def interp_at_perps(hrrr,perps,var_interp):\n",
    "     #interpolate the u and v components, for direction with scipy\n",
    "    f_var = si.interp2d(hrrr['grid_lont'].values.flatten(), \n",
    "                      hrrr['grid_latt'].values.flatten(), \n",
    "                      hrrr[var_interp].values.flatten(),kind='linear')\n",
    "    var_new = np.array([f_var(perps['x_mid'].values[kk], perps['y_mid'].values[kk])[0] \n",
    "                     for kk in range(len(perps))])\n",
    "    return var_new"
   ]
  },
  {
   "cell_type": "code",
   "execution_count": null,
   "id": "9196d068",
   "metadata": {
    "hidden": true
   },
   "outputs": [],
   "source": [
    "#IN df_segs, a geodataframe of the line segments making up the fire front\n",
    "#IN d, the length of the resulting perpindicular segments\n",
    "#OUT \n",
    "def find_perp_outside_segments(df_segs,d,perim):\n",
    "    #allocate the \n",
    "    varis_seg = ['time','x_mid','y_mid','x_outside','y_outside']\n",
    "    perpindicular_segments = generate_df(varis_seg, len(df_segs))\n",
    "    perpindicular_segments['time'] = df_segs['time'].values\n",
    "    \n",
    "    #get the start and end points of each line\n",
    "    x1 =np.array([list(df_segs['geometry'].iloc[ll].coords)[0][0] for ll in range(len(df_segs))])\n",
    "    y1 =np.array([list(df_segs['geometry'].iloc[ll].coords)[0][1] for ll in range(len(df_segs))])\n",
    "    x2 =np.array([list(df_segs['geometry'].iloc[ll].coords)[1][0] for ll in range(len(df_segs))])\n",
    "    y2 =np.array([list(df_segs['geometry'].iloc[ll].coords)[1][1] for ll in range(len(df_segs))])\n",
    "    \n",
    "    #get the midpoints\n",
    "    x_mid = (x1+x2)/2\n",
    "    y_mid = (y1+y2)/2\n",
    "    perpindicular_segments['x_mid'] = x_mid\n",
    "    perpindicular_segments['y_mid'] = y_mid\n",
    "    \n",
    "    \n",
    "    #get the slopes and perp slope of each segment\n",
    "    m_line = (y2-y1)/(x2-x1)\n",
    "    m_perp = -1/m_line\n",
    "    \n",
    "    #get the inward and outward pointing perpindiculars\n",
    "    x_mid_plus = x_mid+(d/np.sqrt(1+(m_perp**2)))\n",
    "    y_mid_plus = (m_perp*(x_mid_plus-x_mid)) + y_mid\n",
    "    x_mid_minus = x_mid-(d/np.sqrt(1+(m_perp**2)))\n",
    "    y_mid_minus = (m_perp*(x_mid_minus-x_mid)) + y_mid\n",
    "    \n",
    "    #when m_line = 0 (just add d to the y direction)\n",
    "    x_mid_plus[m_line==0] = x_mid[m_line==0]\n",
    "    x_mid_minus[m_line==0] = x_mid[m_line==0]\n",
    "    y_mid_plus[m_line==0] = y_mid[m_line==0]+d\n",
    "    y_mid_minus[m_line==0] = y_mid[m_line==0]-d\n",
    "    \n",
    "    #turn them into points\n",
    "    plus_points = [Point(list(zip(x_mid_plus,y_mid_plus))[mm]) for mm in range(len(df_segs))]\n",
    "    minus_points = [Point(list(zip(x_mid_minus,y_mid_minus))[mm]) for mm in range(len(df_segs))]\n",
    "    \n",
    "    x_outside = np.zeros(len(df_segs))\n",
    "    y_outside = np.zeros(len(df_segs))\n",
    "    \n",
    "    #check which points are in the polygons, drop those\n",
    "    for xx in range(len(df_segs)):\n",
    "        #print(perim['geometry'].iloc[0])\n",
    "        if not perim.contains(plus_points[xx]):\n",
    "            #print(xx)\n",
    "            x_outside[xx] = x_mid_plus[xx]\n",
    "            y_outside[xx] =y_mid_plus[xx]\n",
    "        if not perim.contains(minus_points[xx]):\n",
    "            x_outside[xx] = x_mid_minus[xx]\n",
    "            y_outside[xx] = y_mid_minus[xx]\n",
    "            \n",
    "    perpindicular_segments['x_outside']=x_outside\n",
    "    perpindicular_segments['y_outside']=y_outside\n",
    "\n",
    "    perpindicular_segments['x'] = x_outside-x_mid\n",
    "    perpindicular_segments['y'] = y_outside-y_mid\n",
    "    #add the outwrd pointing perp as the main tracked geometry\n",
    "    perpindicular_segments['perpindicular_lines'] = [LineString(((perpindicular_segments['x_mid'].iloc[xx], perpindicular_segments['y_mid'].iloc[xx]),\n",
    "                                         (perpindicular_segments['x_outside'].iloc[xx], perpindicular_segments['y_outside'].iloc[xx]))) \n",
    "                                             for xx in range(len(perpindicular_segments))] \n",
    "    perpindicular_segments = perpindicular_segments.set_geometry('perpindicular_lines')\n",
    "    return perpindicular_segments"
   ]
  },
  {
   "cell_type": "code",
   "execution_count": null,
   "id": "06142738",
   "metadata": {
    "hidden": true
   },
   "outputs": [],
   "source": [
    "def make_hrrr_file_namelist(time):\n",
    "    base_filename = '/data2/lthapa/ML_daily/pygraf/Processed_HRRR_YYYYMMDDHH.nc'\n",
    "    base_filename_list = np.array([])\n",
    "    times_back_used = np.array([])\n",
    "\n",
    "    \n",
    "    for jj in range(len(time)):\n",
    "        fname = base_filename.replace('YYYYMMDDHH',time[jj].strftime('%Y%m%d%H'))\n",
    "        if exists(fname):\n",
    "            base_filename_list = np.append(base_filename_list,fname)\n",
    "            times_back_used = np.append(times_back_used,time[jj])\n",
    "            \n",
    "    return base_filename_list, times_back_used"
   ]
  },
  {
   "cell_type": "markdown",
   "id": "83e065a0",
   "metadata": {
    "heading_collapsed": true
   },
   "source": [
    "### RAVE"
   ]
  },
  {
   "cell_type": "code",
   "execution_count": 35,
   "id": "67c8f370",
   "metadata": {
    "hidden": true
   },
   "outputs": [],
   "source": [
    "def rave_timeseries(df, day_start_hour, sum_interval):\n",
    "    varis = ['Mean_FRP', 'FRE', 'CO2', 'CO', 'SO2', 'OC', 'BC', 'PM2.5', 'NOx', 'NH3'] #don't need 'area', it's the area of each cell\n",
    "\n",
    "    #do the intersection, in parallel\n",
    "    rave_intersections = Parallel(n_jobs=8)(delayed(calculate_intersection)\n",
    "                                 (df.iloc[ii:ii+1],'RAVE_GRID',0.1) \n",
    "                                 for ii in range(len(df)))\n",
    "    fire_rave_intersection=gpd.GeoDataFrame(pd.concat(rave_intersections, ignore_index=True))\n",
    "    fire_rave_intersection.set_geometry(col='geometry')    \n",
    "    #print(fire_rave_intersection)\n",
    "    fire_rave_intersection = fire_rave_intersection.set_index([str(day_start_hour)+ 'Z Start Day', 'row', 'col'])\n",
    "    fire_rave_intersection=fire_rave_intersection[~fire_rave_intersection.index.duplicated()]\n",
    "\n",
    "    fire_rave_intersection_xr = fire_rave_intersection.to_xarray()\n",
    "    \n",
    "    #load in rave data associated with the fire\n",
    "    times = pd.date_range(np.datetime64(df[str(day_start_hour)+ 'Z Start Day'].iloc[0]),\n",
    "                        np.datetime64(df[str(day_start_hour)+ 'Z Start Day'].iloc[len(df)-1])+\n",
    "                        np.timedelta64(1,'D'))\n",
    "    rave_filenames,times_back_used = make_file_namelist(times,'/data2/lthapa/YYYY/AprYYYY_to_OctYYYY/Hourly_Emissions_FV3_13km_YYYYMMDD0000_YYYYMMDD2300xr.nc')\n",
    "    dat_rave = xr.open_mfdataset(rave_filenames,concat_dim='Time',combine='nested',compat='override', coords='all')\n",
    "    dat_rave = dat_rave.assign_coords({'Time': dat_rave.time}) #assign coords so we can resample along time\n",
    "    dat_rave = dat_rave.resample(Time=str(sum_interval)+'H',base=day_start_hour).sum(dim='Time') #take the daily sum\n",
    "    \n",
    "    print(fire_rave_intersection_xr[str(day_start_hour)+ 'Z Start Day'].values)\n",
    "    print(dat_rave['Time'].values)\n",
    "    #select the locations and times we want\n",
    "    dat_rave_sub = dat_rave.isel(yFRP = fire_rave_intersection_xr['row'].values.astype(int), \n",
    "                    xFRP = fire_rave_intersection_xr['col'].values.astype(int)).sel(\n",
    "                    Time = pd.to_datetime(fire_rave_intersection_xr[str(day_start_hour)+ 'Z Start Day'].values+\n",
    "                                         'T12:00:00.000000000'))#these should be lined up correctly\n",
    "\n",
    "    ndays = len(fire_rave_intersection_xr[str(day_start_hour)+ 'Z Start Day'])\n",
    "    \n",
    "    #preallocate space for the output\n",
    "    df_rave = pd.DataFrame({'day':np.zeros(ndays),'Mean_FRP':np.zeros(ndays),\\\n",
    "                          'FRE':np.zeros(ndays),  'CO2':np.zeros(ndays),  'CO':np.zeros(ndays),\\\n",
    "                          'SO2':np.zeros(ndays),  'OC':np.zeros(ndays),  'BC':np.zeros(ndays),\\\n",
    "                          'PM2.5':np.zeros(ndays),  'NOx':np.zeros(ndays),  'NH3':np.zeros(ndays)})\n",
    "\n",
    "    df_rave['day'].iloc[:] = pd.to_datetime(fire_rave_intersection_xr[str(day_start_hour)+ 'Z Start Day'].values)\n",
    "    for var in varis:\n",
    "        df_rave[var] = np.nansum(fire_rave_intersection_xr['weights'].values*dat_rave_sub[var].values, axis=(1,2))\n",
    "    \n",
    "    return df_rave"
   ]
  },
  {
   "cell_type": "code",
   "execution_count": 3,
   "id": "837c4db5",
   "metadata": {
    "hidden": true
   },
   "outputs": [],
   "source": [
    "def make_rave_file_namelist(time):\n",
    "    base_filename = '/data2/lthapa/YEAR/AprYEAR_to_OctYEAR/Hourly_Emissions_FV3_13km_FULLDATE0000_FULLDATE2300xr.nc'\n",
    "    base_filename_list = np.repeat(base_filename, len(time))\n",
    "\n",
    "    \n",
    "    for jj in range(len(time)):\n",
    "        base_filename_list[jj] = base_filename_list[jj].replace('YEAR',time[jj].strftime('%Y')).\\\n",
    "                                    replace('FULLDATE',time[jj].strftime('%Y%m%d'))\n",
    "    return base_filename_list"
   ]
  },
  {
   "cell_type": "markdown",
   "id": "6a998ea2",
   "metadata": {
    "heading_collapsed": true
   },
   "source": [
    "### PWS"
   ]
  },
  {
   "cell_type": "code",
   "execution_count": 2,
   "id": "cb4eab5a",
   "metadata": {
    "hidden": true
   },
   "outputs": [],
   "source": [
    "def pws_timeseries(df, day_start_hour):\n",
    "    #do the intersection, in parallel\n",
    "    tic = datetime.datetime.now()\n",
    "    pws_intersections = Parallel(n_jobs=8)(delayed(calculate_intersection)\n",
    "                                 (fire_daily.iloc[ii:ii+1],'PWS_GRID',0.05) \n",
    "                                 for ii in range(len(fire_daily)))\n",
    "    toc = datetime.datetime.now()\n",
    "    print(toc-tic)\n",
    "    fire_pws_intersection=gpd.GeoDataFrame(pd.concat(pws_intersections, ignore_index=True))\n",
    "    fire_pws_intersection.set_geometry(col='geometry')\n",
    "    fire_pws_intersection = fire_pws_intersection.set_index([str(day_start_hour)+ 'Z Start Day', 'lat', 'lon'])\n",
    "    \n",
    "    fire_pws_intersection_xr = fire_pws_intersection.to_xarray()\n",
    "    \n",
    "    #load in PWS data associated with the fire (it's only one dataset)\n",
    "    \n",
    "    #open the PWS files\n",
    "    path_pws = '/data2/lthapa/PWS_6_jan_2021.nc'\n",
    "    dat_pws = xr.open_dataset(path_pws) #map is fixed in time\n",
    "    #print(dat_pws)\n",
    "    \n",
    "    dat_pws = dat_pws.assign_coords({'time': pd.to_datetime(fire_pws_intersection_xr[str(day_start_hour)+ 'Z Start Day'].values)})\n",
    "    dat_pws_daily = dat_pws['Band1'].expand_dims({'time': pd.to_datetime(fire_pws_intersection_xr[str(day_start_hour)+ 'Z Start Day'].values)}) #the PWS expanded over all the days\n",
    "    \n",
    "    dat_pws_daily_sub = dat_pws_daily.sel(lat = fire_pws_intersection_xr['lat'].values, \n",
    "                                          lon = fire_pws_intersection_xr['lon'].values,\n",
    "                      time = pd.to_datetime(fire_pws_intersection_xr[str(day_start_hour)+ 'Z Start Day'].values), method='nearest')\n",
    "                                          \n",
    "    ndays = len(fire_pws_intersection_xr[str(day_start_hour)+ 'Z Start Day'])\n",
    "    \n",
    "    #preallocate space for the output\n",
    "    df_pws = pd.DataFrame({'day':np.zeros(ndays),'PWS':np.zeros(ndays)})\n",
    "\n",
    "    df_pws['day'].iloc[:] = pd.to_datetime(fire_pws_intersection_xr[str(day_start_hour)+ 'Z Start Day'].values)\n",
    "    varis=['PWS']\n",
    "    for var in varis:\n",
    "        df_pws[var] = np.nansum(fire_pws_intersection_xr['weights'].values*dat_pws_daily_sub.values, axis=(1,2))\n",
    "    \n",
    "    return df_pws\n",
    "    "
   ]
  },
  {
   "cell_type": "markdown",
   "id": "230a0aa6",
   "metadata": {
    "heading_collapsed": true
   },
   "source": [
    "### HRRR IGBP Vegetation"
   ]
  },
  {
   "cell_type": "code",
   "execution_count": null,
   "id": "37aa51d9",
   "metadata": {
    "hidden": true
   },
   "outputs": [],
   "source": [
    "def hrrr_igbp_timeseries(df,day_start_hour):  \n",
    "    df_igbp = pd.DataFrame({'day': np.zeros(len(df)),'Fraction_Evergreen_Needleleaf_Forests':np.zeros(len(df)),\n",
    "                            'Fraction_Evergreen_Broadleaf_Forests':np.zeros(len(df)), \n",
    "                            'Fraction_Deciduous_Needleleaf_Forests':np.zeros(len(df)),\n",
    "                            'Fraction_Deciduous_Broadleaf_Forests':np.zeros(len(df)), \n",
    "                            'Fraction_Mixed_Forests':np.zeros(len(df)),\n",
    "                            'Fraction_Closed_Shrublands':np.zeros(len(df)),\n",
    "                            'Fraction_Open_Shrublands':np.zeros(len(df)),\n",
    "                            'Fraction_Woody_Savannas':np.zeros(len(df)),\n",
    "                            'Fraction_Savannas':np.zeros(len(df)),\n",
    "                            'Fraction_Grasslands':np.zeros(len(df)),\n",
    "                            'Fraction_Permanent_Wetlands':np.zeros(len(df)),\n",
    "                            'Fraction_Croplands':np.zeros(len(df)),\n",
    "                            'Fraction_Urban_and_Builtup_Lands':np.zeros(len(df)),\n",
    "                            'Fraction_Cropland_Natural_Vegetation_Mosaics':np.zeros(len(df)),\n",
    "                            'Fraction_Permanent_Snow_and_Ice':np.zeros(len(df)),\n",
    "                            'Fraction_Barren':np.zeros(len(df)),\n",
    "                            'Fraction_Water_Bodies':np.zeros(len(df))})\n",
    "    \n",
    "    varis = ['Evergreen Needleleaf Forests','Evergreen Broadleaf Forests', 'Deciduous Needleleaf Forests',\n",
    "         'Deciduous Broadleaf Forests','Mixed Forests','Closed Shrublands', 'Open Shrublands', 'Woody Savannas',\n",
    "         'Savannas','Grasslands', 'Permanent Wetlands','Croplands','Urban and Builtup Lands', \n",
    "         'Cropland Natural Vegetation Mosaics','Permanent Snow and Ice','Barren','Water Bodies']\n",
    "\n",
    "        \n",
    "    #do the intersection, in parallel\n",
    "    tic=time.time()\n",
    "    hrrr_intersections = Parallel(n_jobs=8)(delayed(calculate_intersection)\n",
    "                                 (fire_daily.iloc[ii:ii+1],'HRRR_GRID',0.05) \n",
    "                                 for ii in range(len(fire_daily)))\n",
    "    fire_hrrr_intersection=gpd.GeoDataFrame(pd.concat(hrrr_intersections, ignore_index=True))\n",
    "    fire_hrrr_intersection.set_geometry(col='geometry')\n",
    "    toc = time.time()\n",
    "    print(toc-tic)\n",
    "    fire_hrrr_intersection = fire_hrrr_intersection.set_index([str(day_start_hour)+ 'Z Start Day', 'row', 'col'])\n",
    "    fire_hrrr_intersection_xr = fire_hrrr_intersection.to_xarray()\n",
    "    print(fire_hrrr_intersection_xr['weights'].sum(dim=str(day_start_hour)+ 'Z Start Day'))\n",
    "    \n",
    "    #load in all the HRRR days we want\n",
    "    times = pd.date_range(np.datetime64(df[str(day_start_hour)+ 'Z Start Day'].iloc[0]),\n",
    "                        np.datetime64(df[str(day_start_hour)+ 'Z Start Day'].iloc[len(df)-1])+\n",
    "                        np.timedelta64(1,'D'))\n",
    "    files,times_used = make_file_namelist(times,'/data2/lthapa/ML_daily/pygraf/Processed_HRRR_YYYYMMDDHH.nc')\n",
    "    dat_hrrr = xr.open_mfdataset(files,concat_dim='time',combine='nested',compat='override', coords='all')\n",
    "    dat_hrrr = dat_hrrr.assign_coords({'time': times})\n",
    "\n",
    "    #select by time and location\n",
    "    hrrr_daily_mean = dat_hrrr['veggie'].resample(time='24H',base=day_start_hour, label='left').mean(dim='time') #take the daily mean        \n",
    "        \n",
    "    hrrr_daily_mean_region = hrrr_daily_mean.sel(grid_yt = np.unique(fire_hrrr_intersection_xr['row'].values),\n",
    "                                                 grid_xt = np.unique(fire_hrrr_intersection_xr['col'].values),\n",
    "                                                 time = pd.to_datetime(fire_hrrr_intersection_xr[str(day_start_hour)+ 'Z Start Day'].values+\n",
    "                                                 'T'+str(day_start_hour)+':00:00')) #get the location of the overlaps\n",
    "    \n",
    "    \n",
    "    df_igbp['day'] = pd.to_datetime(fire_hrrr_intersection_xr[str(day_start_hour)+ 'Z Start Day'].values+\n",
    "                                                 'T'+str(day_start_hour)+':00:00')\n",
    "    \n",
    "    weights_fire = fire_hrrr_intersection_xr['weights'].values\n",
    "    veggie_fire = hrrr_daily_mean_region.values\n",
    "    \n",
    "    for vt in range(1,18):\n",
    "        weights_by_veg_type= np.where(veggie_fire==vt,weights_fire,0)\n",
    "        #print(np.nansum(weights_by_veg_type,axis=(1,2))) #this is what we want to return\n",
    "        df_igbp['Fraction_'+varis[vt-1].replace(' ', '_')] = np.nansum(weights_by_veg_type,axis=(1,2))\n",
    "        \n",
    "    \n",
    "    \n",
    "    df_igbp_choose_max = df_igbp[['Fraction_Evergreen_Needleleaf_Forests','Fraction_Evergreen_Broadleaf_Forests', 'Fraction_Deciduous_Needleleaf_Forests',\n",
    "                            'Fraction_Deciduous_Broadleaf_Forests', 'Fraction_Mixed_Forests','Fraction_Closed_Shrublands',\n",
    "                            'Fraction_Open_Shrublands','Fraction_Woody_Savannas','Fraction_Savannas',\n",
    "                            'Fraction_Grasslands','Fraction_Permanent_Wetlands','Fraction_Croplands',\n",
    "                            'Fraction_Urban_and_Builtup_Lands','Fraction_Cropland_Natural_Vegetation_Mosaics','Fraction_Permanent_Snow_and_Ice',\n",
    "                            'Fraction_Barren','Fraction_Water_Bodies']]\n",
    "    \n",
    "    return df_igbp\n",
    "\n",
    "   "
   ]
  },
  {
   "cell_type": "markdown",
   "id": "aef749a3",
   "metadata": {
    "heading_collapsed": true
   },
   "source": [
    "### ESI"
   ]
  },
  {
   "cell_type": "code",
   "execution_count": 18,
   "id": "49f7517f",
   "metadata": {
    "hidden": true
   },
   "outputs": [],
   "source": [
    "def esi_timeseries(df, day_start_hour):\n",
    "    #preallocate space for the output\n",
    "    df_esi = pd.DataFrame({'day':np.zeros(len(df)),'ESI':np.zeros(len(df))})\n",
    "    \n",
    "    #do the intersection, in parallel\n",
    "    #tic=time.time()\n",
    "    esi_intersections = Parallel(n_jobs=8)(delayed(calculate_intersection)\n",
    "                                 (fire_daily.iloc[ii:ii+1],'ESI_GRID',0.05) \n",
    "                                 for ii in range(len(fire_daily)))\n",
    "    #toc = time.time()\n",
    "    #print(toc-tic)\n",
    "    \n",
    "    fire_esi_intersection=gpd.GeoDataFrame(pd.concat(esi_intersections, ignore_index=True))\n",
    "    fire_esi_intersection.set_geometry(col='geometry')\n",
    "    \n",
    "    \n",
    "    fire_esi_intersection = fire_esi_intersection.set_index([str(day_start_hour)+ 'Z Start Day', 'lat', 'lon'])\n",
    "    \n",
    "    fire_esi_intersection_xr = fire_esi_intersection.to_xarray()\n",
    "    print(fire_esi_intersection_xr['weights'].sum(dim=['lat','lon']))\n",
    "    \n",
    "\n",
    "    #load in esi data associated with the fire\n",
    "    times = pd.date_range(np.datetime64(df[str(day_start_hour)+ 'Z Start Day'].iloc[0]),\n",
    "                        np.datetime64(df[str(day_start_hour)+ 'Z Start Day'].iloc[len(df)-1])+\n",
    "                        np.timedelta64(1,'D'))\n",
    "    esi_filenames, esi_times = make_file_namelist(times,'/data2/lthapa/2020/ESI/DFPPM_4WK_YYYYJJJ.nc')\n",
    "    \n",
    "    print(esi_filenames)\n",
    "    print(esi_times)\n",
    "    \n",
    "    \n",
    "    #open the esi files\n",
    "    dat_esi = xr.open_mfdataset(esi_filenames,concat_dim='time',combine='nested',compat='override', coords='all')\n",
    "    dat_esi = dat_esi.assign_coords({'time': esi_times}) #assign coords so we can resample along time\n",
    "    dat_esi = dat_esi.where(dat_esi['Band1']!=-9999)\n",
    "    dat_esi_daily = dat_esi.reindex(time=times,method='nearest')\n",
    "    dat_esi_daily_sub = dat_esi_daily.sel(lat = fire_esi_intersection_xr['lat'].values, \n",
    "                                          lon = fire_esi_intersection_xr['lon'].values,\n",
    "                      time = pd.to_datetime(fire_esi_intersection_xr[str(day_start_hour)+ 'Z Start Day'].values), method='nearest')\n",
    "                                          \n",
    "\n",
    "    \n",
    "    \n",
    "\n",
    "    df_esi['day'].iloc[:] = pd.to_datetime(fire_esi_intersection_xr[str(day_start_hour)+ 'Z Start Day'].values)\n",
    "    varis=['ESI']\n",
    "    for var in varis:\n",
    "        df_esi[var] = np.nansum(fire_esi_intersection_xr['weights'].values*dat_esi_daily_sub['Band1'].values, axis=(1,2))\n",
    "    \n",
    "    return df_esi\n",
    "    "
   ]
  },
  {
   "cell_type": "code",
   "execution_count": null,
   "id": "56fbcb9c",
   "metadata": {
    "hidden": true
   },
   "outputs": [],
   "source": []
  },
  {
   "cell_type": "markdown",
   "id": "93b7c14c",
   "metadata": {
    "heading_collapsed": true
   },
   "source": [
    "### Resources/Personel (different format because database is excel spreadsheets, not netcdf files)"
   ]
  },
  {
   "cell_type": "code",
   "execution_count": null,
   "id": "4d0c5d9c",
   "metadata": {
    "hidden": true,
    "scrolled": true
   },
   "outputs": [],
   "source": [
    "def resources_timeseries(df, day_start_hour,sit209_data):\n",
    "\n",
    "    #get the fire incident number, lat, and lon\n",
    "    incident_number = df['Incident Number'].iloc[0]\n",
    "    fire_lat = df['Lat Fire'].iloc[0]\n",
    "    fire_lon = df['Lon Fire'].iloc[0]\n",
    "    #print(incident_number, fire_lat, fire_lon)\n",
    "    \n",
    "    sit209_data_fire = sit209_data[sit209_data['INC_IDENTIFIER']==incident_number]\n",
    "    #print(sit209_data_fire)\n",
    "    #do the time zone conversion\n",
    "    obj=TimezoneFinder() #initialize the timezone finder\n",
    "    tz = obj.timezone_at(lng=fire_lon, lat=fire_lat) #get the timezone\n",
    "    local = pytz.timezone(tz)\n",
    "    utc = pytz.utc\n",
    "    \n",
    "    #put the start and end times in local time\n",
    "    loc_dt_start = [local.localize(datetime.strptime(date, '%m/%d/%Y %H:%M:%S %p')) for date in sit209_data_fire['REPORT_FROM_DATE'].values]\n",
    "    loc_dt_end = [local.localize(datetime.strptime(date, '%m/%d/%Y %H:%M:%S %p')) for date in sit209_data_fire['REPORT_TO_DATE'].values]\n",
    "    \n",
    "    #put them in UTC time\n",
    "    utc_dt_start = [time_start.astimezone(utc) for time_start in loc_dt_start]\n",
    "    utc_dt_end = [time_end.astimezone(utc) for time_end in loc_dt_end]\n",
    "    \n",
    "    start_day = pd.to_datetime(utc_dt_start[0]).strftime('%Y-%m-%d')+' '+str(day_start_hour)+':00'\n",
    "    \n",
    "    \n",
    "    #reassign to UTC time, this DOES keep track of daylight savings (eg +7 is used for PDT, +8 is used for PST)\n",
    "    sit209_data_fire['Report Start UTC'] = pd.to_datetime(utc_dt_start)\n",
    "    sit209_data_fire['Report End UTC'] = pd.to_datetime(utc_dt_end)\n",
    "    sit209_data_fire['Timezone']= tz\n",
    "    \n",
    "    #localise the index\n",
    "    sit209_data_fire = sit209_data_fire.set_index(['Report Start UTC']).tz_localize(None)\n",
    "    #print(sit209_data_fire.iloc[0:4])\n",
    "    \n",
    "    \n",
    "    ## do the 12z-12z day grouping, based on the UTC times\n",
    "    #start_day_utc = str(utc_dt_start[0])\n",
    "    start_day_utc=str(df[str(day_start_hour)+'Z Start Day'][0])\n",
    "    start_datetime_utc = np.datetime64(start_day_utc[0:10]+'T'+str(day_start_hour).zfill(2)+':00')\n",
    "    print(start_datetime_utc)\n",
    "    #sit209_data_fire = sit209_data_fire.resample('24H',origin=start_datetime_utc)\n",
    "\n",
    "    personnel = sit209_data_fire['RESOURCE_PERSONNEL'].resample('24H',origin=start_datetime_utc).sum().reset_index()\n",
    "    percent_contained = sit209_data_fire['PCT_CONTAINED_COMPLETED'].resample('24H',origin=start_datetime_utc).mean().reset_index()\n",
    "    df_sit209 = pd.concat([percent_contained,personnel.drop(columns='Report Start UTC')],axis=1)\n",
    "    df_sit209.columns=['day', 'percent_contained', 'personnel']\n",
    "    df_sit209['day'] = pd.to_datetime(df_sit209['day'].values).strftime('%Y-%m-%d')\n",
    "    inds = df_sit209['day'].isin(df[str(day_start_hour)+'Z Start Day']).values\n",
    "    \n",
    "    return df_sit209[inds]\n",
    "    "
   ]
  },
  {
   "cell_type": "markdown",
   "id": "f18cfd44",
   "metadata": {},
   "source": [
    "### Fuel Loading (1km"
   ]
  },
  {
   "cell_type": "code",
   "execution_count": null,
   "id": "1a115a2e",
   "metadata": {},
   "outputs": [],
   "source": [
    "def fuel_loading_timeseries(df, day_start_hour):\n",
    "    #do the intersection, in parallel\n",
    "    tic = time.time()\n",
    "    fuel_loading_intersections = Parallel(n_jobs=8)(delayed(calculate_intersection)\n",
    "                                 (fire_daily.iloc[ii:ii+1],'FUEL_LOADING_GRID',0.05) \n",
    "                                 for ii in range(len(fire_daily)))\n",
    "    toc = time.time()\n",
    "    print(toc-tic)\n",
    "    \n",
    "    fire_fuel_loading_intersection=gpd.GeoDataFrame(pd.concat(fuel_loading_intersections, ignore_index=True))\n",
    "    fire_fuel_loading_intersection.set_geometry(col='geometry')\n",
    "    fire_fuel_loading_intersection = fire_fuel_loading_intersection.set_index([str(day_start_hour)+ 'Z Start Day', 'lat', 'lon'])\n",
    "    \n",
    "    fire_fuel_loading_intersection_xr = fire_fuel_loading_intersection.to_xarray()\n",
    "    \n",
    "    #load in fuel load data associated with the fire (it's only one dataset)\n",
    "    \n",
    "    #open the fuel loading file\n",
    "    path_fuel_loading = '/data/lthapa/GSL_Internship/fuel_loading_FCCS16.nc'\n",
    "    dat_fuel_loading = xr.open_dataset(path_fuel_loading) #map is fixed in time\n",
    "    \n",
    "    \n",
    "    dat_fuel_loading = dat_fuel_loading.assign_coords({'time': pd.to_datetime(fire_fuel_loading_intersection_xr[str(day_start_hour)+ 'Z Start Day'].values)})\n",
    "    dat_fuel_loading = dat_fuel_loading.where(dat_fuel_loading['fuel_loadings']!=-9999)    \n",
    "    dat_fuel_loading_daily = dat_fuel_loading['fuel_loadings'].expand_dims({'time': pd.to_datetime(fire_fuel_loading_intersection_xr[str(day_start_hour)+ 'Z Start Day'].values)}) #the PWS expanded over all the days\n",
    "    \n",
    "    dat_fuel_loading_daily_sub = dat_fuel_loading_daily.sel(lat = fire_fuel_loading_intersection_xr['lat'].values, \n",
    "                                          lon = fire_fuel_loading_intersection_xr['lon'].values,\n",
    "                      time = pd.to_datetime(fire_fuel_loading_intersection_xr[str(day_start_hour)+ 'Z Start Day'].values), method='nearest')\n",
    "                                          \n",
    "    ndays = len(fire_fuel_loading_intersection_xr[str(day_start_hour)+ 'Z Start Day'])\n",
    "    \n",
    "    #preallocate space for the output\n",
    "    df_fuel_loading = pd.DataFrame({'day':np.zeros(ndays),'fuel_loadings':np.zeros(ndays)})\n",
    "\n",
    "    df_fuel_loading['day'].iloc[:] = pd.to_datetime(fire_fuel_loading_intersection_xr[str(day_start_hour)+ 'Z Start Day'].values)\n",
    "    varis=['fuel_loadings']\n",
    "    for var in varis:\n",
    "        df_fuel_loading[var] = np.nansum(fire_fuel_loading_intersection_xr['weights'].values*dat_fuel_loading_daily_sub.values, axis=(1,2))\n",
    "    \n",
    "    return df_fuel_loading\n",
    "    "
   ]
  },
  {
   "cell_type": "markdown",
   "id": "54654301",
   "metadata": {
    "heading_collapsed": true
   },
   "source": [
    "### Fire Area (ha and ac)"
   ]
  },
  {
   "cell_type": "code",
   "execution_count": null,
   "id": "1adefd11",
   "metadata": {
    "hidden": true
   },
   "outputs": [],
   "source": [
    "def fire_area_timeseries(df,day_start_hour):\n",
    "    df_fire_area = df[[str(start_time)+'Z Start Day','fire area (ha)']].rename(columns={str(start_time)+'Z Start Day':'day'})\n",
    "    df_fire_area['fire area (m2)'] = df_fire_area['fire area (ha)']*10000\n",
    "    df_fire_area['fire area (acre)'] = df_fire_area['fire area (ha)']*2.471\n",
    "    return df_fire_area"
   ]
  },
  {
   "cell_type": "markdown",
   "id": "e4426784",
   "metadata": {
    "heading_collapsed": true
   },
   "source": [
    "### Fuel Loading"
   ]
  },
  {
   "cell_type": "code",
   "execution_count": null,
   "id": "8fc3bbcd",
   "metadata": {
    "hidden": true
   },
   "outputs": [],
   "source": [
    "def fuel_loading_timeseries(df,day_start_hour):\n",
    "    "
   ]
  },
  {
   "cell_type": "code",
   "execution_count": null,
   "id": "7e90f9aa",
   "metadata": {
    "hidden": true
   },
   "outputs": [],
   "source": []
  },
  {
   "cell_type": "code",
   "execution_count": null,
   "id": "1d2d67be",
   "metadata": {
    "hidden": true
   },
   "outputs": [],
   "source": []
  },
  {
   "cell_type": "markdown",
   "id": "d5b22179",
   "metadata": {
    "heading_collapsed": true
   },
   "source": [
    "### FWI IMERG"
   ]
  },
  {
   "cell_type": "code",
   "execution_count": 2,
   "id": "9d9ffb6a",
   "metadata": {
    "hidden": true
   },
   "outputs": [],
   "source": [
    "def imerg_fwi_timeseries(df, day_start_hour):\n",
    "    varis = ['day','IMERG.FINAL.v6_DC','IMERG.FINAL.v6_DMC','IMERG.FINAL.v6_FFMC',\n",
    "             'IMERG.FINAL.v6_ISI','IMERG.FINAL.v6_BUI','IMERG.FINAL.v6_FWI',\n",
    "             'IMERG.FINAL.v6_DSR'] \n",
    "    df_imerg = generate_df(varis, len(df))\n",
    "\n",
    "    #do the intersection, in parallel\n",
    "    fwi_intersections = Parallel(n_jobs=8)(delayed(calculate_intersection)\n",
    "                                 (df.iloc[ii:ii+1],'IMERG_FWI_GRID',0.1) \n",
    "                                 for ii in range(len(df)))\n",
    "    fire_fwi_intersection=gpd.GeoDataFrame(pd.concat(fwi_intersections, ignore_index=True))\n",
    "    fire_fwi_intersection.set_geometry(col='geometry')    \n",
    "    fire_fwi_intersection = fire_fwi_intersection.set_index([str(day_start_hour)+ 'Z Start Day', 'lat', 'lon'])\n",
    "\n",
    "    fire_fwi_intersection=fire_fwi_intersection[~fire_fwi_intersection.index.duplicated()]\n",
    "    \n",
    "    fire_fwi_intersection_xr = fire_fwi_intersection.to_xarray()\n",
    "\n",
    "    \n",
    "    #load in FWI data associated with the fire\n",
    "    times = pd.date_range(np.datetime64(df['UTC Day'].iloc[0]),\n",
    "                        np.datetime64(df['UTC Day'].iloc[len(df)-1])+\n",
    "                        np.timedelta64(1,'D'))\n",
    "    fwi_filenames,times_back_used = make_file_namelist(times,'/data2/lthapa/2020/FWI_IMERG/WESTUS_FWI.IMERG.FINAL.v6.Daily.Default.YYYYMMDD.nc')\n",
    "    \n",
    "    dat_fwi = xr.open_mfdataset(fwi_filenames,concat_dim='time',combine='nested',compat='override', coords='all')\n",
    "    dat_fwi = dat_fwi.assign_coords({'time': times_back_used}) #assign coords so we can resample along time\n",
    "    dat_fwi = dat_fwi.resample(time='1H').pad() #make the data hourly, so we can define the day as 12z-12z instead of 0z-0z\n",
    "    dat_fwi_mean = dat_fwi.resample(time='24H',base=day_start_hour ,label='left').mean(dim='time') #take the daily mean         \n",
    "    \n",
    "    #select the locations and times we want\n",
    "    dat_fwi_sub = dat_fwi_mean.isel(lat = fire_fwi_intersection_xr['lat'].values.astype(int), \n",
    "                    lon = fire_fwi_intersection_xr['lon'].values.astype(int)).sel(\n",
    "                    time = pd.to_datetime(fire_fwi_intersection_xr[str(day_start_hour)+ 'Z Start Day'].values+ ' '+\n",
    "                                         str(day_start_hour)+':00:00'), method='nearest')#these should be lined up correctly\n",
    "\n",
    "\n",
    "    df_imerg['day'].iloc[:] = pd.to_datetime(fire_fwi_intersection_xr['12Z Start Day'].values)\n",
    "    for var in varis[1:len(varis)]:\n",
    "        df_imerg[var] = np.nansum(fire_fwi_intersection_xr['weights'].values*dat_fwi_sub[var].values, axis=(1,2))\n",
    "    \n",
    "    return df_imerg"
   ]
  },
  {
   "cell_type": "markdown",
   "id": "255fc879",
   "metadata": {
    "heading_collapsed": true
   },
   "source": [
    "### FWI IMERG, not averaged"
   ]
  },
  {
   "cell_type": "code",
   "execution_count": 1,
   "id": "85f18861",
   "metadata": {
    "hidden": true
   },
   "outputs": [],
   "source": [
    "def imerg_fwi_timeseries(df, day_start_hour):\n",
    "    varis = ['day','IMERG.FINAL.v6_DC','IMERG.FINAL.v6_DMC','IMERG.FINAL.v6_FFMC',\n",
    "             'IMERG.FINAL.v6_ISI','IMERG.FINAL.v6_BUI','IMERG.FINAL.v6_FWI',\n",
    "             'IMERG.FINAL.v6_DSR'] \n",
    "    df_imerg = generate_df(varis, len(df))\n",
    "\n",
    "    #do the intersection, in parallel\n",
    "    fwi_intersections = Parallel(n_jobs=8)(delayed(calculate_intersection)\n",
    "                                 (df.iloc[ii:ii+1],'IMERG_FWI_GRID',0.1) \n",
    "                                 for ii in range(len(df)))\n",
    "    fire_fwi_intersection=gpd.GeoDataFrame(pd.concat(fwi_intersections, ignore_index=True))\n",
    "    fire_fwi_intersection.set_geometry(col='geometry')    \n",
    "    fire_fwi_intersection = fire_fwi_intersection.set_index([str(day_start_hour)+ 'Z Start Day', 'lat', 'lon'])\n",
    "\n",
    "    fire_fwi_intersection=fire_fwi_intersection[~fire_fwi_intersection.index.duplicated()]\n",
    "    \n",
    "    fire_fwi_intersection_xr = fire_fwi_intersection.to_xarray()\n",
    "\n",
    "    \n",
    "    #load in FWI data associated with the fire\n",
    "    times = pd.date_range(np.datetime64(df['UTC Day'].iloc[0]),\n",
    "                        np.datetime64(df['UTC Day'].iloc[len(df)-1])+\n",
    "                        np.timedelta64(1,'D'))\n",
    "    fwi_filenames,times_back_used = make_file_namelist(times,'/data2/lthapa/2020/FWI_IMERG/WESTUS_FWI.IMERG.FINAL.v6.Daily.Default.YYYYMMDD.nc')\n",
    "    \n",
    "    dat_fwi = xr.open_mfdataset(fwi_filenames,concat_dim='time',combine='nested',compat='override', coords='all')\n",
    "    dat_fwi = dat_fwi.assign_coords({'time': times_back_used}) #assign coords so we can resample along time\n",
    "    \n",
    "    #select the locations and times we want\n",
    "    dat_fwi_sub = dat_fwi.isel(lat = fire_fwi_intersection_xr['lat'].values.astype(int), \n",
    "                    lon = fire_fwi_intersection_xr['lon'].values.astype(int)).sel(\n",
    "                    time = pd.to_datetime(fire_fwi_intersection_xr[str(day_start_hour)+ 'Z Start Day'].values+ ' '+\n",
    "                                         str(day_start_hour)+':00:00'), method='nearest')#these should be lined up correctly\n",
    "\n",
    "\n",
    "    df_imerg['day'].iloc[:] = pd.to_datetime(fire_fwi_intersection_xr['12Z Start Day'].values)\n",
    "    for var in varis[1:len(varis)]:\n",
    "        df_imerg[var] = np.nansum(fire_fwi_intersection_xr['weights'].values*dat_fwi_sub[var].values, axis=(1,2))\n",
    "    \n",
    "    return df_imerg"
   ]
  },
  {
   "cell_type": "markdown",
   "id": "2e602b7b",
   "metadata": {},
   "source": [
    "## Dataset-Independent Helper Functions"
   ]
  },
  {
   "cell_type": "code",
   "execution_count": 4,
   "id": "4d530d0b",
   "metadata": {},
   "outputs": [],
   "source": [
    "#makes and saves a geodataframe of a grid given the center and corner points for that grid as 2D matrices\n",
    "def build_one_gridcell(LAT_COR, LON_COR, LAT_CTR, LON_CTR, loc):\n",
    "    ii=loc[0]\n",
    "    jj=loc[1]\n",
    "\n",
    "    #print(LAT_CTR[ii,jj], LON_CTR[ii,jj]) #ctr\n",
    "    sw = (LON_COR[ii, jj],LAT_COR[ii, jj]) #SW\n",
    "    se =(LON_COR[ii, jj+1],LAT_COR[ii, jj+1]) #SE\n",
    "    nw = (LON_COR[ii+1, jj],LAT_COR[ii+1, jj]) #NW\n",
    "    ne = (LON_COR[ii+1, jj+1],LAT_COR[ii+1, jj+1]) #NE\n",
    "            \n",
    "    poly_cell = Polygon([sw,nw,ne,se])\n",
    "\n",
    "    return LAT_CTR[ii,jj], LON_CTR[ii,jj],ii,jj,poly_cell\n",
    "    "
   ]
  },
  {
   "cell_type": "code",
   "execution_count": 5,
   "id": "fc6c0222",
   "metadata": {
    "code_folding": []
   },
   "outputs": [],
   "source": [
    "#poly is the polygon for one timestep (in lcc)\n",
    "#grid is an xarray of a model grid from the nc file\n",
    "#grid_names is a string array [0:'lat_center_name',1:'lon_center_name',2:'lat_corner_name',3:'lon_corner_name']\n",
    "\n",
    "def calculate_intersection(poly,dataset_name,bf):\n",
    "    print(poly['12Z Start Day'])\n",
    "    #load in the merra grid\n",
    "    grid = xr.open_dataset(dataset_name+'.nc')\n",
    "\n",
    "    #get the bounds of the buffered polygons\n",
    "    poly_latlon =poly.to_crs(epsg=4326)\n",
    "    bounds = poly_latlon.buffer(bf).bounds\n",
    "    \n",
    "    #first check for rows and cols, filtering near the polygon\n",
    "    [rows,cols] = np.where((grid.LAT_CTR.values>bounds['miny'].values)&\n",
    "                    (grid.LAT_CTR.values<bounds['maxy'].values)&\n",
    "                    (grid.LON_CTR.values>bounds['minx'].values)&\n",
    "                    (grid.LON_CTR.values<bounds['maxx'].values))\n",
    "    #print(rows,cols)\n",
    "    \n",
    "    locs = zip(rows,cols)\n",
    "    #print([loc for loc in locs])\n",
    "    \n",
    "    \"\"\"\n",
    "    if (rows.size==0)|(cols.size==0):\n",
    "        lat_middle = (bounds['maxy'].values+bounds['miny'].values)/2\n",
    "        lon_middle = (bounds['maxx'].values+bounds['minx'].values)/2\n",
    "        \n",
    "        distance = np.sqrt((grid.LAT_CTR.values-lat_middle)**2+(grid.LON_CTR.values-lon_middle)**2)\n",
    "        row_minloc,col_minloc = np.where(distance==np.min(distance))\n",
    "        print(row_minloc,col_minloc)\n",
    "        \n",
    "        rows = np.arange(row_minloc-1,row_minloc+2,1)\n",
    "        cols = np.arange(col_minloc-1,col_minloc+2,1)\n",
    "        \n",
    "        locs = [(row,col) for row in rows for col in cols]\n",
    "        \n",
    "    #print(rows,cols)\n",
    "    #print(locs)\n",
    "    \"\"\"\n",
    "    \n",
    "    #make a geodataframe (in paralell of the rows and cols)\n",
    "    results = Parallel(n_jobs=8)(delayed(build_one_gridcell)\n",
    "                                 (grid['LAT_COR'].values, grid['LON_COR'].values,\n",
    "                                  grid['LAT_CTR'].values, grid['LON_CTR'].values,loc) \n",
    "                                 for loc in locs)\n",
    "    \n",
    "    #format the grid subset into a dataframs\n",
    "    df_grid=gpd.GeoDataFrame(results)\n",
    "    df_grid.columns = ['lat', 'lon', 'row', 'col', 'geometry']\n",
    "    df_grid.set_geometry(col='geometry',inplace=True,crs='EPSG:4326') #need to say it's in lat/lon before transform to LCC\n",
    "    df_grid=df_grid.to_crs(epsg=3347)\n",
    "\n",
    "    \n",
    "    #intersect the polygon with the grid subset\n",
    "    intersection = gpd.overlay(df_grid, poly, how='intersection',keep_geom_type=False).drop_duplicates()\n",
    "    intersection['grid intersection area (ha)'] =intersection['geometry'].area/10000\n",
    "    intersection['weights'] = intersection['grid intersection area (ha)']/intersection['fire area (ha)'] \n",
    "    \n",
    "    return intersection\n"
   ]
  },
  {
   "cell_type": "code",
   "execution_count": 6,
   "id": "fd8ca6cf",
   "metadata": {},
   "outputs": [],
   "source": [
    "#LAT and LON are 2d arrays\n",
    "def calculate_grid_cell_corners(LAT, LON):\n",
    "    #we will assume the very edges of the polygons don't touch the boundary of the domain\n",
    "    lat_corners = (LAT[0:(LAT.shape[0]-1),  0:(LAT.shape[1])-1] + LAT[1:(LAT.shape[0]), 1:(LAT.shape[1])])/2\n",
    "    lon_corners = (LON[0:(LAT.shape[0]-1),  0:(LAT.shape[1])-1] + LON[1:(LAT.shape[0]), 1:(LAT.shape[1])])/2\n",
    "    return lat_corners, lon_corners\n"
   ]
  },
  {
   "cell_type": "code",
   "execution_count": 7,
   "id": "98def2c7",
   "metadata": {},
   "outputs": [],
   "source": [
    "def make_file_namelist(time,base_filename):\n",
    "    filename_list = np.array([])\n",
    "    times_back_used = np.array([])\n",
    "    for jj in range(len(time)):\n",
    "        fname = base_filename.replace('YYYY',time[jj].strftime('%Y')).\\\n",
    "                                replace('MM',time[jj].strftime('%m')).\\\n",
    "                                replace('DD',time[jj].strftime('%d')).\\\n",
    "                                replace('HH',time[jj].strftime('%H')).\\\n",
    "                                replace('JJJ',time[jj].strftime('%j'))\n",
    "        #print(fname)\n",
    "        if exists(fname):\n",
    "            filename_list = np.append(filename_list,fname)\n",
    "            times_back_used = np.append(times_back_used,time[jj])\n",
    "    return filename_list, times_back_used"
   ]
  },
  {
   "cell_type": "code",
   "execution_count": 8,
   "id": "003dda8d",
   "metadata": {},
   "outputs": [],
   "source": [
    "def generate_df(variables, length):\n",
    "    df = pd.DataFrame()\n",
    "    for vv in variables:\n",
    "        df[vv] = np.zeros(length)\n",
    "    return df"
   ]
  },
  {
   "cell_type": "code",
   "execution_count": 9,
   "id": "4beee271",
   "metadata": {},
   "outputs": [],
   "source": [
    "def segments(curve):\n",
    "    return list(map(LineString, zip(curve.coords[:-1], curve.coords[1:])))"
   ]
  },
  {
   "cell_type": "code",
   "execution_count": 10,
   "id": "0d52f72a",
   "metadata": {},
   "outputs": [],
   "source": [
    "#nearest neighbor interpolation, with a time component to the xarray\n",
    "#gives x and y values to select\n",
    "#hrrr needs to be for a given timestep and subsetted to polygon shape\n",
    "def interpnn_3d(hrrr, perps):\n",
    "    #code up nearest neighbor\n",
    "    hrrr_lat_values = hrrr['grid_latt'].values[0,:,:]\n",
    "    hrrr_lat_shape = hrrr_lat_values.shape\n",
    "    hrrr_lat = np.tile(hrrr_lat_values,(len(perps),1,1))\n",
    "    midpoint_lat = np.tile(perps['y_mid'].values,hrrr_lat_shape[0]*hrrr_lat_shape[1]).reshape(hrrr_lat.shape,order='F')\n",
    "    \n",
    "    hrrr_lon_values = hrrr['grid_lont'].values[0,:,:]\n",
    "    hrrr_lon_shape = hrrr_lon_values.shape\n",
    "    hrrr_lon = np.tile(hrrr_lon_values,(len(perps),1,1))\n",
    "    midpoint_lon = np.tile(perps['x_mid'].values,hrrr_lon_shape[0]*hrrr_lon_shape[1]).reshape(hrrr_lon.shape,order='F')\n",
    "        \n",
    "    distances = np.sqrt(((hrrr_lon-midpoint_lon)**2)+((hrrr_lat-midpoint_lat)**2))\n",
    "    indices = np.array([np.where(distances==np.nanmin(distances,axis=(1,2))[kk])for kk in range(len(perps))])\n",
    "    x_nearest_sel = np.squeeze(indices[:,1,:])\n",
    "    y_nearest_sel = np.squeeze(indices[:,2,:])\n",
    "    return x_nearest_sel, y_nearest_sel"
   ]
  },
  {
   "cell_type": "markdown",
   "id": "fff187a8",
   "metadata": {
    "heading_collapsed": true
   },
   "source": [
    "# Plot Directional HDW (for jan 30th update)"
   ]
  },
  {
   "cell_type": "code",
   "execution_count": null,
   "id": "44c2089b",
   "metadata": {
    "code_folding": [],
    "hidden": true,
    "scrolled": true
   },
   "outputs": [],
   "source": [
    "# process features using the Chen polygons\n",
    "#2020 fires\n",
    "#fire_incidents = ['AUGUST COMPLEX','BOBCAT', 'CREEK', 'DOLAN','LAKE']\n",
    "fire_incidents = ['AUGUST COMPLEX']\n",
    "\n",
    "start_time=12\n",
    "path_poly = '/data2/lthapa/ML_daily/fire_polygons/'\n",
    "suffix_poly = '_Chen_Poly_Perim_Perp.csv'\n",
    "\n",
    "for jj in range(len(fire_incidents)):\n",
    "    fire_name = fire_incidents[jj].lower().replace(' ','_')\n",
    "    #print(path_poly+fire_name+suffix_poly)\n",
    "    fire = pd.read_csv(path_poly+fire_name+suffix_poly)\n",
    "    fire=fire.dropna()\n",
    "    \n",
    "    for c in ['perimeter','polygon','fireline_split']:\n",
    "        fire[c] = fire[c].apply(shapely.wkt.loads) #read in the polygons as shapes\n",
    "    fire['time'] = fire['time'].astype('datetime64')\n",
    "    \n",
    "    #get the polygon dataframe set up\n",
    "    fire_poly = gpd.GeoDataFrame(fire[['time','polygon']],geometry='polygon')\n",
    "    fire_poly[str(start_time)+ 'Z Start Day'] = (pd.to_datetime(fire_poly['time'].values)-datetime.timedelta(hours=12)).strftime('%Y-%m-%d')\n",
    "\n",
    "    fire_poly['polygon'] = fire_poly['polygon'].buffer(0.001763092448) #need to buffer because we saved the points, which have no area\n",
    "    fire_poly = fire_poly.set_crs('EPSG:4326') #set the CRS to lat/lon\n",
    "    fire_poly = fire_poly.to_crs('EPSG:3347') #transform to LCC\n",
    "\n",
    "    #dissolve to check daily\n",
    "    fire_poly['UTC Day'] = (pd.to_datetime(fire_poly['time'].values)).strftime('%Y-%m-%d')\n",
    "    fire_poly['fire area (ha)'] = fire_poly['polygon'].area/10000 #hectares. from m2\n",
    "    \n",
    "    #get the perpindicular lines set up\n",
    "    fire_split = gpd.GeoDataFrame(fire[['time','fireline_split']],geometry='fireline_split')\n",
    "    fire_split[str(start_time)+ 'Z Start Day'] = (pd.to_datetime(fire_split['time'].values)-datetime.timedelta(hours=12)).strftime('%Y-%m-%d')\n",
    "    fire_split = fire_split.iloc[np.array(fire_poly['UTC Day'].values,dtype='datetime64')<=np.datetime64('2020-10-31'),:]\n",
    " \n",
    "    fire_perim  = gpd.GeoDataFrame(fire[['time','perimeter']],geometry='perimeter')\n",
    "    fire_perim[str(start_time)+ 'Z Start Day'] = (pd.to_datetime(fire_perim['time'].values)-datetime.timedelta(hours=12)).strftime('%Y-%m-%d')\n",
    "    fire_perim = fire_perim.iloc[np.array(fire_poly['UTC Day'].values,dtype='datetime64')<=np.datetime64('2020-10-31'),:]\n",
    "    \n",
    "    fire_poly = fire_poly.iloc[np.array(fire_poly['UTC Day'].values,dtype='datetime64')<=np.datetime64('2020-10-31'),:]\n",
    "    \n",
    "    #print(fire_poly)\n",
    "    #print(fire_split)\n",
    "    fire_poly.plot(column='12Z Start Day')\n",
    "    plt.show()\n",
    "    fire_split.plot(column='12Z Start Day')\n",
    "    plt.show()\n",
    "    fire_perim.plot(column='12Z Start Day', alpha=0.1)\n",
    "    plt.show()\n",
    "    \n",
    "    print(fire_poly)\n",
    "    print(fire_split)\n",
    "    print(fire_perim)"
   ]
  },
  {
   "cell_type": "code",
   "execution_count": null,
   "id": "07fcfcde",
   "metadata": {
    "hidden": true,
    "scrolled": false
   },
   "outputs": [],
   "source": [
    "time_ave_interval=12\n",
    "for ii in [4,44]:#len(fire_perim)):\n",
    "    time = fire_poly['time'].values[ii]\n",
    "    print(time)\n",
    "    perim_today = fire_perim[fire_poly['time'].values==time].reset_index()\n",
    "    split_today = fire_split[fire_poly['time'].values==time].reset_index()\n",
    "\n",
    "    \n",
    "    perimeter_bounds = perim_today.buffer(0.05).bounds\n",
    "    \n",
    "    #get the HRRR averaged\n",
    "    times_back = pd.date_range(start=np.datetime64(time), end=np.datetime64(time)+\n",
    "                                np.timedelta64(11,'h'),freq='H') #do now out to now+11hr\n",
    "    files_back,times_back_used = make_file_namelist(times_back,'/data2/lthapa/ML_daily/pygraf/Processed_HRRR_YYYYMMDDHH.nc')\n",
    "\n",
    "    dat_hrrr = xr.open_mfdataset(files_back,concat_dim='time',combine='nested',compat='override', coords='all')\n",
    "    dat_hrrr = dat_hrrr.assign_coords({'time': times_back_used}) \n",
    "\n",
    "    hrrr_subdaily_mean = dat_hrrr.resample(time=str(time_ave_interval)+'H', label='left').mean(dim='time') #take the daily mean         \n",
    "\n",
    "    time_sel,grid_yt_sel, grid_xt_sel = np.where((hrrr_subdaily_mean['grid_lont']<perimeter_bounds['maxx'].values)&\n",
    "                                    (hrrr_subdaily_mean['grid_lont']>perimeter_bounds['minx'].values)&\n",
    "                                    (hrrr_subdaily_mean['grid_latt']<perimeter_bounds['maxy'].values)&\n",
    "                                    (hrrr_subdaily_mean['grid_latt']>perimeter_bounds['miny'].values))\n",
    "    hrrr_subdaily_mean_region = hrrr_subdaily_mean.sel(time=time,\n",
    "                                                       grid_xt=np.unique(grid_xt_sel),\n",
    "                                                       grid_yt=np.unique(grid_yt_sel))\n",
    "    #get perpindicular segments\n",
    "    segs_list = list(split_today.loc[0,'fireline_split'].geoms)\n",
    "    segs = gpd.GeoDataFrame({'ind':np.arange(0,len(segs_list)),\n",
    "                        'time': np.repeat(time,len(segs_list)),\n",
    "                        'geometry':segs_list})\n",
    "    segs = segs[segs.length>0.0005]\n",
    "    perp_segs = find_perp_outside_segments(segs,0.005, perim_today.loc[0,'perimeter']) #get the perpindicular segments\n",
    "    #print(perp_segs)\n",
    "    #do the wind interpolation\n",
    "    x_interp, y_interp = interpnn(hrrr_subdaily_mean_region, perp_segs)\n",
    "    uwind_nearest = hrrr_subdaily_mean_region['uwind_10m'].values[x_interp,y_interp]\n",
    "    vwind_nearest = hrrr_subdaily_mean_region['vwind_10m'].values[x_interp,y_interp]\n",
    "    \n",
    "    #get the length weights\n",
    "    fireline_length = segs['geometry'].length\n",
    "    fireline_length_fraction = fireline_length/(np.nansum(fireline_length))\n",
    "    #print(fireline_length_fraction)\n",
    "    #get the perpindicular fraction\n",
    "    #unit_vectors\n",
    "    uwind_unit = uwind_nearest/np.sqrt((uwind_nearest**2)+(vwind_nearest**2))\n",
    "    vwind_unit = vwind_nearest/np.sqrt((uwind_nearest**2)+(vwind_nearest**2))\n",
    "    speed_nearest = np.sqrt((uwind_nearest**2)+(vwind_nearest**2))\n",
    "\n",
    "    #what portion of the unit vector is along the perpindicular? this uses cos(x) = u.v/||u||*||v|| vector law\n",
    "    scale_factor = ((perp_segs['x']*uwind_unit)+(perp_segs['y']*vwind_unit))/(np.sqrt((perp_segs['x']**2)+(perp_segs['y']**2)))\n",
    "    scale_factor_zeroed = ((perp_segs['x']*uwind_unit)+(perp_segs['y']*vwind_unit))/(np.sqrt((perp_segs['x']**2)+(perp_segs['y']**2)))\n",
    "    scale_factor_zeroed[scale_factor_zeroed<0] =0 \n",
    "    #print(scale_factor_zeroed)\n",
    "    \n",
    "    speed_perp = speed_nearest*scale_factor_zeroed\n",
    "    print('perp speeds '+str(np.nanmean(speed_perp.values)))\n",
    "    print('perp speeds, length weighted '+str(np.nansum(speed_perp.values*fireline_length_fraction)))\n",
    "    print('nearest speeds '+str(np.nanmean(speed_nearest)))\n",
    "    print('average direction: ' + str(np.nanmean(scale_factor)))\n",
    "    print('average direction (abs val): ' + str(np.nanmean(scale_factor_zeroed)))\n",
    "\n",
    "    \"\"\"the above is based on \n",
    "    hrrr_derived.loc[count, 'hd0w0_perp_out'] = hd00*(np.nanmean(speed_nearest*scale_factor_zeroed))\n",
    "    df_hrrr_derived.loc[count, 'hd0w0_perp_out_lw'] = hd00*(np.nansum(speed_nearest*scale_factor_zeroed*fireline_length_fraction))\n",
    "    \"\"\"\n",
    "    uwind_perp = (perp_segs['x']/(np.sqrt((perp_segs['x']**2)+(perp_segs['y']**2))))*speed_perp\n",
    "    vwind_perp = (perp_segs['y']/(np.sqrt((perp_segs['x']**2)+(perp_segs['y']**2))))*speed_perp\n",
    "    \n",
    "    #u_perp = perp_segs['x']\n",
    "    #v_perp = perp_segs['y']\n",
    "\n",
    "    #make the plots\n",
    "    fig,ax = plt.subplots(figsize=(10,10))\n",
    "    plt.quiver(hrrr_subdaily_mean_region['grid_lont'], hrrr_subdaily_mean_region['grid_latt'], \n",
    "               hrrr_subdaily_mean_region['uwind_10m'], hrrr_subdaily_mean_region['vwind_10m'],alpha=0.3)\n",
    "    perim_today.plot(ax=ax)\n",
    "    split_today.plot(ax=ax,color='r')\n",
    "    if ii>0: #if past 1st timestep of fire\n",
    "        fire_perim[fire_poly['time']==time-np.timedelta64(12,'h')].plot(ax=ax,color='k',alpha=0.5)\n",
    "        fire_perim[fire_poly['time']==time+np.timedelta64(12,'h')].plot(ax=ax,color='k',alpha=0.2)\n",
    "\n",
    "    \n",
    "    plt.quiver(perp_segs['x_mid'], perp_segs['y_mid'], uwind_nearest, vwind_nearest, color='r',alpha=0.5)\n",
    "    plt.quiver(perp_segs['x_mid'], perp_segs['y_mid'], uwind_perp, vwind_perp, color='g',alpha=0.5)\n",
    "    #plt.quiver(perp_segs['x_mid'], perp_segs['y_mid'], perp_segs['x'], perp_segs['y'], color='m',alpha = 0.5)\n",
    "\n",
    "    plt.show()\n",
    "    \n"
   ]
  },
  {
   "cell_type": "markdown",
   "id": "a1badbec",
   "metadata": {
    "hidden": true
   },
   "source": [
    "### Feb 6th update, plot winds hourly for each polygon"
   ]
  },
  {
   "cell_type": "code",
   "execution_count": null,
   "id": "fae37846",
   "metadata": {
    "hidden": true,
    "scrolled": false
   },
   "outputs": [],
   "source": [
    "time_ave_interval=12\n",
    "for ii in [4,44]:#len(fire_perim)):\n",
    "    time = fire_poly['time'].values[ii]\n",
    "    print(time)\n",
    "    perim_today = fire_perim[fire_poly['time'].values==time].reset_index()\n",
    "    split_today = fire_split[fire_poly['time'].values==time].reset_index()\n",
    "    \n",
    "    perimeter_bounds = perim_today.buffer(0.05).bounds\n",
    "    \n",
    "    #get the HRRR averaged\n",
    "    times_back = pd.date_range(start=np.datetime64(time), end=np.datetime64(time)+\n",
    "                                np.timedelta64(11,'h'),freq='H') #do now out to now+11hr\n",
    "    files_back,times_back_used = make_file_namelist(times_back,'/data2/lthapa/ML_daily/pygraf/Processed_HRRR_YYYYMMDDHH.nc')\n",
    "\n",
    "    dat_hrrr = xr.open_mfdataset(files_back,concat_dim='time',combine='nested',compat='override', coords='all')\n",
    "    dat_hrrr = dat_hrrr.assign_coords({'time': times_back_used}) \n",
    "\n",
    "    # we want all of the hours, so we only select by region\n",
    "    time_sel,grid_yt_sel, grid_xt_sel = np.where((dat_hrrr['grid_lont']<perimeter_bounds['maxx'].values)&\n",
    "                                    (dat_hrrr['grid_lont']>perimeter_bounds['minx'].values)&\n",
    "                                    (dat_hrrr['grid_latt']<perimeter_bounds['maxy'].values)&\n",
    "                                    (dat_hrrr['grid_latt']>perimeter_bounds['miny'].values))\n",
    "    hrrr_region = dat_hrrr.sel(time=times_back_used,\n",
    "                                grid_xt=np.unique(grid_xt_sel),\n",
    "                                grid_yt=np.unique(grid_yt_sel))\n",
    "\n",
    "    print(hrrr_region)\n",
    "    #get perpindicular segments\n",
    "    segs_list = list(split_today.loc[0,'fireline_split'].geoms)\n",
    "    segs = gpd.GeoDataFrame({'ind':np.arange(0,len(segs_list)),\n",
    "                        'time': np.repeat(time,len(segs_list)),\n",
    "                        'geometry':segs_list})\n",
    "    segs = segs[segs.length>0.0005]\n",
    "    perp_segs = find_perp_outside_segments(segs,0.005, perim_today.loc[0,'perimeter']) #get the perpindicular segments\n",
    "   \n",
    "    #get the length weights\n",
    "    fireline_length = segs['geometry'].length\n",
    "    fireline_length_fraction = fireline_length/(np.nansum(fireline_length))\n",
    "\n",
    "    #do the wind interpolation\n",
    "    x_interp, y_interp = interpnn_3d(hrrr_region, perp_segs)\n",
    "    \n",
    "    for hour in times_back_used:\n",
    "        print(hour)\n",
    "        uwind_nearest = hrrr_region['uwind_10m'].sel(time=hour).values[x_interp,y_interp] \n",
    "        vwind_nearest = hrrr_region['vwind_10m'].sel(time=hour).values[x_interp,y_interp]\n",
    "\n",
    "        #get the perpindicular fraction\n",
    "        #unit_vectors\n",
    "        uwind_unit = uwind_nearest/np.sqrt((uwind_nearest**2)+(vwind_nearest**2))\n",
    "        vwind_unit = vwind_nearest/np.sqrt((uwind_nearest**2)+(vwind_nearest**2))\n",
    "        speed_nearest = np.sqrt((uwind_nearest**2)+(vwind_nearest**2))\n",
    "\n",
    "        #what portion of the unit vector is along the perpindicular? this uses cos(x) = u.v/||u||*||v|| vector law\n",
    "        scale_factor = ((perp_segs['x']*uwind_unit)+(perp_segs['y']*vwind_unit))/(np.sqrt((perp_segs['x']**2)+(perp_segs['y']**2)))\n",
    "        scale_factor_zeroed = ((perp_segs['x']*uwind_unit)+(perp_segs['y']*vwind_unit))/(np.sqrt((perp_segs['x']**2)+(perp_segs['y']**2)))\n",
    "        scale_factor_zeroed[scale_factor_zeroed<0] =0 \n",
    "        #print(scale_factor_zeroed)\n",
    "    \n",
    "        speed_perp = speed_nearest*scale_factor_zeroed\n",
    "        print('perp speeds '+str(np.nanmean(speed_perp.values)))\n",
    "        print('perp speeds, length weighted '+str(np.nansum(speed_perp.values*fireline_length_fraction)))\n",
    "        print('nearest speeds '+str(np.nanmean(speed_nearest)))\n",
    "        print('average direction: ' + str(np.nanmean(scale_factor)))\n",
    "        print('average direction (abs val): ' + str(np.nanmean(scale_factor_zeroed)))\n",
    "\n",
    "        \"\"\"the above is based on \n",
    "        hrrr_derived.loc[count, 'hd0w0_perp_out'] = hd00*(np.nanmean(speed_nearest*scale_factor_zeroed))\n",
    "        df_hrrr_derived.loc[count, 'hd0w0_perp_out_lw'] = hd00*(np.nansum(speed_nearest*scale_factor_zeroed*fireline_length_fraction))\n",
    "        \"\"\"\n",
    "        uwind_perp = (perp_segs['x']/(np.sqrt((perp_segs['x']**2)+(perp_segs['y']**2))))*speed_perp\n",
    "        vwind_perp = (perp_segs['y']/(np.sqrt((perp_segs['x']**2)+(perp_segs['y']**2))))*speed_perp\n",
    "\n",
    "        #u_perp = perp_segs['x']\n",
    "        #v_perp = perp_segs['y']\n",
    "\n",
    "        #make the plots\n",
    "        fig,ax = plt.subplots(figsize=(10,10))\n",
    "        plt.quiver(hrrr_region['grid_lont'].values[0,:,:], hrrr_region['grid_latt'].values[0,:,:], \n",
    "                   hrrr_region['uwind_10m'].values[0,:,:], hrrr_region['vwind_10m'].values[0,:,:],alpha=0.3)\n",
    "        perim_today.plot(ax=ax)\n",
    "        split_today.plot(ax=ax,color='r')\n",
    "        if ii>0: #if past 1st timestep of fire\n",
    "            fire_perim[fire_poly['time']==time-np.timedelta64(12,'h')].plot(ax=ax,color='k',alpha=0.5)\n",
    "            fire_perim[fire_poly['time']==time+np.timedelta64(12,'h')].plot(ax=ax,color='k',alpha=0.2)\n",
    "\n",
    "\n",
    "        #plt.quiver(perp_segs['x_mid'], perp_segs['y_mid'], uwind_nearest, vwind_nearest, color='r',alpha=0.5)\n",
    "        plt.quiver(perp_segs['x_mid'], perp_segs['y_mid'], uwind_perp, vwind_perp, color='g',alpha=0.5)\n",
    "        #plt.quiver(perp_segs['x_mid'], perp_segs['y_mid'], perp_segs['x'], perp_segs['y'], color='m',alpha = 0.5)\n",
    "\n",
    "        plt.show()\n",
    "    \n",
    "    "
   ]
  },
  {
   "cell_type": "code",
   "execution_count": null,
   "id": "9d460e95",
   "metadata": {
    "hidden": true
   },
   "outputs": [],
   "source": []
  },
  {
   "cell_type": "code",
   "execution_count": null,
   "id": "db635129",
   "metadata": {
    "hidden": true
   },
   "outputs": [],
   "source": [
    "#test intersection to see if it would be easy to implement\n",
    "time_ave_interval=12\n",
    "for ii in [4,44]:#len(fire_perim)):\n",
    "    time = fire_poly['time'].values[ii]\n",
    "    print(time)\n",
    "    perim_today = fire_perim[fire_poly['time'].values==time].reset_index()\n",
    "    split_today = fire_split[fire_poly['time'].values==time].reset_index()\n",
    "\n",
    "    \n",
    "    perimeter_bounds = perim_today.buffer(0.05).bounds\n",
    "    \n",
    "    #get the HRRR averaged\n",
    "    times_back = pd.date_range(start=np.datetime64(time), end=np.datetime64(time)+\n",
    "                                np.timedelta64(11,'h'),freq='H') #do now out to now+11hr\n",
    "    files_back,times_back_used = make_file_namelist(times_back,'/data2/lthapa/ML_daily/pygraf/Processed_HRRR_YYYYMMDDHH.nc')\n",
    "\n",
    "    dat_hrrr = xr.open_mfdataset(files_back,concat_dim='time',combine='nested',compat='override', coords='all')\n",
    "    dat_hrrr = dat_hrrr.assign_coords({'time': times_back_used}) \n",
    "\n",
    "    hrrr_subdaily_mean = dat_hrrr.resample(time=str(time_ave_interval)+'H', label='left').mean(dim='time') #take the daily mean         \n",
    "\n",
    "    time_sel,grid_yt_sel, grid_xt_sel = np.where((hrrr_subdaily_mean['grid_lont']<perimeter_bounds['maxx'].values)&\n",
    "                                    (hrrr_subdaily_mean['grid_lont']>perimeter_bounds['minx'].values)&\n",
    "                                    (hrrr_subdaily_mean['grid_latt']<perimeter_bounds['maxy'].values)&\n",
    "                                    (hrrr_subdaily_mean['grid_latt']>perimeter_bounds['miny'].values))\n",
    "    hrrr_subdaily_mean_region = hrrr_subdaily_mean.sel(time=time,\n",
    "                                                       grid_xt=np.unique(grid_xt_sel),\n",
    "                                                       grid_yt=np.unique(grid_yt_sel))\n",
    "    #get perpindicular segments\n",
    "    segs_list = list(split_today.loc[0,'fireline_split'].geoms)\n",
    "    segs = gpd.GeoDataFrame({'ind':np.arange(0,len(segs_list)),\n",
    "                        'time': np.repeat(time,len(segs_list)),\n",
    "                        'geometry':segs_list})\n",
    "    segs = segs[segs.length>0.0005]\n",
    "    perp_segs = find_perp_outside_segments(segs,0.005, perim_today.loc[0,'perimeter']) #get the perpindicular segments\n",
    "    #print(perp_segs)\n",
    "    \n",
    "    if ii>0: #if past 1st timestep of fire\n",
    "        perim_yesterday = fire_perim[fire_poly['time']==time-np.timedelta64(12,'h')].reset_index()\n",
    "        for jj in range(len(segs)):\n",
    "            seg = segs.loc[ii,'geometry']\n",
    "            print(seg)\n",
    "            print(perim_yesterday.loc[0,'perimeter'].buffer(0.001).covered_by(seg))"
   ]
  },
  {
   "cell_type": "markdown",
   "id": "abc79c96",
   "metadata": {
    "heading_collapsed": true,
    "hidden": true
   },
   "source": [
    "## Check that the buffers work"
   ]
  },
  {
   "cell_type": "code",
   "execution_count": null,
   "id": "f1a6e032",
   "metadata": {
    "hidden": true
   },
   "outputs": [],
   "source": [
    "#all fires\n",
    "#fire_incidents = ['BOBCAT', 'DOLAN', 'HOLIDAY FARM','CREEK', 'LAKE', 'CAMERON PEAK', 'PINE GULCH', 'WILLIAMS FLATS', 'SHADY','PEDRO MOUNTAIN', 'WALKER', '204 COW']\n",
    "\n",
    "#2020 fires\n",
    "#fire_incidents = ['AUGUST COMPLEX','BOBCAT', 'DOLAN', 'HOLIDAY FARM','CREEK', 'LAKE', 'CAMERON PEAK', 'PINE GULCH']\n",
    "#fire_incidents=['BOBCAT', 'DOLAN', 'HOLIDAY FARM','CREEK', 'LAKE', 'CAMERON PEAK', 'PINE GULCH']\n",
    "fire_incidents = ['LAKE']\n",
    "\n",
    "path_poly = '/data2/lthapa/ML_daily/fire_polygons/'\n",
    "suffix_poly = 'Z_day_start.geojson'\n",
    "start_time=12\n",
    "for jj in range(len(fire_incidents)):\n",
    "    fire_name = fire_incidents[jj].lower().replace(' ','_')\n",
    "    print(path_poly+fire_name+'_VIIRS_daily_'+str(start_time)+suffix_poly)\n",
    "    fire_daily = gpd.read_file(path_poly+fire_name+'_VIIRS_daily_'+str(start_time)+suffix_poly)\n",
    "    fire_daily=fire_daily.drop(columns=['Current Overpass'])\n",
    "    fire_daily = fire_daily.drop(np.where(fire_daily['geometry']==None)[0])\n",
    "    fire_daily['fire area (ha)'] = fire_daily['geometry'].area/10000 #hectares\n",
    "    fire_daily.set_geometry(col='geometry', inplace=True) #designate the geometry column\n",
    "    fire_daily = fire_daily.rename(columns={'Current Day':'UTC Day', 'Local Day': str(start_time)+ 'Z Start Day'})\n",
    "    \n",
    "    fire_daily = fire_daily.iloc[np.array(fire_daily['UTC Day'].values,dtype='datetime64')<=np.datetime64('2020-10-31'),:]\n",
    "\n",
    "    #print(fire_daily)\n",
    "    \n",
    "    #merra\n",
    "    tic = time.time()\n",
    "    merra_intersections = Parallel(n_jobs=8)(delayed(calculate_intersection)\n",
    "                                 (fire_daily.iloc[ii:ii+1],'ESI_GRID',0.05) \n",
    "                                 for ii in range(len(fire_daily)))\n",
    "    toc = time.time()\n",
    "    print(toc-tic)\n",
    "    fire_merra_intersection=gpd.GeoDataFrame(pd.concat(merra_intersections, ignore_index=True))\n",
    "    fire_merra_intersection.set_geometry(col='geometry')\n",
    "    fire_merra_intersection = fire_merra_intersection.set_index([str(start_time)+ 'Z Start Day', 'lat', 'lon'])\n",
    "    print(fire_merra_intersection)\n",
    "    fire_merra_intersection_xr = fire_merra_intersection.to_xarray()\n",
    "    print(fire_merra_intersection_xr['weights'].sum(dim=['lat','lon']).values)\n",
    "    \n",
    "\n",
    "    esi_intersections = Parallel(n_jobs=8)(delayed(calculate_intersection)\n",
    "                                 (fire_daily.iloc[ii:ii+1],'ESI_GRID',0.05) \n",
    "                                 for ii in range(len(fire_daily)))\n",
    "    toc = time.time()\n",
    "    fire_esi_intersection=gpd.GeoDataFrame(pd.concat(esi_intersections, ignore_index=True))\n",
    "    fire_esi_intersection.set_geometry(col='geometry')\n",
    "    fire_esi_intersection = fire_esi_intersection.set_index([str(start_time)+ 'Z Start Day', 'lat', 'lon'])\n",
    "    fire_esi_intersection_xr = fire_esi_intersection.to_xarray()\n",
    "    print(fire_esi_intersection_xr['weights'].sum(dim=['lat','lon']))"
   ]
  },
  {
   "cell_type": "markdown",
   "id": "6471dc53",
   "metadata": {
    "heading_collapsed": true
   },
   "source": [
    "# Testing"
   ]
  },
  {
   "cell_type": "code",
   "execution_count": null,
   "id": "4b7a8b69",
   "metadata": {
    "hidden": true
   },
   "outputs": [],
   "source": [
    "start_time=12\n",
    "fire_daily = gpd.read_file('./fire_polygons/cameron_peak_VIIRS_daily_12Z_day_start.geojson')\n",
    "#fire_daily = gpd.read_file('./fire_polygons/august_complex_VIIRS_daily_12Z_day_start.geojson')\n",
    "#fire_daily = gpd.read_file('./fire_polygons/williams_flats_VIIRS_daily_12Z_day_start.geojson')\n",
    "fire_daily=fire_daily.drop(columns=['Current Overpass'])\n",
    "fire_daily = fire_daily.drop(np.where(fire_daily['geometry']==None)[0])\n",
    "fire_daily['fire area (ha)'] = fire_daily['geometry'].area/10000 #hectares\n",
    "fire_daily.set_geometry(col='geometry', inplace=True) #designate the geometry column\n",
    "fire_daily = fire_daily.rename(columns={'Current Day':'UTC Day', 'Local Day': str(start_time)+ 'Z Start Day'})\n",
    "fire_daily = fire_daily.iloc[np.array(fire_daily['UTC Day'].values,dtype='datetime64')<=np.datetime64('2020-10-31'),:]\n",
    "print(fire_daily)"
   ]
  },
  {
   "cell_type": "code",
   "execution_count": null,
   "id": "000413bb",
   "metadata": {
    "code_folding": [
     0
    ],
    "hidden": true
   },
   "outputs": [],
   "source": [
    "#hrrr_timeseries(fire_daily.iloc[15:25],12)\n",
    "\n",
    "times_intersect = np.unique(fire_daily[str(12)+ 'Z Start Day'].iloc[39:40].values)\n",
    "for today in times_intersect:\n",
    "    print(today)\n",
    "    times_back = pd.date_range(start=np.datetime64(today)-np.timedelta64(5,'D'), end=np.datetime64(today)+\n",
    "                                   np.timedelta64(1,'D'),freq='H')\n",
    "    files_back,times_back_used = make_hrrr_file_namelist(times_back)\n",
    "    \n",
    "    #print(files_back)\n",
    "    dat_hrrr = xr.open_mfdataset(files_back,concat_dim='time',combine='nested',compat='override', coords='all')\n",
    "    dat_hrrr = dat_hrrr.assign_coords({'time': times_back_used})\n",
    "    hrrr_daily_mean = dat_hrrr.resample(time='24H',base=12, label='left').mean(dim='time') #take the daily mean        \n",
    "\n",
    "    print(hrrr_daily_mean.time)\n",
    "    dat_hrrr.close()"
   ]
  },
  {
   "cell_type": "code",
   "execution_count": null,
   "id": "220f98dc",
   "metadata": {
    "hidden": true,
    "scrolled": true
   },
   "outputs": [],
   "source": [
    "ints = calculate_intersection(fire_daily.iloc[11:12],'ESI_GRID',0.05)\n",
    "print(ints.sum())\n",
    "#tic = time.time()\n",
    "#hrrr_intersections = Parallel(n_jobs=8)(delayed(calculate_intersection)\n",
    "#                                 (fire_daily.iloc[ii:ii+1],'HRRR_GRID',0.01) \n",
    "#                                 for ii in range(len(fire_daily)))\n",
    "#toc=time.time()\n",
    "#print(toc-tic)"
   ]
  },
  {
   "cell_type": "code",
   "execution_count": null,
   "id": "e7b00af7",
   "metadata": {
    "hidden": true
   },
   "outputs": [],
   "source": [
    "grid = xr.open_dataset('PWS_GRID.nc')\n",
    "print(grid.LAT_CTR[0:5,0:5])"
   ]
  },
  {
   "cell_type": "code",
   "execution_count": null,
   "id": "7e65c828",
   "metadata": {
    "hidden": true,
    "scrolled": true
   },
   "outputs": [],
   "source": [
    "grid = xr.open_dataset('HRRR_GRID.nc')\n",
    "bf = 0.05\n",
    "\n",
    "for ii in range(len(fire_daily)):\n",
    "    poly=fire_daily[ii:ii+1]\n",
    "    #get the bounds of the buffered polygons\n",
    "    poly_latlon =poly.to_crs(epsg=4326)\n",
    "    bounds = poly_latlon.buffer(bf).bounds\n",
    "    \n",
    "    #first check for rows and cols\n",
    "    [rows,cols] = np.where((grid.LAT_CTR.values>bounds['miny'].values)&\n",
    "                    (grid.LAT_CTR.values<bounds['maxy'].values)&\n",
    "                    (grid.LON_CTR.values>bounds['minx'].values)&\n",
    "                    (grid.LON_CTR.values<bounds['maxx'].values))\n",
    "    print(rows,cols)"
   ]
  },
  {
   "cell_type": "code",
   "execution_count": null,
   "id": "00b23545",
   "metadata": {
    "hidden": true,
    "scrolled": true
   },
   "outputs": [],
   "source": []
  },
  {
   "cell_type": "code",
   "execution_count": null,
   "id": "d240ce59",
   "metadata": {
    "hidden": true
   },
   "outputs": [],
   "source": []
  }
 ],
 "metadata": {
  "kernelspec": {
   "display_name": "Python 3",
   "language": "python",
   "name": "python3"
  },
  "language_info": {
   "codemirror_mode": {
    "name": "ipython",
    "version": 3
   },
   "file_extension": ".py",
   "mimetype": "text/x-python",
   "name": "python",
   "nbconvert_exporter": "python",
   "pygments_lexer": "ipython3",
   "version": "3.7.6"
  }
 },
 "nbformat": 4,
 "nbformat_minor": 5
}
