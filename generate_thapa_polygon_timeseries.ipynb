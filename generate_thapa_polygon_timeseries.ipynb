{
 "cells": [
  {
   "cell_type": "markdown",
   "id": "57ccefe8",
   "metadata": {},
   "source": [
    "# Time Series Analysis August Complex Thapa Polys Only"
   ]
  },
  {
   "cell_type": "code",
   "execution_count": 211,
   "id": "963e3703",
   "metadata": {
    "scrolled": true
   },
   "outputs": [],
   "source": [
    "import pandas as pd\n",
    "#pd.set_option('display.max_rows', None)\n",
    "import geopandas as gpd\n",
    "import matplotlib.pyplot as plt\n",
    "from matplotlib import path\n",
    "import os\n",
    "import cartopy.crs as ccrs\n",
    "import cartopy.feature as cfeature\n",
    "import cartopy\n",
    "import numpy as np\n",
    "import netCDF4 as nc\n",
    "np.set_printoptions(threshold=100000)\n",
    "from shapely.geometry import Polygon, Point, MultiPoint\n",
    "from shapely.ops import cascaded_union\n",
    "from datetime import datetime, timedelta\n",
    "import time\n",
    "import warnings\n",
    "import statsmodels.api as sm\n",
    "import datetime\n",
    "import math\n",
    "from scipy.ndimage.interpolation import shift\n",
    "import shapely.wkt\n",
    "from shapely.validation import explain_validity\n",
    "import xarray as xr\n",
    "import pygeos as pg\n",
    "\n",
    "warnings.filterwarnings('ignore')\n",
    "import seaborn as sns\n",
    "from my_functions import sat_vap_press, vap_press, hot_dry_windy, haines"
   ]
  },
  {
   "cell_type": "markdown",
   "id": "e68ef399",
   "metadata": {},
   "source": [
    "## Load in daily polygons"
   ]
  },
  {
   "cell_type": "code",
   "execution_count": 16,
   "id": "36d286f2",
   "metadata": {
    "collapsed": true
   },
   "outputs": [
    {
     "name": "stdout",
     "output_type": "stream",
     "text": [
      "AUGUST COMPLEX\n"
     ]
    },
    {
     "name": "stderr",
     "output_type": "stream",
     "text": [
      "TopologyException: side location conflict at -122.70291182274376 39.597206681226723\n",
      "TopologyException: found non-noded intersection between LINESTRING (-122.818 39.5576, -122.818 39.5576) and LINESTRING (-122.818 39.5576, -122.818 39.5576) at -122.81767578727478 39.557619816349479\n",
      "TopologyException: found non-noded intersection between LINESTRING (-122.788 39.7774, -122.788 39.7774) and LINESTRING (-122.788 39.7774, -122.788 39.7775) at -122.78838204901831 39.777442038321261\n",
      "TopologyException: found non-noded intersection between LINESTRING (-122.788 39.7774, -122.788 39.7774) and LINESTRING (-122.788 39.7774, -122.788 39.7775) at -122.78838204901831 39.777442038321261\n",
      "TopologyException: found non-noded intersection between LINESTRING (-122.674 39.786, -122.674 39.7861) and LINESTRING (-122.674 39.7861, -122.674 39.7862) at -122.67395254092605 39.786144488715188\n",
      "TopologyException: found non-noded intersection between LINESTRING (-122.674 39.786, -122.674 39.7861) and LINESTRING (-122.674 39.7861, -122.674 39.7862) at -122.67395254092605 39.786144488715188\n",
      "TopologyException: side location conflict at -122.84129256756501 39.630606052592384\n",
      "TopologyException: side location conflict at -122.85299831630587 39.864970446883703\n",
      "TopologyException: side location conflict at -122.83173031876784 39.778894981140205\n",
      "TopologyException: side location conflict at -122.85137996672769 39.632761454801368\n",
      "TopologyException: side location conflict at -122.85137996672769 39.632761454801368\n",
      "TopologyException: side location conflict at -122.85137996672769 39.632761454801368\n",
      "TopologyException: no outgoing dirEdge found at -122.88953086755055 39.531002504818304\n",
      "TopologyException: EdgeRing::computePoints: found null Directed Edge\n",
      "TopologyException: found non-noded intersection between LINESTRING (-122.782 39.5453, -122.782 39.5453) and LINESTRING (-122.782 39.5453, -122.782 39.5453) at -122.78174225526266 39.545301592061072\n",
      "TopologyException: found non-noded intersection between LINESTRING (-122.782 39.5453, -122.782 39.5453) and LINESTRING (-122.782 39.5453, -122.782 39.5453) at -122.78174225526266 39.545301592061072\n",
      "TopologyException: found non-noded intersection between LINESTRING (-122.746 39.907, -122.746 39.907) and LINESTRING (-122.746 39.907, -122.746 39.907) at -122.7457924639359 39.906955756628207\n",
      "TopologyException: found non-noded intersection between LINESTRING (-122.746 39.907, -122.746 39.907) and LINESTRING (-122.746 39.907, -122.746 39.907) at -122.7457924639359 39.906955756628207\n",
      "TopologyException: side location conflict at -122.74575407390988 39.836964125434228\n",
      "TopologyException: found non-noded intersection between LINESTRING (-122.845 39.5977, -122.845 39.5977) and LINESTRING (-122.845 39.5976, -122.845 39.5977) at -122.84493236207231 39.597681243415181\n",
      "TopologyException: found non-noded intersection between LINESTRING (-122.755 39.8851, -122.755 39.8852) and LINESTRING (-122.755 39.8851, -122.755 39.8852) at -122.75535987468314 39.885171196958062\n",
      "TopologyException: no outgoing dirEdge found at -122.85359825618576 39.824530090436269\n",
      "TopologyException: EdgeRing::computePoints: found null Directed Edge\n",
      "TopologyException: side location conflict at -122.94579690755199 39.861690000000003\n",
      "TopologyException: side location conflict at -122.85252586520362 39.82331081403516\n",
      "TopologyException: found non-noded intersection between LINESTRING (-122.805 39.9211, -122.805 39.9211) and LINESTRING (-122.805 39.9211, -122.805 39.921) at -122.8053249960885 39.92106861883979\n",
      "TopologyException: found non-noded intersection between LINESTRING (-122.805 39.9211, -122.805 39.9211) and LINESTRING (-122.805 39.9211, -122.805 39.921) at -122.8053249960885 39.92106861883979\n",
      "TopologyException: found non-noded intersection between LINESTRING (-122.818 39.7308, -122.818 39.7307) and LINESTRING (-122.818 39.7308, -122.818 39.7308) at -122.81756959107366 39.730798769770566\n",
      "TopologyException: found non-noded intersection between LINESTRING (-122.909 39.5618, -122.909 39.5617) and LINESTRING (-122.909 39.5618, -122.909 39.5618) at -122.90923655300774 39.56179963369798\n",
      "TopologyException: side location conflict at -123.02539786107771 40.15820582905026\n",
      "TopologyException: side location conflict at -123.12336140969312 40.145885109998318\n",
      "TopologyException: found non-noded intersection between LINESTRING (-122.925 39.8493, -122.925 39.8493) and LINESTRING (-122.925 39.8493, -122.925 39.8493) at -122.92534693468166 39.849281103899521\n",
      "TopologyException: side location conflict at -123.03324811997986 39.906667877243237\n",
      "TopologyException: EdgeRing::computePoints: found null Directed Edge\n",
      "TopologyException: no outgoing dirEdge found at -123.31928640707771 40.100794283095439\n",
      "TopologyException: no outgoing dirEdge found at -123.34746489902895 40.100794283095439\n",
      "TopologyException: found non-noded intersection between LINESTRING (-123.302 40.1369, -123.302 40.1368) and LINESTRING (-123.302 40.1369, -123.302 40.1367) at -123.30248658708754 40.136833135424375\n",
      "TopologyException: found non-noded intersection between LINESTRING (-123.302 40.1369, -123.302 40.1368) and LINESTRING (-123.302 40.1369, -123.302 40.1367) at -123.30248658708754 40.136833135424375\n",
      "TopologyException: side location conflict at -123.04934675484149 39.683033239068884\n",
      "TopologyException: no outgoing dirEdge found at -123.02091289615447 39.777400780812414\n",
      "TopologyException: EdgeRing::computePoints: found null Directed Edge\n",
      "TopologyException: found non-noded intersection between LINESTRING (-122.997 40.201, -122.997 40.201) and LINESTRING (-122.997 40.201, -122.997 40.2009) at -122.9972947980666 40.200979732004072\n",
      "TopologyException: found non-noded intersection between LINESTRING (-122.997 40.201, -122.997 40.201) and LINESTRING (-122.997 40.201, -122.997 40.2009) at -122.9972947980666 40.200979732004072\n",
      "TopologyException: found non-noded intersection between LINESTRING (-123.19 40.2445, -123.19 40.2444) and LINESTRING (-123.19 40.2445, -123.19 40.2444) at -123.19001682857674 40.24448198769494\n",
      "TopologyException: found non-noded intersection between LINESTRING (-122.997 39.5033, -122.997 39.5034) and LINESTRING (-122.997 39.5034, -122.997 39.5034) at -122.99730681065986 39.503398144834918\n",
      "TopologyException: found non-noded intersection between LINESTRING (-123.062 39.526, -123.062 39.5259) and LINESTRING (-123.062 39.5259, -123.062 39.5259) at -123.06215165906202 39.525883894465267\n",
      "TopologyException: found non-noded intersection between LINESTRING (-123.062 39.526, -123.062 39.5259) and LINESTRING (-123.062 39.5259, -123.062 39.5259) at -123.06215165906202 39.525883894465267\n",
      "TopologyException: found non-noded intersection between LINESTRING (-123.141 39.6196, -123.141 39.6197) and LINESTRING (-123.141 39.6197, -123.141 39.6197) at -123.14105302043981 39.619700568440379\n",
      "TopologyException: no outgoing dirEdge found at -123.05643108272517 39.633670335353287\n",
      "TopologyException: EdgeRing::computePoints: found null Directed Edge\n",
      "TopologyException: found non-noded intersection between LINESTRING (-122.842 40.0648, -122.842 40.0649) and LINESTRING (-122.842 40.0649, -122.842 40.0649) at -122.84237433816195 40.064860898512592\n",
      "TopologyException: EdgeRing::computePoints: found null Directed Edge\n",
      "TopologyException: no outgoing dirEdge found at -122.9973287016449 40.074378895620768\n",
      "TopologyException: found non-noded intersection between LINESTRING (-122.842 40.0648, -122.842 40.0649) and LINESTRING (-122.842 40.0649, -122.842 40.0649) at -122.84237433816195 40.064860898512592\n",
      "TopologyException: found non-noded intersection between LINESTRING (-123.069 39.6407, -123.069 39.6406) and LINESTRING (-123.069 39.6407, -123.069 39.6406) at -123.06921844527116 39.640620471279192\n",
      "TopologyException: side location conflict at -123.32971890755199 40.376953\n",
      "TopologyException: EdgeRing::computePoints: found null Directed Edge\n",
      "TopologyException: no outgoing dirEdge found at -123.11799124535244 39.921131226271541\n",
      "TopologyException: found non-noded intersection between LINESTRING (-123.14 39.9211, -123.14 39.921) and LINESTRING (-123.14 39.9211, -123.14 39.9211) at -123.13992259714924 39.921110963975224\n",
      "TopologyException: found non-noded intersection between LINESTRING (-123.14 39.9211, -123.14 39.921) and LINESTRING (-123.14 39.9211, -123.14 39.9211) at -123.13992259714924 39.921110963975224\n"
     ]
    },
    {
     "name": "stderr",
     "output_type": "stream",
     "text": [
      "TopologyException: side location conflict at -122.81218760223446 39.860401044438809\n",
      "TopologyException: side location conflict at -122.81255927354162 39.967524705194926\n",
      "TopologyException: found non-noded intersection between LINESTRING (-123.438 40.1072, -123.437 40.1072) and LINESTRING (-123.437 40.1073, -123.438 40.1072) at -123.43748282494536 40.107209930860535\n",
      "TopologyException: side location conflict at -123.43919134172643 40.037819888486851\n",
      "TopologyException: found non-noded intersection between LINESTRING (-123.148 40.2501, -123.148 40.25) and LINESTRING (-123.148 40.25, -123.148 40.2501) at -123.14762812305092 40.250039333171799\n",
      "TopologyException: found non-noded intersection between LINESTRING (-123.148 40.2501, -123.148 40.25) and LINESTRING (-123.148 40.25, -123.148 40.2501) at -123.14762812305092 40.250039333171799\n",
      "TopologyException: side location conflict at -122.81218760223446 39.860401044438809\n",
      "TopologyException: side location conflict at -122.81255927354162 39.967524705194926\n",
      "TopologyException: found non-noded intersection between LINESTRING (-123.438 40.1072, -123.437 40.1072) and LINESTRING (-123.437 40.1073, -123.438 40.1072) at -123.43748282494536 40.107209930860535\n",
      "TopologyException: side location conflict at -123.43919134172643 40.037819888486851\n",
      "TopologyException: found non-noded intersection between LINESTRING (-123.148 40.2501, -123.148 40.25) and LINESTRING (-123.148 40.25, -123.148 40.2501) at -123.14762812305092 40.250039333171799\n",
      "TopologyException: found non-noded intersection between LINESTRING (-123.148 40.2501, -123.148 40.25) and LINESTRING (-123.148 40.25, -123.148 40.2501) at -123.14762812305092 40.250039333171799\n"
     ]
    },
    {
     "name": "stdout",
     "output_type": "stream",
     "text": [
      "0\n",
      "1\n"
     ]
    },
    {
     "name": "stderr",
     "output_type": "stream",
     "text": [
      "TopologyException: found non-noded intersection between LINESTRING (-122.635 39.5825, -122.635 39.5826) and LINESTRING (-122.635 39.5825, -122.635 39.5825) at -122.63520448670994 39.582524005728892\n"
     ]
    },
    {
     "name": "stdout",
     "output_type": "stream",
     "text": [
      "2\n"
     ]
    },
    {
     "name": "stderr",
     "output_type": "stream",
     "text": [
      "TopologyException: found non-noded intersection between LINESTRING (-122.645 39.5922, -122.645 39.5921) and LINESTRING (-122.645 39.5922, -122.645 39.5922) at -122.64547215040932 39.592150741748348\n"
     ]
    },
    {
     "name": "stdout",
     "output_type": "stream",
     "text": [
      "3\n",
      "4\n",
      "5\n"
     ]
    },
    {
     "name": "stderr",
     "output_type": "stream",
     "text": [
      "TopologyException: side location conflict at -122.77350416485619 39.557176796112358\n"
     ]
    },
    {
     "name": "stdout",
     "output_type": "stream",
     "text": [
      "6\n",
      "7\n",
      "8\n",
      "9\n",
      "10\n"
     ]
    },
    {
     "name": "stderr",
     "output_type": "stream",
     "text": [
      "TopologyException: EdgeRing::computePoints: found null Directed Edge\n"
     ]
    },
    {
     "name": "stdout",
     "output_type": "stream",
     "text": [
      "11\n",
      "12\n",
      "13\n"
     ]
    },
    {
     "name": "stderr",
     "output_type": "stream",
     "text": [
      "TopologyException: found non-noded intersection between LINESTRING (-122.804 39.6091, -122.804 39.6092) and LINESTRING (-122.804 39.6091, -122.804 39.6092) at -122.80431002670717 39.609177719406397\n"
     ]
    },
    {
     "name": "stdout",
     "output_type": "stream",
     "text": [
      "14\n"
     ]
    },
    {
     "name": "stderr",
     "output_type": "stream",
     "text": [
      "TopologyException: side location conflict at -122.76134045616227 39.857587766378437\n"
     ]
    },
    {
     "name": "stdout",
     "output_type": "stream",
     "text": [
      "15\n"
     ]
    },
    {
     "name": "stderr",
     "output_type": "stream",
     "text": [
      "TopologyException: found non-noded intersection between LINESTRING (-122.867 39.7496, -122.867 39.7496) and LINESTRING (-122.867 39.7496, -122.867 39.7496) at -122.86736845304226 39.749594789725606\n"
     ]
    },
    {
     "name": "stdout",
     "output_type": "stream",
     "text": [
      "16\n",
      "17\n"
     ]
    },
    {
     "name": "stderr",
     "output_type": "stream",
     "text": [
      "TopologyException: side location conflict at -122.96038871366133 39.599242537985738\n"
     ]
    },
    {
     "name": "stdout",
     "output_type": "stream",
     "text": [
      "18\n",
      "19\n"
     ]
    },
    {
     "name": "stderr",
     "output_type": "stream",
     "text": [
      "TopologyException: found non-noded intersection between LINESTRING (-122.949 39.5709, -122.949 39.5708) and LINESTRING (-122.949 39.5708, -122.949 39.5709) at -122.94887038500499 39.570878785181769\n"
     ]
    },
    {
     "name": "stdout",
     "output_type": "stream",
     "text": [
      "20\n"
     ]
    },
    {
     "name": "stderr",
     "output_type": "stream",
     "text": [
      "TopologyException: side location conflict at -123.13221150767534 40.118617472887834\n"
     ]
    },
    {
     "name": "stdout",
     "output_type": "stream",
     "text": [
      "21\n",
      "22\n"
     ]
    },
    {
     "name": "stderr",
     "output_type": "stream",
     "text": [
      "TopologyException: found non-noded intersection between LINESTRING (-123.015 39.8258, -123.015 39.8258) and LINESTRING (-123.015 39.8258, -123.015 39.8259) at -123.01475152782247 39.825832526122397\n",
      "TopologyException: found non-noded intersection between LINESTRING (-122.799 39.9841, -122.799 39.9839) and LINESTRING (-122.799 39.984, -122.799 39.9839) at -122.79902640668736 39.98392316013387\n"
     ]
    },
    {
     "name": "stdout",
     "output_type": "stream",
     "text": [
      "23\n"
     ]
    },
    {
     "name": "stderr",
     "output_type": "stream",
     "text": [
      "TopologyException: found non-noded intersection between LINESTRING (-123.296 40.2317, -123.296 40.2319) and LINESTRING (-123.296 40.2318, -123.296 40.2317) at -123.29584177545262 40.231765688904829\n"
     ]
    },
    {
     "name": "stdout",
     "output_type": "stream",
     "text": [
      "24\n",
      "25\n"
     ]
    },
    {
     "name": "stderr",
     "output_type": "stream",
     "text": [
      "TopologyException: side location conflict at -123.23431715962889 40.230773396149083\n"
     ]
    },
    {
     "name": "stdout",
     "output_type": "stream",
     "text": [
      "26\n",
      "27\n"
     ]
    },
    {
     "name": "stderr",
     "output_type": "stream",
     "text": [
      "TopologyException: found non-noded intersection between LINESTRING (-123.114 39.5566, -123.114 39.5566) and LINESTRING (-123.114 39.5565, -123.114 39.5566) at -123.11369738700942 39.556565075340444\n",
      "TopologyException: side location conflict at -122.94193026350372 40.032066466433491\n"
     ]
    },
    {
     "name": "stdout",
     "output_type": "stream",
     "text": [
      "28\n"
     ]
    },
    {
     "name": "stderr",
     "output_type": "stream",
     "text": [
      "TopologyException: found non-noded intersection between LINESTRING (-123.01 40.0723, -123.01 40.0723) and LINESTRING (-123.01 40.0723, -123.01 40.0724) at -123.01021829878222 40.072309550516913\n"
     ]
    },
    {
     "name": "stdout",
     "output_type": "stream",
     "text": [
      "29\n",
      "30\n",
      "31\n",
      "32\n",
      "33\n",
      "34\n",
      "35\n",
      "36\n",
      "37\n",
      "38\n"
     ]
    },
    {
     "name": "stderr",
     "output_type": "stream",
     "text": [
      "TopologyException: found non-noded intersection between LINESTRING (-123.297 40.2474, -123.297 40.2474) and LINESTRING (-123.296 40.2474, -123.297 40.2475) at -123.29651242926124 40.247449791172293\n"
     ]
    },
    {
     "name": "stdout",
     "output_type": "stream",
     "text": [
      "39\n",
      "40\n",
      "41\n"
     ]
    },
    {
     "name": "stderr",
     "output_type": "stream",
     "text": [
      "TopologyException: found non-noded intersection between LINESTRING (-123.259 40.0126, -123.259 40.0125) and LINESTRING (-123.259 40.0126, -123.259 40.0126) at -123.25927926005426 40.01256553593511\n",
      "TopologyException: found non-noded intersection between LINESTRING (-123.392 40.2973, -123.392 40.2972) and LINESTRING (-123.392 40.2972, -123.392 40.2973) at -123.39241926250023 40.29723203962196\n"
     ]
    },
    {
     "name": "stdout",
     "output_type": "stream",
     "text": [
      "42\n"
     ]
    },
    {
     "name": "stderr",
     "output_type": "stream",
     "text": [
      "TopologyException: Input geom 0 is invalid: Too few points in geometry component at or near point -123.37968460267597 40.392531186720113 at -123.37968460267597 40.392531186720113\n"
     ]
    },
    {
     "name": "stdout",
     "output_type": "stream",
     "text": [
      "43\n",
      "44\n",
      "45\n",
      "46\n",
      "47\n",
      "48\n",
      "49\n",
      "50\n"
     ]
    },
    {
     "name": "stderr",
     "output_type": "stream",
     "text": [
      "TopologyException: no outgoing dirEdge found at -123.09052039937313 39.906463381881167\n"
     ]
    },
    {
     "name": "stdout",
     "output_type": "stream",
     "text": [
      "51\n",
      "52\n",
      "53\n",
      "54\n",
      "55\n",
      "56\n",
      "57\n",
      "58\n",
      "59\n",
      "60\n",
      "61\n",
      "62\n",
      "63\n",
      "64\n",
      "65\n",
      "66\n",
      "67\n",
      "68\n",
      "69\n",
      "70\n",
      "71\n",
      "72\n",
      "73\n",
      "74\n",
      "BOBCAT\n"
     ]
    },
    {
     "name": "stderr",
     "output_type": "stream",
     "text": [
      "TopologyException: found non-noded intersection between LINESTRING (-117.904 34.3876, -117.904 34.3876) and LINESTRING (-117.904 34.3876, -117.904 34.3875) at -117.90376389184655 34.387579891399895\n",
      "TopologyException: found non-noded intersection between LINESTRING (-117.904 34.3876, -117.904 34.3876) and LINESTRING (-117.904 34.3876, -117.904 34.3875) at -117.90376389184655 34.387579891399895\n",
      "TopologyException: found non-noded intersection between LINESTRING (-118.024 34.4233, -118.024 34.4234) and LINESTRING (-118.024 34.4234, -118.024 34.4233) at -118.02388168542872 34.423388928236008\n",
      "TopologyException: found non-noded intersection between LINESTRING (-118.024 34.4233, -118.024 34.4234) and LINESTRING (-118.024 34.4234, -118.024 34.4233) at -118.02388168542872 34.423388928236008\n",
      "TopologyException: side location conflict at -117.9218928472061 34.228592475609986\n",
      "TopologyException: side location conflict at -117.9218928472061 34.228592475609986\n"
     ]
    },
    {
     "name": "stdout",
     "output_type": "stream",
     "text": [
      "0\n",
      "1\n",
      "2\n"
     ]
    },
    {
     "name": "stderr",
     "output_type": "stream",
     "text": [
      "TopologyException: side location conflict at -117.92224649220357 34.246500238867547\n"
     ]
    },
    {
     "name": "stdout",
     "output_type": "stream",
     "text": [
      "3\n",
      "4\n",
      "5\n",
      "6\n",
      "7\n",
      "8\n",
      "9\n",
      "10\n"
     ]
    },
    {
     "name": "stderr",
     "output_type": "stream",
     "text": [
      "TopologyException: no outgoing dirEdge found at -117.84089953179742 34.360516841972299\n"
     ]
    },
    {
     "name": "stdout",
     "output_type": "stream",
     "text": [
      "11\n",
      "12\n",
      "13\n",
      "14\n",
      "15\n"
     ]
    },
    {
     "name": "stderr",
     "output_type": "stream",
     "text": [
      "TopologyException: found non-noded intersection between LINESTRING (-118.066 34.2284, -118.066 34.2284) and LINESTRING (-118.066 34.2284, -118.066 34.2284) at -118.06592553306996 34.228438661845104\n"
     ]
    },
    {
     "name": "stdout",
     "output_type": "stream",
     "text": [
      "16\n",
      "17\n",
      "18\n",
      "19\n",
      "20\n",
      "21\n",
      "22\n",
      "23\n",
      "24\n",
      "25\n",
      "26\n",
      "27\n",
      "28\n",
      "29\n",
      "30\n",
      "31\n",
      "32\n",
      "33\n",
      "34\n",
      "35\n",
      "36\n",
      "37\n",
      "38\n",
      "39\n",
      "40\n",
      "41\n",
      "42\n",
      "43\n",
      "44\n",
      "45\n",
      "46\n",
      "47\n",
      "48\n",
      "49\n",
      "50\n",
      "51\n",
      "52\n",
      "53\n",
      "54\n",
      "DOLAN\n"
     ]
    },
    {
     "name": "stderr",
     "output_type": "stream",
     "text": [
      "TopologyException: no outgoing dirEdge found at -121.64421620432306 36.148207032969552\n",
      "TopologyException: EdgeRing::computePoints: found null Directed Edge\n",
      "TopologyException: EdgeRing::computePoints: found null Directed Edge\n",
      "TopologyException: no outgoing dirEdge found at -121.38036119022976 36.054571090006796\n",
      "TopologyException: found non-noded intersection between LINESTRING (-121.308 36.0595, -121.308 36.0596) and LINESTRING (-121.308 36.0596, -121.308 36.0596) at -121.30848970658285 36.059550271544111\n",
      "TopologyException: found non-noded intersection between LINESTRING (-121.327 36.0405, -121.327 36.0404) and LINESTRING (-121.327 36.0404, -121.327 36.0405) at -121.32718402588353 36.040416123288075\n",
      "TopologyException: found non-noded intersection between LINESTRING (-121.327 36.0405, -121.327 36.0404) and LINESTRING (-121.327 36.0404, -121.327 36.0405) at -121.32718402588353 36.040416123288075\n",
      "TopologyException: found non-noded intersection between LINESTRING (-121.563 36.0971, -121.562 36.0971) and LINESTRING (-121.563 36.0971, -121.563 36.0973) at -121.5625340461159 36.097128203371831\n",
      "TopologyException: found non-noded intersection between LINESTRING (-121.563 36.0971, -121.562 36.0971) and LINESTRING (-121.563 36.0971, -121.563 36.0973) at -121.5625340461159 36.097128203371831\n",
      "TopologyException: found non-noded intersection between LINESTRING (-121.563 36.0971, -121.562 36.0971) and LINESTRING (-121.563 36.0971, -121.563 36.0973) at -121.5625340461159 36.097128203371831\n",
      "TopologyException: found non-noded intersection between LINESTRING (-121.563 36.0971, -121.562 36.0971) and LINESTRING (-121.563 36.0971, -121.563 36.0973) at -121.5625340461159 36.097128203371831\n"
     ]
    },
    {
     "name": "stdout",
     "output_type": "stream",
     "text": [
      "0\n",
      "1\n"
     ]
    },
    {
     "name": "stderr",
     "output_type": "stream",
     "text": [
      "TopologyException: found non-noded intersection between LINESTRING (-121.56 36.0607, -121.56 36.0605) and LINESTRING (-121.56 36.0607, -121.56 36.0606) at -121.55975896462645 36.060696384369216\n"
     ]
    },
    {
     "name": "stdout",
     "output_type": "stream",
     "text": [
      "2\n",
      "3\n",
      "4\n",
      "5\n",
      "6\n",
      "7\n",
      "8\n",
      "9\n",
      "10\n",
      "11\n",
      "12\n",
      "13\n",
      "14\n",
      "15\n",
      "16\n",
      "17\n",
      "18\n"
     ]
    },
    {
     "name": "stderr",
     "output_type": "stream",
     "text": [
      "TopologyException: found non-noded intersection between LINESTRING (-121.502 36.1079, -121.502 36.1078) and LINESTRING (-121.502 36.1078, -121.502 36.1079) at -121.50179472196908 36.107841479579484\n"
     ]
    },
    {
     "name": "stdout",
     "output_type": "stream",
     "text": [
      "19\n",
      "20\n",
      "21\n",
      "22\n",
      "23\n",
      "24\n",
      "25\n",
      "26\n",
      "27\n",
      "28\n",
      "29\n",
      "30\n",
      "31\n",
      "32\n",
      "33\n",
      "34\n",
      "35\n",
      "36\n",
      "37\n",
      "38\n",
      "39\n",
      "40\n",
      "41\n",
      "42\n",
      "43\n",
      "44\n",
      "45\n",
      "46\n",
      "47\n",
      "48\n",
      "49\n",
      "50\n",
      "51\n",
      "52\n",
      "53\n",
      "54\n",
      "55\n",
      "56\n",
      "57\n",
      "58\n",
      "59\n",
      "60\n",
      "61\n",
      "62\n",
      "63\n",
      "64\n",
      "65\n",
      "66\n",
      "67\n",
      "68\n",
      "69\n",
      "70\n",
      "71\n",
      "72\n",
      "HOLIDAY FARM\n"
     ]
    },
    {
     "name": "stderr",
     "output_type": "stream",
     "text": [
      "TopologyException: EdgeRing::computePoints: found null Directed Edge\n",
      "TopologyException: no outgoing dirEdge found at -122.4224069198084 44.087132696204343\n",
      "TopologyException: no outgoing dirEdge found at -122.27867647434928 44.12977270011725\n",
      "TopologyException: found non-noded intersection between LINESTRING (-122.267 44.1614, -122.267 44.1613) and LINESTRING (-122.267 44.1612, -122.267 44.1613) at -122.26708541219422 44.161275229524911\n",
      "TopologyException: found non-noded intersection between LINESTRING (-122.267 44.1614, -122.267 44.1613) and LINESTRING (-122.267 44.1612, -122.267 44.1613) at -122.26708541219422 44.161275229524911\n",
      "TopologyException: side location conflict at -122.59571937373448 44.247717034585705\n",
      "TopologyException: side location conflict at -122.59571937373448 44.247717034585705\n"
     ]
    },
    {
     "name": "stdout",
     "output_type": "stream",
     "text": [
      "0\n",
      "1\n"
     ]
    },
    {
     "name": "stderr",
     "output_type": "stream",
     "text": [
      "TopologyException: found non-noded intersection between LINESTRING (-122.296 44.0763, -122.296 44.0763) and LINESTRING (-122.296 44.0763, -122.296 44.0763) at -122.29594128407787 44.076313689697685\n",
      "TopologyException: found non-noded intersection between LINESTRING (-122.536 44.2381, -122.536 44.238) and LINESTRING (-122.536 44.238, -122.536 44.238) at -122.5358364792789 44.238016878919467\n"
     ]
    },
    {
     "name": "stdout",
     "output_type": "stream",
     "text": [
      "2\n"
     ]
    },
    {
     "name": "stderr",
     "output_type": "stream",
     "text": [
      "TopologyException: side location conflict at -122.28530831834206 44.060504095576562\n"
     ]
    },
    {
     "name": "stdout",
     "output_type": "stream",
     "text": [
      "3\n",
      "4\n",
      "5\n",
      "6\n",
      "7\n",
      "8\n",
      "9\n",
      "10\n",
      "11\n",
      "12\n",
      "13\n",
      "14\n",
      "15\n",
      "16\n",
      "17\n",
      "18\n",
      "19\n",
      "20\n",
      "21\n",
      "22\n",
      "23\n",
      "24\n",
      "25\n",
      "26\n",
      "27\n",
      "28\n",
      "29\n",
      "30\n",
      "CREEK\n"
     ]
    },
    {
     "name": "stderr",
     "output_type": "stream",
     "text": [
      "TopologyException: side location conflict at -119.27074217708247 37.135855343628592\n",
      "TopologyException: side location conflict at -119.27074217708247 37.135855343628592\n",
      "TopologyException: side location conflict at -119.27074217708247 37.135855343628592\n",
      "TopologyException: side location conflict at -119.40010935605665 37.22565950088736\n",
      "TopologyException: side location conflict at -119.40010935605665 37.22565950088736\n",
      "TopologyException: found non-noded intersection between LINESTRING (-119.368 37.0233, -119.368 37.0233) and LINESTRING (-119.368 37.0233, -119.368 37.0233) at -119.36813080121144 37.023347552483344\n",
      "TopologyException: found non-noded intersection between LINESTRING (-119.368 37.0233, -119.368 37.0233) and LINESTRING (-119.368 37.0233, -119.368 37.0233) at -119.36813080121144 37.023347552483344\n",
      "TopologyException: found non-noded intersection between LINESTRING (-119.189 37.1696, -119.189 37.1696) and LINESTRING (-119.188 37.1696, -119.189 37.1696) at -119.1885275132508 37.16961677468997\n",
      "TopologyException: found non-noded intersection between LINESTRING (-119.189 37.1696, -119.189 37.1696) and LINESTRING (-119.188 37.1696, -119.189 37.1696) at -119.1885275132508 37.16961677468997\n",
      "TopologyException: side location conflict at -119.21950778487903 37.236106037726572\n",
      "TopologyException: side location conflict at -119.2600993686918 37.391304201201045\n",
      "TopologyException: found non-noded intersection between LINESTRING (-119.209 37.4418, -119.209 37.4418) and LINESTRING (-119.209 37.4417, -119.209 37.4418) at -119.20915151656087 37.44177256275308\n",
      "TopologyException: found non-noded intersection between LINESTRING (-119.442 37.4418, -119.442 37.4418) and LINESTRING (-119.442 37.4418, -119.442 37.4417) at -119.44206822561867 37.441756829863337\n",
      "TopologyException: found non-noded intersection between LINESTRING (-119.442 37.4418, -119.442 37.4418) and LINESTRING (-119.442 37.4418, -119.442 37.4417) at -119.44206822561867 37.441756829863337\n",
      "TopologyException: found non-noded intersection between LINESTRING (-119.399 37.4779, -119.399 37.4777) and LINESTRING (-119.399 37.4778, -119.398 37.4777) at -119.39853101310844 37.477764764549363\n",
      "TopologyException: found non-noded intersection between LINESTRING (-119.399 37.4779, -119.399 37.4777) and LINESTRING (-119.399 37.4778, -119.398 37.4777) at -119.39853101310844 37.477764764549363\n",
      "TopologyException: side location conflict at -119.37007940664427 37.478807035616853\n",
      "TopologyException: side location conflict at -119.45228707406459 37.298071071897894\n",
      "TopologyException: found non-noded intersection between LINESTRING (-119.051 37.3341, -119.05 37.334) and LINESTRING (-119.05 37.334, -119.05 37.334) at -119.05042080501926 37.334001865439227\n",
      "TopologyException: found non-noded intersection between LINESTRING (-119.051 37.3341, -119.05 37.334) and LINESTRING (-119.05 37.334, -119.05 37.334) at -119.05042080501926 37.334001865439227\n",
      "TopologyException: found non-noded intersection between LINESTRING (-119.081 37.3697, -119.081 37.3697) and LINESTRING (-119.081 37.3697, -119.081 37.3697) at -119.08067658664565 37.369725950572892\n",
      "TopologyException: side location conflict at -119.15375888502663 37.442787293730419\n"
     ]
    },
    {
     "name": "stdout",
     "output_type": "stream",
     "text": [
      "0\n",
      "1\n"
     ]
    },
    {
     "name": "stderr",
     "output_type": "stream",
     "text": [
      "TopologyException: found non-noded intersection between LINESTRING (-119.205 37.1506, -119.205 37.1506) and LINESTRING (-119.205 37.1506, -119.205 37.1506) at -119.20525318121982 37.150613391252833\n"
     ]
    },
    {
     "name": "stdout",
     "output_type": "stream",
     "text": [
      "2\n"
     ]
    },
    {
     "name": "stderr",
     "output_type": "stream",
     "text": [
      "TopologyException: EdgeRing::computePoints: found null Directed Edge\n"
     ]
    },
    {
     "name": "stdout",
     "output_type": "stream",
     "text": [
      "3\n",
      "4\n"
     ]
    },
    {
     "name": "stderr",
     "output_type": "stream",
     "text": [
      "TopologyException: found non-noded intersection between LINESTRING (-119.263 37.374, -119.263 37.374) and LINESTRING (-119.263 37.3741, -119.263 37.374) at -119.26271882893423 37.373985068069139\n"
     ]
    },
    {
     "name": "stdout",
     "output_type": "stream",
     "text": [
      "5\n"
     ]
    },
    {
     "name": "stderr",
     "output_type": "stream",
     "text": [
      "TopologyException: EdgeRing::computePoints: found null Directed Edge\n"
     ]
    },
    {
     "name": "stdout",
     "output_type": "stream",
     "text": [
      "6\n",
      "7\n",
      "8\n"
     ]
    },
    {
     "name": "stderr",
     "output_type": "stream",
     "text": [
      "TopologyException: side location conflict at -119.16000846301777 37.428729838606877\n",
      "TopologyException: found non-noded intersection between LINESTRING (-119.274 37.4653, -119.274 37.4652) and LINESTRING (-119.274 37.4652, -119.274 37.4652) at -119.27411670672971 37.465232327731378\n",
      "TopologyException: found non-noded intersection between LINESTRING (-119.299 37.4857, -119.299 37.4857) and LINESTRING (-119.299 37.4856, -119.299 37.4857) at -119.29871869183069 37.485677925778774\n"
     ]
    },
    {
     "name": "stdout",
     "output_type": "stream",
     "text": [
      "9\n",
      "10\n",
      "11\n"
     ]
    },
    {
     "name": "stderr",
     "output_type": "stream",
     "text": [
      "TopologyException: found non-noded intersection between LINESTRING (-119.317 37.5078, -119.317 37.5077) and LINESTRING (-119.32 37.5071, -119.317 37.5077) at -119.31682164556054 37.507700074931215\n",
      "TopologyException: found non-noded intersection between LINESTRING (-119.237 37.5229, -119.237 37.523) and LINESTRING (-119.237 37.5229, -119.237 37.5229) at -119.23679321148711 37.522887982690605\n",
      "TopologyException: side location conflict at -119.43504335711989 37.432227105205541\n"
     ]
    },
    {
     "name": "stdout",
     "output_type": "stream",
     "text": [
      "12\n",
      "13\n",
      "14\n",
      "15\n",
      "16\n",
      "17\n",
      "18\n",
      "19\n",
      "20\n",
      "21\n",
      "22\n",
      "23\n",
      "24\n",
      "25\n",
      "26\n",
      "27\n",
      "28\n",
      "29\n"
     ]
    },
    {
     "name": "stderr",
     "output_type": "stream",
     "text": [
      "TopologyException: found non-noded intersection between LINESTRING (-119.312 37.5828, -119.312 37.5828) and LINESTRING (-119.313 37.5827, -119.312 37.5828) at -119.31248328022002 37.582800620960704\n"
     ]
    },
    {
     "name": "stdout",
     "output_type": "stream",
     "text": [
      "30\n",
      "31\n",
      "32\n",
      "33\n",
      "34\n",
      "35\n",
      "36\n",
      "37\n",
      "38\n",
      "39\n",
      "40\n"
     ]
    },
    {
     "name": "stderr",
     "output_type": "stream",
     "text": [
      "TopologyException: found non-noded intersection between LINESTRING (-119.126 37.477, -119.126 37.4769) and LINESTRING (-119.126 37.4769, -119.126 37.4769) at -119.12558318788771 37.476869123397165\n"
     ]
    },
    {
     "name": "stdout",
     "output_type": "stream",
     "text": [
      "41\n",
      "42\n",
      "43\n",
      "44\n",
      "45\n"
     ]
    },
    {
     "name": "stderr",
     "output_type": "stream",
     "text": [
      "TopologyException: side location conflict at -119.11037690755199 37.457709999999999\n"
     ]
    },
    {
     "name": "stdout",
     "output_type": "stream",
     "text": [
      "46\n",
      "47\n",
      "48\n",
      "49\n",
      "50\n",
      "51\n",
      "52\n",
      "53\n",
      "54\n",
      "55\n",
      "LAKE\n",
      "0\n",
      "1\n",
      "2\n",
      "3\n",
      "4\n",
      "5\n",
      "6\n",
      "7\n",
      "8\n",
      "9\n",
      "10\n",
      "11\n",
      "12\n",
      "13\n",
      "14\n",
      "15\n",
      "16\n",
      "CAMERON PEAK\n"
     ]
    },
    {
     "name": "stderr",
     "output_type": "stream",
     "text": [
      "TopologyException: found non-noded intersection between LINESTRING (-105.678 40.6033, -105.678 40.6033) and LINESTRING (-105.678 40.6033, -105.678 40.6035) at -105.67776433192709 40.603320532431432\n",
      "TopologyException: found non-noded intersection between LINESTRING (-105.642 40.5731, -105.642 40.5731) and LINESTRING (-105.642 40.5731, -105.642 40.5731) at -105.64186030191821 40.573142296673183\n",
      "TopologyException: found non-noded intersection between LINESTRING (-105.642 40.5731, -105.642 40.5731) and LINESTRING (-105.642 40.5731, -105.642 40.5731) at -105.64186030191821 40.573142296673183\n",
      "TopologyException: found non-noded intersection between LINESTRING (-105.39 40.5317, -105.39 40.5317) and LINESTRING (-105.39 40.5317, -105.39 40.5317) at -105.39026833436941 40.531678820637744\n"
     ]
    },
    {
     "name": "stdout",
     "output_type": "stream",
     "text": [
      "0\n",
      "1\n",
      "2\n"
     ]
    },
    {
     "name": "stderr",
     "output_type": "stream",
     "text": [
      "TopologyException: found non-noded intersection between LINESTRING (-105.839 40.6577, -105.839 40.6577) and LINESTRING (-105.839 40.6577, -105.839 40.6577) at -105.83942259791564 40.657723159694946\n",
      "TopologyException: found non-noded intersection between LINESTRING (-105.829 40.6516, -105.829 40.6516) and LINESTRING (-105.829 40.6515, -105.829 40.6517) at -105.8286476589502 40.651570019331096\n"
     ]
    },
    {
     "name": "stdout",
     "output_type": "stream",
     "text": [
      "3\n",
      "4\n",
      "5\n",
      "6\n",
      "7\n",
      "8\n",
      "9\n",
      "10\n",
      "11\n",
      "12\n",
      "13\n",
      "14\n",
      "15\n",
      "16\n",
      "17\n",
      "18\n",
      "19\n",
      "20\n",
      "21\n",
      "22\n",
      "23\n"
     ]
    },
    {
     "name": "stderr",
     "output_type": "stream",
     "text": [
      "TopologyException: EdgeRing::computePoints: found null Directed Edge\n",
      "TopologyException: side location conflict at -105.78492449400837 40.661663888892548\n"
     ]
    },
    {
     "name": "stdout",
     "output_type": "stream",
     "text": [
      "24\n",
      "25\n",
      "26\n",
      "27\n",
      "28\n",
      "29\n",
      "30\n",
      "31\n",
      "32\n",
      "33\n",
      "34\n",
      "35\n",
      "36\n",
      "37\n",
      "38\n",
      "39\n",
      "40\n",
      "41\n",
      "42\n",
      "43\n",
      "44\n",
      "45\n",
      "46\n",
      "47\n",
      "48\n",
      "49\n",
      "50\n",
      "51\n",
      "52\n",
      "53\n",
      "54\n",
      "55\n",
      "56\n",
      "57\n",
      "58\n",
      "59\n",
      "60\n",
      "61\n",
      "62\n",
      "63\n",
      "64\n",
      "65\n",
      "66\n",
      "67\n",
      "68\n",
      "69\n",
      "70\n",
      "71\n",
      "72\n",
      "73\n",
      "74\n",
      "75\n",
      "76\n",
      "77\n",
      "78\n",
      "PINE GULCH\n"
     ]
    },
    {
     "name": "stderr",
     "output_type": "stream",
     "text": [
      "TopologyException: EdgeRing::computePoints: found null Directed Edge\n",
      "TopologyException: no outgoing dirEdge found at -108.44734364819823 39.454007278529389\n",
      "TopologyException: found non-noded intersection between LINESTRING (-108.337 39.4342, -108.337 39.434) and LINESTRING (-108.337 39.4343, -108.337 39.4341) at -108.33681287373878 39.434122145944734\n",
      "TopologyException: found non-noded intersection between LINESTRING (-108.337 39.4342, -108.337 39.434) and LINESTRING (-108.337 39.4343, -108.337 39.4341) at -108.33681287373878 39.434122145944734\n",
      "TopologyException: EdgeRing::computePoints: found null Directed Edge\n",
      "TopologyException: found non-noded intersection between LINESTRING (-108.588 39.4424, -108.588 39.4424) and LINESTRING (-108.588 39.4424, -108.588 39.4424) at -108.58834921972189 39.442386253021638\n"
     ]
    },
    {
     "name": "stdout",
     "output_type": "stream",
     "text": [
      "0\n",
      "1\n",
      "2\n",
      "3\n",
      "4\n",
      "5\n",
      "6\n",
      "7\n",
      "8\n",
      "9\n",
      "10\n",
      "11\n",
      "12\n",
      "13\n",
      "14\n"
     ]
    },
    {
     "name": "stderr",
     "output_type": "stream",
     "text": [
      "TopologyException: found non-noded intersection between LINESTRING (-108.502 39.5047, -108.501 39.5046) and LINESTRING (-108.501 39.5047, -108.501 39.5047) at -108.50148709960052 39.50465390151566\n",
      "TopologyException: found non-noded intersection between LINESTRING (-108.54 39.4892, -108.54 39.4892) and LINESTRING (-108.54 39.4892, -108.54 39.4892) at -108.54027804237248 39.489215821746605\n"
     ]
    },
    {
     "name": "stdout",
     "output_type": "stream",
     "text": [
      "15\n",
      "16\n",
      "17\n",
      "18\n",
      "19\n",
      "20\n",
      "21\n",
      "22\n",
      "23\n",
      "24\n",
      "25\n",
      "26\n",
      "27\n",
      "28\n",
      "29\n",
      "30\n",
      "31\n",
      "32\n",
      "33\n",
      "34\n"
     ]
    }
   ],
   "source": [
    "fire_incidents = ['AUGUST COMPLEX', 'BOBCAT', 'DOLAN', 'HOLIDAY FARM','CREEK', 'LAKE', 'CAMERON PEAK', 'PINE GULCH']\n",
    "\n",
    "\n",
    "for jj in range(len(fire_incidents)):\n",
    "    print(fire_incidents[jj])\n",
    "    # load in the daily polygons and attributes\n",
    "    fire_polygons = gpd.read_file(fire_incidents[jj].lower()+'_polygons_only_VIIRS_daily.geojson') #polygons only\n",
    "    fire_attributes = pd.read_csv(fire_incidents[jj].lower()+'_polygons_attributes_VIIRS_daily.csv') #other fire attributes\n",
    "\n",
    "    fire_daily = gpd.GeoDataFrame(pd.concat([fire_attributes[['Fire Name', 'Current Day','Number of NEW VIIRS points','NEW FRP', 'DateTim']],\\\n",
    "                                 fire_polygons], axis=1))\n",
    "    \n",
    "    times_end = np.minimum(np.datetime64(fire_daily['Current Day'].iloc[len(fire_daily)-1])+np.timedelta64(1,'D'), \n",
    "                      np.datetime64('2020-10-31')+np.timedelta64(1,'D'))\n",
    "    times = np.arange(np.datetime64(fire_daily['Current Day'].iloc[0]),\\\n",
    "                         times_end)\n",
    "    \n",
    "    \n",
    "    #pws_data = plant_water_sensivity_timeseries(times, fire_daily,fire_incidents[0])\n",
    "    #merra_lagged_data = merra_timeseries(times, fire_daily,fire_incidents[0], 'max')\n",
    "    #merra_moving_average_data = merra_timeseries(times, fire_daily,fire_incidents[0], 'ave')\n",
    "    #rave_data = rave_timeseries(times,fire_daily,fire_incidents[jj])\n",
    "    \n",
    "    #pws_data.to_csv(fire_incidents[jj]+'_Daily_PWS.csv')\n",
    "    #merra_lagged_data.to_csv(fire_incidents[jj]+'_Daily_MERRA_Lagged.csv')\n",
    "    #merra_moving_average_data.to_csv(fire_incidents[jj]+'_Daily_MERRA_Moving_Average.csv')\n",
    "    #rave_data.to_csv(fire_incidents[jj]+'_Daily_RAVE.csv')\n"
   ]
  },
  {
   "cell_type": "markdown",
   "id": "d5940bc2",
   "metadata": {},
   "source": [
    "## New Version of plot all polygons (4/1/2022)\n",
    "More red is later on, uses the per overpass version of my polygons\n"
   ]
  },
  {
   "cell_type": "code",
   "execution_count": null,
   "id": "e1c33839",
   "metadata": {},
   "outputs": [],
   "source": [
    "\n",
    "fig = plt.figure(figsize=(15,10))\n",
    "ax= fig.add_subplot(111,projection=ccrs.PlateCarree())\n",
    "#ax.set_extent([-124, -122, 39.2,40.5])\n",
    "ac_thapa_daily.plot(column = ac_thapa_daily['Current Day'], ax=ax, cmap='OrRd')\n",
    "gl = ax.gridlines(crs=ccrs.PlateCarree(), draw_labels=True,\\\n",
    "                  linewidth=2, color='gray', alpha=0.5, linestyle='--')\n",
    "gl.top_labels = False\n",
    "gl.right_labels = False\n",
    "plt.title('Thapa With Daily Polygons ')\n",
    "plt.show()"
   ]
  },
  {
   "cell_type": "markdown",
   "id": "61362d91",
   "metadata": {
    "heading_collapsed": true
   },
   "source": [
    "## Make sure the polygons are rounded and Generate the Times\n",
    "times can't go past the first of November"
   ]
  },
  {
   "cell_type": "code",
   "execution_count": null,
   "id": "4e2bac05",
   "metadata": {
    "hidden": true
   },
   "outputs": [],
   "source": [
    "print(len(fire_daily))\n",
    "times = np.arange(np.datetime64(fire_daily['Current Day'].iloc[0]),\\\n",
    "                          np.datetime64(fire_daily['Current Day'].iloc[len(fire_daily)-1])+np.timedelta64(1,'D'))\n",
    "print(times)"
   ]
  },
  {
   "cell_type": "markdown",
   "id": "5cb8afee",
   "metadata": {},
   "source": [
    "## Generate Time Series of Variables of interest"
   ]
  },
  {
   "cell_type": "markdown",
   "id": "27ffe952",
   "metadata": {
    "heading_collapsed": true
   },
   "source": [
    "### Plant Water Sensitivity Time Series (functions)"
   ]
  },
  {
   "cell_type": "code",
   "execution_count": 2,
   "id": "a9a3d039",
   "metadata": {
    "hidden": true,
    "scrolled": true
   },
   "outputs": [],
   "source": [
    "#returns a time series of the daily max polygon-weighted average of the PWS\n",
    "def plant_water_sensivity_timeseries(time,fire_table,fire_name):\n",
    "    pws=np.zeros(len(time)) #PWS Time Series\n",
    "    path_pws = '/data2/lthapa/PWS_6_jan_2021.nc'\n",
    "\n",
    "    dat_pws = xr.open_dataset(path_pws)   \n",
    "    lat = dat_pws['lat']\n",
    "    lon = dat_pws['lon']\n",
    "    lon, lat = np.meshgrid(lon, lat)\n",
    "    lat_corners, lon_corners = calculate_grid_cell_corners(lat, lon)\n",
    "    \n",
    "    band1 = dat_pws['Band1'] #PWS DATA\n",
    "    band1= np.repeat(band1.values[ np.newaxis,:, :], 24, axis=0) #repeat it for 24 hours, since it's a static map\n",
    "\n",
    "    for ii in range(len(time)):\n",
    "        thapa_ind = np.where(fire_table['Current Day'] == str(time[ii]))\n",
    "        \n",
    "        if (len(thapa_ind[0])==0):\n",
    "            pws[ii] = np.nan\n",
    "    \n",
    "        else:\n",
    "            poly_thapa = fire_table['geometry'].iloc[thapa_ind[0]]\n",
    "            overlap = calculate_overlaps(lat,lon,lat_corners,lon_corners,poly_thapa.iloc[0], 'rectilinear',0.1)\n",
    "            pws[ii] = np.max(feature_hourly(band1,overlap))\n",
    "    df_pws = pd.DataFrame({'day': times,'pws':pws})\n",
    "    return df_pws"
   ]
  },
  {
   "cell_type": "markdown",
   "id": "4aeb3145",
   "metadata": {
    "heading_collapsed": true
   },
   "source": [
    "### MERRA Time Series with Lags or Moving Average (Function)"
   ]
  },
  {
   "cell_type": "code",
   "execution_count": 3,
   "id": "970aea19",
   "metadata": {
    "hidden": true
   },
   "outputs": [],
   "source": [
    "#returns a time series of the daily max polygon-weighted average of MERRA quantities\n",
    "# option to toggle if you want moving averages or maximums from previous day\n",
    "# hdw_type= 'max' (use/report daily maxes), 'ave' (use/report averages)\n",
    "def merra_timeseries(time,fire_table,fire_name, hdw_type):\n",
    "    #preallocate space for the variables to be extracted\n",
    "    temp=np.zeros(len(time))\n",
    "    vpd=np.zeros(len(time))\n",
    "    num_points = np.zeros(len(time))\n",
    "    frp = np.zeros(len(time))\n",
    "    wind =  np.zeros(len(time))\n",
    "    area = np.zeros(len(time))\n",
    "    hd0w0 = np.zeros(len(time))\n",
    "    hd1w0 = np.zeros(len(time))\n",
    "    hd2w0 = np.zeros(len(time))\n",
    "    hd3w0 = np.zeros(len(time))\n",
    "    hd4w0 = np.zeros(len(time))\n",
    "    hd5w0 = np.zeros(len(time))\n",
    "\n",
    "    for ii in range(len(time)): #for each day in the time series\n",
    "        date=str(time[ii])\n",
    "        yr = date[0:4]\n",
    "        mo = date[5:7]\n",
    "        dy = date[8:10]\n",
    "        path_merra = '/data2/lthapa/'+yr+'/MERRA2/WESTUS_MERRA2_400.inst1_2d_lfo_Nx.*.nc4'\n",
    "    \n",
    "        #does a polygon exist for this time?\n",
    "        thapa_ind = np.where(fire_table['Current Day'] == str(time[ii]))\n",
    "    \n",
    "        if (len(thapa_ind[0])==0):\n",
    "            temp[ii] = np.nan\n",
    "            vpd[ii] = np.nan\n",
    "            wind[ii]= np.nan\n",
    "            hd0w0[ii] = np.nan\n",
    "            hd1w0[ii] = np.nan\n",
    "            hd2w0[ii] = np.nan\n",
    "            num_points[ii] = np.nan\n",
    "            area[ii] = np.nan\n",
    "            frp[ii] = np.nan\n",
    "        \n",
    "        else:\n",
    "            poly = fire_table['geometry'].iloc[thapa_ind[0]]\n",
    "        \n",
    "            #get the MERRA Stuff\n",
    "            out = extract_polygon_history(times[ii], 5, path_merra, 'lat', 'lon', {'TLML', 'QLML', 'PS', 'SPEEDLML'},\\\n",
    "                                    poly, 'rectilinear', 1)\n",
    "\n",
    "            #Get the derived stuff\n",
    "            esat = sat_vap_press(out['TLML'].iloc[:])\n",
    "            e = vap_press(out['QLML'].iloc[:], out['PS'].iloc[:])\n",
    "            VPD = esat-e\n",
    "            out = pd.concat([out, pd.DataFrame({'ESAT':esat, 'E': e, 'VPD':VPD})],\\\n",
    "                            axis=1) #first row is ndays back, last row is today\n",
    "            out_max = out.groupby(['time']).max()\n",
    "        \n",
    "            if hdw_type=='max':\n",
    "                temp[ii] = out_max['TLML'].iloc[5]\n",
    "                vpd[ii] = out_max['VPD'].iloc[5]\n",
    "                wind[ii]= out_max['SPEEDLML'].iloc[5]\n",
    "                hd0w0[ii] = out_max['VPD'].iloc[5]*out_max['SPEEDLML'].iloc[5]\n",
    "                hd1w0[ii] = out_max['VPD'].iloc[4]*out_max['SPEEDLML'].iloc[5]\n",
    "                hd2w0[ii] =out_max['VPD'].iloc[3]*out_max['SPEEDLML'].iloc[5]\n",
    "                hd3w0[ii] =out_max['VPD'].iloc[2]*out_max['SPEEDLML'].iloc[5]\n",
    "                hd4w0[ii] =out_max['VPD'].iloc[1]*out_max['SPEEDLML'].iloc[5]\n",
    "                hd5w0[ii] =out_max['VPD'].iloc[0]*out_max['SPEEDLML'].iloc[5]\n",
    "            elif hdw_type=='ave':\n",
    "                temp[ii] = out['TLML'].iloc[5*24:6*24].mean()\n",
    "                vpd[ii] = out['VPD'].iloc[5*24:6*24].mean()\n",
    "                wind[ii] = out['SPEEDLML'].iloc[5*24:6*24].mean()\n",
    "                hd0w0[ii] = out['VPD'].iloc[5*24:6*24].mean()*wind[ii]\n",
    "                hd1w0[ii] = out['VPD'].iloc[4*24:6*24].mean()*wind[ii]\n",
    "                hd2w0[ii] =out['VPD'].iloc[3*24:6*24].mean()*wind[ii]\n",
    "                hd3w0[ii] =out['VPD'].iloc[2*24:6*24].mean()*wind[ii]\n",
    "                hd4w0[ii] =out['VPD'].iloc[1*24:6*24].mean()*wind[ii]\n",
    "                hd5w0[ii] =out['VPD'].iloc[0*24:6*24].mean()*wind[ii]\n",
    "                \n",
    "                \n",
    "            frp[ii] = fire_table['NEW FRP'].iloc[thapa_ind[0]]\n",
    "            num_points[ii] = fire_table['Number of NEW VIIRS points'].iloc[thapa_ind[0]]\n",
    "            area[ii] = fire_table['geometry'].iloc[thapa_ind[0]].area\n",
    "                \n",
    "    df_merra = pd.DataFrame({'day': times,'temp':temp, 'vpd':vpd, 'wind':wind,\\\n",
    "                         'hd0w0':hd0w0, 'hd1w0':hd1w0,'hd2w0':hd2w0,\n",
    "                         'hd3w0':hd3w0, 'hd4w0':hd4w0,'hd5w0':hd5w0,\n",
    "                         'frp':frp, 'num points': num_points, 'area':area})\n",
    "    return df_merra"
   ]
  },
  {
   "cell_type": "code",
   "execution_count": null,
   "id": "d6218802",
   "metadata": {
    "hidden": true
   },
   "outputs": [],
   "source": [
    "#MERRA Time Series\n",
    "def merra_moving_average_timeseries(time,fire_table,fire_name):\n",
    "    temp=np.zeros(len(times))\n",
    "    vpd=np.zeros(len(times))\n",
    "    num_points = np.zeros(len(times))\n",
    "    frp = np.zeros(len(times))\n",
    "    wind =  np.zeros(len(times))\n",
    "    area = np.zeros(len(times))\n",
    "    hd0w0 = np.zeros(len(times))\n",
    "    hd1w0 = np.zeros(len(times))\n",
    "    hd2w0 = np.zeros(len(times))\n",
    "    hd3w0 = np.zeros(len(times))\n",
    "    hd4w0 = np.zeros(len(times))\n",
    "    hd5w0 = np.zeros(len(times))\n",
    "\n",
    "for ii in range(len(times)):\n",
    "    print(ii)\n",
    "    print(times[ii])\n",
    "    date=str(times[ii])\n",
    "    yr = date[0:4]\n",
    "    mo = date[5:7]\n",
    "    dy = date[8:10]\n",
    "    path_merra = '/data2/lthapa/'+yr+'/MERRA2/WESTUS_MERRA2_400.inst1_2d_lfo_Nx.*.nc4'\n",
    "    \n",
    "    #does a polygon exist for this time?\n",
    "    \n",
    "    thapa_ind = np.where(ac_thapa_daily['Current Day'] == str(times[ii]))\n",
    "    print(thapa_ind)\n",
    "    print(len(thapa_ind[0]))\n",
    "    \n",
    "    if (len(thapa_ind[0])==0):\n",
    "        print(ii, 'No Thapa poly!')\n",
    "        temp[ii] = np.nan\n",
    "        vpd[ii] = np.nan\n",
    "        wind[ii]= np.nan\n",
    "        hd0w0[ii] = np.nan\n",
    "        hd1w0[ii] = np.nan\n",
    "        hd2w0[ii] = np.nan\n",
    "        num_points[ii] = np.nan\n",
    "        area[ii] = np.nan\n",
    "        frp[ii] = np.nan\n",
    "        \n",
    "    else:\n",
    "        print(ii, 'Yes Thapa Poly!')\n",
    "        poly_thapa = ac_thapa_daily['geometry'].iloc[thapa_ind[0]]\n",
    "        \n",
    "        #get the MERRA Stuff\n",
    "        out = extract_polygon_history(times[ii], 5, path_merra, 'lat', 'lon', {'TLML', 'QLML', 'PS', 'SPEEDLML'},\\\n",
    "                            poly_thapa, 'rectilinear', 1)\n",
    "\n",
    "        #Get the derived stuff\n",
    "        esat = sat_vap_press(out['TLML'].iloc[:])\n",
    "        e = vap_press(out['QLML'].iloc[:], out['PS'].iloc[:])\n",
    "        VPD = esat-e\n",
    "        out = pd.concat([out, pd.DataFrame({'ESAT':esat, 'E': e, 'VPD':VPD})],\\\n",
    "                        axis=1)\n",
    "        #print(out) #first row is ndays back\n",
    "        out_max = out.groupby(['time']).max()\n",
    "        #out_mean = out.mean()\n",
    "        print(len(out))\n",
    "        \n",
    "        temp[ii] = out_max['TLML'].iloc[2]\n",
    "        vpd[ii] = out_max['VPD'].iloc[2]\n",
    "        wind[ii]= out_max['SPEEDLML'].iloc[2]\n",
    "        \n",
    "        hd0w0[ii] = out['VPD'].iloc[5*24:6*24].mean()*out_max['SPEEDLML'].iloc[5]\n",
    "        hd1w0[ii] = out['VPD'].iloc[4*24:6*24].mean()*out_max['SPEEDLML'].iloc[5]\n",
    "        hd2w0[ii] =out['VPD'].iloc[3*24:6*24].mean()*out_max['SPEEDLML'].iloc[5]\n",
    "        hd3w0[ii] =out['VPD'].iloc[2*24:6*24].mean()*out_max['SPEEDLML'].iloc[5]\n",
    "        hd4w0[ii] =out['VPD'].iloc[1*24:6*24].mean()*out_max['SPEEDLML'].iloc[5]\n",
    "        hd5w0[ii] =out['VPD'].iloc[0*24:6*24].mean()*out_max['SPEEDLML'].iloc[5]\n",
    "        \n",
    "        frp[ii] = ac_thapa_daily['NEW FRP'].iloc[thapa_ind[0]]\n",
    "        num_points[ii] = ac_thapa_daily['Number of NEW VIIRS points'].iloc[thapa_ind[0]]\n",
    "        area[ii] = ac_thapa_daily['geometry'].iloc[thapa_ind[0]].area"
   ]
  },
  {
   "cell_type": "markdown",
   "id": "66792ba9",
   "metadata": {
    "heading_collapsed": true
   },
   "source": [
    "### MERRA Time Series with moving averages (old as of 8/31/2022)\n"
   ]
  },
  {
   "cell_type": "code",
   "execution_count": null,
   "id": "1e089e51",
   "metadata": {
    "hidden": true
   },
   "outputs": [],
   "source": [
    "df_merra = pd.DataFrame({'day': times,'temp':temp, 'vpd':vpd, 'wind':wind,\\\n",
    "                         'hd0w0_MA':hd0w0, 'hd1w0_MA':hd1w0,'hd2w0_MA':hd2w0,\n",
    "                         'hd3w0_MA':hd3w0, 'hd4w0_MA':hd4w0,'hd5w0_MA':hd5w0,\n",
    "                         'frp':frp, 'num points': num_points, 'area':area})\n",
    "df_merra\n",
    "\n",
    "#df_merra.to_csv('AC_Daily_MERRA_movingaverage.csv')\n",
    "#df_merra.to_csv('BOBCAT_Daily_MERRA_movingaverage.csv')\n",
    "#df_merra.to_csv('HOLIDAY_FARM_Daily_MERRA.csv')\n",
    "df_merra.to_csv('DOLAN_Daily_MERRA_movingaverage.csv')"
   ]
  },
  {
   "cell_type": "markdown",
   "id": "5e5614fd",
   "metadata": {
    "heading_collapsed": true
   },
   "source": [
    "### FCCS Time Series"
   ]
  },
  {
   "cell_type": "code",
   "execution_count": null,
   "id": "ec55bd39",
   "metadata": {
    "hidden": true
   },
   "outputs": [],
   "source": [
    "varis = {'/static_maps/static_map_1km.nc4': ['fccs', 'slp', 'asp']}\n",
    "#0=lat, 1=lon, 2=time, 3=level \n",
    "dims = {'/static_maps/static_map_1km.nc4': ['lat', 'lon']}\n",
    "\n",
    "#times = np.arange(np.datetime64('2020-08-17'), np.datetime64('2020-10-18')) #how long we have Crystal's polygons for\n",
    "fuels = np.zeros(len(times))\n",
    "slopes = np.zeros(len(times))\n",
    "aspects = np.zeros(len(times))\n",
    "\n",
    "# load in the FCCS Data\n",
    "path = '../static_maps/static_map_1km.nc4'\n",
    "dat = nc.Dataset(path)  \n",
    "\n",
    "lat = dat['lat'][:]\n",
    "lon = dat['lon'][:]\n",
    "fccs = dat['fccs'][:]\n",
    "slp = dat['slp'][:]\n",
    "asp = dat['asp'][:]\n",
    "\n",
    "if len(lat.shape)==1:\n",
    "            lon, lat = np.meshgrid(lon, lat) \n",
    "lat_corners, lon_corners = calculate_grid_cell_corners(lat, lon)\n",
    "\n",
    "for ii in range(len(times)):\n",
    "    tic = np.datetime64('now')\n",
    "    print(ii)\n",
    "    \n",
    "    #does a polygon exist for this time?\n",
    "    \n",
    "    thapa_ind = np.where(ac_thapa_daily['Current Day'] == str(times[ii]))\n",
    "    #print(mcclure_ind, thapa_ind)\n",
    "    \n",
    "    if len(thapa_ind[0])==0:\n",
    "        print(ii, 'No Thapa poly!')\n",
    "        fuels[ii] = np.nan\n",
    "        slopes[ii] = np.nan\n",
    "        aspects[ii]= np.nan\n",
    "        \n",
    "    else:\n",
    "        print(ii, 'Yes Thapa poly!')\n",
    "        poly_thapa = ac_thapa_daily['geometry'].iloc[thapa_ind[0]]\n",
    "        overlap_thapa = calculate_overlaps(lat,lon,lat_corners,lon_corners,poly_thapa.iloc[0],'rectilinear',0.01)\n",
    "        overlap_thapa_buff = calculate_overlaps(lat,lon,lat_corners,lon_corners,poly_thapa.iloc[0].buffer(0.05),'rectilinear',0.01) #0.05 degree buffer to check fuels \n",
    "        fuels[ii] = find_mode(fccs[np.where(overlap_thapa==0) and np.where(overlap_thapa_buff!=0)])\n",
    "        slopes[ii] = np.nanmax(slp[np.where(overlap_thapa==0) and np.where(overlap_thapa_buff!=0)])\n",
    "        aspects[ii] = find_mode(asp[np.where(overlap_thapa==0) and np.where(overlap_thapa_buff!=0)])\n",
    "    toc= np.datetime64('now')\n",
    "    print(toc-tic)"
   ]
  },
  {
   "cell_type": "code",
   "execution_count": null,
   "id": "891ef716",
   "metadata": {
    "hidden": true
   },
   "outputs": [],
   "source": [
    "ac_dict = {'Day': times, 'fuels': fuels, 'slopes':slopes, 'aspects':aspects}\n",
    "\n",
    "df_ac = pd.DataFrame(ac_dict)\n",
    "df_ac\n",
    "df_ac.to_csv('AC_FCCS.csv')\n",
    "\n"
   ]
  },
  {
   "cell_type": "markdown",
   "id": "022edacf",
   "metadata": {
    "heading_collapsed": true
   },
   "source": [
    "### Rave Time Series Thapa polygon only (Function)"
   ]
  },
  {
   "cell_type": "code",
   "execution_count": 4,
   "id": "67e45c74",
   "metadata": {
    "hidden": true,
    "scrolled": true
   },
   "outputs": [],
   "source": [
    "def rave_timeseries(time,fire_table,fire_name):\n",
    "    #preallocate space for the output\n",
    "    df_rave = pd.DataFrame({'Mean_FRP':np.zeros(len(times)),\\\n",
    "                          'FRE':np.zeros(len(times)),  'CO2':np.zeros(len(times)),  'CO':np.zeros(len(times)),\\\n",
    "                          'SO2':np.zeros(len(times)),  'OC':np.zeros(len(times)),  'BC':np.zeros(len(times)),\\\n",
    "                          'PM2.5':np.zeros(len(times)),  'NOx':np.zeros(len(times)),  'NH3':np.zeros(len(times))})\n",
    "\n",
    "    varis = ['Mean_FRP', 'FRE', 'CO2', 'CO', 'SO2', 'OC', 'BC', 'PM2.5', 'NOx', 'NH3'] #don't need 'area', it's the area of each cell\n",
    "    path_prefix = '/data2/lthapa/2020/Apr2020_to_Oct2020/'\n",
    "    file_prefix = 'Hourly_Emissions_FV3_13km_'\n",
    "\n",
    "    for ii in range(len(times)):\n",
    "        print(ii)\n",
    "        date=str(times[ii])\n",
    "        yr = date[0:4]\n",
    "        mo = date[5:7]\n",
    "        dy = date[8:10]\n",
    "    \n",
    "        path_rave = path_prefix + file_prefix + yr+mo+dy+'0000_'+yr+mo+dy+'2300.nc'\n",
    "        dat_rave = nc.Dataset(path_rave) # load in the data\n",
    "        \n",
    "        lat_corner = dat_rave['Latitude'][:] #get the lat/lons\n",
    "        lon_corner = dat_rave['Longitude'][:]-360 #need to convert to degrees west or negative lon\n",
    "        lat_center, lon_center = calculate_grid_cell_corners(lat_corner, lon_corner)\n",
    "\n",
    "        thapa_ind = np.where(fire_table['Current Day'] == str(times[ii]))\n",
    "    \n",
    "        if len(thapa_ind[0])==0:\n",
    "            df_rave.iloc[ii] = np.nan*np.zeros((1,10)) #nan for this instance\n",
    "            \n",
    "        else:\n",
    "            poly_thapa = fire_table['geometry'].iloc[thapa_ind[0]]\n",
    "            overlap_thapa = calculate_overlaps(lat_center,lon_center,lat_corner,lon_corner,poly_thapa.iloc[0], 'curvilinear',1)\n",
    "            overlap_thapa[np.where(overlap_thapa!=0)]=1\n",
    "            for var in varis:\n",
    "                field = np.swapaxes(np.swapaxes(dat_rave[var][:], 0,2), 1,2)\n",
    "                df_rave[var].iloc[ii] = np.sum(feature_hourly(field, overlap_thapa))   \n",
    "            \n",
    "    return df_rave"
   ]
  },
  {
   "cell_type": "code",
   "execution_count": null,
   "id": "0db802e4",
   "metadata": {
    "hidden": true
   },
   "outputs": [],
   "source": [
    "# save the rave\n",
    "df_rave_thapa\n",
    "#df_rave_thapa.to_csv('AC_Daily_RAVE.csv')\n",
    "#df_rave_thapa.to_csv('BOBCAT_Daily_RAVE.csv')\n",
    "#df_rave_thapa.to_csv('HOLIDAY_FARM_Daily_RAVE.csv')\n",
    "df_rave_thapa.to_csv('DOLAN_Daily_RAVE.csv')\n"
   ]
  },
  {
   "cell_type": "markdown",
   "id": "95cf4f1c",
   "metadata": {
    "heading_collapsed": true
   },
   "source": [
    "### COD Time Series"
   ]
  },
  {
   "cell_type": "code",
   "execution_count": null,
   "id": "287b4b5c",
   "metadata": {
    "hidden": true,
    "scrolled": true
   },
   "outputs": [],
   "source": [
    "#COD Time Series\n",
    "\n",
    "#times = np.arange(np.datetime64('2020-08-17'), np.datetime64('2020-10-18')) #how long we have Crystal's polygons for\n",
    "\n",
    "cod_out =  np.zeros((2, len(times)))\n",
    "\n",
    "\n",
    "#loop over times\n",
    "#loop over variables\n",
    "# put it all into a dataframe\n",
    "\n",
    "varis = ['cod'] #don't need 'area', it's the area of each cell\n",
    "path_prefix = '/data2/lthapa/2020/COD_Aggregated/'\n",
    "file_prefix = 'MAX_COD_'\n",
    "\n",
    "#load in one file for shapes\n",
    "dat_test = nc.Dataset('/data2/lthapa/2020/COD_Aggregated/MAX_COD_2020112821.nc')\n",
    "data_cod = nc.Dataset('/data2/lthapa/2019/COD/201908615/OR_ABI-L2-CODC-M3_G16_s20190861502162_e20190861504535_c20190861506227.nc')\n",
    "lat_ctr, lon_ctr = project_abi(data_cod)\n",
    "lat_corner, lon_corner = calculate_grid_cell_corners(lat_ctr, lon_ctr)\n",
    "\n",
    "#print((24, lat_test.shape[0], lat_test.shape[1]))\n",
    "for ii in range(len(times)):\n",
    "    print(ii)\n",
    "    cod = np.zeros((24, lat_ctr.shape[0], lat_ctr.shape[1])) #preallocate an array for COD\n",
    "    date=str(times[ii])\n",
    "    yr = date[0:4]\n",
    "    mo = date[5:7]\n",
    "    dy = date[8:10]\n",
    "    \n",
    "    \n",
    "    path_cod = path_prefix + file_prefix + yr+mo+dy+'*.nc'\n",
    "    hr = 0\n",
    "    for item in os.listdir(path_prefix):\n",
    "        if (yr+mo+dy in item) and (file_prefix in item):\n",
    "            #build the grid that contains info for the day\n",
    "            path_cod =path_prefix + item\n",
    "            #print(path_cod)\n",
    "            dat = nc.Dataset(path_cod) # load in the data\n",
    "            lat_corner, lon_corner =calculate_grid_cell_corners(lat_ctr, lon_ctr)\n",
    "            cod[hr,:] = dat['cod'][0,:]\n",
    "            hr=hr+1\n",
    "            \n",
    "    mcclure_ind = np.where(ac_mcclure_daily['Days']==str(times[ii]))\n",
    "    thapa_ind = np.where(ac_thapa_daily['Current Day'] == str(times[ii]))\n",
    "    if len(mcclure_ind[0])==0:\n",
    "        print('No McClure poly!')\n",
    "        cod_out[0,ii] = np.nan\n",
    "        poly_thapa = ac_thapa_daily['geometry'].iloc[thapa_ind[0]]\n",
    "        overlap_thapa = calculate_overlaps(lat_ctr, lon_ctr,lat_corner,lon_corner,poly_thapa.iloc[0],'curvilinear',0.05)\n",
    "        print(overlap_thapa.shape)\n",
    "        cod_out[1,ii] = np.max(feature_hourly(cod, overlap_thapa))\n",
    "        \n",
    "    elif len(thapa_ind[0])==0:\n",
    "        print(ii, 'No Thapa poly!')\n",
    "        cod_out[1,ii] = np.nan\n",
    "        poly_mcclure = ac_mcclure_daily['geometry'].iloc[mcclure_ind[0]]\n",
    "        overlap_mcclure = calculate_overlaps(lat_ctr, lon_ctr,lat_corner,lon_corner,poly_mcclure.iloc[0],'curvilinear',0.05)\n",
    "        print(overlap_mcclure.shape)\n",
    "        cod_out[0,ii] = np.max(feature_hourly(cod, overlap_mcclure))\n",
    "    else:\n",
    "        print(ii, 'both polys')\n",
    "        poly_mcclure = ac_mcclure_daily['geometry'].iloc[mcclure_ind[0]]\n",
    "        overlap_mcclure = calculate_overlaps(lat_ctr, lon_ctr,lat_corner,lon_corner,poly_mcclure.iloc[0], 'curvilinear',0.05)\n",
    "        poly_thapa = ac_thapa_daily['geometry'].iloc[thapa_ind[0]]\n",
    "        overlap_thapa = calculate_overlaps(lat_ctr, lon_ctr,lat_corner,lon_corner,poly_thapa.iloc[0], 'curvilinear',0.05)\n",
    "        cod_out[0,ii] = np.max(feature_hourly(cod, overlap_mcclure))\n",
    "        cod_out[1,ii] = np.max(feature_hourly(cod, overlap_thapa))"
   ]
  },
  {
   "cell_type": "code",
   "execution_count": null,
   "id": "3a130274",
   "metadata": {
    "hidden": true
   },
   "outputs": [],
   "source": []
  },
  {
   "cell_type": "markdown",
   "id": "4b3fd30c",
   "metadata": {
    "heading_collapsed": true
   },
   "source": [
    "### NCAR Fuel Moisture (revised 5/5/2022)"
   ]
  },
  {
   "cell_type": "code",
   "execution_count": null,
   "id": "d8545f36",
   "metadata": {
    "hidden": true
   },
   "outputs": [],
   "source": [
    "#NCAR Moisture Time Series\n",
    "\n",
    "def ncar_fuel_moisture(time,fire_table,fire_name):\n",
    "    mlive=np.zeros(len(time))\n",
    "    mdead=np.zeros(len(time))\n",
    "\n",
    "    for ii in range(len(time)):\n",
    "        date=str(time[ii])\n",
    "        yr = date[0:4]\n",
    "        mo = date[5:7]\n",
    "        dy = date[8:10]\n",
    "        path_fmc = '/data2/lthapa/2020/FMC/fmc_*_20Z.nc'\n",
    "\n",
    "        if '*' in path_fmc:\n",
    "            path_fmc = path_fmc.replace('*', yr+mo+dy)\n",
    "        print(path_fmc)\n",
    "    \n",
    "    try:\n",
    "        dat = nc.Dataset(path_fmc)  \n",
    "    except:\n",
    "        print(\"No file for this day\")\n",
    "    lat = dat['XLAT_M'][0,:]\n",
    "    lon = dat['XLONG_M'][0,:]\n",
    "    print(lon.shape)\n",
    "    #t = dat['time'][:]\n",
    "    \n",
    "    if len(lat.shape)==1:\n",
    "            lon, lat = np.meshgrid(lon, lat)\n",
    "    living = dat['FMCGLH2D'][0,:]\n",
    "    dead = dat['FMCG2D'][0,:]\n",
    "    print(living)\n",
    "    \n",
    "    \n",
    "    lat_corners, lon_corners = calculate_grid_cell_corners(lat, lon)\n",
    "    \n",
    "\n",
    "    #does a polygon exist for this time?\n",
    "    \n",
    "    thapa_ind = np.where(ac_thapa_daily['Current Day'] == str(times[ii]))\n",
    "        \n",
    "    if len(thapa_ind[0])==0:\n",
    "        print(ii, 'No Thapa poly!')\n",
    "        mlive[1,ii] = np.nan\n",
    "        mdead[1,ii] = np.nan\n",
    "\n",
    "    else:\n",
    "        print(ii, 'Yes Thapa polys')        \n",
    "        poly_thapa = ac_thapa_daily['geometry'].iloc[thapa_ind[0]].buffer(0.00001)\n",
    "        overlap_thapa = calculate_overlaps(lat,lon,lat_corners,lon_corners,poly_thapa.iloc[0], 'curvilinear',0.05)\n",
    "        mlive[1,ii] = np.mean(feature_hourly(living, overlap_thapa))\n",
    "        mdead[1,ii] = np.mean(feature_hourly(dead, overlap_thapa))\n",
    "    print(mlive[1,:], mdead[1,:])"
   ]
  },
  {
   "cell_type": "code",
   "execution_count": null,
   "id": "55c76843",
   "metadata": {
    "hidden": true
   },
   "outputs": [],
   "source": [
    "#print(mlive)\n",
    "#print(mdead)\n",
    "\n",
    "#we are missing a file for this day\n",
    "mlive[:,22]=[np.nan, np.nan]\n",
    "mdead[:,22]=[np.nan, np.nan]\n",
    "\n",
    "\n",
    "moisture = {'DateTim': times, 'mlive': mlive[1,:],'mdead': mdead[1,:]}\n",
    "df_moisture = pd.DataFrame(moisture)\n",
    "df_moisture\n",
    "#df_moisture.to_csv('AC_Daily_NCAR_Moisture.csv')\n",
    "#df_moisture.to_csv('BOBCAT_Daily_NCAR_Moisture.csv')\n",
    "df_moisture.to_csv('DOLAN_Daily_NCAR_Moisture.csv')"
   ]
  },
  {
   "cell_type": "markdown",
   "id": "f6df2c02",
   "metadata": {
    "heading_collapsed": true
   },
   "source": [
    "### NCAR Moisture With Lags (5/16)"
   ]
  },
  {
   "cell_type": "code",
   "execution_count": null,
   "id": "87b8c0c3",
   "metadata": {
    "hidden": true
   },
   "outputs": [],
   "source": [
    "#MERRA Time Series\n",
    "\n",
    "#times = np.arange(np.datetime64('2020-08-17'), np.datetime64('2020-10-18')) #how long we have Crystal's polygons for\n",
    "temp=np.zeros(len(times))\n",
    "vpd=np.zeros(len(times))\n",
    "num_points = np.zeros(len(times))\n",
    "frp = np.zeros(len(times))\n",
    "wind =  np.zeros(len(times))\n",
    "area = np.zeros(len(times))\n",
    "hd0w0 = np.zeros(len(times))\n",
    "hd1w0 = np.zeros(len(times))\n",
    "hd2w0 = np.zeros(len(times))\n",
    "\n",
    "\n",
    "for ii in range(len(times)):\n",
    "    print(ii)\n",
    "    date=str(times[ii])\n",
    "    yr = date[0:4]\n",
    "    mo = date[5:7]\n",
    "    dy = date[8:10]\n",
    "    path_merra = '/data2/lthapa/'+yr+'/MERRA2/WESTUS_MERRA2_400.inst1_2d_lfo_Nx.*.nc4'\n",
    "    \n",
    "    #does a polygon exist for this time?\n",
    "    \n",
    "    thapa_ind = np.where(ac_thapa_daily['Current Day'] == str(times[ii]))\n",
    "    print(thapa_ind)\n",
    "    print(len(thapa_ind[0]))\n",
    "    \n",
    "    if (len(thapa_ind[0])==0):\n",
    "        print(ii, 'No Thapa poly!')\n",
    "        temp[ii] = np.nan\n",
    "        vpd[ii] = np.nan\n",
    "        wind[ii]= np.nan\n",
    "        hd0w0[ii] = np.nan\n",
    "        hd1w0[ii] = np.nan\n",
    "        hd2w0[ii] = np.nan\n",
    "        num_points[ii] = np.nan\n",
    "        area[ii] = np.nan\n",
    "        frp[ii] = np.nan\n",
    "        \n",
    "    else:\n",
    "        print(ii, 'Yes Thapa Poly!')\n",
    "        poly_thapa = ac_thapa_daily['geometry'].iloc[thapa_ind[0]]\n",
    "        \n",
    "        #get the MERRA Stuff\n",
    "        out = extract_polygon_history(times[ii], 2, path_merra, 'lat', 'lon', {'TLML', 'QLML', 'PS', 'SPEEDLML'},\\\n",
    "                            poly_thapa, 'rectilinear', 1, 'max')\n",
    "\n",
    "        #Get the derived stuff\n",
    "        esat = sat_vap_press(out['TLML'].iloc[:])\n",
    "        e = vap_press(out['QLML'].iloc[:], out['PS'].iloc[:])\n",
    "        VPD = esat-e\n",
    "        out = pd.concat([out, pd.DataFrame({'ESAT':esat, 'E': e, 'VPD':VPD})],\\\n",
    "                        axis=1)\n",
    "        #print(out) #first row is ndays back\n",
    "        out_max = out.groupby(['time']).max()\n",
    "        #print(out_max)\n",
    "        \n",
    "        temp[ii] = out_max['TLML'].iloc[2]\n",
    "        vpd[ii] = out_max['VPD'].iloc[2]\n",
    "        wind[ii]= out_max['SPEEDLML'].iloc[2]\n",
    "        hd0w0[ii] = out_max['VPD'].iloc[2]*out_max['SPEEDLML'].iloc[2]\n",
    "        hd1w0[ii] = out_max['VPD'].iloc[1]*out_max['SPEEDLML'].iloc[2]\n",
    "        hd2w0[ii] =out_max['VPD'].iloc[0]*out_max['SPEEDLML'].iloc[2]\n",
    "        frp[ii] = ac_thapa_daily['NEW FRP'].iloc[thapa_ind[0]]\n",
    "        num_points[ii] = ac_thapa_daily['Number of NEW VIIRS points'].iloc[thapa_ind[0]]\n",
    "        area[ii] = ac_thapa_daily['geometry'].iloc[thapa_ind[0]].area"
   ]
  },
  {
   "cell_type": "markdown",
   "id": "2c3d843b",
   "metadata": {
    "heading_collapsed": true
   },
   "source": [
    "### IGBP Fuels (created 4/13/2022)"
   ]
  },
  {
   "cell_type": "code",
   "execution_count": null,
   "id": "8badda88",
   "metadata": {
    "code_folding": [],
    "hidden": true,
    "scrolled": true
   },
   "outputs": [],
   "source": [
    "#NCAR Moisture Time Series\n",
    "\n",
    "#times = np.arange(np.datetime64('2020-08-17'), np.datetime64('2020-10-18')) #how long we have Crystal's polygons for\n",
    "df_igbp_thapa = pd.DataFrame({'% water':np.zeros(len(times)), '% evergreen needleleaf forest':np.zeros(len(times)),\\\n",
    "                              '% evergreen broadleaf forest':np.zeros(len(times)),\\\n",
    "                              '% deciduous needleleaf forest':np.zeros(len(times)),\\\n",
    "                               '% deciduous broadleaf forest':np.zeros(len(times)), '% mixed forests':np.zeros(len(times)),\\\n",
    "                              '% closed shrubland':np.zeros(len(times)), '% open shrublands':np.zeros(len(times)),\\\n",
    "                              '% woody savannas':np.zeros(len(times)),'% savannas':np.zeros(len(times)),\\\n",
    "                              '% grasslands':np.zeros(len(times)), '% permanent wetlands':np.zeros(len(times)),\\\n",
    "                              '% croplands':np.zeros(len(times)), '% urban and built-up':np.zeros(len(times)),\\\n",
    "                              '% cropland/natural vegetation mosaic':np.zeros(len(times)),\\\n",
    "                              '% snow and ice':np.zeros(len(times)),\\\n",
    "                              '% barren or sparsely vegetated':np.zeros(len(times))})\n",
    "\n",
    "df_igbp_mcclure = pd.DataFrame({'% water':np.zeros(len(times)), '% evergreen needleleaf forest':np.zeros(len(times)),\\\n",
    "                              '% evergreen broadleaf forest':np.zeros(len(times)),\\\n",
    "                              '% deciduous needleleaf forest':np.zeros(len(times)),\\\n",
    "                               '% deciduous broadleaf forest':np.zeros(len(times)), '% mixed forests':np.zeros(len(times)),\\\n",
    "                              '% closed shrubland':np.zeros(len(times)), '% open shrublands':np.zeros(len(times)),\\\n",
    "                              '% woody savannas':np.zeros(len(times)),'% savannas':np.zeros(len(times)),\\\n",
    "                              '% grasslands':np.zeros(len(times)), '% permanent wetlands':np.zeros(len(times)),\\\n",
    "                              '% croplands':np.zeros(len(times)), '% urban and built-up':np.zeros(len(times)),\\\n",
    "                              '% cropland/natural vegetation mosaic':np.zeros(len(times)),\\\n",
    "                              '% snow and ice':np.zeros(len(times)),\\\n",
    "                              '% barren or sparsely vegetated':np.zeros(len(times))})\n",
    "#load in the data here so we only have to do it once\n",
    "\n",
    "dat = nc.Dataset('/data2/lthapa/static_maps/MODIS_IGBP_2020.nc')\n",
    "lat_center = dat['lat'][:]\n",
    "lon_center = dat['lon'][:]\n",
    "lc_majority= dat['lc_majority'][:]\n",
    "lc_percent = dat['lc_percent'][:]\n",
    "print(lc_percent.shape)\n",
    "\n",
    "lat_inds = np.where((lat_center[:,0]>=31)& (lat_center[:,0]<=51))[0]\n",
    "lat_start = lat_inds[0]\n",
    "lat_end = lat_inds[len(lat_inds)-1]\n",
    "lon_inds = np.where((lon_center[0,:]>=-126)& (lon_center[0,:]<=-101))[0]\n",
    "lon_start = lon_inds[0]\n",
    "lon_end = lon_inds[len(lon_inds)-1]\n",
    "\n",
    "lat_corners, lon_corners = calculate_grid_cell_corners(lat_center, lon_center)\n",
    "\n",
    "for ii in range(len(times)):\n",
    "    print(ii)\n",
    "    \n",
    "    #does a polygon exist for this time?\n",
    "    mcclure_ind = np.where(ac_mcclure_daily['Days']==str(times[ii]))\n",
    "    thapa_ind = np.where(ac_thapa_daily['Current Day'] == str(times[ii]))\n",
    "    #print(mcclure_ind, thapa_ind)\n",
    "    \n",
    "    if len(mcclure_ind[0])==0:\n",
    "        print(ii, 'No mcclure poly')\n",
    "        poly_thapa = ac_thapa_daily['geometry'].iloc[thapa_ind[0]]\n",
    "        overlap_thapa = calculate_overlaps(lat_center,lon_center,lat_corners,lon_corners,poly_thapa.iloc[0], 'rectilinear',0.05)\n",
    "        overlap_thapa[np.where(overlap_thapa!=0)]=1\n",
    "        overlap_thapa[np.where(overlap_thapa==0)]=np.nan\n",
    "        for jj in range(17):\n",
    "            df_igbp_mcclure.iloc[ii,jj] = np.nan \n",
    "            df_igbp_thapa.iloc[ii,jj] = np.nanmean(np.multiply(overlap_thapa, lc_percent[jj, :,:]))#average percentage over polygon of each fuel\n",
    "\n",
    "\n",
    "    elif len(thapa_ind[0])==0:\n",
    "        print(ii, 'No Thapa poly!')\n",
    "        poly_mcclure = ac_mcclure_daily['geometry'].iloc[mcclure_ind[0]]\n",
    "        overlap_mcclure = calculate_overlaps(lat_center,lon_center,lat_corners,lon_corners,poly_mcclure.iloc[0], 'rectilinear',0.05)\n",
    "        overlap_mcclure[np.where(overlap_mcclure!=0)]=1\n",
    "        overlap_mcclure[np.where(overlap_mcclure==0)]=np.nan\n",
    "        for jj in range(17):\n",
    "            df_igbp_mcclure.iloc[ii,jj] = np.nanmean(np.multiply(overlap_mcclure, lc_percent[jj, :,:])) #average percentage over polygon of each fuel\n",
    "            df_igbp_thapa.iloc[ii,jj] = np.nan\n",
    "\n",
    "    else:\n",
    "        print(ii, 'both polys')\n",
    "        \n",
    "        poly_mcclure = ac_mcclure_daily['geometry'].iloc[mcclure_ind[0]]\n",
    "        overlap_mcclure = calculate_overlaps(lat_center,lon_center,lat_corners,lon_corners,poly_mcclure.iloc[0], 'rectilinear',0.05)\n",
    "        overlap_mcclure[np.where(overlap_mcclure!=0)]=1\n",
    "        overlap_mcclure[np.where(overlap_mcclure==0)]=np.nan\n",
    "        \n",
    "        poly_thapa = ac_thapa_daily['geometry'].iloc[thapa_ind[0]]\n",
    "        overlap_thapa = calculate_overlaps(lat_center,lon_center,lat_corners,lon_corners,poly_thapa.iloc[0], 'rectilinear',0.05)\n",
    "        overlap_thapa[np.where(overlap_thapa!=0)]=1\n",
    "        overlap_thapa[np.where(overlap_thapa==0)]=np.nan\n",
    "        \n",
    "        for jj in range(17):\n",
    "            df_igbp_mcclure.iloc[ii,jj] = np.nanmean(np.multiply(overlap_mcclure, lc_percent[jj, :,:])) #average percentage over polygon of each fuel\n",
    "            df_igbp_thapa.iloc[ii,jj] = np.nanmean(np.multiply(overlap_thapa, lc_percent[jj, :,:]))\n",
    "\n",
    "\n",
    "            \n",
    "df_igbp_thapa"
   ]
  },
  {
   "cell_type": "code",
   "execution_count": null,
   "id": "fa73690f",
   "metadata": {
    "hidden": true
   },
   "outputs": [],
   "source": [
    "df_igbp_thapa.to_csv('AC_IGBP_Thapa.csv')\n",
    "df_igbp_mcclure.to_csv('AC_IGBP_McClure.csv')"
   ]
  },
  {
   "cell_type": "code",
   "execution_count": null,
   "id": "58a335ca",
   "metadata": {
    "hidden": true
   },
   "outputs": [],
   "source": [
    " #this plots the fuel types with polygons overlaid  \n",
    "    \n",
    "    fig = plt.figure(figsize=(15,10))\n",
    "        ax= fig.add_subplot(111,projection=ccrs.PlateCarree())\n",
    "        ax.coastlines()\n",
    "        ax.set_extent([-123.5, -122.3, 39.4, 40.5])\n",
    "        ax.coastlines()\n",
    "        ax.add_feature(cfeature.STATES, linestyle='-', alpha=.5)\n",
    "        gl = ax.gridlines(crs=ccrs.PlateCarree(), draw_labels=True,\n",
    "                  linewidth=2, color='gray', alpha=0.5, linestyle='--')\n",
    "        gl.xlabels_top = False\n",
    "        gl.ylabels_right = False\n",
    "        levels = np.arange(-0.5,17.5,1) #need to specify levels for the contours\n",
    "        print(levels)\n",
    "        fuelmap = plt.contourf(lon_center[lat_start:lat_end, lon_start:lon_end],\\\n",
    "            lat_center[lat_start:lat_end, lon_start:lon_end],\\\n",
    "           lc_majority[lat_start:lat_end, lon_start:lon_end],\\\n",
    "            levels=levels,cmap='gist_ncar')\n",
    "        gpd.GeoSeries(poly_mcclure).plot(ax=ax, color='w', alpha=0.75)\n",
    "        plt.show()"
   ]
  },
  {
   "cell_type": "markdown",
   "id": "e7259496",
   "metadata": {
    "heading_collapsed": true
   },
   "source": [
    "## Time Series Map McClure IGBP"
   ]
  },
  {
   "cell_type": "code",
   "execution_count": null,
   "id": "50048c1f",
   "metadata": {
    "hidden": true,
    "scrolled": true
   },
   "outputs": [],
   "source": [
    "#NCAR Moisture Time Series\n",
    "\n",
    "dat = nc.Dataset('/data2/lthapa/static_maps/MODIS_IGBP_2020.nc')\n",
    "lat_center = dat['lat'][:]\n",
    "lon_center = dat['lon'][:]\n",
    "lc_majority= dat['lc_majority'][:]\n",
    "lc_percent = dat['lc_percent'][:]\n",
    "print(lc_percent.shape)\n",
    "\n",
    "lat_inds = np.where((lat_center[:,0]>=31)& (lat_center[:,0]<=51))[0]\n",
    "lat_start = lat_inds[0]\n",
    "lat_end = lat_inds[len(lat_inds)-1]\n",
    "lon_inds = np.where((lon_center[0,:]>=-126)& (lon_center[0,:]<=-101))[0]\n",
    "lon_start = lon_inds[0]\n",
    "lon_end = lon_inds[len(lon_inds)-1]\n",
    "\n",
    "lat_corners, lon_corners = calculate_grid_cell_corners(lat_center, lon_center)\n",
    "\n",
    "for ii in range(len(times)):\n",
    "    print(ii)\n",
    "    \n",
    "    #does a polygon exist for this time?\n",
    "    mcclure_ind = np.where(ac_mcclure_daily['Days']==str(times[ii]))\n",
    "    thapa_ind = np.where(ac_thapa_daily['Current Day'] == str(times[ii]))\n",
    "    #print(mcclure_ind, thapa_ind)\n",
    "    \n",
    "    if len(mcclure_ind[0])==0:\n",
    "        print(ii, 'No mcclure poly')\n",
    "\n",
    "    elif len(thapa_ind[0])==0:\n",
    "        print(ii, 'No Thapa poly!')\n",
    "        poly_mcclure = ac_mcclure_daily['geometry'].iloc[mcclure_ind[0]]\n",
    "        \n",
    "        fig = plt.figure(figsize=(15,10))\n",
    "        ax= fig.add_subplot(111,projection=ccrs.PlateCarree())\n",
    "        ax.coastlines()\n",
    "        ax.set_extent([-123.5, -122.3, 39.4, 40.5])\n",
    "        ax.coastlines()\n",
    "        ax.add_feature(cfeature.STATES, linestyle='-', alpha=.5)\n",
    "        gl = ax.gridlines(crs=ccrs.PlateCarree(), draw_labels=True,\n",
    "                  linewidth=2, color='gray', alpha=0.5, linestyle='--')\n",
    "        gl.xlabels_top = False\n",
    "        gl.ylabels_right = False\n",
    "        levels = np.arange(-0.5,17.5,1) #need to specify levels for the contours\n",
    "        print(levels)\n",
    "        fuelmap = plt.contourf(lon_center[lat_start:lat_end, lon_start:lon_end],\\\n",
    "            lat_center[lat_start:lat_end, lon_start:lon_end],\\\n",
    "           lc_majority[lat_start:lat_end, lon_start:lon_end],\\\n",
    "            levels=levels,cmap='gist_ncar')\n",
    "        gpd.GeoSeries(poly_mcclure).plot(ax=ax, color='w', alpha=0.75)\n",
    "        plt.title('McClure Polygon '+ str(times[ii]))\n",
    "        plt.show()\n",
    "\n",
    "    else:\n",
    "        print(ii, 'both polys')\n",
    "        \n",
    "        poly_mcclure = ac_mcclure_daily['geometry'].iloc[mcclure_ind[0]]\n",
    "        poly_thapa = ac_thapa_daily['geometry'].iloc[thapa_ind[0]]\n",
    "        fig = plt.figure(figsize=(15,10))\n",
    "        ax= fig.add_subplot(111,projection=ccrs.PlateCarree())\n",
    "        ax.coastlines()\n",
    "        ax.set_extent([-123.5, -122.3, 39.4, 40.5])\n",
    "        ax.coastlines()\n",
    "        ax.add_feature(cfeature.STATES, linestyle='-', alpha=.5)\n",
    "        gl = ax.gridlines(crs=ccrs.PlateCarree(), draw_labels=True,\n",
    "                  linewidth=2, color='gray', alpha=0.5, linestyle='--')\n",
    "        gl.xlabels_top = False\n",
    "        gl.ylabels_right = False\n",
    "        levels = np.arange(-0.5,17.5,1) #need to specify levels for the contours\n",
    "        print(levels)\n",
    "        fuelmap = plt.contourf(lon_center[lat_start:lat_end, lon_start:lon_end],\\\n",
    "            lat_center[lat_start:lat_end, lon_start:lon_end],\\\n",
    "           lc_majority[lat_start:lat_end, lon_start:lon_end],\\\n",
    "            levels=levels,cmap='gist_ncar')\n",
    "        \n",
    "        gpd.GeoSeries(poly_thapa).plot(ax=ax, color='w', alpha=0.5)\n",
    "        gpd.GeoSeries(poly_mcclure).plot(ax=ax, color='w', alpha=0.75)\n",
    "        plt.title('McClure Polygon '+ str(times[ii]))\n",
    "        plt.show()\n",
    "\n",
    "            \n",
    "df_igbp_thapa"
   ]
  },
  {
   "cell_type": "markdown",
   "id": "05cdc2ef",
   "metadata": {
    "heading_collapsed": true
   },
   "source": [
    "## Resources time series"
   ]
  },
  {
   "cell_type": "code",
   "execution_count": null,
   "id": "a2da9a53",
   "metadata": {
    "hidden": true
   },
   "outputs": [],
   "source": [
    "print(type(times))\n",
    "\n",
    "resources = pd.read_excel('Query2.xlsx')\n",
    "resources_people = resources.drop(columns=['RESTYP_IDENTIFIER', 'CODE_NAME', 'INC209R_IDENTIFIER'])\n",
    "#resources_people = resources_people.groupby(['INC209R_IDENTIFIER']).sum()\n",
    "resources_people"
   ]
  },
  {
   "cell_type": "code",
   "execution_count": null,
   "id": "7e81a04f",
   "metadata": {
    "hidden": true,
    "scrolled": false
   },
   "outputs": [],
   "source": [
    "ac_inds = np.where(resources_people['INCIDENT_NAME']=='Dolan')[0] #pull out august complex\n",
    "\n",
    "resources_people_ac = resources_people.iloc[ac_inds]\n",
    "print(resources_people_ac)\n",
    "#get the days (in UTC) that the 209 reports are valid for\n",
    "resources_dates = pd.to_datetime(resources_people_ac['REPORT_FROM_DATE']) + datetime.timedelta(hours=7)\n",
    "#resources_dates\n",
    "resources_days = [resources_dates.iloc[i].strftime(\"%Y-%m-%d\") for i in range(len(resources_dates))]\n",
    "resources_people_ac['DateTim'] = resources_days\n"
   ]
  },
  {
   "cell_type": "code",
   "execution_count": null,
   "id": "89ecf967",
   "metadata": {
    "hidden": true
   },
   "outputs": [],
   "source": [
    "#sum up the personnel assigned to the fire each day\n",
    "daily_sum_people = resources_people_ac.groupby('DateTim', as_index=False).sum()\n",
    "\n",
    "print(daily_sum_people)\n",
    "\n",
    "personnel=np.zeros(len(times))\n",
    "\n",
    "for ii in range(len(times)):\n",
    "    print(ii)    \n",
    "    \n",
    "    #does a report exist for this time?\n",
    "    thapa_ind = np.where(daily_sum_people['DateTim'] == str(times[ii]))\n",
    "    print(thapa_ind)\n",
    "    \n",
    "    if (len(thapa_ind[0])==0):\n",
    "        print(ii, 'No report!')\n",
    "        personnel[ii] = np.nan\n",
    "        \n",
    "    else:\n",
    "        print(ii, 'Yes report!')\n",
    "        personnel[ii] = daily_sum_people['RESOURCE_PERSONNEL'].iloc[thapa_ind[0]]\n",
    "        \n",
    "print(personnel)"
   ]
  },
  {
   "cell_type": "code",
   "execution_count": null,
   "id": "c11a5f96",
   "metadata": {
    "hidden": true
   },
   "outputs": [],
   "source": [
    "len(personnel)"
   ]
  },
  {
   "cell_type": "code",
   "execution_count": null,
   "id": "23768563",
   "metadata": {
    "hidden": true
   },
   "outputs": [],
   "source": [
    "df_personnel = pd.DataFrame({'personnel':personnel})\n",
    "df_personnel\n",
    "#df_personnel.to_csv('AC_Daily_Personnel.csv')\n",
    "df_personnel.to_csv('DOLAN_Daily_Personnel.csv')"
   ]
  },
  {
   "cell_type": "markdown",
   "id": "caf6a970",
   "metadata": {
    "heading_collapsed": true
   },
   "source": [
    "## Put everything into a dataframe (created 4/11/2022)"
   ]
  },
  {
   "cell_type": "code",
   "execution_count": null,
   "id": "76f13c41",
   "metadata": {
    "hidden": true
   },
   "outputs": [],
   "source": [
    "# load in the fuel moisture info, extract living and dead\n",
    "\n",
    "df_moisture = pd.read_csv('Moisture_Info_August_Complex.csv')\n",
    "df_cod = pd.read_csv()\n",
    "dict_thapa = {'time':times,'temp':temp[1,:], 'vpd':vpd[1,:], 'wind':wind[1,:], 'personnel':personnel,\\\n",
    "              'dead_moisture':df_moisture['Dead Thapa'], 'living moisture':df_moisture['Live Thapa'],\\\n",
    "              'cod': cod_out[1,:],'frp':frp[1,:], 'num_points':num_points[1,:]}\n",
    "df_thapa = pd.concat([pd.DataFrame(dict_thapa), df_gbbepx_thapa], axis=1)\n",
    "\n",
    "dict_mcclure = {'time':times,'temp':temp[0,:], 'vpd':vpd[0,:], 'wind':wind[0,:], 'personnel':personnel,\\\n",
    "              'dead_moisture':df_moisture['Dead McClure'], 'living moisture':df_moisture['Live McClure'],\\\n",
    "              'cod': cod_out[0,:],'frp':frp[0,:], 'num_points':num_points[0,:]}\n",
    "df_mcclure = pd.concat([pd.DataFrame(dict_mcclure), df_gbbepx_mcclure], axis=1)\n",
    "\n",
    "\n",
    "#save dataframes\n",
    "df_thapa.to_csv('AC_Thapa.csv')\n",
    "df_mcclure.to_csv('AC_McClure.csv')"
   ]
  },
  {
   "cell_type": "code",
   "execution_count": null,
   "id": "ba618cd0",
   "metadata": {
    "hidden": true
   },
   "outputs": [],
   "source": [
    "df_thapa = pd.read_csv('AC_Thapa.csv')\n",
    "print(df_thapa.columns)\n",
    "df_thapa['PM2.5 QFED Rate'] = pm25_daily_rate[1,:]\n",
    "df_thapa['PM2.5 QFED Total'] = pm25_daily_total[1,:]\n",
    "df_thapa['PM2.5'] = df_gbbepx_thapa['PM2.5']\n",
    "print(df_thapa.columns)\n",
    "\n",
    "df_thapa.to_csv('AC_Thapa.csv')\n",
    "\n",
    "\n",
    "df_mcclure = pd.read_csv('AC_McClure.csv')\n",
    "print(df_mcclure.columns)\n",
    "df_mcclure['PM2.5 QFED Rate'] = pm25_daily_rate[0,:]\n",
    "df_mcclure['PM2.5 QFED Total'] = pm25_daily_total[0,:]\n",
    "df_mcclure['PM2.5'] = df_gbbepx_mcclure['PM2.5']\n",
    "print(df_mcclure.columns)\n",
    "df_mcclure.to_csv('AC_McClure.csv')\n"
   ]
  },
  {
   "cell_type": "markdown",
   "id": "65aace01",
   "metadata": {
    "heading_collapsed": true
   },
   "source": [
    "## plot time series"
   ]
  },
  {
   "cell_type": "code",
   "execution_count": null,
   "id": "5bc04fd5",
   "metadata": {
    "hidden": true
   },
   "outputs": [],
   "source": [
    "#compare temperature for the two polygon methods\n",
    "fig, ax = plt.subplots(figsize=(20,8))\n",
    "ax.plot(times, temp[0,:], 'ro-')\n",
    "ax.plot(times, temp[1,:], 'bo-')\n",
    "ax.set_ylabel('Temperature', fontsize=24, color='blue')\n",
    "plt.legend({'McClure Polygons', 'Thapa Polygons'},fontsize=24)\n",
    "plt.title('AUG COMPLEX MAX DAILY TEMPERATURE',fontsize=24)\n",
    "plt.grid()\n",
    "plt.show()"
   ]
  },
  {
   "cell_type": "code",
   "execution_count": null,
   "id": "7ee0e908",
   "metadata": {
    "hidden": true
   },
   "outputs": [],
   "source": [
    "#compare VPD for the two polygon methods\n",
    "#compare temperature for the two polygon methods\n",
    "fig, ax = plt.subplots(figsize=(20,8))\n",
    "ax.plot(times, vpd[0,:], 'ro-')\n",
    "ax.plot(times, vpd[1,:], 'bo-')\n",
    "ax.set_ylabel('Temperature', fontsize=24, color='blue')\n",
    "plt.legend({'McClure Polygons', 'Thapa Polygons'},fontsize=24)\n",
    "plt.title('AUG COMPLEX MAX VPD',fontsize=24)\n",
    "plt.grid()\n",
    "plt.show()"
   ]
  },
  {
   "cell_type": "code",
   "execution_count": null,
   "id": "141dafd5",
   "metadata": {
    "hidden": true
   },
   "outputs": [],
   "source": [
    "#compare FRP for the two polygon methods\n",
    "#compare temperature for the two polygon methods\n",
    "fig, ax = plt.subplots(figsize=(20,8))\n",
    "ax.plot(times, frp[1,:], 'ro-')\n",
    "ax.plot(times, frp[0,:], 'bo-')\n",
    "ax.set_ylabel('FRP', fontsize=24, color='blue')\n",
    "plt.legend({'McClure Polygons', 'Thapa Polygons'},fontsize=24)\n",
    "plt.title('AUG COMPLEX FRP',fontsize=24)\n",
    "plt.grid()\n",
    "plt.show()"
   ]
  },
  {
   "cell_type": "code",
   "execution_count": null,
   "id": "e1dc1f10",
   "metadata": {
    "hidden": true
   },
   "outputs": [],
   "source": [
    "#compare number of detects/pixels for the two polygon methods\n",
    "#compare temperature for the two polygon methods\n",
    "fig, ax = plt.subplots(figsize=(20,8))\n",
    "ax.plot(times, num_points[1,:], 'ro-')\n",
    "ax.plot(times, num_points[0,:], 'bo-')\n",
    "ax.set_ylabel('Number of points/pixels', fontsize=24, color='blue')\n",
    "plt.legend({'McClure Polygons pixels', 'Thapa Polygons num points'},fontsize=24)\n",
    "plt.title('AUG COMPLEX Number Pixels',fontsize=24)\n",
    "plt.grid()\n",
    "plt.show()"
   ]
  },
  {
   "cell_type": "code",
   "execution_count": null,
   "id": "baa53954",
   "metadata": {
    "hidden": true
   },
   "outputs": [],
   "source": [
    "fig, ax = plt.subplots(figsize=(20,8))\n",
    "ax.plot(times, vpd[1,:], 'ro-')\n",
    "ax.set_ylabel('Daily Max Vapor Pressure Deficit', fontsize=24, color='red')\n",
    "plt.grid()\n",
    "ax2=ax.twinx()\n",
    "ax2.plot(times, num_points[1,:], 'bo-')\n",
    "ax2.set_ylabel('Number of VIIRS Detects', fontsize=24, color='blue')\n",
    "plt.title('AUG COMPLEX Laura Polygons', fontsize=24)\n",
    "plt.show()"
   ]
  },
  {
   "cell_type": "code",
   "execution_count": null,
   "id": "17bcc950",
   "metadata": {
    "hidden": true
   },
   "outputs": [],
   "source": [
    "fig, ax = plt.subplots(figsize=(20,8))\n",
    "ax.plot(times, temp[1,:], 'ro-')\n",
    "ax.set_ylabel('Daily Max Temperature', fontsize=24, color='red')\n",
    "plt.grid()\n",
    "ax2=ax.twinx()\n",
    "ax2.plot(times, num_points[1,:], 'bo-')\n",
    "ax2.set_ylabel('Number of VIIRS Detects', fontsize=24, color='blue')\n",
    "plt.title('AUG COMPLEX Laura Polygons', fontsize=24)\n",
    "plt.show()"
   ]
  },
  {
   "cell_type": "code",
   "execution_count": null,
   "id": "c914f94a",
   "metadata": {
    "hidden": true
   },
   "outputs": [],
   "source": [
    "fig, ax = plt.subplots(figsize=(20,8))\n",
    "ax.plot(times, temp[0,:], 'ro-')\n",
    "ax.set_ylabel('Daily Max Temperature', fontsize=24, color='red')\n",
    "plt.grid()\n",
    "ax2=ax.twinx()\n",
    "ax2.plot(times, frp[0,:], 'bo-')\n",
    "ax2.set_ylabel('FRP', fontsize=24, color='blue')\n",
    "plt.title('AUG COMPLEX Crystal Polygons', fontsize=24)\n",
    "plt.show()"
   ]
  },
  {
   "cell_type": "code",
   "execution_count": null,
   "id": "57d10930",
   "metadata": {
    "hidden": true
   },
   "outputs": [],
   "source": [
    "fig, ax = plt.subplots(figsize=(20,8))\n",
    "ax.plot(times, vpd[0,:], 'ro-')\n",
    "ax.set_ylabel('Daily Max Vapor Pressure Deficit', fontsize=24, color='red')\n",
    "plt.grid()\n",
    "ax2=ax.twinx()\n",
    "ax2.plot(times, frp[0,:], 'bo-')\n",
    "ax2.set_ylabel('FRP', fontsize=24, color='blue')\n",
    "plt.title('AUG COMPLEX Crystal Polygons', fontsize=24)\n",
    "plt.show()"
   ]
  },
  {
   "cell_type": "markdown",
   "id": "c8f4a2b5",
   "metadata": {
    "heading_collapsed": true
   },
   "source": [
    "## Validate RAVE (created 5/2/2022)"
   ]
  },
  {
   "cell_type": "code",
   "execution_count": null,
   "id": "55db8f2c",
   "metadata": {
    "hidden": true
   },
   "outputs": [],
   "source": [
    "plot_twoline(times, np.stack([df_gbbepx_thapa['CO'].values, area[1,:]]), 'August Complex Thapa Polygons',\\\n",
    "             [], ['CO Total Emissions (kg)', 'BA (deg^2)'], 1)\n",
    "\n",
    "print(pd.DataFrame({'emiss':df_gbbepx_thapa['CO'].values, 'area':area[1,:] }).corr())\n",
    "\n",
    "plot_twoline(times, np.stack([df_gbbepx_mcclure['CO'].values, area[0,:]]), 'August Complex McClure Polygons',\\\n",
    "             [], ['CO Total Emissions (kg)', 'BA (ha)'], 1)\n",
    "\n",
    "print(pd.DataFrame({'emiss':df_gbbepx_mcclure['CO'].values, 'area':area[0,:] }).corr())\n"
   ]
  },
  {
   "cell_type": "markdown",
   "id": "ffacd7eb",
   "metadata": {
    "heading_collapsed": true
   },
   "source": [
    "## time series plots with function (3/31/2022)"
   ]
  },
  {
   "cell_type": "code",
   "execution_count": null,
   "id": "6becb275",
   "metadata": {
    "hidden": true,
    "scrolled": false
   },
   "outputs": [],
   "source": [
    "plot_twoline(times, num_points, 'August Complex Daily Total Fire Counts', ['McClure', 'Thapa'], '#', 0)\n",
    "plot_twoline(times, frp, 'August Complex Daily Total FRP', ['McClure', 'Thapa'], 'MW', 0)\n",
    "plot_twoline(times, area, 'August Complex Daily Burned Area',\\\n",
    "             [], ['McClure Poly (ha)', 'Thapa Poly (degrees^2)'], 1)\n",
    "print(np.corrcoef(area))\n",
    "plot_twoline(times, wind, 'August Complex Daily Max WindSpeed', ['McClure', 'Thapa'], 'm/s', 0)\n",
    "plot_twoline(times, temp, 'August Complex Daily Max Temp', ['McClure', 'Thapa'], 'K', 0)\n",
    "plot_twoline(times, vpd, 'August Complex Daily Max VPD', ['McClure', 'Thapa'], 'Pa', 0)\n"
   ]
  },
  {
   "cell_type": "code",
   "execution_count": null,
   "id": "527fee5b",
   "metadata": {
    "hidden": true
   },
   "outputs": [],
   "source": [
    "plot_twoline(times, np.stack([temp[0,:], frp[0,:]]), 'August Complex McClure Polygons',\\\n",
    "             [], ['Max Temperature (K)', 'FRP (MW)'], 1)\n",
    "plot_twoline(times, np.stack([vpd[0,:], frp[0,:]]), 'August Complex McClure Polygons',\\\n",
    "             [], ['Max VPD (Pa)', 'FRP (MW)'], 1)\n",
    "plot_twoline(times, np.stack([wind[0,:], frp[0,:]]), 'August Complex McClure Polygons',\\\n",
    "             [], ['Max Wind (m/s)', 'FRP (MW)'], 1)\n",
    "\n",
    "plot_twoline(times, np.stack([temp[1,:], frp[1,:]]), 'August Complex Thapa Polygons',\\\n",
    "             [], ['Max Temperature (K)', 'FRP (MW)'], 1)\n",
    "plot_twoline(times, np.stack([vpd[1,:], frp[1,:]]), 'August Complex Thapa Polygons',\\\n",
    "             [], ['Max VPD (Pa)', 'FRP (MW)'], 1)\n",
    "plot_twoline(times, np.stack([wind[1,:], frp[1,:]]), 'August Complex Thapa Polygons',\\\n",
    "             [], ['Max Wind (m/s)', 'FRP (MW)'], 1)\n",
    "\n",
    "plot_twoline(times, np.stack([temp[0,:], num_points[0,:]]), 'August Complex McClure Polygons',\\\n",
    "             [], ['Max Temperature (K)', 'Num Pixels'], 1)\n",
    "plot_twoline(times, np.stack([vpd[0,:], num_points[0,:]]), 'August Complex McClure Polygons',\\\n",
    "             [], ['Max VPD (Pa)', 'Num Pixels'], 1)\n",
    "plot_twoline(times, np.stack([wind[0,:], num_points[0,:]]), 'August Complex McClure Polygons',\\\n",
    "             [], ['Max Wind (m/s)', 'Num Pixels'], 1)\n",
    "\n",
    "plot_twoline(times, np.stack([temp[1,:], num_points[1,:]]), 'August Complex Thapa Polygons',\\\n",
    "             [], ['Max Temperature (K)', 'Num Detections'], 1)\n",
    "plot_twoline(times, np.stack([vpd[1,:], num_points[1,:]]), 'August Complex Thapa Polygons',\\\n",
    "             [], ['Max VPD (hPa)', 'Num Detections'], 1)\n",
    "plot_twoline(times, np.stack([wind[1,:], num_points[1,:]]), 'August Complex Thapa Polygons',\\\n",
    "             [], ['Max Wind (m/s)', 'Num Detections'], 1)\n",
    "\n"
   ]
  },
  {
   "cell_type": "code",
   "execution_count": null,
   "id": "9cd4f9fd",
   "metadata": {
    "hidden": true,
    "scrolled": true
   },
   "outputs": [],
   "source": [
    "#personnel comparison\n",
    "plot_twoline(times, np.stack([personnel, frp[1,:]]), 'August Complex Thapa Polygons',\\\n",
    "             [], ['Number of People', 'FRP (MW)'], 1)\n",
    "plot_twoline(times, np.stack([personnel, frp[0,:]]), 'August Complex McClure Polygons',\\\n",
    "             [], ['Number of People', 'FRP (MW)'], 1)\n",
    "\n",
    "plot_twoline(times, np.stack([personnel, num_points[1,:]]), 'August Complex Thapa Polygons',\\\n",
    "             [], ['Number of People', 'Fire Counts (#)'], 1)\n",
    "plot_twoline(times, np.stack([personnel, num_points[0,:]]), 'August Complex McClure Polygons',\\\n",
    "             [], ['Number of People', 'Fire Counts (#)'], 1)"
   ]
  },
  {
   "cell_type": "code",
   "execution_count": null,
   "id": "69fce187",
   "metadata": {
    "hidden": true
   },
   "outputs": [],
   "source": [
    "# FCCS comparison\n",
    "df_fuels = pd.read_csv('Fuels_Info_August_Complex.csv')\n",
    "print(df_fuels)\n",
    "\n",
    "plot_twoline(times, np.stack([df_fuels['fuels_thapa'].values, frp[1,:]]), 'August Complex Thapa Polygons',\\\n",
    "             [], ['Slopes', 'FRP (MW)'], 1)\n",
    "plot_twoline(times, np.stack([df_fuels['fuels_mcclure'].values, frp[0,:]]), 'August Complex McClure Polygons',\\\n",
    "             [], ['Slopes', 'FRP (MW)'], 1)"
   ]
  },
  {
   "cell_type": "code",
   "execution_count": null,
   "id": "f35def3c",
   "metadata": {
    "hidden": true
   },
   "outputs": [],
   "source": [
    "print(df_gbbepx_thapa['CO'].values.shape)"
   ]
  },
  {
   "cell_type": "code",
   "execution_count": null,
   "id": "8f0419ac",
   "metadata": {
    "hidden": true
   },
   "outputs": [],
   "source": [
    "# GBBEPx Comparison\n",
    "plot_twoline(times, np.stack([df_gbbepx_thapa['CO'].values, frp[1,:]]), 'August Complex Thapa Polygons',\\\n",
    "             [], ['CO Total Emissions (kg)', 'FRP (MW)'], 1)\n",
    "plot_twoline(times, np.stack([df_gbbepx_thapa['PM2.5'].values, frp[1,:]]), 'August Complex Thapa Polygons',\\\n",
    "             [], ['PM2.5 Total Emissions (kg)', 'FRP (MW)'], 1)\n",
    "\n",
    "plot_twoline(times, np.stack([df_gbbepx_thapa['PM2.5'].values, ac_mcclure_daily['Grwth_A'].values]), 'August Complex Thapa Polygons',\\\n",
    "             [], ['PM2.5 Total Emissions (kg)', 'Burned Area (ha)'], 1)\n",
    "\n",
    "#plot_twoline(times, np.stack([carbon_monoxide[1,:], frp[1,:]]), 'August Complex Thapa Polygons',\\\n",
    "#             [], ['CO Mean Emissions (kg/m2/s)', 'FRP (MW)'], 1)\n",
    "#plot_twoline(times, np.stack([carbon_monoxide[0,:], frp[0,:]]), 'August Complex McClure Polygons',\\\n",
    "#             [], ['CO Mean Emissions (kg/m2/s)', 'FRP (MW)'], 1)"
   ]
  },
  {
   "cell_type": "code",
   "execution_count": null,
   "id": "8c39b2ab",
   "metadata": {
    "hidden": true
   },
   "outputs": [],
   "source": [
    "#fuel moisture\n",
    "\n",
    "plot_twoline(times, np.stack([mdead[1,:], frp[1,:]]), 'August Complex Thapa Polygons',\\\n",
    "             [], ['Dead Fuel Moisture', 'FRP (MW)'], 1)\n",
    "plot_twoline(times, np.stack([mdead[0,:], frp[0,:]]), 'August Complex McClure Polygons',\\\n",
    "             [], ['Dead Fuel Moisture', 'FRP (MW)'], 1)\n",
    "\n",
    "plot_twoline(times, np.stack([mlive[1,:], frp[1,:]]), 'August Complex Thapa Polygons',\\\n",
    "             [], ['Live Fuel Moisture', 'FRP (MW)'], 1)\n",
    "plot_twoline(times, np.stack([mlive[0,:], frp[0,:]]), 'August Complex McClure Polygons',\\\n",
    "             [], ['Live Fuel Moisture', 'FRP (MW)'], 1)"
   ]
  },
  {
   "cell_type": "code",
   "execution_count": null,
   "id": "d7377b96",
   "metadata": {
    "code_folding": [],
    "hidden": true
   },
   "outputs": [],
   "source": [
    "# vpd and fuel moisture\n",
    "plot_twoline(times, np.stack([mdead[1,:], vpd[1,:]]), 'August Complex Thapa Polygons',\\\n",
    "             [], ['Dead Fuel Moisture', 'VPD (Pa)'], 1)\n",
    "df_test_qfed = pd.DataFrame({'mdead':mdead[1,:], 'VPD':vpd[1,:]})\n",
    "print(df_test_qfed.corr())\n",
    "\n",
    "#fig, ax = plt.subplots(figsize=(10,10)) #set up the figure\n",
    "#plt.scatter(vpd[1,:], mdead[1,:])\n",
    "#ax.set_xlabel('VPD (Pa)', fontsize=24) \n",
    "#ax.set_ylabel('Dead Fuel Moisture', fontsize=24) \n",
    "#plt.show()\n"
   ]
  },
  {
   "cell_type": "code",
   "execution_count": null,
   "id": "d6bdd85e",
   "metadata": {
    "hidden": true
   },
   "outputs": [],
   "source": [
    "# shifting to deal with when we have nans in the cross correlation\n",
    "\n",
    "n_shift = 0\n",
    "vpd_shifted = np.concatenate([np.nan*np.zeros(n_shift), vpd[1,0:len(vpd[1,:])-(n_shift)]])\n",
    "#print(vpd[1,:], vpd_shifted)\n",
    "#print(len(vpd[1,:]), len(vpd_shifted))\n",
    "\n",
    "df_test_qfed = pd.DataFrame({'mdead':mdead[1,:], 'VPD':vpd_shifted})\n",
    "print(df_test_qfed.corr())\n",
    "\n",
    "plot_twoline(times, np.stack([mdead[1,:], -vpd_shifted]), 'August Complex Thapa Polygons',\\\n",
    "             [], ['Dead Fuel Moisture', 'Nagative VPD (Pa)'], 1)\n",
    "\n",
    "\n",
    "fig, ax = plt.subplots(figsize=(10,10)) #set up the figure\n",
    "plt.scatter(vpd_shifted[np.where(frp[1,:]<6000)],mdead[1,np.where(frp[1,:]<6000)], c=frp[1,np.where(frp[1,:]<6000)], cmap='OrRd')\n",
    "plt.colorbar()\n",
    "ax.set_xlabel('VPD (Pa)', fontsize=24) \n",
    "ax.set_ylabel('Dead Fuel Moisture', fontsize=24) \n",
    "plt.show()"
   ]
  },
  {
   "cell_type": "markdown",
   "id": "e9ef20fe",
   "metadata": {
    "heading_collapsed": true
   },
   "source": [
    "## Time Series plots to check QFED (4/12/2022)"
   ]
  },
  {
   "cell_type": "code",
   "execution_count": null,
   "id": "009d71e8",
   "metadata": {
    "hidden": true,
    "scrolled": true
   },
   "outputs": [],
   "source": [
    "# compare daily qfed rates and totals with GBBEPx\n",
    "\n",
    "df_thapa = pd.read_csv('AC_Thapa.csv')\n",
    "print(df_thapa.columns)\n",
    "\n",
    "print(df_thapa[['PM2.5 QFED Rate', 'frp']].corr())\n",
    "plot_twoline(times, np.stack([df_thapa['PM2.5 QFED Rate'].values, df_thapa['frp'].values ]),\\\n",
    "             'August Complex Thapa Polygons',\\\n",
    "             [], ['QFED PM2.5 Emission Rate (kg/m2/s)', 'VIIRS FRP (MW)'], 1)\n",
    "print(df_thapa[['PM2.5 QFED Total', 'frp']].corr())\n",
    "plot_twoline(times, np.stack([df_thapa['PM2.5 QFED Total'].values, df_thapa['frp'].values ]),\\\n",
    "             'August Complex Thapa Polygons',\\\n",
    "             [], ['QFED PM2.5 Daily Total (kg)', 'VIIRS FRP (MW)'], 1)\n",
    "print(df_thapa[['PM2.5', 'frp']].corr())\n",
    "plot_twoline(times, np.stack([df_thapa['PM2.5'].values, df_thapa['frp'].values ]),\\\n",
    "             'August Complex Thapa Polygons',\\\n",
    "             [], ['GBBEPx PM2.5 Daily Total (kg)', 'VIIRS FRP (MW)'], 1)"
   ]
  },
  {
   "cell_type": "code",
   "execution_count": null,
   "id": "f0fe6137",
   "metadata": {
    "hidden": true
   },
   "outputs": [],
   "source": [
    "# see if qfed persistence goes with cloud optical depth\n",
    "print(df_thapa.columns)\n",
    "print(df_thapa[['PM2.5 QFED Rate', 'cod']].corr())\n",
    "plot_twoline(times, np.stack([df_thapa['PM2.5 QFED Rate'].values, df_thapa['cod'].values ]),\\\n",
    "             'August Complex Thapa Polygons',\\\n",
    "             [], ['QFED PM2.5 Emission Rate (kg/m2/s)', 'Cloud Optical Depth'], 1)\n",
    "\n",
    "window_size = 10\n",
    "cod_series = df_thapa['cod']\n",
    "pm25_series = df_thapa['PM2.5 QFED Rate']\n",
    "cod_windows = cod_series.rolling(window_size)\n",
    "pm25_windows = pm25_series.rolling(window_size)\n",
    "\n",
    "cod_averages=cod_windows.mean()\n",
    "pm25_std = pm25_windows.std()\n",
    "\n",
    "df_test = pd.DataFrame({'PM2.5 QFED Rate':pm25_std, '3day Cod':cod_averages})\n",
    "print(df_test.corr())\n",
    "plot_twoline(times, np.stack([pm25_std.values, cod_averages.values ]),\\\n",
    "             'August Complex Thapa Polygons',\\\n",
    "             [], ['QFED PM2.5 Emission Rate (kg/m2/s)', 'Cloud Optical Depth '+str(window_size)+ 'day average'], 1)\n"
   ]
  },
  {
   "cell_type": "markdown",
   "id": "0b3ff95b",
   "metadata": {
    "heading_collapsed": true
   },
   "source": [
    "## Time Series Plots IGBP"
   ]
  },
  {
   "cell_type": "code",
   "execution_count": null,
   "id": "8e43415f",
   "metadata": {
    "hidden": true
   },
   "outputs": [],
   "source": [
    "df_igbp_thapa = pd.read_csv('AC_IGBP_Thapa.csv')\n",
    "df_thapa = pd.read_csv('AC_Thapa.csv')\n",
    "df_combined_thapa = pd.concat([df_thapa[['time']], df_igbp_thapa.drop(columns='Unnamed: 0')], axis=1)\n",
    "\n",
    "fig, ax = plt.subplots(figsize=(25,12)) #set up the figure\n",
    "fig.subplots_adjust(right=0.75)\n",
    "df_combined_thapa.plot(x='time', ax=ax)\n",
    "plt.legend(bbox_to_anchor=(-.2, 0.25))\n",
    "plt.ylim([0,100])\n",
    "ax2=ax.twinx()\n",
    "ax3=ax.twinx()\n",
    "ax3.spines[\"right\"].set_position((\"axes\", 1.1))\n",
    "df_thapa[['time', 'living moisture']].plot(x='time', ax=ax2, c='k')\n",
    "df_thapa[['time', 'vpd']].plot(x='time', ax=ax3, c='r')\n",
    "plt.title('Thapa Polygons')\n",
    "plt.show()\n",
    "\n",
    "\n",
    "fig, ax = plt.subplots(figsize=(25,12)) #set up the figure\n",
    "fig.subplots_adjust(right=0.75)\n",
    "df_combined_thapa.plot(x='time', ax=ax)\n",
    "plt.legend(bbox_to_anchor=(-.2, 0.25))\n",
    "plt.ylim([0,100])\n",
    "ax2=ax.twinx()\n",
    "ax3=ax.twinx()\n",
    "ax3.spines[\"right\"].set_position((\"axes\", 1.1))\n",
    "df_thapa[['time', 'living moisture']].plot(x='time', ax=ax2, c='k')\n",
    "df_thapa[['time', 'vpd']].plot(x='time', ax=ax3, c='r')\n",
    "plt.xlim([15,45])\n",
    "plt.title('Thapa Polygons')\n",
    "plt.show()\n",
    "\n",
    "\n",
    "fig, ax = plt.subplots(figsize=(25,12)) #set up the figure\n",
    "fig.subplots_adjust(right=0.75)\n",
    "df_combined_thapa.plot(x='time', ax=ax)\n",
    "plt.legend(bbox_to_anchor=(-.2, 0.25))\n",
    "plt.ylim([0,10])\n",
    "ax2=ax.twinx()\n",
    "ax3=ax.twinx()\n",
    "ax3.spines[\"right\"].set_position((\"axes\", 1.1))\n",
    "df_thapa[['time', 'living moisture']].plot(x='time', ax=ax2, c='k')\n",
    "df_thapa[['time', 'vpd']].plot(x='time', ax=ax3, c='r')\n",
    "plt.xlim([15,45])\n",
    "plt.title('Thapa Polygons')\n",
    "plt.show()\n",
    "\n",
    "fig, ax = plt.subplots(figsize=(25,12)) #set up the figure\n",
    "fig.subplots_adjust(right=0.75)\n",
    "df_combined_thapa.plot(x='time', ax=ax)\n",
    "plt.legend(bbox_to_anchor=(-.2, 0.25))\n",
    "plt.ylim([0,2])\n",
    "ax2=ax.twinx()\n",
    "ax3=ax.twinx()\n",
    "ax3.spines[\"right\"].set_position((\"axes\", 1.1))\n",
    "df_thapa[['time', 'living moisture']].plot(x='time', ax=ax2, c='k')\n",
    "df_thapa[['time', 'vpd']].plot(x='time', ax=ax3, c='r')\n",
    "plt.xlim([15,45])\n",
    "plt.title('Thapa Polygons')\n",
    "plt.show()\n"
   ]
  },
  {
   "cell_type": "code",
   "execution_count": null,
   "id": "460f1b7e",
   "metadata": {
    "code_folding": [],
    "hidden": true
   },
   "outputs": [],
   "source": [
    "df_igbp_mcclure = pd.read_csv('AC_IGBP_McClure.csv')\n",
    "df_mcclure= pd.read_csv('AC_McClure.csv')\n",
    "\n",
    "#print(df_igbp_thapa.drop(columns='Unnamed: 0'))\n",
    "df_combined_mcclure = pd.concat([df_mcclure[['time']], df_igbp_mcclure.drop(columns='Unnamed: 0')], axis=1)\n",
    "\n",
    "fig, ax = plt.subplots(figsize=(25,12)) #set up the figure\n",
    "fig.subplots_adjust(right=0.75)\n",
    "df_combined_mcclure.plot(x='time', ax=ax)\n",
    "plt.legend(bbox_to_anchor=(-.2, 0.25))\n",
    "plt.ylim([0,100])\n",
    "ax2=ax.twinx()\n",
    "ax3=ax.twinx()\n",
    "ax3.spines[\"right\"].set_position((\"axes\", 1.1))\n",
    "df_mcclure[['time', 'living moisture']].plot(x='time', ax=ax2, c='k')\n",
    "df_mcclure[['time', 'vpd']].plot(x='time', ax=ax3, c='r')\n",
    "plt.title('McClure Polygons')\n",
    "plt.show()\n",
    "\n",
    "fig, ax = plt.subplots(figsize=(25,12)) #set up the figure\n",
    "fig.subplots_adjust(right=0.75)\n",
    "df_combined_mcclure.plot(x='time', ax=ax)\n",
    "plt.legend(bbox_to_anchor=(-.2, 0.25))\n",
    "plt.ylim([0,100])\n",
    "ax2=ax.twinx()\n",
    "ax3=ax.twinx()\n",
    "ax3.spines[\"right\"].set_position((\"axes\", 1.1))\n",
    "df_mcclure[['time', 'living moisture']].plot(x='time', ax=ax2, c='k')\n",
    "df_mcclure[['time', 'vpd']].plot(x='time', ax=ax3, c='r')\n",
    "plt.xlim([15,45])\n",
    "plt.title('McClure Polygons')\n",
    "plt.show()\n",
    "\n",
    "\n",
    "fig, ax = plt.subplots(figsize=(25,12)) #set up the figure\n",
    "fig.subplots_adjust(right=0.75)\n",
    "df_combined_mcclure.plot(x='time', ax=ax)\n",
    "plt.legend(bbox_to_anchor=(-.2, 0.25))\n",
    "plt.ylim([0,10])\n",
    "ax2=ax.twinx()\n",
    "ax3=ax.twinx()\n",
    "ax3.spines[\"right\"].set_position((\"axes\", 1.1))\n",
    "df_mcclure[['time', 'living moisture']].plot(x='time', ax=ax2, c='k')\n",
    "df_mcclure[['time', 'vpd']].plot(x='time', ax=ax3, c='r')\n",
    "plt.xlim([15,45])\n",
    "plt.title('McClure Polygons')\n",
    "plt.show()\n",
    "\n",
    "fig, ax = plt.subplots(figsize=(25,12)) #set up the figure\n",
    "fig.subplots_adjust(right=0.75)\n",
    "df_combined_mcclure.plot(x='time', ax=ax)\n",
    "plt.legend(bbox_to_anchor=(-.2, 0.25))\n",
    "plt.ylim([0,2])\n",
    "ax2=ax.twinx()\n",
    "ax3=ax.twinx()\n",
    "ax3.spines[\"right\"].set_position((\"axes\", 1.1))\n",
    "df_mcclure[['time', 'living moisture']].plot(x='time', ax=ax2, c='k')\n",
    "df_mcclure[['time', 'vpd']].plot(x='time', ax=ax3, c='r')\n",
    "plt.xlim([15,45])\n",
    "plt.title('McClure Polygons')\n",
    "plt.show()\n"
   ]
  },
  {
   "cell_type": "code",
   "execution_count": null,
   "id": "12ae5b51",
   "metadata": {
    "hidden": true
   },
   "outputs": [],
   "source": [
    "df_igbp_mcclure = pd.read_csv('AC_IGBP_McClure.csv')\n",
    "df_mcclure= pd.read_csv('AC_McClure.csv')\n",
    "df_combined_mcclure = pd.concat([df_mcclure[['time', 'living moisture', 'frp', 'vpd']], df_igbp_mcclure.drop(columns='Unnamed: 0')], axis=1)\n",
    "\n",
    "df_igbp_thapa = pd.read_csv('AC_IGBP_Thapa.csv')\n",
    "df_thapa = pd.read_csv('AC_Thapa.csv')\n",
    "df_combined_thapa = pd.concat([df_thapa[['time', 'living moisture', 'frp', 'vpd']], df_igbp_thapa.drop(columns='Unnamed: 0')], axis=1)\n",
    "\n",
    "\n",
    "corrMatrix_mcclure = df_combined_mcclure.corr()\n",
    "fig,ax=plt.subplots(figsize=(13,13))\n",
    "sns.heatmap(corrMatrix_mcclure, annot=True, vmin=-1, vmax=1,cmap='seismic')\n",
    "plt.title('McClure Polygons')\n",
    "plt.show()\n",
    "\n",
    "\n",
    "corrMatrix_thapa = df_combined_thapa.corr()\n",
    "fig,ax=plt.subplots(figsize=(13,13))\n",
    "sns.heatmap(corrMatrix_thapa, annot=True, vmin=-1, vmax=1,cmap='seismic')\n",
    "plt.title('Thapa Polygons')\n",
    "plt.show()"
   ]
  },
  {
   "cell_type": "code",
   "execution_count": null,
   "id": "d9037aff",
   "metadata": {
    "code_folding": [],
    "hidden": true,
    "scrolled": true
   },
   "outputs": [],
   "source": [
    "df_igbp_mcclure = pd.read_csv('AC_IGBP_McClure.csv')\n",
    "df_mcclure= pd.read_csv('AC_McClure.csv')\n",
    "\n",
    "df_igbp_thapa = pd.read_csv('AC_IGBP_Thapa.csv')\n",
    "df_thapa = pd.read_csv('AC_Thapa.csv')\n",
    "\n",
    "col_names = ['% water', '% evergreen needleleaf forest','% evergreen broadleaf forest',\\\n",
    "                              '% deciduous needleleaf forest',\\\n",
    "                               '% deciduous broadleaf forest', '% mixed forests',\\\n",
    "                              '% closed shrubland', '% open shrublands',\\\n",
    "                              '% woody savannas','% savannas',\\\n",
    "                              '% grasslands', '% permanent wetlands',\n",
    "                              '% croplands', '% urban and built-up',\n",
    "                              '% cropland/natural vegetation mosaic',\n",
    "                              '% snow and ice',\\\n",
    "                             '% barren or sparsely vegetated']\n",
    "plot_twoline(times, np.stack([df_mcclure['vpd'].values, df_thapa['vpd'].values]), 'VPD',\\\n",
    "            [], ['McClure VPD (Pa)', 'Thapa VPD (Pa)'], 1)\n",
    "\n",
    "plot_twoline(times, np.stack([df_mcclure['living moisture'].values, df_thapa['living moisture'].values]), 'Living Moisture',\\\n",
    "            [], ['McClure Moisture', 'Thapa Moisture'], 1)\n",
    "\n",
    "for var in col_names:\n",
    "    print(var)\n",
    "    print('McClure Correlations: '+ str(pd.DataFrame({'% fuel':df_igbp_mcclure[var].values, 'moisture':df_mcclure['living moisture'].values}).corr()))\n",
    "    print('Thapa Correlations: '+ str(pd.DataFrame({'% fuel':df_igbp_thapa[var].values, 'moisture':df_thapa['living moisture'].values}).corr()))\n",
    "\n",
    "    plot_twoline(times, np.stack([df_igbp_mcclure[var].values, df_igbp_thapa[var].values]), var,\\\n",
    "             [], ['% McClure', '% Thapa'], 1)\n"
   ]
  },
  {
   "cell_type": "code",
   "execution_count": null,
   "id": "a159b430",
   "metadata": {
    "hidden": true,
    "scrolled": true
   },
   "outputs": [],
   "source": [
    "df_igbp_mcclure = pd.read_csv('AC_IGBP_McClure.csv')\n",
    "df_mcclure= pd.read_csv('AC_McClure.csv')\n",
    "\n",
    "df_igbp_mcclure = df_igbp_mcclure.drop(columns='Unnamed: 0')\n",
    "df_igbp_mcclure['time'] = df_mcclure['time'].values\n",
    "\n",
    "fig,ax=plt.subplots(figsize=(25,20))\n",
    "df_igbp_mcclure.plot.area(x='time',stacked='True', ax=ax, fontsize=20)\n",
    "plt.legend(title='Fuel Category', bbox_to_anchor=(1.05, 1), loc='upper left', fontsize=20)\n",
    "plt.title('Full IGBP Categories', fontsize=24)\n",
    "plt.show()"
   ]
  },
  {
   "cell_type": "code",
   "execution_count": null,
   "id": "a3282ff7",
   "metadata": {
    "hidden": true
   },
   "outputs": [],
   "source": [
    "df_igbp_mcclure = pd.read_csv('AC_IGBP_McClure.csv')\n",
    "df_mcclure= pd.read_csv('AC_McClure.csv')\n",
    "df_igbp_mcclure = df_igbp_mcclure.iloc[0:52, :]\n",
    "df_mcclure= df_mcclure.iloc[0:52, :]\n",
    "\n",
    "df_mcclure_simple = pd.DataFrame({'time':df_mcclure['time'].values,\\\n",
    "                                  'wet': df_igbp_mcclure['% water'].values+df_igbp_mcclure['% permanent wetlands'].values,\\\n",
    "                                 'forest':df_igbp_mcclure['% evergreen needleleaf forest'].values+\\\n",
    "                                  df_igbp_mcclure['% evergreen broadleaf forest'].values+\\\n",
    "                                 df_igbp_mcclure['% deciduous needleleaf forest'].values+\\\n",
    "                                  df_igbp_mcclure['% deciduous broadleaf forest'].values+\\\n",
    "                                  df_igbp_mcclure['% mixed forests'].values,\\\n",
    "                                 'shrub': df_igbp_mcclure['% closed shrubland'].values+\\\n",
    "                                  df_igbp_mcclure['% open shrublands'].values,\\\n",
    "                                 'savanna': df_igbp_mcclure['% woody savannas'].values+\\\n",
    "                                  df_igbp_mcclure['% savannas'].values,\\\n",
    "                                 'grass':df_igbp_mcclure['% grasslands'].values})\n",
    "fig,ax=plt.subplots(figsize=(25,20))\n",
    "df_mcclure_simple.plot.area(x='time',stacked='True', ax=ax, fontsize=24)\n",
    "plt.legend(title='Fuel Category', bbox_to_anchor=(-.25, 1), loc='upper left', fontsize=24)\n",
    "plt.ylabel('Percent IGBP Fuel Category', fontsize=24)\n",
    "ax2=ax.twinx()\n",
    "df_mcclure.plot(x='time', y='living moisture', ax=ax2, fontsize=24, color='k', marker='o')\n",
    "plt.plot(df_mcclure_simple['time'].values, .8*np.ones(len(df_mcclure_simple['time'].values)), 'w--')\n",
    "plt.plot(df_mcclure_simple['time'].values, 1*np.ones(len(df_mcclure_simple['time'].values)), 'w--')\n",
    "plt.plot(df_mcclure_simple['time'].values, 1.2*np.ones(len(df_mcclure_simple['time'].values)), 'w--')\n",
    "\n",
    "plt.ylabel('NCAR Live Moisture Content', fontsize=24)\n",
    "\n",
    "plt.legend(title='Living Moisture', bbox_to_anchor=(-.25, .75), loc='upper left', fontsize=24)\n",
    "\n",
    "ax3=ax.twinx()\n",
    "ax3.spines[\"right\"].set_position((\"axes\", 1.1))\n",
    "df_mcclure.plot(x='time', y='vpd', ax=ax3, fontsize=24, color='gray', marker='o')\n",
    "plt.ylabel('MERRA2 VPD', fontsize=24,color='gray')\n",
    "\n",
    "\n",
    "\n",
    "plt.title('Simplified IGBP Categories', fontsize=28)\n",
    "plt.show()\n",
    "print(pd.DataFrame({'live': df_mcclure['living moisture'], '% wet': df_mcclure_simple['wet'], '% forest': df_mcclure_simple['forest']\\\n",
    "                   , '% shrub': df_mcclure_simple['shrub'], '% forest': df_mcclure_simple['forest'],'% grass': df_mcclure_simple['grass']}).corr())\n"
   ]
  },
  {
   "cell_type": "code",
   "execution_count": null,
   "id": "7b4d29c9",
   "metadata": {
    "hidden": true
   },
   "outputs": [],
   "source": [
    "print(df_mcclure_simple.iloc[20])\n",
    "print(df_mcclure_simple.iloc[40])"
   ]
  },
  {
   "cell_type": "code",
   "execution_count": null,
   "id": "bf9ce649",
   "metadata": {
    "hidden": true
   },
   "outputs": [],
   "source": [
    "df_igbp_mcclure = pd.read_csv('AC_IGBP_McClure.csv')\n",
    "df_mcclure= pd.read_csv('AC_McClure.csv')\n",
    "print(df_mcclure.columns)\n",
    "\n",
    "\n",
    "df_igbp_mcclure = df_igbp_mcclure.iloc[0:52, :]\n",
    "df_mcclure= df_mcclure.iloc[0:52, :]\n",
    "\n",
    "df_mcclure_simple = pd.DataFrame({'time':df_mcclure['time'].values,\\\n",
    "                                  'wet': df_igbp_mcclure['% water'].values+df_igbp_mcclure['% permanent wetlands'].values,\\\n",
    "                                 'woody':df_igbp_mcclure['% evergreen needleleaf forest'].values+\\\n",
    "                                  df_igbp_mcclure['% evergreen broadleaf forest'].values+\\\n",
    "                                 df_igbp_mcclure['% deciduous needleleaf forest'].values+\\\n",
    "                                  df_igbp_mcclure['% deciduous broadleaf forest'].values+\\\n",
    "                                  df_igbp_mcclure['% mixed forests'].values+\\\n",
    "                                  df_igbp_mcclure['% closed shrubland'].values+\\\n",
    "                                  df_igbp_mcclure['% open shrublands'].values+ df_igbp_mcclure['% woody savannas'].values,\\\n",
    "                                 'herbaceous': df_igbp_mcclure['% savannas'].values+ df_igbp_mcclure['% grasslands'].values})\n",
    "fig,ax=plt.subplots(figsize=(25,20))\n",
    "df_mcclure_simple.plot.area(x='time',stacked='True', ax=ax, fontsize=24)\n",
    "plt.legend(title='Fuel Category', bbox_to_anchor=(-.25, 1), loc='upper left', fontsize=24)\n",
    "plt.ylabel('Percent IGBP Fuel Category', fontsize=24)\n",
    "ax2=ax.twinx()\n",
    "df_mcclure.plot(x='time', y='living moisture', ax=ax2, fontsize=24, color='k', marker='o')\n",
    "#df_mcclure.plot(x='time', y='dead_moisture', ax=ax2, fontsize=24, color='b', marker='o')\n",
    "\n",
    "plt.plot(df_mcclure_simple['time'].values, .8*np.ones(len(df_mcclure_simple['time'].values)), 'w--')\n",
    "plt.plot(df_mcclure_simple['time'].values, 1*np.ones(len(df_mcclure_simple['time'].values)), 'w--')\n",
    "plt.plot(df_mcclure_simple['time'].values, 1.2*np.ones(len(df_mcclure_simple['time'].values)), 'w--')\n",
    "\n",
    "plt.ylabel('NCAR Live Moisture Content', fontsize=24)\n",
    "\n",
    "plt.legend(title='Living Moisture', bbox_to_anchor=(-.25, .75), loc='upper left', fontsize=24)\n",
    "\n",
    "ax3=ax.twinx()\n",
    "ax3.spines[\"right\"].set_position((\"axes\", 1.1))\n",
    "df_mcclure.plot(x='time', y='vpd', ax=ax3, fontsize=24, color='gray', marker='o')\n",
    "plt.ylabel('MERRA2 VPD', fontsize=24,color='gray')\n",
    "\n",
    "\n",
    "\n",
    "plt.title('Woody/Herbaceous IGBP Categories', fontsize=28)\n",
    "plt.show()\n",
    "\n",
    "print(pd.DataFrame({'live': df_mcclure['living moisture'], '% herb': df_mcclure_simple['herbaceous'], '% woody': df_mcclure_simple['woody']}).corr())\n",
    "print(pd.DataFrame({'dead': df_mcclure['dead_moisture'], '% herb': df_mcclure_simple['herbaceous'], '% woody': df_mcclure_simple['woody']}).corr())\n",
    "print(pd.DataFrame({'vpd': df_mcclure['vpd'], '% herb': df_mcclure_simple['herbaceous'], '% woody': df_mcclure_simple['woody']}).corr())"
   ]
  },
  {
   "cell_type": "code",
   "execution_count": null,
   "id": "bdcb4bf6",
   "metadata": {
    "hidden": true
   },
   "outputs": [],
   "source": [
    "df_igbp_mcclure = pd.read_csv('AC_IGBP_McClure.csv')\n",
    "df_mcclure= pd.read_csv('AC_McClure.csv')\n",
    "print(df_mcclure.columns)\n",
    "\n",
    "\n",
    "df_igbp_mcclure = df_igbp_mcclure.iloc[0:52, :]\n",
    "df_mcclure= df_mcclure.iloc[0:52, :]\n",
    "\n",
    "df_mcclure_simple = pd.DataFrame({'time':df_mcclure['time'].values,\\\n",
    "                                  'wet': df_igbp_mcclure['% water'].values+df_igbp_mcclure['% permanent wetlands'].values,\\\n",
    "                                 'woody':df_igbp_mcclure['% evergreen needleleaf forest'].values+\\\n",
    "                                  df_igbp_mcclure['% evergreen broadleaf forest'].values+\\\n",
    "                                 df_igbp_mcclure['% deciduous needleleaf forest'].values+\\\n",
    "                                  df_igbp_mcclure['% deciduous broadleaf forest'].values+\\\n",
    "                                  df_igbp_mcclure['% mixed forests'].values+\\\n",
    "                                  df_igbp_mcclure['% closed shrubland'].values+\\\n",
    "                                  df_igbp_mcclure['% open shrublands'].values+ df_igbp_mcclure['% woody savannas'].values,\\\n",
    "                                 'herbaceous': df_igbp_mcclure['% savannas'].values+ df_igbp_mcclure['% grasslands'].values})\n",
    "fig,ax=plt.subplots(figsize=(25,20))\n",
    "df_mcclure_simple.plot.area(x='time',stacked='True', ax=ax, fontsize=24)\n",
    "plt.legend(title='Fuel Category', bbox_to_anchor=(-.25, 1), loc='upper left', fontsize=24)\n",
    "plt.ylabel('Percent IGBP Fuel Category', fontsize=24)\n",
    "ax2=ax.twinx()\n",
    "df_mcclure.plot(x='time', y='living moisture', ax=ax2, fontsize=24, color='k', marker='o')\n",
    "#df_mcclure.plot(x='time', y='dead_moisture', ax=ax2, fontsize=24, color='b', marker='o')\n",
    "\n",
    "plt.plot(df_mcclure_simple['time'].values, .8*np.ones(len(df_mcclure_simple['time'].values)), 'w--')\n",
    "plt.plot(df_mcclure_simple['time'].values, 1*np.ones(len(df_mcclure_simple['time'].values)), 'w--')\n",
    "plt.plot(df_mcclure_simple['time'].values, 1.2*np.ones(len(df_mcclure_simple['time'].values)), 'w--')\n",
    "\n",
    "plt.ylabel('NCAR LFMC', fontsize=24)\n",
    "\n",
    "plt.legend(title='Living Moisture', bbox_to_anchor=(-.25, .75), loc='upper left', fontsize=24)\n",
    "\n",
    "ax3=ax.twinx()\n",
    "ax3.spines[\"right\"].set_position((\"axes\", 1.1))\n",
    "df_mcclure.plot(x='time', y='PM2.5', ax=ax3, fontsize=24, color='gray', marker='o')\n",
    "plt.ylabel('GBBEPx Emissions', fontsize=24,color='gray')\n",
    "\n",
    "\n",
    "\n",
    "plt.title('Woody/Herbaceous IGBP Categories', fontsize=28)\n",
    "plt.show()\n",
    "\n",
    "print(pd.DataFrame({'live': df_mcclure['living moisture'], '% herb': df_mcclure_simple['herbaceous'], '% woody': df_mcclure_simple['woody']}).corr())\n",
    "print(pd.DataFrame({'emiss': df_mcclure['PM2.5'], '% herb': df_mcclure_simple['herbaceous'], '% woody': df_mcclure_simple['woody']}).corr())\n",
    "print(pd.DataFrame({'vpd': df_mcclure['vpd'], '% herb': df_mcclure_simple['herbaceous'], '% woody': df_mcclure_simple['woody']}).corr())"
   ]
  },
  {
   "cell_type": "markdown",
   "id": "c0499ed0",
   "metadata": {
    "hidden": true
   },
   "source": [
    "Does this align with what we find here: https://www.nwcg.gov/publications/pms437/fuel-moisture/live-fuel-moisture-content\n",
    "50-80%: "
   ]
  },
  {
   "cell_type": "markdown",
   "id": "7c7c4130",
   "metadata": {
    "heading_collapsed": true
   },
   "source": [
    "## Simplified IGBP Time series (4/14/2022)"
   ]
  },
  {
   "cell_type": "code",
   "execution_count": null,
   "id": "e57996dc",
   "metadata": {
    "hidden": true,
    "scrolled": false
   },
   "outputs": [],
   "source": [
    "df_igbp_mcclure = pd.read_csv('AC_IGBP_McClure.csv')\n",
    "df_mcclure= pd.read_csv('AC_McClure.csv')\n",
    "\n",
    "df_igbp_thapa = pd.read_csv('AC_IGBP_Thapa.csv')\n",
    "df_thapa = pd.read_csv('AC_Thapa.csv')\n",
    "\n",
    "\n",
    "\n",
    "\n",
    "df_mcclure_simple = pd.DataFrame({'wet': df_igbp_mcclure['% water'].values+df_igbp_mcclure['% permanent wetlands'].values,\\\n",
    "                                 'forest':df_igbp_mcclure['% evergreen needleleaf forest'].values+\\\n",
    "                                  df_igbp_mcclure['% evergreen broadleaf forest'].values+\\\n",
    "                                 df_igbp_mcclure['% deciduous needleleaf forest'].values+\\\n",
    "                                  df_igbp_mcclure['% deciduous broadleaf forest'].values+\\\n",
    "                                  df_igbp_mcclure['% mixed forests'].values,\\\n",
    "                                 'shrub': df_igbp_mcclure['% closed shrubland'].values+\\\n",
    "                                  df_igbp_mcclure['% open shrublands'].values,\\\n",
    "                                 'grass': df_igbp_mcclure['% woody savannas'].values+\\\n",
    "                                  df_igbp_mcclure['% savannas'].values+\\\n",
    "                                 df_igbp_mcclure['% grasslands'].values})\n",
    "\n",
    "df_thapa_simple = pd.DataFrame({'wet': df_igbp_thapa['% water'].values+df_igbp_thapa['% permanent wetlands'].values,\\\n",
    "                                 'forest':df_igbp_thapa['% evergreen needleleaf forest'].values+\\\n",
    "                                  df_igbp_thapa['% evergreen broadleaf forest'].values+\\\n",
    "                                 df_igbp_thapa['% deciduous needleleaf forest'].values+\\\n",
    "                                  df_igbp_thapa['% deciduous broadleaf forest'].values+\\\n",
    "                                  df_igbp_thapa['% mixed forests'].values,\\\n",
    "                                 'shrub': df_igbp_thapa['% closed shrubland'].values+\\\n",
    "                                  df_igbp_thapa['% open shrublands'].values,\\\n",
    "                                 'grass': df_igbp_thapa['% woody savannas'].values+\\\n",
    "                                  df_igbp_thapa['% savannas'].values+\\\n",
    "                                 df_igbp_thapa['% grasslands'].values})\n",
    "\n",
    "col_names = ['wet', 'forest', 'shrub', 'grass']\n",
    "plot_twoline(times, np.stack([df_mcclure['vpd'].values, df_thapa['vpd'].values]), 'VPD',\\\n",
    "            [], ['McClure VPD (Pa)', 'Thapa VPD (Pa)'], 1)\n",
    "\n",
    "plot_twoline(times, np.stack([df_mcclure['living moisture'].values, df_thapa['living moisture'].values]), 'Living Moisture',\\\n",
    "            [], ['McClure Moisture', 'Thapa Moisture'], 1)\n",
    "\n",
    "for var in col_names:\n",
    "    print(var)\n",
    "    print('McClure Correlations: '+ str(pd.DataFrame({'% fuel':df_igbp_mcclure[var].values, 'moisture':df_mcclure['living moisture'].values}).corr()))\n",
    "    print('Thapa Correlations: '+ str(pd.DataFrame({'% fuel':df_igbp_thapa[var].values, 'moisture':df_thapa['living moisture'].values}).corr()))\n",
    "\n",
    "    plot_twoline(times, np.stack([df_igbp_mcclure[var].values, df_igbp_thapa[var].values]), var,\\\n",
    "             [], ['% McClure', '% Thapa'], 1)"
   ]
  },
  {
   "cell_type": "markdown",
   "id": "e3240624",
   "metadata": {
    "heading_collapsed": true
   },
   "source": [
    "## Time Series for a fixed polygon (created 4/15/2022)"
   ]
  },
  {
   "cell_type": "code",
   "execution_count": null,
   "id": "d83d20fe",
   "metadata": {
    "code_folding": [],
    "hidden": true
   },
   "outputs": [],
   "source": [
    "# choose a polygon, september 27th, 2020, index 41\n",
    "#choose a polygon september 7th, index \n",
    "poly_mcclure = ac_mcclure_daily['geometry'].iloc[41]\n",
    "times_sub = times[10:25]\n",
    "print(times_sub)    "
   ]
  },
  {
   "cell_type": "code",
   "execution_count": null,
   "id": "7f01436b",
   "metadata": {
    "hidden": true,
    "scrolled": true
   },
   "outputs": [],
   "source": [
    "#get the VPD from MERRA\n",
    "vpd=np.zeros((2, len(times_sub)))\n",
    "vapor_pressure=np.zeros((2, len(times_sub)))\n",
    "saturated_vapor_pressure=np.zeros((2, len(times_sub)))\n",
    "for ii in range(len(times_sub)):\n",
    "    print(ii)\n",
    "    date=str(times_sub[ii])\n",
    "    yr = date[0:4]\n",
    "    mo = date[5:7]\n",
    "    dy = date[8:10]\n",
    "    path_merra = '/data2/lthapa/'+yr+'/MERRA2/WESTUS_MERRA2_400.inst1_2d_lfo_Nx.*.nc4'\n",
    "    if '*' in path_merra:\n",
    "        path_merra = path_merra.replace('*', yr+mo+dy)\n",
    "    if np.datetime64(date)>=np.datetime64('2020-09-01') and np.datetime64(date)<=np.datetime64('2020-09-30'):\n",
    "        path_merra = path_merra.replace('400', '401')\n",
    "    dat = nc.Dataset(path_merra)   \n",
    "    lat = dat['lat'][:]\n",
    "    lon = dat['lon'][:]\n",
    "    t = dat['time'][:]\n",
    "    if len(lat.shape)==1:\n",
    "            lon, lat = np.meshgrid(lon, lat)\n",
    "    T = dat['TLML'][:]\n",
    "    Q = dat['QLML'][:]\n",
    "    P = dat['PS'][:]\n",
    "    W = dat['SPEEDLML'][:]\n",
    "    print(T.shape)\n",
    "    \n",
    "    esat = sat_vap_press(T)\n",
    "    e = vap_press(Q,P)\n",
    "    VPD = esat-e\n",
    "    \n",
    "    \n",
    "    lat_corners, lon_corners = calculate_grid_cell_corners(lat, lon)\n",
    "    \n",
    "    #does a polygon exist for this time?\n",
    "    \n",
    "    mcclure_ind = np.where(ac_mcclure_daily['Days']==str(times_sub[ii]))\n",
    "    thapa_ind = np.where(ac_thapa_daily['Current Day'] == str(times_sub[ii]))\n",
    "    #print(mcclure_ind, thapa_ind)\n",
    "    \n",
    "    if len(mcclure_ind[0])==0:\n",
    "        print(ii, 'No mcclure poly')\n",
    "        vpd[0,ii] = np.nan\n",
    "        vapor_pressure[0,ii] = np.nan\n",
    "        saturated_vapor_pressure[0,ii]=np.nan\n",
    "        poly_thapa = ac_thapa_daily['geometry'].iloc[thapa_ind[0]]\n",
    "        overlap_thapa = calculate_overlaps(lat,lon,lat_corners,lon_corners,poly_thapa.iloc[0], 'rectilinear',1)\n",
    "        vpd[1,ii] = np.mean(feature_hourly(VPD, overlap_thapa))\n",
    "        vapor_pressure[1,ii] =np.mean(feature_hourly(e, overlap_thapa))\n",
    "        saturated_vapor_pressure[1,ii]=np.mean(feature_hourly(esat, overlap_thapa))\n",
    "\n",
    "        \n",
    "    elif len(thapa_ind[0])==0:\n",
    "        print(ii, 'No Thapa poly!')\n",
    "        vpd[1,ii] = np.nan\n",
    "        vapor_pressure[1,ii] = np.nan\n",
    "        saturated_vapor_pressure[1,ii]=np.nan\n",
    "        poly_mcclure = ac_mcclure_daily['geometry'].iloc[mcclure_ind[0]]\n",
    "        overlap_mcclure = calculate_overlaps(lat,lon,lat_corners,lon_corners,poly_mcclure.iloc[0], 'rectilinear',1)\n",
    "        vpd[0,ii] = np.mean(feature_hourly(VPD, overlap_mcclure))\n",
    "        vapor_pressure[0,ii] =np.mean(feature_hourly(e, overlap_thapa))\n",
    "        saturated_vapor_pressure[0,ii]=np.mean(feature_hourly(esat, overlap_thapa))\n",
    "    else:\n",
    "        print(ii, 'both polys')\n",
    "        poly_mcclure = ac_mcclure_daily['geometry'].iloc[mcclure_ind[0]]\n",
    "        overlap_mcclure = calculate_overlaps(lat,lon,lat_corners,lon_corners,poly_mcclure.iloc[0], 'rectilinear',1)\n",
    "        vpd[0,ii] = np.mean(feature_hourly(VPD, overlap_mcclure))\n",
    "        vapor_pressure[0,ii] =np.mean(feature_hourly(e, overlap_thapa))\n",
    "        saturated_vapor_pressure[0,ii]=np.mean(feature_hourly(esat, overlap_thapa))\n",
    "\n",
    "        poly_thapa = ac_thapa_daily['geometry'].iloc[thapa_ind[0]]\n",
    "        overlap_thapa = calculate_overlaps(lat,lon,lat_corners,lon_corners,poly_thapa.iloc[0], 'rectilinear',1)\n",
    "        vpd[1,ii] = np.mean(feature_hourly(VPD, overlap_thapa))\n",
    "        vapor_pressure[1,ii] =np.mean(feature_hourly(e, overlap_thapa))\n",
    "        saturated_vapor_pressure[1,ii]=np.mean(feature_hourly(esat, overlap_thapa))\n",
    "\n"
   ]
  },
  {
   "cell_type": "code",
   "execution_count": null,
   "id": "fa560f24",
   "metadata": {
    "hidden": true
   },
   "outputs": [],
   "source": [
    "#NCAR Moisture Time Series\n",
    "\n",
    "#times = np.arange(np.datetime64('2020-08-17'), np.datetime64('2020-10-18')) #how long we have Crystal's polygons for\n",
    "mlive=np.zeros((2, len(times_sub)))\n",
    "mdead=np.zeros((2, len(times_sub)))\n",
    "\n",
    "\n",
    "for ii in range(len(times_sub)):\n",
    "    print(ii)\n",
    "    date=str(times_sub[ii])\n",
    "    yr = date[0:4]\n",
    "    mo = date[5:7]\n",
    "    dy = date[8:10]\n",
    "    path_fmc = '/data2/lthapa/2020/FMC/fmc_*_20Z.nc'\n",
    "\n",
    "    if '*' in path_fmc:\n",
    "        path_fmc = path_fmc.replace('*', yr+mo+dy)\n",
    "    print(path_fmc)\n",
    "    \n",
    "    try:\n",
    "        dat = nc.Dataset(path_fmc)  \n",
    "    except:\n",
    "        print(\"No file for this day\")\n",
    "    lat = dat['XLAT_M'][0,:]\n",
    "    lon = dat['XLONG_M'][0,:]\n",
    "    print(lon.shape)\n",
    "    #t = dat['time'][:]\n",
    "    \n",
    "    if len(lat.shape)==1:\n",
    "            lon, lat = np.meshgrid(lon, lat)\n",
    "    living = dat['FMCGLH2D'][0,:]\n",
    "    dead = dat['FMCG2D'][0,:]\n",
    "    print(living)\n",
    "    \n",
    "    \n",
    "    lat_corners, lon_corners = calculate_grid_cell_corners(lat, lon)\n",
    "    \n",
    "\n",
    "    #does a polygon exist for this time?\n",
    "    \n",
    "    mcclure_ind = np.where(ac_mcclure_daily['Days']==str(times_sub[ii]))\n",
    "    thapa_ind = np.where(ac_thapa_daily['Current Day'] == str(times_sub[ii]))\n",
    "    #print(mcclure_ind, thapa_ind)\n",
    "    \n",
    "    if len(mcclure_ind[0])==0:\n",
    "        print(ii, 'No mcclure poly')\n",
    "        mlive[0,ii] = np.nan\n",
    "        mdead[0,ii] = np.nan\n",
    "        poly_thapa = ac_thapa_daily['geometry'].iloc[thapa_ind[0]]\n",
    "        overlap_thapa = calculate_overlaps(lat,lon,lat_corners,lon_corners,poly_thapa.iloc[0], 'curvilinear',0.05)\n",
    "        mlive[1,ii] = np.mean(feature_hourly(living, overlap_thapa))\n",
    "        mdead[1,ii] = np.mean(feature_hourly(dead, overlap_thapa))\n",
    "        \n",
    "    elif len(thapa_ind[0])==0:\n",
    "        print(ii, 'No Thapa poly!')\n",
    "        mlive[1,ii] = np.nan\n",
    "        mdead[1,ii] = np.nan\n",
    "        poly_mcclure = ac_mcclure_daily['geometry'].iloc[mcclure_ind[0]]\n",
    "        overlap_mcclure = calculate_overlaps(lat,lon,lat_corners,lon_corners,poly_mcclure.iloc[0], 'curvilinear',0.05)\n",
    "        mlive[0,ii] = np.mean(feature_hourly(living, overlap_mcclure))\n",
    "        mdead[0,ii] = np.mean(feature_hourly(dead, overlap_mcclure))\n",
    "\n",
    "    else:\n",
    "        print(ii, 'both polys')\n",
    "        poly_mcclure = ac_mcclure_daily['geometry'].iloc[mcclure_ind[0]]\n",
    "        overlap_mcclure = calculate_overlaps(lat,lon,lat_corners,lon_corners,poly_mcclure.iloc[0], 'curvilinear',0.05)\n",
    "        mlive[0,ii] = np.mean(feature_hourly(living, overlap_mcclure))\n",
    "        mdead[0,ii] = np.mean(feature_hourly(dead, overlap_mcclure))\n",
    "        \n",
    "        poly_thapa = ac_thapa_daily['geometry'].iloc[thapa_ind[0]]\n",
    "        overlap_thapa = calculate_overlaps(lat,lon,lat_corners,lon_corners,poly_thapa.iloc[0], 'curvilinear',0.05)\n",
    "        mlive[1,ii] = np.mean(feature_hourly(living, overlap_thapa))\n",
    "        mdead[1,ii] = np.mean(feature_hourly(dead, overlap_thapa))"
   ]
  },
  {
   "cell_type": "code",
   "execution_count": null,
   "id": "01a841c8",
   "metadata": {
    "hidden": true,
    "scrolled": false
   },
   "outputs": [],
   "source": [
    "print(vpd[0,:])\n",
    "print(saturated_vapor_pressure[0,:]-vapor_pressure[0,:])\n",
    "plot_twoline(times_sub, np.stack([mlive[0,:], vpd[0,:]]), 'McClure Polygons For 9/7 Burned Area',\\\n",
    "             [], ['LFMC', 'VPD (Pa)'], 1)\n",
    "plot_twoline(times_sub, np.stack([mlive[0,:], vapor_pressure[0,:]]), 'McClure Polygons For 9/7 Burned Area',\\\n",
    "             [], ['LFMC', 'VP (Pa)'], 1)\n",
    "plot_twoline(times_sub, np.stack([mlive[0,:], saturated_vapor_pressure[0,:]]), 'McClure Polygons For 9/7 Burned Area',\\\n",
    "             [], ['LFMC', 'SVP (Pa)'], 1)\n",
    "\n",
    "\n",
    "plot_twoline(times_sub, np.stack([mdead[0,:], vpd[0,:]]), 'McClure Polygons For 9/7 Burned Area',\\\n",
    "             [], ['DFMC', 'VPD (Pa)'], 1)\n",
    "plot_twoline(times_sub, np.stack([mdead[0,:], vapor_pressure[0,:]]), 'McClure Polygons For 9/7 Burned Area',\\\n",
    "             [], ['DFMC', 'VP (Pa)'], 1)\n",
    "plot_twoline(times_sub, np.stack([mdead[0,:], saturated_vapor_pressure[0,:]]), 'McClure Polygons For 9/7 Burned Area',\\\n",
    "             [], ['DFMC', 'SVP (Pa)'], 1)"
   ]
  },
  {
   "cell_type": "markdown",
   "id": "961cbb98",
   "metadata": {
    "heading_collapsed": true
   },
   "source": [
    "## Scatter plots"
   ]
  },
  {
   "cell_type": "code",
   "execution_count": null,
   "id": "5f5cce82",
   "metadata": {
    "hidden": true
   },
   "outputs": [],
   "source": [
    "#find where personnel and frp ~=nan\n",
    "\n",
    "nonan_ind = np.where(~np.isnan(personnel)&~np.isnan(frp[1,:])&(frp[1,:]<12000))\n",
    "print(len(personnel[nonan_ind]))\n",
    "print(len(frp[1,nonan_ind][0]))\n",
    "theta = np.polyfit(personnel[nonan_ind], frp[1,nonan_ind][0], 1)\n",
    "print(theta)\n",
    "y_line = theta[1] + theta[0] * personnel[nonan_ind]\n",
    "fig, ax = plt.subplots(figsize=(10,10)) #set up the figure\n",
    "plt.scatter(personnel, frp[1,:])\n",
    "plt.plot(personnel[nonan_ind], y_line, 'r')\n",
    "plt.text(3500, 80000, 'Maybe a negative slope, but pretty driven by outlier')\n",
    "plt.title('Personnel vs FRP (Thapa Polygons)', fontsize=24)\n",
    "ax.set_ylabel('FRP (MW)', fontsize=24) \n",
    "ax.set_xlabel('Personnel (#)', fontsize=24) \n",
    "plt.show()"
   ]
  },
  {
   "cell_type": "code",
   "execution_count": null,
   "id": "f6654e42",
   "metadata": {
    "hidden": true
   },
   "outputs": [],
   "source": [
    "fig, ax = plt.subplots(figsize=(10,10)) #set up the figure\n",
    "plt.scatter(frp[1,:], carbon_monoxide[1,:])#for the Thapa polygons\n",
    "df_test_qfed = pd.DataFrame({'FRP':frp[1,:], 'CO':carbon_monoxide[1,:]})\n",
    "print(df_test_qfed.corr())\n",
    "print(df_test_qfed.cov())\n",
    "ax.set_xlabel('FRP (MW)', fontsize=24) \n",
    "ax.set_ylabel('Mean QFED CO Emissions (#)', fontsize=24) \n",
    "plt.show()\n",
    "\n",
    "fig, ax = plt.subplots(figsize=(10,10)) #set up the figure\n",
    "plt.scatter(frp[1,:], df_gbbepx_thapa['CO'].values)#for the Thapa polygons\n",
    "df_test_gbbepx = pd.DataFrame({'FRP':frp[1,:], 'CO': df_gbbepx_thapa['CO'].values})\n",
    "print(df_test_gbbepx.corr())\n",
    "print(df_test_gbbepx.cov())\n",
    "\n",
    "ax.set_xlabel('FRP (MW)', fontsize=24) \n",
    "ax.set_ylabel('Mean GBBEPx CO Emissions (#)', fontsize=24) \n",
    "plt.show()"
   ]
  },
  {
   "cell_type": "code",
   "execution_count": null,
   "id": "e73cd819",
   "metadata": {
    "hidden": true
   },
   "outputs": [],
   "source": [
    "#fuel moisture\n",
    "fig, ax = plt.subplots(figsize=(10,10)) #set up the figure\n",
    "plt.scatter(frp[1,:], mlive[1,:])#for the Thapa polygons\n",
    "df_test_live = pd.DataFrame({'FRP':frp[1,:], 'mlive':mlive[1,:]})\n",
    "print(df_test_live.corr())\n",
    "print(df_test_live.cov())\n",
    "ax.set_xlabel('FRP (MW)', fontsize=24) \n",
    "ax.set_ylabel('Live Fuel Moisture', fontsize=24) \n",
    "plt.show()\n",
    "\n",
    "fig, ax = plt.subplots(figsize=(10,10)) #set up the figure\n",
    "plt.scatter(frp[1,:], mdead[1,:])#for the Thapa polygons\n",
    "df_test_dead = pd.DataFrame({'FRP':frp[1,:], 'mdead': mdead[1,:]})\n",
    "print(df_test_dead.corr())\n",
    "print(df_test_dead.cov())\n",
    "\n",
    "ax.set_xlabel('FRP (MW)', fontsize=24) \n",
    "ax.set_ylabel('Dead Fuel Moisture', fontsize=24) \n",
    "plt.show()"
   ]
  },
  {
   "cell_type": "code",
   "execution_count": null,
   "id": "87ee7a49",
   "metadata": {
    "hidden": true
   },
   "outputs": [],
   "source": [
    "from sklearn.metrics import explained_variance_score\n",
    "\n"
   ]
  },
  {
   "cell_type": "code",
   "execution_count": null,
   "id": "5debc87e",
   "metadata": {
    "hidden": true
   },
   "outputs": [],
   "source": [
    "nonan_ind_qfed = np.where(~np.isnan(frp[1,:])&~np.isnan( carbon_monoxide[1,:]))\n",
    "print(explained_variance_score(frp[1,nonan_ind_qfed][0], carbon_monoxide[1,nonan_ind_qfed][0]))\n",
    "\n",
    "nonan_ind_gbbepx = np.where(~np.isnan(frp[1,:])&~np.isnan( df_gbbepx_thapa['CO'].values))\n",
    "print(explained_variance_score(frp[1,nonan_ind_gbbepx][0], df_gbbepx_thapa['CO'].values[nonan_ind_gbbepx]))"
   ]
  },
  {
   "cell_type": "code",
   "execution_count": null,
   "id": "b1c8534d",
   "metadata": {
    "hidden": true
   },
   "outputs": [],
   "source": [
    "df_igbp_mcclure = pd.read_csv('AC_IGBP_McClure.csv')\n",
    "df_mcclure= pd.read_csv('AC_McClure.csv')\n",
    "\n",
    "df_thapa = pd.read_csv('AC_Thapa.csv')\n",
    "print(df_mcclure.columns)\n",
    "df_mcclure.plot.scatter(x='vpd', y='living moisture')\n",
    "plt.show()\n",
    "\n",
    "df_thapa.plot.scatter(x='vpd', y='living moisture')\n",
    "plt.show()"
   ]
  },
  {
   "cell_type": "markdown",
   "id": "c9e450f2",
   "metadata": {
    "code_folding": [
     0
    ],
    "heading_collapsed": true
   },
   "source": [
    "## Do some cross correlations\n",
    "\n",
    "the ccf command doesn't like nans"
   ]
  },
  {
   "cell_type": "code",
   "execution_count": null,
   "id": "87d1d794",
   "metadata": {
    "hidden": true
   },
   "outputs": [],
   "source": [
    "vpd_num_thapa = sm.tsa.stattools.ccf(vpd[1,:], num_points[1,:], adjusted=False)\n",
    "print(vpd_num_thapa)\n",
    "print(np.argmax(abs(vpd_num_thapa)))\n",
    "\n",
    "plt.plot(range(len(vpd_num_thapa)), vpd_num_thapa)\n",
    "plt.show()\n",
    "\n",
    "temp_num_thapa = sm.tsa.stattools.ccf(wind[1,:], num_points[1,:], adjusted=False)\n",
    "print(temp_num_thapa)\n",
    "print(np.argmax(abs(temp_num_thapa)))\n",
    "plt.plot(range(len(temp_num_thapa)), temp_num_thapa)\n",
    "plt.show()"
   ]
  },
  {
   "cell_type": "markdown",
   "id": "9c5808ce",
   "metadata": {
    "heading_collapsed": true
   },
   "source": [
    "## Correlograms"
   ]
  },
  {
   "cell_type": "code",
   "execution_count": null,
   "id": "b8b96df8",
   "metadata": {
    "hidden": true
   },
   "outputs": [],
   "source": [
    "df_thapa = pd.read_csv('AC_Thapa.csv') #load in the data\n",
    "df_thapa\n",
    "sns.pairplot(df_thapa[['vpd', 'wind', 'personnel', 'dead_moisture', 'living moisture', 'frp', 'CO']], kind='reg')\n",
    "plt.show()\n",
    "\n",
    "corrMatrix = df_thapa[['vpd', 'wind', 'personnel', 'dead_moisture', 'living moisture', 'frp', 'CO']].corr()\n",
    "fig,ax=plt.subplots(figsize=(13,13))\n",
    "sns.heatmap(corrMatrix, annot=True,vmin=-1, vmax=1, cmap='seismic')\n",
    "plt.show()"
   ]
  },
  {
   "cell_type": "code",
   "execution_count": null,
   "id": "b4d71430",
   "metadata": {
    "hidden": true,
    "scrolled": false
   },
   "outputs": [],
   "source": [
    "df_mcclure = pd.read_csv('AC_McClure.csv') #load in the data\n",
    "df_mcclure\n",
    "sns.pairplot(df_mcclure[['vpd', 'wind', 'personnel', 'dead_moisture', 'living moisture', 'frp', 'CO']], kind='reg')\n",
    "plt.show()\n",
    "\n",
    "corrMatrix = df_mcclure[['vpd', 'wind', 'personnel', 'dead_moisture', 'living moisture', 'frp', 'CO']].corr()\n",
    "fig,ax=plt.subplots(figsize=(13,13))\n",
    "sns.heatmap(corrMatrix, annot=True, vmin=-1, vmax=1,cmap='seismic')\n",
    "plt.show()"
   ]
  },
  {
   "cell_type": "markdown",
   "id": "d55576a9",
   "metadata": {
    "heading_collapsed": true
   },
   "source": [
    "## Moving Average"
   ]
  },
  {
   "cell_type": "code",
   "execution_count": null,
   "id": "705d5ef7",
   "metadata": {
    "hidden": true
   },
   "outputs": [],
   "source": [
    "window_size = 7\n",
    "mdead_series = df_moisture['Dead Thapa']\n",
    "windows = mdead_series.rolling(window_size)\n",
    "moving_averages=windows.mean()\n",
    "moving_averages_list = moving_averages.tolist()\n",
    "print(len(moving_averages_list))\n",
    "\n",
    "dead = pd.DataFrame({'FRP':frp[1,:], 'mdead':moving_averages_list})\n",
    "print(dead.corr())\n",
    "\n",
    "plot_twoline(times, np.stack([moving_averages_list, frp[1,:]]), 'August Complex Thapa Polygons',\\\n",
    "             [], ['Dead Fuel Moisture Moving Average', 'FRP (MW)'], 1)"
   ]
  },
  {
   "cell_type": "markdown",
   "id": "0782b49f",
   "metadata": {
    "heading_collapsed": true
   },
   "source": [
    "## Time Series with history"
   ]
  },
  {
   "cell_type": "code",
   "execution_count": null,
   "id": "159bd63b",
   "metadata": {
    "hidden": true
   },
   "outputs": [],
   "source": [
    "# FRP and VPD and what the heck HDW, mcclure only\n",
    "#today = np.datetime64('2020-10-07')\n",
    "ndays_back = 2\n",
    "lat_name = 'lat'\n",
    "lon_name = 'lon'\n",
    "var_names = ['TLML', 'PS','QLML', 'SPEEDLML']\n",
    "#poly_today = ac_thapa_daily['geometry'].iloc[50]\n",
    "gridstyle='rectilinear'\n",
    "buff_search = 1\n",
    "#process_hourly = 'mean'\n",
    "\n",
    "\n",
    "vpd=np.zeros((ndays_back+1, len(days)))\n",
    "hdw = np.zeros((ndays_back+1, len(days)))\n",
    "wind =  np.zeros((ndays_back+1, len(days)))\n",
    "frp = np.zeros((1, len(days)))\n",
    "\n",
    "for ii in range(len(days)):\n",
    "    today = days[ii]\n",
    "    print(today)\n",
    "    date=str(days[ii])\n",
    "    yr = date[0:4]\n",
    "    mo = date[5:7]\n",
    "    dy = date[8:10]\n",
    "    \n",
    "    dataset_path = '/data2/lthapa/2020/MERRA2/WESTUS_MERRA2_400.inst1_2d_lfo_Nx.*.nc4'\n",
    "    if today>=np.datetime64('2020-09-01') and today<=np.datetime64('2020-09-30'):\n",
    "        dataset_path = path_merra.replace('400', '401')\n",
    "        \n",
    "    #is there a McClure poly for today?\n",
    "    mcclure_ind = np.where(ac_mcclure_daily['Days']==date)\n",
    "    \n",
    "    if len(mcclure_ind[0])==0:\n",
    "        print(ii, 'No mcclure poly')\n",
    "        vpd[:,ii] = np.nan\n",
    "        wind[:,ii]= np.nan\n",
    "        frp[:,ii] = np.nan\n",
    "        hdw[:,ii] = np.nan\n",
    "    \n",
    "    else:\n",
    "        #get the history\n",
    "        poly_today = ac_mcclure_daily['geometry'].iloc[mcclure_ind[0]]\n",
    "        df_mean = extract_polygon_history(today, ndays_back, dataset_path, lat_name, lon_name, var_names,\\\n",
    "                                          poly_today, gridstyle, buff_search, 'mean')\n",
    "        df_mean['esat'] = sat_vap_press(df_mean['TLML'])\n",
    "        df_mean['e']= vap_press(df_mean['QLML'],df_mean['PS'])\n",
    "        df_mean['vpd'] = esat-e\n",
    "        df_mean['hdw'] = df_mean['vpd']*df_mean['SPEEDLML']\n",
    "        \n",
    "        # row 0 is is today, row ndays_back is the earliest\n",
    "        for jj in range(ndays_back+1): #jj tracks rows in the output vector, ndays_back-jj tracks where we grab from in the dataframe\n",
    "            print(ndays_back-jj)\n",
    "            vpd[jj,ii] = df_mean['vpd'].iloc[ndays_back-jj]\n",
    "            wind[jj,ii]= df_mean['SPEEDLML'].iloc[ndays_back-jj]\n",
    "            hdw[jj,ii] = df_mean['hdw'].iloc[ndays_back-jj]\n",
    "            \n",
    "        frp[0,ii] = ac_mcclure_daily['FRP'].iloc[mcclure_ind[0]]"
   ]
  },
  {
   "cell_type": "markdown",
   "id": "216aded6",
   "metadata": {},
   "source": [
    "## Helper Functions"
   ]
  },
  {
   "cell_type": "code",
   "execution_count": null,
   "id": "ee4e1f1c",
   "metadata": {
    "code_folding": [
     0
    ]
   },
   "outputs": [],
   "source": [
    "def choose_plot_grid_size(days):\n",
    "    n_days = len(days)\n",
    "    sizes = np.linspace(1,16, 16)\n",
    "    squares = sizes**2\n",
    "    side = np.amin(np.where(squares>n_days))+1\n",
    "    nrows = side\n",
    "    ncols = side\n",
    "    return nrows, ncols"
   ]
  },
  {
   "cell_type": "code",
   "execution_count": 41,
   "id": "82a15b65",
   "metadata": {},
   "outputs": [],
   "source": [
    "def calculate_grid_cell_corners(LAT, LON):\n",
    "    #we will assume the very edges of the polygons don't touch the boundary of the domain\n",
    "    lat_corners = (LAT[0:(LAT.shape[0]-1),  0:(LAT.shape[1])-1] + LAT[1:(LAT.shape[0]), 1:(LAT.shape[1])])/2\n",
    "    lon_corners = (LON[0:(LAT.shape[0]-1),  0:(LAT.shape[1])-1] + LON[1:(LAT.shape[0]), 1:(LAT.shape[1])])/2\n",
    "    return lat_corners, lon_corners"
   ]
  },
  {
   "cell_type": "code",
   "execution_count": 32,
   "id": "78e8ffe2",
   "metadata": {},
   "outputs": [],
   "source": [
    "# this function calculates the overlap between the given shape (fire_shape) and given grid (LAT, LON). \n",
    "# buff_search is the buffer for finding overlaps, =1 for everything except NCAR Fuel = 0.05\n",
    "#grid type should be 'rectilinear' or 'curvilinear'\n",
    "#LAT and LON should be 2D\n",
    "\n",
    "def calculate_overlaps(lat, lon, lat_corners, lon_corners, fire_shape, grid_type, buff_search):\n",
    "    overlaps = np.zeros(lat.shape)\n",
    "    #if explain_validity(fire_shape) != 'Valid Geometry':\n",
    "    #fire_shape = fire_shape.buffer(0) # buffer the fire shape by zero so it is a valid polygon\n",
    "    # get the bounds of the buffered polygon\n",
    "    w,s,e,n = fire_shape.bounds\n",
    "    \n",
    "    w = w-buff_search\n",
    "    s = s-buff_search\n",
    "    e = e+buff_search\n",
    "    n = n+buff_search\n",
    "    \n",
    "    #print(w,s,e,n)\n",
    "    if grid_type =='rectilinear':    \n",
    "        lat_start = np.unique(np.argmin(np.abs(lat-s), axis=0))[0]\n",
    "        lat_stop = np.unique(np.argmin(np.abs(lat-n), axis=0))[0]\n",
    "        lon_start = np.unique(np.argmin(np.abs(lon-w), axis=1))[0]\n",
    "        lon_stop = np.unique(np.argmin(np.abs(lon-e), axis=1))[0]\n",
    "        #print(lat_start, lat_stop, lon_start, lon_stop)\n",
    "    elif grid_type=='curvilinear':\n",
    "        lon_start, lon_stop, lat_start, lat_stop =  bbox2ij(lon, lat, [w, e, s, n])\n",
    "\n",
    "    #print(lon_start, lon_stop, lat_start, lat_stop)\n",
    "    # find the intersection between the first day's polygon and the  grid\n",
    "    for ii in range(lat_start, lat_stop+1):\n",
    "        for jj in range(lon_start, lon_stop+1):\n",
    "            #print(lat[ii,jj], lon[ii,jj])\n",
    "            poly_cell = Polygon([(lon_corners[ii, jj-1],lat_corners[ii, jj-1]),\\\n",
    "                                 (lon_corners[ii, jj],lat_corners[ii, jj]),\\\n",
    "                                 (lon_corners[ii-1, jj],lat_corners[ii-1, jj-1]),\\\n",
    "                                 (lon_corners[ii-1, jj-1], lat_corners[ii-1, jj-1])])\n",
    "            #print(poly_cell)\n",
    "            #THIS SHOWS THE CELLS WE CHECK FOR OVERLAPS\n",
    "           # fig = plt.figure(figsize=(15,10))\n",
    "           # ax= fig.add_subplot(111,projection=ccrs.PlateCarree())\n",
    "           # gpd.GeoSeries(poly_cell).plot(ax=ax)\n",
    "           # gpd.GeoSeries(fire_shape).plot(ax=ax, color='r', alpha=0.5)\n",
    "           # plt.xticks()\n",
    "           # plt.yticks()\n",
    "           # plt.show()\n",
    "            try:\n",
    "                overlap_cell = fire_shape.intersection(poly_cell)\n",
    "            except:\n",
    "                overlap_cell = fire_shape.buffer(0.00001).intersection(poly_cell)\n",
    "            #print(overlap_cell)\n",
    "            #overlaps are the fraction of the POLYGON in each grid cell\n",
    "            overlaps[ii,jj] = overlap_cell.area/fire_shape.area\n",
    "    #print(np.sum(np.sum(overlaps)))\n",
    "    return overlaps"
   ]
  },
  {
   "cell_type": "code",
   "execution_count": 33,
   "id": "8e8f1373",
   "metadata": {},
   "outputs": [],
   "source": [
    "# this function extracts a feature hourly over the polygon for the day\n",
    "#IN: feat_grid, the 3d grid of the feature. overlaps: the 2d grid of the overlaps. 3d grid needs time as 1st dimension\n",
    "#OUT: hourly_vec, the hourly time series of the feature over the day for the polygon\n",
    "\n",
    "def feature_hourly(feat_grid, overlaps): \n",
    "    overlaps_stacked = np.repeat(overlaps[:, :, np.newaxis], 24, axis=2) #stack the 2d overlaps into a 3d grid\n",
    "    overlaps_swapped = np.swapaxes(np.swapaxes(overlaps_stacked, 0,2), 1,2) #make the same shape as the feature grid\n",
    "\n",
    "    hourly_grid = np.multiply(overlaps_swapped, feat_grid)\n",
    "    hourly_vec = np.nansum(np.nansum(hourly_grid, axis=1), axis=1)\n",
    "    \n",
    "    return hourly_vec"
   ]
  },
  {
   "cell_type": "code",
   "execution_count": 34,
   "id": "518246a0",
   "metadata": {},
   "outputs": [],
   "source": [
    "#plots two lines, on one or on the same axis\n",
    "# IN: datax, x axis vector (time)\n",
    "# IN: datay, 2*n vector of the data\n",
    "# IN: linelabels, string vector of the labels of each line, to go in the legend\n",
    "# IN: axis labels, labels of the axis\n",
    "# IN: title, string for title of figire\n",
    "# IN: twoaxis, if 1 plot data on two separate axes, else plot on the same axis\n",
    "# OUT: a graph\n",
    "def plot_twoline(datax, datay, title, linelabels, axislabels, twoaxis):\n",
    "    fig, ax = plt.subplots(figsize=(20,8)) #set up the figure\n",
    "    \n",
    "    if twoaxis==1:\n",
    "        ax.plot(datax, datay[0,:], 'ro-') # plot the first line\n",
    "        ax.set_ylabel(axislabels[0], fontsize=24, color='red') \n",
    "        ax2=ax.twinx()\n",
    "        ax2.plot(datax, datay[1,:], 'bo-') #plot the second line\n",
    "        ax2.set_ylabel(axislabels[1], fontsize=24, color='blue')\n",
    "        \n",
    "    else:\n",
    "        ax.plot(datax, datay[0,:], 'ro-') # plot the first line\n",
    "        ax.plot(datax, datay[1,:], 'bo-') # plot the second line\n",
    "        ax.set_ylabel(axislabels, fontsize=24) \n",
    "    \n",
    "        \n",
    "    plt.legend(linelabels,fontsize=24)\n",
    "    plt.title(title,fontsize=24)\n",
    "    plt.grid()\n",
    "    plt.show()\n",
    "\n"
   ]
  },
  {
   "cell_type": "code",
   "execution_count": 35,
   "id": "e08f0652",
   "metadata": {},
   "outputs": [],
   "source": [
    "#finds the most common value of the array (the mode)\n",
    "#IN the array\n",
    "#OUT the mode of the array\n",
    "def find_mode(arr):\n",
    "    vals,counts = np.unique(arr, return_counts=True)\n",
    "    index = np.argmax(counts)\n",
    "    return vals[index]\n"
   ]
  },
  {
   "cell_type": "code",
   "execution_count": 36,
   "id": "f53405a4",
   "metadata": {},
   "outputs": [],
   "source": [
    "#fnction is from here: https://gis.stackexchange.com/questions/71630/subsetting-a-curvilinear-netcdf-file-roms-model-output-using-a-lon-lat-boundin\n",
    "def bbox2ij(lon,lat,bbox):\n",
    "    bbox=np.array(bbox)\n",
    "    mypath=np.array([bbox[[0,1,1,0]],bbox[[2,2,3,3]]]).T\n",
    "    p = path.Path(mypath)\n",
    "    points = np.vstack((lon.flatten(),lat.flatten())).T\n",
    "    n,m = np.shape(lon)\n",
    "    inside = p.contains_points(points).reshape((n,m))\n",
    "    ii,jj = np.meshgrid(range(m),range(n)) #ii is the columns, jj is the rows\n",
    "    return min(ii[inside]),max(ii[inside]),min(jj[inside]),max(jj[inside])"
   ]
  },
  {
   "cell_type": "code",
   "execution_count": 37,
   "id": "cec4b552",
   "metadata": {},
   "outputs": [],
   "source": [
    "earth_SA = 5e14; #surface area of earth m2\n",
    "\n",
    "\n",
    "def area_per_grid_cell(lats, lons, dlat, dlon):\n",
    "    r_earth = 6.371e6; #radius of earth in m\n",
    "    area_per_box = np.zeros((len(lats), len(lons)));\n",
    "    for ii in range(len(lons)): #loop over the lons/x positions\n",
    "        for jj in range(len(lats)): # loop over the lats/y positions\n",
    "            top_lat = lats[jj]+(dlat/2); #upper bounds of the box, centered at (lon_merra(ii),lat_merra(jj)) \n",
    "            bottom_lat = lats[jj]-(dlat/2); # lower bounds of the box, centered at (lon_merra(ii),lat_merra(jj)) \n",
    "            box_height = dlat*r_earth*(math.pi/180); # box heights in m, constant because latiude lines are parallel\n",
    "            top_width = (r_earth*dlon*math.pi*np.cos(math.radians(top_lat)))/180;\n",
    "            bottom_width = (r_earth*dlon*math.pi*np.cos(math.radians(bottom_lat)))/180;\n",
    "            area_per_box[jj,ii] = (bottom_width + top_width)*box_height/2; # trapezoid approximation, simplifies to triangles at the poles\n",
    "    return(area_per_box)\n"
   ]
  },
  {
   "cell_type": "code",
   "execution_count": 38,
   "id": "ca0c7926",
   "metadata": {},
   "outputs": [],
   "source": [
    "#IN: an nc dataset from GOES\n",
    "#OUT LAT/LON in the right projection\n",
    "def project_abi(data_cod): #grid edges\n",
    "    # grab the constants needed to do the projection from GOES grid to lat/lon\n",
    "    Req = data_cod.variables['goes_imager_projection'].semi_major_axis\n",
    "    Rpol = data_cod.variables['goes_imager_projection'].semi_minor_axis\n",
    "    lambda_0 = data_cod.variables['goes_imager_projection'].longitude_of_projection_origin\n",
    "    lambda_0 = lambda_0*math.pi/180\n",
    "    Hsat = data_cod.variables['goes_imager_projection'].perspective_point_height\n",
    "    H = Hsat+Req\n",
    "    \n",
    "    # projection from GOES grid to lat/lon, following https://makersportal.com/blog/2018/11/25/goes-r-satellite-latitude-and-longitude-grid-projection-algorithm\n",
    "    lat_rad_1d = data_cod['x'][:]\n",
    "    lon_rad_1d = data_cod['y'][:]\n",
    "    \n",
    "    [X, Y] = np.meshgrid(lat_rad_1d, lon_rad_1d) # lon is x, lat is y, uses 'xy' indexing by default\n",
    "\n",
    "    # sin and cos of x and y\n",
    "    sinx = np.sin(X)\n",
    "    sinx2 = sinx**2\n",
    "    siny = np.sin(Y)\n",
    "    siny2 = siny**2\n",
    "    cosx = np.cos(X)\n",
    "    cosx2 = cosx**2\n",
    "    cosy = np.cos(Y)\n",
    "    cosy2 = cosy**2\n",
    "\n",
    "    a = np.power(np.sin(X),2.0) + (np.power(np.cos(X),2.0)*(np.power(np.cos(Y),2.0)+(((Req*Req)/(Rpol*Rpol))*np.power(np.sin(Y),2.0))))\n",
    "    b = -2.0*H*np.cos(X)*np.cos(Y)\n",
    "    c = (H**2.0)-(Req**2.0)\n",
    "\n",
    "    # calculate rs\n",
    "    rs = (-b - np.sqrt((b**2)-(4*a*c)))/2*a\n",
    "\n",
    "    # calculate sx, sy, sz\n",
    "    sx = rs*cosx*cosy\n",
    "    sy = -rs*sinx\n",
    "    sz = rs*cosx*siny\n",
    "        \n",
    "    # calculate lat and lon\n",
    "    test = (Req**2/Rpol**2)*(sz/np.sqrt(((H-sx)**2)+(sy**2)))\n",
    "    lat = np.arctan(test) \n",
    "    lon = lambda_0 - np.arctan(sy/(H-sx)) # in radians\n",
    "\n",
    "    lat_deg = lat*180/math.pi\n",
    "    lon_deg = lon*180/math.pi\n",
    "\n",
    "    return lat_deg, lon_deg"
   ]
  },
  {
   "cell_type": "code",
   "execution_count": 39,
   "id": "5644bfe5",
   "metadata": {},
   "outputs": [],
   "source": [
    "# IN \n",
    "#today: today's date as a datetime \n",
    "# ndays_back: length of the history you want to make (we will have one more than this number)\n",
    "#dataset_general_path: path to the dataset (one at a time for now) \n",
    "#lat_name, lon_name: what lat and lon are called in this dataet\n",
    "# var_names: variable names you want to extract for the day\n",
    "# poly_today: today's polygon\n",
    "# gridstyle: rectilinear or curvilinear\n",
    "# buff_search: buffer to search around the polygon for overlaps\n",
    "\n",
    "#OUT \n",
    "#df_out: the variables requested by 'var_names' as a dataframe time series\n",
    "def extract_polygon_history(today, ndays_back, dataset_general_path, lat_name, lon_name, var_names, poly_today,\\\n",
    "                            gridstyle, buff_search):\n",
    "    #construct the time vector\n",
    "    times = np.arange(today-np.timedelta64(ndays_back, 'D'), today+np.timedelta64(1, 'D'))\n",
    "    time_save = np.zeros(24*len(times))\n",
    "    #print(times)\n",
    "    #construct the output dataframe\n",
    "    df_dict = dict.fromkeys(var_names, np.zeros(24*len(times)))\n",
    "    df_out = pd.DataFrame(df_dict)\n",
    "    for ii in range(len(times)):\n",
    "        date=str(times[ii])\n",
    "        yr = date[0:4]\n",
    "        mo = date[5:7]\n",
    "        dy = date[8:10]\n",
    "        #print(dataset_general_path)\n",
    "        if '*' in dataset_general_path:\n",
    "            dataset_path = dataset_general_path.replace('*', yr+mo+dy)\n",
    "        if np.datetime64(date)>=np.datetime64('2020-09-01') and np.datetime64(date)<=np.datetime64('2020-09-30'):\n",
    "            dataset_path = dataset_path.replace('400', '401')\n",
    "        dataset = nc.Dataset(dataset_path)\n",
    "        if ii == 0: #for the first one, calculate overlaps\n",
    "            lat = dataset[lat_name]\n",
    "            lon = dataset[lon_name]\n",
    "            if len(lat.shape)==1:\n",
    "                lon, lat = np.meshgrid(lon, lat)\n",
    "            lat_corners, lon_corners = calculate_grid_cell_corners(lat, lon)\n",
    "            #OVERLAPS ARE ONLY CALCULATED ONCE\n",
    "            overlaps = calculate_overlaps(lat,lon,lat_corners,lon_corners,poly_today.iloc[0], gridstyle,buff_search)\n",
    "        for name in var_names:\n",
    "            field = dataset[name][:]\n",
    "            #how do we process the hourly data\n",
    "            hourly = feature_hourly(field, overlaps)\n",
    "            df_out[name].iloc[(ii*24):(ii+1)*24] = hourly\n",
    "        time_save[(ii*24):(ii+1)*24] = np.tile(times[ii], (24, 1))[:,0]\n",
    "    #stack DF wih times! \n",
    "    df_out = pd.concat([pd.DataFrame({'time':time_save}), df_out], axis=1)\n",
    "    return df_out"
   ]
  },
  {
   "cell_type": "markdown",
   "id": "2a701d1e",
   "metadata": {},
   "source": [
    "## Code testing zone"
   ]
  },
  {
   "cell_type": "code",
   "execution_count": 6,
   "id": "64deab5a",
   "metadata": {
    "scrolled": false
   },
   "outputs": [],
   "source": [
    "filename = '/data2/lthapa/2020/MERRA2/WESTUS_MERRA2_400.inst1_2d_lfo_Nx.202008*.nc4'\n",
    "dataMonth=xr.open_mfdataset(filename,concat_dim='time',combine='nested',compat='override', coords='all')\n"
   ]
  },
  {
   "cell_type": "code",
   "execution_count": 16,
   "id": "8e95c5b1",
   "metadata": {},
   "outputs": [],
   "source": [
    "from shapely.geometry import Polygon\n",
    "polys1 = gpd.GeoSeries([Polygon([(0,0), (2,0), (2,2), (0,2)]),\n",
    "                              Polygon([(2,2), (4,2), (4,4), (2,4)])])\n",
    "polys2 = gpd.GeoSeries([Polygon([(1,1), (3,1), (3,3), (1,3)]),\n",
    "                              Polygon([(3,3), (5,3), (5,5), (3,5)])])\n",
    "df1 = gpd.GeoDataFrame({'geometry': polys1, 'df1_data':[1,2]})\n",
    "df2 = gpd.GeoDataFrame({'geometry': polys2, 'df2_data':[1,2]})\n",
    "\n",
    "df = gpd.overlay(df1, df2, how='intersection')\n"
   ]
  },
  {
   "cell_type": "code",
   "execution_count": 25,
   "id": "84a44b8b",
   "metadata": {
    "scrolled": true
   },
   "outputs": [
    {
     "data": {
      "image/png": "[encoded data removed]",
      "text/plain": [
       "<Figure size 432x288 with 1 Axes>"
      ]
     },
     "metadata": {
      "needs_background": "light"
     },
     "output_type": "display_data"
    }
   ],
   "source": [
    "fig,ax = plt.subplots()\n",
    "df1.plot(ax=ax)\n",
    "df2.plot(ax=ax, color='r')\n",
    "df.plot(ax=ax, color='g')\n",
    "plt.show()"
   ]
  },
  {
   "cell_type": "code",
   "execution_count": 214,
   "id": "3663039a",
   "metadata": {},
   "outputs": [],
   "source": [
    "\n"
   ]
  },
  {
   "cell_type": "code",
   "execution_count": 208,
   "id": "0ad356ad",
   "metadata": {},
   "outputs": [],
   "source": [
    "merra_grid = gpd.read_file('MERRA_GRID.geojson')"
   ]
  },
  {
   "cell_type": "code",
   "execution_count": 209,
   "id": "e552284b",
   "metadata": {},
   "outputs": [
    {
     "name": "stderr",
     "output_type": "stream",
     "text": [
      "TopologyException: side location conflict at -122.81218760223446 39.860401044438809\n"
     ]
    },
    {
     "ename": "TopologicalError",
     "evalue": "This operation could not be performed. Reason: unknown",
     "output_type": "error",
     "traceback": [
      "\u001b[0;31m---------------------------------------------------------------------------\u001b[0m",
      "\u001b[0;31mTopologicalError\u001b[0m                          Traceback (most recent call last)",
      "\u001b[0;32m<ipython-input-209-91795d4d3d57>\u001b[0m in \u001b[0;36m<module>\u001b[0;34m\u001b[0m\n\u001b[0;32m----> 1\u001b[0;31m \u001b[0mfire_merra_intersection\u001b[0m \u001b[0;34m=\u001b[0m \u001b[0mgpd\u001b[0m\u001b[0;34m.\u001b[0m\u001b[0moverlay\u001b[0m\u001b[0;34m(\u001b[0m\u001b[0mfire_daily\u001b[0m\u001b[0;34m,\u001b[0m \u001b[0mmerra_grid\u001b[0m\u001b[0;34m,\u001b[0m \u001b[0mhow\u001b[0m\u001b[0;34m=\u001b[0m\u001b[0;34m'intersection'\u001b[0m\u001b[0;34m)\u001b[0m\u001b[0;34m\u001b[0m\u001b[0;34m\u001b[0m\u001b[0m\n\u001b[0m\u001b[1;32m      2\u001b[0m \u001b[0mfire_merra_intersection\u001b[0m\u001b[0;34m\u001b[0m\u001b[0;34m\u001b[0m\u001b[0m\n",
      "\u001b[0;32m~/anaconda3/envs/ML_py/lib/python3.7/site-packages/geopandas/tools/overlay.py\u001b[0m in \u001b[0;36moverlay\u001b[0;34m(df1, df2, how, keep_geom_type, make_valid)\u001b[0m\n\u001b[1;32m    290\u001b[0m             \u001b[0;32mreturn\u001b[0m \u001b[0m_overlay_difference\u001b[0m\u001b[0;34m(\u001b[0m\u001b[0mdf1\u001b[0m\u001b[0;34m,\u001b[0m \u001b[0mdf2\u001b[0m\u001b[0;34m)\u001b[0m\u001b[0;34m\u001b[0m\u001b[0;34m\u001b[0m\u001b[0m\n\u001b[1;32m    291\u001b[0m         \u001b[0;32melif\u001b[0m \u001b[0mhow\u001b[0m \u001b[0;34m==\u001b[0m \u001b[0;34m\"intersection\"\u001b[0m\u001b[0;34m:\u001b[0m\u001b[0;34m\u001b[0m\u001b[0;34m\u001b[0m\u001b[0m\n\u001b[0;32m--> 292\u001b[0;31m             \u001b[0mresult\u001b[0m \u001b[0;34m=\u001b[0m \u001b[0m_overlay_intersection\u001b[0m\u001b[0;34m(\u001b[0m\u001b[0mdf1\u001b[0m\u001b[0;34m,\u001b[0m \u001b[0mdf2\u001b[0m\u001b[0;34m)\u001b[0m\u001b[0;34m\u001b[0m\u001b[0;34m\u001b[0m\u001b[0m\n\u001b[0m\u001b[1;32m    293\u001b[0m         \u001b[0;32melif\u001b[0m \u001b[0mhow\u001b[0m \u001b[0;34m==\u001b[0m \u001b[0;34m\"symmetric_difference\"\u001b[0m\u001b[0;34m:\u001b[0m\u001b[0;34m\u001b[0m\u001b[0;34m\u001b[0m\u001b[0m\n\u001b[1;32m    294\u001b[0m             \u001b[0mresult\u001b[0m \u001b[0;34m=\u001b[0m \u001b[0m_overlay_symmetric_diff\u001b[0m\u001b[0;34m(\u001b[0m\u001b[0mdf1\u001b[0m\u001b[0;34m,\u001b[0m \u001b[0mdf2\u001b[0m\u001b[0;34m)\u001b[0m\u001b[0;34m\u001b[0m\u001b[0;34m\u001b[0m\u001b[0m\n",
      "\u001b[0;32m~/anaconda3/envs/ML_py/lib/python3.7/site-packages/geopandas/tools/overlay.py\u001b[0m in \u001b[0;36m_overlay_intersection\u001b[0;34m(df1, df2)\u001b[0m\n\u001b[1;32m     35\u001b[0m         \u001b[0mright\u001b[0m \u001b[0;34m=\u001b[0m \u001b[0mdf2\u001b[0m\u001b[0;34m.\u001b[0m\u001b[0mgeometry\u001b[0m\u001b[0;34m.\u001b[0m\u001b[0mtake\u001b[0m\u001b[0;34m(\u001b[0m\u001b[0midx2\u001b[0m\u001b[0;34m)\u001b[0m\u001b[0;34m\u001b[0m\u001b[0;34m\u001b[0m\u001b[0m\n\u001b[1;32m     36\u001b[0m         \u001b[0mright\u001b[0m\u001b[0;34m.\u001b[0m\u001b[0mreset_index\u001b[0m\u001b[0;34m(\u001b[0m\u001b[0mdrop\u001b[0m\u001b[0;34m=\u001b[0m\u001b[0;32mTrue\u001b[0m\u001b[0;34m,\u001b[0m \u001b[0minplace\u001b[0m\u001b[0;34m=\u001b[0m\u001b[0;32mTrue\u001b[0m\u001b[0;34m)\u001b[0m\u001b[0;34m\u001b[0m\u001b[0;34m\u001b[0m\u001b[0m\n\u001b[0;32m---> 37\u001b[0;31m         \u001b[0mintersections\u001b[0m \u001b[0;34m=\u001b[0m \u001b[0mleft\u001b[0m\u001b[0;34m.\u001b[0m\u001b[0mintersection\u001b[0m\u001b[0;34m(\u001b[0m\u001b[0mright\u001b[0m\u001b[0;34m)\u001b[0m\u001b[0;34m\u001b[0m\u001b[0;34m\u001b[0m\u001b[0m\n\u001b[0m\u001b[1;32m     38\u001b[0m         \u001b[0mpoly_ix\u001b[0m \u001b[0;34m=\u001b[0m \u001b[0mintersections\u001b[0m\u001b[0;34m.\u001b[0m\u001b[0mtype\u001b[0m\u001b[0;34m.\u001b[0m\u001b[0misin\u001b[0m\u001b[0;34m(\u001b[0m\u001b[0;34m[\u001b[0m\u001b[0;34m\"Polygon\"\u001b[0m\u001b[0;34m,\u001b[0m \u001b[0;34m\"MultiPolygon\"\u001b[0m\u001b[0;34m]\u001b[0m\u001b[0;34m)\u001b[0m\u001b[0;34m\u001b[0m\u001b[0;34m\u001b[0m\u001b[0m\n\u001b[1;32m     39\u001b[0m         \u001b[0mintersections\u001b[0m\u001b[0;34m.\u001b[0m\u001b[0mloc\u001b[0m\u001b[0;34m[\u001b[0m\u001b[0mpoly_ix\u001b[0m\u001b[0;34m]\u001b[0m \u001b[0;34m=\u001b[0m \u001b[0mintersections\u001b[0m\u001b[0;34m[\u001b[0m\u001b[0mpoly_ix\u001b[0m\u001b[0;34m]\u001b[0m\u001b[0;34m.\u001b[0m\u001b[0mbuffer\u001b[0m\u001b[0;34m(\u001b[0m\u001b[0;36m0\u001b[0m\u001b[0;34m)\u001b[0m\u001b[0;34m\u001b[0m\u001b[0;34m\u001b[0m\u001b[0m\n",
      "\u001b[0;32m~/anaconda3/envs/ML_py/lib/python3.7/site-packages/geopandas/base.py\u001b[0m in \u001b[0;36mintersection\u001b[0;34m(self, other, align)\u001b[0m\n\u001b[1;32m   2528\u001b[0m         \u001b[0mGeoSeries\u001b[0m\u001b[0;34m.\u001b[0m\u001b[0munion\u001b[0m\u001b[0;34m\u001b[0m\u001b[0;34m\u001b[0m\u001b[0m\n\u001b[1;32m   2529\u001b[0m         \"\"\"\n\u001b[0;32m-> 2530\u001b[0;31m         \u001b[0;32mreturn\u001b[0m \u001b[0m_binary_geo\u001b[0m\u001b[0;34m(\u001b[0m\u001b[0;34m\"intersection\"\u001b[0m\u001b[0;34m,\u001b[0m \u001b[0mself\u001b[0m\u001b[0;34m,\u001b[0m \u001b[0mother\u001b[0m\u001b[0;34m,\u001b[0m \u001b[0malign\u001b[0m\u001b[0;34m)\u001b[0m\u001b[0;34m\u001b[0m\u001b[0;34m\u001b[0m\u001b[0m\n\u001b[0m\u001b[1;32m   2531\u001b[0m \u001b[0;34m\u001b[0m\u001b[0m\n\u001b[1;32m   2532\u001b[0m     \u001b[0;31m#\u001b[0m\u001b[0;34m\u001b[0m\u001b[0;34m\u001b[0m\u001b[0;34m\u001b[0m\u001b[0m\n",
      "\u001b[0;32m~/anaconda3/envs/ML_py/lib/python3.7/site-packages/geopandas/base.py\u001b[0m in \u001b[0;36m_binary_geo\u001b[0;34m(op, this, other, align)\u001b[0m\n\u001b[1;32m     51\u001b[0m     \u001b[0;32mfrom\u001b[0m \u001b[0;34m.\u001b[0m\u001b[0mgeoseries\u001b[0m \u001b[0;32mimport\u001b[0m \u001b[0mGeoSeries\u001b[0m\u001b[0;34m\u001b[0m\u001b[0;34m\u001b[0m\u001b[0m\n\u001b[1;32m     52\u001b[0m \u001b[0;34m\u001b[0m\u001b[0m\n\u001b[0;32m---> 53\u001b[0;31m     \u001b[0mgeoms\u001b[0m\u001b[0;34m,\u001b[0m \u001b[0mindex\u001b[0m \u001b[0;34m=\u001b[0m \u001b[0m_delegate_binary_method\u001b[0m\u001b[0;34m(\u001b[0m\u001b[0mop\u001b[0m\u001b[0;34m,\u001b[0m \u001b[0mthis\u001b[0m\u001b[0;34m,\u001b[0m \u001b[0mother\u001b[0m\u001b[0;34m,\u001b[0m \u001b[0malign\u001b[0m\u001b[0;34m)\u001b[0m\u001b[0;34m\u001b[0m\u001b[0;34m\u001b[0m\u001b[0m\n\u001b[0m\u001b[1;32m     54\u001b[0m     \u001b[0;32mreturn\u001b[0m \u001b[0mGeoSeries\u001b[0m\u001b[0;34m(\u001b[0m\u001b[0mgeoms\u001b[0m\u001b[0;34m.\u001b[0m\u001b[0mdata\u001b[0m\u001b[0;34m,\u001b[0m \u001b[0mindex\u001b[0m\u001b[0;34m=\u001b[0m\u001b[0mindex\u001b[0m\u001b[0;34m,\u001b[0m \u001b[0mcrs\u001b[0m\u001b[0;34m=\u001b[0m\u001b[0mthis\u001b[0m\u001b[0;34m.\u001b[0m\u001b[0mcrs\u001b[0m\u001b[0;34m)\u001b[0m\u001b[0;34m\u001b[0m\u001b[0;34m\u001b[0m\u001b[0m\n\u001b[1;32m     55\u001b[0m \u001b[0;34m\u001b[0m\u001b[0m\n",
      "\u001b[0;32m~/anaconda3/envs/ML_py/lib/python3.7/site-packages/geopandas/base.py\u001b[0m in \u001b[0;36m_delegate_binary_method\u001b[0;34m(op, this, other, align, *args, **kwargs)\u001b[0m\n\u001b[1;32m     42\u001b[0m         \u001b[0;32mraise\u001b[0m \u001b[0mTypeError\u001b[0m\u001b[0;34m(\u001b[0m\u001b[0mtype\u001b[0m\u001b[0;34m(\u001b[0m\u001b[0mthis\u001b[0m\u001b[0;34m)\u001b[0m\u001b[0;34m,\u001b[0m \u001b[0mtype\u001b[0m\u001b[0;34m(\u001b[0m\u001b[0mother\u001b[0m\u001b[0;34m)\u001b[0m\u001b[0;34m)\u001b[0m\u001b[0;34m\u001b[0m\u001b[0;34m\u001b[0m\u001b[0m\n\u001b[1;32m     43\u001b[0m \u001b[0;34m\u001b[0m\u001b[0m\n\u001b[0;32m---> 44\u001b[0;31m     \u001b[0mdata\u001b[0m \u001b[0;34m=\u001b[0m \u001b[0mgetattr\u001b[0m\u001b[0;34m(\u001b[0m\u001b[0ma_this\u001b[0m\u001b[0;34m,\u001b[0m \u001b[0mop\u001b[0m\u001b[0;34m)\u001b[0m\u001b[0;34m(\u001b[0m\u001b[0mother\u001b[0m\u001b[0;34m,\u001b[0m \u001b[0;34m*\u001b[0m\u001b[0margs\u001b[0m\u001b[0;34m,\u001b[0m \u001b[0;34m**\u001b[0m\u001b[0mkwargs\u001b[0m\u001b[0;34m)\u001b[0m\u001b[0;34m\u001b[0m\u001b[0;34m\u001b[0m\u001b[0m\n\u001b[0m\u001b[1;32m     45\u001b[0m     \u001b[0;32mreturn\u001b[0m \u001b[0mdata\u001b[0m\u001b[0;34m,\u001b[0m \u001b[0mthis\u001b[0m\u001b[0;34m.\u001b[0m\u001b[0mindex\u001b[0m\u001b[0;34m\u001b[0m\u001b[0;34m\u001b[0m\u001b[0m\n\u001b[1;32m     46\u001b[0m \u001b[0;34m\u001b[0m\u001b[0m\n",
      "\u001b[0;32m~/anaconda3/envs/ML_py/lib/python3.7/site-packages/geopandas/array.py\u001b[0m in \u001b[0;36mintersection\u001b[0;34m(self, other)\u001b[0m\n\u001b[1;32m    608\u001b[0m     \u001b[0;32mdef\u001b[0m \u001b[0mintersection\u001b[0m\u001b[0;34m(\u001b[0m\u001b[0mself\u001b[0m\u001b[0;34m,\u001b[0m \u001b[0mother\u001b[0m\u001b[0;34m)\u001b[0m\u001b[0;34m:\u001b[0m\u001b[0;34m\u001b[0m\u001b[0;34m\u001b[0m\u001b[0m\n\u001b[1;32m    609\u001b[0m         return GeometryArray(\n\u001b[0;32m--> 610\u001b[0;31m             \u001b[0mself\u001b[0m\u001b[0;34m.\u001b[0m\u001b[0m_binary_method\u001b[0m\u001b[0;34m(\u001b[0m\u001b[0;34m\"intersection\"\u001b[0m\u001b[0;34m,\u001b[0m \u001b[0mself\u001b[0m\u001b[0;34m,\u001b[0m \u001b[0mother\u001b[0m\u001b[0;34m)\u001b[0m\u001b[0;34m,\u001b[0m \u001b[0mcrs\u001b[0m\u001b[0;34m=\u001b[0m\u001b[0mself\u001b[0m\u001b[0;34m.\u001b[0m\u001b[0mcrs\u001b[0m\u001b[0;34m\u001b[0m\u001b[0;34m\u001b[0m\u001b[0m\n\u001b[0m\u001b[1;32m    611\u001b[0m         )\n\u001b[1;32m    612\u001b[0m \u001b[0;34m\u001b[0m\u001b[0m\n",
      "\u001b[0;32m~/anaconda3/envs/ML_py/lib/python3.7/site-packages/geopandas/array.py\u001b[0m in \u001b[0;36m_binary_method\u001b[0;34m(op, left, right, **kwargs)\u001b[0m\n\u001b[1;32m    540\u001b[0m             \u001b[0mright\u001b[0m \u001b[0;34m=\u001b[0m \u001b[0mright\u001b[0m\u001b[0;34m.\u001b[0m\u001b[0mdata\u001b[0m\u001b[0;34m\u001b[0m\u001b[0;34m\u001b[0m\u001b[0m\n\u001b[1;32m    541\u001b[0m \u001b[0;34m\u001b[0m\u001b[0m\n\u001b[0;32m--> 542\u001b[0;31m         \u001b[0;32mreturn\u001b[0m \u001b[0mgetattr\u001b[0m\u001b[0;34m(\u001b[0m\u001b[0mvectorized\u001b[0m\u001b[0;34m,\u001b[0m \u001b[0mop\u001b[0m\u001b[0;34m)\u001b[0m\u001b[0;34m(\u001b[0m\u001b[0mleft\u001b[0m\u001b[0;34m.\u001b[0m\u001b[0mdata\u001b[0m\u001b[0;34m,\u001b[0m \u001b[0mright\u001b[0m\u001b[0;34m,\u001b[0m \u001b[0;34m**\u001b[0m\u001b[0mkwargs\u001b[0m\u001b[0;34m)\u001b[0m\u001b[0;34m\u001b[0m\u001b[0;34m\u001b[0m\u001b[0m\n\u001b[0m\u001b[1;32m    543\u001b[0m \u001b[0;34m\u001b[0m\u001b[0m\n\u001b[1;32m    544\u001b[0m     \u001b[0;32mdef\u001b[0m \u001b[0mcovers\u001b[0m\u001b[0;34m(\u001b[0m\u001b[0mself\u001b[0m\u001b[0;34m,\u001b[0m \u001b[0mother\u001b[0m\u001b[0;34m)\u001b[0m\u001b[0;34m:\u001b[0m\u001b[0;34m\u001b[0m\u001b[0;34m\u001b[0m\u001b[0m\n",
      "\u001b[0;32m~/anaconda3/envs/ML_py/lib/python3.7/site-packages/geopandas/_vectorized.py\u001b[0m in \u001b[0;36mintersection\u001b[0;34m(data, other)\u001b[0m\n\u001b[1;32m    733\u001b[0m         \u001b[0;32mreturn\u001b[0m \u001b[0m_binary_method\u001b[0m\u001b[0;34m(\u001b[0m\u001b[0;34m\"intersection\"\u001b[0m\u001b[0;34m,\u001b[0m \u001b[0mdata\u001b[0m\u001b[0;34m,\u001b[0m \u001b[0mother\u001b[0m\u001b[0;34m)\u001b[0m\u001b[0;34m\u001b[0m\u001b[0;34m\u001b[0m\u001b[0m\n\u001b[1;32m    734\u001b[0m     \u001b[0;32melse\u001b[0m\u001b[0;34m:\u001b[0m\u001b[0;34m\u001b[0m\u001b[0;34m\u001b[0m\u001b[0m\n\u001b[0;32m--> 735\u001b[0;31m         \u001b[0;32mreturn\u001b[0m \u001b[0m_binary_geo\u001b[0m\u001b[0;34m(\u001b[0m\u001b[0;34m\"intersection\"\u001b[0m\u001b[0;34m,\u001b[0m \u001b[0mdata\u001b[0m\u001b[0;34m,\u001b[0m \u001b[0mother\u001b[0m\u001b[0;34m)\u001b[0m\u001b[0;34m\u001b[0m\u001b[0;34m\u001b[0m\u001b[0m\n\u001b[0m\u001b[1;32m    736\u001b[0m \u001b[0;34m\u001b[0m\u001b[0m\n\u001b[1;32m    737\u001b[0m \u001b[0;34m\u001b[0m\u001b[0m\n",
      "\u001b[0;32m~/anaconda3/envs/ML_py/lib/python3.7/site-packages/geopandas/_vectorized.py\u001b[0m in \u001b[0;36m_binary_geo\u001b[0;34m(op, left, right)\u001b[0m\n\u001b[1;32m    302\u001b[0m                 \u001b[0;32mif\u001b[0m \u001b[0mthis_elem\u001b[0m \u001b[0;32mis\u001b[0m \u001b[0;32mnot\u001b[0m \u001b[0;32mNone\u001b[0m \u001b[0;32mand\u001b[0m \u001b[0mother_elem\u001b[0m \u001b[0;32mis\u001b[0m \u001b[0;32mnot\u001b[0m \u001b[0;32mNone\u001b[0m\u001b[0;34m\u001b[0m\u001b[0;34m\u001b[0m\u001b[0m\n\u001b[1;32m    303\u001b[0m                 \u001b[0;32melse\u001b[0m \u001b[0;32mNone\u001b[0m\u001b[0;34m\u001b[0m\u001b[0;34m\u001b[0m\u001b[0m\n\u001b[0;32m--> 304\u001b[0;31m                 \u001b[0;32mfor\u001b[0m \u001b[0mthis_elem\u001b[0m\u001b[0;34m,\u001b[0m \u001b[0mother_elem\u001b[0m \u001b[0;32min\u001b[0m \u001b[0mzip\u001b[0m\u001b[0;34m(\u001b[0m\u001b[0mleft\u001b[0m\u001b[0;34m,\u001b[0m \u001b[0mright\u001b[0m\u001b[0;34m)\u001b[0m\u001b[0;34m\u001b[0m\u001b[0;34m\u001b[0m\u001b[0m\n\u001b[0m\u001b[1;32m    305\u001b[0m             ]\n\u001b[1;32m    306\u001b[0m         \u001b[0;32mreturn\u001b[0m \u001b[0mdata\u001b[0m\u001b[0;34m\u001b[0m\u001b[0;34m\u001b[0m\u001b[0m\n",
      "\u001b[0;32m~/anaconda3/envs/ML_py/lib/python3.7/site-packages/geopandas/_vectorized.py\u001b[0m in \u001b[0;36m<listcomp>\u001b[0;34m(.0)\u001b[0m\n\u001b[1;32m    302\u001b[0m                 \u001b[0;32mif\u001b[0m \u001b[0mthis_elem\u001b[0m \u001b[0;32mis\u001b[0m \u001b[0;32mnot\u001b[0m \u001b[0;32mNone\u001b[0m \u001b[0;32mand\u001b[0m \u001b[0mother_elem\u001b[0m \u001b[0;32mis\u001b[0m \u001b[0;32mnot\u001b[0m \u001b[0;32mNone\u001b[0m\u001b[0;34m\u001b[0m\u001b[0;34m\u001b[0m\u001b[0m\n\u001b[1;32m    303\u001b[0m                 \u001b[0;32melse\u001b[0m \u001b[0;32mNone\u001b[0m\u001b[0;34m\u001b[0m\u001b[0;34m\u001b[0m\u001b[0m\n\u001b[0;32m--> 304\u001b[0;31m                 \u001b[0;32mfor\u001b[0m \u001b[0mthis_elem\u001b[0m\u001b[0;34m,\u001b[0m \u001b[0mother_elem\u001b[0m \u001b[0;32min\u001b[0m \u001b[0mzip\u001b[0m\u001b[0;34m(\u001b[0m\u001b[0mleft\u001b[0m\u001b[0;34m,\u001b[0m \u001b[0mright\u001b[0m\u001b[0;34m)\u001b[0m\u001b[0;34m\u001b[0m\u001b[0;34m\u001b[0m\u001b[0m\n\u001b[0m\u001b[1;32m    305\u001b[0m             ]\n\u001b[1;32m    306\u001b[0m         \u001b[0;32mreturn\u001b[0m \u001b[0mdata\u001b[0m\u001b[0;34m\u001b[0m\u001b[0;34m\u001b[0m\u001b[0m\n",
      "\u001b[0;32m~/anaconda3/envs/ML_py/lib/python3.7/site-packages/shapely/geometry/base.py\u001b[0m in \u001b[0;36mintersection\u001b[0;34m(self, other)\u001b[0m\n\u001b[1;32m    674\u001b[0m     \u001b[0;32mdef\u001b[0m \u001b[0mintersection\u001b[0m\u001b[0;34m(\u001b[0m\u001b[0mself\u001b[0m\u001b[0;34m,\u001b[0m \u001b[0mother\u001b[0m\u001b[0;34m)\u001b[0m\u001b[0;34m:\u001b[0m\u001b[0;34m\u001b[0m\u001b[0;34m\u001b[0m\u001b[0m\n\u001b[1;32m    675\u001b[0m         \u001b[0;34m\"\"\"Returns the intersection of the geometries\"\"\"\u001b[0m\u001b[0;34m\u001b[0m\u001b[0;34m\u001b[0m\u001b[0m\n\u001b[0;32m--> 676\u001b[0;31m         \u001b[0;32mreturn\u001b[0m \u001b[0mgeom_factory\u001b[0m\u001b[0;34m(\u001b[0m\u001b[0mself\u001b[0m\u001b[0;34m.\u001b[0m\u001b[0mimpl\u001b[0m\u001b[0;34m[\u001b[0m\u001b[0;34m'intersection'\u001b[0m\u001b[0;34m]\u001b[0m\u001b[0;34m(\u001b[0m\u001b[0mself\u001b[0m\u001b[0;34m,\u001b[0m \u001b[0mother\u001b[0m\u001b[0;34m)\u001b[0m\u001b[0;34m)\u001b[0m\u001b[0;34m\u001b[0m\u001b[0;34m\u001b[0m\u001b[0m\n\u001b[0m\u001b[1;32m    677\u001b[0m \u001b[0;34m\u001b[0m\u001b[0m\n\u001b[1;32m    678\u001b[0m     \u001b[0;32mdef\u001b[0m \u001b[0msymmetric_difference\u001b[0m\u001b[0;34m(\u001b[0m\u001b[0mself\u001b[0m\u001b[0;34m,\u001b[0m \u001b[0mother\u001b[0m\u001b[0;34m)\u001b[0m\u001b[0;34m:\u001b[0m\u001b[0;34m\u001b[0m\u001b[0;34m\u001b[0m\u001b[0m\n",
      "\u001b[0;32m~/anaconda3/envs/ML_py/lib/python3.7/site-packages/shapely/topology.py\u001b[0m in \u001b[0;36m__call__\u001b[0;34m(self, this, other, *args)\u001b[0m\n\u001b[1;32m     68\u001b[0m             err = TopologicalError(\n\u001b[1;32m     69\u001b[0m                     \"This operation could not be performed. Reason: unknown\")\n\u001b[0;32m---> 70\u001b[0;31m             \u001b[0mself\u001b[0m\u001b[0;34m.\u001b[0m\u001b[0m_check_topology\u001b[0m\u001b[0;34m(\u001b[0m\u001b[0merr\u001b[0m\u001b[0;34m,\u001b[0m \u001b[0mthis\u001b[0m\u001b[0;34m,\u001b[0m \u001b[0mother\u001b[0m\u001b[0;34m)\u001b[0m\u001b[0;34m\u001b[0m\u001b[0;34m\u001b[0m\u001b[0m\n\u001b[0m\u001b[1;32m     71\u001b[0m         \u001b[0;32mreturn\u001b[0m \u001b[0mproduct\u001b[0m\u001b[0;34m\u001b[0m\u001b[0;34m\u001b[0m\u001b[0m\n\u001b[1;32m     72\u001b[0m \u001b[0;34m\u001b[0m\u001b[0m\n",
      "\u001b[0;32m~/anaconda3/envs/ML_py/lib/python3.7/site-packages/shapely/topology.py\u001b[0m in \u001b[0;36m_check_topology\u001b[0;34m(self, err, *geoms)\u001b[0m\n\u001b[1;32m     37\u001b[0m                     \"Likely cause is invalidity of the geometry %s\" % (\n\u001b[1;32m     38\u001b[0m                         self.fn.__name__, repr(geom)))\n\u001b[0;32m---> 39\u001b[0;31m         \u001b[0;32mraise\u001b[0m \u001b[0merr\u001b[0m\u001b[0;34m\u001b[0m\u001b[0;34m\u001b[0m\u001b[0m\n\u001b[0m\u001b[1;32m     40\u001b[0m \u001b[0;34m\u001b[0m\u001b[0m\n\u001b[1;32m     41\u001b[0m \u001b[0;34m\u001b[0m\u001b[0m\n",
      "\u001b[0;31mTopologicalError\u001b[0m: This operation could not be performed. Reason: unknown"
     ]
    }
   ],
   "source": [
    "fire_merra_intersection = gpd.overlay(fire_daily, merra_grid, how='intersection')\n",
    "fire_merra_intersection"
   ]
  },
  {
   "cell_type": "code",
   "execution_count": 205,
   "id": "6a2118f7",
   "metadata": {},
   "outputs": [
    {
     "name": "stdout",
     "output_type": "stream",
     "text": [
      "0     7.903392e-04\n",
      "1     5.597992e-04\n",
      "2     7.276909e-04\n",
      "3     5.503629e-04\n",
      "4     1.838139e-03\n",
      "5     5.975371e-04\n",
      "6     4.293069e-04\n",
      "7     1.231709e-03\n",
      "8     3.150822e-05\n",
      "9     1.020839e-05\n",
      "10    7.929508e-08\n",
      "dtype: float64\n"
     ]
    },
    {
     "data": {
      "text/html": [
       "<div>\n",
       "<style scoped>\n",
       "    .dataframe tbody tr th:only-of-type {\n",
       "        vertical-align: middle;\n",
       "    }\n",
       "\n",
       "    .dataframe tbody tr th {\n",
       "        vertical-align: top;\n",
       "    }\n",
       "\n",
       "    .dataframe thead th {\n",
       "        text-align: right;\n",
       "    }\n",
       "</style>\n",
       "<table border=\"1\" class=\"dataframe\">\n",
       "  <thead>\n",
       "    <tr style=\"text-align: right;\">\n",
       "      <th></th>\n",
       "      <th>Fire Name</th>\n",
       "      <th>Current Day</th>\n",
       "      <th>Number of NEW VIIRS points</th>\n",
       "      <th>NEW FRP</th>\n",
       "      <th>fire_poly_area</th>\n",
       "      <th>lat</th>\n",
       "      <th>lon</th>\n",
       "      <th>merra_overlap_area</th>\n",
       "      <th>geometry</th>\n",
       "    </tr>\n",
       "  </thead>\n",
       "  <tbody>\n",
       "    <tr>\n",
       "      <th>0</th>\n",
       "      <td>LAKE</td>\n",
       "      <td>2020-08-14</td>\n",
       "      <td>70.0</td>\n",
       "      <td>11606.51</td>\n",
       "      <td>7.903392e-04</td>\n",
       "      <td>34.0</td>\n",
       "      <td>-119.375</td>\n",
       "      <td>7.903392e-04</td>\n",
       "      <td>MULTIPOLYGON (((-118.54766 34.66605, -118.5476...</td>\n",
       "    </tr>\n",
       "    <tr>\n",
       "      <th>1</th>\n",
       "      <td>LAKE</td>\n",
       "      <td>2020-08-15</td>\n",
       "      <td>34.0</td>\n",
       "      <td>7911.41</td>\n",
       "      <td>5.597992e-04</td>\n",
       "      <td>34.0</td>\n",
       "      <td>-119.375</td>\n",
       "      <td>5.597992e-04</td>\n",
       "      <td>MULTIPOLYGON (((-118.63049 34.61795, -118.6305...</td>\n",
       "    </tr>\n",
       "    <tr>\n",
       "      <th>2</th>\n",
       "      <td>LAKE</td>\n",
       "      <td>2020-08-16</td>\n",
       "      <td>28.0</td>\n",
       "      <td>1806.03</td>\n",
       "      <td>7.276909e-04</td>\n",
       "      <td>34.0</td>\n",
       "      <td>-119.375</td>\n",
       "      <td>7.276909e-04</td>\n",
       "      <td>MULTIPOLYGON (((-118.58890 34.64036, -118.5889...</td>\n",
       "    </tr>\n",
       "    <tr>\n",
       "      <th>3</th>\n",
       "      <td>LAKE</td>\n",
       "      <td>2020-08-17</td>\n",
       "      <td>37.0</td>\n",
       "      <td>1294.80</td>\n",
       "      <td>5.503629e-04</td>\n",
       "      <td>34.0</td>\n",
       "      <td>-119.375</td>\n",
       "      <td>5.503629e-04</td>\n",
       "      <td>MULTIPOLYGON (((-118.59562 34.65000, -118.5956...</td>\n",
       "    </tr>\n",
       "    <tr>\n",
       "      <th>4</th>\n",
       "      <td>LAKE</td>\n",
       "      <td>2020-08-18</td>\n",
       "      <td>133.0</td>\n",
       "      <td>2547.34</td>\n",
       "      <td>1.838139e-03</td>\n",
       "      <td>34.0</td>\n",
       "      <td>-119.375</td>\n",
       "      <td>1.838139e-03</td>\n",
       "      <td>MULTIPOLYGON (((-118.58575 34.63830, -118.5857...</td>\n",
       "    </tr>\n",
       "    <tr>\n",
       "      <th>5</th>\n",
       "      <td>LAKE</td>\n",
       "      <td>2020-08-19</td>\n",
       "      <td>55.0</td>\n",
       "      <td>3272.50</td>\n",
       "      <td>5.975371e-04</td>\n",
       "      <td>34.0</td>\n",
       "      <td>-119.375</td>\n",
       "      <td>5.975371e-04</td>\n",
       "      <td>MULTIPOLYGON (((-118.58912 34.63759, -118.5892...</td>\n",
       "    </tr>\n",
       "    <tr>\n",
       "      <th>6</th>\n",
       "      <td>LAKE</td>\n",
       "      <td>2020-08-20</td>\n",
       "      <td>47.0</td>\n",
       "      <td>3038.00</td>\n",
       "      <td>4.293069e-04</td>\n",
       "      <td>34.0</td>\n",
       "      <td>-119.375</td>\n",
       "      <td>4.293069e-04</td>\n",
       "      <td>MULTIPOLYGON (((-118.60621 34.64137, -118.6062...</td>\n",
       "    </tr>\n",
       "    <tr>\n",
       "      <th>7</th>\n",
       "      <td>LAKE</td>\n",
       "      <td>2020-08-21</td>\n",
       "      <td>63.0</td>\n",
       "      <td>2983.50</td>\n",
       "      <td>1.231709e-03</td>\n",
       "      <td>34.0</td>\n",
       "      <td>-119.375</td>\n",
       "      <td>1.231709e-03</td>\n",
       "      <td>MULTIPOLYGON (((-118.59764 34.64100, -118.5976...</td>\n",
       "    </tr>\n",
       "    <tr>\n",
       "      <th>8</th>\n",
       "      <td>LAKE</td>\n",
       "      <td>2020-08-22</td>\n",
       "      <td>6.0</td>\n",
       "      <td>34.50</td>\n",
       "      <td>3.150822e-05</td>\n",
       "      <td>34.0</td>\n",
       "      <td>-119.375</td>\n",
       "      <td>3.150822e-05</td>\n",
       "      <td>MULTIPOLYGON (((-118.60718 34.63243, -118.6071...</td>\n",
       "    </tr>\n",
       "    <tr>\n",
       "      <th>9</th>\n",
       "      <td>LAKE</td>\n",
       "      <td>2020-08-23</td>\n",
       "      <td>2.0</td>\n",
       "      <td>30.80</td>\n",
       "      <td>1.020839e-05</td>\n",
       "      <td>34.0</td>\n",
       "      <td>-119.375</td>\n",
       "      <td>1.020839e-05</td>\n",
       "      <td>MULTIPOLYGON (((-118.62787 34.63732, -118.6279...</td>\n",
       "    </tr>\n",
       "    <tr>\n",
       "      <th>10</th>\n",
       "      <td>LAKE</td>\n",
       "      <td>2020-08-30</td>\n",
       "      <td>1.0</td>\n",
       "      <td>1.74</td>\n",
       "      <td>7.929508e-08</td>\n",
       "      <td>34.0</td>\n",
       "      <td>-119.375</td>\n",
       "      <td>7.929508e-08</td>\n",
       "      <td>POLYGON ((-118.54972 34.69505, -118.54978 34.6...</td>\n",
       "    </tr>\n",
       "  </tbody>\n",
       "</table>\n",
       "</div>"
      ],
      "text/plain": [
       "   Fire Name Current Day  Number of NEW VIIRS points   NEW FRP  \\\n",
       "0       LAKE  2020-08-14                        70.0  11606.51   \n",
       "1       LAKE  2020-08-15                        34.0   7911.41   \n",
       "2       LAKE  2020-08-16                        28.0   1806.03   \n",
       "3       LAKE  2020-08-17                        37.0   1294.80   \n",
       "4       LAKE  2020-08-18                       133.0   2547.34   \n",
       "5       LAKE  2020-08-19                        55.0   3272.50   \n",
       "6       LAKE  2020-08-20                        47.0   3038.00   \n",
       "7       LAKE  2020-08-21                        63.0   2983.50   \n",
       "8       LAKE  2020-08-22                         6.0     34.50   \n",
       "9       LAKE  2020-08-23                         2.0     30.80   \n",
       "10      LAKE  2020-08-30                         1.0      1.74   \n",
       "\n",
       "    fire_poly_area   lat      lon  merra_overlap_area  \\\n",
       "0     7.903392e-04  34.0 -119.375        7.903392e-04   \n",
       "1     5.597992e-04  34.0 -119.375        5.597992e-04   \n",
       "2     7.276909e-04  34.0 -119.375        7.276909e-04   \n",
       "3     5.503629e-04  34.0 -119.375        5.503629e-04   \n",
       "4     1.838139e-03  34.0 -119.375        1.838139e-03   \n",
       "5     5.975371e-04  34.0 -119.375        5.975371e-04   \n",
       "6     4.293069e-04  34.0 -119.375        4.293069e-04   \n",
       "7     1.231709e-03  34.0 -119.375        1.231709e-03   \n",
       "8     3.150822e-05  34.0 -119.375        3.150822e-05   \n",
       "9     1.020839e-05  34.0 -119.375        1.020839e-05   \n",
       "10    7.929508e-08  34.0 -119.375        7.929508e-08   \n",
       "\n",
       "                                             geometry  \n",
       "0   MULTIPOLYGON (((-118.54766 34.66605, -118.5476...  \n",
       "1   MULTIPOLYGON (((-118.63049 34.61795, -118.6305...  \n",
       "2   MULTIPOLYGON (((-118.58890 34.64036, -118.5889...  \n",
       "3   MULTIPOLYGON (((-118.59562 34.65000, -118.5956...  \n",
       "4   MULTIPOLYGON (((-118.58575 34.63830, -118.5857...  \n",
       "5   MULTIPOLYGON (((-118.58912 34.63759, -118.5892...  \n",
       "6   MULTIPOLYGON (((-118.60621 34.64137, -118.6062...  \n",
       "7   MULTIPOLYGON (((-118.59764 34.64100, -118.5976...  \n",
       "8   MULTIPOLYGON (((-118.60718 34.63243, -118.6071...  \n",
       "9   MULTIPOLYGON (((-118.62787 34.63732, -118.6279...  \n",
       "10  POLYGON ((-118.54972 34.69505, -118.54978 34.6...  "
      ]
     },
     "execution_count": 205,
     "metadata": {},
     "output_type": "execute_result"
    }
   ],
   "source": [
    "print(fire_merra_intersection['geometry'].area)\n",
    "\n",
    "fire_merra_intersection = pd.concat([fire_merra_intersection[['Fire Name', 'Current Day','Number of NEW VIIRS points','NEW FRP','fire_poly_area','lat','lon']],\n",
    "                                     pd.DataFrame({'merra_overlap_area': fire_merra_intersection['geometry'].area}),\n",
    "                                     fire_merra_intersection['geometry']], axis=1)\n",
    "\n",
    "fire_merra_intersection"
   ]
  },
  {
   "cell_type": "code",
   "execution_count": 171,
   "id": "c6bf9c68",
   "metadata": {},
   "outputs": [
    {
     "data": {
      "image/png": "[encoded data removed]",
      "text/plain": [
       "<Figure size 1080x720 with 1 Axes>"
      ]
     },
     "metadata": {
      "needs_background": "light"
     },
     "output_type": "display_data"
    }
   ],
   "source": [
    "fig = plt.figure(figsize=(15,10))\n",
    "ax= fig.add_subplot(111,projection=ccrs.PlateCarree())\n",
    "#ax.set_extent([-120, -118, 36.5,38])\n",
    "\n",
    "merra_grid.loc[(merra_grid['lat']==37)&(merra_grid['lon']==-120)].plot(ax=ax)\n",
    "fire_polygons.plot(ax=ax, color='k')\n",
    "fire_merra_intersection.plot(column = fire_merra_intersection['Current Day'], ax=ax, cmap='OrRd', alpha=0.5)\n",
    "\n",
    "gl = ax.gridlines(crs=ccrs.PlateCarree(), draw_labels=True,\\\n",
    "                  linewidth=2, color='gray', alpha=0.5, linestyle='--')\n",
    "gl.top_labels = False\n",
    "gl.right_labels = False\n",
    "plt.title('Thapa With Daily Polygons ')\n",
    "plt.show()"
   ]
  },
  {
   "cell_type": "code",
   "execution_count": 114,
   "id": "977e0aab",
   "metadata": {},
   "outputs": [
    {
     "ename": "ValueError",
     "evalue": "Invalid RGBA argument: '2020-08-14'",
     "output_type": "error",
     "traceback": [
      "\u001b[0;31m---------------------------------------------------------------------------\u001b[0m",
      "\u001b[0;31mValueError\u001b[0m                                Traceback (most recent call last)",
      "\u001b[0;32m<ipython-input-114-1dc8c4b2bf37>\u001b[0m in \u001b[0;36m<module>\u001b[0;34m\u001b[0m\n\u001b[1;32m      1\u001b[0m \u001b[0mfig\u001b[0m\u001b[0;34m,\u001b[0m\u001b[0max\u001b[0m \u001b[0;34m=\u001b[0m \u001b[0mplt\u001b[0m\u001b[0;34m.\u001b[0m\u001b[0msubplots\u001b[0m\u001b[0;34m(\u001b[0m\u001b[0mfigsize\u001b[0m\u001b[0;34m=\u001b[0m\u001b[0;34m(\u001b[0m\u001b[0;36m10\u001b[0m\u001b[0;34m,\u001b[0m\u001b[0;36m10\u001b[0m\u001b[0;34m)\u001b[0m\u001b[0;34m)\u001b[0m\u001b[0;34m\u001b[0m\u001b[0;34m\u001b[0m\u001b[0m\n\u001b[1;32m      2\u001b[0m \u001b[0mdf_merra_grid\u001b[0m\u001b[0;34m.\u001b[0m\u001b[0miloc\u001b[0m\u001b[0;34m[\u001b[0m\u001b[0;36m0\u001b[0m\u001b[0;34m:\u001b[0m\u001b[0;36m5\u001b[0m\u001b[0;34m,\u001b[0m\u001b[0;34m:\u001b[0m\u001b[0;34m]\u001b[0m\u001b[0;34m.\u001b[0m\u001b[0mplot\u001b[0m\u001b[0;34m(\u001b[0m\u001b[0max\u001b[0m\u001b[0;34m=\u001b[0m\u001b[0max\u001b[0m\u001b[0;34m)\u001b[0m\u001b[0;34m\u001b[0m\u001b[0;34m\u001b[0m\u001b[0m\n\u001b[0;32m----> 3\u001b[0;31m \u001b[0mfire_polygons\u001b[0m\u001b[0;34m.\u001b[0m\u001b[0mplot\u001b[0m\u001b[0;34m(\u001b[0m\u001b[0max\u001b[0m\u001b[0;34m=\u001b[0m\u001b[0max\u001b[0m\u001b[0;34m,\u001b[0m \u001b[0mcolor\u001b[0m\u001b[0;34m=\u001b[0m\u001b[0mdf\u001b[0m\u001b[0;34m[\u001b[0m\u001b[0;34m'Current Day'\u001b[0m\u001b[0;34m]\u001b[0m\u001b[0;34m)\u001b[0m\u001b[0;34m\u001b[0m\u001b[0;34m\u001b[0m\u001b[0m\n\u001b[0m\u001b[1;32m      4\u001b[0m \u001b[0mdf\u001b[0m\u001b[0;34m.\u001b[0m\u001b[0mplot\u001b[0m\u001b[0;34m(\u001b[0m\u001b[0mcolumn\u001b[0m\u001b[0;34m=\u001b[0m\u001b[0mdf\u001b[0m\u001b[0;34m[\u001b[0m\u001b[0;34m'Current Day'\u001b[0m\u001b[0;34m]\u001b[0m\u001b[0;34m,\u001b[0m \u001b[0max\u001b[0m\u001b[0;34m=\u001b[0m\u001b[0max\u001b[0m\u001b[0;34m,\u001b[0m \u001b[0mcmap\u001b[0m\u001b[0;34m=\u001b[0m\u001b[0;34m'OrRd'\u001b[0m\u001b[0;34m)\u001b[0m\u001b[0;34m\u001b[0m\u001b[0;34m\u001b[0m\u001b[0m\n\u001b[1;32m      5\u001b[0m \u001b[0;31m#ac_thapa_daily.plot(column = ac_thapa_daily['Current Day'], ax=ax, cmap='OrRd')\u001b[0m\u001b[0;34m\u001b[0m\u001b[0;34m\u001b[0m\u001b[0;34m\u001b[0m\u001b[0m\n",
      "\u001b[0;32m~/anaconda3/envs/ML_py/lib/python3.7/site-packages/geopandas/plotting.py\u001b[0m in \u001b[0;36m__call__\u001b[0;34m(self, *args, **kwargs)\u001b[0m\n\u001b[1;32m    923\u001b[0m             \u001b[0mkind\u001b[0m \u001b[0;34m=\u001b[0m \u001b[0mkwargs\u001b[0m\u001b[0;34m.\u001b[0m\u001b[0mpop\u001b[0m\u001b[0;34m(\u001b[0m\u001b[0;34m\"kind\"\u001b[0m\u001b[0;34m,\u001b[0m \u001b[0;34m\"geo\"\u001b[0m\u001b[0;34m)\u001b[0m\u001b[0;34m\u001b[0m\u001b[0;34m\u001b[0m\u001b[0m\n\u001b[1;32m    924\u001b[0m             \u001b[0;32mif\u001b[0m \u001b[0mkind\u001b[0m \u001b[0;34m==\u001b[0m \u001b[0;34m\"geo\"\u001b[0m\u001b[0;34m:\u001b[0m\u001b[0;34m\u001b[0m\u001b[0;34m\u001b[0m\u001b[0m\n\u001b[0;32m--> 925\u001b[0;31m                 \u001b[0;32mreturn\u001b[0m \u001b[0mplot_dataframe\u001b[0m\u001b[0;34m(\u001b[0m\u001b[0mdata\u001b[0m\u001b[0;34m,\u001b[0m \u001b[0;34m*\u001b[0m\u001b[0margs\u001b[0m\u001b[0;34m,\u001b[0m \u001b[0;34m**\u001b[0m\u001b[0mkwargs\u001b[0m\u001b[0;34m)\u001b[0m\u001b[0;34m\u001b[0m\u001b[0;34m\u001b[0m\u001b[0m\n\u001b[0m\u001b[1;32m    926\u001b[0m             \u001b[0;32mif\u001b[0m \u001b[0mkind\u001b[0m \u001b[0;32min\u001b[0m \u001b[0mself\u001b[0m\u001b[0;34m.\u001b[0m\u001b[0m_pandas_kinds\u001b[0m\u001b[0;34m:\u001b[0m\u001b[0;34m\u001b[0m\u001b[0;34m\u001b[0m\u001b[0m\n\u001b[1;32m    927\u001b[0m                 \u001b[0;31m# Access pandas plots\u001b[0m\u001b[0;34m\u001b[0m\u001b[0;34m\u001b[0m\u001b[0;34m\u001b[0m\u001b[0m\n",
      "\u001b[0;32m~/anaconda3/envs/ML_py/lib/python3.7/site-packages/geopandas/plotting.py\u001b[0m in \u001b[0;36mplot_dataframe\u001b[0;34m(df, column, cmap, color, ax, cax, categorical, legend, scheme, k, vmin, vmax, markersize, figsize, legend_kwds, categories, classification_kwds, missing_kwds, aspect, **style_kwds)\u001b[0m\n\u001b[1;32m    695\u001b[0m             \u001b[0mmarkersize\u001b[0m\u001b[0;34m=\u001b[0m\u001b[0mmarkersize\u001b[0m\u001b[0;34m,\u001b[0m\u001b[0;34m\u001b[0m\u001b[0;34m\u001b[0m\u001b[0m\n\u001b[1;32m    696\u001b[0m             \u001b[0maspect\u001b[0m\u001b[0;34m=\u001b[0m\u001b[0maspect\u001b[0m\u001b[0;34m,\u001b[0m\u001b[0;34m\u001b[0m\u001b[0;34m\u001b[0m\u001b[0m\n\u001b[0;32m--> 697\u001b[0;31m             \u001b[0;34m**\u001b[0m\u001b[0mstyle_kwds\u001b[0m\u001b[0;34m,\u001b[0m\u001b[0;34m\u001b[0m\u001b[0;34m\u001b[0m\u001b[0m\n\u001b[0m\u001b[1;32m    698\u001b[0m         )\n\u001b[1;32m    699\u001b[0m \u001b[0;34m\u001b[0m\u001b[0m\n",
      "\u001b[0;32m~/anaconda3/envs/ML_py/lib/python3.7/site-packages/geopandas/plotting.py\u001b[0m in \u001b[0;36mplot_series\u001b[0;34m(s, cmap, color, ax, figsize, aspect, **style_kwds)\u001b[0m\n\u001b[1;32m    446\u001b[0m         \u001b[0mvalues_\u001b[0m \u001b[0;34m=\u001b[0m \u001b[0mvalues\u001b[0m\u001b[0;34m[\u001b[0m\u001b[0mpoly_idx\u001b[0m\u001b[0;34m]\u001b[0m \u001b[0;32mif\u001b[0m \u001b[0mcmap\u001b[0m \u001b[0;32melse\u001b[0m \u001b[0;32mNone\u001b[0m\u001b[0;34m\u001b[0m\u001b[0;34m\u001b[0m\u001b[0m\n\u001b[1;32m    447\u001b[0m         _plot_polygon_collection(\n\u001b[0;32m--> 448\u001b[0;31m             \u001b[0max\u001b[0m\u001b[0;34m,\u001b[0m \u001b[0mpolys\u001b[0m\u001b[0;34m,\u001b[0m \u001b[0mvalues_\u001b[0m\u001b[0;34m,\u001b[0m \u001b[0mfacecolor\u001b[0m\u001b[0;34m=\u001b[0m\u001b[0mfacecolor\u001b[0m\u001b[0;34m,\u001b[0m \u001b[0mcmap\u001b[0m\u001b[0;34m=\u001b[0m\u001b[0mcmap\u001b[0m\u001b[0;34m,\u001b[0m \u001b[0;34m**\u001b[0m\u001b[0mstyle_kwds\u001b[0m\u001b[0;34m\u001b[0m\u001b[0;34m\u001b[0m\u001b[0m\n\u001b[0m\u001b[1;32m    449\u001b[0m         )\n\u001b[1;32m    450\u001b[0m \u001b[0;34m\u001b[0m\u001b[0m\n",
      "\u001b[0;32m~/anaconda3/envs/ML_py/lib/python3.7/site-packages/geopandas/plotting.py\u001b[0m in \u001b[0;36m_plot_polygon_collection\u001b[0;34m(ax, geoms, values, color, cmap, vmin, vmax, **kwargs)\u001b[0m\n\u001b[1;32m    170\u001b[0m \u001b[0;34m\u001b[0m\u001b[0m\n\u001b[1;32m    171\u001b[0m     collection = PatchCollection(\n\u001b[0;32m--> 172\u001b[0;31m         \u001b[0;34m[\u001b[0m\u001b[0m_PolygonPatch\u001b[0m\u001b[0;34m(\u001b[0m\u001b[0mpoly\u001b[0m\u001b[0;34m)\u001b[0m \u001b[0;32mfor\u001b[0m \u001b[0mpoly\u001b[0m \u001b[0;32min\u001b[0m \u001b[0mgeoms\u001b[0m \u001b[0;32mif\u001b[0m \u001b[0;32mnot\u001b[0m \u001b[0mpoly\u001b[0m\u001b[0;34m.\u001b[0m\u001b[0mis_empty\u001b[0m\u001b[0;34m]\u001b[0m\u001b[0;34m,\u001b[0m \u001b[0;34m**\u001b[0m\u001b[0mkwargs\u001b[0m\u001b[0;34m\u001b[0m\u001b[0;34m\u001b[0m\u001b[0m\n\u001b[0m\u001b[1;32m    173\u001b[0m     )\n\u001b[1;32m    174\u001b[0m \u001b[0;34m\u001b[0m\u001b[0m\n",
      "\u001b[0;32m~/anaconda3/envs/ML_py/lib/python3.7/site-packages/matplotlib/collections.py\u001b[0m in \u001b[0;36m__init__\u001b[0;34m(self, patches, match_original, **kwargs)\u001b[0m\n\u001b[1;32m   1812\u001b[0m             \u001b[0mkwargs\u001b[0m\u001b[0;34m[\u001b[0m\u001b[0;34m'antialiaseds'\u001b[0m\u001b[0;34m]\u001b[0m \u001b[0;34m=\u001b[0m \u001b[0;34m[\u001b[0m\u001b[0mp\u001b[0m\u001b[0;34m.\u001b[0m\u001b[0mget_antialiased\u001b[0m\u001b[0;34m(\u001b[0m\u001b[0;34m)\u001b[0m \u001b[0;32mfor\u001b[0m \u001b[0mp\u001b[0m \u001b[0;32min\u001b[0m \u001b[0mpatches\u001b[0m\u001b[0;34m]\u001b[0m\u001b[0;34m\u001b[0m\u001b[0;34m\u001b[0m\u001b[0m\n\u001b[1;32m   1813\u001b[0m \u001b[0;34m\u001b[0m\u001b[0m\n\u001b[0;32m-> 1814\u001b[0;31m         \u001b[0mCollection\u001b[0m\u001b[0;34m.\u001b[0m\u001b[0m__init__\u001b[0m\u001b[0;34m(\u001b[0m\u001b[0mself\u001b[0m\u001b[0;34m,\u001b[0m \u001b[0;34m**\u001b[0m\u001b[0mkwargs\u001b[0m\u001b[0;34m)\u001b[0m\u001b[0;34m\u001b[0m\u001b[0;34m\u001b[0m\u001b[0m\n\u001b[0m\u001b[1;32m   1815\u001b[0m \u001b[0;34m\u001b[0m\u001b[0m\n\u001b[1;32m   1816\u001b[0m         \u001b[0mself\u001b[0m\u001b[0;34m.\u001b[0m\u001b[0mset_paths\u001b[0m\u001b[0;34m(\u001b[0m\u001b[0mpatches\u001b[0m\u001b[0;34m)\u001b[0m\u001b[0;34m\u001b[0m\u001b[0;34m\u001b[0m\u001b[0m\n",
      "\u001b[0;32m~/anaconda3/envs/ML_py/lib/python3.7/site-packages/matplotlib/cbook/deprecation.py\u001b[0m in \u001b[0;36mwrapper\u001b[0;34m(*inner_args, **inner_kwargs)\u001b[0m\n\u001b[1;32m    409\u001b[0m                          \u001b[0;32melse\u001b[0m \u001b[0mdeprecation_addendum\u001b[0m\u001b[0;34m,\u001b[0m\u001b[0;34m\u001b[0m\u001b[0;34m\u001b[0m\u001b[0m\n\u001b[1;32m    410\u001b[0m                 **kwargs)\n\u001b[0;32m--> 411\u001b[0;31m         \u001b[0;32mreturn\u001b[0m \u001b[0mfunc\u001b[0m\u001b[0;34m(\u001b[0m\u001b[0;34m*\u001b[0m\u001b[0minner_args\u001b[0m\u001b[0;34m,\u001b[0m \u001b[0;34m**\u001b[0m\u001b[0minner_kwargs\u001b[0m\u001b[0;34m)\u001b[0m\u001b[0;34m\u001b[0m\u001b[0;34m\u001b[0m\u001b[0m\n\u001b[0m\u001b[1;32m    412\u001b[0m \u001b[0;34m\u001b[0m\u001b[0m\n\u001b[1;32m    413\u001b[0m     \u001b[0;32mreturn\u001b[0m \u001b[0mwrapper\u001b[0m\u001b[0;34m\u001b[0m\u001b[0;34m\u001b[0m\u001b[0m\n",
      "\u001b[0;32m~/anaconda3/envs/ML_py/lib/python3.7/site-packages/matplotlib/collections.py\u001b[0m in \u001b[0;36m__init__\u001b[0;34m(self, edgecolors, facecolors, linewidths, linestyles, capstyle, joinstyle, antialiaseds, offsets, transOffset, norm, cmap, pickradius, hatch, urls, offset_position, zorder, **kwargs)\u001b[0m\n\u001b[1;32m    211\u001b[0m \u001b[0;34m\u001b[0m\u001b[0m\n\u001b[1;32m    212\u001b[0m         \u001b[0mself\u001b[0m\u001b[0;34m.\u001b[0m\u001b[0m_path_effects\u001b[0m \u001b[0;34m=\u001b[0m \u001b[0;32mNone\u001b[0m\u001b[0;34m\u001b[0m\u001b[0;34m\u001b[0m\u001b[0m\n\u001b[0;32m--> 213\u001b[0;31m         \u001b[0mself\u001b[0m\u001b[0;34m.\u001b[0m\u001b[0mupdate\u001b[0m\u001b[0;34m(\u001b[0m\u001b[0mkwargs\u001b[0m\u001b[0;34m)\u001b[0m\u001b[0;34m\u001b[0m\u001b[0;34m\u001b[0m\u001b[0m\n\u001b[0m\u001b[1;32m    214\u001b[0m         \u001b[0mself\u001b[0m\u001b[0;34m.\u001b[0m\u001b[0m_paths\u001b[0m \u001b[0;34m=\u001b[0m \u001b[0;32mNone\u001b[0m\u001b[0;34m\u001b[0m\u001b[0;34m\u001b[0m\u001b[0m\n\u001b[1;32m    215\u001b[0m \u001b[0;34m\u001b[0m\u001b[0m\n",
      "\u001b[0;32m~/anaconda3/envs/ML_py/lib/python3.7/site-packages/matplotlib/artist.py\u001b[0m in \u001b[0;36mupdate\u001b[0;34m(self, props)\u001b[0m\n\u001b[1;32m    996\u001b[0m                         raise AttributeError(f\"{type(self).__name__!r} object \"\n\u001b[1;32m    997\u001b[0m                                              f\"has no property {k!r}\")\n\u001b[0;32m--> 998\u001b[0;31m                     \u001b[0mret\u001b[0m\u001b[0;34m.\u001b[0m\u001b[0mappend\u001b[0m\u001b[0;34m(\u001b[0m\u001b[0mfunc\u001b[0m\u001b[0;34m(\u001b[0m\u001b[0mv\u001b[0m\u001b[0;34m)\u001b[0m\u001b[0;34m)\u001b[0m\u001b[0;34m\u001b[0m\u001b[0;34m\u001b[0m\u001b[0m\n\u001b[0m\u001b[1;32m    999\u001b[0m         \u001b[0;32mif\u001b[0m \u001b[0mret\u001b[0m\u001b[0;34m:\u001b[0m\u001b[0;34m\u001b[0m\u001b[0;34m\u001b[0m\u001b[0m\n\u001b[1;32m   1000\u001b[0m             \u001b[0mself\u001b[0m\u001b[0;34m.\u001b[0m\u001b[0mpchanged\u001b[0m\u001b[0;34m(\u001b[0m\u001b[0;34m)\u001b[0m\u001b[0;34m\u001b[0m\u001b[0;34m\u001b[0m\u001b[0m\n",
      "\u001b[0;32m~/anaconda3/envs/ML_py/lib/python3.7/site-packages/matplotlib/collections.py\u001b[0m in \u001b[0;36mset_facecolor\u001b[0;34m(self, c)\u001b[0m\n\u001b[1;32m    778\u001b[0m         \"\"\"\n\u001b[1;32m    779\u001b[0m         \u001b[0mself\u001b[0m\u001b[0;34m.\u001b[0m\u001b[0m_original_facecolor\u001b[0m \u001b[0;34m=\u001b[0m \u001b[0mc\u001b[0m\u001b[0;34m\u001b[0m\u001b[0;34m\u001b[0m\u001b[0m\n\u001b[0;32m--> 780\u001b[0;31m         \u001b[0mself\u001b[0m\u001b[0;34m.\u001b[0m\u001b[0m_set_facecolor\u001b[0m\u001b[0;34m(\u001b[0m\u001b[0mc\u001b[0m\u001b[0;34m)\u001b[0m\u001b[0;34m\u001b[0m\u001b[0;34m\u001b[0m\u001b[0m\n\u001b[0m\u001b[1;32m    781\u001b[0m \u001b[0;34m\u001b[0m\u001b[0m\n\u001b[1;32m    782\u001b[0m     \u001b[0;32mdef\u001b[0m \u001b[0mget_facecolor\u001b[0m\u001b[0;34m(\u001b[0m\u001b[0mself\u001b[0m\u001b[0;34m)\u001b[0m\u001b[0;34m:\u001b[0m\u001b[0;34m\u001b[0m\u001b[0;34m\u001b[0m\u001b[0m\n",
      "\u001b[0;32m~/anaconda3/envs/ML_py/lib/python3.7/site-packages/matplotlib/collections.py\u001b[0m in \u001b[0;36m_set_facecolor\u001b[0;34m(self, c)\u001b[0m\n\u001b[1;32m    762\u001b[0m         \u001b[0;32mexcept\u001b[0m \u001b[0mAttributeError\u001b[0m\u001b[0;34m:\u001b[0m\u001b[0;34m\u001b[0m\u001b[0;34m\u001b[0m\u001b[0m\n\u001b[1;32m    763\u001b[0m             \u001b[0;32mpass\u001b[0m\u001b[0;34m\u001b[0m\u001b[0;34m\u001b[0m\u001b[0m\n\u001b[0;32m--> 764\u001b[0;31m         \u001b[0mself\u001b[0m\u001b[0;34m.\u001b[0m\u001b[0m_facecolors\u001b[0m \u001b[0;34m=\u001b[0m \u001b[0mmcolors\u001b[0m\u001b[0;34m.\u001b[0m\u001b[0mto_rgba_array\u001b[0m\u001b[0;34m(\u001b[0m\u001b[0mc\u001b[0m\u001b[0;34m,\u001b[0m \u001b[0mself\u001b[0m\u001b[0;34m.\u001b[0m\u001b[0m_alpha\u001b[0m\u001b[0;34m)\u001b[0m\u001b[0;34m\u001b[0m\u001b[0;34m\u001b[0m\u001b[0m\n\u001b[0m\u001b[1;32m    765\u001b[0m         \u001b[0mself\u001b[0m\u001b[0;34m.\u001b[0m\u001b[0mstale\u001b[0m \u001b[0;34m=\u001b[0m \u001b[0;32mTrue\u001b[0m\u001b[0;34m\u001b[0m\u001b[0;34m\u001b[0m\u001b[0m\n\u001b[1;32m    766\u001b[0m \u001b[0;34m\u001b[0m\u001b[0m\n",
      "\u001b[0;32m~/anaconda3/envs/ML_py/lib/python3.7/site-packages/matplotlib/colors.py\u001b[0m in \u001b[0;36mto_rgba_array\u001b[0;34m(c, alpha)\u001b[0m\n\u001b[1;32m    339\u001b[0m         \u001b[0;32mreturn\u001b[0m \u001b[0mnp\u001b[0m\u001b[0;34m.\u001b[0m\u001b[0mzeros\u001b[0m\u001b[0;34m(\u001b[0m\u001b[0;34m(\u001b[0m\u001b[0;36m0\u001b[0m\u001b[0;34m,\u001b[0m \u001b[0;36m4\u001b[0m\u001b[0;34m)\u001b[0m\u001b[0;34m,\u001b[0m \u001b[0mfloat\u001b[0m\u001b[0;34m)\u001b[0m\u001b[0;34m\u001b[0m\u001b[0;34m\u001b[0m\u001b[0m\n\u001b[1;32m    340\u001b[0m     \u001b[0;32melse\u001b[0m\u001b[0;34m:\u001b[0m\u001b[0;34m\u001b[0m\u001b[0;34m\u001b[0m\u001b[0m\n\u001b[0;32m--> 341\u001b[0;31m         \u001b[0;32mreturn\u001b[0m \u001b[0mnp\u001b[0m\u001b[0;34m.\u001b[0m\u001b[0marray\u001b[0m\u001b[0;34m(\u001b[0m\u001b[0;34m[\u001b[0m\u001b[0mto_rgba\u001b[0m\u001b[0;34m(\u001b[0m\u001b[0mcc\u001b[0m\u001b[0;34m,\u001b[0m \u001b[0malpha\u001b[0m\u001b[0;34m)\u001b[0m \u001b[0;32mfor\u001b[0m \u001b[0mcc\u001b[0m \u001b[0;32min\u001b[0m \u001b[0mc\u001b[0m\u001b[0;34m]\u001b[0m\u001b[0;34m)\u001b[0m\u001b[0;34m\u001b[0m\u001b[0;34m\u001b[0m\u001b[0m\n\u001b[0m\u001b[1;32m    342\u001b[0m \u001b[0;34m\u001b[0m\u001b[0m\n\u001b[1;32m    343\u001b[0m \u001b[0;34m\u001b[0m\u001b[0m\n",
      "\u001b[0;32m~/anaconda3/envs/ML_py/lib/python3.7/site-packages/matplotlib/colors.py\u001b[0m in \u001b[0;36m<listcomp>\u001b[0;34m(.0)\u001b[0m\n\u001b[1;32m    339\u001b[0m         \u001b[0;32mreturn\u001b[0m \u001b[0mnp\u001b[0m\u001b[0;34m.\u001b[0m\u001b[0mzeros\u001b[0m\u001b[0;34m(\u001b[0m\u001b[0;34m(\u001b[0m\u001b[0;36m0\u001b[0m\u001b[0;34m,\u001b[0m \u001b[0;36m4\u001b[0m\u001b[0;34m)\u001b[0m\u001b[0;34m,\u001b[0m \u001b[0mfloat\u001b[0m\u001b[0;34m)\u001b[0m\u001b[0;34m\u001b[0m\u001b[0;34m\u001b[0m\u001b[0m\n\u001b[1;32m    340\u001b[0m     \u001b[0;32melse\u001b[0m\u001b[0;34m:\u001b[0m\u001b[0;34m\u001b[0m\u001b[0;34m\u001b[0m\u001b[0m\n\u001b[0;32m--> 341\u001b[0;31m         \u001b[0;32mreturn\u001b[0m \u001b[0mnp\u001b[0m\u001b[0;34m.\u001b[0m\u001b[0marray\u001b[0m\u001b[0;34m(\u001b[0m\u001b[0;34m[\u001b[0m\u001b[0mto_rgba\u001b[0m\u001b[0;34m(\u001b[0m\u001b[0mcc\u001b[0m\u001b[0;34m,\u001b[0m \u001b[0malpha\u001b[0m\u001b[0;34m)\u001b[0m \u001b[0;32mfor\u001b[0m \u001b[0mcc\u001b[0m \u001b[0;32min\u001b[0m \u001b[0mc\u001b[0m\u001b[0;34m]\u001b[0m\u001b[0;34m)\u001b[0m\u001b[0;34m\u001b[0m\u001b[0;34m\u001b[0m\u001b[0m\n\u001b[0m\u001b[1;32m    342\u001b[0m \u001b[0;34m\u001b[0m\u001b[0m\n\u001b[1;32m    343\u001b[0m \u001b[0;34m\u001b[0m\u001b[0m\n",
      "\u001b[0;32m~/anaconda3/envs/ML_py/lib/python3.7/site-packages/matplotlib/colors.py\u001b[0m in \u001b[0;36mto_rgba\u001b[0;34m(c, alpha)\u001b[0m\n\u001b[1;32m    187\u001b[0m         \u001b[0mrgba\u001b[0m \u001b[0;34m=\u001b[0m \u001b[0;32mNone\u001b[0m\u001b[0;34m\u001b[0m\u001b[0;34m\u001b[0m\u001b[0m\n\u001b[1;32m    188\u001b[0m     \u001b[0;32mif\u001b[0m \u001b[0mrgba\u001b[0m \u001b[0;32mis\u001b[0m \u001b[0;32mNone\u001b[0m\u001b[0;34m:\u001b[0m  \u001b[0;31m# Suppress exception chaining of cache lookup failure.\u001b[0m\u001b[0;34m\u001b[0m\u001b[0;34m\u001b[0m\u001b[0m\n\u001b[0;32m--> 189\u001b[0;31m         \u001b[0mrgba\u001b[0m \u001b[0;34m=\u001b[0m \u001b[0m_to_rgba_no_colorcycle\u001b[0m\u001b[0;34m(\u001b[0m\u001b[0mc\u001b[0m\u001b[0;34m,\u001b[0m \u001b[0malpha\u001b[0m\u001b[0;34m)\u001b[0m\u001b[0;34m\u001b[0m\u001b[0;34m\u001b[0m\u001b[0m\n\u001b[0m\u001b[1;32m    190\u001b[0m         \u001b[0;32mtry\u001b[0m\u001b[0;34m:\u001b[0m\u001b[0;34m\u001b[0m\u001b[0;34m\u001b[0m\u001b[0m\n\u001b[1;32m    191\u001b[0m             \u001b[0m_colors_full_map\u001b[0m\u001b[0;34m.\u001b[0m\u001b[0mcache\u001b[0m\u001b[0;34m[\u001b[0m\u001b[0mc\u001b[0m\u001b[0;34m,\u001b[0m \u001b[0malpha\u001b[0m\u001b[0;34m]\u001b[0m \u001b[0;34m=\u001b[0m \u001b[0mrgba\u001b[0m\u001b[0;34m\u001b[0m\u001b[0;34m\u001b[0m\u001b[0m\n",
      "\u001b[0;32m~/anaconda3/envs/ML_py/lib/python3.7/site-packages/matplotlib/colors.py\u001b[0m in \u001b[0;36m_to_rgba_no_colorcycle\u001b[0;34m(c, alpha)\u001b[0m\n\u001b[1;32m    258\u001b[0m                     f\"Value must be within 0-1 range\")\n\u001b[1;32m    259\u001b[0m             \u001b[0;32mreturn\u001b[0m \u001b[0mc\u001b[0m\u001b[0;34m,\u001b[0m \u001b[0mc\u001b[0m\u001b[0;34m,\u001b[0m \u001b[0mc\u001b[0m\u001b[0;34m,\u001b[0m \u001b[0malpha\u001b[0m \u001b[0;32mif\u001b[0m \u001b[0malpha\u001b[0m \u001b[0;32mis\u001b[0m \u001b[0;32mnot\u001b[0m \u001b[0;32mNone\u001b[0m \u001b[0;32melse\u001b[0m \u001b[0;36m1.\u001b[0m\u001b[0;34m\u001b[0m\u001b[0;34m\u001b[0m\u001b[0m\n\u001b[0;32m--> 260\u001b[0;31m         \u001b[0;32mraise\u001b[0m \u001b[0mValueError\u001b[0m\u001b[0;34m(\u001b[0m\u001b[0;34mf\"Invalid RGBA argument: {orig_c!r}\"\u001b[0m\u001b[0;34m)\u001b[0m\u001b[0;34m\u001b[0m\u001b[0;34m\u001b[0m\u001b[0m\n\u001b[0m\u001b[1;32m    261\u001b[0m     \u001b[0;31m# tuple color.\u001b[0m\u001b[0;34m\u001b[0m\u001b[0;34m\u001b[0m\u001b[0;34m\u001b[0m\u001b[0m\n\u001b[1;32m    262\u001b[0m     \u001b[0;32mif\u001b[0m \u001b[0;32mnot\u001b[0m \u001b[0mnp\u001b[0m\u001b[0;34m.\u001b[0m\u001b[0miterable\u001b[0m\u001b[0;34m(\u001b[0m\u001b[0mc\u001b[0m\u001b[0;34m)\u001b[0m\u001b[0;34m:\u001b[0m\u001b[0;34m\u001b[0m\u001b[0;34m\u001b[0m\u001b[0m\n",
      "\u001b[0;31mValueError\u001b[0m: Invalid RGBA argument: '2020-08-14'"
     ]
    },
    {
     "data": {
      "image/png": "[encoded data removed]",
      "text/plain": [
       "<Figure size 720x720 with 1 Axes>"
      ]
     },
     "metadata": {
      "needs_background": "light"
     },
     "output_type": "display_data"
    }
   ],
   "source": [
    "fig,ax = plt.subplots(figsize=(10,10))\n",
    "df_merra_grid.iloc[0:5,:].plot(ax=ax)\n",
    "fire_polygons.plot(ax=ax, color=df['Current Day'])\n",
    "df.plot(column=df['Current Day'], ax=ax, cmap='OrRd')\n",
    "#ac_thapa_daily.plot(column = ac_thapa_daily['Current Day'], ax=ax, cmap='OrRd')\n",
    "plt.ylim([34.5, 35])\n",
    "plt.xlim([-119, -118])\n",
    "\n",
    "plt.show()"
   ]
  },
  {
   "cell_type": "code",
   "execution_count": null,
   "id": "fc38faca",
   "metadata": {},
   "outputs": [],
   "source": [
    "#get the max temp for the day\n",
    "print(dat['TLML'][:].shape)\n",
    "b = np.repeat(overlap_thapa[:, :, np.newaxis], 24, axis=2)\n",
    "print(b.shape)\n",
    "b_swapped = np.swapaxes(np.swapaxes(b, 0,2), 1,2)\n",
    "print(b_swapped.shape)\n",
    "\n",
    "temp = np.multiply(b_swapped, dat['TLML'][:])\n",
    "print(temp.shape)\n",
    "\n",
    "print(np.nansum(np.nansum(temp, axis=1), axis=1)) #gets hourly temp in the polygon\n",
    "\n",
    "#temp_hourly=np.zeros(24)\n",
    "#%for i in range(24):\n",
    " #   print(i)\n",
    " #   temp_hourly[i] = np.nansum(temp[i, :,:])\n",
    "#temp_hourly"
   ]
  },
  {
   "cell_type": "code",
   "execution_count": null,
   "id": "1143126d",
   "metadata": {},
   "outputs": [],
   "source": [
    "print(feature_hourly(dat['TLML'][:], overlap_thapa))\n",
    "print(feature_hourly(dat['TLML'][:], overlap_mcclure))\n",
    "print(np.where(overlap_mcclure!=0))\n",
    "print(np.where(overlap_thapa!=0))"
   ]
  },
  {
   "cell_type": "code",
   "execution_count": null,
   "id": "a07baa2d",
   "metadata": {},
   "outputs": [],
   "source": [
    "#MERRA Time Series\n",
    "\n",
    "#times = np.arange(np.datetime64('2020-08-17'), np.datetime64('2020-10-18')) #how long we have Crystal's polygons for\n",
    "temp=np.zeros((2, len(times)))\n",
    "vpd=np.zeros((2, len(times)))\n",
    "num_points = np.zeros((2, len(times)))\n",
    "frp = np.zeros((2, len(times)))\n",
    "\n",
    "varis = {'/MERRA2/WESTUS_MERRA2_400.inst1_2d_lfo_Nx.*.nc4':['TLML', 'QLML']}\n",
    "dims = {'/MERRA2/WESTUS_MERRA2_400.inst1_2d_lfo_Nx.*.nc4':['lat', 'lon', 'time']}\n",
    "time_extract= {'TLML':12, 'QLML':12, 'SPEEDLML':12, 'PS':12}\n",
    "\n",
    "\n",
    "for ii in range(len(times)):\n",
    "    print(ii)\n",
    "    date=str(times[ii])\n",
    "    yr = date[0:4]\n",
    "    mo = date[5:7]\n",
    "    dy = date[8:10]\n",
    "    path = '/data2/lthapa/'+yr+'/MERRA2/WESTUS_MERRA2_400.inst1_2d_lfo_Nx.*.nc4'\n",
    "    if '*' in path:\n",
    "        path = path.replace('*', yr+mo+dy)\n",
    "    if np.datetime64(date)>=np.datetime64('2020-09-01') and np.datetime64(date)<=np.datetime64('2020-09-30'):\n",
    "        path = path.replace('400', '401')\n",
    "    dat = nc.Dataset(path)   \n",
    "    lat = dat['lat'][:]\n",
    "    lon = dat['lon'][:]\n",
    "    t = dat['time'][:]\n",
    "    if len(lat.shape)==1:\n",
    "            lon, lat = np.meshgrid(lon, lat)\n",
    "    T = dat['TLML'][12,:,:]\n",
    "    Q = dat['QLML'][12,:,:]\n",
    "    P = dat['PS'][12,:,:]\n",
    "    \n",
    "    esat = sat_vap_press(T)\n",
    "    e = vap_press(Q,P)\n",
    "    VPD = esat-e\n",
    "    \n",
    "    \n",
    "    lat_corners, lon_corners = calculate_grid_cell_corners(lat, lon)\n",
    "    \n",
    "    #does a polygon exist for this time?\n",
    "    \n",
    "    mcclure_ind = np.where(ac_mcclure_daily['Days']==str(times[ii]))\n",
    "    thapa_ind = np.where(ac_thapa_daily['Current Day'] == str(times[ii]))\n",
    "    #print(mcclure_ind, thapa_ind)\n",
    "    \n",
    "    if len(mcclure_ind[0])==0:\n",
    "        print(ii, 'No mcclure poly')\n",
    "        temp[0,ii] = np.nan\n",
    "        vpd[0,ii] = np.nan\n",
    "        frp[0,ii] = np.nan\n",
    "        poly_thapa = ac_thapa_daily['geometry'].iloc[thapa_ind[0]]\n",
    "        overlap_thapa = calculate_overlaps(lat,lon,lat_corners,lon_corners,poly_thapa.iloc[0])\n",
    "        temp[1,ii] = np.nansum(np.multiply(overlap_thapa, T))\n",
    "        vpd[1,ii] = np.nansum(np.multiply(overlap_thapa, VPD))\n",
    "        num_points[1,ii] = ac_thapa_daily['Number of VIIRS points'].iloc[thapa_ind[0]]\n",
    "        frp[1,ii] = ac_thapa_daily['FRP'].iloc[thapa_ind[0]]\n",
    "        \n",
    "    elif len(thapa_ind[0])==0:\n",
    "        print(ii, 'No Thapa poly!')\n",
    "        temp[1,ii] = np.nan\n",
    "        vpd[1,ii] = np.nan\n",
    "        num_points[1,ii] = np.nan\n",
    "        poly_mcclure = ac_mcclure_daily['geometry'].iloc[mcclure_ind[0]]\n",
    "        overlap_mcclure = calculate_overlaps(lat,lon,lat_corners,lon_corners,poly_mcclure.iloc[0])\n",
    "        temp[0,ii] = np.nansum(np.multiply(overlap_mcclure, T))\n",
    "        vpd[0,ii] = np.nansum(np.multiply(overlap_mcclure, VPD))\n",
    "        frp[0,ii] = ac_mcclure_daily['FRP'].iloc[mcclure_ind[0]]\n",
    "        num_points[0,ii] = ac_mcclure_daily['pixels'].iloc[mcclure_ind[0]]\n",
    "    else:\n",
    "        print(ii, 'both polys')\n",
    "        poly_mcclure = ac_mcclure_daily['geometry'].iloc[mcclure_ind[0]]\n",
    "        overlap_mcclure = calculate_overlaps(lat,lon,lat_corners,lon_corners,poly_mcclure.iloc[0])\n",
    "        temp[0,ii] = np.nansum(np.multiply(overlap_mcclure, T))\n",
    "        vpd[0,ii] = np.nansum(np.multiply(overlap_mcclure, VPD))\n",
    "        frp[0,ii] = ac_mcclure_daily['FRP'].iloc[mcclure_ind[0]]\n",
    "        num_points[0,ii] = ac_mcclure_daily['pixels'].iloc[mcclure_ind[0]]\n",
    "\n",
    "        \n",
    "        poly_thapa = ac_thapa_daily['geometry'].iloc[thapa_ind[0]]\n",
    "        overlap_thapa = calculate_overlaps(lat,lon,lat_corners,lon_corners,poly_thapa.iloc[0])\n",
    "        temp[1,ii] = np.nansum(np.multiply(overlap_thapa, T))\n",
    "        vpd[1,ii] = np.nansum(np.multiply(overlap_thapa, VPD))\n",
    "        frp[1,ii] = ac_thapa_daily['FRP'].iloc[thapa_ind[0]]\n",
    "        num_points[1,ii] = ac_thapa_daily['Number of VIIRS points'].iloc[thapa_ind[0]]\n",
    "    "
   ]
  },
  {
   "cell_type": "code",
   "execution_count": null,
   "id": "f4f5a0b8",
   "metadata": {},
   "outputs": [],
   "source": [
    "ac_thapa_daily.iloc[30:50]\n",
    "print(num_points)"
   ]
  },
  {
   "cell_type": "code",
   "execution_count": null,
   "id": "daf11204",
   "metadata": {},
   "outputs": [],
   "source": [
    "type(ac_thapa['Current Day'].iloc[:])\n",
    "i = str(int(ac_thapa['Current Overpass'].iloc[0]))\n",
    "print(type(i))\n",
    "print(i.zfill(4))\n",
    "\n"
   ]
  },
  {
   "cell_type": "code",
   "execution_count": null,
   "id": "4149bbf0",
   "metadata": {},
   "outputs": [],
   "source": [
    "datestrings = [ac_thapa['Current Day'].iloc[i]+ ' '+\\\n",
    "               str(int(ac_thapa['Current Overpass'].iloc[i])).zfill(4) for i in range(len(ac_thapa))]\n",
    "print(datestrings)\n",
    "\n",
    "print(np.datetime64())"
   ]
  },
  {
   "cell_type": "code",
   "execution_count": null,
   "id": "d690b577",
   "metadata": {},
   "outputs": [],
   "source": [
    "print(type(ac_mcclure['DateTim'].iloc[0]))"
   ]
  },
  {
   "cell_type": "code",
   "execution_count": null,
   "id": "3c7f6a07",
   "metadata": {},
   "outputs": [],
   "source": [
    "if len(mcclure_ind[0])==0:\n",
    "        print(ii, 'No mcclure poly')\n",
    "        temp[0,ii] = np.nan\n",
    "        poly_thapa = ac_thapa_poly['geometry'].iloc[thapa_ind[0]]\n",
    "        overlap_thapa = calculate_overlaps(lat,lon,lat_corners,lon_corners,poly_thapa.iloc[0])\n",
    "        temp[1,ii] = np.nansum(np.multiply(overlap_thapa, T))\n",
    "        vpd[1,ii] = np.nansum(np.multiply(overlap_thapa, VPD))\n",
    "        \n",
    "    elif len(thapa_ind[0])==0:\n",
    "        print(ii, 'No Thapa poly!')\n",
    "        temp[1,ii] = np.nan\n",
    "        poly_mcclure = ac_mcclure_daily['geometry'].iloc[mcclure_ind[0]]\n",
    "        overlap_mcclure = calculate_overlaps(lat,lon,lat_corners,lon_corners,poly_mcclure.iloc[0])\n",
    "        temp[0,ii] = np.nansum(np.multiply(overlap_mcclure, T))\n",
    "        vpd[0,ii] = np.nansum(np.multiply(overlap_mcclure, VPD))\n",
    "    else:\n",
    "        print(ii, 'both polys')\n",
    "        poly_mcclure = ac_mcclure_daily['geometry'].iloc[mcclure_ind[0]]\n",
    "        overlap_mcclure = calculate_overlaps(lat,lon,lat_corners,lon_corners,poly_mcclure.iloc[0])\n",
    "        temp[0,ii] = np.nansum(np.multiply(overlap_mcclure, T))\n",
    "        vpd[0,ii] = np.nansum(np.multiply(overlap_mcclure, VPD))\n",
    "        \n",
    "        poly_thapa = ac_thapa_poly['geometry'].iloc[thapa_ind[0]]\n",
    "        overlap_thapa = calculate_overlaps(lat,lon,lat_corners,lon_corners,poly_thapa.iloc[0])\n",
    "        temp[1,ii] = np.nansum(np.multiply(overlap_thapa, T))\n",
    "        vpd[1,ii] = np.nansum(np.multiply(overlap_thapa, VPD))\n",
    "        \n",
    "    poly_thapa = ac_thapa_poly['geometry'].iloc[thapa_ind[0]]\n",
    "    overlap_thapa = calculate_overlaps(lat,lon,lat_corners,lon_corners,poly_thapa.iloc[0])\n",
    "    \n",
    "    poly_mcclure = ac_mcclure_daily['geometry'].iloc[mcclure_ind[0]]\n",
    "    overlap_mcclure = calculate_overlaps(lat,lon,lat_corners,lon_corners,poly_mcclure.iloc[0])"
   ]
  },
  {
   "cell_type": "code",
   "execution_count": null,
   "id": "b9cdee5e",
   "metadata": {},
   "outputs": [],
   "source": [
    "resources_dates = pd.to_datetime(resources_people_ac['REPORT_FROM_DATE']) + datetime.timedelta(hours=7)\n",
    "#resources_dates.iloc[:].strftime(\"%d-%m-%y\")\n",
    "print(resources_dates.iloc[0].strftime(\"%Y-%m-%d\"))\n",
    "\n",
    "resources_days = [resources_dates.iloc[i].strftime(\"%Y-%m-%d\") for i in range(len(resources_dates))]\n",
    "print(resources_days)"
   ]
  },
  {
   "cell_type": "code",
   "execution_count": null,
   "id": "06a96b18",
   "metadata": {},
   "outputs": [],
   "source": [
    "personnel/np.max(personnel)"
   ]
  },
  {
   "cell_type": "code",
   "execution_count": null,
   "id": "d557718e",
   "metadata": {},
   "outputs": [],
   "source": [
    "arr = [1,2,2,2,3,3,4]\n",
    "print(find_mode(arr))"
   ]
  },
  {
   "cell_type": "code",
   "execution_count": null,
   "id": "5f8c42c7",
   "metadata": {},
   "outputs": [],
   "source": [
    "print(times[np.argmax(frp[1,:])])"
   ]
  },
  {
   "cell_type": "code",
   "execution_count": null,
   "id": "65756768",
   "metadata": {},
   "outputs": [],
   "source": [
    "grid_type ='rectiliner'\n",
    "if grid_type =='rectilinear':\n",
    "    print('hello')"
   ]
  },
  {
   "cell_type": "code",
   "execution_count": null,
   "id": "af788381",
   "metadata": {},
   "outputs": [],
   "source": [
    "path = './WESTUS_qfed2.emis_co.006.20200818.nc4'\n",
    "dat = nc.Dataset(path)   \n",
    "lat = dat['lat'][:]\n",
    "lon = dat['lon'][:]\n",
    "LAT, LON = np.meshgrid(lat,lon)\n",
    "print(LON.shape)\n",
    "#print(per_box.shape)\n",
    "\n",
    "per_box = area_per_grid_cell(lat, lon, 0.1, 0.1)\n",
    "#print(area_per_grid_cell(lat, lon, 0.1, 0.1))\n",
    "\n",
    "fig = plt.figure(figsize=(15,10))\n",
    "ax= fig.add_subplot(111,projection=ccrs.PlateCarree())\n",
    "ax.coastlines()\n",
    "#ax = plt.axes(projection=ccrs.PlateCarree())\n",
    "#ax.set_extent([-123.4, -122.6, 39.4, 40.5])\n",
    "ax.coastlines()\n",
    "ax.add_feature(cfeature.STATES, linestyle='-', alpha=.5)\n",
    "plt.contourf(LON,LAT, per_box )\n",
    "plt.title('GPPEPx OC Daily Emissions Aug 18th')\n",
    "plt.colorbar()\n",
    "plt.show()"
   ]
  },
  {
   "cell_type": "code",
   "execution_count": null,
   "id": "20b065ee",
   "metadata": {},
   "outputs": [],
   "source": [
    "df = pd.DataFrame({'B': [0, 1, 2, np.nan, 4]})\n"
   ]
  },
  {
   "cell_type": "code",
   "execution_count": null,
   "id": "0ba668ad",
   "metadata": {},
   "outputs": [],
   "source": [
    "arr = np.array([1,2,3,4])\n",
    "print(shift(arr,2,cval=np.nan)) #+2 shifts right 2\n",
    "print(shift(arr,-2,cval=np.nan)) #+2 shifts right 2\n",
    "\n"
   ]
  },
  {
   "cell_type": "code",
   "execution_count": null,
   "id": "3b55a477",
   "metadata": {},
   "outputs": [],
   "source": []
  },
  {
   "cell_type": "code",
   "execution_count": null,
   "id": "bbfe926b",
   "metadata": {},
   "outputs": [],
   "source": [
    "for jj in range(17):\n",
    "    print(jj)"
   ]
  },
  {
   "cell_type": "code",
   "execution_count": null,
   "id": "c010ef4d",
   "metadata": {
    "scrolled": false
   },
   "outputs": [],
   "source": [
    "#NCAR Moisture Time Series\n",
    "\n",
    "#times = np.arange(np.datetime64('2020-08-17'), np.datetime64('2020-10-18')) #how long we have Crystal's polygons for\n",
    "df_igbp_thapa = pd.DataFrame({'% water':np.zeros(len(times)), '% evergreen needleleaf forest':np.zeros(len(times)),\\\n",
    "                              '% evergreen broadleaf forest':np.zeros(len(times)),\\\n",
    "                              '% deciduous needleleaf forest':np.zeros(len(times)),\\\n",
    "                               '% deciduous broadleaf forest':np.zeros(len(times)), '% mixed forests':np.zeros(len(times)),\\\n",
    "                              '% closed shrubland':np.zeros(len(times)), '% open shrublands':np.zeros(len(times)),\\\n",
    "                              '% woody savannas':np.zeros(len(times)),'% savannas':np.zeros(len(times)),\\\n",
    "                              '% grasslands':np.zeros(len(times)), '% permanent wetlands':np.zeros(len(times)),\\\n",
    "                              '% croplands':np.zeros(len(times)), '% urban and built-up':np.zeros(len(times)),\\\n",
    "                              '% cropland/natural vegetation mosaic':np.zeros(len(times)),\\\n",
    "                              '% snow and ice':np.zeros(len(times)),\\\n",
    "                              '% barren or sparsely vegetated':np.zeros(len(times))})\n",
    "\n",
    "df_igbp_mcclure = pd.DataFrame({'% water':np.zeros(len(times)), '% evergreen needleleaf forest':np.zeros(len(times)),\\\n",
    "                              '% evergreen broadleaf forest':np.zeros(len(times)),\\\n",
    "                              '% deciduous needleleaf forest':np.zeros(len(times)),\\\n",
    "                               '% deciduous broadleaf forest':np.zeros(len(times)), '% mixed forests':np.zeros(len(times)),\\\n",
    "                              '% closed shrubland':np.zeros(len(times)), '% open shrublands':np.zeros(len(times)),\\\n",
    "                              '% woody savannas':np.zeros(len(times)),'% savannas':np.zeros(len(times)),\\\n",
    "                              '% grasslands':np.zeros(len(times)), '% permanent wetlands':np.zeros(len(times)),\\\n",
    "                              '% croplands':np.zeros(len(times)), '% urban and built-up':np.zeros(len(times)),\\\n",
    "                              '% cropland/natural vegetation mosaic':np.zeros(len(times)),\\\n",
    "                              '% snow and ice':np.zeros(len(times)),\\\n",
    "                              '% barren or sparsely vegetated':np.zeros(len(times))})\n",
    "#load in the data here so we only have to do it once\n",
    "\n",
    "dat = nc.Dataset('/data2/lthapa/static_maps/MODIS_IGBP_2020.nc')\n",
    "lat_center = dat['lat'][:]\n",
    "lon_center = dat['lon'][:]\n",
    "lc_majority= dat['lc_majority'][:]\n",
    "lc_percent = dat['lc_percent'][:]\n",
    "print(lc_percent.shape)\n",
    "\n",
    "lat_inds = np.where((lat_center[:,0]>=31)& (lat_center[:,0]<=51))[0]\n",
    "lat_start = lat_inds[0]\n",
    "lat_end = lat_inds[len(lat_inds)-1]\n",
    "lon_inds = np.where((lon_center[0,:]>=-126)& (lon_center[0,:]<=-101))[0]\n",
    "lon_start = lon_inds[0]\n",
    "lon_end = lon_inds[len(lon_inds)-1]\n",
    "\n",
    "lat_corners, lon_corners = calculate_grid_cell_corners(lat_center, lon_center)\n",
    "\n",
    "for ii in range(len(times)):\n",
    "    print(ii)\n",
    "    \n",
    "    #does a polygon exist for this time?\n",
    "    mcclure_ind = np.where(ac_mcclure_daily['Days']==str(times[ii]))\n",
    "    thapa_ind = np.where(ac_thapa_daily['Current Day'] == str(times[ii]))\n",
    "    #print(mcclure_ind, thapa_ind)\n",
    "    \n",
    "    if len(mcclure_ind[0])==0:\n",
    "        print(ii, 'No mcclure poly')\n",
    "    \n",
    "        poly_thapa = ac_thapa_daily['geometry'].iloc[thapa_ind[0]]\n",
    "        print(poly_thapa)\n",
    "        overlap_thapa = calculate_overlaps(lat_center,lon_center,lat_corners,lon_corners,poly_thapa.iloc[0], 'rectilinear',0.05)\n",
    "        overlap_thapa[np.where(overlap_thapa!=0)]=1\n",
    "        overlap_thapa[np.where(overlap_thapa==0)]=np.nan\n",
    "        lc_percent_plot = np.multiply(overlap_thapa, lc_percent[1,:,:])\n",
    "        lc_majority_plot = np.multiply(overlap_thapa, lc_majority)\n",
    "        print(np.nanmean(np.multiply(overlap_thapa, lc_percent[1, :,:])))\n",
    "        \n",
    "        fig = plt.figure(figsize=(15,10))\n",
    "        ax= fig.add_subplot(111,projection=ccrs.PlateCarree())\n",
    "        ax.coastlines()\n",
    "        ax.set_extent([-123.5, -122.3, 39.4, 40.5])\n",
    "        ax.coastlines()\n",
    "        ax.add_feature(cfeature.STATES, linestyle='-', alpha=.5)\n",
    "        gl = ax.gridlines(crs=ccrs.PlateCarree(), draw_labels=True,\n",
    "                  linewidth=2, color='gray', alpha=0.5, linestyle='--')\n",
    "        gl.xlabels_top = False\n",
    "        gl.ylabels_right = False\n",
    "        #levels = np.arange(-0.5,17.5,1) #need to specify levels for the contours\n",
    "        #print(levels)\n",
    "        fuelmap = plt.contourf(lon_center[lat_start:lat_end, lon_start:lon_end],\\\n",
    "            lat_center[lat_start:lat_end, lon_start:lon_end],\\\n",
    "           lc_percent_plot[lat_start:lat_end, lon_start:lon_end],\\\n",
    "            cmap='gist_ncar')\n",
    "        gpd.GeoSeries(poly_thapa).plot(ax=ax, color='w', alpha=0.75)\n",
    "        plt.colorbar()\n",
    "        plt.show()\n",
    "        \n",
    "        fig = plt.figure(figsize=(15,10))\n",
    "        ax= fig.add_subplot(111,projection=ccrs.PlateCarree())\n",
    "        ax.coastlines()\n",
    "        ax.set_extent([-123.5, -122.3, 39.4, 40.5])\n",
    "        ax.coastlines()\n",
    "        ax.add_feature(cfeature.STATES, linestyle='-', alpha=.5)\n",
    "        gl = ax.gridlines(crs=ccrs.PlateCarree(), draw_labels=True,\n",
    "                  linewidth=2, color='gray', alpha=0.5, linestyle='--')\n",
    "        gl.xlabels_top = False\n",
    "        gl.ylabels_right = False\n",
    "        #levels = np.arange(-0.5,17.5,1) #need to specify levels for the contours\n",
    "        #print(levels)\n",
    "        fuelmap = plt.contourf(lon_center[lat_start:lat_end, lon_start:lon_end],\\\n",
    "            lat_center[lat_start:lat_end, lon_start:lon_end],\\\n",
    "           lc_majority_plot[lat_start:lat_end, lon_start:lon_end],\\\n",
    "            cmap='gist_ncar')\n",
    "        gpd.GeoSeries(poly_thapa).plot(ax=ax, color='w', alpha=0.75)\n",
    "        plt.colorbar()\n",
    "        plt.show()\n"
   ]
  },
  {
   "cell_type": "code",
   "execution_count": null,
   "id": "bf9ef299",
   "metadata": {},
   "outputs": [],
   "source": []
  },
  {
   "cell_type": "code",
   "execution_count": null,
   "id": "71f4b139",
   "metadata": {},
   "outputs": [],
   "source": [
    "df_thapa = pd.read_csv('AC_Thapa.csv')\n",
    "print(df_thapa.columns)"
   ]
  },
  {
   "cell_type": "code",
   "execution_count": null,
   "id": "c80d9b09",
   "metadata": {},
   "outputs": [],
   "source": [
    "from shapely.geometry import Polygon\n",
    "polys1 = gpd.GeoSeries([Polygon([(0,0), (2,0), (2,2), (0,2)]),\n",
    "                              Polygon([(2,2), (4,2), (4,4), (2,4)])])\n",
    "polys2 = gpd.GeoSeries([Polygon([(1,1), (3,1), (3,3), (1,3)]),\n",
    "                              Polygon([(3,3), (5,3), (5,5), (3,5)])])\n",
    "df1 = gpd.GeoDataFrame({'geometry': polys1, 'df1_data':[1,2]})\n",
    "df2 = gpd.GeoDataFrame({'geometry': polys2, 'df2_data':[1,2]})"
   ]
  },
  {
   "cell_type": "code",
   "execution_count": null,
   "id": "34abe757",
   "metadata": {},
   "outputs": [],
   "source": [
    "union = gpd.overlay(df1, df2, how='union')\n",
    "intersection = gpd.overlay(df1, df2, how='intersection')\n",
    "sym_diff = gpd.overlay(df1,df2,how='symmetric_difference')"
   ]
  },
  {
   "cell_type": "code",
   "execution_count": null,
   "id": "e6f7a8cf",
   "metadata": {},
   "outputs": [],
   "source": [
    "fig, ax = plt.subplots(figsize=(20,8)) #set up the figure\n",
    "df1.plot(ax=ax, color='b')\n",
    "df2.plot(ax=ax, color='r')\n",
    "union.plot(ax=ax,color='k', alpha=0.6)\n",
    "plt.show()\n",
    "\n",
    "fig, ax = plt.subplots(figsize=(20,8)) #set up the figure\n",
    "df1.plot(ax=ax, color='b')\n",
    "df2.plot(ax=ax, color='r')\n",
    "intersection.plot(ax=ax,color='k', alpha=0.6)\n",
    "plt.show()\n",
    "\n",
    "fig, ax = plt.subplots(figsize=(20,8)) #set up the figure\n",
    "df1.plot(ax=ax, color='b')\n",
    "df2.plot(ax=ax, color='r')\n",
    "sym_diff.plot(ax=ax,color='k', alpha=0.6)\n",
    "plt.show()"
   ]
  },
  {
   "cell_type": "code",
   "execution_count": null,
   "id": "67517eb1",
   "metadata": {},
   "outputs": [],
   "source": [
    "print(df1)\n",
    "print(df2)\n",
    "print(intersection)"
   ]
  },
  {
   "cell_type": "code",
   "execution_count": null,
   "id": "1ce51b71",
   "metadata": {},
   "outputs": [],
   "source": []
  },
  {
   "cell_type": "code",
   "execution_count": null,
   "id": "9bb56474",
   "metadata": {},
   "outputs": [],
   "source": []
  },
  {
   "cell_type": "code",
   "execution_count": null,
   "id": "249adcd6",
   "metadata": {},
   "outputs": [],
   "source": []
  }
 ],
 "metadata": {
  "kernelspec": {
   "display_name": "Python 3",
   "language": "python",
   "name": "python3"
  },
  "language_info": {
   "codemirror_mode": {
    "name": "ipython",
    "version": 3
   },
   "file_extension": ".py",
   "mimetype": "text/x-python",
   "name": "python",
   "nbconvert_exporter": "python",
   "pygments_lexer": "ipython3",
   "version": "3.7.6"
  }
 },
 "nbformat": 4,
 "nbformat_minor": 5
}
