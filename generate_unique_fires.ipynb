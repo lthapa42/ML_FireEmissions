{
 "cells": [
  {
   "cell_type": "markdown",
   "id": "99267035",
   "metadata": {},
   "source": [
    "This notebook generates a list of all the unique incidents tracked in the SIT 209 report\n",
    "unique_fires.csv contains:\n",
    "1. Incident Number\t\n",
    "2. Fire Name\t\n",
    "3. First Day\n",
    "4. Last Day\t\n",
    "5. Lat Fire\t\n",
    "6. Lon Fire"
   ]
  },
  {
   "cell_type": "code",
   "execution_count": 2,
   "id": "308008dd",
   "metadata": {},
   "outputs": [],
   "source": [
    "import pandas as pd\n",
    "#pd.set_option('display.max_rows', None)\n",
    "import geopandas as gpd\n",
    "import matplotlib.pyplot as plt\n",
    "import os\n",
    "import cartopy.crs as ccrs\n",
    "import cartopy\n",
    "import numpy as np\n",
    "np.set_printoptions(threshold=33500)\n",
    "from shapely.geometry import Polygon, Point, MultiPoint\n",
    "from shapely.ops import cascaded_union\n",
    "from datetime import datetime, timedelta"
   ]
  },
  {
   "cell_type": "code",
   "execution_count": 2,
   "id": "f35f3a5e",
   "metadata": {},
   "outputs": [
    {
     "name": "stderr",
     "output_type": "stream",
     "text": [
      "/home/lthapa/anaconda3/envs/ML_py/lib/python3.7/site-packages/IPython/core/interactiveshell.py:3166: DtypeWarning: Columns (20,61) have mixed types.Specify dtype option on import or set low_memory=False.\n",
      "  interactivity=interactivity, compiler=compiler, result=result)\n"
     ]
    }
   ],
   "source": [
    "#load in all the data\n",
    "sit_all =pd.read_csv('merged_sit.csv', dtype={'INCIDENT_JURISDICTION': 'str', 'UNIT_OR_OTHER_NARR': 'str'})\n",
    "viirs_all = pd.read_csv('merged_viirs.csv', dtype={'satellite':'str', 'version': 'str'})"
   ]
  },
  {
   "cell_type": "code",
   "execution_count": 3,
   "id": "5d5a524a",
   "metadata": {},
   "outputs": [
    {
     "name": "stdout",
     "output_type": "stream",
     "text": [
      "[9352235]\n",
      "[9429964]\n",
      "[9352235, 9429964] [9352456, 9430185]\n",
      "We have 17782 wildfire and complex reports\n",
      "87 Incidents were removed\n",
      "We have 2597 unique incident numbers, 2532 unique incident names, and 2920 unique start dates\n"
     ]
    }
   ],
   "source": [
    "#generate the wildfire and complex codes\n",
    "wildfire_codes = []\n",
    "complex_codes = []\n",
    "name_lookup ='SIT209_HISTORY_SIT209_LOOKUP_CODES_*.xlsx'\n",
    "for year in range(2019, 2021):\n",
    "    df_lookup = pd.read_excel(name_lookup.replace('*', str(year)))\n",
    "    print(df_lookup.loc[df_lookup['CODE_NAME'] == 'Wildfire']['LUCODES_IDENTIFIER'].values)\n",
    "    wildfire_codes.append(df_lookup.loc[df_lookup['CODE_NAME'] == 'Wildfire']['LUCODES_IDENTIFIER'].values[0])\n",
    "    complex_codes.append(df_lookup.loc[df_lookup['CODE_NAME'] == 'Complex']['LUCODES_IDENTIFIER'].values[0])\n",
    "print(wildfire_codes, complex_codes)\n",
    "\n",
    "#select the wildfires and complexes only\n",
    "sit_fire = sit_all[(sit_all['INCTYP_IDENTIFIER']==wildfire_codes[0])|(sit_all['INCTYP_IDENTIFIER']==wildfire_codes[1])|(sit_all['INCTYP_IDENTIFIER']==complex_codes[0])|(sit_all['INCTYP_IDENTIFIER']==complex_codes[1])]\n",
    "print('We have ' + str(len(sit_fire['INCTYP_IDENTIFIER'])) + ' wildfire and complex reports')\n",
    "#sanity check to see if we filtered out the right thing\n",
    "aux = sit_all[(sit_all['INCTYP_IDENTIFIER']!=wildfire_codes[0])&(sit_all['INCTYP_IDENTIFIER']!=wildfire_codes[1])&(sit_all['INCTYP_IDENTIFIER']!=complex_codes[0])&(sit_all['INCTYP_IDENTIFIER']!=complex_codes[1])]\n",
    "print(str(len(aux['INCTYP_IDENTIFIER']))+ ' Incidents were removed')\n",
    "\n",
    "# find the unique incidents\n",
    "inc_nums = sit_fire['INC_IDENTIFIER'].values # a numpy array of all the incidents\n",
    "inc_names = sit_fire['INCIDENT_NAME'].values\n",
    "inc_start_dates = sit_fire['DISCOVERY_DATE'].values\n",
    "\n",
    "#compare number of unique incident numbers, names, and start dates\n",
    "print('We have ' + str(len(np.unique(inc_nums))) + ' unique incident numbers, ' + str(len(np.unique(inc_names)))+ ' unique incident names, and ' + str(len(np.unique(inc_start_dates)))+ ' unique start dates')\n"
   ]
  },
  {
   "cell_type": "code",
   "execution_count": 4,
   "id": "91bc3b91",
   "metadata": {},
   "outputs": [
    {
     "name": "stdout",
     "output_type": "stream",
     "text": [
      "2597\n",
      "      Incident Number    Fire Name   First Day    Last Day   Lat Fire  \\\n",
      "0          10662063.0      Coleman  2019-05-04  2019-05-04  45.349722   \n",
      "1          10662156.0          C34  2019-02-13  2019-02-15  36.995278   \n",
      "2          10662179.0         2161  2019-02-13  2019-02-14  35.221389   \n",
      "3          10662352.0    South 480  2019-01-31  2019-02-01  29.600278   \n",
      "4          10662407.0      McClurg  2019-04-16  2019-04-22  36.781389   \n",
      "...               ...          ...         ...         ...        ...   \n",
      "2592       11980949.0      CREEK 5  2020-12-24  2020-12-24  33.407667   \n",
      "2593       11980985.0     BIG SNAG  2020-12-26  2020-12-27  35.342778   \n",
      "2594       11981035.0       Dubois  2020-12-27  2020-12-28  33.440000   \n",
      "2595       11981111.0   FOOT PRINT  2020-12-28  2020-12-31  35.388333   \n",
      "2596       11981205.0  SMALL PINES  2020-12-23  2020-12-24  29.388056   \n",
      "\n",
      "        Lon Fire  \n",
      "0     -87.886944  \n",
      "1    -102.524722  \n",
      "2    -101.518611  \n",
      "3     -94.547222  \n",
      "4     -92.750833  \n",
      "...          ...  \n",
      "2592 -117.269667  \n",
      "2593  -96.107778  \n",
      "2594  -98.105556  \n",
      "2595  -96.511944  \n",
      "2596  -83.090000  \n",
      "\n",
      "[2597 rows x 6 columns]\n"
     ]
    }
   ],
   "source": [
    "# generate a dataframe of incidents that contains:\n",
    "# the name, number, earliest discovery date as a day, end date of final report as a day\n",
    "\n",
    "unique_incs = np.unique(inc_nums)\n",
    "n_incs = len(unique_incs) #number of unique incidents\n",
    "print(n_incs)\n",
    "incidents = pd.DataFrame({'Incident Number': np.nan*np.zeros(n_incs), \n",
    "                          'Fire Name': np.nan*np.zeros(n_incs), \n",
    "                         'First Day': np.nan*np.zeros(n_incs),\n",
    "                        'Last Day': np.nan*np.zeros(n_incs),\n",
    "                        'Lat Fire': np.nan*np.zeros(n_incs), \n",
    "                     'Lon Fire': np.nan*np.zeros(n_incs)}) # pre-allocate the dataframe\n",
    "for ii in range(n_incs):\n",
    "    #grab the name and incident number\n",
    "    thisinc_num = unique_incs[ii] # Incident Number\n",
    "    df_fire = sit_fire[sit_fire['INC_IDENTIFIER']==thisinc_num]\n",
    "    df_fire = df_fire.sort_values('REPORT_FROM_DATE')\n",
    "    thisinc_startdate = np.unique(df_fire['DISCOVERY_DATE'].values)\n",
    "    thisinc_firstday = np.amin(thisinc_startdate)[0:10] # First Day\n",
    "    thisinc_enddate = df_fire['REPORT_TO_DATE'].values\n",
    "    thisinc_lat = df_fire['POO_LATITUDE'].values[0]\n",
    "    thisinc_lon = df_fire['POO_LONGITUDE'].values[0]\n",
    "    if len(thisinc_enddate)>0:\n",
    "        thisinc_lastday = np.amax(thisinc_enddate)[0:10] #get the last available day\n",
    "    else:\n",
    "        thisinc_lastday = np.nan\n",
    "    \n",
    "    #thisinc_lastday = thisinc_enddate[0:10] # Last Day\n",
    "    thisinc_name = np.unique(df_fire['INCIDENT_NAME'].values) #Fire Name\n",
    "    \n",
    "    #fill in the whole row at once (format below)\n",
    "    incidents.iloc[ii]= [thisinc_num, thisinc_name[0], thisinc_firstday, thisinc_lastday, thisinc_lat, thisinc_lon]\n",
    "    \n",
    "print(incidents)"
   ]
  },
  {
   "cell_type": "code",
   "execution_count": 5,
   "id": "6f63c5bf",
   "metadata": {},
   "outputs": [],
   "source": [
    "#check for nan values of the fire location, and drop them!\n",
    "te = incidents['Lat Fire'].values\n",
    "drops = np.where(np.isnan(te))[0]\n",
    "incidents = incidents.drop(labels=drops)"
   ]
  },
  {
   "cell_type": "code",
   "execution_count": 6,
   "id": "ad85c141",
   "metadata": {
    "scrolled": true
   },
   "outputs": [
    {
     "name": "stdout",
     "output_type": "stream",
     "text": [
      "      Incident Number      Fire Name   First Day    Last Day   Lat Fire  \\\n",
      "1          10662156.0            C34  2019-02-13  2019-02-15  36.995278   \n",
      "2          10662179.0           2161  2019-02-13  2019-02-14  35.221389   \n",
      "11         10662684.0  PAINTED WAGON  2019-04-08  2019-04-10  33.786944   \n",
      "20         10663171.0  LONE MOUNTAIN  2019-05-26  2019-07-03  33.808056   \n",
      "21         10663525.0        BOULDER  2019-06-05  2019-06-06  35.333056   \n",
      "...               ...            ...         ...         ...        ...   \n",
      "2570       11979081.0        LAURA 2  2020-11-17  2020-11-23  40.034034   \n",
      "2571       11979237.0          Trail  2020-10-24  2020-11-02  34.147222   \n",
      "2583       11980186.0      SANDERSON  2020-12-13  2020-12-14  33.889444   \n",
      "2588       11980587.0        CREEK 5  2020-12-24  2020-12-28  33.402646   \n",
      "2592       11980949.0        CREEK 5  2020-12-24  2020-12-24  33.407667   \n",
      "\n",
      "        Lon Fire  \n",
      "1    -102.524722  \n",
      "2    -101.518611  \n",
      "11   -112.753333  \n",
      "20   -105.738611  \n",
      "21   -119.905556  \n",
      "...          ...  \n",
      "2570 -120.115073  \n",
      "2571 -112.117778  \n",
      "2583 -117.070833  \n",
      "2588 -117.266795  \n",
      "2592 -117.269667  \n",
      "\n",
      "[1354 rows x 6 columns]\n"
     ]
    }
   ],
   "source": [
    "# filter out fires whose starting location is outside of our domain\n",
    "incidents = incidents[(incidents['Lat Fire']>=31)&(incidents['Lat Fire']<=49)&(incidents['Lon Fire']>=-125)&(incidents['Lon Fire']<=-101)]\n",
    "print(incidents)"
   ]
  },
  {
   "cell_type": "code",
   "execution_count": 7,
   "id": "fd24ff5a",
   "metadata": {},
   "outputs": [],
   "source": [
    "# save incidents as a csv file\n",
    "incidents.to_csv('unique_fires.csv', index=False)"
   ]
  },
  {
   "cell_type": "code",
   "execution_count": null,
   "id": "17691fa4",
   "metadata": {},
   "outputs": [],
   "source": []
  }
 ],
 "metadata": {
  "kernelspec": {
   "display_name": "Python 3",
   "language": "python",
   "name": "python3"
  },
  "language_info": {
   "codemirror_mode": {
    "name": "ipython",
    "version": 3
   },
   "file_extension": ".py",
   "mimetype": "text/x-python",
   "name": "python",
   "nbconvert_exporter": "python",
   "pygments_lexer": "ipython3",
   "version": "3.7.6"
  }
 },
 "nbformat": 4,
 "nbformat_minor": 5
}
