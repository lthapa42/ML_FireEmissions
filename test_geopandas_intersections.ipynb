{
 "cells": [
  {
   "cell_type": "code",
   "execution_count": 1,
   "id": "92dee9f6",
   "metadata": {},
   "outputs": [],
   "source": [
    "import pandas as pd\n",
    "pd.set_option('display.max_rows', None)\n",
    "import geopandas as gpd\n",
    "import matplotlib.pyplot as plt\n",
    "import os\n",
    "import cartopy.crs as ccrs\n",
    "import cartopy\n",
    "import numpy as np\n",
    "import numpy.matlib\n",
    "import netCDF4 as nc\n",
    "np.set_printoptions(threshold=100000)\n",
    "from shapely.geometry import Polygon, Point, MultiPoint\n",
    "from shapely.ops import cascaded_union\n",
    "from datetime import datetime, timedelta\n",
    "import time\n",
    "import warnings\n",
    "warnings.filterwarnings('ignore')\n",
    "from joblib import Parallel, delayed"
   ]
  },
  {
   "cell_type": "markdown",
   "id": "690de2a8",
   "metadata": {},
   "source": [
    "## Create a geodataframe representation of the MERRA2 Grid"
   ]
  },
  {
   "cell_type": "code",
   "execution_count": 3,
   "id": "34a3ab46",
   "metadata": {},
   "outputs": [],
   "source": [
    "#load in a merra dataset\n",
    "dat_merra = nc.Dataset('/data2/lthapa/2019/MERRA2/WESTUS_MERRA2_400.inst1_2d_lfo_Nx.20191225.nc4')\n",
    "lat_merra = dat_merra['lat'][:].data\n",
    "lon_merra= dat_merra['lon'][:].data\n",
    "\n",
    "dlon_merra = 0.625/2\n",
    "dlat_merra = 0.5/2"
   ]
  },
  {
   "cell_type": "code",
   "execution_count": 22,
   "id": "8b3a84c0",
   "metadata": {},
   "outputs": [
    {
     "name": "stdout",
     "output_type": "stream",
     "text": [
      "1443\n",
      "<class 'geopandas.geodataframe.GeoDataFrame'>\n",
      "<class 'geopandas.geodataframe.GeoDataFrame'>\n"
     ]
    }
   ],
   "source": [
    "#make a dataframe of the polygons for the merra dataset\n",
    "\n",
    "xx = [np.matlib.repmat(np.array(i),len(lon_merra),1)[:,0] for i in range(len(lat_merra))]\n",
    "yy = [np.matlib.repmat(np.arange(len(lat_merra)),1,len(lon_merra))]\n",
    "\n",
    "lat_inds = []\n",
    "for element in xx:\n",
    "    for item in element:\n",
    "        lat_inds.append(item)       \n",
    "print(len(lat_inds))\n",
    "\n",
    "lon_inds = []\n",
    "for element in yy:\n",
    "    for item in element:\n",
    "        lon_inds.append(item)       \n",
    "#print(lon_inds[0].shape)\n",
    "df_merra = gpd.GeoDataFrame({'row':lat_inds, \n",
    "                        'col': lon_inds[0], \n",
    "                        'geometry': np.zeros(len(lon_merra)*len(lat_merra))})\n",
    "\n",
    "for ii in range(len(lat_merra)):\n",
    "    for jj in range(len(lon_merra)):\n",
    "        poly_cell = Polygon([(lon_merra[jj]-dlon_merra,lat_merra[ii]+dlat_merra), \n",
    "                     (lon_merra[jj]+dlon_merra,lat_merra[ii]+dlat_merra), \n",
    "                     (lon_merra[jj]+dlon_merra,lat_merra[ii]-dlat_merra), \n",
    "                     (lon_merra[jj]-dlon_merra, lat_merra[ii]-dlat_merra)])\n",
    "        #print(ii*len(lon)+jj)\n",
    "        df_merra.loc[ii*len(lon_merra)+jj, 'geometry'] = poly_cell\n",
    "        \n",
    "print(type(df_merra))\n",
    "\n",
    "hi = gpd.GeoDataFrame(df_merra['geometry'])\n",
    "print(type(hi))\n",
    "therest = pd.DataFrame(df_merra[['row', 'col']])\n",
    "\n",
    "\n",
    "hi.to_file(\"merra_grid_boxes_geometry.geojson\", driver='GeoJSON')\n",
    "therest.to_csv(\"merra_grid_boxes_indices.csv\")"
   ]
  },
  {
   "cell_type": "markdown",
   "id": "95a855ef",
   "metadata": {},
   "source": [
    "## Create a GeoDataFrame Representation of the QFED Grid"
   ]
  },
  {
   "cell_type": "code",
   "execution_count": 27,
   "id": "31fc7ea9",
   "metadata": {},
   "outputs": [],
   "source": [
    "#load in a merra dataset\n",
    "dat_qfed = nc.Dataset('/data2/lthapa/2019/QFED/WESTUS_qfed2.emis_pm25.006.20190901.nc4')\n",
    "lat_qfed = dat_qfed['lat'][:].data\n",
    "lon_qfed= dat_qfed['lon'][:].data\n",
    "\n",
    "dlon_qfed = 0.1/2\n",
    "dlat_qfed = 0.1/2"
   ]
  },
  {
   "cell_type": "code",
   "execution_count": 30,
   "id": "14c69634",
   "metadata": {},
   "outputs": [
    {
     "name": "stdout",
     "output_type": "stream",
     "text": [
      "43200\n",
      "<class 'geopandas.geodataframe.GeoDataFrame'>\n"
     ]
    }
   ],
   "source": [
    "#make a dataframe of the polygons for the merra dataset\n",
    "\n",
    "xx = [np.matlib.repmat(np.array(i),len(lon_qfed),1)[:,0] for i in range(len(lat_qfed))]\n",
    "yy = [np.matlib.repmat(np.arange(len(lat_qfed)),1,len(lon_qfed))]\n",
    "\n",
    "lat_inds = []\n",
    "for element in xx:\n",
    "    for item in element:\n",
    "        lat_inds.append(item)       \n",
    "print(len(lat_inds))\n",
    "\n",
    "lon_inds = []\n",
    "for element in yy:\n",
    "    for item in element:\n",
    "        lon_inds.append(item)       \n",
    "#print(lon_inds[0].shape)\n",
    "df_qfed = gpd.GeoDataFrame({'row':lat_inds, \n",
    "                        'col': lon_inds[0], \n",
    "                        'geometry': np.zeros(len(lon_qfed)*len(lat_qfed))})\n",
    "\n",
    "for ii in range(len(lat_qfed)):\n",
    "    for jj in range(len(lon_qfed)):\n",
    "        poly_cell = Polygon([(lon_qfed[jj]-dlon_qfed,lat_qfed[ii]+dlat_qfed), \n",
    "                     (lon_qfed[jj]+dlon_qfed,lat_qfed[ii]+dlat_qfed), \n",
    "                     (lon_qfed[jj]+dlon_qfed,lat_qfed[ii]-dlat_qfed), \n",
    "                     (lon_qfed[jj]-dlon_qfed, lat_qfed[ii]-dlat_qfed)])\n",
    "        #print(ii*len(lon)+jj)\n",
    "        df_qfed.loc[ii*len(lon_qfed)+jj, 'geometry'] = poly_cell\n",
    "        \n",
    "#print(df_qfed)\n",
    "\n",
    "hi = gpd.GeoDataFrame(df_qfed['geometry'])\n",
    "print(type(hi))\n",
    "therest = pd.DataFrame(df_qfed[['row', 'col']])\n",
    "\n",
    "\n",
    "hi.to_file(\"qfed_grid_boxes_geometry.geojson\", driver='GeoJSON')\n",
    "therest.to_csv(\"qfed_grid_boxes_indices.csv\")"
   ]
  },
  {
   "cell_type": "markdown",
   "id": "9c2f5562",
   "metadata": {},
   "source": [
    "## Do other stuff"
   ]
  },
  {
   "cell_type": "code",
   "execution_count": 61,
   "id": "1281b413",
   "metadata": {},
   "outputs": [],
   "source": [
    "#df_grid is a dataframe of grid cells as polygons and the associated cell indices\n",
    "#fire_shape is the polygon associated with the fire on a given day\n",
    "def calc_intersection(df_grid, fire_shape):\n",
    "    df_grid_geometry = gpd.GeoSeries(df_grid['geometry']) \n",
    "    areas= df_grid_geometry.intersection(fire_shape, align=False).area #a dataframe of the intersections\n",
    "    #return a dataframe with the indices and overlaps\n",
    "    df_return = pd.DataFrame({'row': df_grid[areas!=0]['row'], 'col': df_grid[areas!=0]['col'], 'overlap':areas[areas!=0]/fire_shape.area })\n",
    "    print(df_return)"
   ]
  },
  {
   "cell_type": "code",
   "execution_count": 70,
   "id": "ccda3d1c",
   "metadata": {},
   "outputs": [
    {
     "name": "stdout",
     "output_type": "stream",
     "text": [
      "     row  col  overlap\n",
      "504   12   23      1.0\n"
     ]
    }
   ],
   "source": [
    "calc_intersection(df, fire_polygon)"
   ]
  },
  {
   "cell_type": "code",
   "execution_count": 62,
   "id": "db2774ca",
   "metadata": {},
   "outputs": [
    {
     "name": "stdout",
     "output_type": "stream",
     "text": [
      "POLYGON ((-102.4847222 36.9952778, -102.4849148109331 36.99135711438682, -102.4854907887839 36.98747418711935, -102.4864445865707 36.98366641290982, -102.4877670186995 36.9799704627054, -102.4894453494261 36.97642193052695, -102.4914634155079 36.97305499067921, -102.4938017818655 36.96990206863345, -102.4964379287525 36.96699352875253, -102.4993464686334 36.96435738186549, -102.5024993906792 36.96201901550789, -102.505866330527 36.96000094942606, -102.5094148627054 36.95832261869955, -102.5131108129098 36.95700018657071, -102.5169185871193 36.95604638878387, -102.5208015143868 36.95547041093311, -102.5247222 36.9552778, -102.5286428856132 36.95547041093311, -102.5325258128806 36.95604638878387, -102.5363335870902 36.95700018657071, -102.5400295372946 36.95832261869955, -102.543578069473 36.96000094942606, -102.5469450093208 36.96201901550789, -102.5500979313666 36.96435738186549, -102.5530064712475 36.96699352875253, -102.5556426181345 36.96990206863345, -102.5579809844921 36.97305499067921, -102.5599990505739 36.97642193052695, -102.5616773813005 36.9799704627054, -102.5629998134293 36.98366641290982, -102.5639536112161 36.98747418711935, -102.5645295890669 36.99135711438682, -102.5647222 36.9952778, -102.5645295890669 36.99919848561318, -102.5639536112161 37.00308141288064, -102.5629998134293 37.00688918709017, -102.5616773813005 37.0105851372946, -102.5599990505739 37.01413366947304, -102.5579809844921 37.01750060932078, -102.5556426181345 37.02065353136654, -102.5530064712475 37.02356207124746, -102.5500979313666 37.0261982181345, -102.5469450093208 37.0285365844921, -102.543578069473 37.03055465057393, -102.5400295372946 37.03223298130045, -102.5363335870902 37.03355541342928, -102.5325258128806 37.03450921121613, -102.5286428856132 37.03508518906688, -102.5247222 37.0352778, -102.5208015143868 37.03508518906688, -102.5169185871193 37.03450921121613, -102.5131108129098 37.03355541342928, -102.5094148627054 37.03223298130045, -102.505866330527 37.03055465057393, -102.5024993906792 37.0285365844921, -102.4993464686334 37.0261982181345, -102.4964379287525 37.02356207124746, -102.4938017818655 37.02065353136654, -102.4914634155079 37.01750060932078, -102.4894453494261 37.01413366947304, -102.4877670186995 37.0105851372946, -102.4864445865707 37.00688918709017, -102.4854907887839 37.00308141288064, -102.4849148109331 36.99919848561318, -102.4847222 36.9952778))\n",
      "0\n",
      "       row  col   overlap\n",
      "14384   59  164  0.494264\n",
      "14385   59  165  0.080750\n",
      "14624   60   44  0.372699\n",
      "14625   60   45  0.052235\n",
      "1.0172138214111328\n"
     ]
    }
   ],
   "source": [
    "fire_polygons = gpd.read_file('fire_polygons_only.geojson')\n",
    "df_qfed_boxes = gpd.read_file('qfed_grid_boxes_geometry.geojson')\n",
    "df_qfed_indices = pd.read_csv('qfed_grid_boxes_indices.csv')\n",
    "\n",
    "df_qfed = pd.concat([df_qfed_indices, df_qfed_boxes], axis=1)\n",
    "df_qfed.loc[0:55]\n",
    "print(fire_polygons.iloc[0][0])\n",
    "for nn in range(1):#len(fire_polygons)):\n",
    "    tic = time.time()\n",
    "    print(nn)\n",
    "    fire_poly = fire_polygons.iloc[nn]\n",
    "    fire_poly = fire_poly[0]\n",
    "    calc_intersection(df_qfed, fire_poly)\n",
    "    toc=time.time()\n",
    "    print(toc-tic)"
   ]
  },
  {
   "cell_type": "code",
   "execution_count": 56,
   "id": "4a542588",
   "metadata": {},
   "outputs": [
    {
     "name": "stdout",
     "output_type": "stream",
     "text": [
      "47.45000076293945 -119.05000305175781\n",
      "35.45000076293945 -118.94999694824219\n",
      "<class 'pandas.core.series.Series'>\n"
     ]
    }
   ],
   "source": [
    "print(lat_qfed[164], lon_qfed[59])\n",
    "print(lat_qfed[44], lon_qfed[60])\n",
    "print(type(fire_polygons.loc[81]))"
   ]
  },
  {
   "cell_type": "code",
   "execution_count": null,
   "id": "b4575183",
   "metadata": {},
   "outputs": [],
   "source": []
  }
 ],
 "metadata": {
  "kernelspec": {
   "display_name": "Python 3",
   "language": "python",
   "name": "python3"
  },
  "language_info": {
   "codemirror_mode": {
    "name": "ipython",
    "version": 3
   },
   "file_extension": ".py",
   "mimetype": "text/x-python",
   "name": "python",
   "nbconvert_exporter": "python",
   "pygments_lexer": "ipython3",
   "version": "3.7.6"
  }
 },
 "nbformat": 4,
 "nbformat_minor": 5
}
