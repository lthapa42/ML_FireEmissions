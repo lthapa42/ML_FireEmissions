{
 "cells": [
  {
   "cell_type": "markdown",
   "id": "ae1f6cb6",
   "metadata": {},
   "source": [
    "In this notebook I turn the 30mx30m fwi-category fuel data into 300mx300m data"
   ]
  },
  {
   "cell_type": "code",
   "execution_count": 1,
   "id": "66a96087",
   "metadata": {},
   "outputs": [],
   "source": [
    "import rasterio\n",
    "from rasterio.windows import get_data_window,Window, from_bounds\n",
    "import matplotlib.pyplot as plt\n",
    "from rasterio.plot import show\n",
    "from rasterio.enums import Resampling\n",
    "import pandas as pd\n",
    "import numpy as np\n",
    "from shapely.geometry import Point\n",
    "import geopandas as gpd\n",
    "import datetime\n",
    "from joblib import Parallel, delayed\n",
    "import pyproj\n",
    "import cartopy.crs as ccrs\n",
    "import cartopy.feature as cfeature\n",
    "import xarray as xr\n",
    "from matplotlib import path \n"
   ]
  },
  {
   "cell_type": "code",
   "execution_count": 2,
   "id": "6441ff24",
   "metadata": {
    "code_folding": []
   },
   "outputs": [],
   "source": [
    "def build_one_coarse_cell(row_select,col_select,ii,jj):\n",
    "    #print(ii,jj)\n",
    "    #tic = datetime.datetime.now()\n",
    "    win = Window(col_select[jj],row_select[ii],33,33)\n",
    "    #win = Window(col_select[jj],row_select[ii],12,12)\n",
    "    #win = Window(col_select,row_select,10,10)\n",
    "    with rasterio.open('../FCCS_Fuel_Fire_Danger_Metric.tif') as src: \n",
    "        w = src.read(1, window=win)\n",
    "        w_flat = w.flatten()\n",
    "        row_win = np.arange(win.row_off,win.row_off+win.height)\n",
    "        col_win = np.arange(win.col_off,win.col_off+win.width)\n",
    "        COLS_WIN,ROWS_WIN=np.meshgrid(col_win,row_win)\n",
    "        \n",
    "        xs_win, ys_win = rasterio.transform.xy(src.transform, ROWS_WIN, COLS_WIN)\n",
    "    #centers are the middle of the 300mx300m box\n",
    "    y_ctr =(np.amin(ys_win)+np.amax(ys_win))/2\n",
    "    x_ctr =(np.amin(xs_win)+np.amax(xs_win))/2\n",
    "    #print(w_flat)\n",
    "    #print(loadings.loc[w_flat])\n",
    "    \n",
    "    loadings_sub = loadings.loc[w_flat].drop(columns=['Unnamed: 0', 'COUNT','FUELBED_NA'])\n",
    "    df_cell = pd.DataFrame(loadings_sub.mean(axis=0)).transpose()\n",
    "    df_cell['y_ctr']=y_ctr\n",
    "    df_cell['x_ctr'] = x_ctr\n",
    "    df_cell['row'] = ii\n",
    "    df_cell['col'] = jj\n",
    "\n",
    "    #toc = datetime.datetime.now()\n",
    "    #print(toc-tic)\n",
    "    return(df_cell.set_index(['row','col']))"
   ]
  },
  {
   "cell_type": "code",
   "execution_count": 3,
   "id": "1a937650",
   "metadata": {},
   "outputs": [],
   "source": [
    "#LAT and LON are 2d arrays\n",
    "def calculate_grid_cell_corners(LAT, LON):\n",
    "    #we will assume the very edges of the polygons don't touch the boundary of the domain\n",
    "    lat_corners = (LAT[0:(LAT.shape[0]-1),  0:(LAT.shape[1])-1] + LAT[1:(LAT.shape[0]), 1:(LAT.shape[1])])/2\n",
    "    lon_corners = (LON[0:(LAT.shape[0]-1),  0:(LAT.shape[1])-1] + LON[1:(LAT.shape[0]), 1:(LAT.shape[1])])/2\n",
    "    return lat_corners, lon_corners"
   ]
  },
  {
   "cell_type": "code",
   "execution_count": 4,
   "id": "25b7fa08",
   "metadata": {},
   "outputs": [],
   "source": [
    "#makes and saves a geodataframe of a grid given the center and corner points for that grid as 2D matrices\n",
    "def build_grid_netcdf(LAT_COR, LON_COR, LAT_CTR, LON_CTR, filename):\n",
    "    #loop over the centers\n",
    "    nrows_center = LAT_CTR.shape[0]\n",
    "    ncols_center = LAT_CTR.shape[1]\n",
    "    print(nrows_center, ncols_center)\n",
    "\n",
    "    nrows_corner = LAT_COR.shape[0]\n",
    "    ncols_corner = LAT_COR.shape[1]\n",
    "    print(nrows_corner,ncols_corner)\n",
    "    \n",
    "    rows_ctr = np.arange(nrows_center)\n",
    "    cols_ctr = np.arange(ncols_center)\n",
    "    rows_cor = np.arange(nrows_corner)\n",
    "    cols_cor = np.arange(ncols_corner)\n",
    "\n",
    "    \n",
    "    dat_grid = xr.Dataset(\n",
    "        data_vars = dict(\n",
    "            LAT_CTR=(['rows_ctr','cols_ctr'],LAT_CTR),\n",
    "            LON_CTR=(['rows_ctr','cols_ctr'],LON_CTR),\n",
    "            LAT_COR=(['rows_cor','cols_cor'],LAT_COR),\n",
    "            LON_COR=(['rows_cor','cols_cor'],LON_COR),\n",
    "        ),\n",
    "        \n",
    "        coords = dict(\n",
    "            rows_ctr =(['rows_ctr'],rows_ctr),\n",
    "            cols_ctr =(['cols_ctr'],cols_ctr),\n",
    "            rows_cor =(['rows_cor'],rows_cor),\n",
    "            cols_cor =(['cols_cor'],cols_cor),\n",
    "        \n",
    "        )\n",
    "        \n",
    "    )\n",
    "    print(dat_grid)\n",
    "    dat_grid.to_netcdf(filename+'.nc')"
   ]
  },
  {
   "cell_type": "code",
   "execution_count": 5,
   "id": "5b35c207",
   "metadata": {},
   "outputs": [],
   "source": [
    "#fnction is from here: https://gis.stackexchange.com/questions/71630/subsetting-a-curvilinear-netcdf-file-roms-model-output-using-a-lon-lat-boundin\n",
    "def bbox2ij(lon,lat,bbox):\n",
    "    bbox=np.array(bbox)\n",
    "    mypath=np.array([bbox[[0,1,1,0]],bbox[[2,2,3,3]]]).T\n",
    "    p = path.Path(mypath)\n",
    "    points = np.vstack((lon.flatten(),lat.flatten())).T\n",
    "    n,m = np.shape(lon)\n",
    "    inside = p.contains_points(points).reshape((n,m))\n",
    "    ii,jj = np.meshgrid(range(m),range(n)) #ii is the columns, jj is the rows\n",
    "    return min(ii[inside]),max(ii[inside]),min(jj[inside]),max(jj[inside])"
   ]
  },
  {
   "cell_type": "markdown",
   "id": "4288337c",
   "metadata": {},
   "source": [
    "# Coarsen the FWI-based loading data"
   ]
  },
  {
   "cell_type": "code",
   "execution_count": null,
   "id": "69a1f3ee",
   "metadata": {
    "code_folding": [
     0
    ]
   },
   "outputs": [],
   "source": [
    "# All of the code, for use in the python script\n",
    "loadings = pd.read_csv('FWI_Category_Fuel_Loadings.csv').set_index('VALUE')\n",
    "\n",
    "#get the dimensions of the whole tif file\n",
    "src = rasterio.open('../FCCS_Fuel_Fire_Danger_Metric.tif')\n",
    "\n",
    "print(src.count) #number of bands/data layers\n",
    "file_width = src.width\n",
    "file_height = src.height\n",
    "print(file_width, file_height) #1.5e10 points total!\n",
    "\n",
    "row_coarse = np.arange(0, file_height,12)\n",
    "col_coarse = np.arange(0,file_width,12)\n",
    "print(len(row_coarse), len(col_coarse)) #1.5e8 points\n",
    "\n",
    "COLS_WIN,ROWS_WIN=np.meshgrid(col_coarse,row_coarse)\n",
    "xs_win, ys_win = rasterio.transform.xy(src.transform, ROWS_WIN, COLS_WIN)\n",
    "\n",
    "#transform the coarsened grid into lat/lon, so we can select the bounding box\n",
    "xs_win, ys_win = rasterio.transform.xy(src.transform, ROWS_WIN, COLS_WIN)\n",
    "\n",
    "source_crs = 'epsg:5070' # Coordinate system of the file, conus Albers\n",
    "target_crs = 'epsg:4326' # Global lat-lon coordinate system\n",
    "\n",
    "conusAlbers_to_latlon = pyproj.Transformer.from_crs(source_crs, target_crs)\n",
    "tic = datetime.datetime.now()\n",
    "lat, lon = conusAlbers_to_latlon.transform(np.array(xs_win), np.array(ys_win))\n",
    "toc = datetime.datetime.now()\n",
    "print(toc-tic)\n",
    "\n",
    "#select the bounding box\n",
    "i0, i1, j0, j1 = bbox2ij(lon, lat, [-124, -101, 31, 49]) #original one\n",
    "#i0, i1, j0, j1 = bbox2ij(lon, lat, [-124, -103, 31, 49]) #smaller, not as far east\n",
    "\n",
    "#i0, i1, j0, j1 = bbox2ij(lon, lat, [-118.2, -117.4, 33.7, 34.7]) #bobcat\n",
    "print(i0, i1, j0, j1)\n",
    "#print(lon[j0:j1, i0:i1], lat[j0:j1, i0:i1])\n",
    "row_sel = row_coarse[j0:j1]\n",
    "col_sel = col_coarse[i0:i1]\n",
    "\n",
    "print(len(row_sel), len(col_sel))\n",
    "\n",
    "#make the coarse cells\n",
    "tic = datetime.datetime.now()\n",
    "print(tic)\n",
    "coarse_cells = Parallel(n_jobs=24)(delayed(build_one_coarse_cell)\n",
    "                                 (row_sel,col_sel,xx,yy) \n",
    "                                 for xx in range(len(row_sel)) for yy in range(len(col_sel)))\n",
    "toc =datetime.datetime.now()\n",
    "print(toc-tic)\n",
    "coarse_cells_df = pd.concat(coarse_cells)\n",
    "\n",
    "tic = datetime.datetime.now()\n",
    "coarse_cells_df=coarse_cells_df.reset_index().set_index(['row','col'])\n",
    "print(coarse_cells_df.iloc[0:1])\n",
    "coarse_cells_xr = coarse_cells_df.to_xarray()\n",
    "\n",
    "toc = datetime.datetime.now()\n",
    "print(toc-tic)\n",
    "print(coarse_cells_xr)\n",
    "\n",
    "\n",
    "source_crs = 'epsg:5070' # Coordinate system of the file, conus Albers\n",
    "target_crs = 'epsg:4326' # Global lat-lon coordinate system\n",
    "\n",
    "conusAlbers_to_latlon = pyproj.Transformer.from_crs(source_crs, target_crs)\n",
    "lat, lon = conusAlbers_to_latlon.transform(coarse_cells_xr['x_ctr'].values, coarse_cells_xr['y_ctr'].values)\n",
    "\n",
    "print(lat.shape)\n",
    "\n",
    "lat_corners, lon_corners = calculate_grid_cell_corners(lat, lon)\n",
    "print(lat_corners.shape)\n",
    "\n",
    "\n",
    "#MAKE SURE THE PLOT LOOKS GOOD BEFORE DOING THIS\n",
    "#put the grid into a netcdf\n",
    "build_grid_netcdf(lat_corners, lon_corners, lat, lon, 'FUEL_FWI_GRID_360M')\n",
    "\n",
    "#save the data in another netcdf\n",
    "coarse_cells_xr=coarse_cells_xr.assign_coords(lat_ctr=(('row', 'col'), lat), \n",
    "                                              lon_ctr=(('row', 'col'), lon))\n",
    "\n",
    "\n",
    "print(coarse_cells_xr['lon_ctr'].values)\n",
    "\n",
    "print(coarse_cells_xr)\n",
    "#coarse_cells_xr.to_netcdf('bobcat_fuel_fwi.nc')\n",
    "coarse_cells_xr.to_netcdf('fuel_fwi_360m.nc')"
   ]
  },
  {
   "cell_type": "code",
   "execution_count": 21,
   "id": "c8e1d9c5",
   "metadata": {},
   "outputs": [],
   "source": [
    "loadings = pd.read_csv('FWI_Category_Fuel_Loadings.csv').set_index('VALUE')"
   ]
  },
  {
   "cell_type": "code",
   "execution_count": 22,
   "id": "046706d9",
   "metadata": {},
   "outputs": [
    {
     "name": "stdout",
     "output_type": "stream",
     "text": [
      "1\n",
      "154208 97283\n",
      "2948 4673\n"
     ]
    }
   ],
   "source": [
    "#get the dimensions of the whole tif file\n",
    "src = rasterio.open('../FCCS_Fuel_Fire_Danger_Metric.tif')\n",
    "\n",
    "print(src.count) #number of bands/data layers\n",
    "file_width = src.width\n",
    "file_height = src.height\n",
    "print(file_width, file_height) #1.5e10 points total!\n",
    "\n",
    "row_coarse = np.arange(0, file_height,33)\n",
    "col_coarse = np.arange(0,file_width,33)\n",
    "print(len(row_coarse), len(col_coarse)) #1.5e8 points\n",
    "\n",
    "COLS_WIN,ROWS_WIN=np.meshgrid(col_coarse,row_coarse)\n",
    "xs_win, ys_win = rasterio.transform.xy(src.transform, ROWS_WIN, COLS_WIN)"
   ]
  },
  {
   "cell_type": "code",
   "execution_count": 23,
   "id": "6dc5d4a6",
   "metadata": {},
   "outputs": [
    {
     "name": "stdout",
     "output_type": "stream",
     "text": [
      "0:00:17.019343\n"
     ]
    }
   ],
   "source": [
    "#transform the coarsened grid into lat/lon, so we can select the bounding box\n",
    "xs_win, ys_win = rasterio.transform.xy(src.transform, ROWS_WIN, COLS_WIN)\n",
    "\n",
    "source_crs = 'epsg:5070' # Coordinate system of the file, conus Albers\n",
    "target_crs = 'epsg:4326' # Global lat-lon coordinate system\n",
    "\n",
    "conusAlbers_to_latlon = pyproj.Transformer.from_crs(source_crs, target_crs)\n",
    "tic = datetime.datetime.now()\n",
    "lat, lon = conusAlbers_to_latlon.transform(np.array(xs_win), np.array(ys_win))\n",
    "toc = datetime.datetime.now()\n",
    "print(toc-tic)\n"
   ]
  },
  {
   "cell_type": "code",
   "execution_count": 24,
   "id": "e24e57e1",
   "metadata": {},
   "outputs": [
    {
     "name": "stdout",
     "output_type": "stream",
     "text": [
      "0 2012 0 2307\n",
      "2307 2012\n"
     ]
    }
   ],
   "source": [
    "#select the bounding box\n",
    "i0, i1, j0, j1 = bbox2ij(lon, lat, [-124, -101, 31, 49]) #original one\n",
    "#i0, i1, j0, j1 = bbox2ij(lon, lat, [-124, -103, 31, 49]) #smaller, not as far east\n",
    "\n",
    "#i0, i1, j0, j1 = bbox2ij(lon, lat, [-118.2, -117.4, 33.7, 34.7]) #bobcat\n",
    "print(i0, i1, j0, j1)\n",
    "#print(lon[j0:j1, i0:i1], lat[j0:j1, i0:i1])\n",
    "row_sel = row_coarse[j0:j1]\n",
    "col_sel = col_coarse[i0:i1]\n",
    "\n",
    "print(len(row_sel), len(col_sel))"
   ]
  },
  {
   "cell_type": "code",
   "execution_count": 11,
   "id": "297fb25d",
   "metadata": {},
   "outputs": [
    {
     "data": {
      "image/png": "[encoded data removed]",
      "text/plain": [
       "<Figure size 1008x432 with 1 Axes>"
      ]
     },
     "metadata": {
      "needs_background": "light"
     },
     "output_type": "display_data"
    }
   ],
   "source": [
    "#plot the bounding box, sanity check\n",
    "plt.figure(figsize=(14, 6))\n",
    "ax = plt.axes(projection=ccrs.PlateCarree())\n",
    "plt.scatter(x=lon[j0,i0],y=lat[j0,i0])\n",
    "plt.scatter(x=lon[j1,i0],y=lat[j1,i0])\n",
    "plt.scatter(x=lon[j0,i1],y=lat[j0,i1])\n",
    "plt.scatter(x=lon[j1,i1],y=lat[j1,i1])\n",
    "\n",
    "gl = ax.gridlines(crs=ccrs.PlateCarree(), draw_labels=True,\n",
    "                  linewidth=2, color='gray', alpha=0.5, linestyle='--')\n",
    "ax.add_feature(cfeature.COASTLINE)\n",
    "ax.add_feature(cfeature.STATES)\n",
    "plt.show()"
   ]
  },
  {
   "cell_type": "code",
   "execution_count": 17,
   "id": "60ff8fd6",
   "metadata": {
    "scrolled": true
   },
   "outputs": [
    {
     "name": "stdout",
     "output_type": "stream",
     "text": [
      "2023-02-05 11:58:37.187801\n",
      "0:01:36.041625\n",
      "Index(['Extreme_N', 'Extreme_R', 'VeryHigh_N', 'VeryHigh_R', 'High_N',\n",
      "       'High_R', 'Moderate_N', 'Moderate_R', 'Low_N', 'Low_R', 'y_ctr',\n",
      "       'x_ctr'],\n",
      "      dtype='object')\n"
     ]
    }
   ],
   "source": [
    "#make the coarse cells\n",
    "tic = datetime.datetime.now()\n",
    "print(tic)\n",
    "coarse_cells = Parallel(n_jobs=2)(delayed(build_one_coarse_cell)\n",
    "                                 (row_sel,col_sel,xx,yy) \n",
    "                                 for xx in range(len(row_sel)) for yy in range(len(col_sel)))\n",
    "toc =datetime.datetime.now()\n",
    "print(toc-tic)\n",
    "coarse_cells_df = pd.concat(coarse_cells)\n",
    "print(coarse_cells_df.columns)\n",
    "\n",
    "#print(build_one_coarse_cell(row_sel,col_sel,0,0))\n",
    "#print(build_one_coarse_cell(row_sel[100],col_sel[1959]))"
   ]
  },
  {
   "cell_type": "code",
   "execution_count": 18,
   "id": "eb8c9c9c",
   "metadata": {},
   "outputs": [
    {
     "name": "stdout",
     "output_type": "stream",
     "text": [
      "         Extreme_N  Extreme_R  VeryHigh_N  VeryHigh_R    High_N    High_R  \\\n",
      "row col                                                                     \n",
      "0   0     2.671035   0.563892    2.065254    0.398612  1.583719  0.398612   \n",
      "\n",
      "         Moderate_N  Moderate_R     Low_N     Low_R      y_ctr      x_ctr  \n",
      "row col                                                                    \n",
      "0   0      1.057579    0.252064  0.590913  0.182507  1526610.0 -2024340.0  \n",
      "0:00:00.026322\n",
      "<xarray.Dataset>\n",
      "Dimensions:     (col: 97, row: 125)\n",
      "Coordinates:\n",
      "  * row         (row) int64 0 1 2 3 4 5 6 7 ... 117 118 119 120 121 122 123 124\n",
      "  * col         (col) int64 0 1 2 3 4 5 6 7 8 9 ... 88 89 90 91 92 93 94 95 96\n",
      "Data variables:\n",
      "    Extreme_N   (row, col) float64 2.671 4.457 6.738 ... 0.895 2.491 0.9792\n",
      "    Extreme_R   (row, col) float64 0.5639 1.042 0.8412 ... 0.02777 0.004591\n",
      "    VeryHigh_N  (row, col) float64 2.065 3.539 5.307 ... 0.7154 1.991 0.7826\n",
      "    VeryHigh_R  (row, col) float64 0.3986 0.69 0.7273 ... 0.04782 0.1373 0.05114\n",
      "    High_N      (row, col) float64 1.584 2.715 4.031 ... 0.5369 1.495 0.5873\n",
      "    High_R      (row, col) float64 0.3986 0.69 0.7273 ... 0.04782 0.1373 0.05114\n",
      "    Moderate_N  (row, col) float64 1.058 1.444 2.609 ... 0.3571 0.9915 0.3919\n",
      "    Moderate_R  (row, col) float64 0.2521 0.3735 0.4986 ... 0.1295 0.04999\n",
      "    Low_N       (row, col) float64 0.5909 0.7682 1.382 ... 0.1791 0.4979 0.1965\n",
      "    Low_R       (row, col) float64 0.1825 0.2525 0.3966 ... 0.1261 0.04942\n",
      "    y_ctr       (row, col) float64 1.527e+06 1.527e+06 ... 1.404e+06 1.404e+06\n",
      "    x_ctr       (row, col) float64 -2.024e+06 -2.023e+06 ... -1.929e+06\n"
     ]
    }
   ],
   "source": [
    "tic = datetime.datetime.now()\n",
    "#coarse_cells_df=coarse_cells_df.reset_index().set_index(['row','col'])\n",
    "print(coarse_cells_df.iloc[0:1])\n",
    "coarse_cells_xr = coarse_cells_df.to_xarray()\n",
    "\n",
    "toc = datetime.datetime.now()\n",
    "print(toc-tic)\n",
    "print(coarse_cells_xr)"
   ]
  },
  {
   "cell_type": "code",
   "execution_count": 19,
   "id": "2df3dfa6",
   "metadata": {},
   "outputs": [
    {
     "name": "stdout",
     "output_type": "stream",
     "text": [
      "(125, 97)\n",
      "(124, 96)\n",
      "125 97\n",
      "124 96\n",
      "<xarray.Dataset>\n",
      "Dimensions:   (cols_cor: 96, cols_ctr: 97, rows_cor: 124, rows_ctr: 125)\n",
      "Coordinates:\n",
      "  * rows_ctr  (rows_ctr) int64 0 1 2 3 4 5 6 7 ... 118 119 120 121 122 123 124\n",
      "  * cols_ctr  (cols_ctr) int64 0 1 2 3 4 5 6 7 8 ... 88 89 90 91 92 93 94 95 96\n",
      "  * rows_cor  (rows_cor) int64 0 1 2 3 4 5 6 7 ... 117 118 119 120 121 122 123\n",
      "  * cols_cor  (cols_cor) int64 0 1 2 3 4 5 6 7 8 ... 87 88 89 90 91 92 93 94 95\n",
      "Data variables:\n",
      "    LAT_CTR   (rows_ctr, cols_ctr) float64 34.64 34.64 34.64 ... 33.76 33.76\n",
      "    LON_CTR   (rows_ctr, cols_ctr) float64 -118.5 -118.5 ... -117.2 -117.2\n",
      "    LAT_COR   (rows_cor, cols_cor) float64 34.63 34.64 34.64 ... 33.76 33.76\n",
      "    LON_COR   (rows_cor, cols_cor) float64 -118.5 -118.5 ... -117.2 -117.2\n",
      "[[-118.467793   -118.45720976 -118.44662596 ... -117.47051613\n",
      "  -117.45988048 -117.44924429]\n",
      " [-118.46524357 -118.45466144 -118.44407874 ... -117.46807184\n",
      "  -117.45743732 -117.44680225]\n",
      " [-118.4626947  -118.45211368 -118.44153209 ... -117.4656281\n",
      "  -117.4549947  -117.44436076]\n",
      " ...\n",
      " [-118.16090095 -118.15045152 -118.14000154 ... -117.17630163\n",
      "  -117.1658019  -117.15530163]\n",
      " [-118.1584194  -118.14797105 -118.13752216 ... -117.1739228\n",
      "  -117.16342416 -117.15292499]\n",
      " [-118.1559384  -118.14549114 -118.13504333 ... -117.17154448\n",
      "  -117.16104694 -117.15054888]]\n",
      "<xarray.Dataset>\n",
      "Dimensions:     (col: 97, row: 125)\n",
      "Coordinates:\n",
      "  * row         (row) int64 0 1 2 3 4 5 6 7 ... 117 118 119 120 121 122 123 124\n",
      "  * col         (col) int64 0 1 2 3 4 5 6 7 8 9 ... 88 89 90 91 92 93 94 95 96\n",
      "    lat_ctr     (row, col) float64 34.64 34.64 34.64 34.64 ... 33.76 33.76 33.76\n",
      "    lon_ctr     (row, col) float64 -118.5 -118.5 -118.4 ... -117.2 -117.2 -117.2\n",
      "Data variables:\n",
      "    Extreme_N   (row, col) float64 2.671 4.457 6.738 ... 0.895 2.491 0.9792\n",
      "    Extreme_R   (row, col) float64 0.5639 1.042 0.8412 ... 0.02777 0.004591\n",
      "    VeryHigh_N  (row, col) float64 2.065 3.539 5.307 ... 0.7154 1.991 0.7826\n",
      "    VeryHigh_R  (row, col) float64 0.3986 0.69 0.7273 ... 0.04782 0.1373 0.05114\n",
      "    High_N      (row, col) float64 1.584 2.715 4.031 ... 0.5369 1.495 0.5873\n",
      "    High_R      (row, col) float64 0.3986 0.69 0.7273 ... 0.04782 0.1373 0.05114\n",
      "    Moderate_N  (row, col) float64 1.058 1.444 2.609 ... 0.3571 0.9915 0.3919\n",
      "    Moderate_R  (row, col) float64 0.2521 0.3735 0.4986 ... 0.1295 0.04999\n",
      "    Low_N       (row, col) float64 0.5909 0.7682 1.382 ... 0.1791 0.4979 0.1965\n",
      "    Low_R       (row, col) float64 0.1825 0.2525 0.3966 ... 0.1261 0.04942\n",
      "    y_ctr       (row, col) float64 1.527e+06 1.527e+06 ... 1.404e+06 1.404e+06\n",
      "    x_ctr       (row, col) float64 -2.024e+06 -2.023e+06 ... -1.929e+06\n"
     ]
    }
   ],
   "source": [
    "source_crs = 'epsg:5070' # Coordinate system of the file, conus Albers\n",
    "target_crs = 'epsg:4326' # Global lat-lon coordinate system\n",
    "\n",
    "conusAlbers_to_latlon = pyproj.Transformer.from_crs(source_crs, target_crs)\n",
    "lat, lon = conusAlbers_to_latlon.transform(coarse_cells_xr['x_ctr'].values, coarse_cells_xr['y_ctr'].values)\n",
    "\n",
    "print(lat.shape)\n",
    "\n",
    "lat_corners, lon_corners = calculate_grid_cell_corners(lat, lon)\n",
    "print(lat_corners.shape)\n",
    "\n",
    "\n",
    "#MAKE SURE THE PLOT LOOKS GOOD BEFORE DOING THIS\n",
    "#put the grid into a netcdf\n",
    "build_grid_netcdf(lat_corners, lon_corners, lat, lon, 'BOBCAT_FUEL_FWI_GRID_990M')\n",
    "\n",
    "#save the data in another netcdf\n",
    "coarse_cells_xr=coarse_cells_xr.assign_coords(lat_ctr=(('row', 'col'), lat), \n",
    "                                              lon_ctr=(('row', 'col'), lon))\n",
    "\n",
    "\n",
    "print(coarse_cells_xr['lon_ctr'].values)\n",
    "\n",
    "print(coarse_cells_xr)\n",
    "#coarse_cells_xr.to_netcdf('bobcat_fuel_fwi.nc')\n",
    "coarse_cells_xr.to_netcdf('bobcat_fuel_fwi_990m.nc')"
   ]
  },
  {
   "cell_type": "code",
   "execution_count": null,
   "id": "d96c8113",
   "metadata": {},
   "outputs": [],
   "source": [
    "\n",
    "plt.figure(figsize=(14, 6))\n",
    "ax = plt.axes(projection=ccrs.PlateCarree())\n",
    "coarse_cells_xr['Low_N'].plot(ax=ax,transform=ccrs.PlateCarree(), x=\"lon_ctr\", y=\"lat_ctr\")\n",
    "gl = ax.gridlines(crs=ccrs.PlateCarree(), draw_labels=True,\n",
    "                  linewidth=2, color='gray', alpha=0.5, linestyle='--')\n",
    "plt.show()\n",
    "\n",
    "\"\"\"ds.Tair[0].plot.pcolormesh(\n",
    "    ax=ax, transform=ccrs.PlateCarree(), x=\"xc\", y=\"yc\", add_colorbar=False\n",
    ")\"\"\""
   ]
  },
  {
   "cell_type": "code",
   "execution_count": null,
   "id": "a62d73c0",
   "metadata": {
    "scrolled": false
   },
   "outputs": [],
   "source": []
  },
  {
   "cell_type": "markdown",
   "id": "39047d83",
   "metadata": {
    "heading_collapsed": true
   },
   "source": [
    "# Coarsen the slope data"
   ]
  },
  {
   "cell_type": "code",
   "execution_count": 6,
   "id": "fcb6f640",
   "metadata": {
    "hidden": true
   },
   "outputs": [],
   "source": [
    "def build_one_coarse_slope_cell(row_select,col_select,ii,jj,numcell):\n",
    "    #print(ii,jj)\n",
    "    #tic = datetime.datetime.now()\n",
    "    win = Window(col_select[jj],row_select[ii],numcell,numcell)\n",
    "    #win = Window(col_select[jj],row_select[ii],12,12)\n",
    "    #win = Window(col_select,row_select,10,10)\n",
    "    with rasterio.open('/data2/lthapa/static_maps/LF2016_Slp_200_CONUS/Tif/LC16_Slp_200.tif') as src:        \n",
    "        w = src.read(1, window=win)\n",
    "        row_win = np.arange(win.row_off,win.row_off+win.height)\n",
    "        col_win = np.arange(win.col_off,win.col_off+win.width)\n",
    "        COLS_WIN,ROWS_WIN=np.meshgrid(col_win,row_win)\n",
    "        \n",
    "        xs_win, ys_win = rasterio.transform.xy(src.transform, ROWS_WIN, COLS_WIN)\n",
    "    #centers are the middle of the 300mx300m box\n",
    "    y_ctr =(np.amin(ys_win)+np.amax(ys_win))/2\n",
    "    x_ctr =(np.amin(xs_win)+np.amax(xs_win))/2\n",
    "    #print(w_flat)\n",
    "    #print(loadings.loc[w_flat])\n",
    "    \n",
    "\n",
    "    df_cell = pd.DataFrame()\n",
    "    w=w.astype(float)\n",
    "    w[w==-9999] = np.nan\n",
    "    df_cell.loc[0,'mean_slope'] = np.nanmean(w)\n",
    "    df_cell.loc[0,'y_ctr']=y_ctr\n",
    "    df_cell.loc[0,'x_ctr'] = x_ctr\n",
    "    df_cell.loc[0,'row'] = ii\n",
    "    df_cell.loc[0,'col'] = jj\n",
    "\n",
    "    #toc = datetime.datetime.now()\n",
    "    #print(toc-tic)\n",
    "    return(df_cell.set_index(['row','col']))"
   ]
  },
  {
   "cell_type": "code",
   "execution_count": 7,
   "id": "e549625a",
   "metadata": {
    "hidden": true
   },
   "outputs": [
    {
     "name": "stdout",
     "output_type": "stream",
     "text": [
      "1\n",
      "154667 100000\n",
      "EPSG:5070\n"
     ]
    }
   ],
   "source": [
    "#get some general information about the file (size, CRS, for my reference)\n",
    "src = rasterio.open('/data2/lthapa/static_maps/LF2016_Slp_200_CONUS/Tif/LC16_Slp_200.tif')\n",
    "print(src.count) #number of bands/data layers\n",
    "file_width = src.width\n",
    "file_height = src.height\n",
    "print(file_width, file_height)\n",
    "print(src.crs)"
   ]
  },
  {
   "cell_type": "markdown",
   "id": "fe90bd37",
   "metadata": {
    "heading_collapsed": true,
    "hidden": true
   },
   "source": [
    "## First, grab bobcat at the 30m resolution"
   ]
  },
  {
   "cell_type": "code",
   "execution_count": 8,
   "id": "12d23454",
   "metadata": {
    "hidden": true,
    "scrolled": true
   },
   "outputs": [
    {
     "name": "stdout",
     "output_type": "stream",
     "text": [
      "                           geometry\n",
      "0  POINT (-2056993.279 1403765.768)\n",
      "1  POINT (-1911913.979 1541963.082)\n",
      "-2056993.2786384583 -1911913.9789149691 1403765.7677568616 1541963.0823714612\n",
      "Window(col_off=10181.057378718062, row_off=54515.73058761796, width=4835.976657449632, height=4606.577153819984)\n",
      "54515.0 59121.0 10181.0 15016.0\n",
      "4606 4835\n",
      "(4606, 4835)\n",
      "(4605, 4834)\n"
     ]
    }
   ],
   "source": [
    "#First, grab bobcat at the 30m resolution\n",
    "p1 = Point(-118.5, 33.5)\n",
    "p2 = Point(-117.3, 35)\n",
    "\n",
    "d = {'geometry': [p1, p2]}\n",
    "gdf = gpd.GeoDataFrame(d, crs=4326)\n",
    "gdf= gdf.to_crs(5070)\n",
    "print(gdf)\n",
    "left = gdf.geometry[0].x\n",
    "right = gdf.geometry[1].x\n",
    "bottom = gdf.geometry[0].y\n",
    "top = gdf.geometry[1].y\n",
    "print(left,right,bottom,top)\n",
    "\n",
    "#select the portion of the tif file that corresponds to our western US domain\n",
    "with rasterio.open('/data2/lthapa/static_maps/LF2016_Slp_200_CONUS/Tif/LC16_Slp_200.tif') as src:\n",
    "    win = from_bounds(left,bottom,right,top, src.transform)\n",
    "    print(win)\n",
    "    w = src.read(1, window=win)\n",
    "    #start_col = np.floor(win.col_off)\n",
    "    #end_col = start_col+np.ceil(win.width)\n",
    "    #start_row=np.floor(win.row_off)\n",
    "    #end_row = start_row+np.ceil(win.height)\n",
    "    \n",
    "    start_col = np.floor(win.col_off)\n",
    "    end_col = start_col+np.floor(win.width)\n",
    "    start_row=np.floor(win.row_off)\n",
    "    end_row = start_row+np.floor(win.height)\n",
    "    \n",
    "print(start_row, end_row, start_col,end_col)\n",
    "row_sel = np.arange(start_row, end_row, 1)\n",
    "col_sel = np.arange(start_col,end_col,1)\n",
    "\n",
    "print(len(row_sel), len(col_sel))\n",
    "\n",
    "#transform the row numbers into x-y coordinates for projection 5070\n",
    "COLS_WIN,ROWS_WIN=np.meshgrid(col_sel,row_sel)\n",
    "xs_win, ys_win = rasterio.transform.xy(src.transform, ROWS_WIN, COLS_WIN)\n",
    "\n",
    "#transform them into lat/lon\n",
    "source_crs = 'epsg:5070' # Coordinate system of the file, conus Albers\n",
    "target_crs = 'epsg:4326' # Global lat-lon coordinate system\n",
    "\n",
    "conusAlbers_to_latlon = pyproj.Transformer.from_crs(source_crs, target_crs)\n",
    "lat, lon = conusAlbers_to_latlon.transform(np.array(xs_win), np.array(ys_win))\n",
    "\n",
    "print(lat.shape)\n",
    "\n",
    "lat_corners, lon_corners = calculate_grid_cell_corners(lat, lon)\n",
    "print(lat_corners.shape)"
   ]
  },
  {
   "cell_type": "code",
   "execution_count": 9,
   "id": "edbcb469",
   "metadata": {
    "hidden": true
   },
   "outputs": [
    {
     "name": "stdout",
     "output_type": "stream",
     "text": [
      "(4606, 4835)\n",
      "(4606, 4835)\n",
      "(4605, 4834)\n"
     ]
    }
   ],
   "source": [
    "print(w.shape)\n",
    "print(lat.shape)\n",
    "print(lat_corners.shape)"
   ]
  },
  {
   "cell_type": "code",
   "execution_count": 10,
   "id": "4aabebc6",
   "metadata": {
    "hidden": true
   },
   "outputs": [
    {
     "name": "stdout",
     "output_type": "stream",
     "text": [
      "<xarray.Dataset>\n",
      "Dimensions:  (cols: 4835, rows: 4606)\n",
      "Coordinates:\n",
      "  * rows     (rows) int64 0 1 2 3 4 5 6 7 ... 4599 4600 4601 4602 4603 4604 4605\n",
      "  * cols     (cols) int64 0 1 2 3 4 5 6 7 ... 4828 4829 4830 4831 4832 4833 4834\n",
      "Data variables:\n",
      "    slope    (rows, cols) int16 25 14 17 22 19 16 27 13 26 ... 0 0 1 1 0 0 0 0 0\n",
      "    lat      (rows, cols) float64 34.7 34.7 34.7 34.7 ... 33.79 33.79 33.79\n",
      "    lon      (rows, cols) float64 -118.9 -118.9 -118.9 ... -117.0 -117.0 -117.0\n"
     ]
    }
   ],
   "source": [
    "#build the netcdf for the grid\n",
    "#build_grid_netcdf(lat_corners, lon_corners, lat, lon, 'BOBCAT_SLOPE_30M')\n",
    "\n",
    "#build the netcdf for the slope values\n",
    "ds_slope_save = xr.Dataset(data_vars= {'slope':( ('rows','cols'), w),\n",
    "                                        'lat':( ('rows','cols'), lat),\n",
    "                                        'lon':( ('rows','cols'), lon)},\n",
    "                            coords ={'rows':np.arange(0,w.shape[0],1), \n",
    "                                     'cols':np.arange(0,w.shape[1],1)}\n",
    "\n",
    "                            )\n",
    "print(ds_slope_save)\n",
    "ds_slope_save.to_netcdf('bobcat_slope_30m.nc')"
   ]
  },
  {
   "cell_type": "markdown",
   "id": "e7aa2e3d",
   "metadata": {
    "hidden": true
   },
   "source": [
    "## Now, grab bobcat at coarser resolution"
   ]
  },
  {
   "cell_type": "code",
   "execution_count": 8,
   "id": "3028a72f",
   "metadata": {
    "hidden": true
   },
   "outputs": [
    {
     "name": "stdout",
     "output_type": "stream",
     "text": [
      "1\n",
      "154667 100000\n",
      "3031 4687\n",
      "0:00:23.827132\n"
     ]
    }
   ],
   "source": [
    "#get the dimensions of the whole tif file\n",
    "src = rasterio.open('/data2/lthapa/static_maps/LF2016_Slp_200_CONUS/Tif/LC16_Slp_200.tif')\n",
    "\n",
    "print(src.count) #number of bands/data layers\n",
    "file_width = src.width\n",
    "file_height = src.height\n",
    "print(file_width, file_height) #1.5e10 points total!\n",
    "\n",
    "row_coarse = np.arange(0, file_height,33)\n",
    "col_coarse = np.arange(0,file_width,33)\n",
    "print(len(row_coarse), len(col_coarse)) #1.5e8 points\n",
    "\n",
    "COLS_WIN,ROWS_WIN=np.meshgrid(col_coarse,row_coarse)\n",
    "\n",
    "#transform the coarsened grid into lat/lon, so we can select the bounding box\n",
    "xs_win, ys_win = rasterio.transform.xy(src.transform, ROWS_WIN, COLS_WIN)\n",
    "\n",
    "source_crs = 'epsg:5070' # Coordinate system of the file, conus Albers\n",
    "target_crs = 'epsg:4326' # Global lat-lon coordinate system\n",
    "\n",
    "conusAlbers_to_latlon = pyproj.Transformer.from_crs(source_crs, target_crs)\n",
    "tic = datetime.datetime.now()\n",
    "lat, lon = conusAlbers_to_latlon.transform(np.array(xs_win), np.array(ys_win))\n",
    "toc = datetime.datetime.now()\n",
    "print(toc-tic)\n"
   ]
  },
  {
   "cell_type": "code",
   "execution_count": 13,
   "id": "71c2566b",
   "metadata": {
    "hidden": true
   },
   "outputs": [
    {
     "name": "stdout",
     "output_type": "stream",
     "text": [
      "341 437 1666 1792\n",
      "126 96\n"
     ]
    },
    {
     "data": {
      "image/png": "[encoded data removed]",
      "text/plain": [
       "<Figure size 1008x432 with 1 Axes>"
      ]
     },
     "metadata": {
      "needs_background": "light"
     },
     "output_type": "display_data"
    }
   ],
   "source": [
    "#select the bounding box\n",
    "#i0, i1, j0, j1 = bbox2ij(lon, lat, [-124, -101, 31, 49]) #original one\n",
    "#i0, i1, j0, j1 = bbox2ij(lon, lat, [-124, -103, 31, 49]) #smaller, not as far east\n",
    "\n",
    "i0, i1, j0, j1 = bbox2ij(lon, lat, [-118.2, -117.4, 33.7, 34.7]) #bobcat\n",
    "print(i0, i1, j0, j1)\n",
    "#print(lon[j0:j1, i0:i1], lat[j0:j1, i0:i1])\n",
    "row_sel = row_coarse[j0:j1]\n",
    "col_sel = col_coarse[i0:i1]\n",
    "\n",
    "print(len(row_sel), len(col_sel))\n",
    "\n",
    "#plot the bounding box, sanity check\n",
    "plt.figure(figsize=(14, 6))\n",
    "ax = plt.axes(projection=ccrs.PlateCarree())\n",
    "plt.scatter(x=lon[j0,i0],y=lat[j0,i0])\n",
    "plt.scatter(x=lon[j1,i0],y=lat[j1,i0])\n",
    "plt.scatter(x=lon[j0,i1],y=lat[j0,i1])\n",
    "plt.scatter(x=lon[j1,i1],y=lat[j1,i1])\n",
    "\n",
    "gl = ax.gridlines(crs=ccrs.PlateCarree(), draw_labels=True,\n",
    "                  linewidth=2, color='gray', alpha=0.5, linestyle='--')\n",
    "ax.add_feature(cfeature.COASTLINE)\n",
    "ax.add_feature(cfeature.STATES)\n",
    "plt.show()"
   ]
  },
  {
   "cell_type": "code",
   "execution_count": 14,
   "id": "21bd6813",
   "metadata": {
    "hidden": true,
    "scrolled": true
   },
   "outputs": [
    {
     "name": "stdout",
     "output_type": "stream",
     "text": [
      "2023-02-24 13:26:42.144651\n",
      "0:03:00.770009\n",
      "Index(['mean_slope', 'y_ctr', 'x_ctr'], dtype='object')\n"
     ]
    }
   ],
   "source": [
    "#print(build_one_coarse_cell(row_sel,col_sel,0,0))\n",
    "#print(build_one_coarse_cell(row_sel,col_sel,100,1959))\n",
    "\n",
    "#make the coarse cells\n",
    "tic = datetime.datetime.now()\n",
    "print(tic)\n",
    "coarse_cells = Parallel(n_jobs=8)(delayed(build_one_coarse_slope_cell)\n",
    "                                 (row_sel,col_sel,xx,yy,33) \n",
    "                                 for xx in range(len(row_sel)) for yy in range(len(col_sel)))\n",
    "toc =datetime.datetime.now()\n",
    "print(toc-tic)\n",
    "coarse_cells_df = pd.concat(coarse_cells)\n",
    "print(coarse_cells_df.columns)\n",
    "\n",
    "#print(build_one_coarse_cell(row_sel,col_sel,0,0))\n",
    "#print(build_one_coarse_cell(row_sel[100],col_sel[1959]))"
   ]
  },
  {
   "cell_type": "code",
   "execution_count": 15,
   "id": "1e1177f9",
   "metadata": {
    "hidden": true
   },
   "outputs": [
    {
     "name": "stdout",
     "output_type": "stream",
     "text": [
      "         mean_slope      y_ctr      x_ctr\n",
      "row col                                  \n",
      "0.0 0.0   25.999082  1527600.0 -2024340.0\n",
      "0:00:00.117910\n",
      "<xarray.Dataset>\n",
      "Dimensions:     (col: 96, row: 126)\n",
      "Coordinates:\n",
      "  * row         (row) float64 0.0 1.0 2.0 3.0 4.0 ... 122.0 123.0 124.0 125.0\n",
      "  * col         (col) float64 0.0 1.0 2.0 3.0 4.0 ... 91.0 92.0 93.0 94.0 95.0\n",
      "Data variables:\n",
      "    mean_slope  (row, col) float64 26.0 26.13 22.45 ... 0.3388 0.6795 2.627\n",
      "    y_ctr       (row, col) float64 1.528e+06 1.528e+06 ... 1.404e+06 1.404e+06\n",
      "    x_ctr       (row, col) float64 -2.024e+06 -2.023e+06 ... -1.93e+06\n"
     ]
    }
   ],
   "source": [
    "tic = datetime.datetime.now()\n",
    "#coarse_cells_df=coarse_cells_df.reset_index().set_index(['row','col'])\n",
    "print(coarse_cells_df.iloc[0:1])\n",
    "coarse_cells_xr = coarse_cells_df.to_xarray()\n",
    "\n",
    "toc = datetime.datetime.now()\n",
    "print(toc-tic)\n",
    "print(coarse_cells_xr)"
   ]
  },
  {
   "cell_type": "code",
   "execution_count": 16,
   "id": "73cfa9ff",
   "metadata": {
    "hidden": true
   },
   "outputs": [
    {
     "name": "stdout",
     "output_type": "stream",
     "text": [
      "(126, 96)\n",
      "(125, 95)\n",
      "126 96\n",
      "125 95\n",
      "<xarray.Dataset>\n",
      "Dimensions:   (cols_cor: 95, cols_ctr: 96, rows_cor: 125, rows_ctr: 126)\n",
      "Coordinates:\n",
      "  * rows_ctr  (rows_ctr) int64 0 1 2 3 4 5 6 7 ... 119 120 121 122 123 124 125\n",
      "  * cols_ctr  (cols_ctr) int64 0 1 2 3 4 5 6 7 8 ... 87 88 89 90 91 92 93 94 95\n",
      "  * rows_cor  (rows_cor) int64 0 1 2 3 4 5 6 7 ... 118 119 120 121 122 123 124\n",
      "  * cols_cor  (cols_cor) int64 0 1 2 3 4 5 6 7 8 ... 86 87 88 89 90 91 92 93 94\n",
      "Data variables:\n",
      "    LAT_CTR   (rows_ctr, cols_ctr) float64 34.65 34.65 34.65 ... 33.76 33.76\n",
      "    LON_CTR   (rows_ctr, cols_ctr) float64 -118.5 -118.5 ... -117.2 -117.2\n",
      "    LAT_COR   (rows_cor, cols_cor) float64 34.64 34.64 34.65 ... 33.76 33.76\n",
      "    LON_COR   (rows_cor, cols_cor) float64 -118.5 -118.5 ... -117.2 -117.2\n",
      "[[-118.47034301 -118.45975866 -118.44917374 ... -117.4835972\n",
      "  -117.47296097 -117.46232419]\n",
      " [-118.467793   -118.45720976 -118.44662596 ... -117.48115123\n",
      "  -117.47051613 -117.45988048]\n",
      " [-118.46524357 -118.45466144 -118.44407874 ... -117.47870581\n",
      "  -117.46807184 -117.45743732]\n",
      " ...\n",
      " [-118.16090095 -118.15045152 -118.14000154 ... -117.18680085\n",
      "  -117.17630163 -117.1658019 ]\n",
      " [-118.1584194  -118.14797105 -118.13752216 ... -117.18442091\n",
      "  -117.1739228  -117.16342416]\n",
      " [-118.1559384  -118.14549114 -118.13504333 ... -117.18204149\n",
      "  -117.17154448 -117.16104694]]\n",
      "<xarray.Dataset>\n",
      "Dimensions:     (col: 96, row: 126)\n",
      "Coordinates:\n",
      "  * row         (row) float64 0.0 1.0 2.0 3.0 4.0 ... 122.0 123.0 124.0 125.0\n",
      "  * col         (col) float64 0.0 1.0 2.0 3.0 4.0 ... 91.0 92.0 93.0 94.0 95.0\n",
      "    lat_ctr     (row, col) float64 34.65 34.65 34.65 34.65 ... 33.76 33.76 33.76\n",
      "    lon_ctr     (row, col) float64 -118.5 -118.5 -118.4 ... -117.2 -117.2 -117.2\n",
      "Data variables:\n",
      "    mean_slope  (row, col) float64 26.0 26.13 22.45 ... 0.3388 0.6795 2.627\n",
      "    y_ctr       (row, col) float64 1.528e+06 1.528e+06 ... 1.404e+06 1.404e+06\n",
      "    x_ctr       (row, col) float64 -2.024e+06 -2.023e+06 ... -1.93e+06\n"
     ]
    }
   ],
   "source": [
    "source_crs = 'epsg:5070' # Coordinate system of the file, conus Albers\n",
    "target_crs = 'epsg:4326' # Global lat-lon coordinate system\n",
    "\n",
    "conusAlbers_to_latlon = pyproj.Transformer.from_crs(source_crs, target_crs)\n",
    "lat, lon = conusAlbers_to_latlon.transform(coarse_cells_xr['x_ctr'].values, coarse_cells_xr['y_ctr'].values)\n",
    "\n",
    "print(lat.shape)\n",
    "\n",
    "lat_corners, lon_corners = calculate_grid_cell_corners(lat, lon)\n",
    "print(lat_corners.shape)\n",
    "\n",
    "\n",
    "#MAKE SURE THE PLOT LOOKS GOOD BEFORE DOING THIS\n",
    "#put the grid into a netcdf\n",
    "build_grid_netcdf(lat_corners, lon_corners, lat, lon, 'BOBCAT_SLOPE_GRID_990M')\n",
    "\n",
    "#save the data in another netcdf\n",
    "coarse_cells_xr=coarse_cells_xr.assign_coords(lat_ctr=(('row', 'col'), lat), \n",
    "                                              lon_ctr=(('row', 'col'), lon))\n",
    "\n",
    "\n",
    "print(coarse_cells_xr['lon_ctr'].values)\n",
    "\n",
    "print(coarse_cells_xr)\n",
    "#coarse_cells_xr.to_netcdf('bobcat_fuel_fwi.nc')\n",
    "coarse_cells_xr.to_netcdf('bobcat_slope_990m.nc')"
   ]
  },
  {
   "cell_type": "markdown",
   "id": "37275b12",
   "metadata": {},
   "source": [
    "# Old/Testing Code"
   ]
  },
  {
   "cell_type": "code",
   "execution_count": 14,
   "id": "f0559c64",
   "metadata": {},
   "outputs": [
    {
     "name": "stdout",
     "output_type": "stream",
     "text": [
      "[[1. 4. 3. 1.]\n",
      " [1. 1. 1. 1.]\n",
      " [1. 1. 1. 1.]]\n",
      "1.4166666666666667\n"
     ]
    }
   ],
   "source": [
    "a = np.ones((3,4))\n",
    "a[0,2] = 3\n",
    "a[0,1] = 4\n",
    "a[a==0] = np.nan\n",
    "\n",
    "print(a)\n",
    "print(np.nanmean(a))"
   ]
  },
  {
   "cell_type": "code",
   "execution_count": null,
   "id": "bb3f9d46",
   "metadata": {},
   "outputs": [],
   "source": []
  },
  {
   "cell_type": "code",
   "execution_count": null,
   "id": "aebdcefa",
   "metadata": {},
   "outputs": [],
   "source": []
  },
  {
   "cell_type": "code",
   "execution_count": 31,
   "id": "5b8fc98e",
   "metadata": {},
   "outputs": [
    {
     "ename": "TypeError",
     "evalue": "'builtin_function_or_method' object is not subscriptable",
     "output_type": "error",
     "traceback": [
      "\u001b[0;31m---------------------------------------------------------------------------\u001b[0m",
      "\u001b[0;31mEmpty\u001b[0m                                     Traceback (most recent call last)",
      "\u001b[0;32m~/anaconda3/envs/ML_py/lib/python3.7/site-packages/joblib/parallel.py\u001b[0m in \u001b[0;36mdispatch_one_batch\u001b[0;34m(self, iterator)\u001b[0m\n\u001b[1;32m    821\u001b[0m             \u001b[0;32mtry\u001b[0m\u001b[0;34m:\u001b[0m\u001b[0;34m\u001b[0m\u001b[0;34m\u001b[0m\u001b[0m\n\u001b[0;32m--> 822\u001b[0;31m                 \u001b[0mtasks\u001b[0m \u001b[0;34m=\u001b[0m \u001b[0mself\u001b[0m\u001b[0;34m.\u001b[0m\u001b[0m_ready_batches\u001b[0m\u001b[0;34m.\u001b[0m\u001b[0mget\u001b[0m\u001b[0;34m(\u001b[0m\u001b[0mblock\u001b[0m\u001b[0;34m=\u001b[0m\u001b[0;32mFalse\u001b[0m\u001b[0;34m)\u001b[0m\u001b[0;34m\u001b[0m\u001b[0;34m\u001b[0m\u001b[0m\n\u001b[0m\u001b[1;32m    823\u001b[0m             \u001b[0;32mexcept\u001b[0m \u001b[0mqueue\u001b[0m\u001b[0;34m.\u001b[0m\u001b[0mEmpty\u001b[0m\u001b[0;34m:\u001b[0m\u001b[0;34m\u001b[0m\u001b[0;34m\u001b[0m\u001b[0m\n",
      "\u001b[0;32m~/anaconda3/envs/ML_py/lib/python3.7/queue.py\u001b[0m in \u001b[0;36mget\u001b[0;34m(self, block, timeout)\u001b[0m\n\u001b[1;32m    166\u001b[0m                 \u001b[0;32mif\u001b[0m \u001b[0;32mnot\u001b[0m \u001b[0mself\u001b[0m\u001b[0;34m.\u001b[0m\u001b[0m_qsize\u001b[0m\u001b[0;34m(\u001b[0m\u001b[0;34m)\u001b[0m\u001b[0;34m:\u001b[0m\u001b[0;34m\u001b[0m\u001b[0;34m\u001b[0m\u001b[0m\n\u001b[0;32m--> 167\u001b[0;31m                     \u001b[0;32mraise\u001b[0m \u001b[0mEmpty\u001b[0m\u001b[0;34m\u001b[0m\u001b[0;34m\u001b[0m\u001b[0m\n\u001b[0m\u001b[1;32m    168\u001b[0m             \u001b[0;32melif\u001b[0m \u001b[0mtimeout\u001b[0m \u001b[0;32mis\u001b[0m \u001b[0;32mNone\u001b[0m\u001b[0;34m:\u001b[0m\u001b[0;34m\u001b[0m\u001b[0;34m\u001b[0m\u001b[0m\n",
      "\u001b[0;31mEmpty\u001b[0m: ",
      "\nDuring handling of the above exception, another exception occurred:\n",
      "\u001b[0;31mTypeError\u001b[0m                                 Traceback (most recent call last)",
      "\u001b[0;32m<ipython-input-31-1020859a493d>\u001b[0m in \u001b[0;36m<module>\u001b[0;34m\u001b[0m\n\u001b[1;32m      3\u001b[0m \u001b[0;34m\u001b[0m\u001b[0m\n\u001b[1;32m      4\u001b[0m results = Parallel(n_jobs=2)(delayed(listi.append[ii])\n\u001b[0;32m----> 5\u001b[0;31m                                  (ii) for ii in range(10))\n\u001b[0m\u001b[1;32m      6\u001b[0m \u001b[0;34m\u001b[0m\u001b[0m\n\u001b[1;32m      7\u001b[0m \u001b[0mprint\u001b[0m\u001b[0;34m(\u001b[0m\u001b[0mresults\u001b[0m\u001b[0;34m)\u001b[0m\u001b[0;34m\u001b[0m\u001b[0;34m\u001b[0m\u001b[0m\n",
      "\u001b[0;32m~/anaconda3/envs/ML_py/lib/python3.7/site-packages/joblib/parallel.py\u001b[0m in \u001b[0;36m__call__\u001b[0;34m(self, iterable)\u001b[0m\n\u001b[1;32m   1041\u001b[0m             \u001b[0;31m# remaining jobs.\u001b[0m\u001b[0;34m\u001b[0m\u001b[0;34m\u001b[0m\u001b[0;34m\u001b[0m\u001b[0m\n\u001b[1;32m   1042\u001b[0m             \u001b[0mself\u001b[0m\u001b[0;34m.\u001b[0m\u001b[0m_iterating\u001b[0m \u001b[0;34m=\u001b[0m \u001b[0;32mFalse\u001b[0m\u001b[0;34m\u001b[0m\u001b[0;34m\u001b[0m\u001b[0m\n\u001b[0;32m-> 1043\u001b[0;31m             \u001b[0;32mif\u001b[0m \u001b[0mself\u001b[0m\u001b[0;34m.\u001b[0m\u001b[0mdispatch_one_batch\u001b[0m\u001b[0;34m(\u001b[0m\u001b[0miterator\u001b[0m\u001b[0;34m)\u001b[0m\u001b[0;34m:\u001b[0m\u001b[0;34m\u001b[0m\u001b[0;34m\u001b[0m\u001b[0m\n\u001b[0m\u001b[1;32m   1044\u001b[0m                 \u001b[0mself\u001b[0m\u001b[0;34m.\u001b[0m\u001b[0m_iterating\u001b[0m \u001b[0;34m=\u001b[0m \u001b[0mself\u001b[0m\u001b[0;34m.\u001b[0m\u001b[0m_original_iterator\u001b[0m \u001b[0;32mis\u001b[0m \u001b[0;32mnot\u001b[0m \u001b[0;32mNone\u001b[0m\u001b[0;34m\u001b[0m\u001b[0;34m\u001b[0m\u001b[0m\n\u001b[1;32m   1045\u001b[0m \u001b[0;34m\u001b[0m\u001b[0m\n",
      "\u001b[0;32m~/anaconda3/envs/ML_py/lib/python3.7/site-packages/joblib/parallel.py\u001b[0m in \u001b[0;36mdispatch_one_batch\u001b[0;34m(self, iterator)\u001b[0m\n\u001b[1;32m    831\u001b[0m                 \u001b[0mbig_batch_size\u001b[0m \u001b[0;34m=\u001b[0m \u001b[0mbatch_size\u001b[0m \u001b[0;34m*\u001b[0m \u001b[0mn_jobs\u001b[0m\u001b[0;34m\u001b[0m\u001b[0;34m\u001b[0m\u001b[0m\n\u001b[1;32m    832\u001b[0m \u001b[0;34m\u001b[0m\u001b[0m\n\u001b[0;32m--> 833\u001b[0;31m                 \u001b[0mislice\u001b[0m \u001b[0;34m=\u001b[0m \u001b[0mlist\u001b[0m\u001b[0;34m(\u001b[0m\u001b[0mitertools\u001b[0m\u001b[0;34m.\u001b[0m\u001b[0mislice\u001b[0m\u001b[0;34m(\u001b[0m\u001b[0miterator\u001b[0m\u001b[0;34m,\u001b[0m \u001b[0mbig_batch_size\u001b[0m\u001b[0;34m)\u001b[0m\u001b[0;34m)\u001b[0m\u001b[0;34m\u001b[0m\u001b[0;34m\u001b[0m\u001b[0m\n\u001b[0m\u001b[1;32m    834\u001b[0m                 \u001b[0;32mif\u001b[0m \u001b[0mlen\u001b[0m\u001b[0;34m(\u001b[0m\u001b[0mislice\u001b[0m\u001b[0;34m)\u001b[0m \u001b[0;34m==\u001b[0m \u001b[0;36m0\u001b[0m\u001b[0;34m:\u001b[0m\u001b[0;34m\u001b[0m\u001b[0;34m\u001b[0m\u001b[0m\n\u001b[1;32m    835\u001b[0m                     \u001b[0;32mreturn\u001b[0m \u001b[0;32mFalse\u001b[0m\u001b[0;34m\u001b[0m\u001b[0;34m\u001b[0m\u001b[0m\n",
      "\u001b[0;32m<ipython-input-31-1020859a493d>\u001b[0m in \u001b[0;36m<genexpr>\u001b[0;34m(.0)\u001b[0m\n\u001b[1;32m      3\u001b[0m \u001b[0;34m\u001b[0m\u001b[0m\n\u001b[1;32m      4\u001b[0m results = Parallel(n_jobs=2)(delayed(listi.append[ii])\n\u001b[0;32m----> 5\u001b[0;31m                                  (ii) for ii in range(10))\n\u001b[0m\u001b[1;32m      6\u001b[0m \u001b[0;34m\u001b[0m\u001b[0m\n\u001b[1;32m      7\u001b[0m \u001b[0mprint\u001b[0m\u001b[0;34m(\u001b[0m\u001b[0mresults\u001b[0m\u001b[0;34m)\u001b[0m\u001b[0;34m\u001b[0m\u001b[0;34m\u001b[0m\u001b[0m\n",
      "\u001b[0;31mTypeError\u001b[0m: 'builtin_function_or_method' object is not subscriptable"
     ]
    }
   ],
   "source": [
    "listi = []\n",
    "tic = datetime.datetime.now()\n",
    "\n",
    "results = Parallel(n_jobs=2)(delayed(listi.append[ii])\n",
    "                                 (ii) for ii in range(10))\n",
    "\n",
    "print(results)\n",
    "toc = datetime.datetime.now()\n",
    "print(toc-tic)\n",
    "#print(listi)"
   ]
  },
  {
   "cell_type": "code",
   "execution_count": null,
   "id": "88443369",
   "metadata": {},
   "outputs": [],
   "source": [
    "import multiprocessing as mp\n",
    "print(\"Number of processors: \", mp.cpu_count())\n",
    "\n",
    "a = np.zeros((1000000))\n",
    "#print(a)\n",
    "\n",
    "tic = datetime.datetime.now()\n",
    "pool = mp.Pool(2)\n",
    "results = pool.starmap(fill_a, [(a,xx) for xx in range(1000000)]) \n",
    "pool.close() \n",
    "toc = datetime.datetime.now()\n",
    "print(toc-tic)\n",
    "print(type(results))\n",
    "print(np.array(results).shape)\n",
    "    \n",
    "\"\"\"\n",
    "a_filled = Parallel(n_jobs=2)(delayed(fill_a)\n",
    "                                 (a,xx) \n",
    "                                 for xx in range(10))\n",
    "print(a_filled)\"\"\""
   ]
  },
  {
   "cell_type": "code",
   "execution_count": 8,
   "id": "cc260b9e",
   "metadata": {},
   "outputs": [],
   "source": [
    "def fill_a(a_to_fill,ii):\n",
    "    a_to_fill[ii] = ii\n",
    "    return a_to_fill"
   ]
  },
  {
   "cell_type": "code",
   "execution_count": null,
   "id": "a33abc43",
   "metadata": {},
   "outputs": [],
   "source": [
    "#these are the rows and columns we will use to select the grid boxes. \n",
    "#They physically correspond to corners of our resulting grid boxes\n",
    "row_select = np.arange(start_row, end_row, 10)\n",
    "col_select = np.arange(start_col,end_col,10)\n",
    "\n",
    "\n",
    "#preallocate the variables\n",
    "lat_ctrs = np.zeros((len(row_select),len(col_select)))\n",
    "lon_ctrs = np.zeros((len(row_select),len(col_select)))\n",
    "lat_ctrs = np.zeros((len(row_select),len(col_select)))\n",
    "\n",
    "loading_new_extreme = np.zeros((len(row_select),len(col_select)))\n",
    "loading_residual_extreme = np.zeros((len(row_select),len(col_select)))\n",
    "loading_new_veryhigh = np.zeros((len(row_select),len(col_select)))\n",
    "loading_residual_veryhigh = np.zeros((len(row_select),len(col_select)))\n",
    "loading_new_high = np.zeros((len(row_select),len(col_select)))\n",
    "loading_residual_high = np.zeros((len(row_select),len(col_select)))\n",
    "loading_new_moderate = np.zeros((len(row_select),len(col_select)))\n",
    "loading_residual_moderate = np.zeros((len(row_select),len(col_select)))\n",
    "loading_new_low = np.zeros((len(row_select),len(col_select)))\n",
    "loading_residual_low = np.zeros((len(row_select),len(col_select)))\n",
    "\n",
    "\n",
    "for ii in range(len(row_select)):\n",
    "    print(ii)\n",
    "    for jj in range(len(col_select)):\n",
    "        \n",
    "        win = Window(col_select[jj],row_select[ii],10,10)\n",
    "        row_win = np.arange(win.row_off,win.row_off+win.height)\n",
    "        col_win = np.arange(win.col_off,win.col_off+win.width)\n",
    "        COLS_WIN,ROWS_WIN=np.meshgrid(col_win,row_win)\n",
    "        xs_win, ys_win = rasterio.transform.xy(src.transform, ROWS_WIN, COLS_WIN)\n",
    "        xs_win_1d = np.array(xs_win)[0,:]\n",
    "        ys_win_1d = np.array(ys_win)[:,0]\n",
    "        \n",
    "        #centers are the middle of the 300mx300m box\n",
    "        lat_ctrs[ii,jj] =(np.min(xs_win_1d)+np.max(xs_win_1d))/2\n",
    "        lon_ctrs[ii,jj] =(np.min(ys_win_1d)+np.max(ys_win_1d))/2\n",
    "\n",
    "        w = src.read(1, window=win)\n",
    "        w_flat = w.flatten()\n",
    "        \n",
    "        if len(w_flat)==0:\n",
    "            loading_new_extreme[ii,jj] = np.nan\n",
    "            loading_new_veryhigh[ii,jj] = np.nan\n",
    "            loading_new_high[ii,jj] = np.nan\n",
    "            loading_new_moderate[ii,jj] = np.nan\n",
    "            loading_new_low[ii,jj] =np.nan\n",
    "\n",
    "        else:\n",
    "            loading_new_extreme[ii,jj] = np.nanmean(loadings.loc[w_flat,'Extreme_N'].values)\n",
    "            loading_residual_extreme[ii,jj] = np.nanmean(loadings.loc[w_flat,'Extreme_R'].values)\n",
    "            loading_new_veryhigh[ii,jj] = np.nanmean(loadings.loc[w_flat,'VeryHigh_N'].values)\n",
    "            loading_residual_veryhigh[ii,jj] = np.nanmean(loadings.loc[w_flat,'VeryHigh_R'].values)\n",
    "            loading_new_high[ii,jj] = np.nanmean(loadings.loc[w_flat,'High_N'].values)\n",
    "            loading_residual_high[ii,jj] = np.nanmean(loadings.loc[w_flat,'High_R'].values)\n",
    "            loading_new_moderate[ii,jj] = np.nanmean(loadings.loc[w_flat,'Moderate_N'].values)\n",
    "            loading_residual_moderate[ii,jj] = np.nanmean(loadings.loc[w_flat,'Moderate_R'].values)\n",
    "            loading_new_low[ii,jj] =np.nanmean(loadings.loc[w_flat,'Low_N'].values)\n",
    "            loading_residual_low[ii,jj] =np.nanmean(loadings.loc[w_flat,'Low_R'].values)       "
   ]
  },
  {
   "cell_type": "code",
   "execution_count": null,
   "id": "90808ab6",
   "metadata": {},
   "outputs": [],
   "source": []
  },
  {
   "cell_type": "code",
   "execution_count": null,
   "id": "25c37c27",
   "metadata": {},
   "outputs": [],
   "source": [
    "row_sel = np.arange(start_row, end_row, 10)\n",
    "col_sel = np.arange(start_col,end_col,10)\n",
    "\n",
    "count=0\n",
    "for ii in range(len(row_sel)):\n",
    "    for jj in range(len(col_sel)):\n",
    "        print(ii,jj)\n",
    "        win = Window(col_sel[jj],row_sel[ii],10,10)\n",
    "        with rasterio.open('../FCCS_Fuel_Fire_Danger_Metric.tif') as src: \n",
    "            w = src.read(1, window=win)\n",
    "            w_flat = w.flatten()\n",
    "        \n",
    "        if len(w_flat)==0:\n",
    "            count = count+1\n",
    "            print(count)"
   ]
  },
  {
   "cell_type": "code",
   "execution_count": null,
   "id": "4e8d61fd",
   "metadata": {},
   "outputs": [],
   "source": [
    "fire_incidents = ['BOBCAT']\n",
    "\n",
    "path_poly = '/data2/lthapa/ML_daily/fire_polygons/'\n",
    "suffix_poly = 'Z_day_start.geojson'\n",
    "start_time=12\n",
    "for jj in range(len(fire_incidents)):\n",
    "    fire_name = fire_incidents[jj].lower().replace(' ','_')\n",
    "    print(path_poly+fire_name+'_VIIRS_daily_'+str(start_time)+suffix_poly)\n",
    "    fire_daily = gpd.read_file(path_poly+fire_name+'_VIIRS_daily_'+str(start_time)+suffix_poly)\n",
    "    print(fire_daily.crs)\n",
    "    fire_daily=fire_daily.drop(columns=['Current Overpass'])\n",
    "    fire_daily = fire_daily.drop(np.where(fire_daily['geometry']==None)[0])\n",
    "    fire_daily['fire area (ha)'] = fire_daily['geometry'].area/10000 #hectares. from m2\n",
    "    fire_daily.set_geometry(col='geometry', inplace=True) #designate the geometry column\n",
    "    fire_daily = fire_daily.rename(columns={'Current Day':'UTC Day', 'Local Day': str(start_time)+ 'Z Start Day'})\n",
    "    \n",
    "    fire_daily = fire_daily.iloc[np.array(fire_daily['UTC Day'].values,dtype='datetime64')<=np.datetime64('2020-10-31'),:]"
   ]
  },
  {
   "cell_type": "code",
   "execution_count": null,
   "id": "9de8b66c",
   "metadata": {},
   "outputs": [],
   "source": [
    "src = rasterio.open('../FCCS_Fuel_Fire_Danger_Metric.tif')\n",
    "\n",
    "print(src.count) #number of bands/data layers\n",
    "file_width = src.width\n",
    "file_height = src.height\n",
    "print(file_width, file_height)\n",
    "\n",
    "win1=Window(0, 0, 10, 10)\n",
    "print(win1)\n",
    "w1 = src.read(1, window=win1)\n",
    "rows = np.arange(win1.row_off,win1.row_off+win1.height-1)\n",
    "cols = np.arange(win1.col_off,win1.col_off+win1.width-1)\n",
    "COLS,ROWS=np.meshgrid(cols,rows)\n",
    "\n",
    "xs, ys = rasterio.transform.xy(src.transform, ROWS, COLS)\n",
    "print(np.array(xs))\n",
    "\n",
    "show(w)"
   ]
  },
  {
   "cell_type": "code",
   "execution_count": null,
   "id": "df70ca5b",
   "metadata": {},
   "outputs": [],
   "source": [
    "    \"\"\"if len(w_flat)==0:\n",
    "        df_cell = pd.DataFrame({'Extreme_N':np.nan,\n",
    "                           'Extreme_R':np.nan,\n",
    "                           'VeryHigh_N':np.nan,\n",
    "                           'VeryHigh_R':np.nan,\n",
    "                           'High_N':np.nan,\n",
    "                           'High_R':np.nan,\n",
    "                           'Moderate_N':np.nan,\n",
    "                           'Moderate_R':np.nan,\n",
    "                           'Low_N':np.nan,\n",
    "                           'Low_R':np.nan,\n",
    "                           'lat_ctr':lat_ctr,'lon_ctr':lon_ctr,}, index=[0])\n",
    "\n",
    "    else:\n",
    "        loadings_sub = loadings.loc[w_flat].drop(columns=['Unnamed: 0', 'COUNT','FUELBED_NA'])\n",
    "        df_cell = pd.DataFrame(loadings_sub.mean(axis=0)).transpose()\n",
    "        df_cell['lat_ctr']=lat_ctr\n",
    "        df_cell['lon_ctr'] = lon_ctr\n",
    "        \n",
    "        \"\"\"\"\"\"df_cell = pd.DataFrame({'lat_ctr':lat_ctr,'lon_ctr':lon_ctr,\n",
    "                           'loading_new_extreme':np.nanmean(loadings.loc[w_flat,'Extreme_N'].values),\n",
    "                           'loading_residual_extreme':np.nanmean(loadings.loc[w_flat,'Extreme_R'].values),\n",
    "                           'loading_new_veryhigh':np.nanmean(loadings.loc[w_flat,'VeryHigh_N'].values),\n",
    "                           'loading_residual_veryhigh':np.nanmean(loadings.loc[w_flat,'VeryHigh_R'].values),\n",
    "                           'loading_new_high':np.nanmean(loadings.loc[w_flat,'High_N'].values),\n",
    "                           'loading_residual_high':np.nanmean(loadings.loc[w_flat,'High_R'].values),\n",
    "                           'loading_new_moderate':np.nanmean(loadings.loc[w_flat,'Moderate_N'].values),\n",
    "                           'loading_residual_moderate':np.nanmean(loadings.loc[w_flat,'Moderate_R'].values),\n",
    "                           'loading_new_low':np.nanmean(loadings.loc[w_flat,'Low_N'].values),\n",
    "                           'loading_residual_low':np.nanmean(loadings.loc[w_flat,'Low_R'].values),}, index=[0])\"\"\"\"\"\"  \n",
    "    \n",
    "    return(df_cell)\"\"\""
   ]
  },
  {
   "cell_type": "code",
   "execution_count": null,
   "id": "6973f82b",
   "metadata": {},
   "outputs": [],
   "source": [
    "#p1 = Point(-125,31) #bottom left of domain\n",
    "#p2 = Point(-101,49) #top right of domain\n",
    "\n",
    "#p1 = Point(-125,25) #bottom left of extended domain\n",
    "#p2 = Point(-90,49) #top right of extended domain\n",
    "\n",
    "\n",
    "#bobcat, final extent\n",
    "#p1 = Point(-118.5, 33.5)\n",
    "#p2 = Point(-117.3, 35)\n",
    "\n",
    "d = {'geometry': [p1, p2]}\n",
    "gdf = gpd.GeoDataFrame(d, crs=4326)\n",
    "gdf= gdf.to_crs(5070)\n",
    "print(gdf)\n",
    "left = gdf.geometry[0].x\n",
    "right = gdf.geometry[1].x\n",
    "bottom = gdf.geometry[0].y\n",
    "top = gdf.geometry[1].y\n",
    "print(left,right,bottom,top)\n",
    "\n",
    "#select the portion of the tif file that corresponds to our western US domain\n",
    "with rasterio.open('../FCCS_Fuel_Fire_Danger_Metric.tif') as src:\n",
    "    win = from_bounds(left,bottom,right,top, src.transform)\n",
    "    print(win)\n",
    "    start_col = np.floor(win.col_off)\n",
    "    end_col = start_col+np.ceil(win.width)\n",
    "    start_row=np.floor(win.row_off)\n",
    "    end_row = start_row+np.ceil(win.height)\n",
    "    \n",
    "print(start_row, end_row, start_col,end_col)\n",
    "\n",
    "#these are the rows and columns we will use to select the grid boxes. \n",
    "#They physically correspond to corners of our resulting grid boxes\n",
    "row_sel = np.arange(start_row, end_row, 1000)\n",
    "col_sel = np.arange(start_col,end_col,1000)\n",
    "print(end_row-start_row,end_col-start_col)\n",
    "print(len(row_sel), len(col_sel))\n",
    "\n"
   ]
  }
 ],
 "metadata": {
  "kernelspec": {
   "display_name": "Python 3",
   "language": "python",
   "name": "python3"
  },
  "language_info": {
   "codemirror_mode": {
    "name": "ipython",
    "version": 3
   },
   "file_extension": ".py",
   "mimetype": "text/x-python",
   "name": "python",
   "nbconvert_exporter": "python",
   "pygments_lexer": "ipython3",
   "version": "3.7.6"
  }
 },
 "nbformat": 4,
 "nbformat_minor": 5
}
