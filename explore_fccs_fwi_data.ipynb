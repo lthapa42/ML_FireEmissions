{
 "cells": [
  {
   "cell_type": "markdown",
   "id": "5d4fe150",
   "metadata": {
    "heading_collapsed": true
   },
   "source": [
    "## GDAL"
   ]
  },
  {
   "cell_type": "code",
   "execution_count": null,
   "id": "d9e0110d",
   "metadata": {
    "hidden": true
   },
   "outputs": [],
   "source": [
    "from osgeo import gdal, gdalconst\n",
    "import time"
   ]
  },
  {
   "cell_type": "code",
   "execution_count": null,
   "id": "3704fb77",
   "metadata": {
    "hidden": true,
    "scrolled": true
   },
   "outputs": [],
   "source": [
    "driver = gdal.GetDriverByName('GTiff')\n",
    "driver.Register()"
   ]
  },
  {
   "cell_type": "code",
   "execution_count": null,
   "id": "8f8f673a",
   "metadata": {
    "hidden": true
   },
   "outputs": [],
   "source": [
    "fn = '/data2/lthapa/FCCS_Fuel_Fire_Danger_Metric_LonLat.tif'\n",
    "ds = gdal.Open(fn)"
   ]
  },
  {
   "cell_type": "code",
   "execution_count": null,
   "id": "30e291bf",
   "metadata": {
    "hidden": true
   },
   "outputs": [],
   "source": [
    "cols = ds.RasterXSize\n",
    "rows = ds.RasterYSize\n",
    "bands = ds.RasterCount\n",
    "\n",
    "print(cols,rows,bands) #shouldn't there be >1 band??"
   ]
  },
  {
   "cell_type": "code",
   "execution_count": null,
   "id": "5fdca56b",
   "metadata": {
    "hidden": true
   },
   "outputs": [],
   "source": [
    "geotransform = ds.GetGeoTransform()\n",
    "originX = geotransform[0]\n",
    "originY = geotransform[3]\n",
    "pixelWidth = geotransform[1]\n",
    "pixelHeight = geotransform[5]\n",
    "print(geotransform)"
   ]
  },
  {
   "cell_type": "code",
   "execution_count": null,
   "id": "a510e3be",
   "metadata": {
    "hidden": true
   },
   "outputs": [],
   "source": [
    "band = ds.GetRasterBand(1)"
   ]
  },
  {
   "cell_type": "code",
   "execution_count": null,
   "id": "d75084e8",
   "metadata": {
    "hidden": true
   },
   "outputs": [],
   "source": [
    "startTime = time.time()\n",
    "xValues = [-114]\n",
    "yValues = [34]\n",
    "\n",
    "for i in range(1):\n",
    "    # get x,y\n",
    "    x = xValues[i]\n",
    "    y = yValues[i]\n",
    "    # compute pixel offset\n",
    "    xOffset = int((x - originX) / pixelWidth)\n",
    "    yOffset = int((y - originY) / pixelHeight)\n",
    "    \n",
    "    s = str(x) + ' ' + str(y) + ' ' + str(xOffset) + ' ' + str(yOffset) + ' '\n",
    "    \n",
    "    for j in range(bands):\n",
    "        band = ds.GetRasterBand(j+1) # 1-based index\n",
    "        # read data and add the value to the string\n",
    "        data = band.ReadAsArray(xOffset, yOffset, 20, 10)\n",
    "        print(data)\n",
    "        value = data[0,0]\n",
    "        #s = s + str(value) + ' '\n",
    "    # print out the data string\n",
    "    print(s)\n",
    "    \n",
    "# figure out how long the script took to run\n",
    "endTime = time.time()\n",
    "print('The script took ' + str(endTime - startTime) + ' seconds')"
   ]
  },
  {
   "cell_type": "code",
   "execution_count": null,
   "id": "efca535c",
   "metadata": {
    "hidden": true
   },
   "outputs": [],
   "source": []
  },
  {
   "cell_type": "markdown",
   "id": "7293cdbc",
   "metadata": {},
   "source": [
    "## RASTERIO"
   ]
  },
  {
   "cell_type": "code",
   "execution_count": 1,
   "id": "17ffef14",
   "metadata": {},
   "outputs": [],
   "source": [
    "import rasterio\n",
    "from rasterio.windows import get_data_window,Window, from_bounds\n",
    "import matplotlib.pyplot as plt\n",
    "from rasterio.plot import show\n",
    "from rasterio.enums import Resampling\n",
    "import pandas as pd\n",
    "import numpy as np\n",
    "from shapely.geometry import Point\n",
    "import geopandas as gpd"
   ]
  },
  {
   "cell_type": "code",
   "execution_count": 15,
   "id": "8f4b95aa",
   "metadata": {},
   "outputs": [
    {
     "name": "stdout",
     "output_type": "stream",
     "text": [
      "       Unnamed: 0       COUNT  \\\n",
      "VALUE                           \n",
      "-9999           0           0   \n",
      " 0              1  1834822713   \n",
      " 1              2    39788230   \n",
      " 2              3    22214092   \n",
      " 4              4    20963451   \n",
      "...           ...         ...   \n",
      " 1261         263   105438211   \n",
      " 1273         264     7901952   \n",
      " 1274         265    11911731   \n",
      " 1281         266    91555820   \n",
      " 1283         267   385671521   \n",
      "\n",
      "                                              FUELBED_NA  Extreme_N  \\\n",
      "VALUE                                                                 \n",
      "-9999                                             NoData   0.000000   \n",
      " 0                                          Urban-Barren   0.000000   \n",
      " 1     Black cottonwood-Douglas-fir-quaking aspen forest  42.912129   \n",
      " 2     Western hemlock-western redcedar-Douglas-fir f...  58.860680   \n",
      " 4                          Douglas-fir/ceanothus forest  24.196102   \n",
      "...                                                  ...        ...   \n",
      " 1261                      Fallow field - growing season   1.285180   \n",
      " 1273   Tree fruit field - with no inter-row groundcover   2.469864   \n",
      " 1274      Tree fruit field - with inter-row groundcover   3.911841   \n",
      " 1281  Pasture, hay, or alfalfa field - grazed or har...   5.753910   \n",
      " 1283  Pasture, hay, or alfalfa field - ungrazed or u...   7.937876   \n",
      "\n",
      "       Extreme_R  VeryHigh_N  VeryHigh_R     High_N     High_R  Moderate_N  \\\n",
      "VALUE                                                                        \n",
      "-9999   0.000000    0.000000    0.000000   0.000000   0.000000    0.000000   \n",
      " 0      0.000000    0.000000    0.000000   0.000000   0.000000    0.000000   \n",
      " 1     16.707339   34.774336    9.449292  27.019578   9.449292    9.148017   \n",
      " 2     22.038455   47.784053   12.553884  37.072540  12.553884   12.642362   \n",
      " 4     21.355826   16.521982   11.274864  13.713066  11.274864    9.640809   \n",
      "...          ...         ...         ...        ...        ...         ...   \n",
      " 1261   0.000000    1.028144    0.064259   0.771108   0.064259    0.514072   \n",
      " 1273   0.137215    2.195434    0.137215   1.646576   0.137215    0.274429   \n",
      " 1274   0.137215    3.349016    0.209314   2.511762   0.209314    0.851220   \n",
      " 1281   0.000000    4.603128    0.287696   3.452346   0.287696    2.301564   \n",
      " 1283   0.000000    6.350301    0.396894   4.762726   0.396894    3.175150   \n",
      "\n",
      "       Moderate_R     Low_N     Low_R  \n",
      "VALUE                                  \n",
      "-9999    0.000000  0.000000  0.000000  \n",
      " 0       0.000000  0.000000  0.000000  \n",
      " 1       4.007857  4.765526  2.130207  \n",
      " 2       5.329437  6.503738  2.860435  \n",
      " 4       5.777990  7.253007  3.134831  \n",
      "...           ...       ...       ...  \n",
      " 1261    0.064259  0.257036  0.064259  \n",
      " 1273    0.000000  0.000000  0.000000  \n",
      " 1274    0.072099  0.288395  0.072099  \n",
      " 1281    0.287696  1.150782  0.287696  \n",
      " 1283    0.396894  1.587575  0.396894  \n",
      "\n",
      "[268 rows x 13 columns]\n"
     ]
    }
   ],
   "source": [
    "loadings = pd.read_csv('FWI_Category_Fuel_Loadings.csv').set_index('VALUE')\n",
    "print(loadings)"
   ]
  },
  {
   "cell_type": "code",
   "execution_count": 7,
   "id": "d45a15d6",
   "metadata": {
    "scrolled": true
   },
   "outputs": [
    {
     "name": "stdout",
     "output_type": "stream",
     "text": [
      "                           geometry\n",
      "0  POINT (-1973638.681 1556273.103)\n",
      "1  POINT (-1973069.841 1556713.789)\n",
      "-1973638.6814353298 -1973069.8414401028 1556273.1025267234 1556713.7887778918\n",
      "Window(col_off=12959.54395215567, row_off=54024.040374070275, width=18.96133317424392, height=14.689541705614829)\n",
      "[[ 49  49  49  49  49  49  49  49   0  49   0   0   0  49  49  49   0  49]\n",
      " [ 49  49  49  49  49  49  49  49  49  49   0   0   0   0   0   0   0   0]\n",
      " [ 49   0   0   0  49  49  49  49  49   0   0  49  49  49  49  49  49  49]\n",
      " [ 49  49  49  49  49   0   0  49  49  49   0   0   0  49  49  49   0   0]\n",
      " [ 49  49  49  49   0   0   0   0   0  49  49   0   0   0  49  49  49  49]\n",
      " [ 49  49  49  49  49  49  49   0   0   0  49  49  49  49   0   0  49  49]\n",
      " [ 49  49  49  49  49  49  49  49  49   0   0   0   0   0  49  49  49   0]\n",
      " [ 49  49  49  49  49  49  49  49  49   0   0   0   0   0   0   0  49  49]\n",
      " [ 49  49  49   0  49  49  49  49  49  49  49  49  49   0   0   0   0  49]\n",
      " [ 49   0   0 311  49  49  49  49  49   0  49   0  49  49   0  49   0  49]\n",
      " [  0   0   0 311  49  49   0  49  49   0  49  49  49  49  49  49  49  49]\n",
      " [  0   0   0   0   0  49   0   0   0  49  49  49  49  49  49  49  49  49]\n",
      " [  0   0   0   0 311  49  49  49  49  49  49  49  49  49  49   0  49  49]\n",
      " [ 49  49  49  49   0   0   0  49  49   0   0  49  49  49  49  49  49  49]]\n"
     ]
    },
    {
     "data": {
      "image/png": "[encoded data removed]",
      "text/plain": [
       "<Figure size 432x288 with 1 Axes>"
      ]
     },
     "metadata": {
      "needs_background": "light"
     },
     "output_type": "display_data"
    },
    {
     "data": {
      "text/plain": [
       "<AxesSubplot:>"
      ]
     },
     "execution_count": 7,
     "metadata": {},
     "output_type": "execute_result"
    }
   ],
   "source": [
    "p1 = Point(-118,35) #bottom left\n",
    "p2 = Point(-117.995,35.005) #top right\n",
    "\n",
    "d = {'geometry': [p1, p2]}\n",
    "gdf = gpd.GeoDataFrame(d, crs=4326)\n",
    "gdf= gdf.to_crs(5070)\n",
    "print(gdf)\n",
    "\n",
    "left = gdf.geometry[0].x\n",
    "right = gdf.geometry[1].x\n",
    "bottom = gdf.geometry[0].y\n",
    "top = gdf.geometry[1].y\n",
    "print(left,right,bottom,top)\n",
    "with rasterio.open('../FCCS_Fuel_Fire_Danger_Metric.tif') as src:\n",
    "    win = from_bounds(left,bottom,right,top, src.transform)\n",
    "    print(win)\n",
    "    w_from_latlon = src.read(1, window=win)\n",
    "print(w_from_latlon)\n",
    "show(w_from_latlon)"
   ]
  },
  {
   "cell_type": "code",
   "execution_count": 22,
   "id": "761c3173",
   "metadata": {},
   "outputs": [
    {
     "name": "stdout",
     "output_type": "stream",
     "text": [
      "[ 49  49  49  49  49  49  49  49   0  49   0   0   0  49  49  49   0  49\n",
      "  49  49  49  49  49  49  49  49  49  49   0   0   0   0   0   0   0   0\n",
      "  49   0   0   0  49  49  49  49  49   0   0  49  49  49  49  49  49  49\n",
      "  49  49  49  49  49   0   0  49  49  49   0   0   0  49  49  49   0   0\n",
      "  49  49  49  49   0   0   0   0   0  49  49   0   0   0  49  49  49  49\n",
      "  49  49  49  49  49  49  49   0   0   0  49  49  49  49   0   0  49  49\n",
      "  49  49  49  49  49  49  49  49  49   0   0   0   0   0  49  49  49   0\n",
      "  49  49  49  49  49  49  49  49  49   0   0   0   0   0   0   0  49  49\n",
      "  49  49  49   0  49  49  49  49  49  49  49  49  49   0   0   0   0  49\n",
      "  49   0   0 311  49  49  49  49  49   0  49   0  49  49   0  49   0  49\n",
      "   0   0   0 311  49  49   0  49  49   0  49  49  49  49  49  49  49  49\n",
      "   0   0   0   0   0  49   0   0   0  49  49  49  49  49  49  49  49  49\n",
      "   0   0   0   0 311  49  49  49  49  49  49  49  49  49  49   0  49  49\n",
      "  49  49  49  49   0   0   0  49  49   0   0  49  49  49  49  49  49  49]\n",
      "[[0.6719895  0.6719895  0.6719895  0.6719895  0.6719895  0.6719895\n",
      "  0.6719895  0.6719895  0.         0.6719895  0.         0.\n",
      "  0.         0.6719895  0.6719895  0.6719895  0.         0.6719895 ]\n",
      " [0.6719895  0.6719895  0.6719895  0.6719895  0.6719895  0.6719895\n",
      "  0.6719895  0.6719895  0.6719895  0.6719895  0.         0.\n",
      "  0.         0.         0.         0.         0.         0.        ]\n",
      " [0.6719895  0.         0.         0.         0.6719895  0.6719895\n",
      "  0.6719895  0.6719895  0.6719895  0.         0.         0.6719895\n",
      "  0.6719895  0.6719895  0.6719895  0.6719895  0.6719895  0.6719895 ]\n",
      " [0.6719895  0.6719895  0.6719895  0.6719895  0.6719895  0.\n",
      "  0.         0.6719895  0.6719895  0.6719895  0.         0.\n",
      "  0.         0.6719895  0.6719895  0.6719895  0.         0.        ]\n",
      " [0.6719895  0.6719895  0.6719895  0.6719895  0.         0.\n",
      "  0.         0.         0.         0.6719895  0.6719895  0.\n",
      "  0.         0.         0.6719895  0.6719895  0.6719895  0.6719895 ]\n",
      " [0.6719895  0.6719895  0.6719895  0.6719895  0.6719895  0.6719895\n",
      "  0.6719895  0.         0.         0.         0.6719895  0.6719895\n",
      "  0.6719895  0.6719895  0.         0.         0.6719895  0.6719895 ]\n",
      " [0.6719895  0.6719895  0.6719895  0.6719895  0.6719895  0.6719895\n",
      "  0.6719895  0.6719895  0.6719895  0.         0.         0.\n",
      "  0.         0.         0.6719895  0.6719895  0.6719895  0.        ]\n",
      " [0.6719895  0.6719895  0.6719895  0.6719895  0.6719895  0.6719895\n",
      "  0.6719895  0.6719895  0.6719895  0.         0.         0.\n",
      "  0.         0.         0.         0.         0.6719895  0.6719895 ]\n",
      " [0.6719895  0.6719895  0.6719895  0.         0.6719895  0.6719895\n",
      "  0.6719895  0.6719895  0.6719895  0.6719895  0.6719895  0.6719895\n",
      "  0.6719895  0.         0.         0.         0.         0.6719895 ]\n",
      " [0.6719895  0.         0.         1.43357759 0.6719895  0.6719895\n",
      "  0.6719895  0.6719895  0.6719895  0.         0.6719895  0.\n",
      "  0.6719895  0.6719895  0.         0.6719895  0.         0.6719895 ]\n",
      " [0.         0.         0.         1.43357759 0.6719895  0.6719895\n",
      "  0.         0.6719895  0.6719895  0.         0.6719895  0.6719895\n",
      "  0.6719895  0.6719895  0.6719895  0.6719895  0.6719895  0.6719895 ]\n",
      " [0.         0.         0.         0.         0.         0.6719895\n",
      "  0.         0.         0.         0.6719895  0.6719895  0.6719895\n",
      "  0.6719895  0.6719895  0.6719895  0.6719895  0.6719895  0.6719895 ]\n",
      " [0.         0.         0.         0.         1.43357759 0.6719895\n",
      "  0.6719895  0.6719895  0.6719895  0.6719895  0.6719895  0.6719895\n",
      "  0.6719895  0.6719895  0.6719895  0.         0.6719895  0.6719895 ]\n",
      " [0.6719895  0.6719895  0.6719895  0.6719895  0.         0.\n",
      "  0.         0.6719895  0.6719895  0.         0.         0.6719895\n",
      "  0.6719895  0.6719895  0.6719895  0.6719895  0.6719895  0.6719895 ]]\n"
     ]
    }
   ],
   "source": [
    "w_flat = w_from_latlon.flatten()\n",
    "print(w_flat)\n",
    "loading_new_extreme = loadings.loc[w_flat,'Extreme_N'].values.reshape(w_from_latlon.shape)\n",
    "print(loading_new_extreme)"
   ]
  },
  {
   "cell_type": "markdown",
   "id": "88686db0",
   "metadata": {},
   "source": [
    "### Testing rasterio"
   ]
  },
  {
   "cell_type": "code",
   "execution_count": null,
   "id": "999e4b33",
   "metadata": {},
   "outputs": [],
   "source": [
    "src = rasterio.open('../FCCS_Fuel_Fire_Danger_Metric.tif')\n",
    "\n",
    "print(src.count) #number of bands/data layers\n",
    "print(src.width)\n",
    "print(src.height)\n",
    "print(src.crs)"
   ]
  },
  {
   "cell_type": "code",
   "execution_count": null,
   "id": "4b22365b",
   "metadata": {},
   "outputs": [],
   "source": [
    "w = src.read(1, window=Window(9000, 10000, 1000, 1000))\n",
    "show(w)"
   ]
  },
  {
   "cell_type": "code",
   "execution_count": null,
   "id": "e56a4354",
   "metadata": {},
   "outputs": [],
   "source": [
    "print(np.unique(w))"
   ]
  },
  {
   "cell_type": "code",
   "execution_count": 12,
   "id": "a97752f6",
   "metadata": {},
   "outputs": [
    {
     "name": "stdout",
     "output_type": "stream",
     "text": [
      "                           geometry\n",
      "0  POINT (-1973638.681 1556273.103)\n",
      "1  POINT (-1972501.053 1557154.514)\n",
      "-1973638.6814353298 -1972501.0526358276 1556273.1025267234 1557154.5144406322\n"
     ]
    }
   ],
   "source": [
    "p1 = Point(-118,35) #bottom left\n",
    "p2 = Point(-117.99,35.01) #top right\n",
    "\n",
    "d = {'geometry': [p1, p2]}\n",
    "gdf = gpd.GeoDataFrame(d, crs=4326)\n",
    "gdf= gdf.to_crs(5070)\n",
    "print(gdf)\n",
    "\n",
    "left = gdf.geometry[0].x\n",
    "right = gdf.geometry[1].x\n",
    "bottom = gdf.geometry[0].y\n",
    "top = gdf.geometry[1].y\n",
    "print(left,right,bottom,top)"
   ]
  },
  {
   "cell_type": "code",
   "execution_count": null,
   "id": "653cb9eb",
   "metadata": {},
   "outputs": [],
   "source": []
  },
  {
   "cell_type": "code",
   "execution_count": 13,
   "id": "898f629e",
   "metadata": {
    "scrolled": true
   },
   "outputs": [
    {
     "name": "stdout",
     "output_type": "stream",
     "text": [
      "Window(col_off=12959.54395215567, row_off=54009.34951864559, width=37.92095998341392, height=29.38039713029866)\n"
     ]
    },
    {
     "data": {
      "image/png": "[encoded data removed]",
      "text/plain": [
       "<Figure size 432x288 with 1 Axes>"
      ]
     },
     "metadata": {
      "needs_background": "light"
     },
     "output_type": "display_data"
    },
    {
     "data": {
      "text/plain": [
       "<AxesSubplot:>"
      ]
     },
     "execution_count": 13,
     "metadata": {},
     "output_type": "execute_result"
    }
   ],
   "source": [
    "\n",
    "with rasterio.open('../FCCS_Fuel_Fire_Danger_Metric.tif') as src:\n",
    "    win = from_bounds(left,bottom,right,top, src.transform)\n",
    "    print(win)\n",
    "    w_from_latlon = src.read(1, window=win)\n",
    "show(w_from_latlon)"
   ]
  },
  {
   "cell_type": "code",
   "execution_count": 11,
   "id": "fa41eab3",
   "metadata": {},
   "outputs": [
    {
     "name": "stdout",
     "output_type": "stream",
     "text": [
      "[[-1973623.68143533 -1973593.68143533 -1973563.68143533 ...\n",
      "  -1972603.68143533 -1972573.68143533 -1972543.68143533]\n",
      " [-1973623.68143533 -1973593.68143533 -1973563.68143533 ...\n",
      "  -1972603.68143533 -1972573.68143533 -1972543.68143533]\n",
      " [-1973623.68143533 -1973593.68143533 -1973563.68143533 ...\n",
      "  -1972603.68143533 -1972573.68143533 -1972543.68143533]\n",
      " ...\n",
      " [-1973623.68143533 -1973593.68143533 -1973563.68143533 ...\n",
      "  -1972603.68143533 -1972573.68143533 -1972543.68143533]\n",
      " [-1973623.68143533 -1973593.68143533 -1973563.68143533 ...\n",
      "  -1972603.68143533 -1972573.68143533 -1972543.68143533]\n",
      " [-1973623.68143533 -1973593.68143533 -1973563.68143533 ...\n",
      "  -1972603.68143533 -1972573.68143533 -1972543.68143533]]\n",
      "[[1557139.51444063 1557139.51444063 1557139.51444063 ... 1557139.51444063\n",
      "  1557139.51444063 1557139.51444063]\n",
      " [1557109.51444063 1557109.51444063 1557109.51444063 ... 1557109.51444063\n",
      "  1557109.51444063 1557109.51444063]\n",
      " [1557079.51444063 1557079.51444063 1557079.51444063 ... 1557079.51444063\n",
      "  1557079.51444063 1557079.51444063]\n",
      " ...\n",
      " [1556359.51444063 1556359.51444063 1556359.51444063 ... 1556359.51444063\n",
      "  1556359.51444063 1556359.51444063]\n",
      " [1556329.51444063 1556329.51444063 1556329.51444063 ... 1556329.51444063\n",
      "  1556329.51444063 1556329.51444063]\n",
      " [1556299.51444063 1556299.51444063 1556299.51444063 ... 1556299.51444063\n",
      "  1556299.51444063 1556299.51444063]]\n"
     ]
    }
   ],
   "source": [
    "rows = np.arange(win.row_off,win.row_off+win.height-1)\n",
    "cols = np.arange(win.col_off,win.col_off+win.width-1)\n",
    "\n",
    "COLS,ROWS=np.meshgrid(cols,rows)\n",
    "\n",
    "xs, ys = rasterio.transform.xy(src.transform, ROWS, COLS)\n",
    "print(np.array(xs))\n",
    "print(np.array(ys))"
   ]
  },
  {
   "cell_type": "code",
   "execution_count": 12,
   "id": "d9c20f06",
   "metadata": {},
   "outputs": [
    {
     "name": "stdout",
     "output_type": "stream",
     "text": [
      "[  0  41  49 311]\n",
      "(29, 37) (29, 37) (29, 37)\n"
     ]
    }
   ],
   "source": [
    "print(np.unique(w_from_latlon))\n",
    "print(w_from_latlon.shape, np.array(xs).shape, np.array(ys).shape)"
   ]
  },
  {
   "cell_type": "code",
   "execution_count": 5,
   "id": "fb88830d",
   "metadata": {},
   "outputs": [],
   "source": [
    "from dbfread import DBF\n",
    "\n",
    "recs = []\n",
    "count=0\n",
    "for record in DBF('../FCCS_Fuel_Fire_Danger_Metric.tif.vat.dbf'):\n",
    "    count = count+1\n",
    "    recs.append(record)"
   ]
  },
  {
   "cell_type": "code",
   "execution_count": 7,
   "id": "637b9509",
   "metadata": {
    "scrolled": true
   },
   "outputs": [],
   "source": [
    "loadings = pd.DataFrame(recs)\n",
    "loadings.to_csv('FWI_Category_Fuel_Loadings.csv') #per FWI category per fuel bed loadings\n"
   ]
  },
  {
   "cell_type": "code",
   "execution_count": null,
   "id": "1797c23a",
   "metadata": {},
   "outputs": [],
   "source": [
    "\"\"\"\n",
    "DO NOT RUN THIS, TOO SLOW\n",
    "# from https://gis.stackexchange.com/questions/388047/get-coordinates-of-all-pixels-in-a-raster-with-rasterio\n",
    "file_name = '../FCCS_Fuel_Fire_Danger_Metric.tif'\n",
    "with rasterio.open(file_name) as src:\n",
    "    band1 = src.read(1)\n",
    "    print('Band1 has shape', band1.shape)\n",
    "    height = band1.shape[0]\n",
    "    width = band1.shape[1]\n",
    "    cols, rows = np.meshgrid(np.arange(width), np.arange(height))\n",
    "    xs, ys = rasterio.transform.xy(src.transform, rows, cols)\n",
    "    lons= np.array(xs)\n",
    "    lats = np.array(ys)\n",
    "    print('lons shape', lons.shape)\"\"\""
   ]
  },
  {
   "cell_type": "code",
   "execution_count": null,
   "id": "c10583a6",
   "metadata": {},
   "outputs": [],
   "source": []
  }
 ],
 "metadata": {
  "kernelspec": {
   "display_name": "Python 3",
   "language": "python",
   "name": "python3"
  },
  "language_info": {
   "codemirror_mode": {
    "name": "ipython",
    "version": 3
   },
   "file_extension": ".py",
   "mimetype": "text/x-python",
   "name": "python",
   "nbconvert_exporter": "python",
   "pygments_lexer": "ipython3",
   "version": "3.7.6"
  }
 },
 "nbformat": 4,
 "nbformat_minor": 5
}
