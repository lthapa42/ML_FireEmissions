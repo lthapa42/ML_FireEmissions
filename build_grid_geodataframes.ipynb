{
 "cells": [
  {
   "cell_type": "code",
   "execution_count": 1,
   "id": "9430e451",
   "metadata": {},
   "outputs": [],
   "source": [
    "import pandas as pd\n",
    "#pd.set_option('display.max_rows', None)\n",
    "import geopandas as gpd\n",
    "import matplotlib.pyplot as plt\n",
    "from matplotlib import path\n",
    "import os\n",
    "import cartopy.crs as ccrs\n",
    "import cartopy.feature as cfeature\n",
    "import cartopy\n",
    "import numpy as np\n",
    "import netCDF4 as nc\n",
    "np.set_printoptions(threshold=100000)\n",
    "from shapely.geometry import Polygon, Point, MultiPoint\n",
    "from shapely.ops import cascaded_union\n",
    "from datetime import datetime, timedelta\n",
    "import time\n",
    "import warnings\n",
    "import statsmodels.api as sm\n",
    "import datetime\n",
    "import math\n",
    "from scipy.ndimage.interpolation import shift\n",
    "import shapely.wkt\n",
    "from shapely.validation import explain_validity\n",
    "from shapely.validation import make_valid\n",
    "import xarray as xr\n",
    "\n",
    "warnings.filterwarnings('ignore')\n",
    "import seaborn as sns\n",
    "\n",
    "\n",
    "from joblib import Parallel, delayed\n",
    "import multiprocessing"
   ]
  },
  {
   "cell_type": "markdown",
   "id": "30ae3d89",
   "metadata": {
    "heading_collapsed": true
   },
   "source": [
    "## MERRA2 GRID"
   ]
  },
  {
   "cell_type": "code",
   "execution_count": 6,
   "id": "f8dcb880",
   "metadata": {
    "hidden": true
   },
   "outputs": [
    {
     "name": "stdout",
     "output_type": "stream",
     "text": [
      "[31.  31.5 32.  32.5 33.  33.5 34.  34.5 35.  35.5 36.  36.5 37.  37.5\n",
      " 38.  38.5 39.  39.5 40.  40.5 41.  41.5 42.  42.5 43.  43.5 44.  44.5\n",
      " 45.  45.5 46.  46.5 47.  47.5 48.  48.5 49. ]\n",
      "[-125.    -124.375 -123.75  -123.125 -122.5   -121.875 -121.25  -120.625\n",
      " -120.    -119.375 -118.75  -118.125 -117.5   -116.875 -116.25  -115.625\n",
      " -115.    -114.375 -113.75  -113.125 -112.5   -111.875 -111.25  -110.625\n",
      " -110.    -109.375 -108.75  -108.125 -107.5   -106.875 -106.25  -105.625\n",
      " -105.    -104.375 -103.75  -103.125 -102.5   -101.875 -101.25 ]\n",
      "35 37\n",
      "36 38\n",
      "<xarray.Dataset>\n",
      "Dimensions:   (cols_cor: 38, cols_ctr: 37, rows_cor: 36, rows_ctr: 35)\n",
      "Coordinates:\n",
      "  * rows_ctr  (rows_ctr) int64 0 1 2 3 4 5 6 7 8 ... 26 27 28 29 30 31 32 33 34\n",
      "  * cols_ctr  (cols_ctr) int64 0 1 2 3 4 5 6 7 8 ... 28 29 30 31 32 33 34 35 36\n",
      "  * rows_cor  (rows_cor) int64 0 1 2 3 4 5 6 7 8 ... 27 28 29 30 31 32 33 34 35\n",
      "  * cols_cor  (cols_cor) int64 0 1 2 3 4 5 6 7 8 ... 29 30 31 32 33 34 35 36 37\n",
      "Data variables:\n",
      "    LAT_CTR   (rows_ctr, cols_ctr) float64 31.5 31.5 31.5 ... 48.5 48.5 48.5\n",
      "    LON_CTR   (rows_ctr, cols_ctr) float64 -124.4 -123.8 ... -102.5 -101.9\n",
      "    LAT_COR   (rows_cor, cols_cor) float64 31.25 31.25 31.25 ... 48.75 48.75\n",
      "    LON_COR   (rows_cor, cols_cor) float64 -124.7 -124.1 ... -102.2 -101.6\n"
     ]
    }
   ],
   "source": [
    "path_merra = '/data2/lthapa/2020/MERRA2/WESTUS_MERRA2_400.inst1_2d_lfo_Nx.20200801.nc4'\n",
    "dat_merra = xr.open_dataset(path_merra)\n",
    "\n",
    "#get the lat/lon of the grid\n",
    "lat = dat_merra['lat'].values #37 elements, rows, y\n",
    "lon = dat_merra['lon'].values #39 elements, columns, x\n",
    "print(lat)\n",
    "print(lon)\n",
    "\n",
    "#drop the outer ring of lat/lons\n",
    "lat_sub = lat[1:len(lat)-1] #35 elements\n",
    "lon_sub = lon[1:len(lon)-1] #37 elements\n",
    "\n",
    "#calculate the grid centers\n",
    "lon_centers, lat_centers = np.meshgrid(lon_sub, lat_sub) #these are 35x37\n",
    "\n",
    "#calculate the grid corners\n",
    "lon, lat = np.meshgrid(lon,lat) #these are 37x39 \n",
    "lat_corners, lon_corners = calculate_grid_cell_corners(lat, lon) #these are 36x38\n",
    "\n",
    "#build and save the grid\n",
    "#build_grid_gdf(lat_corners, lon_corners, lat_centers, lon_centers, 'MERRA_GRID')\n",
    "build_grid_netcdf(lat_corners, lon_corners, lat_centers, lon_centers, 'MERRA_GRID')"
   ]
  },
  {
   "cell_type": "markdown",
   "id": "b9321166",
   "metadata": {},
   "source": [
    "## RAVE"
   ]
  },
  {
   "cell_type": "code",
   "execution_count": 8,
   "id": "3553af6e",
   "metadata": {},
   "outputs": [
    {
     "data": {
      "text/plain": [
       "0"
      ]
     },
     "execution_count": 8,
     "metadata": {},
     "output_type": "execute_result"
    }
   ],
   "source": [
    "os.system('ncrename -v Latitude,lat -v Longitude,lon /data2/lthapa/2020/Apr2020_to_Oct2020/Hourly_Emissions_FV3_13km_202004070000_202004072300.nc /data2/lthapa/2020/Apr2020_to_Oct2020/Hourly_Emissions_FV3_13km_202004070000_202004072300xr.nc')\n"
   ]
  },
  {
   "cell_type": "code",
   "execution_count": 9,
   "id": "20b8efdf",
   "metadata": {},
   "outputs": [
    {
     "name": "stdout",
     "output_type": "stream",
     "text": [
      "<xarray.Dataset>\n",
      "Dimensions:   (Latitude: 233, Longitude: 397, Time: 24, xFRP: 396, yFRP: 232)\n",
      "Dimensions without coordinates: Latitude, Longitude, Time, xFRP, yFRP\n",
      "Data variables: (12/14)\n",
      "    lat       (Latitude, Longitude) float32 ...\n",
      "    lon       (Latitude, Longitude) float32 ...\n",
      "    time      (Time) datetime64[ns] ...\n",
      "    area      (yFRP, xFRP) float32 ...\n",
      "    Mean_FRP  (yFRP, xFRP, Time) float32 ...\n",
      "    FRE       (yFRP, xFRP, Time) float32 ...\n",
      "    ...        ...\n",
      "    SO2       (yFRP, xFRP, Time) float32 ...\n",
      "    OC        (yFRP, xFRP, Time) float32 ...\n",
      "    BC        (yFRP, xFRP, Time) float32 ...\n",
      "    PM2.5     (yFRP, xFRP, Time) float32 ...\n",
      "    NOx       (yFRP, xFRP, Time) float32 ...\n",
      "    NH3       (yFRP, xFRP, Time) float32 ...\n",
      "Attributes:\n",
      "    PRODUCT_ALGORITHM_VERSION:        Beta\n",
      "    TIME_RANGE:                       24 hours\n",
      "    RangeBeginningDate(YYYY-MM-DD):   2020-04-07\n",
      "    RangeBeginningTime(UTC-hour):     00\n",
      "    RangeEndingDate(YYYY-MM-DD):      2020-04-07\n",
      "    RangeEndingTime(UTC-hour):        23\n",
      "    WestBoundingCoordinate(degree):   227.506\n",
      "    EastBoundingCoordinate(degree):   297.434\n",
      "    NorthBoundingCoordinate(degree):  52.058\n",
      "    SouthBoundingCoordinate(degree):  22.136\n",
      "    history:                          Wed Sep 21 10:19:16 2022: ncrename -v L...\n",
      "    NCO:                              netCDF Operators version 4.7.5 (Homepag...\n",
      "[  0   1   2   3   4   5   6   7   8   9  10  11  12  13  14  15  16  17\n",
      "  18  19  20  21  22  23  24  25  26  27  28  29  30  31  32  33  34  35\n",
      "  36  37  38  39  40  41  42  43  44  45  46  47  48  49  50  51  52  53\n",
      "  54  55  56  57  58  59  60  61  62  63  64  65  66  67  68  69  70  71\n",
      "  72  73  74  75  76  77  78  79  80  81  82  83  84  85  86  87  88  89\n",
      "  90  91  92  93  94  95  96  97  98  99 100 101 102 103 104 105 106 107\n",
      " 108 109 110 111 112 113 114 115 116 117 118 119 120 121 122 123 124 125\n",
      " 126 127 128 129 130 131 132 133 134 135 136 137 138 139 140 141 142 143\n",
      " 144 145 146 147 148 149 150 151 152 153 154 155 156 157 158 159 160 161\n",
      " 162 163 164 165 166 167 168 169 170 171 172 173 174 175 176 177 178 179\n",
      " 180 181 182 183 184 185 186 187 188 189 190 191 192 193 194 195 196 197\n",
      " 198 199 200 201 202 203 204 205 206 207 208 209 210 211 212 213 214 215\n",
      " 216 217 218 219 220 221 222 223 224 225 226 227 228 229 230 231 232]\n",
      "232 396\n",
      "233 397\n",
      "<xarray.Dataset>\n",
      "Dimensions:   (cols_cor: 397, cols_ctr: 396, rows_cor: 233, rows_ctr: 232)\n",
      "Coordinates:\n",
      "  * rows_ctr  (rows_ctr) int64 0 1 2 3 4 5 6 7 ... 225 226 227 228 229 230 231\n",
      "  * cols_ctr  (cols_ctr) int64 0 1 2 3 4 5 6 7 ... 389 390 391 392 393 394 395\n",
      "  * rows_cor  (rows_cor) int64 0 1 2 3 4 5 6 7 ... 226 227 228 229 230 231 232\n",
      "  * cols_cor  (cols_cor) int64 0 1 2 3 4 5 6 7 ... 390 391 392 393 394 395 396\n",
      "Data variables:\n",
      "    LAT_CTR   (rows_ctr, cols_ctr) float32 22.21 22.23 22.26 ... 47.25 47.21\n",
      "    LON_CTR   (rows_ctr, cols_ctr) float32 -122.3 -122.2 ... -62.78 -62.62\n",
      "    LAT_COR   (rows_cor, cols_cor) float32 22.14 22.16 22.19 ... 47.28 47.24\n",
      "    LON_COR   (rows_cor, cols_cor) float32 -122.4 -122.2 ... -62.67 -62.51\n"
     ]
    }
   ],
   "source": [
    "path_rave = '/data2/lthapa/2020/Apr2020_to_Oct2020/Hourly_Emissions_FV3_13km_202004070000_202004072300xr.nc'\n",
    "dat_rave = xr.open_dataset(path_rave)\n",
    "print(dat_rave)\n",
    "#get the lat/lon of the grid, these are the edges/corners\n",
    "lat_corners = dat_rave['lat'].values #233 x 397\n",
    "lon_corners = dat_rave['lon'].values - 360 #233 x 397\n",
    "print(dat_rave['Latitude'].values)\n",
    "#calculate the centers\n",
    "lat_centers, lon_centers = calculate_grid_cell_corners(lat_corners, lon_corners)\n",
    "\n",
    "#build and save the grid\n",
    "#build_grid_gdf(lat_corners, lon_corners, lat_centers, lon_centers, 'RAVE_GRID')\n",
    "build_grid_netcdf(lat_corners, lon_corners, lat_centers, lon_centers, 'RAVE_GRID')"
   ]
  },
  {
   "cell_type": "markdown",
   "id": "a347c562",
   "metadata": {
    "heading_collapsed": true
   },
   "source": [
    "## ESI"
   ]
  },
  {
   "cell_type": "code",
   "execution_count": 15,
   "id": "e2b9c0bb",
   "metadata": {
    "hidden": true
   },
   "outputs": [
    {
     "name": "stdout",
     "output_type": "stream",
     "text": [
      "(359, 479)\n",
      "358 478\n",
      "           lat      lon    row    col  \\\n",
      "0       31.075 -124.925    0.0    0.0   \n",
      "1       31.075 -124.875    0.0    1.0   \n",
      "2       31.075 -124.825    0.0    2.0   \n",
      "3       31.075 -124.775    0.0    3.0   \n",
      "4       31.075 -124.725    0.0    4.0   \n",
      "...        ...      ...    ...    ...   \n",
      "171119  48.925 -101.275  357.0  473.0   \n",
      "171120  48.925 -101.225  357.0  474.0   \n",
      "171121  48.925 -101.175  357.0  475.0   \n",
      "171122  48.925 -101.125  357.0  476.0   \n",
      "171123  48.925 -101.075  357.0  477.0   \n",
      "\n",
      "                                                 geometry  \n",
      "0       POLYGON ((-124.95000 31.05000, -124.95000 31.1...  \n",
      "1       POLYGON ((-124.90000 31.05000, -124.90000 31.1...  \n",
      "2       POLYGON ((-124.85000 31.05000, -124.85000 31.1...  \n",
      "3       POLYGON ((-124.80000 31.05000, -124.80000 31.1...  \n",
      "4       POLYGON ((-124.75000 31.05000, -124.75000 31.1...  \n",
      "...                                                   ...  \n",
      "171119  POLYGON ((-101.30000 48.90000, -101.30000 48.9...  \n",
      "171120  POLYGON ((-101.25000 48.90000, -101.25000 48.9...  \n",
      "171121  POLYGON ((-101.20000 48.90000, -101.20000 48.9...  \n",
      "171122  POLYGON ((-101.15000 48.90000, -101.15000 48.9...  \n",
      "171123  POLYGON ((-101.10000 48.90000, -101.10000 48.9...  \n",
      "\n",
      "[171124 rows x 5 columns]\n"
     ]
    }
   ],
   "source": [
    "path_esi = '/data2/lthapa/DFPPM_4WK_2020323.nc'\n",
    "dat_esi = xr.open_dataset(path_esi)\n",
    "\n",
    "#get the lat/lon of the grid\n",
    "lat = dat_esi['lat'].values #360 elements, rows, y\n",
    "lon = dat_esi['lon'].values #480 elements, columns, x\n",
    "\n",
    "\n",
    "#drop the outer ring of lat/lons\n",
    "lat_sub = lat[1:len(lat)-1] #358 elements\n",
    "lon_sub = lon[1:len(lon)-1] #478 elements\n",
    "\n",
    "#calculate the grid centers\n",
    "lon_centers, lat_centers = np.meshgrid(lon_sub, lat_sub) #these are 358x478\n",
    "\n",
    "#calculate the grid corners\n",
    "lon, lat = np.meshgrid(lon,lat) #these are 360x480\n",
    "lat_corners, lon_corners = calculate_grid_cell_corners(lat, lon) #these are 359x479\n",
    "print(lon_corners.shape)\n",
    "\n",
    "#build and save the grid\n",
    "build_grid_gdf(lat_corners, lon_corners, lat_centers, lon_centers, 'ESI_GRID')"
   ]
  },
  {
   "cell_type": "markdown",
   "id": "3b1b6887",
   "metadata": {
    "heading_collapsed": true
   },
   "source": [
    "## PWS Grid"
   ]
  },
  {
   "cell_type": "code",
   "execution_count": 10,
   "id": "54058eb1",
   "metadata": {
    "hidden": true
   },
   "outputs": [
    {
     "name": "stdout",
     "output_type": "stream",
     "text": [
      "643 868\n",
      "              lat         lon    row    col  \\\n",
      "0       25.889446 -124.704128    0.0    0.0   \n",
      "1       25.889446 -124.668195    0.0    1.0   \n",
      "2       25.889446 -124.632263    0.0    2.0   \n",
      "3       25.889446 -124.596330    0.0    3.0   \n",
      "4       25.889446 -124.560397    0.0    4.0   \n",
      "...           ...         ...    ...    ...   \n",
      "558119  48.958183  -93.694284  642.0  863.0   \n",
      "558120  48.958183  -93.658352  642.0  864.0   \n",
      "558121  48.958183  -93.622419  642.0  865.0   \n",
      "558122  48.958183  -93.586486  642.0  866.0   \n",
      "558123  48.958183  -93.550554  642.0  867.0   \n",
      "\n",
      "                                                 geometry  \n",
      "0       POLYGON ((-124.72209 25.87148, -124.72209 25.9...  \n",
      "1       POLYGON ((-124.68616 25.87148, -124.68616 25.9...  \n",
      "2       POLYGON ((-124.65023 25.87148, -124.65023 25.9...  \n",
      "3       POLYGON ((-124.61430 25.87148, -124.61430 25.9...  \n",
      "4       POLYGON ((-124.57836 25.87148, -124.57836 25.9...  \n",
      "...                                                   ...  \n",
      "558119  POLYGON ((-93.71225 48.94022, -93.71225 48.976...  \n",
      "558120  POLYGON ((-93.67632 48.94022, -93.67632 48.976...  \n",
      "558121  POLYGON ((-93.64039 48.94022, -93.64039 48.976...  \n",
      "558122  POLYGON ((-93.60445 48.94022, -93.60445 48.976...  \n",
      "558123  POLYGON ((-93.56852 48.94022, -93.56852 48.976...  \n",
      "\n",
      "[558124 rows x 5 columns]\n"
     ]
    }
   ],
   "source": [
    "path_pws = '/data2/lthapa/PWS_6_jan_2021.nc'\n",
    "dat_pws = xr.open_dataset(path_pws)\n",
    "\n",
    "#get the lat/lon of the grid\n",
    "lat = dat_pws['lat'].values #645 elements, rows, y\n",
    "lon = dat_pws['lon'].values #870 elements, columns, x\n",
    "\n",
    "#drop the outer ring of lat/lons\n",
    "lat_sub = lat[1:len(lat)-1] #643 elements\n",
    "lon_sub = lon[1:len(lon)-1] #868 elements\n",
    "\n",
    "\n",
    "#calculate the grid centers\n",
    "lon_centers, lat_centers = np.meshgrid(lon_sub, lat_sub) #these are 643x868\n",
    "\n",
    "#calculate the grid corners\n",
    "lon, lat = np.meshgrid(lon,lat) #these are 645x870\n",
    "lat_corners, lon_corners = calculate_grid_cell_corners(lat, lon) #these are 644x869\n",
    "\n",
    "#build and save the grid\n",
    "build_grid_gdf(lat_corners, lon_corners, lat_centers, lon_centers, 'PWS_GRID')\n"
   ]
  },
  {
   "cell_type": "markdown",
   "id": "cb7a8552",
   "metadata": {},
   "source": [
    "## HRRR Grid"
   ]
  },
  {
   "cell_type": "code",
   "execution_count": 2,
   "id": "3ad16e83",
   "metadata": {},
   "outputs": [],
   "source": []
  },
  {
   "cell_type": "code",
   "execution_count": 8,
   "id": "0dd0caf7",
   "metadata": {},
   "outputs": [
    {
     "name": "stdout",
     "output_type": "stream",
     "text": [
      "1056 1796\n",
      "64\n",
      "70.05691599845886\n",
      "               lat         lon   row   col  \\\n",
      "0        21.201847 -122.681160     0     0   \n",
      "1        21.208826 -122.654472     0     1   \n",
      "2        21.215797 -122.627777     0     2   \n",
      "3        21.222763 -122.601082     0     3   \n",
      "4        21.229721 -122.574379     0     4   \n",
      "...            ...         ...   ...   ...   \n",
      "1896571  47.869011  -61.115360  1055  1791   \n",
      "1896572  47.858761  -61.078770  1055  1792   \n",
      "1896573  47.848503  -61.042194  1055  1793   \n",
      "1896574  47.838234  -61.005627  1055  1794   \n",
      "1896575  47.827953  -60.969074  1055  1795   \n",
      "\n",
      "                                                  geometry  \n",
      "0        POLYGON ((-122.69075 21.18592, -122.69825 21.2...  \n",
      "1        POLYGON ((-122.66408 21.19290, -122.67155 21.2...  \n",
      "2        POLYGON ((-122.63738 21.19987, -122.64487 21.2...  \n",
      "3        POLYGON ((-122.61069 21.20684, -122.61816 21.2...  \n",
      "4        POLYGON ((-122.58400 21.21380, -122.59146 21.2...  \n",
      "...                                                    ...  \n",
      "1896571  POLYGON ((-61.14129 47.86185, -61.12602 47.886...  \n",
      "1896572  POLYGON ((-61.10470 47.85161, -61.08942 47.876...  \n",
      "1896573  POLYGON ((-61.06812 47.84136, -61.05283 47.865...  \n",
      "1896574  POLYGON ((-61.03156 47.83109, -61.01625 47.855...  \n",
      "1896575  POLYGON ((-60.99500 47.82082, -60.97969 47.845...  \n",
      "\n",
      "[1896576 rows x 5 columns]\n",
      "70.05691599845886\n"
     ]
    }
   ],
   "source": [
    "path_hrrr = '/data2/lthapa/ML_daily/pygraf/Processed_HRRR_2020091800.nc'\n",
    "dat_hrrr = xr.open_dataset(path_hrrr)\n",
    "\n",
    "lat_centers = dat_hrrr['grid_latt'].values #1057x1797\n",
    "lon_centers = dat_hrrr['grid_lont'].values #1057x1797\n",
    "\n",
    "#drop the outer ring of lat/lons\n",
    "lat_centers = lat_centers[1:lat_centers.shape[0],1:lat_centers.shape[1]] #1056x1796\n",
    "lon_centers = lon_centers[1:lon_centers.shape[0],1:lon_centers.shape[1]] #1056x1796\n",
    "\n",
    "#load in the corners\n",
    "lat_corners = dat_hrrr['grid_lat'].values #1057x1797\n",
    "lon_corners = dat_hrrr['grid_lon'].values #1057x1797\n",
    "\n",
    "#build_grid_netcdf(lat_corners, lon_corners, lat_centers, lon_centers, 'HRRR_GRID')\n",
    "\n",
    "\n",
    "nrows = lat_centers.shape[0]\n",
    "ncols = lat_centers.shape[1]\n",
    "\n",
    "print(nrows, ncols)\n",
    "\n",
    "row_ind = range(nrows)\n",
    "col_ind =range(ncols)\n",
    "\n",
    "print(multiprocessing.cpu_count())\n",
    "\n",
    "tic = time.time()\n",
    "results = Parallel(n_jobs=6)(delayed(build_one_gridcell)(lat_corners, lon_corners, lat_centers, lon_centers,i,j) for i in row_ind for j in col_ind)\n",
    "toc = time.time()\n",
    "print(toc-tic)\n",
    "\n",
    "df_grid=gpd.GeoDataFrame(results)\n",
    "df_grid.columns = ['lat', 'lon', 'row', 'col', 'geometry']\n",
    "df_grid.set_geometry(col='geometry', inplace=True) #assign a column to represent geometry\n",
    "\n",
    "print(df_grid)\n",
    "#tic =time.time()\n",
    "#df_grid.to_file('HRRR_GRID.geojson', driver='GeoJSON')\n",
    "#toc=time.time()\n",
    "print(toc-tic)\n",
    "#df_size = len(row_ind)*len(col_ind)\n",
    "#df_grid = gpd.GeoDataFrame({'lat': np.zeros(df_size), \n",
    "#                                'lon': np.zeros(df_size),\n",
    "#                                'row':np.zeros(df_size),\n",
    "#                                'col':np.zeros(df_size),\n",
    "#                                'geometry':np.zeros(df_size)})\n",
    "#df_grid = Parallel(n_jobs=2)(delayed(store_grid)(df_grid,results,kk) for kk in range(df_size))\n",
    "#print(df_grid)\n",
    "#build_one_gridcell(lat_corners, lon_corners, lat_centers, lon_centers,0,0)\n"
   ]
  },
  {
   "cell_type": "code",
   "execution_count": 63,
   "id": "4f3788af",
   "metadata": {},
   "outputs": [],
   "source": [
    "def store_grid(grid,res, k):\n",
    "    grid.iloc[k,:] = res[k]\n",
    "    return grid"
   ]
  },
  {
   "cell_type": "code",
   "execution_count": 10,
   "id": "285c27c3",
   "metadata": {},
   "outputs": [],
   "source": [
    "#makes and saves a geodataframe of a grid given the center and corner points for that grid as 2D matrices\n",
    "def build_one_gridcell(LAT_COR, LON_COR, LAT_CTR, LON_CTR, ii,jj):\n",
    "    #print(ii,jj,count)\n",
    "    #print(LAT_CTR[ii,jj], LON_CTR[ii,jj]) #ctr\n",
    "    sw = (LON_COR[ii, jj],LAT_COR[ii, jj]) #SW\n",
    "    se =(LON_COR[ii, jj+1],LAT_COR[ii, jj+1]) #SE\n",
    "    nw = (LON_COR[ii+1, jj],LAT_COR[ii+1, jj]) #NW\n",
    "    ne = (LON_COR[ii+1, jj+1],LAT_COR[ii+1, jj+1]) #NE\n",
    "            \n",
    "    poly_cell = Polygon([sw,nw,ne,se])\n",
    "    \n",
    "    return LAT_CTR[ii,jj], LON_CTR[ii,jj],ii,jj,poly_cell"
   ]
  },
  {
   "cell_type": "markdown",
   "id": "8dfe380b",
   "metadata": {
    "heading_collapsed": true
   },
   "source": [
    "## CPC FWI Grid"
   ]
  },
  {
   "cell_type": "code",
   "execution_count": 23,
   "id": "0d26b77f",
   "metadata": {
    "hidden": true
   },
   "outputs": [
    {
     "name": "stdout",
     "output_type": "stream",
     "text": [
      "34 46\n",
      "64\n",
      "0.23758506774902344\n",
      "        lat     lon  row  col  \\\n",
      "0     31.75 -124.25    0    0   \n",
      "1     31.75 -123.75    0    1   \n",
      "2     31.75 -123.25    0    2   \n",
      "3     31.75 -122.75    0    3   \n",
      "4     31.75 -122.25    0    4   \n",
      "...     ...     ...  ...  ...   \n",
      "1559  48.25 -103.75   33   41   \n",
      "1560  48.25 -103.25   33   42   \n",
      "1561  48.25 -102.75   33   43   \n",
      "1562  48.25 -102.25   33   44   \n",
      "1563  48.25 -101.75   33   45   \n",
      "\n",
      "                                               geometry  \n",
      "0     POLYGON ((-124.50000 31.50000, -124.50000 32.0...  \n",
      "1     POLYGON ((-124.00000 31.50000, -124.00000 32.0...  \n",
      "2     POLYGON ((-123.50000 31.50000, -123.50000 32.0...  \n",
      "3     POLYGON ((-123.00000 31.50000, -123.00000 32.0...  \n",
      "4     POLYGON ((-122.50000 31.50000, -122.50000 32.0...  \n",
      "...                                                 ...  \n",
      "1559  POLYGON ((-104.00000 48.00000, -104.00000 48.5...  \n",
      "1560  POLYGON ((-103.50000 48.00000, -103.50000 48.5...  \n",
      "1561  POLYGON ((-103.00000 48.00000, -103.00000 48.5...  \n",
      "1562  POLYGON ((-102.50000 48.00000, -102.50000 48.5...  \n",
      "1563  POLYGON ((-102.00000 48.00000, -102.00000 48.5...  \n",
      "\n",
      "[1564 rows x 5 columns]\n",
      "0.2771632671356201\n"
     ]
    }
   ],
   "source": [
    "path_cpc = '../FWI.CPC.Daily.WESTUS.20200801.nc'\n",
    "dat_cpc = xr.open_dataset(path_cpc)\n",
    "\n",
    "#get the lat/lon of the grid\n",
    "lat = dat_cpc['lat'].values #36 elements, rows, y\n",
    "lon = dat_cpc['lon'].values #48 elements, columns, x\n",
    "\n",
    "#drop the outer ring of lat/lons\n",
    "lat_sub = lat[1:len(lat)-1] #34 elements\n",
    "lon_sub = lon[1:len(lon)-1] #46 elements\n",
    "\n",
    "#calculate the grid centers\n",
    "lon_centers, lat_centers = np.meshgrid(lon_sub, lat_sub) #these are 34x46\n",
    "\n",
    "#calculate the grid corners\n",
    "lon, lat = np.meshgrid(lon,lat) #these are 36x48\n",
    "lat_corners, lon_corners = calculate_grid_cell_corners(lat, lon) #these are 35x47\n",
    "\n",
    "nrows = lat_centers.shape[0]\n",
    "ncols = lat_centers.shape[1]\n",
    "\n",
    "print(nrows, ncols)\n",
    "\n",
    "row_ind = range(nrows)\n",
    "col_ind =range(ncols)\n",
    "\n",
    "print(multiprocessing.cpu_count())\n",
    "\n",
    "tic = time.time()\n",
    "results = Parallel(n_jobs=6)(delayed(build_one_gridcell)(lat_corners, lon_corners, lat_centers, lon_centers,i,j) for i in row_ind for j in col_ind)\n",
    "toc = time.time()\n",
    "print(toc-tic)\n",
    "\n",
    "df_grid=gpd.GeoDataFrame(results)\n",
    "df_grid.columns = ['lat', 'lon', 'row', 'col', 'geometry']\n",
    "df_grid.set_geometry(col='geometry', inplace=True) #assign a column to represent geometry\n",
    "\n",
    "print(df_grid)\n",
    "tic =time.time()\n",
    "df_grid.to_file('CPC_FWI_GRID.geojson', driver='GeoJSON')\n",
    "toc=time.time()\n",
    "print(toc-tic)"
   ]
  },
  {
   "cell_type": "markdown",
   "id": "36279959",
   "metadata": {
    "heading_collapsed": true
   },
   "source": [
    "## IMERG FWI Grid"
   ]
  },
  {
   "cell_type": "code",
   "execution_count": 33,
   "id": "4e75fe29",
   "metadata": {
    "hidden": true
   },
   "outputs": [
    {
     "name": "stdout",
     "output_type": "stream",
     "text": [
      "64\n",
      "2.5746617317199707\n",
      "             lat         lon  row  col  \\\n",
      "0      31.149998 -124.849991    0    0   \n",
      "1      31.149998 -124.750000    0    1   \n",
      "2      31.149998 -124.649994    0    2   \n",
      "3      31.149998 -124.549995    0    3   \n",
      "4      31.149998 -124.449997    0    4   \n",
      "...          ...         ...  ...  ...   \n",
      "42359  48.850002 -101.549995  177  233   \n",
      "42360  48.850002 -101.449997  177  234   \n",
      "42361  48.850002 -101.349998  177  235   \n",
      "42362  48.850002 -101.249992  177  236   \n",
      "42363  48.850002 -101.149994  177  237   \n",
      "\n",
      "                                                geometry  \n",
      "0      POLYGON ((-124.89999 31.10000, -124.89999 31.2...  \n",
      "1      POLYGON ((-124.80000 31.10000, -124.80000 31.2...  \n",
      "2      POLYGON ((-124.70000 31.10000, -124.70000 31.2...  \n",
      "3      POLYGON ((-124.59999 31.10000, -124.59999 31.2...  \n",
      "4      POLYGON ((-124.50000 31.10000, -124.50000 31.2...  \n",
      "...                                                  ...  \n",
      "42359  POLYGON ((-101.59999 48.80000, -101.59999 48.9...  \n",
      "42360  POLYGON ((-101.50000 48.80000, -101.50000 48.9...  \n",
      "42361  POLYGON ((-101.40000 48.80000, -101.40000 48.9...  \n",
      "42362  POLYGON ((-101.30000 48.80000, -101.30000 48.9...  \n",
      "42363  POLYGON ((-101.19999 48.80000, -101.19999 48.9...  \n",
      "\n",
      "[42364 rows x 5 columns]\n",
      "7.962424039840698\n"
     ]
    }
   ],
   "source": [
    "path_imerg = '../FWI.IMERG.FINAL.v6.Daily.WESTUS.20200801.nc'\n",
    "dat_imerg = xr.open_dataset(path_imerg)\n",
    "\n",
    "#get the lat/lon of the grid\n",
    "lat = dat_imerg['lat'].values #180 elements, rows, y\n",
    "lon = dat_imerg['lon'].values #240 elements, columns, x\n",
    "\n",
    "#drop the outer ring of lat/lons\n",
    "lat_sub = lat[1:len(lat)-1] #178 elements\n",
    "lon_sub = lon[1:len(lon)-1] #238 elements\n",
    "\n",
    "#calculate the grid centers\n",
    "lon_centers, lat_centers = np.meshgrid(lon_sub, lat_sub) #these are 178x238\n",
    "\n",
    "#calculate the grid corners\n",
    "lon, lat = np.meshgrid(lon,lat) #these are 36x48\n",
    "lat_corners, lon_corners = calculate_grid_cell_corners(lat, lon) #these are 179x239\n",
    "\n",
    "nrows = lat_centers.shape[0]\n",
    "ncols = lat_centers.shape[1]\n",
    "\n",
    "\n",
    "\n",
    "row_ind = range(nrows)\n",
    "col_ind =range(ncols)\n",
    "\n",
    "print(multiprocessing.cpu_count())\n",
    "\n",
    "tic = time.time()\n",
    "results = Parallel(n_jobs=6)(delayed(build_one_gridcell)(lat_corners, lon_corners, lat_centers, lon_centers,i,j) for i in row_ind for j in col_ind)\n",
    "toc = time.time()\n",
    "print(toc-tic)\n",
    "\n",
    "df_grid=gpd.GeoDataFrame(results)\n",
    "df_grid.columns = ['lat', 'lon', 'row', 'col', 'geometry']\n",
    "df_grid.set_geometry(col='geometry', inplace=True) #assign a column to represent geometry\n",
    "\n",
    "print(df_grid)\n",
    "tic =time.time()\n",
    "df_grid.to_file('IMERG_FWI_GRID.geojson', driver='GeoJSON')\n",
    "toc=time.time()\n",
    "print(toc-tic)"
   ]
  },
  {
   "cell_type": "markdown",
   "id": "f14fc3e3",
   "metadata": {},
   "source": [
    "## Helper Function"
   ]
  },
  {
   "cell_type": "code",
   "execution_count": 2,
   "id": "752dcaa2",
   "metadata": {
    "code_folding": [
     0
    ]
   },
   "outputs": [],
   "source": [
    "def calculate_grid_cell_corners(LAT, LON):\n",
    "    #we will assume the very edges of the polygons don't touch the boundary of the domain\n",
    "    lat_corners = (LAT[0:(LAT.shape[0]-1),  0:(LAT.shape[1])-1] + LAT[1:(LAT.shape[0]), 1:(LAT.shape[1])])/2\n",
    "    lon_corners = (LON[0:(LAT.shape[0]-1),  0:(LAT.shape[1])-1] + LON[1:(LAT.shape[0]), 1:(LAT.shape[1])])/2\n",
    "    return lat_corners, lon_corners"
   ]
  },
  {
   "cell_type": "code",
   "execution_count": 3,
   "id": "a2e90837",
   "metadata": {
    "code_folding": []
   },
   "outputs": [],
   "source": [
    "#makes and saves a geodataframe of a grid given the center and corner points for that grid as 2D matrices\n",
    "def build_one_gridcell(LAT_COR, LON_COR, LAT_CTR, LON_CTR, ii,jj):\n",
    "    #print(ii,jj,count)\n",
    "    #print(LAT_CTR[ii,jj], LON_CTR[ii,jj]) #ctr\n",
    "    sw = (LON_COR[ii, jj],LAT_COR[ii, jj]) #SW\n",
    "    se =(LON_COR[ii, jj+1],LAT_COR[ii, jj+1]) #SE\n",
    "    nw = (LON_COR[ii+1, jj],LAT_COR[ii+1, jj]) #NW\n",
    "    ne = (LON_COR[ii+1, jj+1],LAT_COR[ii+1, jj+1]) #NE\n",
    "            \n",
    "    poly_cell = Polygon([sw,nw,ne,se])\n",
    "    \n",
    "    return LAT_CTR[ii,jj], LON_CTR[ii,jj],ii,jj,poly_cell"
   ]
  },
  {
   "cell_type": "code",
   "execution_count": 4,
   "id": "2964f590",
   "metadata": {
    "code_folding": []
   },
   "outputs": [],
   "source": [
    "#makes and saves a geodataframe of a grid given the center and corner points for that grid as 2D matrices\n",
    "def build_grid_gdf(LAT_COR, LON_COR, LAT_CTR, LON_CTR, filename):\n",
    "    #loop over the centers\n",
    "    nrows = LAT_CTR.shape[0]\n",
    "    ncols = LAT_CTR.shape[1]\n",
    "    print(nrows, ncols)\n",
    "\n",
    "    #preallocate the dataframe\n",
    "    df_size = nrows*ncols\n",
    "    df_grid = gpd.GeoDataFrame({'lat': np.zeros(df_size), \n",
    "                                'lon': np.zeros(df_size),\n",
    "                                'row':np.zeros(df_size),\n",
    "                                'col':np.zeros(df_size),\n",
    "                                'geometry':np.zeros(df_size)})\n",
    "\n",
    "    count=0\n",
    "    for ii in range(nrows):\n",
    "        for jj in range(ncols):\n",
    "            #print(ii,jj,count)\n",
    "            #print(LAT_CTR[ii,jj], LON_CTR[ii,jj]) #ctr\n",
    "            sw = (LON_COR[ii, jj],LAT_COR[ii, jj]) #SW\n",
    "            se =(LON_COR[ii, jj+1],LAT_COR[ii, jj+1]) #SE\n",
    "            nw = (LON_COR[ii+1, jj],LAT_COR[ii+1, jj]) #NW\n",
    "            ne = (LON_COR[ii+1, jj+1],LAT_COR[ii+1, jj+1]) #NE\n",
    "            \n",
    "            poly_cell = Polygon([sw,nw,ne,se])\n",
    "            df_grid.iloc[count,:] = [LAT_CTR[ii,jj], LON_CTR[ii,jj],ii,jj,poly_cell]\n",
    "\n",
    "            \n",
    "            count=count+1\n",
    "    print(df_grid)\n",
    "    df_grid.set_geometry(col='geometry', inplace=True)\n",
    "    df_grid.to_file(filename+'.geojson', driver='GeoJSON')"
   ]
  },
  {
   "cell_type": "code",
   "execution_count": 5,
   "id": "8cfe98af",
   "metadata": {},
   "outputs": [],
   "source": [
    "#makes and saves a geodataframe of a grid given the center and corner points for that grid as 2D matrices\n",
    "def build_grid_netcdf(LAT_COR, LON_COR, LAT_CTR, LON_CTR, filename):\n",
    "    #loop over the centers\n",
    "    nrows_center = LAT_CTR.shape[0]\n",
    "    ncols_center = LAT_CTR.shape[1]\n",
    "    print(nrows_center, ncols_center)\n",
    "\n",
    "    nrows_corner = LAT_COR.shape[0]\n",
    "    ncols_corner = LAT_COR.shape[1]\n",
    "    print(nrows_corner,ncols_corner)\n",
    "    \n",
    "    rows_ctr = np.arange(nrows_center)\n",
    "    cols_ctr = np.arange(ncols_center)\n",
    "    rows_cor = np.arange(nrows_corner)\n",
    "    cols_cor = np.arange(ncols_corner)\n",
    "\n",
    "    \n",
    "    dat_grid = xr.Dataset(\n",
    "        data_vars = dict(\n",
    "            LAT_CTR=(['rows_ctr','cols_ctr'],LAT_CTR),\n",
    "            LON_CTR=(['rows_ctr','cols_ctr'],LON_CTR),\n",
    "            LAT_COR=(['rows_cor','cols_cor'],LAT_COR),\n",
    "            LON_COR=(['rows_cor','cols_cor'],LON_COR),\n",
    "        ),\n",
    "        \n",
    "        coords = dict(\n",
    "            rows_ctr =(['rows_ctr'],rows_ctr),\n",
    "            cols_ctr =(['cols_ctr'],cols_ctr),\n",
    "            rows_cor =(['rows_cor'],rows_cor),\n",
    "            cols_cor =(['cols_cor'],cols_cor),\n",
    "        \n",
    "        )\n",
    "        \n",
    "    )\n",
    "    print(dat_grid)\n",
    "    dat_grid.to_netcdf(filename+'.nc')"
   ]
  },
  {
   "cell_type": "code",
   "execution_count": null,
   "id": "9d5a2a9e",
   "metadata": {},
   "outputs": [],
   "source": []
  }
 ],
 "metadata": {
  "kernelspec": {
   "display_name": "Python 3",
   "language": "python",
   "name": "python3"
  },
  "language_info": {
   "codemirror_mode": {
    "name": "ipython",
    "version": 3
   },
   "file_extension": ".py",
   "mimetype": "text/x-python",
   "name": "python",
   "nbconvert_exporter": "python",
   "pygments_lexer": "ipython3",
   "version": "3.7.6"
  }
 },
 "nbformat": 4,
 "nbformat_minor": 5
}
