{
 "cells": [
  {
   "cell_type": "code",
   "execution_count": 2,
   "id": "3b8210d8",
   "metadata": {},
   "outputs": [
    {
     "name": "stderr",
     "output_type": "stream",
     "text": [
      "/data2/lthapa/miniconda3/envs/ML_py/lib/python3.7/site-packages/geopandas/_compat.py:110: UserWarning: The Shapely GEOS version (3.10.3-CAPI-1.16.1) is incompatible with the GEOS version PyGEOS was compiled with (3.8.1-CAPI-1.13.3). Conversions between both will be slow.\n",
      "  shapely_geos_version, geos_capi_version_string\n"
     ]
    }
   ],
   "source": [
    "import pandas as pd\n",
    "#pd.set_option('display.max_rows', None)\n",
    "import geopandas as gpd\n",
    "import matplotlib.pyplot as plt\n",
    "from matplotlib import path\n",
    "import os\n",
    "import cartopy.crs as ccrs\n",
    "import cartopy.feature as cfeature\n",
    "import cartopy\n",
    "import numpy as np\n",
    "import netCDF4 as nc\n",
    "np.set_printoptions(threshold=100000)\n",
    "from shapely.geometry import Polygon, Point, MultiPoint\n",
    "from shapely.ops import cascaded_union\n",
    "from datetime import datetime, timedelta\n",
    "import time\n",
    "import warnings\n",
    "import datetime\n",
    "import math\n",
    "from scipy.ndimage.interpolation import shift\n",
    "import shapely.wkt\n",
    "from shapely.validation import explain_validity\n",
    "from shapely.validation import make_valid\n",
    "import xarray as xr\n",
    "\n",
    "warnings.filterwarnings('ignore')\n",
    "import seaborn as sns\n",
    "\n",
    "\n",
    "from joblib import Parallel, delayed\n",
    "import multiprocessing"
   ]
  },
  {
   "cell_type": "markdown",
   "id": "43231980",
   "metadata": {},
   "source": [
    "# West US Gridmet"
   ]
  },
  {
   "cell_type": "code",
   "execution_count": 14,
   "id": "853ecf4a",
   "metadata": {},
   "outputs": [
    {
     "name": "stdout",
     "output_type": "stream",
     "text": [
      "(432, 571) (431, 570)\n",
      "430 569\n",
      "431 570\n",
      "<xarray.Dataset>\n",
      "Dimensions:   (cols_cor: 570, cols_ctr: 569, rows_cor: 431, rows_ctr: 430)\n",
      "Coordinates:\n",
      "  * rows_ctr  (rows_ctr) int64 0 1 2 3 4 5 6 7 ... 423 424 425 426 427 428 429\n",
      "  * cols_ctr  (cols_ctr) int64 0 1 2 3 4 5 6 7 ... 562 563 564 565 566 567 568\n",
      "  * rows_cor  (rows_cor) int64 0 1 2 3 4 5 6 7 ... 424 425 426 427 428 429 430\n",
      "  * cols_cor  (cols_cor) int64 0 1 2 3 4 5 6 7 ... 563 564 565 566 567 568 569\n",
      "Data variables:\n",
      "    LAT_CTR   (rows_ctr, cols_ctr) float64 48.94 48.94 48.94 ... 31.07 31.07\n",
      "    LON_CTR   (rows_ctr, cols_ctr) float64 -124.7 -124.7 ... -101.1 -101.1\n",
      "    LAT_COR   (rows_cor, cols_cor) float64 48.96 48.96 48.96 ... 31.05 31.05\n",
      "    LON_COR   (rows_cor, cols_cor) float64 -124.7 -124.7 ... -101.1 -101.0\n"
     ]
    }
   ],
   "source": [
    "path_gridmet = '/data2/lthapa/2019/GRIDMET/gridmet_all_2019-06-01.nc'\n",
    "dat_gridmet = xr.open_dataset(path_gridmet)\n",
    "\n",
    "#get the lat/lon of the grid\n",
    "lat = dat_gridmet['lat'].values #432 elements, rows, y\n",
    "lon = dat_gridmet['lon'].values #571 elements, columns, x\n",
    "\n",
    "\n",
    "#drop the outer ring of lat/lons\n",
    "lat_sub = lat[1:len(lat)-1] #430 elements\n",
    "lon_sub = lon[1:len(lon)-1] #569 elements\n",
    "\n",
    "\n",
    "\n",
    "#calculate the grid centers\n",
    "lon_centers, lat_centers = np.meshgrid(lon_sub, lat_sub) #these are 430x569\n",
    "\n",
    "#calculate the grid corners\n",
    "lon, lat = np.meshgrid(lon,lat) #these are 432x571\n",
    "lat_corners, lon_corners = calculate_grid_cell_corners(lat, lon) #these are 431x570\n",
    "print(lon.shape, lon_corners.shape)\n",
    "\n",
    "\n",
    "#build and save the grid\n",
    "build_grid_netcdf(lat_corners, lon_corners, lat_centers, lon_centers, 'WESTUS_GRIDMET_GRID')"
   ]
  },
  {
   "cell_type": "markdown",
   "id": "7baf46af",
   "metadata": {},
   "source": [
    "# GRIDMET "
   ]
  },
  {
   "cell_type": "code",
   "execution_count": 11,
   "id": "4e551dfa",
   "metadata": {},
   "outputs": [
    {
     "name": "stdout",
     "output_type": "stream",
     "text": [
      "(585, 1386) (584, 1385)\n",
      "583 1384\n",
      "584 1385\n",
      "<xarray.Dataset>\n",
      "Dimensions:   (cols_cor: 1385, cols_ctr: 1384, rows_cor: 584, rows_ctr: 583)\n",
      "Coordinates:\n",
      "  * rows_ctr  (rows_ctr) int64 0 1 2 3 4 5 6 7 ... 576 577 578 579 580 581 582\n",
      "  * cols_ctr  (cols_ctr) int64 0 1 2 3 4 5 6 ... 1378 1379 1380 1381 1382 1383\n",
      "  * rows_cor  (rows_cor) int64 0 1 2 3 4 5 6 7 ... 577 578 579 580 581 582 583\n",
      "  * cols_cor  (cols_cor) int64 0 1 2 3 4 5 6 ... 1379 1380 1381 1382 1383 1384\n",
      "Data variables:\n",
      "    LAT_CTR   (rows_ctr, cols_ctr) float64 49.36 49.36 49.36 ... 25.11 25.11\n",
      "    LON_CTR   (rows_ctr, cols_ctr) float64 -124.7 -124.7 -124.6 ... -67.14 -67.1\n",
      "    LAT_COR   (rows_cor, cols_cor) float64 49.38 49.38 49.38 ... 25.09 25.09\n",
      "    LON_COR   (rows_cor, cols_cor) float64 -124.7 -124.7 ... -67.12 -67.08\n"
     ]
    }
   ],
   "source": [
    "path_gridmet = '/data2/lthapa/2019/GRIDMET/bi_2019.nc'\n",
    "dat_gridmet = xr.open_dataset(path_gridmet)\n",
    "\n",
    "#get the lat/lon of the grid\n",
    "lat = dat_gridmet['lat'].values #585 elements, rows, y\n",
    "lon = dat_gridmet['lon'].values #1386 elements, columns, x\n",
    "\n",
    "#drop the outer ring of lat/lons\n",
    "lat_sub = lat[1:len(lat)-1] #583 elements\n",
    "lon_sub = lon[1:len(lon)-1] #1384 elements\n",
    "\n",
    "#calculate the grid centers\n",
    "lon_centers, lat_centers = np.meshgrid(lon_sub, lat_sub) #these are 583x1384\n",
    "\n",
    "\n",
    "#calculate the grid corners\n",
    "lon, lat = np.meshgrid(lon,lat) #these are 585x1386\n",
    "lat_corners, lon_corners = calculate_grid_cell_corners(lat, lon) #these are 584x1385\n",
    "print(lon.shape, lon_corners.shape)\n",
    "\n",
    "\n",
    "#build and save the grid\n",
    "build_grid_netcdf(lat_corners, lon_corners, lat_centers, lon_centers, 'GRIDMET_GRID')"
   ]
  },
  {
   "cell_type": "markdown",
   "id": "c7ac11e7",
   "metadata": {},
   "source": [
    "# 5km population density map"
   ]
  },
  {
   "cell_type": "code",
   "execution_count": 21,
   "id": "c3af8ae2",
   "metadata": {},
   "outputs": [
    {
     "name": "stdout",
     "output_type": "stream",
     "text": [
      "(4320, 8640) (4319, 8639)\n",
      "4318 8638\n",
      "4319 8639\n",
      "<xarray.Dataset>\n",
      "Dimensions:   (cols_cor: 8639, cols_ctr: 8638, rows_cor: 4319, rows_ctr: 4318)\n",
      "Coordinates:\n",
      "  * rows_ctr  (rows_ctr) int64 0 1 2 3 4 5 6 ... 4312 4313 4314 4315 4316 4317\n",
      "  * cols_ctr  (cols_ctr) int64 0 1 2 3 4 5 6 ... 8632 8633 8634 8635 8636 8637\n",
      "  * rows_cor  (rows_cor) int64 0 1 2 3 4 5 6 ... 4313 4314 4315 4316 4317 4318\n",
      "  * cols_cor  (cols_cor) int64 0 1 2 3 4 5 6 ... 8633 8634 8635 8636 8637 8638\n",
      "Data variables:\n",
      "    LAT_CTR   (rows_ctr, cols_ctr) float64 89.94 89.94 89.94 ... -89.94 -89.94\n",
      "    LON_CTR   (rows_ctr, cols_ctr) float64 -179.9 -179.9 -179.9 ... 179.9 179.9\n",
      "    LAT_COR   (rows_cor, cols_cor) float64 89.96 89.96 89.96 ... -89.96 -89.96\n",
      "    LON_COR   (rows_cor, cols_cor) float64 -180.0 -179.9 -179.9 ... 179.9 180.0\n"
     ]
    }
   ],
   "source": [
    "path_pop = '/data2/lthapa/static_maps/gpw_v4_population_density_rev11_2pt5_min.nc'\n",
    "dat_pop = xr.open_dataset(path_pop)\n",
    "\n",
    "\n",
    "#get the lat/lon of the grid\n",
    "lat = dat_pop['latitude'].values #4320 elements, rows, y\n",
    "lon = dat_pop['longitude'].values #8640 elements, columns, x\n",
    "\n",
    "\n",
    "#drop the outer ring of lat/lons\n",
    "lat_sub = lat[1:len(lat)-1] #4318 elements\n",
    "lon_sub = lon[1:len(lon)-1] #8638 elements\n",
    "\n",
    "\n",
    "#calculate the grid centers\n",
    "lon_centers, lat_centers = np.meshgrid(lon_sub, lat_sub) #these are 4318x8638\n",
    "\n",
    "\n",
    "#calculate the grid corners\n",
    "lon, lat = np.meshgrid(lon,lat) #these are 4320x8640\n",
    "lat_corners, lon_corners = calculate_grid_cell_corners(lat, lon) #these are 4319x8639\n",
    "print(lon.shape, lon_corners.shape)\n",
    "\n",
    "\n",
    "#build and save the grid\n",
    "build_grid_netcdf(lat_corners, lon_corners, lat_centers, lon_centers, 'POP_GRID')"
   ]
  },
  {
   "cell_type": "markdown",
   "id": "135d001f",
   "metadata": {
    "heading_collapsed": true
   },
   "source": [
    "## 3km RAVE Grid"
   ]
  },
  {
   "cell_type": "code",
   "execution_count": 17,
   "id": "715353bf",
   "metadata": {
    "hidden": true
   },
   "outputs": [
    {
     "name": "stdout",
     "output_type": "stream",
     "text": [
      "1133 2500\n",
      "1134 2501\n",
      "<xarray.Dataset>\n",
      "Dimensions:   (cols_cor: 2501, cols_ctr: 2500, rows_cor: 1134, rows_ctr: 1133)\n",
      "Coordinates:\n",
      "  * rows_ctr  (rows_ctr) int64 0 1 2 3 4 5 6 ... 1127 1128 1129 1130 1131 1132\n",
      "  * cols_ctr  (cols_ctr) int64 0 1 2 3 4 5 6 ... 2494 2495 2496 2497 2498 2499\n",
      "  * rows_cor  (rows_cor) int64 0 1 2 3 4 5 6 ... 1128 1129 1130 1131 1132 1133\n",
      "  * cols_cor  (cols_cor) int64 0 1 2 3 4 5 6 ... 2495 2496 2497 2498 2499 2500\n",
      "Data variables:\n",
      "    LAT_CTR   (rows_ctr, cols_ctr) float32 53.97 53.97 53.97 ... 20.01 20.01\n",
      "    LON_CTR   (rows_ctr, cols_ctr) float32 -135.0 -135.0 ... -60.05 -60.02\n",
      "    LAT_COR   (rows_cor, cols_cor) float32 53.99 53.99 53.99 ... 20.0 20.0 20.0\n",
      "    LON_COR   (rows_cor, cols_cor) float32 -135.0 -135.0 -134.9 ... -60.03 -60.0\n"
     ]
    }
   ],
   "source": [
    "path_rave = '/data2/lthapa/2020/RAVE/07/RAVE-HrlyEmiss-3km-CONUS_v1r1_blend_s202007010000000_e202007012359590_c202303131140500.nc'\n",
    "dat_rave = xr.open_dataset(path_rave)\n",
    "\n",
    "lat_centers = dat_rave['grid_latt'].values #center latitudes\n",
    "lon_centers = dat_rave['grid_lont'].values-360 #center longitudes\n",
    "lat_corners = dat_rave['grid_lat'].values #corner latitudes\n",
    "lon_corners = dat_rave['grid_lon'].values-360 #corner longitudes\n",
    "\n",
    "build_grid_netcdf(lat_corners, lon_corners, lat_centers, lon_centers, 'RAVE_GRID_3KM')"
   ]
  },
  {
   "cell_type": "markdown",
   "id": "3976d2a6",
   "metadata": {
    "heading_collapsed": true
   },
   "source": [
    "## NCAR Moisture Grid"
   ]
  },
  {
   "cell_type": "code",
   "execution_count": 11,
   "id": "3bcd8c71",
   "metadata": {
    "hidden": true
   },
   "outputs": [
    {
     "name": "stdout",
     "output_type": "stream",
     "text": [
      "(3179, 5399) (3179, 5399)\n",
      "(3177, 5397) (3177, 5397)\n",
      "(3178, 5398) (3178, 5398)\n",
      "3177 5397\n",
      "3178 5398\n",
      "<xarray.Dataset>\n",
      "Dimensions:   (cols_cor: 5398, cols_ctr: 5397, rows_cor: 3178, rows_ctr: 3177)\n",
      "Coordinates:\n",
      "  * rows_ctr  (rows_ctr) int64 0 1 2 3 4 5 6 ... 3171 3172 3173 3174 3175 3176\n",
      "  * cols_ctr  (cols_ctr) int64 0 1 2 3 4 5 6 ... 5391 5392 5393 5394 5395 5396\n",
      "  * rows_cor  (rows_cor) int64 0 1 2 3 4 5 6 ... 3172 3173 3174 3175 3176 3177\n",
      "  * cols_cor  (cols_cor) int64 0 1 2 3 4 5 6 ... 5392 5393 5394 5395 5396 5397\n",
      "Data variables:\n",
      "    LAT_CTR   (rows_ctr, cols_ctr) float32 21.13 21.13 21.13 ... 47.85 47.85\n",
      "    LON_CTR   (rows_ctr, cols_ctr) float32 -122.7 -122.7 -122.7 ... -60.9 -60.88\n",
      "    LAT_COR   (rows_cor, cols_cor) float32 21.12 21.12 21.13 ... 47.85 47.85\n",
      "    LON_COR   (rows_cor, cols_cor) float32 -122.7 -122.7 ... -60.89 -60.88\n"
     ]
    }
   ],
   "source": [
    "path_ncar = '/data2/lthapa/2020/FMC/fmc_20200506_20Z.nc'\n",
    "dat_ncar = xr.open_dataset(path_ncar)\n",
    "\n",
    "lat = dat_ncar['XLAT_M'].values[0,:] #3179, 5399\n",
    "lon = dat_ncar['XLONG_M'].values[0,:] #3179, 5399\n",
    "print(lat.shape, lon.shape)\n",
    "\n",
    "#drop the outer ring of lat/lons\n",
    "lat_centers = lat[1:lat.shape[0]-1,1:lat.shape[1]-1] #3177, 5397\n",
    "lon_centers = lon[1:lon.shape[0]-1,1:lon.shape[1]-1] #3177, 5397\n",
    "print(lat_centers.shape, lon_centers.shape)\n",
    "\n",
    "lat_corners,lon_corners = calculate_grid_cell_corners(lat, lon)#3178, 5398\n",
    "print(lat_corners.shape, lon_corners.shape) \n",
    "\n",
    "#make the grid\n",
    "build_grid_netcdf(lat_corners, lon_corners, lat_centers, lon_centers, 'NCAR_MOISTURE_GRID')"
   ]
  },
  {
   "cell_type": "markdown",
   "id": "42d52544",
   "metadata": {
    "heading_collapsed": true
   },
   "source": [
    "## SMOPS Grid"
   ]
  },
  {
   "cell_type": "code",
   "execution_count": 12,
   "id": "e8ac0067",
   "metadata": {
    "hidden": true
   },
   "outputs": [
    {
     "name": "stdout",
     "output_type": "stream",
     "text": [
      "[[ 89.875  89.875  89.875 ...  89.875  89.875  89.875]\n",
      " [ 89.625  89.625  89.625 ...  89.625  89.625  89.625]\n",
      " [ 89.375  89.375  89.375 ...  89.375  89.375  89.375]\n",
      " ...\n",
      " [-89.375 -89.375 -89.375 ... -89.375 -89.375 -89.375]\n",
      " [-89.625 -89.625 -89.625 ... -89.625 -89.625 -89.625]\n",
      " [-89.875 -89.875 -89.875 ... -89.875 -89.875 -89.875]]\n",
      "[[-179.875 -179.625 -179.375 ...  179.375  179.625  179.875]\n",
      " [-179.875 -179.625 -179.375 ...  179.375  179.625  179.875]\n",
      " [-179.875 -179.625 -179.375 ...  179.375  179.625  179.875]\n",
      " ...\n",
      " [-179.875 -179.625 -179.375 ...  179.375  179.625  179.875]\n",
      " [-179.875 -179.625 -179.375 ...  179.375  179.625  179.875]\n",
      " [-179.875 -179.625 -179.375 ...  179.375  179.625  179.875]]\n"
     ]
    }
   ],
   "source": [
    "path_smops = '/data2/lthapa/2020/SMOPS/NPR_SMOPS_CMAP_D20200802.nc'\n",
    "dat_smops = xr.open_dataset(path_smops)\n",
    "#print(dat_smops)\n",
    "\n",
    "#get the lat/lon of the grid\n",
    "lat = np.flip(np.arange(-89.875, 90,0.25)) #720 elements, rows, y\n",
    "lon = np.arange(-179.875, 180,0.25) #1440 elements elements, columns, x\n",
    "#print(lat)\n",
    "#drop the outer ring of lat/lons\n",
    "lat_sub = lat[1:len(lat)-1] #718 elements\n",
    "lon_sub = lon[1:len(lon)-1] #1438 elements\n",
    "\n",
    "\n",
    "#calculate the grid centers\n",
    "lon_centers, lat_centers = np.meshgrid(lon_sub, lat_sub) #these are 718x1438\n",
    "\n",
    "#calculate the grid corners\n",
    "lon, lat = np.meshgrid(lon,lat) #these are 720x1440\n",
    "print(lat)\n",
    "print(lon)\n",
    "\n",
    "lat_corners, lon_corners = calculate_grid_cell_corners(lat, lon) #these are 719x1439\n",
    "\n",
    "\n",
    "#build and save the grid\n",
    "#build_grid_gdf(lat_corners, lon_corners, lat_centers, lon_centers, 'MERRA_GRID')\n",
    "#build_grid_netcdf(lat_corners, lon_corners, lat_centers, lon_centers, 'SMOPS_GRID')\n"
   ]
  },
  {
   "cell_type": "code",
   "execution_count": null,
   "id": "e87ff64e",
   "metadata": {
    "hidden": true
   },
   "outputs": [],
   "source": []
  },
  {
   "cell_type": "markdown",
   "id": "8adff76a",
   "metadata": {
    "heading_collapsed": true,
    "hidden": true
   },
   "source": [
    "### MERRA2 GRID"
   ]
  },
  {
   "cell_type": "code",
   "execution_count": 11,
   "id": "5820d2ed",
   "metadata": {
    "hidden": true,
    "scrolled": true
   },
   "outputs": [
    {
     "name": "stdout",
     "output_type": "stream",
     "text": [
      "<xarray.Dataset>\n",
      "Dimensions:               (Latitude: 720, Longitude: 1440)\n",
      "Dimensions without coordinates: Latitude, Longitude\n",
      "Data variables: (12/40)\n",
      "    Blended_SM            (Latitude, Longitude) float32 ...\n",
      "    NRT_SMOS_SM           (Latitude, Longitude) float32 ...\n",
      "    SMOS_SM               (Latitude, Longitude) float32 ...\n",
      "    ASCAT_A_SM            (Latitude, Longitude) float32 ...\n",
      "    ASCAT_B_SM            (Latitude, Longitude) float32 ...\n",
      "    AMSR2_SM              (Latitude, Longitude) float32 ...\n",
      "    ...                    ...\n",
      "    ASCAT_B_QA            (Latitude, Longitude) int16 ...\n",
      "    AMSR2_QA              (Latitude, Longitude) int16 ...\n",
      "    GMI_QA                (Latitude, Longitude) int16 ...\n",
      "    NSMAP_QA              (Latitude, Longitude) int16 ...\n",
      "    SMAP_QA               (Latitude, Longitude) int16 ...\n",
      "    Blended_SM_SD_QA      (Latitude, Longitude) int16 ...\n",
      "Attributes: (12/17)\n",
      "    Satellite:                        ESA's SMOS, EUMETSAT's MetOp-A and MetO...\n",
      "    Instrument:                       MIRAS on SMOS, ASCAT on MetOp-A, ASCAT ...\n",
      "    Projection:                       Plate Carree (Equirectangular Projection)\n",
      "    Latitude_at_Lower_Left_Corner:    -90.0\n",
      "    Longitude_at_Lower_Left_Corner:   -180.0\n",
      "    Latitude_at_Upper_Right_Corner:   90.0\n",
      "    ...                               ...\n",
      "    Time_End:                         23:59 UTC\n",
      "    Byte_Order:                       Big endian\n",
      "    Product_Version_Number:           3.0\n",
      "    Data_Compression_Type:            No Compression\n",
      "    Production_Location:              NOAA/NESDIS/OSPO at Camp Springs, Maryl...\n",
      "    Contact_Information:              Science Lead  : Xiwu Zhan,  NOAA/NESDIS...\n"
     ]
    },
    {
     "data": {
      "text/plain": [
       "\"#get the lat/lon of the grid\\nlat = dat_merra['lat'].values #37 elements, rows, y\\nlon = dat_merra['lon'].values #39 elements, columns, x\\nprint(lat)\\nprint(lon)\\n\\n#drop the outer ring of lat/lons\\nlat_sub = lat[1:len(lat)-1] #35 elements\\nlon_sub = lon[1:len(lon)-1] #37 elements\\n\\n#calculate the grid centers\\nlon_centers, lat_centers = np.meshgrid(lon_sub, lat_sub) #these are 35x37\\n\\n#calculate the grid corners\\nlon, lat = np.meshgrid(lon,lat) #these are 37x39 \\nlat_corners, lon_corners = calculate_grid_cell_corners(lat, lon) #these are 36x38\\n\\n#build and save the grid\\n#build_grid_gdf(lat_corners, lon_corners, lat_centers, lon_centers, 'MERRA_GRID')\\nbuild_grid_netcdf(lat_corners, lon_corners, lat_centers, lon_centers, 'MERRA_GRID')\""
      ]
     },
     "execution_count": 11,
     "metadata": {},
     "output_type": "execute_result"
    }
   ],
   "source": [
    "path_merra = '/data2/lthapa/2020/MERRA2/WESTUS_MERRA2_400.inst1_2d_lfo_Nx.20200801.nc4'\n",
    "dat_merra = xr.open_dataset(path_merra)\n",
    "\n",
    "#get the lat/lon of the grid\n",
    "lat = dat_merra['lat'].values #37 elements, rows, y\n",
    "lon = dat_merra['lon'].values #39 elements, columns, x\n",
    "print(lat)\n",
    "print(lon)\n",
    "\n",
    "#drop the outer ring of lat/lons\n",
    "lat_sub = lat[1:len(lat)-1] #35 elements\n",
    "lon_sub = lon[1:len(lon)-1] #37 elements\n",
    "\n",
    "#calculate the grid centers\n",
    "lon_centers, lat_centers = np.meshgrid(lon_sub, lat_sub) #these are 35x37\n",
    "\n",
    "#calculate the grid corners\n",
    "lon, lat = np.meshgrid(lon,lat) #these are 37x39 \n",
    "lat_corners, lon_corners = calculate_grid_cell_corners(lat, lon) #these are 36x38\n",
    "\n",
    "#build and save the grid\n",
    "#build_grid_gdf(lat_corners, lon_corners, lat_centers, lon_centers, 'MERRA_GRID')\n",
    "build_grid_netcdf(lat_corners, lon_corners, lat_centers, lon_centers, 'MERRA_GRID')"
   ]
  },
  {
   "cell_type": "markdown",
   "id": "b4ce09aa",
   "metadata": {
    "heading_collapsed": true
   },
   "source": [
    "## RAVE"
   ]
  },
  {
   "cell_type": "code",
   "execution_count": null,
   "id": "4310916a",
   "metadata": {
    "hidden": true
   },
   "outputs": [],
   "source": [
    "os.system('ncrename -v Latitude,lat -v Longitude,lon /data2/lthapa/2020/Apr2020_to_Oct2020/Hourly_Emissions_FV3_13km_202004070000_202004072300.nc /data2/lthapa/2020/Apr2020_to_Oct2020/Hourly_Emissions_FV3_13km_202004070000_202004072300xr.nc')\n"
   ]
  },
  {
   "cell_type": "code",
   "execution_count": null,
   "id": "c07ae7e1",
   "metadata": {
    "hidden": true
   },
   "outputs": [],
   "source": [
    "path_rave = '/data2/lthapa/2020/Apr2020_to_Oct2020/Hourly_Emissions_FV3_13km_202004070000_202004072300xr.nc'\n",
    "dat_rave = xr.open_dataset(path_rave)\n",
    "print(dat_rave)\n",
    "#get the lat/lon of the grid, these are the edges/corners\n",
    "lat_corners = dat_rave['lat'].values #233 x 397\n",
    "lon_corners = dat_rave['lon'].values - 360 #233 x 397\n",
    "print(dat_rave['Latitude'].values)\n",
    "#calculate the centers\n",
    "lat_centers, lon_centers = calculate_grid_cell_corners(lat_corners, lon_corners)\n",
    "\n",
    "#build and save the grid\n",
    "#build_grid_gdf(lat_corners, lon_corners, lat_centers, lon_centers, 'RAVE_GRID')\n",
    "build_grid_netcdf(lat_corners, lon_corners, lat_centers, lon_centers, 'RAVE_GRID')"
   ]
  },
  {
   "cell_type": "markdown",
   "id": "3b923b6b",
   "metadata": {},
   "source": [
    "## ESI"
   ]
  },
  {
   "cell_type": "code",
   "execution_count": 7,
   "id": "537fd24d",
   "metadata": {},
   "outputs": [
    {
     "name": "stdout",
     "output_type": "stream",
     "text": [
      "(499, 999)\n",
      "498 998\n",
      "499 999\n",
      "<xarray.Dataset>\n",
      "Dimensions:   (cols_cor: 999, cols_ctr: 998, rows_cor: 499, rows_ctr: 498)\n",
      "Coordinates:\n",
      "  * rows_ctr  (rows_ctr) int64 0 1 2 3 4 5 6 7 ... 491 492 493 494 495 496 497\n",
      "  * cols_ctr  (cols_ctr) int64 0 1 2 3 4 5 6 7 ... 991 992 993 994 995 996 997\n",
      "  * rows_cor  (rows_cor) int64 0 1 2 3 4 5 6 7 ... 492 493 494 495 496 497 498\n",
      "  * cols_cor  (cols_cor) int64 0 1 2 3 4 5 6 7 ... 992 993 994 995 996 997 998\n",
      "Data variables:\n",
      "    LAT_CTR   (rows_ctr, cols_ctr) float64 25.08 25.08 25.08 ... 49.93 49.93\n",
      "    LON_CTR   (rows_ctr, cols_ctr) float64 -124.9 -124.9 ... -75.12 -75.07\n",
      "    LAT_COR   (rows_cor, cols_cor) float64 25.05 25.05 25.05 ... 49.95 49.95\n",
      "    LON_COR   (rows_cor, cols_cor) float64 -124.9 -124.9 -124.8 ... -75.1 -75.05\n"
     ]
    }
   ],
   "source": [
    "path_esi = '/data2/lthapa/2020/ESI/DFPPM_4WK_2020323.nc'\n",
    "dat_esi = xr.open_dataset(path_esi)\n",
    "\n",
    "#get the lat/lon of the grid\n",
    "lat = dat_esi['lat'].values #360 elements, rows, y\n",
    "lon = dat_esi['lon'].values #480 elements, columns, x\n",
    "\n",
    "\n",
    "#drop the outer ring of lat/lons\n",
    "lat_sub = lat[1:len(lat)-1] #358 elements\n",
    "lon_sub = lon[1:len(lon)-1] #478 elements\n",
    "\n",
    "#calculate the grid centers\n",
    "lon_centers, lat_centers = np.meshgrid(lon_sub, lat_sub) #these are 358x478\n",
    "\n",
    "#calculate the grid corners\n",
    "lon, lat = np.meshgrid(lon,lat) #these are 360x480\n",
    "lat_corners, lon_corners = calculate_grid_cell_corners(lat, lon) #these are 359x479\n",
    "print(lon_corners.shape)\n",
    "\n",
    "#build and save the grid\n",
    "#build_grid_gdf(lat_corners, lon_corners, lat_centers, lon_centers, 'ESI_GRID')\n",
    "build_grid_netcdf(lat_corners, lon_corners, lat_centers, lon_centers, 'ESI_GRID')"
   ]
  },
  {
   "cell_type": "markdown",
   "id": "d3f056e1",
   "metadata": {
    "heading_collapsed": true
   },
   "source": [
    "## PWS Grid"
   ]
  },
  {
   "cell_type": "code",
   "execution_count": null,
   "id": "81ae8a1b",
   "metadata": {
    "hidden": true
   },
   "outputs": [],
   "source": [
    "path_pws = '/data2/lthapa/PWS_6_jan_2021.nc'\n",
    "dat_pws = xr.open_dataset(path_pws)\n",
    "\n",
    "#get the lat/lon of the grid\n",
    "lat = dat_pws['lat'].values #645 elements, rows, y\n",
    "lon = dat_pws['lon'].values #870 elements, columns, x\n",
    "\n",
    "#drop the outer ring of lat/lons\n",
    "lat_sub = lat[1:len(lat)-1] #643 elements\n",
    "lon_sub = lon[1:len(lon)-1] #868 elements\n",
    "\n",
    "\n",
    "#calculate the grid centers\n",
    "lon_centers, lat_centers = np.meshgrid(lon_sub, lat_sub) #these are 643x868\n",
    "\n",
    "#calculate the grid corners\n",
    "lon, lat = np.meshgrid(lon,lat) #these are 645x870\n",
    "lat_corners, lon_corners = calculate_grid_cell_corners(lat, lon) #these are 644x869\n",
    "\n",
    "#build and save the grid\n",
    "#build_grid_gdf(lat_corners, lon_corners, lat_centers, lon_centers, 'PWS_GRID')\n",
    "build_grid_netcdf(lat_corners, lon_corners, lat_centers, lon_centers, 'PWS_GRID')\n"
   ]
  },
  {
   "cell_type": "markdown",
   "id": "7677b3ce",
   "metadata": {
    "heading_collapsed": true
   },
   "source": [
    "## HRRR Grid"
   ]
  },
  {
   "cell_type": "code",
   "execution_count": null,
   "id": "df27f05a",
   "metadata": {
    "hidden": true
   },
   "outputs": [],
   "source": []
  },
  {
   "cell_type": "code",
   "execution_count": null,
   "id": "408c9b4b",
   "metadata": {
    "hidden": true
   },
   "outputs": [],
   "source": [
    "path_hrrr = '/data2/lthapa/ML_daily/pygraf/Processed_HRRR_2020091800.nc'\n",
    "dat_hrrr = xr.open_dataset(path_hrrr)\n",
    "\n",
    "lat_centers = dat_hrrr['grid_latt'].values #1057x1797\n",
    "lon_centers = dat_hrrr['grid_lont'].values #1057x1797\n",
    "\n",
    "#drop the outer ring of lat/lons\n",
    "lat_centers = lat_centers[1:lat_centers.shape[0],1:lat_centers.shape[1]] #1056x1796\n",
    "lon_centers = lon_centers[1:lon_centers.shape[0],1:lon_centers.shape[1]] #1056x1796\n",
    "\n",
    "#load in the corners\n",
    "lat_corners = dat_hrrr['grid_lat'].values #1057x1797\n",
    "lon_corners = dat_hrrr['grid_lon'].values #1057x1797\n",
    "\n",
    "#build_grid_netcdf(lat_corners, lon_corners, lat_centers, lon_centers, 'HRRR_GRID')\n",
    "\n",
    "\n",
    "nrows = lat_centers.shape[0]\n",
    "ncols = lat_centers.shape[1]\n",
    "\n",
    "print(nrows, ncols)\n",
    "\n",
    "row_ind = range(nrows)\n",
    "col_ind =range(ncols)\n",
    "\n",
    "print(multiprocessing.cpu_count())\n",
    "\n",
    "tic = time.time()\n",
    "results = Parallel(n_jobs=6)(delayed(build_one_gridcell)(lat_corners, lon_corners, lat_centers, lon_centers,i,j) for i in row_ind for j in col_ind)\n",
    "toc = time.time()\n",
    "print(toc-tic)\n",
    "\n",
    "df_grid=gpd.GeoDataFrame(results)\n",
    "df_grid.columns = ['lat', 'lon', 'row', 'col', 'geometry']\n",
    "df_grid.set_geometry(col='geometry', inplace=True) #assign a column to represent geometry\n",
    "\n",
    "print(df_grid)\n",
    "#tic =time.time()\n",
    "#df_grid.to_file('HRRR_GRID.geojson', driver='GeoJSON')\n",
    "#toc=time.time()\n",
    "print(toc-tic)\n",
    "#df_size = len(row_ind)*len(col_ind)\n",
    "#df_grid = gpd.GeoDataFrame({'lat': np.zeros(df_size), \n",
    "#                                'lon': np.zeros(df_size),\n",
    "#                                'row':np.zeros(df_size),\n",
    "#                                'col':np.zeros(df_size),\n",
    "#                                'geometry':np.zeros(df_size)})\n",
    "#df_grid = Parallel(n_jobs=2)(delayed(store_grid)(df_grid,results,kk) for kk in range(df_size))\n",
    "#print(df_grid)\n",
    "#build_one_gridcell(lat_corners, lon_corners, lat_centers, lon_centers,0,0)\n"
   ]
  },
  {
   "cell_type": "code",
   "execution_count": null,
   "id": "c82851fd",
   "metadata": {
    "hidden": true
   },
   "outputs": [],
   "source": [
    "def store_grid(grid,res, k):\n",
    "    grid.iloc[k,:] = res[k]\n",
    "    return grid"
   ]
  },
  {
   "cell_type": "code",
   "execution_count": null,
   "id": "4360efdd",
   "metadata": {
    "hidden": true
   },
   "outputs": [],
   "source": [
    "#makes and saves a geodataframe of a grid given the center and corner points for that grid as 2D matrices\n",
    "def build_one_gridcell(LAT_COR, LON_COR, LAT_CTR, LON_CTR, ii,jj):\n",
    "    #print(ii,jj,count)\n",
    "    #print(LAT_CTR[ii,jj], LON_CTR[ii,jj]) #ctr\n",
    "    sw = (LON_COR[ii, jj],LAT_COR[ii, jj]) #SW\n",
    "    se =(LON_COR[ii, jj+1],LAT_COR[ii, jj+1]) #SE\n",
    "    nw = (LON_COR[ii+1, jj],LAT_COR[ii+1, jj]) #NW\n",
    "    ne = (LON_COR[ii+1, jj+1],LAT_COR[ii+1, jj+1]) #NE\n",
    "            \n",
    "    poly_cell = Polygon([sw,nw,ne,se])\n",
    "    \n",
    "    return LAT_CTR[ii,jj], LON_CTR[ii,jj],ii,jj,poly_cell"
   ]
  },
  {
   "cell_type": "markdown",
   "id": "6592dbb3",
   "metadata": {
    "heading_collapsed": true
   },
   "source": [
    "## CPC FWI Grid"
   ]
  },
  {
   "cell_type": "code",
   "execution_count": null,
   "id": "b3e2ad49",
   "metadata": {
    "hidden": true
   },
   "outputs": [],
   "source": [
    "path_cpc = '../FWI.CPC.Daily.WESTUS.20200801.nc'\n",
    "dat_cpc = xr.open_dataset(path_cpc)\n",
    "\n",
    "#get the lat/lon of the grid\n",
    "lat = dat_cpc['lat'].values #36 elements, rows, y\n",
    "lon = dat_cpc['lon'].values #48 elements, columns, x\n",
    "\n",
    "#drop the outer ring of lat/lons\n",
    "lat_sub = lat[1:len(lat)-1] #34 elements\n",
    "lon_sub = lon[1:len(lon)-1] #46 elements\n",
    "\n",
    "#calculate the grid centers\n",
    "lon_centers, lat_centers = np.meshgrid(lon_sub, lat_sub) #these are 34x46\n",
    "\n",
    "#calculate the grid corners\n",
    "lon, lat = np.meshgrid(lon,lat) #these are 36x48\n",
    "lat_corners, lon_corners = calculate_grid_cell_corners(lat, lon) #these are 35x47\n",
    "\n",
    "nrows = lat_centers.shape[0]\n",
    "ncols = lat_centers.shape[1]\n",
    "\n",
    "print(nrows, ncols)\n",
    "\n",
    "row_ind = range(nrows)\n",
    "col_ind =range(ncols)\n",
    "\n",
    "print(multiprocessing.cpu_count())\n",
    "\n",
    "tic = time.time()\n",
    "results = Parallel(n_jobs=6)(delayed(build_one_gridcell)(lat_corners, lon_corners, lat_centers, lon_centers,i,j) for i in row_ind for j in col_ind)\n",
    "toc = time.time()\n",
    "print(toc-tic)\n",
    "\n",
    "df_grid=gpd.GeoDataFrame(results)\n",
    "df_grid.columns = ['lat', 'lon', 'row', 'col', 'geometry']\n",
    "df_grid.set_geometry(col='geometry', inplace=True) #assign a column to represent geometry\n",
    "\n",
    "print(df_grid)\n",
    "tic =time.time()\n",
    "df_grid.to_file('CPC_FWI_GRID.geojson', driver='GeoJSON')\n",
    "toc=time.time()\n",
    "print(toc-tic)"
   ]
  },
  {
   "cell_type": "markdown",
   "id": "1ae0a338",
   "metadata": {
    "heading_collapsed": true
   },
   "source": [
    "## IMERG FWI Grid"
   ]
  },
  {
   "cell_type": "code",
   "execution_count": 26,
   "id": "df20cbed",
   "metadata": {
    "hidden": true
   },
   "outputs": [
    {
     "name": "stdout",
     "output_type": "stream",
     "text": [
      "[25.04999924 25.14999771 25.25000381 25.35000229 25.45000076 25.54999924\n",
      " 25.64999771 25.75000381 25.85000229 25.95000076 26.04999924 26.14999771\n",
      " 26.25000381 26.35000229 26.45000076 26.54999924 26.64999771 26.75000381\n",
      " 26.85000229 26.95000076 27.04999924 27.14999771 27.25000381 27.35000229\n",
      " 27.45000076 27.54999924 27.64999771 27.75000381 27.85000229 27.95000076\n",
      " 28.04999924 28.14999771 28.25000381 28.35000229 28.45000076 28.54999924\n",
      " 28.64999771 28.75000381 28.85000229 28.95000076 29.04999924 29.14999771\n",
      " 29.25000381 29.35000229 29.45000076 29.54999924 29.64999771 29.75000381\n",
      " 29.85000229 29.95000076 30.04999924 30.14999771 30.25000381 30.35000229\n",
      " 30.45000076 30.54999924 30.64999771 30.75000381 30.85000229 30.95000076\n",
      " 31.04999924 31.14999771 31.25000381 31.35000229 31.45000076 31.54999924\n",
      " 31.64999771 31.75000381 31.85000229 31.95000076 32.04999924 32.14999771\n",
      " 32.25000381 32.35000229 32.45000076 32.54999924 32.64999771 32.75000381\n",
      " 32.85000229 32.95000076 33.04999924 33.14999771 33.25000381 33.35000229\n",
      " 33.45000076 33.54999924 33.64999771 33.75000381 33.85000229 33.95000076\n",
      " 34.04999924 34.14999771 34.25000381 34.35000229 34.45000076 34.54999924\n",
      " 34.64999771 34.75000381 34.85000229 34.95000076 35.04999924 35.14999771\n",
      " 35.25000381 35.35000229 35.45000076 35.54999924 35.64999771 35.75000381\n",
      " 35.85000229 35.95000076 36.04999924 36.14999771 36.25000381 36.35000229\n",
      " 36.45000076 36.54999924 36.64999771 36.75000381 36.85000229 36.95000076\n",
      " 37.04999924 37.14999771 37.25000381 37.35000229 37.45000076 37.54999924\n",
      " 37.64999771 37.75000381 37.85000229 37.95000076 38.04999924 38.15000534\n",
      " 38.24999619 38.35000229 38.45000839 38.54999924 38.65000534 38.74999619\n",
      " 38.85000229 38.95000839 39.04999924 39.15000534 39.24999619 39.35000229\n",
      " 39.45000839 39.54999924 39.65000534 39.74999619 39.85000229 39.95000839\n",
      " 40.04999924 40.15000534 40.24999619 40.35000229 40.45000839 40.54999924\n",
      " 40.65000534 40.74999619 40.85000229 40.95000839 41.04999924 41.15000534\n",
      " 41.24999619 41.35000229 41.45000839 41.54999924 41.65000534 41.74999619\n",
      " 41.85000229 41.95000839 42.04999924 42.15000534 42.24999619 42.35000229\n",
      " 42.45000839 42.54999924 42.65000534 42.74999619 42.85000229 42.95000839\n",
      " 43.04999924 43.15000534 43.24999619 43.35000229 43.45000839 43.54999924\n",
      " 43.65000534 43.74999619 43.85000229 43.95000839 44.04999924 44.15000534\n",
      " 44.24999619 44.35000229 44.45000839 44.54999924 44.65000534 44.74999619\n",
      " 44.85000229 44.95000839 45.04999924 45.15000534 45.24999619 45.35000229\n",
      " 45.45000839 45.54999924 45.65000534 45.74999619 45.85000229 45.95000839\n",
      " 46.04999924 46.15000534 46.24999619 46.35000229 46.45000839 46.54999924\n",
      " 46.65000534 46.74999619 46.85000229 46.95000839 47.04999924 47.15000534\n",
      " 47.24999619 47.35000229 47.45000839 47.54999924 47.65000534 47.74999619\n",
      " 47.85000229 47.95000839 48.04999924 48.15000534 48.24999619 48.35000229\n",
      " 48.45000839 48.54999924 48.65000534 48.74999619 48.85000229 48.95000839\n",
      " 49.04999924 49.15000534 49.24999619 49.35000229 49.45000839 49.54999924\n",
      " 49.65000534 49.74999619 49.85000229 49.95000839 50.04999924 50.15000534\n",
      " 50.24999619 50.35000229 50.45000839 50.54999924 50.65000534 50.74999619\n",
      " 50.85000229 50.95000839 51.04999924 51.15000534 51.24999619 51.35000229\n",
      " 51.45000839 51.54999924 51.65000534 51.74999619 51.85000229 51.95000839\n",
      " 52.04999924 52.15000534 52.24999619 52.35000229 52.45000839 52.54999924\n",
      " 52.65000534 52.74999619 52.85000229 52.95000839 53.04999924 53.15000534\n",
      " 53.24999619 53.35000229 53.45000839 53.54999924 53.65000534 53.74999619\n",
      " 53.85000229 53.95000839 54.04999924 54.15000534 54.24999619 54.35000229\n",
      " 54.45000839 54.54999924 54.65000534 54.74999619 54.85000229 54.95000839]\n",
      "298 498\n",
      "299 499\n",
      "<xarray.Dataset>\n",
      "Dimensions:   (cols_cor: 499, cols_ctr: 498, rows_cor: 299, rows_ctr: 298)\n",
      "Coordinates:\n",
      "  * rows_ctr  (rows_ctr) int64 0 1 2 3 4 5 6 7 ... 291 292 293 294 295 296 297\n",
      "  * cols_ctr  (cols_ctr) int64 0 1 2 3 4 5 6 7 ... 491 492 493 494 495 496 497\n",
      "  * rows_cor  (rows_cor) int64 0 1 2 3 4 5 6 7 ... 292 293 294 295 296 297 298\n",
      "  * cols_cor  (cols_cor) int64 0 1 2 3 4 5 6 7 ... 492 493 494 495 496 497 498\n",
      "Data variables:\n",
      "    LAT_CTR   (rows_ctr, cols_ctr) float64 25.15 25.15 25.15 ... 54.85 54.85\n",
      "    LON_CTR   (rows_ctr, cols_ctr) float64 -124.8 -124.8 ... -75.25 -75.15\n",
      "    LAT_COR   (rows_cor, cols_cor) float64 25.1 25.1 25.1 ... 54.9 54.9 54.9\n",
      "    LON_COR   (rows_cor, cols_cor) float64 -124.9 -124.8 -124.7 ... -75.2 -75.1\n"
     ]
    }
   ],
   "source": [
    "path_imerg = '../2020/FWI_IMERG/WESTUS_FWI.IMERG.FINAL.v6.Daily.Default.20200701.nc'\n",
    "dat_imerg = xr.open_dataset(path_imerg)\n",
    "\n",
    "#get the lat/lon of the grid\n",
    "lat = dat_imerg['lat'].values #1330 elements, rows, y\n",
    "print(lat)\n",
    "lon = dat_imerg['lon'].values #3600 elements, columns, x\n",
    "\n",
    "#drop the outer ring of lat/lons, these will be the centers we save\n",
    "lat_sub = lat[1:len(lat)-1] #1328 elements\n",
    "lon_sub = lon[1:len(lon)-1] #3598 elements\n",
    "\n",
    "#calculate the grid centers\n",
    "lon_centers, lat_centers = np.meshgrid(lon_sub, lat_sub) #these are 1328X3598\n",
    "\n",
    "#calculate the grid corners\n",
    "lon, lat = np.meshgrid(lon,lat) #these are 1330x3600\n",
    "lat_corners, lon_corners = calculate_grid_cell_corners(lat, lon) #these are 1329x3599\n",
    "\n",
    "\n",
    "build_grid_netcdf(lat_corners, lon_corners, lat_centers, lon_centers, 'IMERG_FWI_GRID')\n"
   ]
  },
  {
   "cell_type": "markdown",
   "id": "406af9ec",
   "metadata": {
    "heading_collapsed": true
   },
   "source": [
    "## Fuel Loading Grid (1KM)"
   ]
  },
  {
   "cell_type": "code",
   "execution_count": null,
   "id": "a889a577",
   "metadata": {
    "hidden": true
   },
   "outputs": [],
   "source": [
    "path_fuel_loading = '/data/lthapa/GSL_Internship/fuel_loading_FCCS16.nc'\n",
    "dat_fuel_loading = xr.open_dataset(path_fuel_loading)\n",
    "\n",
    "\n",
    "lat = dat_fuel_loading['grid_latt'].values #3215x5551\n",
    "lon = dat_fuel_loading['grid_lont'].values #3215x5551\n",
    "print(lat.shape,lon.shape)\n",
    "\n",
    "#drop the outer ring of lat/lons\n",
    "lat_centers = lat[1:lat.shape[0]-1,1:lat.shape[1]-1] #3213x5549\n",
    "lon_centers = lon[1:lon.shape[0]-1,1:lon.shape[1]-1] #3213x5549\n",
    "print(lat_centers.shape,lon_centers.shape)\n",
    "\n",
    "lat_corners, lon_corners = calculate_grid_cell_corners(lat, lon) #these are 3214x5550\n",
    "print(lat_corners.shape, lon_corners.shape)\n",
    "\n",
    "build_grid_netcdf(lat_corners, lon_corners, lat_centers, lon_centers, 'FUEL_LOADING_GRID')"
   ]
  },
  {
   "cell_type": "markdown",
   "id": "a2980e19",
   "metadata": {
    "heading_collapsed": true
   },
   "source": [
    "## Fuel Loading by FWI Grid"
   ]
  },
  {
   "cell_type": "code",
   "execution_count": null,
   "id": "a45779ad",
   "metadata": {
    "hidden": true
   },
   "outputs": [],
   "source": [
    "path_fuel_loading = '/data2/lthapa/FCCS_Fuel_Fire_Danger_Metric_LonLat.nc'\n",
    "dat_fuel_loading = xr.open_dataset(path_fuel_loading) #in albers_conical_equal_area projection\n",
    "#print(dat_fuel_loading)\n",
    "\n",
    "lat = dat_fuel_loading['lat'].values #88713\n",
    "lon = dat_fuel_loading['lon'].values #192676\n",
    "print(lat.shape,lon.shape)\n",
    "\n",
    "\n",
    "#drop the outer ring of lat/lons\n",
    "lat_sub = lat[1:lat.shape[0]-1] #88711\n",
    "lon_sub = lon[1:lon.shape[0]-1] #192674\n",
    "print(lat_sub.shape,lon_sub.shape)\n",
    "\n",
    "#calculate the grid centers\n",
    "lon_centers, lat_centers = np.meshgrid(lon_sub, lat_sub) #these are 35x37\n",
    "print(lon_centers.shape)\n",
    "\n",
    "#lat_corners, lon_corners = calculate_grid_cell_corners(lat, lon) #these are 3214x5550\n",
    "#print(lat_corners.shape, lon_corners.shape)\n",
    "\n",
    "#build_grid_netcdf(lat_corners, lon_corners, lat_centers, lon_centers, 'FUEL_LOADING_GRID')"
   ]
  },
  {
   "cell_type": "code",
   "execution_count": null,
   "id": "1487572c",
   "metadata": {
    "hidden": true
   },
   "outputs": [],
   "source": [
    "from PIL import Image \n",
    "Image.MAX_IMAGE_PIXELS = 16000000000 "
   ]
  },
  {
   "cell_type": "code",
   "execution_count": null,
   "id": "a9b8fc05",
   "metadata": {
    "hidden": true
   },
   "outputs": [],
   "source": [
    "im = Image.open('/data2/lthapa/FCCS_Fuel_Fire_Danger_Metric.tif')\n",
    "imarray = np.array(im)"
   ]
  },
  {
   "cell_type": "code",
   "execution_count": null,
   "id": "e8879d94",
   "metadata": {
    "hidden": true
   },
   "outputs": [],
   "source": []
  },
  {
   "cell_type": "markdown",
   "id": "6c4c30e2",
   "metadata": {},
   "source": [
    "## Helper Function"
   ]
  },
  {
   "cell_type": "code",
   "execution_count": 7,
   "id": "a311bebb",
   "metadata": {
    "code_folding": []
   },
   "outputs": [],
   "source": [
    "#LAT and LON are 2d arrays\n",
    "def calculate_grid_cell_corners(LAT, LON):\n",
    "    #we will assume the very edges of the polygons don't touch the boundary of the domain\n",
    "    lat_corners = (LAT[0:(LAT.shape[0]-1),  0:(LAT.shape[1])-1] + LAT[1:(LAT.shape[0]), 1:(LAT.shape[1])])/2\n",
    "    lon_corners = (LON[0:(LAT.shape[0]-1),  0:(LAT.shape[1])-1] + LON[1:(LAT.shape[0]), 1:(LAT.shape[1])])/2\n",
    "    return lat_corners, lon_corners"
   ]
  },
  {
   "cell_type": "code",
   "execution_count": 8,
   "id": "2a42bc66",
   "metadata": {
    "code_folding": []
   },
   "outputs": [],
   "source": [
    "#makes and saves a geodataframe of a grid given the center and corner points for that grid as 2D matrices\n",
    "def build_one_gridcell(LAT_COR, LON_COR, LAT_CTR, LON_CTR, ii,jj):\n",
    "    #print(ii,jj,count)\n",
    "    #print(LAT_CTR[ii,jj], LON_CTR[ii,jj]) #ctr\n",
    "    sw = (LON_COR[ii, jj],LAT_COR[ii, jj]) #SW\n",
    "    se =(LON_COR[ii, jj+1],LAT_COR[ii, jj+1]) #SE\n",
    "    nw = (LON_COR[ii+1, jj],LAT_COR[ii+1, jj]) #NW\n",
    "    ne = (LON_COR[ii+1, jj+1],LAT_COR[ii+1, jj+1]) #NE\n",
    "            \n",
    "    poly_cell = Polygon([sw,nw,ne,se])\n",
    "    \n",
    "    return LAT_CTR[ii,jj], LON_CTR[ii,jj],ii,jj,poly_cell"
   ]
  },
  {
   "cell_type": "code",
   "execution_count": 9,
   "id": "79fb1226",
   "metadata": {
    "code_folding": []
   },
   "outputs": [],
   "source": [
    "#makes and saves a geodataframe of a grid given the center and corner points for that grid as 2D matrices\n",
    "def build_grid_gdf(LAT_COR, LON_COR, LAT_CTR, LON_CTR, filename):\n",
    "    #loop over the centers\n",
    "    nrows = LAT_CTR.shape[0]\n",
    "    ncols = LAT_CTR.shape[1]\n",
    "    print(nrows, ncols)\n",
    "\n",
    "    #preallocate the dataframe\n",
    "    df_size = nrows*ncols\n",
    "    df_grid = gpd.GeoDataFrame({'lat': np.zeros(df_size), \n",
    "                                'lon': np.zeros(df_size),\n",
    "                                'row':np.zeros(df_size),\n",
    "                                'col':np.zeros(df_size),\n",
    "                                'geometry':np.zeros(df_size)})\n",
    "\n",
    "    count=0\n",
    "    for ii in range(nrows):\n",
    "        for jj in range(ncols):\n",
    "            #print(ii,jj,count)\n",
    "            #print(LAT_CTR[ii,jj], LON_CTR[ii,jj]) #ctr\n",
    "            sw = (LON_COR[ii, jj],LAT_COR[ii, jj]) #SW\n",
    "            se =(LON_COR[ii, jj+1],LAT_COR[ii, jj+1]) #SE\n",
    "            nw = (LON_COR[ii+1, jj],LAT_COR[ii+1, jj]) #NW\n",
    "            ne = (LON_COR[ii+1, jj+1],LAT_COR[ii+1, jj+1]) #NE\n",
    "            \n",
    "            poly_cell = Polygon([sw,nw,ne,se])\n",
    "            df_grid.iloc[count,:] = [LAT_CTR[ii,jj], LON_CTR[ii,jj],ii,jj,poly_cell]\n",
    "\n",
    "            \n",
    "            count=count+1\n",
    "    print(df_grid)\n",
    "    df_grid.set_geometry(col='geometry', inplace=True)\n",
    "    df_grid.to_file(filename+'.geojson', driver='GeoJSON')"
   ]
  },
  {
   "cell_type": "code",
   "execution_count": 10,
   "id": "4cefd9bb",
   "metadata": {},
   "outputs": [],
   "source": [
    "#makes and saves a geodataframe of a grid given the center and corner points for that grid as 2D matrices\n",
    "def build_grid_netcdf(LAT_COR, LON_COR, LAT_CTR, LON_CTR, filename):\n",
    "    #loop over the centers\n",
    "    nrows_center = LAT_CTR.shape[0]\n",
    "    ncols_center = LAT_CTR.shape[1]\n",
    "    print(nrows_center, ncols_center)\n",
    "\n",
    "    nrows_corner = LAT_COR.shape[0]\n",
    "    ncols_corner = LAT_COR.shape[1]\n",
    "    print(nrows_corner,ncols_corner)\n",
    "    \n",
    "    rows_ctr = np.arange(nrows_center)\n",
    "    cols_ctr = np.arange(ncols_center)\n",
    "    rows_cor = np.arange(nrows_corner)\n",
    "    cols_cor = np.arange(ncols_corner)\n",
    "\n",
    "    \n",
    "    dat_grid = xr.Dataset(\n",
    "        data_vars = dict(\n",
    "            LAT_CTR=(['rows_ctr','cols_ctr'],LAT_CTR),\n",
    "            LON_CTR=(['rows_ctr','cols_ctr'],LON_CTR),\n",
    "            LAT_COR=(['rows_cor','cols_cor'],LAT_COR),\n",
    "            LON_COR=(['rows_cor','cols_cor'],LON_COR),\n",
    "        ),\n",
    "        \n",
    "        coords = dict(\n",
    "            rows_ctr =(['rows_ctr'],rows_ctr),\n",
    "            cols_ctr =(['cols_ctr'],cols_ctr),\n",
    "            rows_cor =(['rows_cor'],rows_cor),\n",
    "            cols_cor =(['cols_cor'],cols_cor),\n",
    "        \n",
    "        )\n",
    "        \n",
    "    )\n",
    "    print(dat_grid)\n",
    "    dat_grid.to_netcdf(filename+'.nc')"
   ]
  },
  {
   "cell_type": "code",
   "execution_count": null,
   "id": "f9b7ad83",
   "metadata": {},
   "outputs": [],
   "source": []
  }
 ],
 "metadata": {
  "kernelspec": {
   "display_name": "Python 3",
   "language": "python",
   "name": "python3"
  },
  "language_info": {
   "codemirror_mode": {
    "name": "ipython",
    "version": 3
   },
   "file_extension": ".py",
   "mimetype": "text/x-python",
   "name": "python",
   "nbconvert_exporter": "python",
   "pygments_lexer": "ipython3",
   "version": "3.7.6"
  },
  "varInspector": {
   "cols": {
    "lenName": 16,
    "lenType": 16,
    "lenVar": 40
   },
   "kernels_config": {
    "python": {
     "delete_cmd_postfix": "",
     "delete_cmd_prefix": "del ",
     "library": "var_list.py",
     "varRefreshCmd": "print(var_dic_list())"
    },
    "r": {
     "delete_cmd_postfix": ") ",
     "delete_cmd_prefix": "rm(",
     "library": "var_list.r",
     "varRefreshCmd": "cat(var_dic_list()) "
    }
   },
   "types_to_exclude": [
    "module",
    "function",
    "builtin_function_or_method",
    "instance",
    "_Feature"
   ],
   "window_display": false
  }
 },
 "nbformat": 4,
 "nbformat_minor": 5
}
