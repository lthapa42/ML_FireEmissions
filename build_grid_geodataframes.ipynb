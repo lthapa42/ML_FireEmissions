{
 "cells": [
  {
   "cell_type": "code",
   "execution_count": 1,
   "id": "ce32cd7b",
   "metadata": {},
   "outputs": [],
   "source": [
    "import pandas as pd\n",
    "#pd.set_option('display.max_rows', None)\n",
    "import geopandas as gpd\n",
    "import matplotlib.pyplot as plt\n",
    "from matplotlib import path\n",
    "import os\n",
    "import cartopy.crs as ccrs\n",
    "import cartopy.feature as cfeature\n",
    "import cartopy\n",
    "import numpy as np\n",
    "import netCDF4 as nc\n",
    "np.set_printoptions(threshold=100000)\n",
    "from shapely.geometry import Polygon, Point, MultiPoint\n",
    "from shapely.ops import cascaded_union\n",
    "from datetime import datetime, timedelta\n",
    "import time\n",
    "import warnings\n",
    "import datetime\n",
    "import math\n",
    "from scipy.ndimage.interpolation import shift\n",
    "import shapely.wkt\n",
    "from shapely.validation import explain_validity\n",
    "from shapely.validation import make_valid\n",
    "import xarray as xr\n",
    "\n",
    "warnings.filterwarnings('ignore')\n",
    "import seaborn as sns\n",
    "\n",
    "\n",
    "from joblib import Parallel, delayed\n",
    "import multiprocessing"
   ]
  },
  {
   "cell_type": "code",
   "execution_count": null,
   "id": "c77eab4d",
   "metadata": {},
   "outputs": [],
   "source": []
  },
  {
   "cell_type": "markdown",
   "id": "cace7091",
   "metadata": {},
   "source": [
    "## NCAR Moisture Grid"
   ]
  },
  {
   "cell_type": "code",
   "execution_count": 11,
   "id": "b784c2eb",
   "metadata": {},
   "outputs": [
    {
     "name": "stdout",
     "output_type": "stream",
     "text": [
      "(3179, 5399) (3179, 5399)\n",
      "(3177, 5397) (3177, 5397)\n",
      "(3178, 5398) (3178, 5398)\n",
      "3177 5397\n",
      "3178 5398\n",
      "<xarray.Dataset>\n",
      "Dimensions:   (cols_cor: 5398, cols_ctr: 5397, rows_cor: 3178, rows_ctr: 3177)\n",
      "Coordinates:\n",
      "  * rows_ctr  (rows_ctr) int64 0 1 2 3 4 5 6 ... 3171 3172 3173 3174 3175 3176\n",
      "  * cols_ctr  (cols_ctr) int64 0 1 2 3 4 5 6 ... 5391 5392 5393 5394 5395 5396\n",
      "  * rows_cor  (rows_cor) int64 0 1 2 3 4 5 6 ... 3172 3173 3174 3175 3176 3177\n",
      "  * cols_cor  (cols_cor) int64 0 1 2 3 4 5 6 ... 5392 5393 5394 5395 5396 5397\n",
      "Data variables:\n",
      "    LAT_CTR   (rows_ctr, cols_ctr) float32 21.13 21.13 21.13 ... 47.85 47.85\n",
      "    LON_CTR   (rows_ctr, cols_ctr) float32 -122.7 -122.7 -122.7 ... -60.9 -60.88\n",
      "    LAT_COR   (rows_cor, cols_cor) float32 21.12 21.12 21.13 ... 47.85 47.85\n",
      "    LON_COR   (rows_cor, cols_cor) float32 -122.7 -122.7 ... -60.89 -60.88\n"
     ]
    }
   ],
   "source": [
    "path_ncar = '/data2/lthapa/2020/FMC/fmc_20200506_20Z.nc'\n",
    "dat_ncar = xr.open_dataset(path_ncar)\n",
    "\n",
    "lat = dat_ncar['XLAT_M'].values[0,:] #3179, 5399\n",
    "lon = dat_ncar['XLONG_M'].values[0,:] #3179, 5399\n",
    "print(lat.shape, lon.shape)\n",
    "\n",
    "#drop the outer ring of lat/lons\n",
    "lat_centers = lat[1:lat.shape[0]-1,1:lat.shape[1]-1] #3177, 5397\n",
    "lon_centers = lon[1:lon.shape[0]-1,1:lon.shape[1]-1] #3177, 5397\n",
    "print(lat_centers.shape, lon_centers.shape)\n",
    "\n",
    "lat_corners,lon_corners = calculate_grid_cell_corners(lat, lon)#3178, 5398\n",
    "print(lat_corners.shape, lon_corners.shape) \n",
    "\n",
    "#make the grid\n",
    "build_grid_netcdf(lat_corners, lon_corners, lat_centers, lon_centers, 'NCAR_MOISTURE_GRID')"
   ]
  },
  {
   "cell_type": "markdown",
   "id": "68fe37f1",
   "metadata": {
    "heading_collapsed": true
   },
   "source": [
    "## SMOPS Grid"
   ]
  },
  {
   "cell_type": "code",
   "execution_count": 12,
   "id": "950b74fb",
   "metadata": {
    "hidden": true
   },
   "outputs": [
    {
     "name": "stdout",
     "output_type": "stream",
     "text": [
      "[[ 89.875  89.875  89.875 ...  89.875  89.875  89.875]\n",
      " [ 89.625  89.625  89.625 ...  89.625  89.625  89.625]\n",
      " [ 89.375  89.375  89.375 ...  89.375  89.375  89.375]\n",
      " ...\n",
      " [-89.375 -89.375 -89.375 ... -89.375 -89.375 -89.375]\n",
      " [-89.625 -89.625 -89.625 ... -89.625 -89.625 -89.625]\n",
      " [-89.875 -89.875 -89.875 ... -89.875 -89.875 -89.875]]\n",
      "[[-179.875 -179.625 -179.375 ...  179.375  179.625  179.875]\n",
      " [-179.875 -179.625 -179.375 ...  179.375  179.625  179.875]\n",
      " [-179.875 -179.625 -179.375 ...  179.375  179.625  179.875]\n",
      " ...\n",
      " [-179.875 -179.625 -179.375 ...  179.375  179.625  179.875]\n",
      " [-179.875 -179.625 -179.375 ...  179.375  179.625  179.875]\n",
      " [-179.875 -179.625 -179.375 ...  179.375  179.625  179.875]]\n"
     ]
    }
   ],
   "source": [
    "path_smops = '/data2/lthapa/2020/SMOPS/NPR_SMOPS_CMAP_D20200802.nc'\n",
    "dat_smops = xr.open_dataset(path_smops)\n",
    "#print(dat_smops)\n",
    "\n",
    "#get the lat/lon of the grid\n",
    "lat = np.flip(np.arange(-89.875, 90,0.25)) #720 elements, rows, y\n",
    "lon = np.arange(-179.875, 180,0.25) #1440 elements elements, columns, x\n",
    "#print(lat)\n",
    "#drop the outer ring of lat/lons\n",
    "lat_sub = lat[1:len(lat)-1] #718 elements\n",
    "lon_sub = lon[1:len(lon)-1] #1438 elements\n",
    "\n",
    "\n",
    "#calculate the grid centers\n",
    "lon_centers, lat_centers = np.meshgrid(lon_sub, lat_sub) #these are 718x1438\n",
    "\n",
    "#calculate the grid corners\n",
    "lon, lat = np.meshgrid(lon,lat) #these are 720x1440\n",
    "print(lat)\n",
    "print(lon)\n",
    "\n",
    "lat_corners, lon_corners = calculate_grid_cell_corners(lat, lon) #these are 719x1439\n",
    "\n",
    "\n",
    "#build and save the grid\n",
    "#build_grid_gdf(lat_corners, lon_corners, lat_centers, lon_centers, 'MERRA_GRID')\n",
    "#build_grid_netcdf(lat_corners, lon_corners, lat_centers, lon_centers, 'SMOPS_GRID')\n"
   ]
  },
  {
   "cell_type": "code",
   "execution_count": null,
   "id": "e8fea94b",
   "metadata": {
    "hidden": true
   },
   "outputs": [],
   "source": []
  },
  {
   "cell_type": "markdown",
   "id": "b6dd2d7e",
   "metadata": {
    "heading_collapsed": true,
    "hidden": true
   },
   "source": [
    "### MERRA2 GRID"
   ]
  },
  {
   "cell_type": "code",
   "execution_count": 11,
   "id": "2cd20111",
   "metadata": {
    "hidden": true,
    "scrolled": true
   },
   "outputs": [
    {
     "name": "stdout",
     "output_type": "stream",
     "text": [
      "<xarray.Dataset>\n",
      "Dimensions:               (Latitude: 720, Longitude: 1440)\n",
      "Dimensions without coordinates: Latitude, Longitude\n",
      "Data variables: (12/40)\n",
      "    Blended_SM            (Latitude, Longitude) float32 ...\n",
      "    NRT_SMOS_SM           (Latitude, Longitude) float32 ...\n",
      "    SMOS_SM               (Latitude, Longitude) float32 ...\n",
      "    ASCAT_A_SM            (Latitude, Longitude) float32 ...\n",
      "    ASCAT_B_SM            (Latitude, Longitude) float32 ...\n",
      "    AMSR2_SM              (Latitude, Longitude) float32 ...\n",
      "    ...                    ...\n",
      "    ASCAT_B_QA            (Latitude, Longitude) int16 ...\n",
      "    AMSR2_QA              (Latitude, Longitude) int16 ...\n",
      "    GMI_QA                (Latitude, Longitude) int16 ...\n",
      "    NSMAP_QA              (Latitude, Longitude) int16 ...\n",
      "    SMAP_QA               (Latitude, Longitude) int16 ...\n",
      "    Blended_SM_SD_QA      (Latitude, Longitude) int16 ...\n",
      "Attributes: (12/17)\n",
      "    Satellite:                        ESA's SMOS, EUMETSAT's MetOp-A and MetO...\n",
      "    Instrument:                       MIRAS on SMOS, ASCAT on MetOp-A, ASCAT ...\n",
      "    Projection:                       Plate Carree (Equirectangular Projection)\n",
      "    Latitude_at_Lower_Left_Corner:    -90.0\n",
      "    Longitude_at_Lower_Left_Corner:   -180.0\n",
      "    Latitude_at_Upper_Right_Corner:   90.0\n",
      "    ...                               ...\n",
      "    Time_End:                         23:59 UTC\n",
      "    Byte_Order:                       Big endian\n",
      "    Product_Version_Number:           3.0\n",
      "    Data_Compression_Type:            No Compression\n",
      "    Production_Location:              NOAA/NESDIS/OSPO at Camp Springs, Maryl...\n",
      "    Contact_Information:              Science Lead  : Xiwu Zhan,  NOAA/NESDIS...\n"
     ]
    },
    {
     "data": {
      "text/plain": [
       "\"#get the lat/lon of the grid\\nlat = dat_merra['lat'].values #37 elements, rows, y\\nlon = dat_merra['lon'].values #39 elements, columns, x\\nprint(lat)\\nprint(lon)\\n\\n#drop the outer ring of lat/lons\\nlat_sub = lat[1:len(lat)-1] #35 elements\\nlon_sub = lon[1:len(lon)-1] #37 elements\\n\\n#calculate the grid centers\\nlon_centers, lat_centers = np.meshgrid(lon_sub, lat_sub) #these are 35x37\\n\\n#calculate the grid corners\\nlon, lat = np.meshgrid(lon,lat) #these are 37x39 \\nlat_corners, lon_corners = calculate_grid_cell_corners(lat, lon) #these are 36x38\\n\\n#build and save the grid\\n#build_grid_gdf(lat_corners, lon_corners, lat_centers, lon_centers, 'MERRA_GRID')\\nbuild_grid_netcdf(lat_corners, lon_corners, lat_centers, lon_centers, 'MERRA_GRID')\""
      ]
     },
     "execution_count": 11,
     "metadata": {},
     "output_type": "execute_result"
    }
   ],
   "source": [
    "path_merra = '/data2/lthapa/2020/MERRA2/WESTUS_MERRA2_400.inst1_2d_lfo_Nx.20200801.nc4'\n",
    "dat_merra = xr.open_dataset(path_merra)\n",
    "\n",
    "#get the lat/lon of the grid\n",
    "lat = dat_merra['lat'].values #37 elements, rows, y\n",
    "lon = dat_merra['lon'].values #39 elements, columns, x\n",
    "print(lat)\n",
    "print(lon)\n",
    "\n",
    "#drop the outer ring of lat/lons\n",
    "lat_sub = lat[1:len(lat)-1] #35 elements\n",
    "lon_sub = lon[1:len(lon)-1] #37 elements\n",
    "\n",
    "#calculate the grid centers\n",
    "lon_centers, lat_centers = np.meshgrid(lon_sub, lat_sub) #these are 35x37\n",
    "\n",
    "#calculate the grid corners\n",
    "lon, lat = np.meshgrid(lon,lat) #these are 37x39 \n",
    "lat_corners, lon_corners = calculate_grid_cell_corners(lat, lon) #these are 36x38\n",
    "\n",
    "#build and save the grid\n",
    "#build_grid_gdf(lat_corners, lon_corners, lat_centers, lon_centers, 'MERRA_GRID')\n",
    "build_grid_netcdf(lat_corners, lon_corners, lat_centers, lon_centers, 'MERRA_GRID')"
   ]
  },
  {
   "cell_type": "markdown",
   "id": "74be5094",
   "metadata": {
    "heading_collapsed": true
   },
   "source": [
    "## RAVE"
   ]
  },
  {
   "cell_type": "code",
   "execution_count": null,
   "id": "34857535",
   "metadata": {
    "hidden": true
   },
   "outputs": [],
   "source": [
    "os.system('ncrename -v Latitude,lat -v Longitude,lon /data2/lthapa/2020/Apr2020_to_Oct2020/Hourly_Emissions_FV3_13km_202004070000_202004072300.nc /data2/lthapa/2020/Apr2020_to_Oct2020/Hourly_Emissions_FV3_13km_202004070000_202004072300xr.nc')\n"
   ]
  },
  {
   "cell_type": "code",
   "execution_count": null,
   "id": "5ceaa342",
   "metadata": {
    "hidden": true
   },
   "outputs": [],
   "source": [
    "path_rave = '/data2/lthapa/2020/Apr2020_to_Oct2020/Hourly_Emissions_FV3_13km_202004070000_202004072300xr.nc'\n",
    "dat_rave = xr.open_dataset(path_rave)\n",
    "print(dat_rave)\n",
    "#get the lat/lon of the grid, these are the edges/corners\n",
    "lat_corners = dat_rave['lat'].values #233 x 397\n",
    "lon_corners = dat_rave['lon'].values - 360 #233 x 397\n",
    "print(dat_rave['Latitude'].values)\n",
    "#calculate the centers\n",
    "lat_centers, lon_centers = calculate_grid_cell_corners(lat_corners, lon_corners)\n",
    "\n",
    "#build and save the grid\n",
    "#build_grid_gdf(lat_corners, lon_corners, lat_centers, lon_centers, 'RAVE_GRID')\n",
    "build_grid_netcdf(lat_corners, lon_corners, lat_centers, lon_centers, 'RAVE_GRID')"
   ]
  },
  {
   "cell_type": "markdown",
   "id": "359e8795",
   "metadata": {
    "heading_collapsed": true
   },
   "source": [
    "## ESI"
   ]
  },
  {
   "cell_type": "code",
   "execution_count": 11,
   "id": "3d968f40",
   "metadata": {
    "collapsed": true,
    "hidden": true
   },
   "outputs": [
    {
     "ename": "FileNotFoundError",
     "evalue": "[Errno 2] No such file or directory: b'/data2/lthapa/DFPPM_4WK_2020323.nc'",
     "output_type": "error",
     "traceback": [
      "\u001b[0;31m---------------------------------------------------------------------------\u001b[0m",
      "\u001b[0;31mKeyError\u001b[0m                                  Traceback (most recent call last)",
      "\u001b[0;32m~/anaconda3/envs/ML_py/lib/python3.7/site-packages/xarray/backends/file_manager.py\u001b[0m in \u001b[0;36m_acquire_with_cache_info\u001b[0;34m(self, needs_lock)\u001b[0m\n\u001b[1;32m    198\u001b[0m             \u001b[0;32mtry\u001b[0m\u001b[0;34m:\u001b[0m\u001b[0;34m\u001b[0m\u001b[0;34m\u001b[0m\u001b[0m\n\u001b[0;32m--> 199\u001b[0;31m                 \u001b[0mfile\u001b[0m \u001b[0;34m=\u001b[0m \u001b[0mself\u001b[0m\u001b[0;34m.\u001b[0m\u001b[0m_cache\u001b[0m\u001b[0;34m[\u001b[0m\u001b[0mself\u001b[0m\u001b[0;34m.\u001b[0m\u001b[0m_key\u001b[0m\u001b[0;34m]\u001b[0m\u001b[0;34m\u001b[0m\u001b[0;34m\u001b[0m\u001b[0m\n\u001b[0m\u001b[1;32m    200\u001b[0m             \u001b[0;32mexcept\u001b[0m \u001b[0mKeyError\u001b[0m\u001b[0;34m:\u001b[0m\u001b[0;34m\u001b[0m\u001b[0;34m\u001b[0m\u001b[0m\n",
      "\u001b[0;32m~/anaconda3/envs/ML_py/lib/python3.7/site-packages/xarray/backends/lru_cache.py\u001b[0m in \u001b[0;36m__getitem__\u001b[0;34m(self, key)\u001b[0m\n\u001b[1;32m     52\u001b[0m         \u001b[0;32mwith\u001b[0m \u001b[0mself\u001b[0m\u001b[0;34m.\u001b[0m\u001b[0m_lock\u001b[0m\u001b[0;34m:\u001b[0m\u001b[0;34m\u001b[0m\u001b[0;34m\u001b[0m\u001b[0m\n\u001b[0;32m---> 53\u001b[0;31m             \u001b[0mvalue\u001b[0m \u001b[0;34m=\u001b[0m \u001b[0mself\u001b[0m\u001b[0;34m.\u001b[0m\u001b[0m_cache\u001b[0m\u001b[0;34m[\u001b[0m\u001b[0mkey\u001b[0m\u001b[0;34m]\u001b[0m\u001b[0;34m\u001b[0m\u001b[0;34m\u001b[0m\u001b[0m\n\u001b[0m\u001b[1;32m     54\u001b[0m             \u001b[0mself\u001b[0m\u001b[0;34m.\u001b[0m\u001b[0m_cache\u001b[0m\u001b[0;34m.\u001b[0m\u001b[0mmove_to_end\u001b[0m\u001b[0;34m(\u001b[0m\u001b[0mkey\u001b[0m\u001b[0;34m)\u001b[0m\u001b[0;34m\u001b[0m\u001b[0;34m\u001b[0m\u001b[0m\n",
      "\u001b[0;31mKeyError\u001b[0m: [<class 'netCDF4._netCDF4.Dataset'>, ('/data2/lthapa/DFPPM_4WK_2020323.nc',), 'r', (('clobber', True), ('diskless', False), ('format', 'NETCDF4'), ('persist', False))]",
      "\nDuring handling of the above exception, another exception occurred:\n",
      "\u001b[0;31mFileNotFoundError\u001b[0m                         Traceback (most recent call last)",
      "\u001b[0;32m<ipython-input-11-9c0d64af1354>\u001b[0m in \u001b[0;36m<module>\u001b[0;34m\u001b[0m\n\u001b[1;32m      1\u001b[0m \u001b[0mpath_esi\u001b[0m \u001b[0;34m=\u001b[0m \u001b[0;34m'/data2/lthapa/DFPPM_4WK_2020323.nc'\u001b[0m\u001b[0;34m\u001b[0m\u001b[0;34m\u001b[0m\u001b[0m\n\u001b[0;32m----> 2\u001b[0;31m \u001b[0mdat_esi\u001b[0m \u001b[0;34m=\u001b[0m \u001b[0mxr\u001b[0m\u001b[0;34m.\u001b[0m\u001b[0mopen_dataset\u001b[0m\u001b[0;34m(\u001b[0m\u001b[0mpath_esi\u001b[0m\u001b[0;34m)\u001b[0m\u001b[0;34m\u001b[0m\u001b[0;34m\u001b[0m\u001b[0m\n\u001b[0m\u001b[1;32m      3\u001b[0m \u001b[0;34m\u001b[0m\u001b[0m\n\u001b[1;32m      4\u001b[0m \u001b[0;31m#get the lat/lon of the grid\u001b[0m\u001b[0;34m\u001b[0m\u001b[0;34m\u001b[0m\u001b[0;34m\u001b[0m\u001b[0m\n\u001b[1;32m      5\u001b[0m \u001b[0mlat\u001b[0m \u001b[0;34m=\u001b[0m \u001b[0mdat_esi\u001b[0m\u001b[0;34m[\u001b[0m\u001b[0;34m'lat'\u001b[0m\u001b[0;34m]\u001b[0m\u001b[0;34m.\u001b[0m\u001b[0mvalues\u001b[0m \u001b[0;31m#360 elements, rows, y\u001b[0m\u001b[0;34m\u001b[0m\u001b[0;34m\u001b[0m\u001b[0m\n",
      "\u001b[0;32m~/anaconda3/envs/ML_py/lib/python3.7/site-packages/xarray/backends/api.py\u001b[0m in \u001b[0;36mopen_dataset\u001b[0;34m(filename_or_obj, group, decode_cf, mask_and_scale, decode_times, concat_characters, decode_coords, engine, chunks, lock, cache, drop_variables, backend_kwargs, use_cftime, decode_timedelta)\u001b[0m\n\u001b[1;32m    552\u001b[0m \u001b[0;34m\u001b[0m\u001b[0m\n\u001b[1;32m    553\u001b[0m         \u001b[0mopener\u001b[0m \u001b[0;34m=\u001b[0m \u001b[0m_get_backend_cls\u001b[0m\u001b[0;34m(\u001b[0m\u001b[0mengine\u001b[0m\u001b[0;34m)\u001b[0m\u001b[0;34m\u001b[0m\u001b[0;34m\u001b[0m\u001b[0m\n\u001b[0;32m--> 554\u001b[0;31m         \u001b[0mstore\u001b[0m \u001b[0;34m=\u001b[0m \u001b[0mopener\u001b[0m\u001b[0;34m(\u001b[0m\u001b[0mfilename_or_obj\u001b[0m\u001b[0;34m,\u001b[0m \u001b[0;34m**\u001b[0m\u001b[0mextra_kwargs\u001b[0m\u001b[0;34m,\u001b[0m \u001b[0;34m**\u001b[0m\u001b[0mbackend_kwargs\u001b[0m\u001b[0;34m)\u001b[0m\u001b[0;34m\u001b[0m\u001b[0;34m\u001b[0m\u001b[0m\n\u001b[0m\u001b[1;32m    555\u001b[0m \u001b[0;34m\u001b[0m\u001b[0m\n\u001b[1;32m    556\u001b[0m     \u001b[0;32mwith\u001b[0m \u001b[0mclose_on_error\u001b[0m\u001b[0;34m(\u001b[0m\u001b[0mstore\u001b[0m\u001b[0;34m)\u001b[0m\u001b[0;34m:\u001b[0m\u001b[0;34m\u001b[0m\u001b[0;34m\u001b[0m\u001b[0m\n",
      "\u001b[0;32m~/anaconda3/envs/ML_py/lib/python3.7/site-packages/xarray/backends/netCDF4_.py\u001b[0m in \u001b[0;36mopen\u001b[0;34m(cls, filename, mode, format, group, clobber, diskless, persist, lock, lock_maker, autoclose)\u001b[0m\n\u001b[1;32m    376\u001b[0m             \u001b[0mnetCDF4\u001b[0m\u001b[0;34m.\u001b[0m\u001b[0mDataset\u001b[0m\u001b[0;34m,\u001b[0m \u001b[0mfilename\u001b[0m\u001b[0;34m,\u001b[0m \u001b[0mmode\u001b[0m\u001b[0;34m=\u001b[0m\u001b[0mmode\u001b[0m\u001b[0;34m,\u001b[0m \u001b[0mkwargs\u001b[0m\u001b[0;34m=\u001b[0m\u001b[0mkwargs\u001b[0m\u001b[0;34m\u001b[0m\u001b[0;34m\u001b[0m\u001b[0m\n\u001b[1;32m    377\u001b[0m         )\n\u001b[0;32m--> 378\u001b[0;31m         \u001b[0;32mreturn\u001b[0m \u001b[0mcls\u001b[0m\u001b[0;34m(\u001b[0m\u001b[0mmanager\u001b[0m\u001b[0;34m,\u001b[0m \u001b[0mgroup\u001b[0m\u001b[0;34m=\u001b[0m\u001b[0mgroup\u001b[0m\u001b[0;34m,\u001b[0m \u001b[0mmode\u001b[0m\u001b[0;34m=\u001b[0m\u001b[0mmode\u001b[0m\u001b[0;34m,\u001b[0m \u001b[0mlock\u001b[0m\u001b[0;34m=\u001b[0m\u001b[0mlock\u001b[0m\u001b[0;34m,\u001b[0m \u001b[0mautoclose\u001b[0m\u001b[0;34m=\u001b[0m\u001b[0mautoclose\u001b[0m\u001b[0;34m)\u001b[0m\u001b[0;34m\u001b[0m\u001b[0;34m\u001b[0m\u001b[0m\n\u001b[0m\u001b[1;32m    379\u001b[0m \u001b[0;34m\u001b[0m\u001b[0m\n\u001b[1;32m    380\u001b[0m     \u001b[0;32mdef\u001b[0m \u001b[0m_acquire\u001b[0m\u001b[0;34m(\u001b[0m\u001b[0mself\u001b[0m\u001b[0;34m,\u001b[0m \u001b[0mneeds_lock\u001b[0m\u001b[0;34m=\u001b[0m\u001b[0;32mTrue\u001b[0m\u001b[0;34m)\u001b[0m\u001b[0;34m:\u001b[0m\u001b[0;34m\u001b[0m\u001b[0;34m\u001b[0m\u001b[0m\n",
      "\u001b[0;32m~/anaconda3/envs/ML_py/lib/python3.7/site-packages/xarray/backends/netCDF4_.py\u001b[0m in \u001b[0;36m__init__\u001b[0;34m(self, manager, group, mode, lock, autoclose)\u001b[0m\n\u001b[1;32m    324\u001b[0m         \u001b[0mself\u001b[0m\u001b[0;34m.\u001b[0m\u001b[0m_group\u001b[0m \u001b[0;34m=\u001b[0m \u001b[0mgroup\u001b[0m\u001b[0;34m\u001b[0m\u001b[0;34m\u001b[0m\u001b[0m\n\u001b[1;32m    325\u001b[0m         \u001b[0mself\u001b[0m\u001b[0;34m.\u001b[0m\u001b[0m_mode\u001b[0m \u001b[0;34m=\u001b[0m \u001b[0mmode\u001b[0m\u001b[0;34m\u001b[0m\u001b[0;34m\u001b[0m\u001b[0m\n\u001b[0;32m--> 326\u001b[0;31m         \u001b[0mself\u001b[0m\u001b[0;34m.\u001b[0m\u001b[0mformat\u001b[0m \u001b[0;34m=\u001b[0m \u001b[0mself\u001b[0m\u001b[0;34m.\u001b[0m\u001b[0mds\u001b[0m\u001b[0;34m.\u001b[0m\u001b[0mdata_model\u001b[0m\u001b[0;34m\u001b[0m\u001b[0;34m\u001b[0m\u001b[0m\n\u001b[0m\u001b[1;32m    327\u001b[0m         \u001b[0mself\u001b[0m\u001b[0;34m.\u001b[0m\u001b[0m_filename\u001b[0m \u001b[0;34m=\u001b[0m \u001b[0mself\u001b[0m\u001b[0;34m.\u001b[0m\u001b[0mds\u001b[0m\u001b[0;34m.\u001b[0m\u001b[0mfilepath\u001b[0m\u001b[0;34m(\u001b[0m\u001b[0;34m)\u001b[0m\u001b[0;34m\u001b[0m\u001b[0;34m\u001b[0m\u001b[0m\n\u001b[1;32m    328\u001b[0m         \u001b[0mself\u001b[0m\u001b[0;34m.\u001b[0m\u001b[0mis_remote\u001b[0m \u001b[0;34m=\u001b[0m \u001b[0mis_remote_uri\u001b[0m\u001b[0;34m(\u001b[0m\u001b[0mself\u001b[0m\u001b[0;34m.\u001b[0m\u001b[0m_filename\u001b[0m\u001b[0;34m)\u001b[0m\u001b[0;34m\u001b[0m\u001b[0;34m\u001b[0m\u001b[0m\n",
      "\u001b[0;32m~/anaconda3/envs/ML_py/lib/python3.7/site-packages/xarray/backends/netCDF4_.py\u001b[0m in \u001b[0;36mds\u001b[0;34m(self)\u001b[0m\n\u001b[1;32m    385\u001b[0m     \u001b[0;34m@\u001b[0m\u001b[0mproperty\u001b[0m\u001b[0;34m\u001b[0m\u001b[0;34m\u001b[0m\u001b[0m\n\u001b[1;32m    386\u001b[0m     \u001b[0;32mdef\u001b[0m \u001b[0mds\u001b[0m\u001b[0;34m(\u001b[0m\u001b[0mself\u001b[0m\u001b[0;34m)\u001b[0m\u001b[0;34m:\u001b[0m\u001b[0;34m\u001b[0m\u001b[0;34m\u001b[0m\u001b[0m\n\u001b[0;32m--> 387\u001b[0;31m         \u001b[0;32mreturn\u001b[0m \u001b[0mself\u001b[0m\u001b[0;34m.\u001b[0m\u001b[0m_acquire\u001b[0m\u001b[0;34m(\u001b[0m\u001b[0;34m)\u001b[0m\u001b[0;34m\u001b[0m\u001b[0;34m\u001b[0m\u001b[0m\n\u001b[0m\u001b[1;32m    388\u001b[0m \u001b[0;34m\u001b[0m\u001b[0m\n\u001b[1;32m    389\u001b[0m     \u001b[0;32mdef\u001b[0m \u001b[0mopen_store_variable\u001b[0m\u001b[0;34m(\u001b[0m\u001b[0mself\u001b[0m\u001b[0;34m,\u001b[0m \u001b[0mname\u001b[0m\u001b[0;34m,\u001b[0m \u001b[0mvar\u001b[0m\u001b[0;34m)\u001b[0m\u001b[0;34m:\u001b[0m\u001b[0;34m\u001b[0m\u001b[0;34m\u001b[0m\u001b[0m\n",
      "\u001b[0;32m~/anaconda3/envs/ML_py/lib/python3.7/site-packages/xarray/backends/netCDF4_.py\u001b[0m in \u001b[0;36m_acquire\u001b[0;34m(self, needs_lock)\u001b[0m\n\u001b[1;32m    379\u001b[0m \u001b[0;34m\u001b[0m\u001b[0m\n\u001b[1;32m    380\u001b[0m     \u001b[0;32mdef\u001b[0m \u001b[0m_acquire\u001b[0m\u001b[0;34m(\u001b[0m\u001b[0mself\u001b[0m\u001b[0;34m,\u001b[0m \u001b[0mneeds_lock\u001b[0m\u001b[0;34m=\u001b[0m\u001b[0;32mTrue\u001b[0m\u001b[0;34m)\u001b[0m\u001b[0;34m:\u001b[0m\u001b[0;34m\u001b[0m\u001b[0;34m\u001b[0m\u001b[0m\n\u001b[0;32m--> 381\u001b[0;31m         \u001b[0;32mwith\u001b[0m \u001b[0mself\u001b[0m\u001b[0;34m.\u001b[0m\u001b[0m_manager\u001b[0m\u001b[0;34m.\u001b[0m\u001b[0macquire_context\u001b[0m\u001b[0;34m(\u001b[0m\u001b[0mneeds_lock\u001b[0m\u001b[0;34m)\u001b[0m \u001b[0;32mas\u001b[0m \u001b[0mroot\u001b[0m\u001b[0;34m:\u001b[0m\u001b[0;34m\u001b[0m\u001b[0;34m\u001b[0m\u001b[0m\n\u001b[0m\u001b[1;32m    382\u001b[0m             \u001b[0mds\u001b[0m \u001b[0;34m=\u001b[0m \u001b[0m_nc4_require_group\u001b[0m\u001b[0;34m(\u001b[0m\u001b[0mroot\u001b[0m\u001b[0;34m,\u001b[0m \u001b[0mself\u001b[0m\u001b[0;34m.\u001b[0m\u001b[0m_group\u001b[0m\u001b[0;34m,\u001b[0m \u001b[0mself\u001b[0m\u001b[0;34m.\u001b[0m\u001b[0m_mode\u001b[0m\u001b[0;34m)\u001b[0m\u001b[0;34m\u001b[0m\u001b[0;34m\u001b[0m\u001b[0m\n\u001b[1;32m    383\u001b[0m         \u001b[0;32mreturn\u001b[0m \u001b[0mds\u001b[0m\u001b[0;34m\u001b[0m\u001b[0;34m\u001b[0m\u001b[0m\n",
      "\u001b[0;32m~/anaconda3/envs/ML_py/lib/python3.7/contextlib.py\u001b[0m in \u001b[0;36m__enter__\u001b[0;34m(self)\u001b[0m\n\u001b[1;32m    110\u001b[0m         \u001b[0;32mdel\u001b[0m \u001b[0mself\u001b[0m\u001b[0;34m.\u001b[0m\u001b[0margs\u001b[0m\u001b[0;34m,\u001b[0m \u001b[0mself\u001b[0m\u001b[0;34m.\u001b[0m\u001b[0mkwds\u001b[0m\u001b[0;34m,\u001b[0m \u001b[0mself\u001b[0m\u001b[0;34m.\u001b[0m\u001b[0mfunc\u001b[0m\u001b[0;34m\u001b[0m\u001b[0;34m\u001b[0m\u001b[0m\n\u001b[1;32m    111\u001b[0m         \u001b[0;32mtry\u001b[0m\u001b[0;34m:\u001b[0m\u001b[0;34m\u001b[0m\u001b[0;34m\u001b[0m\u001b[0m\n\u001b[0;32m--> 112\u001b[0;31m             \u001b[0;32mreturn\u001b[0m \u001b[0mnext\u001b[0m\u001b[0;34m(\u001b[0m\u001b[0mself\u001b[0m\u001b[0;34m.\u001b[0m\u001b[0mgen\u001b[0m\u001b[0;34m)\u001b[0m\u001b[0;34m\u001b[0m\u001b[0;34m\u001b[0m\u001b[0m\n\u001b[0m\u001b[1;32m    113\u001b[0m         \u001b[0;32mexcept\u001b[0m \u001b[0mStopIteration\u001b[0m\u001b[0;34m:\u001b[0m\u001b[0;34m\u001b[0m\u001b[0;34m\u001b[0m\u001b[0m\n\u001b[1;32m    114\u001b[0m             \u001b[0;32mraise\u001b[0m \u001b[0mRuntimeError\u001b[0m\u001b[0;34m(\u001b[0m\u001b[0;34m\"generator didn't yield\"\u001b[0m\u001b[0;34m)\u001b[0m \u001b[0;32mfrom\u001b[0m \u001b[0;32mNone\u001b[0m\u001b[0;34m\u001b[0m\u001b[0;34m\u001b[0m\u001b[0m\n",
      "\u001b[0;32m~/anaconda3/envs/ML_py/lib/python3.7/site-packages/xarray/backends/file_manager.py\u001b[0m in \u001b[0;36macquire_context\u001b[0;34m(self, needs_lock)\u001b[0m\n\u001b[1;32m    185\u001b[0m     \u001b[0;32mdef\u001b[0m \u001b[0macquire_context\u001b[0m\u001b[0;34m(\u001b[0m\u001b[0mself\u001b[0m\u001b[0;34m,\u001b[0m \u001b[0mneeds_lock\u001b[0m\u001b[0;34m=\u001b[0m\u001b[0;32mTrue\u001b[0m\u001b[0;34m)\u001b[0m\u001b[0;34m:\u001b[0m\u001b[0;34m\u001b[0m\u001b[0;34m\u001b[0m\u001b[0m\n\u001b[1;32m    186\u001b[0m         \u001b[0;34m\"\"\"Context manager for acquiring a file.\"\"\"\u001b[0m\u001b[0;34m\u001b[0m\u001b[0;34m\u001b[0m\u001b[0m\n\u001b[0;32m--> 187\u001b[0;31m         \u001b[0mfile\u001b[0m\u001b[0;34m,\u001b[0m \u001b[0mcached\u001b[0m \u001b[0;34m=\u001b[0m \u001b[0mself\u001b[0m\u001b[0;34m.\u001b[0m\u001b[0m_acquire_with_cache_info\u001b[0m\u001b[0;34m(\u001b[0m\u001b[0mneeds_lock\u001b[0m\u001b[0;34m)\u001b[0m\u001b[0;34m\u001b[0m\u001b[0;34m\u001b[0m\u001b[0m\n\u001b[0m\u001b[1;32m    188\u001b[0m         \u001b[0;32mtry\u001b[0m\u001b[0;34m:\u001b[0m\u001b[0;34m\u001b[0m\u001b[0;34m\u001b[0m\u001b[0m\n\u001b[1;32m    189\u001b[0m             \u001b[0;32myield\u001b[0m \u001b[0mfile\u001b[0m\u001b[0;34m\u001b[0m\u001b[0;34m\u001b[0m\u001b[0m\n",
      "\u001b[0;32m~/anaconda3/envs/ML_py/lib/python3.7/site-packages/xarray/backends/file_manager.py\u001b[0m in \u001b[0;36m_acquire_with_cache_info\u001b[0;34m(self, needs_lock)\u001b[0m\n\u001b[1;32m    203\u001b[0m                     \u001b[0mkwargs\u001b[0m \u001b[0;34m=\u001b[0m \u001b[0mkwargs\u001b[0m\u001b[0;34m.\u001b[0m\u001b[0mcopy\u001b[0m\u001b[0;34m(\u001b[0m\u001b[0;34m)\u001b[0m\u001b[0;34m\u001b[0m\u001b[0;34m\u001b[0m\u001b[0m\n\u001b[1;32m    204\u001b[0m                     \u001b[0mkwargs\u001b[0m\u001b[0;34m[\u001b[0m\u001b[0;34m\"mode\"\u001b[0m\u001b[0;34m]\u001b[0m \u001b[0;34m=\u001b[0m \u001b[0mself\u001b[0m\u001b[0;34m.\u001b[0m\u001b[0m_mode\u001b[0m\u001b[0;34m\u001b[0m\u001b[0;34m\u001b[0m\u001b[0m\n\u001b[0;32m--> 205\u001b[0;31m                 \u001b[0mfile\u001b[0m \u001b[0;34m=\u001b[0m \u001b[0mself\u001b[0m\u001b[0;34m.\u001b[0m\u001b[0m_opener\u001b[0m\u001b[0;34m(\u001b[0m\u001b[0;34m*\u001b[0m\u001b[0mself\u001b[0m\u001b[0;34m.\u001b[0m\u001b[0m_args\u001b[0m\u001b[0;34m,\u001b[0m \u001b[0;34m**\u001b[0m\u001b[0mkwargs\u001b[0m\u001b[0;34m)\u001b[0m\u001b[0;34m\u001b[0m\u001b[0;34m\u001b[0m\u001b[0m\n\u001b[0m\u001b[1;32m    206\u001b[0m                 \u001b[0;32mif\u001b[0m \u001b[0mself\u001b[0m\u001b[0;34m.\u001b[0m\u001b[0m_mode\u001b[0m \u001b[0;34m==\u001b[0m \u001b[0;34m\"w\"\u001b[0m\u001b[0;34m:\u001b[0m\u001b[0;34m\u001b[0m\u001b[0;34m\u001b[0m\u001b[0m\n\u001b[1;32m    207\u001b[0m                     \u001b[0;31m# ensure file doesn't get overriden when opened again\u001b[0m\u001b[0;34m\u001b[0m\u001b[0;34m\u001b[0m\u001b[0;34m\u001b[0m\u001b[0m\n",
      "\u001b[0;32msrc/netCDF4/_netCDF4.pyx\u001b[0m in \u001b[0;36mnetCDF4._netCDF4.Dataset.__init__\u001b[0;34m()\u001b[0m\n",
      "\u001b[0;32msrc/netCDF4/_netCDF4.pyx\u001b[0m in \u001b[0;36mnetCDF4._netCDF4._ensure_nc_success\u001b[0;34m()\u001b[0m\n",
      "\u001b[0;31mFileNotFoundError\u001b[0m: [Errno 2] No such file or directory: b'/data2/lthapa/DFPPM_4WK_2020323.nc'"
     ]
    }
   ],
   "source": [
    "path_esi = '/data2/lthapa/DFPPM_4WK_2020323.nc'\n",
    "dat_esi = xr.open_dataset(path_esi)\n",
    "\n",
    "#get the lat/lon of the grid\n",
    "lat = dat_esi['lat'].values #360 elements, rows, y\n",
    "lon = dat_esi['lon'].values #480 elements, columns, x\n",
    "\n",
    "\n",
    "#drop the outer ring of lat/lons\n",
    "lat_sub = lat[1:len(lat)-1] #358 elements\n",
    "lon_sub = lon[1:len(lon)-1] #478 elements\n",
    "\n",
    "#calculate the grid centers\n",
    "lon_centers, lat_centers = np.meshgrid(lon_sub, lat_sub) #these are 358x478\n",
    "\n",
    "#calculate the grid corners\n",
    "lon, lat = np.meshgrid(lon,lat) #these are 360x480\n",
    "lat_corners, lon_corners = calculate_grid_cell_corners(lat, lon) #these are 359x479\n",
    "print(lon_corners.shape)\n",
    "\n",
    "#build and save the grid\n",
    "#build_grid_gdf(lat_corners, lon_corners, lat_centers, lon_centers, 'ESI_GRID')\n",
    "#build_grid_netcdf(lat_corners, lon_corners, lat_centers, lon_centers, 'ESI_GRID')"
   ]
  },
  {
   "cell_type": "markdown",
   "id": "d3cdd89e",
   "metadata": {
    "heading_collapsed": true
   },
   "source": [
    "## PWS Grid"
   ]
  },
  {
   "cell_type": "code",
   "execution_count": null,
   "id": "aa4fcea7",
   "metadata": {
    "hidden": true
   },
   "outputs": [],
   "source": [
    "path_pws = '/data2/lthapa/PWS_6_jan_2021.nc'\n",
    "dat_pws = xr.open_dataset(path_pws)\n",
    "\n",
    "#get the lat/lon of the grid\n",
    "lat = dat_pws['lat'].values #645 elements, rows, y\n",
    "lon = dat_pws['lon'].values #870 elements, columns, x\n",
    "\n",
    "#drop the outer ring of lat/lons\n",
    "lat_sub = lat[1:len(lat)-1] #643 elements\n",
    "lon_sub = lon[1:len(lon)-1] #868 elements\n",
    "\n",
    "\n",
    "#calculate the grid centers\n",
    "lon_centers, lat_centers = np.meshgrid(lon_sub, lat_sub) #these are 643x868\n",
    "\n",
    "#calculate the grid corners\n",
    "lon, lat = np.meshgrid(lon,lat) #these are 645x870\n",
    "lat_corners, lon_corners = calculate_grid_cell_corners(lat, lon) #these are 644x869\n",
    "\n",
    "#build and save the grid\n",
    "#build_grid_gdf(lat_corners, lon_corners, lat_centers, lon_centers, 'PWS_GRID')\n",
    "build_grid_netcdf(lat_corners, lon_corners, lat_centers, lon_centers, 'PWS_GRID')\n"
   ]
  },
  {
   "cell_type": "markdown",
   "id": "8916d2eb",
   "metadata": {
    "heading_collapsed": true
   },
   "source": [
    "## HRRR Grid"
   ]
  },
  {
   "cell_type": "code",
   "execution_count": null,
   "id": "37f1cd81",
   "metadata": {
    "hidden": true
   },
   "outputs": [],
   "source": []
  },
  {
   "cell_type": "code",
   "execution_count": null,
   "id": "60ca2fdc",
   "metadata": {
    "hidden": true
   },
   "outputs": [],
   "source": [
    "path_hrrr = '/data2/lthapa/ML_daily/pygraf/Processed_HRRR_2020091800.nc'\n",
    "dat_hrrr = xr.open_dataset(path_hrrr)\n",
    "\n",
    "lat_centers = dat_hrrr['grid_latt'].values #1057x1797\n",
    "lon_centers = dat_hrrr['grid_lont'].values #1057x1797\n",
    "\n",
    "#drop the outer ring of lat/lons\n",
    "lat_centers = lat_centers[1:lat_centers.shape[0],1:lat_centers.shape[1]] #1056x1796\n",
    "lon_centers = lon_centers[1:lon_centers.shape[0],1:lon_centers.shape[1]] #1056x1796\n",
    "\n",
    "#load in the corners\n",
    "lat_corners = dat_hrrr['grid_lat'].values #1057x1797\n",
    "lon_corners = dat_hrrr['grid_lon'].values #1057x1797\n",
    "\n",
    "#build_grid_netcdf(lat_corners, lon_corners, lat_centers, lon_centers, 'HRRR_GRID')\n",
    "\n",
    "\n",
    "nrows = lat_centers.shape[0]\n",
    "ncols = lat_centers.shape[1]\n",
    "\n",
    "print(nrows, ncols)\n",
    "\n",
    "row_ind = range(nrows)\n",
    "col_ind =range(ncols)\n",
    "\n",
    "print(multiprocessing.cpu_count())\n",
    "\n",
    "tic = time.time()\n",
    "results = Parallel(n_jobs=6)(delayed(build_one_gridcell)(lat_corners, lon_corners, lat_centers, lon_centers,i,j) for i in row_ind for j in col_ind)\n",
    "toc = time.time()\n",
    "print(toc-tic)\n",
    "\n",
    "df_grid=gpd.GeoDataFrame(results)\n",
    "df_grid.columns = ['lat', 'lon', 'row', 'col', 'geometry']\n",
    "df_grid.set_geometry(col='geometry', inplace=True) #assign a column to represent geometry\n",
    "\n",
    "print(df_grid)\n",
    "#tic =time.time()\n",
    "#df_grid.to_file('HRRR_GRID.geojson', driver='GeoJSON')\n",
    "#toc=time.time()\n",
    "print(toc-tic)\n",
    "#df_size = len(row_ind)*len(col_ind)\n",
    "#df_grid = gpd.GeoDataFrame({'lat': np.zeros(df_size), \n",
    "#                                'lon': np.zeros(df_size),\n",
    "#                                'row':np.zeros(df_size),\n",
    "#                                'col':np.zeros(df_size),\n",
    "#                                'geometry':np.zeros(df_size)})\n",
    "#df_grid = Parallel(n_jobs=2)(delayed(store_grid)(df_grid,results,kk) for kk in range(df_size))\n",
    "#print(df_grid)\n",
    "#build_one_gridcell(lat_corners, lon_corners, lat_centers, lon_centers,0,0)\n"
   ]
  },
  {
   "cell_type": "code",
   "execution_count": null,
   "id": "ce524b1e",
   "metadata": {
    "hidden": true
   },
   "outputs": [],
   "source": [
    "def store_grid(grid,res, k):\n",
    "    grid.iloc[k,:] = res[k]\n",
    "    return grid"
   ]
  },
  {
   "cell_type": "code",
   "execution_count": null,
   "id": "648009b3",
   "metadata": {
    "hidden": true
   },
   "outputs": [],
   "source": [
    "#makes and saves a geodataframe of a grid given the center and corner points for that grid as 2D matrices\n",
    "def build_one_gridcell(LAT_COR, LON_COR, LAT_CTR, LON_CTR, ii,jj):\n",
    "    #print(ii,jj,count)\n",
    "    #print(LAT_CTR[ii,jj], LON_CTR[ii,jj]) #ctr\n",
    "    sw = (LON_COR[ii, jj],LAT_COR[ii, jj]) #SW\n",
    "    se =(LON_COR[ii, jj+1],LAT_COR[ii, jj+1]) #SE\n",
    "    nw = (LON_COR[ii+1, jj],LAT_COR[ii+1, jj]) #NW\n",
    "    ne = (LON_COR[ii+1, jj+1],LAT_COR[ii+1, jj+1]) #NE\n",
    "            \n",
    "    poly_cell = Polygon([sw,nw,ne,se])\n",
    "    \n",
    "    return LAT_CTR[ii,jj], LON_CTR[ii,jj],ii,jj,poly_cell"
   ]
  },
  {
   "cell_type": "markdown",
   "id": "d140b356",
   "metadata": {
    "heading_collapsed": true
   },
   "source": [
    "## CPC FWI Grid"
   ]
  },
  {
   "cell_type": "code",
   "execution_count": null,
   "id": "3045ce14",
   "metadata": {
    "hidden": true
   },
   "outputs": [],
   "source": [
    "path_cpc = '../FWI.CPC.Daily.WESTUS.20200801.nc'\n",
    "dat_cpc = xr.open_dataset(path_cpc)\n",
    "\n",
    "#get the lat/lon of the grid\n",
    "lat = dat_cpc['lat'].values #36 elements, rows, y\n",
    "lon = dat_cpc['lon'].values #48 elements, columns, x\n",
    "\n",
    "#drop the outer ring of lat/lons\n",
    "lat_sub = lat[1:len(lat)-1] #34 elements\n",
    "lon_sub = lon[1:len(lon)-1] #46 elements\n",
    "\n",
    "#calculate the grid centers\n",
    "lon_centers, lat_centers = np.meshgrid(lon_sub, lat_sub) #these are 34x46\n",
    "\n",
    "#calculate the grid corners\n",
    "lon, lat = np.meshgrid(lon,lat) #these are 36x48\n",
    "lat_corners, lon_corners = calculate_grid_cell_corners(lat, lon) #these are 35x47\n",
    "\n",
    "nrows = lat_centers.shape[0]\n",
    "ncols = lat_centers.shape[1]\n",
    "\n",
    "print(nrows, ncols)\n",
    "\n",
    "row_ind = range(nrows)\n",
    "col_ind =range(ncols)\n",
    "\n",
    "print(multiprocessing.cpu_count())\n",
    "\n",
    "tic = time.time()\n",
    "results = Parallel(n_jobs=6)(delayed(build_one_gridcell)(lat_corners, lon_corners, lat_centers, lon_centers,i,j) for i in row_ind for j in col_ind)\n",
    "toc = time.time()\n",
    "print(toc-tic)\n",
    "\n",
    "df_grid=gpd.GeoDataFrame(results)\n",
    "df_grid.columns = ['lat', 'lon', 'row', 'col', 'geometry']\n",
    "df_grid.set_geometry(col='geometry', inplace=True) #assign a column to represent geometry\n",
    "\n",
    "print(df_grid)\n",
    "tic =time.time()\n",
    "df_grid.to_file('CPC_FWI_GRID.geojson', driver='GeoJSON')\n",
    "toc=time.time()\n",
    "print(toc-tic)"
   ]
  },
  {
   "cell_type": "markdown",
   "id": "75031a1a",
   "metadata": {
    "heading_collapsed": true
   },
   "source": [
    "## IMERG FWI Grid"
   ]
  },
  {
   "cell_type": "code",
   "execution_count": 6,
   "id": "52edc9ee",
   "metadata": {
    "hidden": true
   },
   "outputs": [
    {
     "name": "stdout",
     "output_type": "stream",
     "text": [
      "178 238\n",
      "179 239\n",
      "<xarray.Dataset>\n",
      "Dimensions:   (cols_cor: 239, cols_ctr: 238, rows_cor: 179, rows_ctr: 178)\n",
      "Coordinates:\n",
      "  * rows_ctr  (rows_ctr) int64 0 1 2 3 4 5 6 7 ... 171 172 173 174 175 176 177\n",
      "  * cols_ctr  (cols_ctr) int64 0 1 2 3 4 5 6 7 ... 231 232 233 234 235 236 237\n",
      "  * rows_cor  (rows_cor) int64 0 1 2 3 4 5 6 7 ... 172 173 174 175 176 177 178\n",
      "  * cols_cor  (cols_cor) int64 0 1 2 3 4 5 6 7 ... 232 233 234 235 236 237 238\n",
      "Data variables:\n",
      "    LAT_CTR   (rows_ctr, cols_ctr) float64 31.15 31.15 31.15 ... 48.85 48.85\n",
      "    LON_CTR   (rows_ctr, cols_ctr) float64 -124.8 -124.8 ... -101.2 -101.1\n",
      "    LAT_COR   (rows_cor, cols_cor) float64 31.1 31.1 31.1 ... 48.9 48.9 48.9\n",
      "    LON_COR   (rows_cor, cols_cor) float64 -124.9 -124.8 ... -101.2 -101.1\n"
     ]
    },
    {
     "data": {
      "text/plain": [
       "\"nrows = lat_centers.shape[0]\\nncols = lat_centers.shape[1]\\n\\n\\n\\nrow_ind = range(nrows)\\ncol_ind =range(ncols)\\n\\nprint(multiprocessing.cpu_count())\\n\\ntic = time.time()\\nresults = Parallel(n_jobs=6)(delayed(build_one_gridcell)(lat_corners, lon_corners, lat_centers, lon_centers,i,j) for i in row_ind for j in col_ind)\\ntoc = time.time()\\nprint(toc-tic)\\n\\ndf_grid=gpd.GeoDataFrame(results)\\ndf_grid.columns = ['lat', 'lon', 'row', 'col', 'geometry']\\ndf_grid.set_geometry(col='geometry', inplace=True) #assign a column to represent geometry\\n\\nprint(df_grid)\\ntic =time.time()\\ndf_grid.to_file('IMERG_FWI_GRID.geojson', driver='GeoJSON')\\ntoc=time.time()\\nprint(toc-tic)\""
      ]
     },
     "execution_count": 6,
     "metadata": {},
     "output_type": "execute_result"
    }
   ],
   "source": [
    "path_imerg = '../FWI.IMERG.FINAL.v6.Daily.WESTUS.20200801.nc'\n",
    "dat_imerg = xr.open_dataset(path_imerg)\n",
    "\n",
    "#get the lat/lon of the grid\n",
    "lat = dat_imerg['lat'].values #180 elements, rows, y\n",
    "lon = dat_imerg['lon'].values #240 elements, columns, x\n",
    "\n",
    "#drop the outer ring of lat/lons\n",
    "lat_sub = lat[1:len(lat)-1] #178 elements\n",
    "lon_sub = lon[1:len(lon)-1] #238 elements\n",
    "\n",
    "#calculate the grid centers\n",
    "lon_centers, lat_centers = np.meshgrid(lon_sub, lat_sub) #these are 178x238\n",
    "\n",
    "#calculate the grid corners\n",
    "lon, lat = np.meshgrid(lon,lat) #these are 36x48\n",
    "lat_corners, lon_corners = calculate_grid_cell_corners(lat, lon) #these are 179x239\n",
    "\n",
    "build_grid_netcdf(lat_corners, lon_corners, lat_centers, lon_centers, 'IMERG_FWI_GRID')\n",
    "\n",
    "\"\"\"nrows = lat_centers.shape[0]\n",
    "ncols = lat_centers.shape[1]\n",
    "\n",
    "\n",
    "\n",
    "row_ind = range(nrows)\n",
    "col_ind =range(ncols)\n",
    "\n",
    "print(multiprocessing.cpu_count())\n",
    "\n",
    "tic = time.time()\n",
    "results = Parallel(n_jobs=6)(delayed(build_one_gridcell)(lat_corners, lon_corners, lat_centers, lon_centers,i,j) for i in row_ind for j in col_ind)\n",
    "toc = time.time()\n",
    "print(toc-tic)\n",
    "\n",
    "df_grid=gpd.GeoDataFrame(results)\n",
    "df_grid.columns = ['lat', 'lon', 'row', 'col', 'geometry']\n",
    "df_grid.set_geometry(col='geometry', inplace=True) #assign a column to represent geometry\n",
    "\n",
    "print(df_grid)\n",
    "tic =time.time()\n",
    "df_grid.to_file('IMERG_FWI_GRID.geojson', driver='GeoJSON')\n",
    "toc=time.time()\n",
    "print(toc-tic)\"\"\""
   ]
  },
  {
   "cell_type": "markdown",
   "id": "4f52f616",
   "metadata": {
    "heading_collapsed": true
   },
   "source": [
    "## Fuel Loading Grid (1KM)"
   ]
  },
  {
   "cell_type": "code",
   "execution_count": null,
   "id": "746f5da1",
   "metadata": {
    "hidden": true
   },
   "outputs": [],
   "source": [
    "path_fuel_loading = '/data/lthapa/GSL_Internship/fuel_loading_FCCS16.nc'\n",
    "dat_fuel_loading = xr.open_dataset(path_fuel_loading)\n",
    "\n",
    "\n",
    "lat = dat_fuel_loading['grid_latt'].values #3215x5551\n",
    "lon = dat_fuel_loading['grid_lont'].values #3215x5551\n",
    "print(lat.shape,lon.shape)\n",
    "\n",
    "#drop the outer ring of lat/lons\n",
    "lat_centers = lat[1:lat.shape[0]-1,1:lat.shape[1]-1] #3213x5549\n",
    "lon_centers = lon[1:lon.shape[0]-1,1:lon.shape[1]-1] #3213x5549\n",
    "print(lat_centers.shape,lon_centers.shape)\n",
    "\n",
    "lat_corners, lon_corners = calculate_grid_cell_corners(lat, lon) #these are 3214x5550\n",
    "print(lat_corners.shape, lon_corners.shape)\n",
    "\n",
    "build_grid_netcdf(lat_corners, lon_corners, lat_centers, lon_centers, 'FUEL_LOADING_GRID')"
   ]
  },
  {
   "cell_type": "markdown",
   "id": "2addddc2",
   "metadata": {
    "heading_collapsed": true
   },
   "source": [
    "## Fuel Loading by FWI Grid"
   ]
  },
  {
   "cell_type": "code",
   "execution_count": null,
   "id": "41bbb18d",
   "metadata": {
    "hidden": true
   },
   "outputs": [],
   "source": [
    "path_fuel_loading = '/data2/lthapa/FCCS_Fuel_Fire_Danger_Metric_LonLat.nc'\n",
    "dat_fuel_loading = xr.open_dataset(path_fuel_loading) #in albers_conical_equal_area projection\n",
    "#print(dat_fuel_loading)\n",
    "\n",
    "lat = dat_fuel_loading['lat'].values #88713\n",
    "lon = dat_fuel_loading['lon'].values #192676\n",
    "print(lat.shape,lon.shape)\n",
    "\n",
    "\n",
    "#drop the outer ring of lat/lons\n",
    "lat_sub = lat[1:lat.shape[0]-1] #88711\n",
    "lon_sub = lon[1:lon.shape[0]-1] #192674\n",
    "print(lat_sub.shape,lon_sub.shape)\n",
    "\n",
    "#calculate the grid centers\n",
    "lon_centers, lat_centers = np.meshgrid(lon_sub, lat_sub) #these are 35x37\n",
    "print(lon_centers.shape)\n",
    "\n",
    "#lat_corners, lon_corners = calculate_grid_cell_corners(lat, lon) #these are 3214x5550\n",
    "#print(lat_corners.shape, lon_corners.shape)\n",
    "\n",
    "#build_grid_netcdf(lat_corners, lon_corners, lat_centers, lon_centers, 'FUEL_LOADING_GRID')"
   ]
  },
  {
   "cell_type": "code",
   "execution_count": null,
   "id": "261be57e",
   "metadata": {
    "hidden": true
   },
   "outputs": [],
   "source": [
    "from PIL import Image \n",
    "Image.MAX_IMAGE_PIXELS = 16000000000 "
   ]
  },
  {
   "cell_type": "code",
   "execution_count": null,
   "id": "c596a9ac",
   "metadata": {
    "hidden": true
   },
   "outputs": [],
   "source": [
    "im = Image.open('/data2/lthapa/FCCS_Fuel_Fire_Danger_Metric.tif')\n",
    "imarray = np.array(im)"
   ]
  },
  {
   "cell_type": "code",
   "execution_count": null,
   "id": "dc119991",
   "metadata": {
    "hidden": true
   },
   "outputs": [],
   "source": []
  },
  {
   "cell_type": "markdown",
   "id": "36641dc3",
   "metadata": {},
   "source": [
    "## Helper Function"
   ]
  },
  {
   "cell_type": "code",
   "execution_count": 2,
   "id": "ec9ee669",
   "metadata": {
    "code_folding": []
   },
   "outputs": [],
   "source": [
    "#LAT and LON are 2d arrays\n",
    "def calculate_grid_cell_corners(LAT, LON):\n",
    "    #we will assume the very edges of the polygons don't touch the boundary of the domain\n",
    "    lat_corners = (LAT[0:(LAT.shape[0]-1),  0:(LAT.shape[1])-1] + LAT[1:(LAT.shape[0]), 1:(LAT.shape[1])])/2\n",
    "    lon_corners = (LON[0:(LAT.shape[0]-1),  0:(LAT.shape[1])-1] + LON[1:(LAT.shape[0]), 1:(LAT.shape[1])])/2\n",
    "    return lat_corners, lon_corners"
   ]
  },
  {
   "cell_type": "code",
   "execution_count": 3,
   "id": "439559a6",
   "metadata": {
    "code_folding": []
   },
   "outputs": [],
   "source": [
    "#makes and saves a geodataframe of a grid given the center and corner points for that grid as 2D matrices\n",
    "def build_one_gridcell(LAT_COR, LON_COR, LAT_CTR, LON_CTR, ii,jj):\n",
    "    #print(ii,jj,count)\n",
    "    #print(LAT_CTR[ii,jj], LON_CTR[ii,jj]) #ctr\n",
    "    sw = (LON_COR[ii, jj],LAT_COR[ii, jj]) #SW\n",
    "    se =(LON_COR[ii, jj+1],LAT_COR[ii, jj+1]) #SE\n",
    "    nw = (LON_COR[ii+1, jj],LAT_COR[ii+1, jj]) #NW\n",
    "    ne = (LON_COR[ii+1, jj+1],LAT_COR[ii+1, jj+1]) #NE\n",
    "            \n",
    "    poly_cell = Polygon([sw,nw,ne,se])\n",
    "    \n",
    "    return LAT_CTR[ii,jj], LON_CTR[ii,jj],ii,jj,poly_cell"
   ]
  },
  {
   "cell_type": "code",
   "execution_count": 4,
   "id": "3ec3ecf3",
   "metadata": {
    "code_folding": []
   },
   "outputs": [],
   "source": [
    "#makes and saves a geodataframe of a grid given the center and corner points for that grid as 2D matrices\n",
    "def build_grid_gdf(LAT_COR, LON_COR, LAT_CTR, LON_CTR, filename):\n",
    "    #loop over the centers\n",
    "    nrows = LAT_CTR.shape[0]\n",
    "    ncols = LAT_CTR.shape[1]\n",
    "    print(nrows, ncols)\n",
    "\n",
    "    #preallocate the dataframe\n",
    "    df_size = nrows*ncols\n",
    "    df_grid = gpd.GeoDataFrame({'lat': np.zeros(df_size), \n",
    "                                'lon': np.zeros(df_size),\n",
    "                                'row':np.zeros(df_size),\n",
    "                                'col':np.zeros(df_size),\n",
    "                                'geometry':np.zeros(df_size)})\n",
    "\n",
    "    count=0\n",
    "    for ii in range(nrows):\n",
    "        for jj in range(ncols):\n",
    "            #print(ii,jj,count)\n",
    "            #print(LAT_CTR[ii,jj], LON_CTR[ii,jj]) #ctr\n",
    "            sw = (LON_COR[ii, jj],LAT_COR[ii, jj]) #SW\n",
    "            se =(LON_COR[ii, jj+1],LAT_COR[ii, jj+1]) #SE\n",
    "            nw = (LON_COR[ii+1, jj],LAT_COR[ii+1, jj]) #NW\n",
    "            ne = (LON_COR[ii+1, jj+1],LAT_COR[ii+1, jj+1]) #NE\n",
    "            \n",
    "            poly_cell = Polygon([sw,nw,ne,se])\n",
    "            df_grid.iloc[count,:] = [LAT_CTR[ii,jj], LON_CTR[ii,jj],ii,jj,poly_cell]\n",
    "\n",
    "            \n",
    "            count=count+1\n",
    "    print(df_grid)\n",
    "    df_grid.set_geometry(col='geometry', inplace=True)\n",
    "    df_grid.to_file(filename+'.geojson', driver='GeoJSON')"
   ]
  },
  {
   "cell_type": "code",
   "execution_count": 5,
   "id": "a60589e7",
   "metadata": {},
   "outputs": [],
   "source": [
    "#makes and saves a geodataframe of a grid given the center and corner points for that grid as 2D matrices\n",
    "def build_grid_netcdf(LAT_COR, LON_COR, LAT_CTR, LON_CTR, filename):\n",
    "    #loop over the centers\n",
    "    nrows_center = LAT_CTR.shape[0]\n",
    "    ncols_center = LAT_CTR.shape[1]\n",
    "    print(nrows_center, ncols_center)\n",
    "\n",
    "    nrows_corner = LAT_COR.shape[0]\n",
    "    ncols_corner = LAT_COR.shape[1]\n",
    "    print(nrows_corner,ncols_corner)\n",
    "    \n",
    "    rows_ctr = np.arange(nrows_center)\n",
    "    cols_ctr = np.arange(ncols_center)\n",
    "    rows_cor = np.arange(nrows_corner)\n",
    "    cols_cor = np.arange(ncols_corner)\n",
    "\n",
    "    \n",
    "    dat_grid = xr.Dataset(\n",
    "        data_vars = dict(\n",
    "            LAT_CTR=(['rows_ctr','cols_ctr'],LAT_CTR),\n",
    "            LON_CTR=(['rows_ctr','cols_ctr'],LON_CTR),\n",
    "            LAT_COR=(['rows_cor','cols_cor'],LAT_COR),\n",
    "            LON_COR=(['rows_cor','cols_cor'],LON_COR),\n",
    "        ),\n",
    "        \n",
    "        coords = dict(\n",
    "            rows_ctr =(['rows_ctr'],rows_ctr),\n",
    "            cols_ctr =(['cols_ctr'],cols_ctr),\n",
    "            rows_cor =(['rows_cor'],rows_cor),\n",
    "            cols_cor =(['cols_cor'],cols_cor),\n",
    "        \n",
    "        )\n",
    "        \n",
    "    )\n",
    "    print(dat_grid)\n",
    "    dat_grid.to_netcdf(filename+'.nc')"
   ]
  },
  {
   "cell_type": "code",
   "execution_count": null,
   "id": "b55d5c1f",
   "metadata": {},
   "outputs": [],
   "source": []
  }
 ],
 "metadata": {
  "kernelspec": {
   "display_name": "Python 3",
   "language": "python",
   "name": "python3"
  },
  "language_info": {
   "codemirror_mode": {
    "name": "ipython",
    "version": 3
   },
   "file_extension": ".py",
   "mimetype": "text/x-python",
   "name": "python",
   "nbconvert_exporter": "python",
   "pygments_lexer": "ipython3",
   "version": "3.7.6"
  }
 },
 "nbformat": 4,
 "nbformat_minor": 5
}
